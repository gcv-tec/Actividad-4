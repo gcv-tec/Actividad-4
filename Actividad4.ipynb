{
  "nbformat": 4,
  "nbformat_minor": 0,
  "metadata": {
    "colab": {
      "provenance": [],
      "include_colab_link": true
    },
    "kernelspec": {
      "name": "python3",
      "display_name": "Python 3"
    },
    "language_info": {
      "name": "python"
    }
  },
  "cells": [
    {
      "cell_type": "markdown",
      "metadata": {
        "id": "view-in-github",
        "colab_type": "text"
      },
      "source": [
        "<a href=\"https://colab.research.google.com/github/Thealansan/Actividad4/blob/main/Actividad4.ipynb\" target=\"_parent\"><img src=\"https://colab.research.google.com/assets/colab-badge.svg\" alt=\"Open In Colab\"/></a>"
      ]
    },
    {
      "cell_type": "code",
      "execution_count": 203,
      "metadata": {
        "id": "InHb6R_IItg6"
      },
      "outputs": [],
      "source": [
        "#Importamos las librerias pandas, numpy y matplotlib respectivamente\n",
        "import pandas as pd\n",
        "import numpy as np\n",
        "import matplotlib.pyplot as plt\n",
        "import scipy.special as special\n",
        "from scipy.optimize import curve_fit\n",
        "import seaborn as sns\n",
        "from sklearn.metrics import r2_score\n",
        "from sklearn.model_selection import train_test_split\n",
        "from sklearn.preprocessing import StandardScaler"
      ]
    },
    {
      "cell_type": "code",
      "source": [
        "#Cargar archivo csv desde equipo\n",
        "from google.colab import files\n",
        "files.upload()"
      ],
      "metadata": {
        "id": "4THscbQuJyXX"
      },
      "execution_count": null,
      "outputs": []
    },
    {
      "cell_type": "code",
      "source": [
        "#Carga desde un archivo .csv sin indice\n",
        "Retailer= pd.read_excel('microretailer_mit_lift_lab_actualizado.xlsx')"
      ],
      "metadata": {
        "id": "GKi-jPhEJ0bQ"
      },
      "execution_count": 205,
      "outputs": []
    },
    {
      "cell_type": "code",
      "source": [
        "#Verificamos información del Dataframe\n",
        "Retailer.info()"
      ],
      "metadata": {
        "id": "j1g9wdrlJ2Ya"
      },
      "execution_count": null,
      "outputs": []
    },
    {
      "cell_type": "code",
      "source": [
        "#Creamos copia del dataframe\n",
        "data1=Retailer.copy()\n",
        "data1"
      ],
      "metadata": {
        "id": "mK9JBnm8J4BK"
      },
      "execution_count": null,
      "outputs": []
    },
    {
      "cell_type": "markdown",
      "source": [
        "**PREPROCESAMIENTO DE DATOS**"
      ],
      "metadata": {
        "id": "4mCoFssnLG5r"
      }
    },
    {
      "cell_type": "markdown",
      "source": [
        "**Valores nulos**"
      ],
      "metadata": {
        "id": "99Eq66S4LJzK"
      }
    },
    {
      "cell_type": "code",
      "source": [
        "#Identificar valores nulos por columna\n",
        "valores_nulos=data1.isnull().sum()\n",
        "valores_nulos"
      ],
      "metadata": {
        "id": "m358x3FjJ7LV"
      },
      "execution_count": null,
      "outputs": []
    },
    {
      "cell_type": "code",
      "source": [
        "#Realizamos una copia del dataframe\n",
        "data2=data1.copy()"
      ],
      "metadata": {
        "id": "Jt-nbyuSJ7-E"
      },
      "execution_count": 209,
      "outputs": []
    },
    {
      "cell_type": "code",
      "source": [
        "#Utilizamos un metodo con el que sustituimos los valores nulos que esten por detras de valores no nulos por ese mismo valor\n",
        "data2= data1.fillna(method=\"bfill\")\n",
        "data2"
      ],
      "metadata": {
        "id": "kDZvV_TMJ8Av"
      },
      "execution_count": null,
      "outputs": []
    },
    {
      "cell_type": "code",
      "source": [
        "#Corroboramos valores nulos\n",
        "valores_nulos=data2.isnull().sum()\n",
        "valores_nulos"
      ],
      "metadata": {
        "id": "rft-kDQhJ8C-"
      },
      "execution_count": null,
      "outputs": []
    },
    {
      "cell_type": "code",
      "source": [
        "#Debido a que todavia nos quedan unos cuantos valores nulos en el dataframe, utilizamos el metodo \"ffill\" para cambiar los valores nulos que esten delante de un valore no nulo para cambiarlo por el mismo valor\n",
        "data3= data2.fillna(method='ffill')\n",
        "data3"
      ],
      "metadata": {
        "id": "56LdWtReJ8FY"
      },
      "execution_count": null,
      "outputs": []
    },
    {
      "cell_type": "code",
      "source": [
        "#Corroboramos valores nulos\n",
        "valores_nulos=data3.isnull().sum()\n",
        "valores_nulos"
      ],
      "metadata": {
        "id": "jcFTHFqMJ8H5"
      },
      "execution_count": null,
      "outputs": []
    },
    {
      "cell_type": "code",
      "source": [
        "#En caso de que resten unos cuantos valores nulos en el dataframe, utilizamos el metodo de cambiar los valores nulos por un string en concreto para seguridad\n",
        "data4= data3.fillna('no valido')\n",
        "data4"
      ],
      "metadata": {
        "id": "w-QIequwJ8K2"
      },
      "execution_count": null,
      "outputs": []
    },
    {
      "cell_type": "markdown",
      "source": [
        "**Outliers**"
      ],
      "metadata": {
        "id": "wmD1SOD5LOO0"
      }
    },
    {
      "cell_type": "code",
      "source": [
        "#Creamos otra copia del dataframe\n",
        "data5=data4.copy()"
      ],
      "metadata": {
        "id": "kkMF99XoKGO9"
      },
      "execution_count": 215,
      "outputs": []
    },
    {
      "cell_type": "code",
      "source": [
        "#Realizamos un filtro por filas donde se incluyan unicamente los valores cuantitativos\n",
        "cuantitativas=data5.iloc[:,[13,14,16,21,22,29,31,33,42,49,51,56,57,58,59,60,78,90]] #filas no consecutivas\n",
        "cuantitativas"
      ],
      "metadata": {
        "id": "dc88322tKGRr"
      },
      "execution_count": null,
      "outputs": []
    },
    {
      "cell_type": "code",
      "source": [
        "#Realizamos un filtro por filas donde se incluyan unicamente los valores cualitativas\n",
        "cualitativas=data2.iloc[:,[0,1,2,3,4,5,6,7,8,9,10,11,12,15,17,18,19,20,23,24,25,26,27,28,30,32,34,35,36,37,38,39,40,41,42,43,44,45,46,47,48,50,52,53,54,55,61,62,63,64,65,66,67,68,69,70,71,72,73,74,75,76,77,79,80,81,82,83,84,85,86,87,88,89,91,92,93,94,95,96,97,98,99,100,101,102,103,104,105]] #filas no consecutivas\n",
        "cualitativas"
      ],
      "metadata": {
        "id": "wsy8xNShKGUC"
      },
      "execution_count": null,
      "outputs": []
    },
    {
      "cell_type": "code",
      "source": [
        "#Corroboramos valores nulos\n",
        "valores_nulos=cuantitativas.isnull().sum()\n",
        "valores_nulos"
      ],
      "metadata": {
        "id": "Lz69qz3IKGWx"
      },
      "execution_count": null,
      "outputs": []
    },
    {
      "cell_type": "code",
      "source": [
        "#Aplicanmos desviación estandar para encontrar valores extremos\n",
        "y=cuantitativas\n",
        "Limite_Superior= y.mean() +3*y.std()\n",
        "Limite_Inferior= y.mean() -3*y.std()\n",
        "print(\"Limite superior permitido\", Limite_Superior)\n",
        "print(\"Limite inferior permitido\", Limite_Inferior)"
      ],
      "metadata": {
        "id": "xyyflkUuKGZc"
      },
      "execution_count": null,
      "outputs": []
    },
    {
      "cell_type": "code",
      "source": [
        "#Encontramos Outliers del Dataframe\n",
        "outliers= cuantitativas[(y>Limite_Superior)|(y<Limite_Inferior)]\n",
        "outliers"
      ],
      "metadata": {
        "id": "1HeJnPZdKGb3"
      },
      "execution_count": null,
      "outputs": []
    },
    {
      "cell_type": "code",
      "source": [
        "#Obtenemos datos limpios\n",
        "data5= cuantitativas[(y<=Limite_Superior)&(y>=Limite_Inferior)]\n",
        "data5"
      ],
      "metadata": {
        "id": "wPhZAy2dKRfG"
      },
      "execution_count": null,
      "outputs": []
    },
    {
      "cell_type": "code",
      "source": [
        "#Revisamos valores atípicos (nulos) del dataframe4\n",
        "valores_nulos=data5.isnull().sum()\n",
        "valores_nulos"
      ],
      "metadata": {
        "id": "Jd5lptSsKRhk"
      },
      "execution_count": null,
      "outputs": []
    },
    {
      "cell_type": "code",
      "source": [
        "#Reemplazamos valores atípicos (nulos) del dataframe con \"mean\"\n",
        "#Realizamos una copia del dataframe\n",
        "data_clean=data5.copy()\n",
        "data_clean=data_clean.fillna(round(data3.mean(),1))\n",
        "data_clean"
      ],
      "metadata": {
        "id": "x8OHOyTMKRkL"
      },
      "execution_count": null,
      "outputs": []
    },
    {
      "cell_type": "code",
      "source": [
        "#Corroboramos valores nulos del dataframe LIMPIO\n",
        "valores_nulos=data_clean.isnull().sum()\n",
        "valores_nulos"
      ],
      "metadata": {
        "id": "d1jiQ_5sKRmj"
      },
      "execution_count": null,
      "outputs": []
    },
    {
      "cell_type": "code",
      "source": [
        "#Unimos las columnas cuantitativas y cualitativas en un mismo dataframe\n",
        "Datos_limpios = pd.concat([cualitativas, data_clean], axis=1)\n",
        "Datos_limpios"
      ],
      "metadata": {
        "id": "7JiU3zliKRpC"
      },
      "execution_count": null,
      "outputs": []
    },
    {
      "cell_type": "code",
      "source": [
        "#Convertir Dataframe a CSV\n",
        "Datos_limpios.to_csv(\"Datos_limpios_Micro_retailer_actualizado.csv\")"
      ],
      "metadata": {
        "id": "1hzAHG6VKaDt"
      },
      "execution_count": 226,
      "outputs": []
    },
    {
      "cell_type": "code",
      "source": [
        "#descargar archivo filtrado en csv\n",
        "from google.colab import files\n",
        "\n",
        "files.download(\"Datos_limpios_Micro_retailer_actualizado.csv\")"
      ],
      "metadata": {
        "id": "QQt9AS_MKaGY",
        "colab": {
          "base_uri": "https://localhost:8080/",
          "height": 17
        },
        "outputId": "e67f881a-499a-4458-acb1-f19de5b794c9"
      },
      "execution_count": 227,
      "outputs": [
        {
          "output_type": "display_data",
          "data": {
            "text/plain": [
              "<IPython.core.display.Javascript object>"
            ],
            "application/javascript": [
              "\n",
              "    async function download(id, filename, size) {\n",
              "      if (!google.colab.kernel.accessAllowed) {\n",
              "        return;\n",
              "      }\n",
              "      const div = document.createElement('div');\n",
              "      const label = document.createElement('label');\n",
              "      label.textContent = `Downloading \"${filename}\": `;\n",
              "      div.appendChild(label);\n",
              "      const progress = document.createElement('progress');\n",
              "      progress.max = size;\n",
              "      div.appendChild(progress);\n",
              "      document.body.appendChild(div);\n",
              "\n",
              "      const buffers = [];\n",
              "      let downloaded = 0;\n",
              "\n",
              "      const channel = await google.colab.kernel.comms.open(id);\n",
              "      // Send a message to notify the kernel that we're ready.\n",
              "      channel.send({})\n",
              "\n",
              "      for await (const message of channel.messages) {\n",
              "        // Send a message to notify the kernel that we're ready.\n",
              "        channel.send({})\n",
              "        if (message.buffers) {\n",
              "          for (const buffer of message.buffers) {\n",
              "            buffers.push(buffer);\n",
              "            downloaded += buffer.byteLength;\n",
              "            progress.value = downloaded;\n",
              "          }\n",
              "        }\n",
              "      }\n",
              "      const blob = new Blob(buffers, {type: 'application/binary'});\n",
              "      const a = document.createElement('a');\n",
              "      a.href = window.URL.createObjectURL(blob);\n",
              "      a.download = filename;\n",
              "      div.appendChild(a);\n",
              "      a.click();\n",
              "      div.remove();\n",
              "    }\n",
              "  "
            ]
          },
          "metadata": {}
        },
        {
          "output_type": "display_data",
          "data": {
            "text/plain": [
              "<IPython.core.display.Javascript object>"
            ],
            "application/javascript": [
              "download(\"download_22e979ad-0e09-4c08-b320-d76b1655e489\", \"Datos_limpios_Micro_retailer_actualizado.csv\", 515960)"
            ]
          },
          "metadata": {}
        }
      ]
    },
    {
      "cell_type": "markdown",
      "source": [
        "**ACTIVIDAD 4**"
      ],
      "metadata": {
        "id": "DzSs7uZ9LYuU"
      }
    },
    {
      "cell_type": "markdown",
      "source": [
        "**Regresión lineal**"
      ],
      "metadata": {
        "id": "pM7-nzWoK0IU"
      }
    },
    {
      "cell_type": "code",
      "source": [
        "#Cargar archivo csv desde equipo\n",
        "from google.colab import files\n",
        "files.upload()"
      ],
      "metadata": {
        "id": "GGtgbEniLeq8"
      },
      "execution_count": null,
      "outputs": []
    },
    {
      "cell_type": "code",
      "source": [
        "#Carga desde un archivo .csv sin indice\n",
        "df= pd.read_csv('Datos_limpios_Micro_retailer_actualizado.csv')"
      ],
      "metadata": {
        "id": "SQA8sF_JM01u"
      },
      "execution_count": 229,
      "outputs": []
    },
    {
      "cell_type": "markdown",
      "source": [
        "1"
      ],
      "metadata": {
        "id": "K5ngQ4KUy-FQ"
      }
    },
    {
      "cell_type": "code",
      "source": [
        "#Se grafican mapas de dispersion de las 3 variables: '97_number_of_customers_in_store', '2_current_permanent_employees' y '145_number_direct_competitors'\n",
        "from turtle import color\n",
        "\n",
        "sns.scatterplot(x='103_number_own_fridges', y='268_number_fridges', color='blue', data=df)\n",
        "sns.scatterplot(x='172_supplier_frequency', y='268_number_fridges', color='red', data=df)\n",
        "sns.scatterplot(x='145_number_direct_competitors', y='268_number_fridges', color='yellow', data=df)"
      ],
      "metadata": {
        "id": "GaIF7akQL-xO"
      },
      "execution_count": null,
      "outputs": []
    },
    {
      "cell_type": "code",
      "source": [
        "#Declaramos las variables dependientes e independientes para la regresión lineal.\n",
        "#Vars_Indep= df[['alcohol', 'speeding', 'no_previous']]\n",
        "Vars_Indep= df[['103_number_own_fridges', '172_supplier_frequency', '145_number_direct_competitors']]\n",
        "Var_Dep= df['268_number_fridges']"
      ],
      "metadata": {
        "id": "T1xiVvGRL-4x"
      },
      "execution_count": 231,
      "outputs": []
    },
    {
      "cell_type": "code",
      "source": [
        "#Se define model como la función de regresión lineal\n",
        "from sklearn.linear_model import LinearRegression\n",
        "model= LinearRegression()"
      ],
      "metadata": {
        "id": "XCwyluIjL-8N"
      },
      "execution_count": 232,
      "outputs": []
    },
    {
      "cell_type": "code",
      "source": [
        "#Verificamos la funcion relacionada al modelo\n",
        "type(model)"
      ],
      "metadata": {
        "id": "Wj_vXrKQRI6A",
        "colab": {
          "base_uri": "https://localhost:8080/"
        },
        "outputId": "d72ee14b-5021-4401-e567-f3a1843e9901"
      },
      "execution_count": 233,
      "outputs": [
        {
          "output_type": "execute_result",
          "data": {
            "text/plain": [
              "sklearn.linear_model._base.LinearRegression"
            ]
          },
          "metadata": {},
          "execution_count": 233
        }
      ]
    },
    {
      "cell_type": "code",
      "source": [
        "#Ajustamos el modelo con las variables antes declaradas\n",
        "model.fit(X=Vars_Indep, y=Var_Dep)"
      ],
      "metadata": {
        "id": "xTszXUyaRI82",
        "colab": {
          "base_uri": "https://localhost:8080/"
        },
        "outputId": "2878c1d2-1092-4dd1-ca91-eab875362bec"
      },
      "execution_count": 234,
      "outputs": [
        {
          "output_type": "execute_result",
          "data": {
            "text/plain": [
              "LinearRegression()"
            ]
          },
          "metadata": {},
          "execution_count": 234
        }
      ]
    },
    {
      "cell_type": "code",
      "source": [
        "#Verificamos los coeficientes obtenidos para el modelo ajustado\n",
        "model.__dict__"
      ],
      "metadata": {
        "id": "RyUqpchSRI_W",
        "colab": {
          "base_uri": "https://localhost:8080/"
        },
        "outputId": "c54e8e26-24af-4296-b82f-6ff71d94e5f4"
      },
      "execution_count": 235,
      "outputs": [
        {
          "output_type": "execute_result",
          "data": {
            "text/plain": [
              "{'fit_intercept': True,\n",
              " 'normalize': 'deprecated',\n",
              " 'copy_X': True,\n",
              " 'n_jobs': None,\n",
              " 'positive': False,\n",
              " 'feature_names_in_': array(['103_number_own_fridges', '172_supplier_frequency',\n",
              "        '145_number_direct_competitors'], dtype=object),\n",
              " 'n_features_in_': 3,\n",
              " 'coef_': array([0.07666211, 0.08302529, 0.01647015]),\n",
              " '_residues': 993.3450640597509,\n",
              " 'rank_': 3,\n",
              " 'singular_': array([60.18449373, 44.29825716, 29.12940366]),\n",
              " 'intercept_': 0.9549294957397705}"
            ]
          },
          "metadata": {},
          "execution_count": 235
        }
      ]
    },
    {
      "cell_type": "code",
      "source": [
        "#Evaluamos la eficiencia del modelo obtenido por medio del coeficiente R^2 Determinación\n",
        "model.score(Vars_Indep,Var_Dep)"
      ],
      "metadata": {
        "id": "6uju5tKtRJB4",
        "colab": {
          "base_uri": "https://localhost:8080/"
        },
        "outputId": "691c7a06-dc89-4f1e-957f-ab1b8fae7530"
      },
      "execution_count": 236,
      "outputs": [
        {
          "output_type": "execute_result",
          "data": {
            "text/plain": [
              "0.02056001571711341"
            ]
          },
          "metadata": {},
          "execution_count": 236
        }
      ]
    },
    {
      "cell_type": "code",
      "source": [
        "#Predecimos los valores de total de accidentes a partir de las variables: 'alcohol', 'speeding' y 'no_previous' \n",
        "y_pred= model.predict(X=df[['103_number_own_fridges', '172_supplier_frequency', '145_number_direct_competitors']])\n",
        "y_pred"
      ],
      "metadata": {
        "id": "I0vZ_5ALRW8S",
        "colab": {
          "base_uri": "https://localhost:8080/"
        },
        "outputId": "f0ae209c-67dd-4415-91b2-6eb1fb227ec0"
      },
      "execution_count": 237,
      "outputs": [
        {
          "output_type": "execute_result",
          "data": {
            "text/plain": [
              "array([1.43331716, 1.50930473, 1.50930473, 1.50930473, 1.56006427,\n",
              "       1.56006427, 1.56006427, 1.56006427, 1.56006427, 1.05442494,\n",
              "       1.03795479, 1.20333082, 1.18686068, 1.1475572 , 1.46251367,\n",
              "       1.05442494, 1.35291126, 1.1475572 , 1.29646309, 1.24705264,\n",
              "       1.1146169 , 1.19696765, 1.20774916, 1.25715961, 1.24068946,\n",
              "       1.32304021, 1.36234369, 1.23058249, 1.24705264, 1.36369277,\n",
              "       1.84844362, 1.24068946, 1.17039053, 1.17039053, 1.17039053,\n",
              "       1.7717815 , 1.7717815 , 1.7717815 , 1.59584883, 1.59584883,\n",
              "       1.4377355 , 1.51065382, 1.42321019, 1.16402735, 1.16402735,\n",
              "       1.16402735, 1.16402735, 1.13108705, 1.27362976, 1.27362976,\n",
              "       1.30657006, 1.30657006, 1.30657006, 1.30657006, 1.30657006,\n",
              "       1.30657006, 1.30657006, 1.30657006, 1.30657006, 1.30657006,\n",
              "       1.30657006, 1.27362976, 1.19696765, 1.2463781 , 1.1146169 ,\n",
              "       1.1804975 , 1.39528398, 1.21411234, 1.62400003, 1.73929107,\n",
              "       1.67408502, 1.59105973, 1.69055517, 1.69055517, 1.69055517,\n",
              "       1.70702532, 1.12098008, 1.07089509, 1.07089509, 1.07089509,\n",
              "       1.07089509, 1.36870686, 1.36870686, 1.22421931, 1.1146169 ,\n",
              "       1.27931839, 1.27931839, 1.13108705, 1.13108705, 1.27362976,\n",
              "       1.38892081, 1.31225869, 1.27362976, 1.22421931, 1.22421931,\n",
              "       1.29009991, 1.19696765, 1.19696765, 1.2134378 , 1.48976533,\n",
              "       1.44035489, 1.75269197, 1.50623548, 1.7717815 , 1.73884121,\n",
              "       1.73884121, 1.35665505, 1.25715961, 1.27362976, 1.59562395,\n",
              "       1.1146169 , 1.31360778, 1.56268365, 1.1475572 , 1.31293324,\n",
              "       1.20333082, 1.55190214, 1.22047552, 1.08736523, 1.25274127,\n",
              "       1.25274127, 1.25274127, 1.25274127, 1.23058249, 1.23058249,\n",
              "       1.13108705, 1.1475572 , 1.34460324, 1.87569528, 1.87569528,\n",
              "       1.87569528, 1.87569528, 1.87569528, 1.87569528, 1.87569528,\n",
              "       1.87569528, 2.16078071, 2.16078071, 2.16078071, 2.16078071,\n",
              "       1.70080803, 1.66217909, 1.32371475, 1.32371475, 1.32371475,\n",
              "       1.32371475, 1.32371475, 1.32371475, 1.17039053, 1.17039053,\n",
              "       1.38390672, 1.4390058 , 1.60640547, 1.11042344, 1.34040978,\n",
              "       1.36107339, 1.42762853, 1.46056883, 1.85922513, 1.19764219,\n",
              "       1.1475572 , 1.19764219, 1.16402735, 1.27999294, 1.27999294,\n",
              "       1.40037687, 1.40037687, 1.08736523, 1.08736523, 1.66217909,\n",
              "       1.66217909, 1.66217909, 1.67864924, 1.61276864, 1.67864924,\n",
              "       1.61276864, 1.64570894, 1.68943076, 1.78825165, 1.72237106,\n",
              "       1.70590091, 1.73884121, 1.3401849 , 1.3401849 , 1.78825165,\n",
              "       1.22421931, 1.47329518, 1.29009991, 1.53917578, 1.53610653,\n",
              "       1.30350081, 1.56904683, 1.08736523, 1.08736523, 1.08736523,\n",
              "       1.08736523, 1.08736523, 1.07089509, 1.07089509, 1.07089509,\n",
              "       1.07089509, 1.07089509, 1.07089509, 1.07089509, 1.07089509,\n",
              "       1.07089509, 1.81550332, 1.79903317, 1.1475572 , 1.61276864,\n",
              "       1.71158954, 1.24705264, 1.1804975 , 1.64570894, 1.1475572 ,\n",
              "       1.1475572 , 1.62923879, 1.2743043 , 1.2743043 , 1.20774916,\n",
              "       1.20333082, 1.20333082, 1.18686068, 1.18686068, 1.08736523,\n",
              "       1.08736523, 1.05442494, 1.13677568, 1.20265628, 1.13745023,\n",
              "       1.13745023, 1.13745023, 1.15324583, 1.15324583, 1.03795479,\n",
              "       1.27362976, 1.32304021, 1.73884121, 2.00176785, 1.3401849 ,\n",
              "       1.52076079, 1.5767593 , 1.4706758 , 1.4377355 , 1.60378608,\n",
              "       1.29713763, 1.1475572 , 1.51259866, 1.24705264, 1.24705264,\n",
              "       1.24705264, 1.24705264, 1.24705264, 1.24705264, 1.61276864,\n",
              "       1.61276864, 1.61276864, 1.61276864, 1.61276864, 1.61276864,\n",
              "       1.61276864, 1.61276864, 1.61276864, 1.70080803, 1.70080803,\n",
              "       1.70080803, 1.70080803, 1.70080803, 1.70080803, 1.70080803,\n",
              "       1.60857519, 1.38323217, 1.30088143, 1.15392038, 1.15392038,\n",
              "       1.15392038, 1.15392038, 1.25274127, 1.70590091, 1.70590091,\n",
              "       1.70590091, 1.70590091, 1.70590091, 2.08921147, 1.31997096,\n",
              "       1.31997096, 1.31997096, 1.61845728, 1.66786773, 1.58551698,\n",
              "       1.58551698, 1.78315877, 1.78315877, 1.78315877, 1.78315877,\n",
              "       1.78315877, 1.78315877, 1.65139758, 1.65139758, 1.4390058 ,\n",
              "       1.4390058 , 1.4390058 , 1.4390058 , 1.4390058 , 1.35665505,\n",
              "       1.29077445, 1.52135655, 1.22990795, 1.1475572 , 1.1146169 ,\n",
              "       1.1804975 , 1.1475572 , 1.16402735, 1.23058249, 1.1146169 ,\n",
              "       1.27362976, 1.2743043 , 1.25715961, 1.75531136, 1.27362976,\n",
              "       1.20774916, 1.30657006, 1.42321019, 1.60573092, 1.60573092,\n",
              "       1.60573092, 1.60573092, 1.60573092, 1.60573092, 1.60573092])"
            ]
          },
          "metadata": {},
          "execution_count": 237
        }
      ]
    },
    {
      "cell_type": "code",
      "source": [
        "#Insertamos la columna de predicciones en el Dataframe\n",
        "df.insert(0, 'Predicciones', y_pred)\n",
        "df"
      ],
      "metadata": {
        "id": "x3g0lv3sRW_V",
        "colab": {
          "base_uri": "https://localhost:8080/",
          "height": 1000
        },
        "outputId": "0f283b51-51de-406a-fd2c-60b39d9c4e74"
      },
      "execution_count": 238,
      "outputs": [
        {
          "output_type": "execute_result",
          "data": {
            "text/plain": [
              "     Predicciones  Unnamed: 0                            _record_id  \\\n",
              "0        1.433317           0  71326e5f-441e-4be7-bc68-b828973b8e3b   \n",
              "1        1.509305           1  a38b7c68-0afa-4419-a580-7086538b2e21   \n",
              "2        1.509305           2  c11ef540-e06c-4722-a071-09a127ebc23c   \n",
              "3        1.509305           3  c7434cb2-dde0-4901-80d7-3d60506ebd27   \n",
              "4        1.560064           4  3c2177cc-677b-4106-8ed2-6e50f7671a0e   \n",
              "..            ...         ...                                   ...   \n",
              "325      1.605731         325  efe2e285-c67e-4a07-8331-218bc4a7203d   \n",
              "326      1.605731         326  2413f06e-15cc-4a6f-8e83-5224c6824b12   \n",
              "327      1.605731         327  9ff658db-4dc5-48b6-aa0b-5c6668bb6720   \n",
              "328      1.605731         328  e88aa9c1-dc8b-4180-99a1-2e0118ad905d   \n",
              "329      1.605731         329  bf720ff0-3b7d-47ed-ba49-f5d4bfb7293c   \n",
              "\n",
              "                _title       _server_updated_at     _updated_by  \\\n",
              "0    November 17, 2022  2022-11-18 20:48:40 UTC   Uriel Bonilla   \n",
              "1    November 17, 2022  2022-11-18 20:48:39 UTC   Uriel Bonilla   \n",
              "2    November 10, 2022  2022-11-18 20:48:38 UTC   Uriel Bonilla   \n",
              "3    November 10, 2022  2022-11-18 20:48:38 UTC   Uriel Bonilla   \n",
              "4    November 17, 2022  2022-11-18 13:30:19 UTC   Fernando Báez   \n",
              "..                 ...                      ...             ...   \n",
              "325   November 3, 2022  2022-11-03 17:05:23 UTC  Francisco Adán   \n",
              "326   November 3, 2022  2022-11-03 16:50:48 UTC    Emilio Garza   \n",
              "327   November 3, 2022  2022-11-03 16:28:14 UTC    Emilio Garza   \n",
              "328   November 3, 2022  2022-11-03 16:18:37 UTC  Francisco Adán   \n",
              "329   November 3, 2022  2022-11-03 16:15:13 UTC    Emilio Garza   \n",
              "\n",
              "                                         _geometry  _latitude  _longitude  \\\n",
              "0    SRID=4326;POINT(-98.2013790035 19.0439654034)  19.043965  -98.201379   \n",
              "1    SRID=4326;POINT(-98.2016961782 19.0439749111)  19.043975  -98.201696   \n",
              "2    SRID=4326;POINT(-98.1964474585 19.0432999683)  19.043300  -98.196447   \n",
              "3     SRID=4326;POINT(-98.197072078 19.0405699102)  19.040570  -98.197072   \n",
              "4     SRID=4326;POINT(-98.201134218 19.0436743967)  19.043674  -98.201134   \n",
              "..                                             ...        ...         ...   \n",
              "325         SRID=4326;POINT(-98.194174 19.0431876)  19.043188  -98.194174   \n",
              "326  SRID=4326;POINT(-98.1940658722 19.0431145635)  19.043115  -98.194066   \n",
              "327  SRID=4326;POINT(-98.1934387078 19.0428094171)  19.042809  -98.193439   \n",
              "328          SRID=4326;POINT(-98.193818 19.042558)  19.042558  -98.193818   \n",
              "329  SRID=4326;POINT(-98.1937349172 19.0428229892)  19.042823  -98.193735   \n",
              "\n",
              "                                        228_store_name  ...  \\\n",
              "0                               Mini súper 7 hermanos   ...   \n",
              "1                                     Super papas Lulu  ...   \n",
              "2                                      Arte Paquistán   ...   \n",
              "3                                            El vestir  ...   \n",
              "4                                       Antojitos Tony  ...   \n",
              "..                                                 ...  ...   \n",
              "325                                      Xuti Galería   ...   \n",
              "326                                         July Store  ...   \n",
              "327                                          La fonda   ...   \n",
              "328  Birria de Res \"Hermanos Negreros 2\" estilo Tij...  ...   \n",
              "329                          Restaurante el alfeñique   ...   \n",
              "\n",
              "    272_card_days_receive_money.1 276_expected_days_informal_credit  \\\n",
              "0                             0.0                               1.0   \n",
              "1                             0.0                               1.0   \n",
              "2                             0.0                               1.0   \n",
              "3                             0.0                               1.0   \n",
              "4                             0.0                               1.0   \n",
              "..                            ...                               ...   \n",
              "325                           1.0                               2.0   \n",
              "326                           1.0                               2.0   \n",
              "327                           1.0                               2.0   \n",
              "328                           1.0                               2.0   \n",
              "329                           1.0                               2.0   \n",
              "\n",
              "    36_credit_default_rate 315_frequency_topups 316_frequency_utility_bills  \\\n",
              "0                      1.0                 20.0                         2.0   \n",
              "1                      1.0                  7.0                         2.0   \n",
              "2                      1.0                  7.0                         2.0   \n",
              "3                      1.0                  7.0                         2.0   \n",
              "4                      1.0                  7.0                         2.0   \n",
              "..                     ...                  ...                         ...   \n",
              "325                    0.0                  1.0                         7.0   \n",
              "326                    0.0                  1.0                         7.0   \n",
              "327                    0.0                  1.0                         7.0   \n",
              "328                    0.0                  1.0                         7.0   \n",
              "329                    0.0                  1.0                         7.0   \n",
              "\n",
              "    317_home_deliveries 62_frequency_only_services  \\\n",
              "0                   4.0                       10.0   \n",
              "1                   4.0                        0.0   \n",
              "2                   4.0                        0.0   \n",
              "3                   4.0                        0.0   \n",
              "4                   4.0                        0.0   \n",
              "..                  ...                        ...   \n",
              "325                 8.0                        1.0   \n",
              "326                 8.0                        1.0   \n",
              "327                 8.0                        1.0   \n",
              "328                 8.0                        1.0   \n",
              "329                 8.0                        1.0   \n",
              "\n",
              "    78_number_home_deliveries_week 172_supplier_frequency  \\\n",
              "0                              3.0                    2.0   \n",
              "1                              3.0                    1.0   \n",
              "2                              3.0                    1.0   \n",
              "3                              3.0                    1.0   \n",
              "4                              3.0                    3.0   \n",
              "..                             ...                    ...   \n",
              "325                            1.0                    5.0   \n",
              "326                            1.0                    5.0   \n",
              "327                            1.0                    5.0   \n",
              "328                            1.0                    5.0   \n",
              "329                            1.0                    5.0   \n",
              "\n",
              "    163_number_high_perishable_products  \n",
              "0                                  10.0  \n",
              "1                                   0.0  \n",
              "2                                   0.0  \n",
              "3                                   0.0  \n",
              "4                                  30.0  \n",
              "..                                  ...  \n",
              "325                                 0.0  \n",
              "326                                 0.0  \n",
              "327                                 0.0  \n",
              "328                                 0.0  \n",
              "329                                 0.0  \n",
              "\n",
              "[330 rows x 109 columns]"
            ],
            "text/html": [
              "\n",
              "  <div id=\"df-3a8760bc-b152-4cb6-a650-8d6ea6ee7b04\">\n",
              "    <div class=\"colab-df-container\">\n",
              "      <div>\n",
              "<style scoped>\n",
              "    .dataframe tbody tr th:only-of-type {\n",
              "        vertical-align: middle;\n",
              "    }\n",
              "\n",
              "    .dataframe tbody tr th {\n",
              "        vertical-align: top;\n",
              "    }\n",
              "\n",
              "    .dataframe thead th {\n",
              "        text-align: right;\n",
              "    }\n",
              "</style>\n",
              "<table border=\"1\" class=\"dataframe\">\n",
              "  <thead>\n",
              "    <tr style=\"text-align: right;\">\n",
              "      <th></th>\n",
              "      <th>Predicciones</th>\n",
              "      <th>Unnamed: 0</th>\n",
              "      <th>_record_id</th>\n",
              "      <th>_title</th>\n",
              "      <th>_server_updated_at</th>\n",
              "      <th>_updated_by</th>\n",
              "      <th>_geometry</th>\n",
              "      <th>_latitude</th>\n",
              "      <th>_longitude</th>\n",
              "      <th>228_store_name</th>\n",
              "      <th>...</th>\n",
              "      <th>272_card_days_receive_money.1</th>\n",
              "      <th>276_expected_days_informal_credit</th>\n",
              "      <th>36_credit_default_rate</th>\n",
              "      <th>315_frequency_topups</th>\n",
              "      <th>316_frequency_utility_bills</th>\n",
              "      <th>317_home_deliveries</th>\n",
              "      <th>62_frequency_only_services</th>\n",
              "      <th>78_number_home_deliveries_week</th>\n",
              "      <th>172_supplier_frequency</th>\n",
              "      <th>163_number_high_perishable_products</th>\n",
              "    </tr>\n",
              "  </thead>\n",
              "  <tbody>\n",
              "    <tr>\n",
              "      <th>0</th>\n",
              "      <td>1.433317</td>\n",
              "      <td>0</td>\n",
              "      <td>71326e5f-441e-4be7-bc68-b828973b8e3b</td>\n",
              "      <td>November 17, 2022</td>\n",
              "      <td>2022-11-18 20:48:40 UTC</td>\n",
              "      <td>Uriel Bonilla</td>\n",
              "      <td>SRID=4326;POINT(-98.2013790035 19.0439654034)</td>\n",
              "      <td>19.043965</td>\n",
              "      <td>-98.201379</td>\n",
              "      <td>Mini súper 7 hermanos</td>\n",
              "      <td>...</td>\n",
              "      <td>0.0</td>\n",
              "      <td>1.0</td>\n",
              "      <td>1.0</td>\n",
              "      <td>20.0</td>\n",
              "      <td>2.0</td>\n",
              "      <td>4.0</td>\n",
              "      <td>10.0</td>\n",
              "      <td>3.0</td>\n",
              "      <td>2.0</td>\n",
              "      <td>10.0</td>\n",
              "    </tr>\n",
              "    <tr>\n",
              "      <th>1</th>\n",
              "      <td>1.509305</td>\n",
              "      <td>1</td>\n",
              "      <td>a38b7c68-0afa-4419-a580-7086538b2e21</td>\n",
              "      <td>November 17, 2022</td>\n",
              "      <td>2022-11-18 20:48:39 UTC</td>\n",
              "      <td>Uriel Bonilla</td>\n",
              "      <td>SRID=4326;POINT(-98.2016961782 19.0439749111)</td>\n",
              "      <td>19.043975</td>\n",
              "      <td>-98.201696</td>\n",
              "      <td>Super papas Lulu</td>\n",
              "      <td>...</td>\n",
              "      <td>0.0</td>\n",
              "      <td>1.0</td>\n",
              "      <td>1.0</td>\n",
              "      <td>7.0</td>\n",
              "      <td>2.0</td>\n",
              "      <td>4.0</td>\n",
              "      <td>0.0</td>\n",
              "      <td>3.0</td>\n",
              "      <td>1.0</td>\n",
              "      <td>0.0</td>\n",
              "    </tr>\n",
              "    <tr>\n",
              "      <th>2</th>\n",
              "      <td>1.509305</td>\n",
              "      <td>2</td>\n",
              "      <td>c11ef540-e06c-4722-a071-09a127ebc23c</td>\n",
              "      <td>November 10, 2022</td>\n",
              "      <td>2022-11-18 20:48:38 UTC</td>\n",
              "      <td>Uriel Bonilla</td>\n",
              "      <td>SRID=4326;POINT(-98.1964474585 19.0432999683)</td>\n",
              "      <td>19.043300</td>\n",
              "      <td>-98.196447</td>\n",
              "      <td>Arte Paquistán</td>\n",
              "      <td>...</td>\n",
              "      <td>0.0</td>\n",
              "      <td>1.0</td>\n",
              "      <td>1.0</td>\n",
              "      <td>7.0</td>\n",
              "      <td>2.0</td>\n",
              "      <td>4.0</td>\n",
              "      <td>0.0</td>\n",
              "      <td>3.0</td>\n",
              "      <td>1.0</td>\n",
              "      <td>0.0</td>\n",
              "    </tr>\n",
              "    <tr>\n",
              "      <th>3</th>\n",
              "      <td>1.509305</td>\n",
              "      <td>3</td>\n",
              "      <td>c7434cb2-dde0-4901-80d7-3d60506ebd27</td>\n",
              "      <td>November 10, 2022</td>\n",
              "      <td>2022-11-18 20:48:38 UTC</td>\n",
              "      <td>Uriel Bonilla</td>\n",
              "      <td>SRID=4326;POINT(-98.197072078 19.0405699102)</td>\n",
              "      <td>19.040570</td>\n",
              "      <td>-98.197072</td>\n",
              "      <td>El vestir</td>\n",
              "      <td>...</td>\n",
              "      <td>0.0</td>\n",
              "      <td>1.0</td>\n",
              "      <td>1.0</td>\n",
              "      <td>7.0</td>\n",
              "      <td>2.0</td>\n",
              "      <td>4.0</td>\n",
              "      <td>0.0</td>\n",
              "      <td>3.0</td>\n",
              "      <td>1.0</td>\n",
              "      <td>0.0</td>\n",
              "    </tr>\n",
              "    <tr>\n",
              "      <th>4</th>\n",
              "      <td>1.560064</td>\n",
              "      <td>4</td>\n",
              "      <td>3c2177cc-677b-4106-8ed2-6e50f7671a0e</td>\n",
              "      <td>November 17, 2022</td>\n",
              "      <td>2022-11-18 13:30:19 UTC</td>\n",
              "      <td>Fernando Báez</td>\n",
              "      <td>SRID=4326;POINT(-98.201134218 19.0436743967)</td>\n",
              "      <td>19.043674</td>\n",
              "      <td>-98.201134</td>\n",
              "      <td>Antojitos Tony</td>\n",
              "      <td>...</td>\n",
              "      <td>0.0</td>\n",
              "      <td>1.0</td>\n",
              "      <td>1.0</td>\n",
              "      <td>7.0</td>\n",
              "      <td>2.0</td>\n",
              "      <td>4.0</td>\n",
              "      <td>0.0</td>\n",
              "      <td>3.0</td>\n",
              "      <td>3.0</td>\n",
              "      <td>30.0</td>\n",
              "    </tr>\n",
              "    <tr>\n",
              "      <th>...</th>\n",
              "      <td>...</td>\n",
              "      <td>...</td>\n",
              "      <td>...</td>\n",
              "      <td>...</td>\n",
              "      <td>...</td>\n",
              "      <td>...</td>\n",
              "      <td>...</td>\n",
              "      <td>...</td>\n",
              "      <td>...</td>\n",
              "      <td>...</td>\n",
              "      <td>...</td>\n",
              "      <td>...</td>\n",
              "      <td>...</td>\n",
              "      <td>...</td>\n",
              "      <td>...</td>\n",
              "      <td>...</td>\n",
              "      <td>...</td>\n",
              "      <td>...</td>\n",
              "      <td>...</td>\n",
              "      <td>...</td>\n",
              "      <td>...</td>\n",
              "    </tr>\n",
              "    <tr>\n",
              "      <th>325</th>\n",
              "      <td>1.605731</td>\n",
              "      <td>325</td>\n",
              "      <td>efe2e285-c67e-4a07-8331-218bc4a7203d</td>\n",
              "      <td>November 3, 2022</td>\n",
              "      <td>2022-11-03 17:05:23 UTC</td>\n",
              "      <td>Francisco Adán</td>\n",
              "      <td>SRID=4326;POINT(-98.194174 19.0431876)</td>\n",
              "      <td>19.043188</td>\n",
              "      <td>-98.194174</td>\n",
              "      <td>Xuti Galería</td>\n",
              "      <td>...</td>\n",
              "      <td>1.0</td>\n",
              "      <td>2.0</td>\n",
              "      <td>0.0</td>\n",
              "      <td>1.0</td>\n",
              "      <td>7.0</td>\n",
              "      <td>8.0</td>\n",
              "      <td>1.0</td>\n",
              "      <td>1.0</td>\n",
              "      <td>5.0</td>\n",
              "      <td>0.0</td>\n",
              "    </tr>\n",
              "    <tr>\n",
              "      <th>326</th>\n",
              "      <td>1.605731</td>\n",
              "      <td>326</td>\n",
              "      <td>2413f06e-15cc-4a6f-8e83-5224c6824b12</td>\n",
              "      <td>November 3, 2022</td>\n",
              "      <td>2022-11-03 16:50:48 UTC</td>\n",
              "      <td>Emilio Garza</td>\n",
              "      <td>SRID=4326;POINT(-98.1940658722 19.0431145635)</td>\n",
              "      <td>19.043115</td>\n",
              "      <td>-98.194066</td>\n",
              "      <td>July Store</td>\n",
              "      <td>...</td>\n",
              "      <td>1.0</td>\n",
              "      <td>2.0</td>\n",
              "      <td>0.0</td>\n",
              "      <td>1.0</td>\n",
              "      <td>7.0</td>\n",
              "      <td>8.0</td>\n",
              "      <td>1.0</td>\n",
              "      <td>1.0</td>\n",
              "      <td>5.0</td>\n",
              "      <td>0.0</td>\n",
              "    </tr>\n",
              "    <tr>\n",
              "      <th>327</th>\n",
              "      <td>1.605731</td>\n",
              "      <td>327</td>\n",
              "      <td>9ff658db-4dc5-48b6-aa0b-5c6668bb6720</td>\n",
              "      <td>November 3, 2022</td>\n",
              "      <td>2022-11-03 16:28:14 UTC</td>\n",
              "      <td>Emilio Garza</td>\n",
              "      <td>SRID=4326;POINT(-98.1934387078 19.0428094171)</td>\n",
              "      <td>19.042809</td>\n",
              "      <td>-98.193439</td>\n",
              "      <td>La fonda</td>\n",
              "      <td>...</td>\n",
              "      <td>1.0</td>\n",
              "      <td>2.0</td>\n",
              "      <td>0.0</td>\n",
              "      <td>1.0</td>\n",
              "      <td>7.0</td>\n",
              "      <td>8.0</td>\n",
              "      <td>1.0</td>\n",
              "      <td>1.0</td>\n",
              "      <td>5.0</td>\n",
              "      <td>0.0</td>\n",
              "    </tr>\n",
              "    <tr>\n",
              "      <th>328</th>\n",
              "      <td>1.605731</td>\n",
              "      <td>328</td>\n",
              "      <td>e88aa9c1-dc8b-4180-99a1-2e0118ad905d</td>\n",
              "      <td>November 3, 2022</td>\n",
              "      <td>2022-11-03 16:18:37 UTC</td>\n",
              "      <td>Francisco Adán</td>\n",
              "      <td>SRID=4326;POINT(-98.193818 19.042558)</td>\n",
              "      <td>19.042558</td>\n",
              "      <td>-98.193818</td>\n",
              "      <td>Birria de Res \"Hermanos Negreros 2\" estilo Tij...</td>\n",
              "      <td>...</td>\n",
              "      <td>1.0</td>\n",
              "      <td>2.0</td>\n",
              "      <td>0.0</td>\n",
              "      <td>1.0</td>\n",
              "      <td>7.0</td>\n",
              "      <td>8.0</td>\n",
              "      <td>1.0</td>\n",
              "      <td>1.0</td>\n",
              "      <td>5.0</td>\n",
              "      <td>0.0</td>\n",
              "    </tr>\n",
              "    <tr>\n",
              "      <th>329</th>\n",
              "      <td>1.605731</td>\n",
              "      <td>329</td>\n",
              "      <td>bf720ff0-3b7d-47ed-ba49-f5d4bfb7293c</td>\n",
              "      <td>November 3, 2022</td>\n",
              "      <td>2022-11-03 16:15:13 UTC</td>\n",
              "      <td>Emilio Garza</td>\n",
              "      <td>SRID=4326;POINT(-98.1937349172 19.0428229892)</td>\n",
              "      <td>19.042823</td>\n",
              "      <td>-98.193735</td>\n",
              "      <td>Restaurante el alfeñique</td>\n",
              "      <td>...</td>\n",
              "      <td>1.0</td>\n",
              "      <td>2.0</td>\n",
              "      <td>0.0</td>\n",
              "      <td>1.0</td>\n",
              "      <td>7.0</td>\n",
              "      <td>8.0</td>\n",
              "      <td>1.0</td>\n",
              "      <td>1.0</td>\n",
              "      <td>5.0</td>\n",
              "      <td>0.0</td>\n",
              "    </tr>\n",
              "  </tbody>\n",
              "</table>\n",
              "<p>330 rows × 109 columns</p>\n",
              "</div>\n",
              "      <button class=\"colab-df-convert\" onclick=\"convertToInteractive('df-3a8760bc-b152-4cb6-a650-8d6ea6ee7b04')\"\n",
              "              title=\"Convert this dataframe to an interactive table.\"\n",
              "              style=\"display:none;\">\n",
              "        \n",
              "  <svg xmlns=\"http://www.w3.org/2000/svg\" height=\"24px\"viewBox=\"0 0 24 24\"\n",
              "       width=\"24px\">\n",
              "    <path d=\"M0 0h24v24H0V0z\" fill=\"none\"/>\n",
              "    <path d=\"M18.56 5.44l.94 2.06.94-2.06 2.06-.94-2.06-.94-.94-2.06-.94 2.06-2.06.94zm-11 1L8.5 8.5l.94-2.06 2.06-.94-2.06-.94L8.5 2.5l-.94 2.06-2.06.94zm10 10l.94 2.06.94-2.06 2.06-.94-2.06-.94-.94-2.06-.94 2.06-2.06.94z\"/><path d=\"M17.41 7.96l-1.37-1.37c-.4-.4-.92-.59-1.43-.59-.52 0-1.04.2-1.43.59L10.3 9.45l-7.72 7.72c-.78.78-.78 2.05 0 2.83L4 21.41c.39.39.9.59 1.41.59.51 0 1.02-.2 1.41-.59l7.78-7.78 2.81-2.81c.8-.78.8-2.07 0-2.86zM5.41 20L4 18.59l7.72-7.72 1.47 1.35L5.41 20z\"/>\n",
              "  </svg>\n",
              "      </button>\n",
              "      \n",
              "  <style>\n",
              "    .colab-df-container {\n",
              "      display:flex;\n",
              "      flex-wrap:wrap;\n",
              "      gap: 12px;\n",
              "    }\n",
              "\n",
              "    .colab-df-convert {\n",
              "      background-color: #E8F0FE;\n",
              "      border: none;\n",
              "      border-radius: 50%;\n",
              "      cursor: pointer;\n",
              "      display: none;\n",
              "      fill: #1967D2;\n",
              "      height: 32px;\n",
              "      padding: 0 0 0 0;\n",
              "      width: 32px;\n",
              "    }\n",
              "\n",
              "    .colab-df-convert:hover {\n",
              "      background-color: #E2EBFA;\n",
              "      box-shadow: 0px 1px 2px rgba(60, 64, 67, 0.3), 0px 1px 3px 1px rgba(60, 64, 67, 0.15);\n",
              "      fill: #174EA6;\n",
              "    }\n",
              "\n",
              "    [theme=dark] .colab-df-convert {\n",
              "      background-color: #3B4455;\n",
              "      fill: #D2E3FC;\n",
              "    }\n",
              "\n",
              "    [theme=dark] .colab-df-convert:hover {\n",
              "      background-color: #434B5C;\n",
              "      box-shadow: 0px 1px 3px 1px rgba(0, 0, 0, 0.15);\n",
              "      filter: drop-shadow(0px 1px 2px rgba(0, 0, 0, 0.3));\n",
              "      fill: #FFFFFF;\n",
              "    }\n",
              "  </style>\n",
              "\n",
              "      <script>\n",
              "        const buttonEl =\n",
              "          document.querySelector('#df-3a8760bc-b152-4cb6-a650-8d6ea6ee7b04 button.colab-df-convert');\n",
              "        buttonEl.style.display =\n",
              "          google.colab.kernel.accessAllowed ? 'block' : 'none';\n",
              "\n",
              "        async function convertToInteractive(key) {\n",
              "          const element = document.querySelector('#df-3a8760bc-b152-4cb6-a650-8d6ea6ee7b04');\n",
              "          const dataTable =\n",
              "            await google.colab.kernel.invokeFunction('convertToInteractive',\n",
              "                                                     [key], {});\n",
              "          if (!dataTable) return;\n",
              "\n",
              "          const docLinkHtml = 'Like what you see? Visit the ' +\n",
              "            '<a target=\"_blank\" href=https://colab.research.google.com/notebooks/data_table.ipynb>data table notebook</a>'\n",
              "            + ' to learn more about interactive tables.';\n",
              "          element.innerHTML = '';\n",
              "          dataTable['output_type'] = 'display_data';\n",
              "          await google.colab.output.renderOutput(dataTable, element);\n",
              "          const docLink = document.createElement('div');\n",
              "          docLink.innerHTML = docLinkHtml;\n",
              "          element.appendChild(docLink);\n",
              "        }\n",
              "      </script>\n",
              "    </div>\n",
              "  </div>\n",
              "  "
            ]
          },
          "metadata": {},
          "execution_count": 238
        }
      ]
    },
    {
      "cell_type": "code",
      "source": [
        "#Visualizamos la gráfica comparativa entre el total real y el total predecido\n",
        "\n",
        "sns.scatterplot(x= '103_number_own_fridges', y= '268_number_fridges', color= 'blue', data=df)\n",
        "sns.scatterplot(x= '103_number_own_fridges', y= 'Predicciones', color= 'red', data=df)"
      ],
      "metadata": {
        "id": "sXjPC1tBRXCT",
        "colab": {
          "base_uri": "https://localhost:8080/",
          "height": 297
        },
        "outputId": "ed8b58c8-9674-457b-bda4-1175bf666c4a"
      },
      "execution_count": 239,
      "outputs": [
        {
          "output_type": "execute_result",
          "data": {
            "text/plain": [
              "<matplotlib.axes._subplots.AxesSubplot at 0x7f6bc9c07390>"
            ]
          },
          "metadata": {},
          "execution_count": 239
        },
        {
          "output_type": "display_data",
          "data": {
            "text/plain": [
              "<Figure size 432x288 with 1 Axes>"
            ],
            "image/png": "[encoded data removed]"
          },
          "metadata": {
            "needs_background": "light"
          }
        }
      ]
    },
    {
      "cell_type": "code",
      "source": [
        "#Visualizamos la gráfica comparativa entre el total real y el total predecido\n",
        "\n",
        "sns.scatterplot(x= '172_supplier_frequency', y= '268_number_fridges', color= 'blue', data=df)\n",
        "sns.scatterplot(x= '172_supplier_frequency', y= 'Predicciones', color= 'red', data=df)"
      ],
      "metadata": {
        "id": "YDEuUapjRXE_",
        "colab": {
          "base_uri": "https://localhost:8080/",
          "height": 297
        },
        "outputId": "d220d3de-be41-4ae2-d9d3-9afac8a2fe7a"
      },
      "execution_count": 240,
      "outputs": [
        {
          "output_type": "execute_result",
          "data": {
            "text/plain": [
              "<matplotlib.axes._subplots.AxesSubplot at 0x7f6bc9b72d90>"
            ]
          },
          "metadata": {},
          "execution_count": 240
        },
        {
          "output_type": "display_data",
          "data": {
            "text/plain": [
              "<Figure size 432x288 with 1 Axes>"
            ],
            "image/png": "[encoded data removed]"
          },
          "metadata": {
            "needs_background": "light"
          }
        }
      ]
    },
    {
      "cell_type": "code",
      "source": [
        "#Visualizamos la gráfica comparativa entre el total real y el total predecido\n",
        "\n",
        "sns.scatterplot(x= '145_number_direct_competitors', y= '268_number_fridges', color= 'blue', data=df)\n",
        "sns.scatterplot(x= '145_number_direct_competitors', y= 'Predicciones', color= 'red', data=df)"
      ],
      "metadata": {
        "id": "Qh1AUdQkRzgG",
        "colab": {
          "base_uri": "https://localhost:8080/",
          "height": 297
        },
        "outputId": "3ffe7ebb-0728-46cb-d0b8-7d2ab6af7bdf"
      },
      "execution_count": 241,
      "outputs": [
        {
          "output_type": "execute_result",
          "data": {
            "text/plain": [
              "<matplotlib.axes._subplots.AxesSubplot at 0x7f6bc9d94690>"
            ]
          },
          "metadata": {},
          "execution_count": 241
        },
        {
          "output_type": "display_data",
          "data": {
            "text/plain": [
              "<Figure size 432x288 with 1 Axes>"
            ],
            "image/png": "[encoded data removed]"
          },
          "metadata": {
            "needs_background": "light"
          }
        }
      ]
    },
    {
      "cell_type": "code",
      "source": [
        "#Corroboramos cual es el coeficiente de Determinación de nuestro modelo\n",
        "coef_Deter=model.score(X=Vars_Indep, y=Var_Dep)\n",
        "coef_Deter"
      ],
      "metadata": {
        "id": "aJRE4016SIlt",
        "colab": {
          "base_uri": "https://localhost:8080/"
        },
        "outputId": "35ddd878-e8c9-4d98-bf39-e9e50cb64e28"
      },
      "execution_count": 242,
      "outputs": [
        {
          "output_type": "execute_result",
          "data": {
            "text/plain": [
              "0.02056001571711341"
            ]
          },
          "metadata": {},
          "execution_count": 242
        }
      ]
    },
    {
      "cell_type": "code",
      "source": [
        "#Corroboramos cual es el coeficiente de Correlación de nuestro modelo\n",
        "coef_Correl=np.sqrt(coef_Deter)\n",
        "coef_Correl"
      ],
      "metadata": {
        "id": "5DAM-daXSIoX",
        "colab": {
          "base_uri": "https://localhost:8080/"
        },
        "outputId": "9ba7aa6a-1bf4-4e63-fef3-2e69b8056ebc"
      },
      "execution_count": 243,
      "outputs": [
        {
          "output_type": "execute_result",
          "data": {
            "text/plain": [
              "0.14338764143786387"
            ]
          },
          "metadata": {},
          "execution_count": 243
        }
      ]
    },
    {
      "cell_type": "markdown",
      "source": [
        "2\n"
      ],
      "metadata": {
        "id": "U8CwuqXLzttV"
      }
    },
    {
      "cell_type": "code",
      "source": [
        "#Se grafican mapas de dispersion de las 3 variables: '97_number_of_customers_in_store', '2_current_permanent_employees' y '145_number_direct_competitors'\n",
        "from turtle import color\n",
        "\n",
        "sns.scatterplot(x='103_number_own_fridges', y='268_number_fridges', color='blue', data=df)\n",
        "sns.scatterplot(x='172_supplier_frequency', y='268_number_fridges', color='red', data=df)\n",
        "sns.scatterplot(x='97_number_of_customers_in_store', y='268_number_fridges', color='yellow', data=df)"
      ],
      "metadata": {
        "colab": {
          "base_uri": "https://localhost:8080/",
          "height": 297
        },
        "id": "ihHZAO190aLc",
        "outputId": "ec2fec29-f3af-4ce8-839d-72827e40798d"
      },
      "execution_count": 244,
      "outputs": [
        {
          "output_type": "execute_result",
          "data": {
            "text/plain": [
              "<matplotlib.axes._subplots.AxesSubplot at 0x7f6bc9fea9d0>"
            ]
          },
          "metadata": {},
          "execution_count": 244
        },
        {
          "output_type": "display_data",
          "data": {
            "text/plain": [
              "<Figure size 432x288 with 1 Axes>"
            ],
            "image/png": "[encoded data removed]"
          },
          "metadata": {
            "needs_background": "light"
          }
        }
      ]
    },
    {
      "cell_type": "code",
      "source": [
        "#Declaramos las variables dependientes e independientes para la regresión lineal.\n",
        "#Vars_Indep= df[['alcohol', 'speeding', 'no_previous']]\n",
        "Vars_Indep= df[['103_number_own_fridges', '172_supplier_frequency', '97_number_of_customers_in_store']]\n",
        "Var_Dep= df['268_number_fridges']"
      ],
      "metadata": {
        "id": "bH_6vkxe0vcY"
      },
      "execution_count": 245,
      "outputs": []
    },
    {
      "cell_type": "code",
      "source": [
        "#Se define model como la función de regresión lineal\n",
        "from sklearn.linear_model import LinearRegression\n",
        "model= LinearRegression()"
      ],
      "metadata": {
        "id": "yVZDNW6s04lH"
      },
      "execution_count": 246,
      "outputs": []
    },
    {
      "cell_type": "code",
      "source": [
        "#Verificamos la funcion relacionada al modelo\n",
        "type(model)"
      ],
      "metadata": {
        "colab": {
          "base_uri": "https://localhost:8080/"
        },
        "id": "Nu_QkSx_07X6",
        "outputId": "0a782dd2-6309-43e9-e9fe-6003f76b6d48"
      },
      "execution_count": 247,
      "outputs": [
        {
          "output_type": "execute_result",
          "data": {
            "text/plain": [
              "sklearn.linear_model._base.LinearRegression"
            ]
          },
          "metadata": {},
          "execution_count": 247
        }
      ]
    },
    {
      "cell_type": "code",
      "source": [
        "#Ajustamos el modelo con las variables antes declaradas\n",
        "model.fit(X=Vars_Indep, y=Var_Dep)"
      ],
      "metadata": {
        "colab": {
          "base_uri": "https://localhost:8080/"
        },
        "id": "cWtouACl1AVE",
        "outputId": "89f318cf-6e8a-481b-de7b-889399c9178e"
      },
      "execution_count": 248,
      "outputs": [
        {
          "output_type": "execute_result",
          "data": {
            "text/plain": [
              "LinearRegression()"
            ]
          },
          "metadata": {},
          "execution_count": 248
        }
      ]
    },
    {
      "cell_type": "code",
      "source": [
        "#Verificamos los coeficientes obtenidos para el modelo ajustado\n",
        "model.__dict__"
      ],
      "metadata": {
        "colab": {
          "base_uri": "https://localhost:8080/"
        },
        "id": "-qYgsvpC1Dab",
        "outputId": "197f2f54-3753-4aca-fecf-c11f1b00fc25"
      },
      "execution_count": 249,
      "outputs": [
        {
          "output_type": "execute_result",
          "data": {
            "text/plain": [
              "{'fit_intercept': True,\n",
              " 'normalize': 'deprecated',\n",
              " 'copy_X': True,\n",
              " 'n_jobs': None,\n",
              " 'positive': False,\n",
              " 'feature_names_in_': array(['103_number_own_fridges', '172_supplier_frequency',\n",
              "        '97_number_of_customers_in_store'], dtype=object),\n",
              " 'n_features_in_': 3,\n",
              " 'coef_': array([0.04189845, 0.08488881, 0.34049737]),\n",
              " '_residues': 925.5366344398592,\n",
              " 'rank_': 3,\n",
              " 'singular_': array([44.52697764, 29.61376095, 24.01378836]),\n",
              " 'intercept_': 0.6646590695268888}"
            ]
          },
          "metadata": {},
          "execution_count": 249
        }
      ]
    },
    {
      "cell_type": "code",
      "source": [
        "#Evaluamos la eficiencia del modelo obtenido por medio del coeficiente R^2 Determinación\n",
        "model.score(Vars_Indep,Var_Dep)"
      ],
      "metadata": {
        "colab": {
          "base_uri": "https://localhost:8080/"
        },
        "id": "z4O-6cmE1Hbq",
        "outputId": "d9796ce7-5a0b-4bf7-fd17-0f1b224f87ff"
      },
      "execution_count": 250,
      "outputs": [
        {
          "output_type": "execute_result",
          "data": {
            "text/plain": [
              "0.08741924685852775"
            ]
          },
          "metadata": {},
          "execution_count": 250
        }
      ]
    },
    {
      "cell_type": "code",
      "source": [
        "#Predecimos los valores de total de accidentes a partir de las variables: 'alcohol', 'speeding' y 'no_previous' \n",
        "y_pred= model.predict(X=df[['103_number_own_fridges', '172_supplier_frequency', '97_number_of_customers_in_store']])\n",
        "y_pred"
      ],
      "metadata": {
        "colab": {
          "base_uri": "https://localhost:8080/"
        },
        "id": "7oRZ-4P61MXY",
        "outputId": "8327197f-e010-47c4-9dbd-bc228fd32628"
      },
      "execution_count": 251,
      "outputs": [
        {
          "output_type": "execute_result",
          "data": {
            "text/plain": [
              "array([1.3006294 , 1.5981364 , 1.5981364 , 1.25763903, 2.10841138,\n",
              "       1.76791402, 1.08691929, 2.10841138, 3.12990348, 1.09004525,\n",
              "       1.09004525, 1.17493406, 1.17493406, 0.79144633, 1.04611276,\n",
              "       0.74954788, 1.68520905, 0.79144633, 0.87633514, 1.55732987,\n",
              "       0.79144633, 1.13194369, 0.83334477, 0.83334477, 0.83334477,\n",
              "       1.85483687, 1.89782724, 0.87633514, 1.2168325 , 1.04611276,\n",
              "       1.8612724 , 1.5143395 , 1.85592879, 1.51543142, 1.51543142,\n",
              "       1.34267764, 1.68317501, 1.68317501, 1.17290002, 1.51339738,\n",
              "       0.95904011, 2.10841138, 1.68411713, 1.13194369, 0.79144633,\n",
              "       1.81293842, 0.79144633, 1.47244106, 0.83334477, 0.83334477,\n",
              "       1.17384214, 1.17384214, 1.17384214, 2.19533424, 1.5143395 ,\n",
              "       0.83334477, 2.5358316 , 1.31004108, 0.83334477, 0.83334477,\n",
              "       0.83334477, 1.17384214, 1.47244106, 1.81293842, 0.79144633,\n",
              "       1.47244106, 0.87633514, 2.91931933, 1.042837  , 1.38333437,\n",
              "       1.12772581, 1.042837  , 1.46822318, 2.48971528, 1.12772581,\n",
              "       2.14921791, 0.83443669, 1.22624419, 0.74954788, 1.77103998,\n",
              "       0.74954788, 1.60032024, 1.9408176 , 1.17384214, 0.79144633,\n",
              "       0.79144633, 1.13194369, 1.13194369, 1.47244106, 0.83334477,\n",
              "       0.83334477, 0.79144633, 0.83334477, 0.83334477, 0.83334477,\n",
              "       0.83334477, 1.13194369, 0.79144633, 0.79144633, 1.08801121,\n",
              "       1.42850857, 1.89470128, 1.08801121, 1.34267764, 1.34267764,\n",
              "       1.68317501, 2.28022305, 1.5143395 , 2.19533424, 1.6925867 ,\n",
              "       1.13194369, 1.98271605, 1.89688511, 1.13194369, 1.55732987,\n",
              "       1.17493406, 2.19548404, 1.25982287, 0.74954788, 1.17493406,\n",
              "       1.51543142, 0.83443669, 1.17493406, 1.2168325 , 1.89782724,\n",
              "       0.79144633, 0.79144633, 0.91714166, 2.10746926, 1.7669719 ,\n",
              "       2.44796663, 1.42647453, 1.42647453, 1.42647453, 1.42647453,\n",
              "       2.788464  , 1.85076879, 1.85076879, 2.19126616, 2.53176352,\n",
              "       1.59937811, 3.00326602, 0.91823358, 0.91823358, 0.91823358,\n",
              "       0.91823358, 0.91823358, 1.93972568, 0.83443669, 1.311133  ,\n",
              "       0.96013203, 2.62072041, 2.61977829, 0.74954788, 0.87524322,\n",
              "       1.5981364 , 1.00203048, 1.68302521, 1.42647453, 1.2168325 ,\n",
              "       0.79144633, 1.2168325 , 0.79144633, 0.87633514, 0.87633514,\n",
              "       1.3006294 , 1.64112676, 0.74954788, 1.09004525, 1.30077919,\n",
              "       1.30077919, 1.98177393, 1.30077919, 1.30077919, 1.30077919,\n",
              "       1.30077919, 1.30077919, 1.68317501, 1.34267764, 1.34267764,\n",
              "       1.34267764, 2.36416974, 1.25873095, 1.59922832, 2.36416974,\n",
              "       0.83334477, 1.42850857, 0.83334477, 1.76900594, 1.59937811,\n",
              "       1.00421431, 1.93987548, 0.74954788, 0.74954788, 1.77103998,\n",
              "       0.74954788, 1.43054261, 0.74954788, 1.43054261, 0.74954788,\n",
              "       0.74954788, 0.74954788, 1.09004525, 1.09004525, 1.09004525,\n",
              "       2.45203471, 2.40606818, 1.38457609, 1.13194369, 1.30077919,\n",
              "       1.98177393, 1.2168325 , 1.13194369, 2.32227129, 1.81293842,\n",
              "       0.79144633, 1.64127656, 0.91823358, 0.91823358, 2.19533424,\n",
              "       1.51543142, 0.83443669, 1.17493406, 0.83443669, 0.74954788,\n",
              "       0.74954788, 1.09004525, 0.74954788, 0.74954788, 0.83443669,\n",
              "       1.17493406, 1.51543142, 0.74954788, 0.74954788, 2.11153735,\n",
              "       1.17384214, 1.85483687, 3.04516447, 1.94506929, 1.25873095,\n",
              "       1.72492365, 1.72492365, 0.95904011, 0.95904011, 2.15030983,\n",
              "       1.30172132, 0.79144633, 1.60769788, 1.89782724, 1.2168325 ,\n",
              "       1.55732987, 1.55732987, 1.55732987, 1.2168325 , 1.98177393,\n",
              "       1.98177393, 1.98177393, 1.98177393, 1.64127656, 1.98177393,\n",
              "       1.98177393, 1.98177393, 1.30077919, 1.25888075, 1.25888075,\n",
              "       1.25888075, 1.25888075, 1.25888075, 1.59937811, 1.93987548,\n",
              "       1.59937811, 1.21574058, 2.91822741, 1.17493406, 0.83443669,\n",
              "       0.83443669, 1.17493406, 0.83443669, 1.68317501, 2.02367237,\n",
              "       2.02367237, 1.34267764, 2.02367237, 2.2331646 , 1.34471168,\n",
              "       1.34471168, 1.34471168, 1.25888075, 1.93987548, 1.25888075,\n",
              "       1.25888075, 2.28037285, 1.25888075, 1.59937811, 1.25888075,\n",
              "       1.93987548, 1.25888075, 1.25888075, 1.25888075, 1.25873095,\n",
              "       1.93972568, 1.59922832, 1.25873095, 1.93972568, 1.93972568,\n",
              "       2.28022305, 1.3949299 , 0.79144633, 1.47244106, 0.79144633,\n",
              "       2.49393316, 0.79144633, 2.15343579, 2.2383246 , 2.49393316,\n",
              "       2.19533424, 1.25873095, 1.17384214, 1.34267764, 0.83334477,\n",
              "       1.5143395 , 0.83334477, 1.00312239, 1.64959633, 1.17290002,\n",
              "       1.17290002, 1.51339738, 2.19439212, 1.17290002, 1.51339738])"
            ]
          },
          "metadata": {},
          "execution_count": 251
        }
      ]
    },
    {
      "cell_type": "code",
      "source": [
        "#Insertamos la columna de predicciones en el Dataframe\n",
        "df.insert(0, 'Predicciones2', y_pred)\n",
        "df"
      ],
      "metadata": {
        "colab": {
          "base_uri": "https://localhost:8080/",
          "height": 1000
        },
        "id": "QYLjLthn1RuL",
        "outputId": "5e199776-db51-46ce-f617-99c3196e408e"
      },
      "execution_count": 252,
      "outputs": [
        {
          "output_type": "execute_result",
          "data": {
            "text/plain": [
              "     Predicciones2  Predicciones  Unnamed: 0  \\\n",
              "0         1.300629      1.433317           0   \n",
              "1         1.598136      1.509305           1   \n",
              "2         1.598136      1.509305           2   \n",
              "3         1.257639      1.509305           3   \n",
              "4         2.108411      1.560064           4   \n",
              "..             ...           ...         ...   \n",
              "325       1.172900      1.605731         325   \n",
              "326       1.513397      1.605731         326   \n",
              "327       2.194392      1.605731         327   \n",
              "328       1.172900      1.605731         328   \n",
              "329       1.513397      1.605731         329   \n",
              "\n",
              "                               _record_id             _title  \\\n",
              "0    71326e5f-441e-4be7-bc68-b828973b8e3b  November 17, 2022   \n",
              "1    a38b7c68-0afa-4419-a580-7086538b2e21  November 17, 2022   \n",
              "2    c11ef540-e06c-4722-a071-09a127ebc23c  November 10, 2022   \n",
              "3    c7434cb2-dde0-4901-80d7-3d60506ebd27  November 10, 2022   \n",
              "4    3c2177cc-677b-4106-8ed2-6e50f7671a0e  November 17, 2022   \n",
              "..                                    ...                ...   \n",
              "325  efe2e285-c67e-4a07-8331-218bc4a7203d   November 3, 2022   \n",
              "326  2413f06e-15cc-4a6f-8e83-5224c6824b12   November 3, 2022   \n",
              "327  9ff658db-4dc5-48b6-aa0b-5c6668bb6720   November 3, 2022   \n",
              "328  e88aa9c1-dc8b-4180-99a1-2e0118ad905d   November 3, 2022   \n",
              "329  bf720ff0-3b7d-47ed-ba49-f5d4bfb7293c   November 3, 2022   \n",
              "\n",
              "          _server_updated_at     _updated_by  \\\n",
              "0    2022-11-18 20:48:40 UTC   Uriel Bonilla   \n",
              "1    2022-11-18 20:48:39 UTC   Uriel Bonilla   \n",
              "2    2022-11-18 20:48:38 UTC   Uriel Bonilla   \n",
              "3    2022-11-18 20:48:38 UTC   Uriel Bonilla   \n",
              "4    2022-11-18 13:30:19 UTC   Fernando Báez   \n",
              "..                       ...             ...   \n",
              "325  2022-11-03 17:05:23 UTC  Francisco Adán   \n",
              "326  2022-11-03 16:50:48 UTC    Emilio Garza   \n",
              "327  2022-11-03 16:28:14 UTC    Emilio Garza   \n",
              "328  2022-11-03 16:18:37 UTC  Francisco Adán   \n",
              "329  2022-11-03 16:15:13 UTC    Emilio Garza   \n",
              "\n",
              "                                         _geometry  _latitude  _longitude  \\\n",
              "0    SRID=4326;POINT(-98.2013790035 19.0439654034)  19.043965  -98.201379   \n",
              "1    SRID=4326;POINT(-98.2016961782 19.0439749111)  19.043975  -98.201696   \n",
              "2    SRID=4326;POINT(-98.1964474585 19.0432999683)  19.043300  -98.196447   \n",
              "3     SRID=4326;POINT(-98.197072078 19.0405699102)  19.040570  -98.197072   \n",
              "4     SRID=4326;POINT(-98.201134218 19.0436743967)  19.043674  -98.201134   \n",
              "..                                             ...        ...         ...   \n",
              "325         SRID=4326;POINT(-98.194174 19.0431876)  19.043188  -98.194174   \n",
              "326  SRID=4326;POINT(-98.1940658722 19.0431145635)  19.043115  -98.194066   \n",
              "327  SRID=4326;POINT(-98.1934387078 19.0428094171)  19.042809  -98.193439   \n",
              "328          SRID=4326;POINT(-98.193818 19.042558)  19.042558  -98.193818   \n",
              "329  SRID=4326;POINT(-98.1937349172 19.0428229892)  19.042823  -98.193735   \n",
              "\n",
              "     ... 272_card_days_receive_money.1 276_expected_days_informal_credit  \\\n",
              "0    ...                           0.0                               1.0   \n",
              "1    ...                           0.0                               1.0   \n",
              "2    ...                           0.0                               1.0   \n",
              "3    ...                           0.0                               1.0   \n",
              "4    ...                           0.0                               1.0   \n",
              "..   ...                           ...                               ...   \n",
              "325  ...                           1.0                               2.0   \n",
              "326  ...                           1.0                               2.0   \n",
              "327  ...                           1.0                               2.0   \n",
              "328  ...                           1.0                               2.0   \n",
              "329  ...                           1.0                               2.0   \n",
              "\n",
              "    36_credit_default_rate 315_frequency_topups 316_frequency_utility_bills  \\\n",
              "0                      1.0                 20.0                         2.0   \n",
              "1                      1.0                  7.0                         2.0   \n",
              "2                      1.0                  7.0                         2.0   \n",
              "3                      1.0                  7.0                         2.0   \n",
              "4                      1.0                  7.0                         2.0   \n",
              "..                     ...                  ...                         ...   \n",
              "325                    0.0                  1.0                         7.0   \n",
              "326                    0.0                  1.0                         7.0   \n",
              "327                    0.0                  1.0                         7.0   \n",
              "328                    0.0                  1.0                         7.0   \n",
              "329                    0.0                  1.0                         7.0   \n",
              "\n",
              "    317_home_deliveries 62_frequency_only_services  \\\n",
              "0                   4.0                       10.0   \n",
              "1                   4.0                        0.0   \n",
              "2                   4.0                        0.0   \n",
              "3                   4.0                        0.0   \n",
              "4                   4.0                        0.0   \n",
              "..                  ...                        ...   \n",
              "325                 8.0                        1.0   \n",
              "326                 8.0                        1.0   \n",
              "327                 8.0                        1.0   \n",
              "328                 8.0                        1.0   \n",
              "329                 8.0                        1.0   \n",
              "\n",
              "    78_number_home_deliveries_week 172_supplier_frequency  \\\n",
              "0                              3.0                    2.0   \n",
              "1                              3.0                    1.0   \n",
              "2                              3.0                    1.0   \n",
              "3                              3.0                    1.0   \n",
              "4                              3.0                    3.0   \n",
              "..                             ...                    ...   \n",
              "325                            1.0                    5.0   \n",
              "326                            1.0                    5.0   \n",
              "327                            1.0                    5.0   \n",
              "328                            1.0                    5.0   \n",
              "329                            1.0                    5.0   \n",
              "\n",
              "    163_number_high_perishable_products  \n",
              "0                                  10.0  \n",
              "1                                   0.0  \n",
              "2                                   0.0  \n",
              "3                                   0.0  \n",
              "4                                  30.0  \n",
              "..                                  ...  \n",
              "325                                 0.0  \n",
              "326                                 0.0  \n",
              "327                                 0.0  \n",
              "328                                 0.0  \n",
              "329                                 0.0  \n",
              "\n",
              "[330 rows x 110 columns]"
            ],
            "text/html": [
              "\n",
              "  <div id=\"df-c6d3fd51-9298-4a54-a4a7-18b429524c3c\">\n",
              "    <div class=\"colab-df-container\">\n",
              "      <div>\n",
              "<style scoped>\n",
              "    .dataframe tbody tr th:only-of-type {\n",
              "        vertical-align: middle;\n",
              "    }\n",
              "\n",
              "    .dataframe tbody tr th {\n",
              "        vertical-align: top;\n",
              "    }\n",
              "\n",
              "    .dataframe thead th {\n",
              "        text-align: right;\n",
              "    }\n",
              "</style>\n",
              "<table border=\"1\" class=\"dataframe\">\n",
              "  <thead>\n",
              "    <tr style=\"text-align: right;\">\n",
              "      <th></th>\n",
              "      <th>Predicciones2</th>\n",
              "      <th>Predicciones</th>\n",
              "      <th>Unnamed: 0</th>\n",
              "      <th>_record_id</th>\n",
              "      <th>_title</th>\n",
              "      <th>_server_updated_at</th>\n",
              "      <th>_updated_by</th>\n",
              "      <th>_geometry</th>\n",
              "      <th>_latitude</th>\n",
              "      <th>_longitude</th>\n",
              "      <th>...</th>\n",
              "      <th>272_card_days_receive_money.1</th>\n",
              "      <th>276_expected_days_informal_credit</th>\n",
              "      <th>36_credit_default_rate</th>\n",
              "      <th>315_frequency_topups</th>\n",
              "      <th>316_frequency_utility_bills</th>\n",
              "      <th>317_home_deliveries</th>\n",
              "      <th>62_frequency_only_services</th>\n",
              "      <th>78_number_home_deliveries_week</th>\n",
              "      <th>172_supplier_frequency</th>\n",
              "      <th>163_number_high_perishable_products</th>\n",
              "    </tr>\n",
              "  </thead>\n",
              "  <tbody>\n",
              "    <tr>\n",
              "      <th>0</th>\n",
              "      <td>1.300629</td>\n",
              "      <td>1.433317</td>\n",
              "      <td>0</td>\n",
              "      <td>71326e5f-441e-4be7-bc68-b828973b8e3b</td>\n",
              "      <td>November 17, 2022</td>\n",
              "      <td>2022-11-18 20:48:40 UTC</td>\n",
              "      <td>Uriel Bonilla</td>\n",
              "      <td>SRID=4326;POINT(-98.2013790035 19.0439654034)</td>\n",
              "      <td>19.043965</td>\n",
              "      <td>-98.201379</td>\n",
              "      <td>...</td>\n",
              "      <td>0.0</td>\n",
              "      <td>1.0</td>\n",
              "      <td>1.0</td>\n",
              "      <td>20.0</td>\n",
              "      <td>2.0</td>\n",
              "      <td>4.0</td>\n",
              "      <td>10.0</td>\n",
              "      <td>3.0</td>\n",
              "      <td>2.0</td>\n",
              "      <td>10.0</td>\n",
              "    </tr>\n",
              "    <tr>\n",
              "      <th>1</th>\n",
              "      <td>1.598136</td>\n",
              "      <td>1.509305</td>\n",
              "      <td>1</td>\n",
              "      <td>a38b7c68-0afa-4419-a580-7086538b2e21</td>\n",
              "      <td>November 17, 2022</td>\n",
              "      <td>2022-11-18 20:48:39 UTC</td>\n",
              "      <td>Uriel Bonilla</td>\n",
              "      <td>SRID=4326;POINT(-98.2016961782 19.0439749111)</td>\n",
              "      <td>19.043975</td>\n",
              "      <td>-98.201696</td>\n",
              "      <td>...</td>\n",
              "      <td>0.0</td>\n",
              "      <td>1.0</td>\n",
              "      <td>1.0</td>\n",
              "      <td>7.0</td>\n",
              "      <td>2.0</td>\n",
              "      <td>4.0</td>\n",
              "      <td>0.0</td>\n",
              "      <td>3.0</td>\n",
              "      <td>1.0</td>\n",
              "      <td>0.0</td>\n",
              "    </tr>\n",
              "    <tr>\n",
              "      <th>2</th>\n",
              "      <td>1.598136</td>\n",
              "      <td>1.509305</td>\n",
              "      <td>2</td>\n",
              "      <td>c11ef540-e06c-4722-a071-09a127ebc23c</td>\n",
              "      <td>November 10, 2022</td>\n",
              "      <td>2022-11-18 20:48:38 UTC</td>\n",
              "      <td>Uriel Bonilla</td>\n",
              "      <td>SRID=4326;POINT(-98.1964474585 19.0432999683)</td>\n",
              "      <td>19.043300</td>\n",
              "      <td>-98.196447</td>\n",
              "      <td>...</td>\n",
              "      <td>0.0</td>\n",
              "      <td>1.0</td>\n",
              "      <td>1.0</td>\n",
              "      <td>7.0</td>\n",
              "      <td>2.0</td>\n",
              "      <td>4.0</td>\n",
              "      <td>0.0</td>\n",
              "      <td>3.0</td>\n",
              "      <td>1.0</td>\n",
              "      <td>0.0</td>\n",
              "    </tr>\n",
              "    <tr>\n",
              "      <th>3</th>\n",
              "      <td>1.257639</td>\n",
              "      <td>1.509305</td>\n",
              "      <td>3</td>\n",
              "      <td>c7434cb2-dde0-4901-80d7-3d60506ebd27</td>\n",
              "      <td>November 10, 2022</td>\n",
              "      <td>2022-11-18 20:48:38 UTC</td>\n",
              "      <td>Uriel Bonilla</td>\n",
              "      <td>SRID=4326;POINT(-98.197072078 19.0405699102)</td>\n",
              "      <td>19.040570</td>\n",
              "      <td>-98.197072</td>\n",
              "      <td>...</td>\n",
              "      <td>0.0</td>\n",
              "      <td>1.0</td>\n",
              "      <td>1.0</td>\n",
              "      <td>7.0</td>\n",
              "      <td>2.0</td>\n",
              "      <td>4.0</td>\n",
              "      <td>0.0</td>\n",
              "      <td>3.0</td>\n",
              "      <td>1.0</td>\n",
              "      <td>0.0</td>\n",
              "    </tr>\n",
              "    <tr>\n",
              "      <th>4</th>\n",
              "      <td>2.108411</td>\n",
              "      <td>1.560064</td>\n",
              "      <td>4</td>\n",
              "      <td>3c2177cc-677b-4106-8ed2-6e50f7671a0e</td>\n",
              "      <td>November 17, 2022</td>\n",
              "      <td>2022-11-18 13:30:19 UTC</td>\n",
              "      <td>Fernando Báez</td>\n",
              "      <td>SRID=4326;POINT(-98.201134218 19.0436743967)</td>\n",
              "      <td>19.043674</td>\n",
              "      <td>-98.201134</td>\n",
              "      <td>...</td>\n",
              "      <td>0.0</td>\n",
              "      <td>1.0</td>\n",
              "      <td>1.0</td>\n",
              "      <td>7.0</td>\n",
              "      <td>2.0</td>\n",
              "      <td>4.0</td>\n",
              "      <td>0.0</td>\n",
              "      <td>3.0</td>\n",
              "      <td>3.0</td>\n",
              "      <td>30.0</td>\n",
              "    </tr>\n",
              "    <tr>\n",
              "      <th>...</th>\n",
              "      <td>...</td>\n",
              "      <td>...</td>\n",
              "      <td>...</td>\n",
              "      <td>...</td>\n",
              "      <td>...</td>\n",
              "      <td>...</td>\n",
              "      <td>...</td>\n",
              "      <td>...</td>\n",
              "      <td>...</td>\n",
              "      <td>...</td>\n",
              "      <td>...</td>\n",
              "      <td>...</td>\n",
              "      <td>...</td>\n",
              "      <td>...</td>\n",
              "      <td>...</td>\n",
              "      <td>...</td>\n",
              "      <td>...</td>\n",
              "      <td>...</td>\n",
              "      <td>...</td>\n",
              "      <td>...</td>\n",
              "      <td>...</td>\n",
              "    </tr>\n",
              "    <tr>\n",
              "      <th>325</th>\n",
              "      <td>1.172900</td>\n",
              "      <td>1.605731</td>\n",
              "      <td>325</td>\n",
              "      <td>efe2e285-c67e-4a07-8331-218bc4a7203d</td>\n",
              "      <td>November 3, 2022</td>\n",
              "      <td>2022-11-03 17:05:23 UTC</td>\n",
              "      <td>Francisco Adán</td>\n",
              "      <td>SRID=4326;POINT(-98.194174 19.0431876)</td>\n",
              "      <td>19.043188</td>\n",
              "      <td>-98.194174</td>\n",
              "      <td>...</td>\n",
              "      <td>1.0</td>\n",
              "      <td>2.0</td>\n",
              "      <td>0.0</td>\n",
              "      <td>1.0</td>\n",
              "      <td>7.0</td>\n",
              "      <td>8.0</td>\n",
              "      <td>1.0</td>\n",
              "      <td>1.0</td>\n",
              "      <td>5.0</td>\n",
              "      <td>0.0</td>\n",
              "    </tr>\n",
              "    <tr>\n",
              "      <th>326</th>\n",
              "      <td>1.513397</td>\n",
              "      <td>1.605731</td>\n",
              "      <td>326</td>\n",
              "      <td>2413f06e-15cc-4a6f-8e83-5224c6824b12</td>\n",
              "      <td>November 3, 2022</td>\n",
              "      <td>2022-11-03 16:50:48 UTC</td>\n",
              "      <td>Emilio Garza</td>\n",
              "      <td>SRID=4326;POINT(-98.1940658722 19.0431145635)</td>\n",
              "      <td>19.043115</td>\n",
              "      <td>-98.194066</td>\n",
              "      <td>...</td>\n",
              "      <td>1.0</td>\n",
              "      <td>2.0</td>\n",
              "      <td>0.0</td>\n",
              "      <td>1.0</td>\n",
              "      <td>7.0</td>\n",
              "      <td>8.0</td>\n",
              "      <td>1.0</td>\n",
              "      <td>1.0</td>\n",
              "      <td>5.0</td>\n",
              "      <td>0.0</td>\n",
              "    </tr>\n",
              "    <tr>\n",
              "      <th>327</th>\n",
              "      <td>2.194392</td>\n",
              "      <td>1.605731</td>\n",
              "      <td>327</td>\n",
              "      <td>9ff658db-4dc5-48b6-aa0b-5c6668bb6720</td>\n",
              "      <td>November 3, 2022</td>\n",
              "      <td>2022-11-03 16:28:14 UTC</td>\n",
              "      <td>Emilio Garza</td>\n",
              "      <td>SRID=4326;POINT(-98.1934387078 19.0428094171)</td>\n",
              "      <td>19.042809</td>\n",
              "      <td>-98.193439</td>\n",
              "      <td>...</td>\n",
              "      <td>1.0</td>\n",
              "      <td>2.0</td>\n",
              "      <td>0.0</td>\n",
              "      <td>1.0</td>\n",
              "      <td>7.0</td>\n",
              "      <td>8.0</td>\n",
              "      <td>1.0</td>\n",
              "      <td>1.0</td>\n",
              "      <td>5.0</td>\n",
              "      <td>0.0</td>\n",
              "    </tr>\n",
              "    <tr>\n",
              "      <th>328</th>\n",
              "      <td>1.172900</td>\n",
              "      <td>1.605731</td>\n",
              "      <td>328</td>\n",
              "      <td>e88aa9c1-dc8b-4180-99a1-2e0118ad905d</td>\n",
              "      <td>November 3, 2022</td>\n",
              "      <td>2022-11-03 16:18:37 UTC</td>\n",
              "      <td>Francisco Adán</td>\n",
              "      <td>SRID=4326;POINT(-98.193818 19.042558)</td>\n",
              "      <td>19.042558</td>\n",
              "      <td>-98.193818</td>\n",
              "      <td>...</td>\n",
              "      <td>1.0</td>\n",
              "      <td>2.0</td>\n",
              "      <td>0.0</td>\n",
              "      <td>1.0</td>\n",
              "      <td>7.0</td>\n",
              "      <td>8.0</td>\n",
              "      <td>1.0</td>\n",
              "      <td>1.0</td>\n",
              "      <td>5.0</td>\n",
              "      <td>0.0</td>\n",
              "    </tr>\n",
              "    <tr>\n",
              "      <th>329</th>\n",
              "      <td>1.513397</td>\n",
              "      <td>1.605731</td>\n",
              "      <td>329</td>\n",
              "      <td>bf720ff0-3b7d-47ed-ba49-f5d4bfb7293c</td>\n",
              "      <td>November 3, 2022</td>\n",
              "      <td>2022-11-03 16:15:13 UTC</td>\n",
              "      <td>Emilio Garza</td>\n",
              "      <td>SRID=4326;POINT(-98.1937349172 19.0428229892)</td>\n",
              "      <td>19.042823</td>\n",
              "      <td>-98.193735</td>\n",
              "      <td>...</td>\n",
              "      <td>1.0</td>\n",
              "      <td>2.0</td>\n",
              "      <td>0.0</td>\n",
              "      <td>1.0</td>\n",
              "      <td>7.0</td>\n",
              "      <td>8.0</td>\n",
              "      <td>1.0</td>\n",
              "      <td>1.0</td>\n",
              "      <td>5.0</td>\n",
              "      <td>0.0</td>\n",
              "    </tr>\n",
              "  </tbody>\n",
              "</table>\n",
              "<p>330 rows × 110 columns</p>\n",
              "</div>\n",
              "      <button class=\"colab-df-convert\" onclick=\"convertToInteractive('df-c6d3fd51-9298-4a54-a4a7-18b429524c3c')\"\n",
              "              title=\"Convert this dataframe to an interactive table.\"\n",
              "              style=\"display:none;\">\n",
              "        \n",
              "  <svg xmlns=\"http://www.w3.org/2000/svg\" height=\"24px\"viewBox=\"0 0 24 24\"\n",
              "       width=\"24px\">\n",
              "    <path d=\"M0 0h24v24H0V0z\" fill=\"none\"/>\n",
              "    <path d=\"M18.56 5.44l.94 2.06.94-2.06 2.06-.94-2.06-.94-.94-2.06-.94 2.06-2.06.94zm-11 1L8.5 8.5l.94-2.06 2.06-.94-2.06-.94L8.5 2.5l-.94 2.06-2.06.94zm10 10l.94 2.06.94-2.06 2.06-.94-2.06-.94-.94-2.06-.94 2.06-2.06.94z\"/><path d=\"M17.41 7.96l-1.37-1.37c-.4-.4-.92-.59-1.43-.59-.52 0-1.04.2-1.43.59L10.3 9.45l-7.72 7.72c-.78.78-.78 2.05 0 2.83L4 21.41c.39.39.9.59 1.41.59.51 0 1.02-.2 1.41-.59l7.78-7.78 2.81-2.81c.8-.78.8-2.07 0-2.86zM5.41 20L4 18.59l7.72-7.72 1.47 1.35L5.41 20z\"/>\n",
              "  </svg>\n",
              "      </button>\n",
              "      \n",
              "  <style>\n",
              "    .colab-df-container {\n",
              "      display:flex;\n",
              "      flex-wrap:wrap;\n",
              "      gap: 12px;\n",
              "    }\n",
              "\n",
              "    .colab-df-convert {\n",
              "      background-color: #E8F0FE;\n",
              "      border: none;\n",
              "      border-radius: 50%;\n",
              "      cursor: pointer;\n",
              "      display: none;\n",
              "      fill: #1967D2;\n",
              "      height: 32px;\n",
              "      padding: 0 0 0 0;\n",
              "      width: 32px;\n",
              "    }\n",
              "\n",
              "    .colab-df-convert:hover {\n",
              "      background-color: #E2EBFA;\n",
              "      box-shadow: 0px 1px 2px rgba(60, 64, 67, 0.3), 0px 1px 3px 1px rgba(60, 64, 67, 0.15);\n",
              "      fill: #174EA6;\n",
              "    }\n",
              "\n",
              "    [theme=dark] .colab-df-convert {\n",
              "      background-color: #3B4455;\n",
              "      fill: #D2E3FC;\n",
              "    }\n",
              "\n",
              "    [theme=dark] .colab-df-convert:hover {\n",
              "      background-color: #434B5C;\n",
              "      box-shadow: 0px 1px 3px 1px rgba(0, 0, 0, 0.15);\n",
              "      filter: drop-shadow(0px 1px 2px rgba(0, 0, 0, 0.3));\n",
              "      fill: #FFFFFF;\n",
              "    }\n",
              "  </style>\n",
              "\n",
              "      <script>\n",
              "        const buttonEl =\n",
              "          document.querySelector('#df-c6d3fd51-9298-4a54-a4a7-18b429524c3c button.colab-df-convert');\n",
              "        buttonEl.style.display =\n",
              "          google.colab.kernel.accessAllowed ? 'block' : 'none';\n",
              "\n",
              "        async function convertToInteractive(key) {\n",
              "          const element = document.querySelector('#df-c6d3fd51-9298-4a54-a4a7-18b429524c3c');\n",
              "          const dataTable =\n",
              "            await google.colab.kernel.invokeFunction('convertToInteractive',\n",
              "                                                     [key], {});\n",
              "          if (!dataTable) return;\n",
              "\n",
              "          const docLinkHtml = 'Like what you see? Visit the ' +\n",
              "            '<a target=\"_blank\" href=https://colab.research.google.com/notebooks/data_table.ipynb>data table notebook</a>'\n",
              "            + ' to learn more about interactive tables.';\n",
              "          element.innerHTML = '';\n",
              "          dataTable['output_type'] = 'display_data';\n",
              "          await google.colab.output.renderOutput(dataTable, element);\n",
              "          const docLink = document.createElement('div');\n",
              "          docLink.innerHTML = docLinkHtml;\n",
              "          element.appendChild(docLink);\n",
              "        }\n",
              "      </script>\n",
              "    </div>\n",
              "  </div>\n",
              "  "
            ]
          },
          "metadata": {},
          "execution_count": 252
        }
      ]
    },
    {
      "cell_type": "code",
      "source": [
        "#Visualizamos la gráfica comparativa entre el total real y el total predecido\n",
        "\n",
        "sns.scatterplot(x= '103_number_own_fridges', y= '268_number_fridges', color= 'blue', data=df)\n",
        "sns.scatterplot(x= '103_number_own_fridges', y= 'Predicciones2', color= 'red', data=df)"
      ],
      "metadata": {
        "colab": {
          "base_uri": "https://localhost:8080/",
          "height": 297
        },
        "id": "J3j9Sswl1cCj",
        "outputId": "e6303365-cd0f-40e9-fa4b-f1ea4dd61584"
      },
      "execution_count": 253,
      "outputs": [
        {
          "output_type": "execute_result",
          "data": {
            "text/plain": [
              "<matplotlib.axes._subplots.AxesSubplot at 0x7f6bc9d2b790>"
            ]
          },
          "metadata": {},
          "execution_count": 253
        },
        {
          "output_type": "display_data",
          "data": {
            "text/plain": [
              "<Figure size 432x288 with 1 Axes>"
            ],
            "image/png": "[encoded data removed]"
          },
          "metadata": {
            "needs_background": "light"
          }
        }
      ]
    },
    {
      "cell_type": "code",
      "source": [
        "#Visualizamos la gráfica comparativa entre el total real y el total predecido\n",
        "\n",
        "sns.scatterplot(x= '172_supplier_frequency', y= '268_number_fridges', color= 'blue', data=df)\n",
        "sns.scatterplot(x= '172_supplier_frequency', y= 'Predicciones2', color= 'red', data=df)"
      ],
      "metadata": {
        "colab": {
          "base_uri": "https://localhost:8080/",
          "height": 297
        },
        "id": "y8HA6PNU1jS9",
        "outputId": "b2976033-d78e-4a26-ea58-51025eac22a2"
      },
      "execution_count": 254,
      "outputs": [
        {
          "output_type": "execute_result",
          "data": {
            "text/plain": [
              "<matplotlib.axes._subplots.AxesSubplot at 0x7f6bc9bdbbd0>"
            ]
          },
          "metadata": {},
          "execution_count": 254
        },
        {
          "output_type": "display_data",
          "data": {
            "text/plain": [
              "<Figure size 432x288 with 1 Axes>"
            ],
            "image/png": "[encoded data removed]"
          },
          "metadata": {
            "needs_background": "light"
          }
        }
      ]
    },
    {
      "cell_type": "code",
      "source": [
        "#Visualizamos la gráfica comparativa entre el total real y el total predecido\n",
        "\n",
        "sns.scatterplot(x= '97_number_of_customers_in_store', y= '268_number_fridges', color= 'blue', data=df)\n",
        "sns.scatterplot(x= '97_number_of_customers_in_store', y= 'Predicciones2', color= 'red', data=df)"
      ],
      "metadata": {
        "colab": {
          "base_uri": "https://localhost:8080/",
          "height": 297
        },
        "id": "bT1uz_Qy1oA9",
        "outputId": "ebddb2ad-1d48-4ca4-fd2a-3dea36ec6792"
      },
      "execution_count": 255,
      "outputs": [
        {
          "output_type": "execute_result",
          "data": {
            "text/plain": [
              "<matplotlib.axes._subplots.AxesSubplot at 0x7f6bc9965690>"
            ]
          },
          "metadata": {},
          "execution_count": 255
        },
        {
          "output_type": "display_data",
          "data": {
            "text/plain": [
              "<Figure size 432x288 with 1 Axes>"
            ],
            "image/png": "[encoded data removed]"
          },
          "metadata": {
            "needs_background": "light"
          }
        }
      ]
    },
    {
      "cell_type": "code",
      "source": [
        "#Corroboramos cual es el coeficiente de Determinación de nuestro modelo\n",
        "coef_Deter=model.score(X=Vars_Indep, y=Var_Dep)\n",
        "coef_Deter"
      ],
      "metadata": {
        "colab": {
          "base_uri": "https://localhost:8080/"
        },
        "id": "tsu7az0a1xqr",
        "outputId": "b6b4ba6e-c481-4500-c801-0701afb4dc65"
      },
      "execution_count": 256,
      "outputs": [
        {
          "output_type": "execute_result",
          "data": {
            "text/plain": [
              "0.08741924685852775"
            ]
          },
          "metadata": {},
          "execution_count": 256
        }
      ]
    },
    {
      "cell_type": "code",
      "source": [
        "#Corroboramos cual es el coeficiente de Correlación de nuestro modelo\n",
        "coef_Correl=np.sqrt(coef_Deter)\n",
        "coef_Correl"
      ],
      "metadata": {
        "colab": {
          "base_uri": "https://localhost:8080/"
        },
        "id": "UshFvBDF106x",
        "outputId": "8d1f90ff-50b2-4eac-ce37-41dc7e452b26"
      },
      "execution_count": 257,
      "outputs": [
        {
          "output_type": "execute_result",
          "data": {
            "text/plain": [
              "0.29566745992504445"
            ]
          },
          "metadata": {},
          "execution_count": 257
        }
      ]
    },
    {
      "cell_type": "markdown",
      "source": [
        "3"
      ],
      "metadata": {
        "id": "epgzrFKq0ZHy"
      }
    },
    {
      "cell_type": "code",
      "source": [
        "#Se grafican mapas de dispersion de las 3 variables: '24_burnout', '2_current_permanent_employees' y '145_number_direct_competitors'\n",
        "from turtle import color\n",
        "\n",
        "sns.scatterplot(x='103_number_own_fridges', y='268_number_fridges', color='blue', data=df)\n",
        "sns.scatterplot(x='172_supplier_frequency', y='268_number_fridges', color='red', data=df)\n",
        "sns.scatterplot(x='24_burnout', y='268_number_fridges', color='yellow', data=df)"
      ],
      "metadata": {
        "colab": {
          "base_uri": "https://localhost:8080/",
          "height": 297
        },
        "id": "82fERo6l1HCE",
        "outputId": "755a38a6-4715-4f7d-9c83-988cd32ba4e4"
      },
      "execution_count": 258,
      "outputs": [
        {
          "output_type": "execute_result",
          "data": {
            "text/plain": [
              "<matplotlib.axes._subplots.AxesSubplot at 0x7f6bc9991890>"
            ]
          },
          "metadata": {},
          "execution_count": 258
        },
        {
          "output_type": "display_data",
          "data": {
            "text/plain": [
              "<Figure size 432x288 with 1 Axes>"
            ],
            "image/png": "[encoded data removed]"
          },
          "metadata": {
            "needs_background": "light"
          }
        }
      ]
    },
    {
      "cell_type": "code",
      "source": [
        "#Declaramos las variables dependientes e independientes para la regresión lineal.\n",
        "#Vars_Indep= df[['alcohol', 'speeding', 'no_previous']]\n",
        "Vars_Indep= df[['103_number_own_fridges', '172_supplier_frequency', '24_burnout']]\n",
        "Var_Dep= df['268_number_fridges']"
      ],
      "metadata": {
        "id": "GR5uepZu22NU"
      },
      "execution_count": 259,
      "outputs": []
    },
    {
      "cell_type": "code",
      "source": [
        "#Se define model como la función de regresión lineal\n",
        "from sklearn.linear_model import LinearRegression\n",
        "model= LinearRegression()"
      ],
      "metadata": {
        "id": "LefsWoid54jq"
      },
      "execution_count": 260,
      "outputs": []
    },
    {
      "cell_type": "code",
      "source": [
        "#Verificamos la funcion relacionada al modelo\n",
        "type(model)"
      ],
      "metadata": {
        "colab": {
          "base_uri": "https://localhost:8080/"
        },
        "id": "h7mhK87555g3",
        "outputId": "c2d52115-2f72-4d1f-d3b5-b5afc90725e9"
      },
      "execution_count": 261,
      "outputs": [
        {
          "output_type": "execute_result",
          "data": {
            "text/plain": [
              "sklearn.linear_model._base.LinearRegression"
            ]
          },
          "metadata": {},
          "execution_count": 261
        }
      ]
    },
    {
      "cell_type": "code",
      "source": [
        "#Ajustamos el modelo con las variables antes declaradas\n",
        "model.fit(X=Vars_Indep, y=Var_Dep)"
      ],
      "metadata": {
        "colab": {
          "base_uri": "https://localhost:8080/"
        },
        "id": "H4Fr_K8H59tR",
        "outputId": "dc8e268d-1918-4e6d-decc-0ac125dfc95a"
      },
      "execution_count": 262,
      "outputs": [
        {
          "output_type": "execute_result",
          "data": {
            "text/plain": [
              "LinearRegression()"
            ]
          },
          "metadata": {},
          "execution_count": 262
        }
      ]
    },
    {
      "cell_type": "code",
      "source": [
        "#Verificamos los coeficientes obtenidos para el modelo ajustado\n",
        "model.__dict__"
      ],
      "metadata": {
        "colab": {
          "base_uri": "https://localhost:8080/"
        },
        "id": "314dtNeM6AvT",
        "outputId": "0b734259-5155-4c34-ef82-d1342d44ac9e"
      },
      "execution_count": 263,
      "outputs": [
        {
          "output_type": "execute_result",
          "data": {
            "text/plain": [
              "{'fit_intercept': True,\n",
              " 'normalize': 'deprecated',\n",
              " 'copy_X': True,\n",
              " 'n_jobs': None,\n",
              " 'positive': False,\n",
              " 'feature_names_in_': array(['103_number_own_fridges', '172_supplier_frequency', '24_burnout'],\n",
              "       dtype=object),\n",
              " 'n_features_in_': 3,\n",
              " 'coef_': array([0.07430623, 0.08298397, 0.0105224 ]),\n",
              " '_residues': 994.1743209964635,\n",
              " 'rank_': 3,\n",
              " 'singular_': array([45.94832433, 34.33752723, 29.16501048]),\n",
              " 'intercept_': 0.9844467725366504}"
            ]
          },
          "metadata": {},
          "execution_count": 263
        }
      ]
    },
    {
      "cell_type": "code",
      "source": [
        "#Evaluamos la eficiencia del modelo obtenido por medio del coeficiente R^2 Determinación\n",
        "model.score(Vars_Indep,Var_Dep)"
      ],
      "metadata": {
        "colab": {
          "base_uri": "https://localhost:8080/"
        },
        "id": "4Y0vOC8-6Dgi",
        "outputId": "50126178-a3e7-4e7e-ae9d-77467d4d56ca"
      },
      "execution_count": 264,
      "outputs": [
        {
          "output_type": "execute_result",
          "data": {
            "text/plain": [
              "0.019742366915657894"
            ]
          },
          "metadata": {},
          "execution_count": 264
        }
      ]
    },
    {
      "cell_type": "code",
      "source": [
        "#Predecimos los valores de total de accidentes a partir de las variables: 'alcohol', 'speeding' y 'no_previous' \n",
        "y_pred= model.predict(X=df[['103_number_own_fridges', '172_supplier_frequency', '24_burnout']])\n",
        "y_pred"
      ],
      "metadata": {
        "colab": {
          "base_uri": "https://localhost:8080/"
        },
        "id": "7OLOBlG-6GMA",
        "outputId": "e7c9ec45-57a4-430b-b68e-c17df0c0d9b6"
      },
      "execution_count": 265,
      "outputs": [
        {
          "output_type": "execute_result",
          "data": {
            "text/plain": [
              "array([1.39437821, 1.39622287, 1.39622287, 1.39622287, 1.56219081,\n",
              "       1.56219081, 1.56219081, 1.56219081, 1.56219081, 1.14108754,\n",
              "       1.14108754, 1.2240715 , 1.19250431, 1.18382657, 1.43277848,\n",
              "       1.10952034, 1.35847224, 1.18382657, 1.26681054, 1.23524334,\n",
              "       1.18382657, 1.18382657, 1.25813281, 1.25813281, 1.25813281,\n",
              "       1.22656561, 1.23524334, 1.23524334, 1.23524334, 1.41173368,\n",
              "       1.80929805, 1.2897    , 1.2240715 , 1.2240715 , 1.2240715 ,\n",
              "       1.72446942, 1.72446942, 1.72446942, 1.55850148, 1.55850148,\n",
              "       1.44948431, 1.60428041, 1.42410074, 1.18382657, 1.18382657,\n",
              "       1.18382657, 1.18382657, 1.18382657, 1.25813281, 1.25813281,\n",
              "       1.2897    , 1.2897    , 1.2897    , 1.2897    , 1.2897    ,\n",
              "       1.2897    , 1.2897    , 1.2897    , 1.2897    , 1.2897    ,\n",
              "       1.23708801, 1.23708801, 1.16278177, 1.16278177, 1.16278177,\n",
              "       1.16278177, 1.24576574, 1.24576574, 1.60861917, 1.62966397,\n",
              "       1.71264794, 1.62966397, 1.71264794, 1.71264794, 1.71264794,\n",
              "       1.71264794, 1.19250431, 1.12004274, 1.12004274, 1.12004274,\n",
              "       1.12004274, 1.28601067, 1.28601067, 1.22656561, 1.15225937,\n",
              "       1.15225937, 1.15225937, 1.15225937, 1.15225937, 1.24761041,\n",
              "       1.24761041, 1.17330417, 1.24761041, 1.24761041, 1.24761041,\n",
              "       1.24761041, 1.17330417, 1.17330417, 1.16278177, 1.48603991,\n",
              "       1.48603991, 1.70895861, 1.48603991, 1.73499182, 1.73499182,\n",
              "       1.73499182, 1.37268397, 1.24761041, 1.24761041, 1.58822401,\n",
              "       1.17330417, 1.33927211, 1.58822401, 1.17330417, 1.25628814,\n",
              "       1.18198191, 1.55600738, 1.30705547, 1.14108754, 1.2240715 ,\n",
              "       1.2240715 , 1.2240715 , 1.2240715 , 1.24576574, 1.24576574,\n",
              "       1.15225937, 1.18382657, 1.40674527, 1.88360428, 1.88360428,\n",
              "       1.88360428, 1.88360428, 1.88360428, 1.88360428, 1.88360428,\n",
              "       1.88360428, 2.06378395, 2.06378395, 2.06378395, 2.06378395,\n",
              "       1.60742415, 1.68173038, 1.34111677, 1.34111677, 1.34111677,\n",
              "       1.34111677, 1.34111677, 1.34111677, 1.2240715 , 1.2240715 ,\n",
              "       1.4469902 , 1.37268397, 1.69409745, 1.12004274, 1.34296144,\n",
              "       1.41726767, 1.50025164, 1.50025164, 1.91517148, 1.25628814,\n",
              "       1.16278177, 1.24576574, 1.16278177, 1.26681054, 1.26681054,\n",
              "       1.39437821, 1.39437821, 1.10952034, 1.10952034, 1.68173038,\n",
              "       1.68173038, 1.68173038, 1.68173038, 1.68173038, 1.68173038,\n",
              "       1.68173038, 1.68173038, 1.75603662, 1.75603662, 1.75603662,\n",
              "       1.75603662, 1.75603662, 1.34111677, 1.34111677, 1.75603662,\n",
              "       1.25813281, 1.50708471, 1.25813281, 1.49656231, 1.59690175,\n",
              "       1.35847224, 1.59690175, 1.09899794, 1.09899794, 1.09899794,\n",
              "       1.09899794, 1.09899794, 1.09899794, 1.09899794, 1.09899794,\n",
              "       1.09899794, 1.09899794, 1.09899794, 1.09899794, 1.09899794,\n",
              "       1.09899794, 1.84086525, 1.81982045, 1.19434897, 1.65016318,\n",
              "       1.65016318, 1.28785534, 1.17330417, 1.67120798, 1.17330417,\n",
              "       1.17330417, 1.71329758, 1.32007198, 1.32007198, 1.23708801,\n",
              "       1.18198191, 1.18198191, 1.16093711, 1.16093711, 1.07795314,\n",
              "       1.07795314, 1.07795314, 1.07795314, 1.07795314, 1.16093711,\n",
              "       1.16093711, 1.16093711, 1.07795314, 1.07795314, 1.07795314,\n",
              "       1.22656561, 1.2791776 , 1.77708141, 2.00000012, 1.36216157,\n",
              "       1.58508027, 1.58508027, 1.5020963 , 1.5126187 , 1.67858664,\n",
              "       1.38136171, 1.21539377, 1.54732964, 1.24576574, 1.24576574,\n",
              "       1.24576574, 1.23524334, 1.23524334, 1.23524334, 1.71329758,\n",
              "       1.71329758, 1.71329758, 1.71329758, 1.71329758, 1.71329758,\n",
              "       1.71329758, 1.71329758, 1.71329758, 1.63899135, 1.63899135,\n",
              "       1.63899135, 1.63899135, 1.63899135, 1.63899135, 1.61794655,\n",
              "       1.61794655, 1.31139424, 1.31139424, 1.17145951, 1.17145951,\n",
              "       1.17145951, 1.17145951, 1.17145951, 1.78760381, 1.78760381,\n",
              "       1.78760381, 1.78760381, 1.78760381, 2.15913498, 1.35847224,\n",
              "       1.35847224, 1.35847224, 1.58637935, 1.59690175, 1.63899135,\n",
              "       1.63899135, 1.59690175, 1.59690175, 1.59690175, 1.59690175,\n",
              "       1.59690175, 1.59690175, 1.59690175, 1.59690175, 1.33059437,\n",
              "       1.33059437, 1.33059437, 1.33059437, 1.33059437, 1.33059437,\n",
              "       1.33059437, 1.33059437, 1.17330417, 1.17330417, 1.17330417,\n",
              "       1.17330417, 1.17330417, 1.17330417, 1.24576574, 1.15225937,\n",
              "       1.22656561, 1.30954958, 1.24761041, 1.74551422, 1.24761041,\n",
              "       1.2897    , 1.2897    , 1.45566794, 1.62163588, 1.62163588,\n",
              "       1.62163588, 1.62163588, 1.62163588, 1.62163588, 1.62163588])"
            ]
          },
          "metadata": {},
          "execution_count": 265
        }
      ]
    },
    {
      "cell_type": "code",
      "source": [
        "#Insertamos la columna de predicciones en el Dataframe\n",
        "df.insert(0, 'Predicciones3', y_pred)\n",
        "df"
      ],
      "metadata": {
        "colab": {
          "base_uri": "https://localhost:8080/",
          "height": 1000
        },
        "id": "i3IqmMZ96Msv",
        "outputId": "0e0e5976-e6b1-409b-c297-a449686b1a26"
      },
      "execution_count": 266,
      "outputs": [
        {
          "output_type": "execute_result",
          "data": {
            "text/plain": [
              "     Predicciones3  Predicciones2  Predicciones  Unnamed: 0  \\\n",
              "0         1.394378       1.300629      1.433317           0   \n",
              "1         1.396223       1.598136      1.509305           1   \n",
              "2         1.396223       1.598136      1.509305           2   \n",
              "3         1.396223       1.257639      1.509305           3   \n",
              "4         1.562191       2.108411      1.560064           4   \n",
              "..             ...            ...           ...         ...   \n",
              "325       1.621636       1.172900      1.605731         325   \n",
              "326       1.621636       1.513397      1.605731         326   \n",
              "327       1.621636       2.194392      1.605731         327   \n",
              "328       1.621636       1.172900      1.605731         328   \n",
              "329       1.621636       1.513397      1.605731         329   \n",
              "\n",
              "                               _record_id             _title  \\\n",
              "0    71326e5f-441e-4be7-bc68-b828973b8e3b  November 17, 2022   \n",
              "1    a38b7c68-0afa-4419-a580-7086538b2e21  November 17, 2022   \n",
              "2    c11ef540-e06c-4722-a071-09a127ebc23c  November 10, 2022   \n",
              "3    c7434cb2-dde0-4901-80d7-3d60506ebd27  November 10, 2022   \n",
              "4    3c2177cc-677b-4106-8ed2-6e50f7671a0e  November 17, 2022   \n",
              "..                                    ...                ...   \n",
              "325  efe2e285-c67e-4a07-8331-218bc4a7203d   November 3, 2022   \n",
              "326  2413f06e-15cc-4a6f-8e83-5224c6824b12   November 3, 2022   \n",
              "327  9ff658db-4dc5-48b6-aa0b-5c6668bb6720   November 3, 2022   \n",
              "328  e88aa9c1-dc8b-4180-99a1-2e0118ad905d   November 3, 2022   \n",
              "329  bf720ff0-3b7d-47ed-ba49-f5d4bfb7293c   November 3, 2022   \n",
              "\n",
              "          _server_updated_at     _updated_by  \\\n",
              "0    2022-11-18 20:48:40 UTC   Uriel Bonilla   \n",
              "1    2022-11-18 20:48:39 UTC   Uriel Bonilla   \n",
              "2    2022-11-18 20:48:38 UTC   Uriel Bonilla   \n",
              "3    2022-11-18 20:48:38 UTC   Uriel Bonilla   \n",
              "4    2022-11-18 13:30:19 UTC   Fernando Báez   \n",
              "..                       ...             ...   \n",
              "325  2022-11-03 17:05:23 UTC  Francisco Adán   \n",
              "326  2022-11-03 16:50:48 UTC    Emilio Garza   \n",
              "327  2022-11-03 16:28:14 UTC    Emilio Garza   \n",
              "328  2022-11-03 16:18:37 UTC  Francisco Adán   \n",
              "329  2022-11-03 16:15:13 UTC    Emilio Garza   \n",
              "\n",
              "                                         _geometry  _latitude  ...  \\\n",
              "0    SRID=4326;POINT(-98.2013790035 19.0439654034)  19.043965  ...   \n",
              "1    SRID=4326;POINT(-98.2016961782 19.0439749111)  19.043975  ...   \n",
              "2    SRID=4326;POINT(-98.1964474585 19.0432999683)  19.043300  ...   \n",
              "3     SRID=4326;POINT(-98.197072078 19.0405699102)  19.040570  ...   \n",
              "4     SRID=4326;POINT(-98.201134218 19.0436743967)  19.043674  ...   \n",
              "..                                             ...        ...  ...   \n",
              "325         SRID=4326;POINT(-98.194174 19.0431876)  19.043188  ...   \n",
              "326  SRID=4326;POINT(-98.1940658722 19.0431145635)  19.043115  ...   \n",
              "327  SRID=4326;POINT(-98.1934387078 19.0428094171)  19.042809  ...   \n",
              "328          SRID=4326;POINT(-98.193818 19.042558)  19.042558  ...   \n",
              "329  SRID=4326;POINT(-98.1937349172 19.0428229892)  19.042823  ...   \n",
              "\n",
              "     272_card_days_receive_money.1 276_expected_days_informal_credit  \\\n",
              "0                              0.0                               1.0   \n",
              "1                              0.0                               1.0   \n",
              "2                              0.0                               1.0   \n",
              "3                              0.0                               1.0   \n",
              "4                              0.0                               1.0   \n",
              "..                             ...                               ...   \n",
              "325                            1.0                               2.0   \n",
              "326                            1.0                               2.0   \n",
              "327                            1.0                               2.0   \n",
              "328                            1.0                               2.0   \n",
              "329                            1.0                               2.0   \n",
              "\n",
              "    36_credit_default_rate 315_frequency_topups 316_frequency_utility_bills  \\\n",
              "0                      1.0                 20.0                         2.0   \n",
              "1                      1.0                  7.0                         2.0   \n",
              "2                      1.0                  7.0                         2.0   \n",
              "3                      1.0                  7.0                         2.0   \n",
              "4                      1.0                  7.0                         2.0   \n",
              "..                     ...                  ...                         ...   \n",
              "325                    0.0                  1.0                         7.0   \n",
              "326                    0.0                  1.0                         7.0   \n",
              "327                    0.0                  1.0                         7.0   \n",
              "328                    0.0                  1.0                         7.0   \n",
              "329                    0.0                  1.0                         7.0   \n",
              "\n",
              "    317_home_deliveries 62_frequency_only_services  \\\n",
              "0                   4.0                       10.0   \n",
              "1                   4.0                        0.0   \n",
              "2                   4.0                        0.0   \n",
              "3                   4.0                        0.0   \n",
              "4                   4.0                        0.0   \n",
              "..                  ...                        ...   \n",
              "325                 8.0                        1.0   \n",
              "326                 8.0                        1.0   \n",
              "327                 8.0                        1.0   \n",
              "328                 8.0                        1.0   \n",
              "329                 8.0                        1.0   \n",
              "\n",
              "    78_number_home_deliveries_week 172_supplier_frequency  \\\n",
              "0                              3.0                    2.0   \n",
              "1                              3.0                    1.0   \n",
              "2                              3.0                    1.0   \n",
              "3                              3.0                    1.0   \n",
              "4                              3.0                    3.0   \n",
              "..                             ...                    ...   \n",
              "325                            1.0                    5.0   \n",
              "326                            1.0                    5.0   \n",
              "327                            1.0                    5.0   \n",
              "328                            1.0                    5.0   \n",
              "329                            1.0                    5.0   \n",
              "\n",
              "    163_number_high_perishable_products  \n",
              "0                                  10.0  \n",
              "1                                   0.0  \n",
              "2                                   0.0  \n",
              "3                                   0.0  \n",
              "4                                  30.0  \n",
              "..                                  ...  \n",
              "325                                 0.0  \n",
              "326                                 0.0  \n",
              "327                                 0.0  \n",
              "328                                 0.0  \n",
              "329                                 0.0  \n",
              "\n",
              "[330 rows x 111 columns]"
            ],
            "text/html": [
              "\n",
              "  <div id=\"df-2054b58c-48b6-4eae-b7ab-55966a9ade02\">\n",
              "    <div class=\"colab-df-container\">\n",
              "      <div>\n",
              "<style scoped>\n",
              "    .dataframe tbody tr th:only-of-type {\n",
              "        vertical-align: middle;\n",
              "    }\n",
              "\n",
              "    .dataframe tbody tr th {\n",
              "        vertical-align: top;\n",
              "    }\n",
              "\n",
              "    .dataframe thead th {\n",
              "        text-align: right;\n",
              "    }\n",
              "</style>\n",
              "<table border=\"1\" class=\"dataframe\">\n",
              "  <thead>\n",
              "    <tr style=\"text-align: right;\">\n",
              "      <th></th>\n",
              "      <th>Predicciones3</th>\n",
              "      <th>Predicciones2</th>\n",
              "      <th>Predicciones</th>\n",
              "      <th>Unnamed: 0</th>\n",
              "      <th>_record_id</th>\n",
              "      <th>_title</th>\n",
              "      <th>_server_updated_at</th>\n",
              "      <th>_updated_by</th>\n",
              "      <th>_geometry</th>\n",
              "      <th>_latitude</th>\n",
              "      <th>...</th>\n",
              "      <th>272_card_days_receive_money.1</th>\n",
              "      <th>276_expected_days_informal_credit</th>\n",
              "      <th>36_credit_default_rate</th>\n",
              "      <th>315_frequency_topups</th>\n",
              "      <th>316_frequency_utility_bills</th>\n",
              "      <th>317_home_deliveries</th>\n",
              "      <th>62_frequency_only_services</th>\n",
              "      <th>78_number_home_deliveries_week</th>\n",
              "      <th>172_supplier_frequency</th>\n",
              "      <th>163_number_high_perishable_products</th>\n",
              "    </tr>\n",
              "  </thead>\n",
              "  <tbody>\n",
              "    <tr>\n",
              "      <th>0</th>\n",
              "      <td>1.394378</td>\n",
              "      <td>1.300629</td>\n",
              "      <td>1.433317</td>\n",
              "      <td>0</td>\n",
              "      <td>71326e5f-441e-4be7-bc68-b828973b8e3b</td>\n",
              "      <td>November 17, 2022</td>\n",
              "      <td>2022-11-18 20:48:40 UTC</td>\n",
              "      <td>Uriel Bonilla</td>\n",
              "      <td>SRID=4326;POINT(-98.2013790035 19.0439654034)</td>\n",
              "      <td>19.043965</td>\n",
              "      <td>...</td>\n",
              "      <td>0.0</td>\n",
              "      <td>1.0</td>\n",
              "      <td>1.0</td>\n",
              "      <td>20.0</td>\n",
              "      <td>2.0</td>\n",
              "      <td>4.0</td>\n",
              "      <td>10.0</td>\n",
              "      <td>3.0</td>\n",
              "      <td>2.0</td>\n",
              "      <td>10.0</td>\n",
              "    </tr>\n",
              "    <tr>\n",
              "      <th>1</th>\n",
              "      <td>1.396223</td>\n",
              "      <td>1.598136</td>\n",
              "      <td>1.509305</td>\n",
              "      <td>1</td>\n",
              "      <td>a38b7c68-0afa-4419-a580-7086538b2e21</td>\n",
              "      <td>November 17, 2022</td>\n",
              "      <td>2022-11-18 20:48:39 UTC</td>\n",
              "      <td>Uriel Bonilla</td>\n",
              "      <td>SRID=4326;POINT(-98.2016961782 19.0439749111)</td>\n",
              "      <td>19.043975</td>\n",
              "      <td>...</td>\n",
              "      <td>0.0</td>\n",
              "      <td>1.0</td>\n",
              "      <td>1.0</td>\n",
              "      <td>7.0</td>\n",
              "      <td>2.0</td>\n",
              "      <td>4.0</td>\n",
              "      <td>0.0</td>\n",
              "      <td>3.0</td>\n",
              "      <td>1.0</td>\n",
              "      <td>0.0</td>\n",
              "    </tr>\n",
              "    <tr>\n",
              "      <th>2</th>\n",
              "      <td>1.396223</td>\n",
              "      <td>1.598136</td>\n",
              "      <td>1.509305</td>\n",
              "      <td>2</td>\n",
              "      <td>c11ef540-e06c-4722-a071-09a127ebc23c</td>\n",
              "      <td>November 10, 2022</td>\n",
              "      <td>2022-11-18 20:48:38 UTC</td>\n",
              "      <td>Uriel Bonilla</td>\n",
              "      <td>SRID=4326;POINT(-98.1964474585 19.0432999683)</td>\n",
              "      <td>19.043300</td>\n",
              "      <td>...</td>\n",
              "      <td>0.0</td>\n",
              "      <td>1.0</td>\n",
              "      <td>1.0</td>\n",
              "      <td>7.0</td>\n",
              "      <td>2.0</td>\n",
              "      <td>4.0</td>\n",
              "      <td>0.0</td>\n",
              "      <td>3.0</td>\n",
              "      <td>1.0</td>\n",
              "      <td>0.0</td>\n",
              "    </tr>\n",
              "    <tr>\n",
              "      <th>3</th>\n",
              "      <td>1.396223</td>\n",
              "      <td>1.257639</td>\n",
              "      <td>1.509305</td>\n",
              "      <td>3</td>\n",
              "      <td>c7434cb2-dde0-4901-80d7-3d60506ebd27</td>\n",
              "      <td>November 10, 2022</td>\n",
              "      <td>2022-11-18 20:48:38 UTC</td>\n",
              "      <td>Uriel Bonilla</td>\n",
              "      <td>SRID=4326;POINT(-98.197072078 19.0405699102)</td>\n",
              "      <td>19.040570</td>\n",
              "      <td>...</td>\n",
              "      <td>0.0</td>\n",
              "      <td>1.0</td>\n",
              "      <td>1.0</td>\n",
              "      <td>7.0</td>\n",
              "      <td>2.0</td>\n",
              "      <td>4.0</td>\n",
              "      <td>0.0</td>\n",
              "      <td>3.0</td>\n",
              "      <td>1.0</td>\n",
              "      <td>0.0</td>\n",
              "    </tr>\n",
              "    <tr>\n",
              "      <th>4</th>\n",
              "      <td>1.562191</td>\n",
              "      <td>2.108411</td>\n",
              "      <td>1.560064</td>\n",
              "      <td>4</td>\n",
              "      <td>3c2177cc-677b-4106-8ed2-6e50f7671a0e</td>\n",
              "      <td>November 17, 2022</td>\n",
              "      <td>2022-11-18 13:30:19 UTC</td>\n",
              "      <td>Fernando Báez</td>\n",
              "      <td>SRID=4326;POINT(-98.201134218 19.0436743967)</td>\n",
              "      <td>19.043674</td>\n",
              "      <td>...</td>\n",
              "      <td>0.0</td>\n",
              "      <td>1.0</td>\n",
              "      <td>1.0</td>\n",
              "      <td>7.0</td>\n",
              "      <td>2.0</td>\n",
              "      <td>4.0</td>\n",
              "      <td>0.0</td>\n",
              "      <td>3.0</td>\n",
              "      <td>3.0</td>\n",
              "      <td>30.0</td>\n",
              "    </tr>\n",
              "    <tr>\n",
              "      <th>...</th>\n",
              "      <td>...</td>\n",
              "      <td>...</td>\n",
              "      <td>...</td>\n",
              "      <td>...</td>\n",
              "      <td>...</td>\n",
              "      <td>...</td>\n",
              "      <td>...</td>\n",
              "      <td>...</td>\n",
              "      <td>...</td>\n",
              "      <td>...</td>\n",
              "      <td>...</td>\n",
              "      <td>...</td>\n",
              "      <td>...</td>\n",
              "      <td>...</td>\n",
              "      <td>...</td>\n",
              "      <td>...</td>\n",
              "      <td>...</td>\n",
              "      <td>...</td>\n",
              "      <td>...</td>\n",
              "      <td>...</td>\n",
              "      <td>...</td>\n",
              "    </tr>\n",
              "    <tr>\n",
              "      <th>325</th>\n",
              "      <td>1.621636</td>\n",
              "      <td>1.172900</td>\n",
              "      <td>1.605731</td>\n",
              "      <td>325</td>\n",
              "      <td>efe2e285-c67e-4a07-8331-218bc4a7203d</td>\n",
              "      <td>November 3, 2022</td>\n",
              "      <td>2022-11-03 17:05:23 UTC</td>\n",
              "      <td>Francisco Adán</td>\n",
              "      <td>SRID=4326;POINT(-98.194174 19.0431876)</td>\n",
              "      <td>19.043188</td>\n",
              "      <td>...</td>\n",
              "      <td>1.0</td>\n",
              "      <td>2.0</td>\n",
              "      <td>0.0</td>\n",
              "      <td>1.0</td>\n",
              "      <td>7.0</td>\n",
              "      <td>8.0</td>\n",
              "      <td>1.0</td>\n",
              "      <td>1.0</td>\n",
              "      <td>5.0</td>\n",
              "      <td>0.0</td>\n",
              "    </tr>\n",
              "    <tr>\n",
              "      <th>326</th>\n",
              "      <td>1.621636</td>\n",
              "      <td>1.513397</td>\n",
              "      <td>1.605731</td>\n",
              "      <td>326</td>\n",
              "      <td>2413f06e-15cc-4a6f-8e83-5224c6824b12</td>\n",
              "      <td>November 3, 2022</td>\n",
              "      <td>2022-11-03 16:50:48 UTC</td>\n",
              "      <td>Emilio Garza</td>\n",
              "      <td>SRID=4326;POINT(-98.1940658722 19.0431145635)</td>\n",
              "      <td>19.043115</td>\n",
              "      <td>...</td>\n",
              "      <td>1.0</td>\n",
              "      <td>2.0</td>\n",
              "      <td>0.0</td>\n",
              "      <td>1.0</td>\n",
              "      <td>7.0</td>\n",
              "      <td>8.0</td>\n",
              "      <td>1.0</td>\n",
              "      <td>1.0</td>\n",
              "      <td>5.0</td>\n",
              "      <td>0.0</td>\n",
              "    </tr>\n",
              "    <tr>\n",
              "      <th>327</th>\n",
              "      <td>1.621636</td>\n",
              "      <td>2.194392</td>\n",
              "      <td>1.605731</td>\n",
              "      <td>327</td>\n",
              "      <td>9ff658db-4dc5-48b6-aa0b-5c6668bb6720</td>\n",
              "      <td>November 3, 2022</td>\n",
              "      <td>2022-11-03 16:28:14 UTC</td>\n",
              "      <td>Emilio Garza</td>\n",
              "      <td>SRID=4326;POINT(-98.1934387078 19.0428094171)</td>\n",
              "      <td>19.042809</td>\n",
              "      <td>...</td>\n",
              "      <td>1.0</td>\n",
              "      <td>2.0</td>\n",
              "      <td>0.0</td>\n",
              "      <td>1.0</td>\n",
              "      <td>7.0</td>\n",
              "      <td>8.0</td>\n",
              "      <td>1.0</td>\n",
              "      <td>1.0</td>\n",
              "      <td>5.0</td>\n",
              "      <td>0.0</td>\n",
              "    </tr>\n",
              "    <tr>\n",
              "      <th>328</th>\n",
              "      <td>1.621636</td>\n",
              "      <td>1.172900</td>\n",
              "      <td>1.605731</td>\n",
              "      <td>328</td>\n",
              "      <td>e88aa9c1-dc8b-4180-99a1-2e0118ad905d</td>\n",
              "      <td>November 3, 2022</td>\n",
              "      <td>2022-11-03 16:18:37 UTC</td>\n",
              "      <td>Francisco Adán</td>\n",
              "      <td>SRID=4326;POINT(-98.193818 19.042558)</td>\n",
              "      <td>19.042558</td>\n",
              "      <td>...</td>\n",
              "      <td>1.0</td>\n",
              "      <td>2.0</td>\n",
              "      <td>0.0</td>\n",
              "      <td>1.0</td>\n",
              "      <td>7.0</td>\n",
              "      <td>8.0</td>\n",
              "      <td>1.0</td>\n",
              "      <td>1.0</td>\n",
              "      <td>5.0</td>\n",
              "      <td>0.0</td>\n",
              "    </tr>\n",
              "    <tr>\n",
              "      <th>329</th>\n",
              "      <td>1.621636</td>\n",
              "      <td>1.513397</td>\n",
              "      <td>1.605731</td>\n",
              "      <td>329</td>\n",
              "      <td>bf720ff0-3b7d-47ed-ba49-f5d4bfb7293c</td>\n",
              "      <td>November 3, 2022</td>\n",
              "      <td>2022-11-03 16:15:13 UTC</td>\n",
              "      <td>Emilio Garza</td>\n",
              "      <td>SRID=4326;POINT(-98.1937349172 19.0428229892)</td>\n",
              "      <td>19.042823</td>\n",
              "      <td>...</td>\n",
              "      <td>1.0</td>\n",
              "      <td>2.0</td>\n",
              "      <td>0.0</td>\n",
              "      <td>1.0</td>\n",
              "      <td>7.0</td>\n",
              "      <td>8.0</td>\n",
              "      <td>1.0</td>\n",
              "      <td>1.0</td>\n",
              "      <td>5.0</td>\n",
              "      <td>0.0</td>\n",
              "    </tr>\n",
              "  </tbody>\n",
              "</table>\n",
              "<p>330 rows × 111 columns</p>\n",
              "</div>\n",
              "      <button class=\"colab-df-convert\" onclick=\"convertToInteractive('df-2054b58c-48b6-4eae-b7ab-55966a9ade02')\"\n",
              "              title=\"Convert this dataframe to an interactive table.\"\n",
              "              style=\"display:none;\">\n",
              "        \n",
              "  <svg xmlns=\"http://www.w3.org/2000/svg\" height=\"24px\"viewBox=\"0 0 24 24\"\n",
              "       width=\"24px\">\n",
              "    <path d=\"M0 0h24v24H0V0z\" fill=\"none\"/>\n",
              "    <path d=\"M18.56 5.44l.94 2.06.94-2.06 2.06-.94-2.06-.94-.94-2.06-.94 2.06-2.06.94zm-11 1L8.5 8.5l.94-2.06 2.06-.94-2.06-.94L8.5 2.5l-.94 2.06-2.06.94zm10 10l.94 2.06.94-2.06 2.06-.94-2.06-.94-.94-2.06-.94 2.06-2.06.94z\"/><path d=\"M17.41 7.96l-1.37-1.37c-.4-.4-.92-.59-1.43-.59-.52 0-1.04.2-1.43.59L10.3 9.45l-7.72 7.72c-.78.78-.78 2.05 0 2.83L4 21.41c.39.39.9.59 1.41.59.51 0 1.02-.2 1.41-.59l7.78-7.78 2.81-2.81c.8-.78.8-2.07 0-2.86zM5.41 20L4 18.59l7.72-7.72 1.47 1.35L5.41 20z\"/>\n",
              "  </svg>\n",
              "      </button>\n",
              "      \n",
              "  <style>\n",
              "    .colab-df-container {\n",
              "      display:flex;\n",
              "      flex-wrap:wrap;\n",
              "      gap: 12px;\n",
              "    }\n",
              "\n",
              "    .colab-df-convert {\n",
              "      background-color: #E8F0FE;\n",
              "      border: none;\n",
              "      border-radius: 50%;\n",
              "      cursor: pointer;\n",
              "      display: none;\n",
              "      fill: #1967D2;\n",
              "      height: 32px;\n",
              "      padding: 0 0 0 0;\n",
              "      width: 32px;\n",
              "    }\n",
              "\n",
              "    .colab-df-convert:hover {\n",
              "      background-color: #E2EBFA;\n",
              "      box-shadow: 0px 1px 2px rgba(60, 64, 67, 0.3), 0px 1px 3px 1px rgba(60, 64, 67, 0.15);\n",
              "      fill: #174EA6;\n",
              "    }\n",
              "\n",
              "    [theme=dark] .colab-df-convert {\n",
              "      background-color: #3B4455;\n",
              "      fill: #D2E3FC;\n",
              "    }\n",
              "\n",
              "    [theme=dark] .colab-df-convert:hover {\n",
              "      background-color: #434B5C;\n",
              "      box-shadow: 0px 1px 3px 1px rgba(0, 0, 0, 0.15);\n",
              "      filter: drop-shadow(0px 1px 2px rgba(0, 0, 0, 0.3));\n",
              "      fill: #FFFFFF;\n",
              "    }\n",
              "  </style>\n",
              "\n",
              "      <script>\n",
              "        const buttonEl =\n",
              "          document.querySelector('#df-2054b58c-48b6-4eae-b7ab-55966a9ade02 button.colab-df-convert');\n",
              "        buttonEl.style.display =\n",
              "          google.colab.kernel.accessAllowed ? 'block' : 'none';\n",
              "\n",
              "        async function convertToInteractive(key) {\n",
              "          const element = document.querySelector('#df-2054b58c-48b6-4eae-b7ab-55966a9ade02');\n",
              "          const dataTable =\n",
              "            await google.colab.kernel.invokeFunction('convertToInteractive',\n",
              "                                                     [key], {});\n",
              "          if (!dataTable) return;\n",
              "\n",
              "          const docLinkHtml = 'Like what you see? Visit the ' +\n",
              "            '<a target=\"_blank\" href=https://colab.research.google.com/notebooks/data_table.ipynb>data table notebook</a>'\n",
              "            + ' to learn more about interactive tables.';\n",
              "          element.innerHTML = '';\n",
              "          dataTable['output_type'] = 'display_data';\n",
              "          await google.colab.output.renderOutput(dataTable, element);\n",
              "          const docLink = document.createElement('div');\n",
              "          docLink.innerHTML = docLinkHtml;\n",
              "          element.appendChild(docLink);\n",
              "        }\n",
              "      </script>\n",
              "    </div>\n",
              "  </div>\n",
              "  "
            ]
          },
          "metadata": {},
          "execution_count": 266
        }
      ]
    },
    {
      "cell_type": "code",
      "source": [
        "#Visualizamos la gráfica comparativa entre el total real y el total predecido\n",
        "\n",
        "sns.scatterplot(x= '103_number_own_fridges', y= '268_number_fridges', color= 'blue', data=df)\n",
        "sns.scatterplot(x= '103_number_own_fridges', y= 'Predicciones3', color= 'red', data=df)"
      ],
      "metadata": {
        "colab": {
          "base_uri": "https://localhost:8080/",
          "height": 297
        },
        "id": "PDPGB6I66Q39",
        "outputId": "8f24af87-f020-47ca-97bd-50534ecdd2db"
      },
      "execution_count": 267,
      "outputs": [
        {
          "output_type": "execute_result",
          "data": {
            "text/plain": [
              "<matplotlib.axes._subplots.AxesSubplot at 0x7f6bc9861290>"
            ]
          },
          "metadata": {},
          "execution_count": 267
        },
        {
          "output_type": "display_data",
          "data": {
            "text/plain": [
              "<Figure size 432x288 with 1 Axes>"
            ],
            "image/png": "[encoded data removed]"
          },
          "metadata": {
            "needs_background": "light"
          }
        }
      ]
    },
    {
      "cell_type": "code",
      "source": [
        "#Visualizamos la gráfica comparativa entre el total real y el total predecido\n",
        "\n",
        "sns.scatterplot(x= '172_supplier_frequency', y= '268_number_fridges', color= 'blue', data=df)\n",
        "sns.scatterplot(x= '172_supplier_frequency', y= 'Predicciones3', color= 'red', data=df)"
      ],
      "metadata": {
        "colab": {
          "base_uri": "https://localhost:8080/",
          "height": 297
        },
        "id": "Vim68cLF6ULV",
        "outputId": "3555379e-68ee-4df3-9db2-e5f272c89806"
      },
      "execution_count": 268,
      "outputs": [
        {
          "output_type": "execute_result",
          "data": {
            "text/plain": [
              "<matplotlib.axes._subplots.AxesSubplot at 0x7f6bc98486d0>"
            ]
          },
          "metadata": {},
          "execution_count": 268
        },
        {
          "output_type": "display_data",
          "data": {
            "text/plain": [
              "<Figure size 432x288 with 1 Axes>"
            ],
            "image/png": "[encoded data removed]"
          },
          "metadata": {
            "needs_background": "light"
          }
        }
      ]
    },
    {
      "cell_type": "code",
      "source": [
        "#Visualizamos la gráfica comparativa entre el total real y el total predecido\n",
        "\n",
        "sns.scatterplot(x= '24_burnout', y= '268_number_fridges', color= 'blue', data=df)\n",
        "sns.scatterplot(x= '24_burnout', y= 'Predicciones3', color= 'red', data=df)"
      ],
      "metadata": {
        "colab": {
          "base_uri": "https://localhost:8080/",
          "height": 297
        },
        "id": "lWNBPhqX6UmF",
        "outputId": "ba5274e9-5fd1-4b4d-b7c0-67ec875178fd"
      },
      "execution_count": 269,
      "outputs": [
        {
          "output_type": "execute_result",
          "data": {
            "text/plain": [
              "<matplotlib.axes._subplots.AxesSubplot at 0x7f6bc97bc0d0>"
            ]
          },
          "metadata": {},
          "execution_count": 269
        },
        {
          "output_type": "display_data",
          "data": {
            "text/plain": [
              "<Figure size 432x288 with 1 Axes>"
            ],
            "image/png": "[encoded data removed]"
          },
          "metadata": {
            "needs_background": "light"
          }
        }
      ]
    },
    {
      "cell_type": "code",
      "source": [
        "#Corroboramos cual es el coeficiente de Determinación de nuestro modelo\n",
        "coef_Deter=model.score(X=Vars_Indep, y=Var_Dep)\n",
        "coef_Deter"
      ],
      "metadata": {
        "colab": {
          "base_uri": "https://localhost:8080/"
        },
        "id": "cRz3ky376lLz",
        "outputId": "b76171d4-d255-4c4e-8bc3-b661d49db1e2"
      },
      "execution_count": 270,
      "outputs": [
        {
          "output_type": "execute_result",
          "data": {
            "text/plain": [
              "0.019742366915657894"
            ]
          },
          "metadata": {},
          "execution_count": 270
        }
      ]
    },
    {
      "cell_type": "code",
      "source": [
        "#Corroboramos cual es el coeficiente de Correlación de nuestro modelo\n",
        "coef_Correl=np.sqrt(coef_Deter)\n",
        "coef_Correl"
      ],
      "metadata": {
        "colab": {
          "base_uri": "https://localhost:8080/"
        },
        "id": "R-WG6jVc6lwO",
        "outputId": "b1ab4813-3798-47a6-8c31-0acec989432a"
      },
      "execution_count": 271,
      "outputs": [
        {
          "output_type": "execute_result",
          "data": {
            "text/plain": [
              "0.14050753330571958"
            ]
          },
          "metadata": {},
          "execution_count": 271
        }
      ]
    },
    {
      "cell_type": "markdown",
      "source": [
        "**Regresión logística**"
      ],
      "metadata": {
        "id": "eOv9uqmFSU0G"
      }
    },
    {
      "cell_type": "code",
      "source": [
        "#Cargar archivo csv desde equipo\n",
        "from google.colab import files\n",
        "files.upload()"
      ],
      "metadata": {
        "id": "1NROd9YfynJf",
        "colab": {
          "base_uri": "https://localhost:8080/",
          "height": 1000
        },
        "outputId": "816b78c6-0ddf-479a-82d3-34e10700e7fc"
      },
      "execution_count": 272,
      "outputs": [
        {
          "output_type": "display_data",
          "data": {
            "text/plain": [
              "<IPython.core.display.HTML object>"
            ],
            "text/html": [
              "\n",
              "     <input type=\"file\" id=\"files-c72b1ad4-4246-49ed-9fef-8d23500a90ec\" name=\"files[]\" multiple disabled\n",
              "        style=\"border:none\" />\n",
              "     <output id=\"result-c72b1ad4-4246-49ed-9fef-8d23500a90ec\">\n",
              "      Upload widget is only available when the cell has been executed in the\n",
              "      current browser session. Please rerun this cell to enable.\n",
              "      </output>\n",
              "      <script>// Copyright 2017 Google LLC\n",
              "//\n",
              "// Licensed under the Apache License, Version 2.0 (the \"License\");\n",
              "// you may not use this file except in compliance with the License.\n",
              "// You may obtain a copy of the License at\n",
              "//\n",
              "//      http://www.apache.org/licenses/LICENSE-2.0\n",
              "//\n",
              "// Unless required by applicable law or agreed to in writing, software\n",
              "// distributed under the License is distributed on an \"AS IS\" BASIS,\n",
              "// WITHOUT WARRANTIES OR CONDITIONS OF ANY KIND, either express or implied.\n",
              "// See the License for the specific language governing permissions and\n",
              "// limitations under the License.\n",
              "\n",
              "/**\n",
              " * @fileoverview Helpers for google.colab Python module.\n",
              " */\n",
              "(function(scope) {\n",
              "function span(text, styleAttributes = {}) {\n",
              "  const element = document.createElement('span');\n",
              "  element.textContent = text;\n",
              "  for (const key of Object.keys(styleAttributes)) {\n",
              "    element.style[key] = styleAttributes[key];\n",
              "  }\n",
              "  return element;\n",
              "}\n",
              "\n",
              "// Max number of bytes which will be uploaded at a time.\n",
              "const MAX_PAYLOAD_SIZE = 100 * 1024;\n",
              "\n",
              "function _uploadFiles(inputId, outputId) {\n",
              "  const steps = uploadFilesStep(inputId, outputId);\n",
              "  const outputElement = document.getElementById(outputId);\n",
              "  // Cache steps on the outputElement to make it available for the next call\n",
              "  // to uploadFilesContinue from Python.\n",
              "  outputElement.steps = steps;\n",
              "\n",
              "  return _uploadFilesContinue(outputId);\n",
              "}\n",
              "\n",
              "// This is roughly an async generator (not supported in the browser yet),\n",
              "// where there are multiple asynchronous steps and the Python side is going\n",
              "// to poll for completion of each step.\n",
              "// This uses a Promise to block the python side on completion of each step,\n",
              "// then passes the result of the previous step as the input to the next step.\n",
              "function _uploadFilesContinue(outputId) {\n",
              "  const outputElement = document.getElementById(outputId);\n",
              "  const steps = outputElement.steps;\n",
              "\n",
              "  const next = steps.next(outputElement.lastPromiseValue);\n",
              "  return Promise.resolve(next.value.promise).then((value) => {\n",
              "    // Cache the last promise value to make it available to the next\n",
              "    // step of the generator.\n",
              "    outputElement.lastPromiseValue = value;\n",
              "    return next.value.response;\n",
              "  });\n",
              "}\n",
              "\n",
              "/**\n",
              " * Generator function which is called between each async step of the upload\n",
              " * process.\n",
              " * @param {string} inputId Element ID of the input file picker element.\n",
              " * @param {string} outputId Element ID of the output display.\n",
              " * @return {!Iterable<!Object>} Iterable of next steps.\n",
              " */\n",
              "function* uploadFilesStep(inputId, outputId) {\n",
              "  const inputElement = document.getElementById(inputId);\n",
              "  inputElement.disabled = false;\n",
              "\n",
              "  const outputElement = document.getElementById(outputId);\n",
              "  outputElement.innerHTML = '';\n",
              "\n",
              "  const pickedPromise = new Promise((resolve) => {\n",
              "    inputElement.addEventListener('change', (e) => {\n",
              "      resolve(e.target.files);\n",
              "    });\n",
              "  });\n",
              "\n",
              "  const cancel = document.createElement('button');\n",
              "  inputElement.parentElement.appendChild(cancel);\n",
              "  cancel.textContent = 'Cancel upload';\n",
              "  const cancelPromise = new Promise((resolve) => {\n",
              "    cancel.onclick = () => {\n",
              "      resolve(null);\n",
              "    };\n",
              "  });\n",
              "\n",
              "  // Wait for the user to pick the files.\n",
              "  const files = yield {\n",
              "    promise: Promise.race([pickedPromise, cancelPromise]),\n",
              "    response: {\n",
              "      action: 'starting',\n",
              "    }\n",
              "  };\n",
              "\n",
              "  cancel.remove();\n",
              "\n",
              "  // Disable the input element since further picks are not allowed.\n",
              "  inputElement.disabled = true;\n",
              "\n",
              "  if (!files) {\n",
              "    return {\n",
              "      response: {\n",
              "        action: 'complete',\n",
              "      }\n",
              "    };\n",
              "  }\n",
              "\n",
              "  for (const file of files) {\n",
              "    const li = document.createElement('li');\n",
              "    li.append(span(file.name, {fontWeight: 'bold'}));\n",
              "    li.append(span(\n",
              "        `(${file.type || 'n/a'}) - ${file.size} bytes, ` +\n",
              "        `last modified: ${\n",
              "            file.lastModifiedDate ? file.lastModifiedDate.toLocaleDateString() :\n",
              "                                    'n/a'} - `));\n",
              "    const percent = span('0% done');\n",
              "    li.appendChild(percent);\n",
              "\n",
              "    outputElement.appendChild(li);\n",
              "\n",
              "    const fileDataPromise = new Promise((resolve) => {\n",
              "      const reader = new FileReader();\n",
              "      reader.onload = (e) => {\n",
              "        resolve(e.target.result);\n",
              "      };\n",
              "      reader.readAsArrayBuffer(file);\n",
              "    });\n",
              "    // Wait for the data to be ready.\n",
              "    let fileData = yield {\n",
              "      promise: fileDataPromise,\n",
              "      response: {\n",
              "        action: 'continue',\n",
              "      }\n",
              "    };\n",
              "\n",
              "    // Use a chunked sending to avoid message size limits. See b/62115660.\n",
              "    let position = 0;\n",
              "    do {\n",
              "      const length = Math.min(fileData.byteLength - position, MAX_PAYLOAD_SIZE);\n",
              "      const chunk = new Uint8Array(fileData, position, length);\n",
              "      position += length;\n",
              "\n",
              "      const base64 = btoa(String.fromCharCode.apply(null, chunk));\n",
              "      yield {\n",
              "        response: {\n",
              "          action: 'append',\n",
              "          file: file.name,\n",
              "          data: base64,\n",
              "        },\n",
              "      };\n",
              "\n",
              "      let percentDone = fileData.byteLength === 0 ?\n",
              "          100 :\n",
              "          Math.round((position / fileData.byteLength) * 100);\n",
              "      percent.textContent = `${percentDone}% done`;\n",
              "\n",
              "    } while (position < fileData.byteLength);\n",
              "  }\n",
              "\n",
              "  // All done.\n",
              "  yield {\n",
              "    response: {\n",
              "      action: 'complete',\n",
              "    }\n",
              "  };\n",
              "}\n",
              "\n",
              "scope.google = scope.google || {};\n",
              "scope.google.colab = scope.google.colab || {};\n",
              "scope.google.colab._files = {\n",
              "  _uploadFiles,\n",
              "  _uploadFilesContinue,\n",
              "};\n",
              "})(self);\n",
              "</script> "
            ]
          },
          "metadata": {}
        },
        {
          "output_type": "stream",
          "name": "stdout",
          "text": [
            "Saving Datos_limpios_Micro_retailer_actualizado.csv to Datos_limpios_Micro_retailer_actualizado (7).csv\n"
          ]
        },
        {
          "output_type": "execute_result",
          "data": {
            "text/plain": [
              "{'Datos_limpios_Micro_retailer_actualizado.csv': b',_record_id,_title,_server_updated_at,_updated_by,_geometry,_latitude,_longitude,228_store_name,229_store_picture,232_type_of_store,108_does_the_micro_retailer_has_a_barred_window_,99_does_the_micro_retailer_exhibits_products_outside_,102_does_the_micro_retailer_sells_fresh_products_,184_store_devices,pictures_of_shelves_if_possible,hola_somos_estudiantes_del_tec_de_monterrey_estamos_realiz,le_comento_que_toda_esta_informacin_es_confidencial,233_date_establishment,5_change_store_space_last_year,6_change_employees_average_salary_last_year,20_reviews_finances_monthly,49_inventory_records,18_sales_records,155_sales_registers_used_for,19_tax_id,310_burnout,186_internet_connection,210_sales_channels,189_payment_methods,28_prefered_payment_method,31_different_prices_payment_method,269_cash_discount,270_card_extra_charge,271_card_fee,272_card_days_receive_money,273_platform_extra_charge,274_platform_fee,275_platform_days_receive_money,30_payment_methods_large_purchases,214_customer_relationship_tools,33_credit_to_customers,35_interest_rate,38_average_margin_profits,193_sales_planning_tools,227_agreement_ecommerce_platforms,60_services,77_delivery_timeslots,79_delivery_vehicle,64_comission_services,66_percentaje_services_income,69_why_not_services,311_topups,312_payment_of_utilities,313_home_deliveries,314_reception_delivery_packages,42_willingness_share_inventory_data_suppliers,44_willingness_inventory_management_suppliers,45_willingness_reorder_suppliers,46_willingness_reorder_suppliers_variety,47_willingness_reorder_suppliers_lower_prices,43_willingness_share_sales_data_suppliers,58_willingness_share_sales_data_mse,59_willingness_share_sales_data_mse_better_prices,185_place_orders_suppliers,53_special_conditions_suppliers,278_credit_interest,192_procurement_planning_tools,277_payment_method_suppliers,56_procurement_changes_pandemic,279_changes_procurement_pandemic,157_frequency_organize_shelves,158_charact_organize_products_on_shelves,161_actions_stockouts,162_inventory_extra_space,249_technology_training,250_technology_investment_operations,251_technology_investment_customers,254_technology_roadmap,260_technology_scalable,261_technology_organization,262_technology_serve_customers,263_technology_secure_sales,264_technology_budget,267_technology_investment_customer_preferences,234_willingness_participate_workshop,318_shopkeeper_name,319_shopkeepers_last_name,236_whatsapp,235_email,97_number_of_customers_in_store,268_number_fridges,104_how_many_shelves_does_the_micro_retailer_have,2_current_permanent_employees,4_number_permanent_employees_last_year,103_number_own_fridges,145_number_direct_competitors,24_burnout,272_card_days_receive_money,276_expected_days_informal_credit,36_credit_default_rate,315_frequency_topups,316_frequency_utility_bills,317_home_deliveries,62_frequency_only_services,78_number_home_deliveries_week,172_supplier_frequency,163_number_high_perishable_products\\n0,71326e5f-441e-4be7-bc68-b828973b8e3b,\"November 17, 2022\",2022-11-18 20:48:40 UTC,Uriel Bonilla,SRID=4326;POINT(-98.2013790035 19.0439654034),19.0439654034,-98.2013790035,Mini s\\xc3\\xbaper 7 hermanos ,1 Photo,Grocery store (aka. nanostore),no,yes,yes,\"Security cameras,Smartphone\",6 Photos,yes,yes,2002-01-17,No cambi\\xc3\\xb3,No cambi\\xc3\\xb3,yes,En Excel,En Excel,Controlar los movimientos de mis productos,yes,yes,yes,Ninguna ,Efectivo,Efectivo,no,6-10%,0,2-5%,0.0,11-15%,21%+,0.0,\"Efectivo,Tarjeta de d\\xc3\\xa9bito y/o cr\\xc3\\xa9dito,Transferencia interbancaria\",Ninguna,no,no,5%,Ninguna,no,Recarga telef\\xc3\\xb3nica,\"Ma\\xc3\\xb1ana (6:01- 11:59 am),Noche (7:01-11:00 pm),Tarde (12:00 - 7:00 pm)\",Autom\\xc3\\xb3vil,No respondi\\xc3\\xb3 ,11-15%,\"No conozco los servicios,No creo que represente grandes ingresos\",Totalmente de acuerdo,Algo de acuerdo,Totalmente en desacuerdo,Totalmente en desacuerdo,Totalmente de acuerdo,Totalmente de acuerdo,Totalmente de acuerdo,Totalmente de acuerdo,Totalmente de acuerdo,Totalmente de acuerdo,Totalmente de acuerdo,Totalmente de acuerdo,Sistema especializado del proveedor (e.g. VMS),\"Consignaci\\xc3\\xb3n,Cr\\xc3\\xa9dito,Descuento por compras anticipadas,Recompra\",6-8%,Excel,Efectivo,no,Aumentar la cantidad del pedido,Diariamente,Margen de utilidad,Perder la venta,10%,Ni de acuerdo ni en desacuerdo,De acuerdo,De acuerdo,Totalmente en desacuerdo,De acuerdo,De acuerdo,Ni de acuerdo ni en desacuerdo,Ni de acuerdo ni en desacuerdo,Ni de acuerdo ni en desacuerdo,Ni de acuerdo ni en desacuerdo,no,Angeles ,Flores Tlahuisca,2226697055.0,diana.escobarvarillas@gmail.com,1.0,3.0,3.0,2.0,10.0,3.0,5.0,2.0,0.0,1.0,1.0,20.0,2.0,4.0,10.0,3.0,2.0,10.0\\n1,a38b7c68-0afa-4419-a580-7086538b2e21,\"November 17, 2022\",2022-11-18 20:48:39 UTC,Uriel Bonilla,SRID=4326;POINT(-98.2016961782 19.0439749111),19.0439749111,-98.2016961782,Super papas Lulu,1 Photo,Grocery store (aka. nanostore),no,yes,yes,Smartphone,6 Photos,no,yes,2022-04-10,No cambi\\xc3\\xb3,No cambi\\xc3\\xb3,no,En papel,En papel,Controlar los movimientos de mis productos,no,no,no,Ninguno ,Efectivo,Efectivo,no,6-10%,0,2-5%,0.0,11-15%,21%+,0.0,\"Efectivo,Tarjeta de d\\xc3\\xa9bito y/o cr\\xc3\\xa9dito,Transferencia interbancaria\",Cuaderno,no,no,10%,Cuaderno,no,Ninguno,\"Ma\\xc3\\xb1ana (6:01- 11:59 am),Noche (7:01-11:00 pm),Tarde (12:00 - 7:00 pm)\",Autom\\xc3\\xb3vil,0,1-5%,\"No conozco los servicios,No creo que represente grandes ingresos\",Totalmente de acuerdo,Totalmente de acuerdo,Algo de acuerdo,Algo de acuerdo,Totalmente de acuerdo,Totalmente de acuerdo,Totalmente de acuerdo,Algo en desacuerdo,Totalmente de acuerdo,Totalmente de acuerdo,Totalmente de acuerdo,Totalmente de acuerdo,\"En persona,Llamada telef\\xc3\\xb3nica,Mensajer\\xc3\\xada instant\\xc3\\xa1nea (e.g. WhatsApp)\",\"Consignaci\\xc3\\xb3n,Descuento por compras anticipadas\",6-8%,Cuaderno,\"Efectivo,Transferencia interbancaria\",no,Aumentar la cantidad del pedido,Diariamente,Precio,Perder la venta,10%,Ni de acuerdo ni en desacuerdo,En desacuerdo,En desacuerdo,En desacuerdo,En desacuerdo,En desacuerdo,De acuerdo,En desacuerdo,Totalmente en desacuerdo,En desacuerdo,no,Angeles ,Flores Tlahuisca,2226697055.0,diana.escobarvarillas@gmail.com,2.0,0.0,0.0,0.0,0.0,4.0,10.0,3.0,0.0,1.0,1.0,7.0,2.0,4.0,0.0,3.0,1.0,0.0\\n2,c11ef540-e06c-4722-a071-09a127ebc23c,\"November 10, 2022\",2022-11-18 20:48:38 UTC,Uriel Bonilla,SRID=4326;POINT(-98.1964474585 19.0432999683),19.0432999683,-98.1964474585,Arte Paquist\\xc3\\xa1n ,1 Photo,Grocery store (aka. nanostore),no,yes,no,\"Analog cash register,Smartphone\",6 Photos,no,yes,2022-04-10,No cambi\\xc3\\xb3,No cambi\\xc3\\xb3,no,En papel,En papel,Controlar los movimientos de mis productos,no,no,no,Ninguno ,Efectivo,Efectivo,no,6-10%,0,2-5%,0.0,11-15%,21%+,0.0,\"Efectivo,Tarjeta de d\\xc3\\xa9bito y/o cr\\xc3\\xa9dito,Transferencia interbancaria\",Cuaderno,no,no,10%,Cuaderno,no,Ninguno,\"Ma\\xc3\\xb1ana (6:01- 11:59 am),Noche (7:01-11:00 pm),Tarde (12:00 - 7:00 pm)\",Autom\\xc3\\xb3vil,0,1-5%,\"No conozco los servicios,No creo que represente grandes ingresos\",Totalmente de acuerdo,Totalmente de acuerdo,Algo de acuerdo,Algo de acuerdo,Totalmente de acuerdo,Totalmente de acuerdo,Totalmente de acuerdo,Algo en desacuerdo,Totalmente de acuerdo,Totalmente de acuerdo,Totalmente de acuerdo,Totalmente de acuerdo,\"En persona,Llamada telef\\xc3\\xb3nica,Mensajer\\xc3\\xada instant\\xc3\\xa1nea (e.g. WhatsApp)\",\"Consignaci\\xc3\\xb3n,Descuento por compras anticipadas\",6-8%,Cuaderno,\"Efectivo,Transferencia interbancaria\",no,Aumentar la cantidad del pedido,Diariamente,Precio,Perder la venta,10%,Ni de acuerdo ni en desacuerdo,En desacuerdo,En desacuerdo,En desacuerdo,En desacuerdo,En desacuerdo,De acuerdo,En desacuerdo,Totalmente en desacuerdo,En desacuerdo,no,Angeles ,Flores Tlahuisca,2226697055.0,diana.escobarvarillas@gmail.com,2.0,0.0,0.0,0.0,0.0,4.0,10.0,3.0,0.0,1.0,1.0,7.0,2.0,4.0,0.0,3.0,1.0,0.0\\n3,c7434cb2-dde0-4901-80d7-3d60506ebd27,\"November 10, 2022\",2022-11-18 20:48:38 UTC,Uriel Bonilla,SRID=4326;POINT(-98.197072078 19.0405699102),19.0405699102,-98.197072078,El vestir,1 Photo,Grocery store (aka. nanostore),no,yes,no,Smartphone,6 Photos,yes,yes,2022-04-10,No cambi\\xc3\\xb3,No cambi\\xc3\\xb3,no,En papel,En papel,Controlar los movimientos de mis productos,no,no,no,Ninguno ,Efectivo,Efectivo,no,6-10%,0,2-5%,0.0,11-15%,21%+,0.0,\"Efectivo,Tarjeta de d\\xc3\\xa9bito y/o cr\\xc3\\xa9dito,Transferencia interbancaria\",Cuaderno,no,no,10%,Cuaderno,no,Ninguno,\"Ma\\xc3\\xb1ana (6:01- 11:59 am),Noche (7:01-11:00 pm),Tarde (12:00 - 7:00 pm)\",Autom\\xc3\\xb3vil,0,1-5%,\"No conozco los servicios,No creo que represente grandes ingresos\",Totalmente de acuerdo,Totalmente de acuerdo,Algo de acuerdo,Algo de acuerdo,Totalmente de acuerdo,Totalmente de acuerdo,Totalmente de acuerdo,Algo en desacuerdo,Totalmente de acuerdo,Totalmente de acuerdo,Totalmente de acuerdo,Totalmente de acuerdo,\"En persona,Llamada telef\\xc3\\xb3nica,Mensajer\\xc3\\xada instant\\xc3\\xa1nea (e.g. WhatsApp)\",\"Consignaci\\xc3\\xb3n,Descuento por compras anticipadas\",6-8%,Cuaderno,\"Efectivo,Transferencia interbancaria\",no,Aumentar la cantidad del pedido,Diariamente,Precio,Perder la venta,10%,Ni de acuerdo ni en desacuerdo,En desacuerdo,En desacuerdo,En desacuerdo,En desacuerdo,En desacuerdo,De acuerdo,En desacuerdo,Totalmente en desacuerdo,En desacuerdo,no,Angeles ,Flores Tlahuisca,2226697055.0,diana.escobarvarillas@gmail.com,1.0,0.0,0.0,0.0,0.0,4.0,10.0,3.0,0.0,1.0,1.0,7.0,2.0,4.0,0.0,3.0,1.0,0.0\\n4,3c2177cc-677b-4106-8ed2-6e50f7671a0e,\"November 17, 2022\",2022-11-18 13:30:19 UTC,Fernando B\\xc3\\xa1ez,SRID=4326;POINT(-98.201134218 19.0436743967),19.0436743967,-98.201134218,Antojitos Tony,1 Photo,Micro-restaurant (aka. fondita),no,no,yes,\"Security cameras,Smartphone\",6 Photos,no,yes,1976-11-17,No cambi\\xc3\\xb3,Aument\\xc3\\xb3 15%,yes,\"En Excel,Software especializado + computadora\",\"En Excel,Software especializado + computadora\",Controlar los movimientos de mis productos,yes,yes,yes,\"Aplicaci\\xc3\\xb3n m\\xc3\\xb3vil (e.g. Rappi, Uber Eats),Llamada a Tel\\xc3\\xa9fono celular,Llamada a Tel\\xc3\\xa9fono fijo,WhatsApp\",\"Efectivo,Tarjeta de d\\xc3\\xa9bito y/o cr\\xc3\\xa9dito\",Efectivo,no,6-10%,0,2-5%,0.0,11-15%,21%+,0.0,\"Efectivo,Tarjeta de d\\xc3\\xa9bito y/o cr\\xc3\\xa9dito,Transferencia interbancaria\",\"Excel,Redes sociales\",no,no,20%,\"Excel,Software especializado\",yes,Entrega a domicilio,\"Ma\\xc3\\xb1ana (6:01- 11:59 am),Noche (7:01-11:00 pm),Tarde (12:00 - 7:00 pm)\",Autom\\xc3\\xb3vil,0,1-5%,No saben cuanto conviene,Ni de acuerdo ni en desacuerdo,Totalmente en desacuerdo,Totalmente de acuerdo,Totalmente en desacuerdo,Ni de acuerdo ni en desacuerdo,Ni de acuerdo ni en desacuerdo,Algo de acuerdo,Algo de acuerdo,Totalmente de acuerdo,Totalmente en desacuerdo,Totalmente en desacuerdo,Algo de acuerdo,\"En persona,Llamada telef\\xc3\\xb3nica,Mensaje de texto (SMS),Mensajer\\xc3\\xada instant\\xc3\\xa1nea (e.g. WhatsApp)\",Cr\\xc3\\xa9dito,0,Software especializado,\"Efectivo,Tarjeta de d\\xc3\\xa9bito y/o cr\\xc3\\xa9dito\",no,Aumentar la cantidad del pedido,Diariamente,\"Precio,Tama\\xc3\\xb1o\",\"Ofrecer un producto sustituto,Perder la venta\",40%,De acuerdo,Totalmente de acuerdo,Totalmente de acuerdo,De acuerdo,De acuerdo,Totalmente de acuerdo,De acuerdo,Totalmente de acuerdo,Ni de acuerdo ni en desacuerdo,De acuerdo,no,Angeles ,Flores Tlahuisca,2226697055.0,diana.escobarvarillas@gmail.com,3.0,2.0,3.0,10.0,14.0,4.0,3.0,3.0,0.0,1.0,1.0,7.0,2.0,4.0,0.0,3.0,3.0,30.0\\n5,d51aeea1-a57f-4b49-ac0a-152211836a47,\"November 17, 2022\",2022-11-18 13:30:19 UTC,Fernando B\\xc3\\xa1ez,SRID=4326;POINT(-98.2009122091 19.0440017492),19.0440017492,-98.2009122091,La California ,1 Photo,Grocery store (aka. nanostore),no,no,yes,\"Security cameras,Smartphone\",6 Photos,no,yes,1976-11-17,No cambi\\xc3\\xb3,Aument\\xc3\\xb3 15%,yes,\"En Excel,Software especializado + computadora\",\"En Excel,Software especializado + computadora\",Controlar los movimientos de mis productos,yes,yes,yes,\"Aplicaci\\xc3\\xb3n m\\xc3\\xb3vil (e.g. Rappi, Uber Eats),Llamada a Tel\\xc3\\xa9fono celular,Llamada a Tel\\xc3\\xa9fono fijo,WhatsApp\",\"Efectivo,Tarjeta de d\\xc3\\xa9bito y/o cr\\xc3\\xa9dito\",Efectivo,no,6-10%,0,2-5%,0.0,11-15%,21%+,0.0,\"Efectivo,Tarjeta de d\\xc3\\xa9bito y/o cr\\xc3\\xa9dito,Transferencia interbancaria\",\"Excel,Redes sociales\",no,no,20%,\"Excel,Software especializado\",yes,Entrega a domicilio,\"Ma\\xc3\\xb1ana (6:01- 11:59 am),Noche (7:01-11:00 pm),Tarde (12:00 - 7:00 pm)\",Autom\\xc3\\xb3vil,0,1-5%,No saben cuanto conviene,Ni de acuerdo ni en desacuerdo,Totalmente en desacuerdo,Totalmente de acuerdo,Totalmente en desacuerdo,Ni de acuerdo ni en desacuerdo,Ni de acuerdo ni en desacuerdo,Algo de acuerdo,Algo de acuerdo,Totalmente de acuerdo,Totalmente en desacuerdo,Totalmente en desacuerdo,Algo de acuerdo,\"En persona,Llamada telef\\xc3\\xb3nica,Mensaje de texto (SMS),Mensajer\\xc3\\xada instant\\xc3\\xa1nea (e.g. WhatsApp)\",Cr\\xc3\\xa9dito,0,Software especializado,\"Efectivo,Tarjeta de d\\xc3\\xa9bito y/o cr\\xc3\\xa9dito\",no,Aumentar la cantidad del pedido,Diariamente,\"Precio,Tama\\xc3\\xb1o\",\"Ofrecer un producto sustituto,Perder la venta\",40%,De acuerdo,Totalmente de acuerdo,Totalmente de acuerdo,De acuerdo,De acuerdo,Totalmente de acuerdo,De acuerdo,Totalmente de acuerdo,Ni de acuerdo ni en desacuerdo,De acuerdo,no,Angeles ,Flores Tlahuisca,2226697055.0,diana.escobarvarillas@gmail.com,2.0,1.0,6.0,10.0,14.0,4.0,3.0,3.0,0.0,1.0,1.0,7.0,2.0,4.0,0.0,3.0,3.0,30.0\\n6,5e515ec5-0af2-4547-bccc-b95f39029b9a,\"November 17, 2022\",2022-11-18 13:30:18 UTC,Fernando B\\xc3\\xa1ez,SRID=4326;POINT(-98.2014716097 19.0439195986),19.0439195986,-98.2014716097,Cada pilastra ,1 Photo,Cafeteria,no,no,yes,\"POS system (i.e. computer + bar code scanner + printer),Security cameras,Smartphone\",6 Photos,no,yes,1976-11-17,No cambi\\xc3\\xb3,Aument\\xc3\\xb3 15%,yes,\"En Excel,Software especializado + computadora\",\"En Excel,Software especializado + computadora\",Controlar los movimientos de mis productos,yes,yes,yes,\"Aplicaci\\xc3\\xb3n m\\xc3\\xb3vil (e.g. Rappi, Uber Eats),Llamada a Tel\\xc3\\xa9fono celular,Llamada a Tel\\xc3\\xa9fono fijo,WhatsApp\",\"Efectivo,Tarjeta de d\\xc3\\xa9bito y/o cr\\xc3\\xa9dito\",Efectivo,no,6-10%,0,2-5%,0.0,11-15%,21%+,0.0,\"Efectivo,Tarjeta de d\\xc3\\xa9bito y/o cr\\xc3\\xa9dito,Transferencia interbancaria\",\"Excel,Redes sociales\",no,no,20%,\"Excel,Software especializado\",yes,Entrega a domicilio,\"Ma\\xc3\\xb1ana (6:01- 11:59 am),Noche (7:01-11:00 pm),Tarde (12:00 - 7:00 pm)\",Autom\\xc3\\xb3vil,0,1-5%,No saben cuanto conviene,Ni de acuerdo ni en desacuerdo,Totalmente en desacuerdo,Totalmente de acuerdo,Totalmente en desacuerdo,Ni de acuerdo ni en desacuerdo,Ni de acuerdo ni en desacuerdo,Algo de acuerdo,Algo de acuerdo,Totalmente de acuerdo,Totalmente en desacuerdo,Totalmente en desacuerdo,Algo de acuerdo,\"En persona,Llamada telef\\xc3\\xb3nica,Mensaje de texto (SMS),Mensajer\\xc3\\xada instant\\xc3\\xa1nea (e.g. WhatsApp)\",Cr\\xc3\\xa9dito,0,Software especializado,\"Efectivo,Tarjeta de d\\xc3\\xa9bito y/o cr\\xc3\\xa9dito\",no,Aumentar la cantidad del pedido,Diariamente,\"Precio,Tama\\xc3\\xb1o\",\"Ofrecer un producto sustituto,Perder la venta\",40%,De acuerdo,Totalmente de acuerdo,Totalmente de acuerdo,De acuerdo,De acuerdo,Totalmente de acuerdo,De acuerdo,Totalmente de acuerdo,Ni de acuerdo ni en desacuerdo,De acuerdo,no,Angeles ,Flores Tlahuisca,2226697055.0,diana.escobarvarillas@gmail.com,0.0,2.0,2.0,10.0,14.0,4.0,3.0,3.0,0.0,1.0,1.0,7.0,2.0,4.0,0.0,3.0,3.0,30.0\\n7,6f361b49-fc33-499a-9ca0-12e1cf79ea81,\"November 17, 2022\",2022-11-18 13:30:18 UTC,Fernando B\\xc3\\xa1ez,SRID=4326;POINT(-98.2013931652 19.043971536),19.043971536,-98.2013931652,Tortas 7 hermanos ,1 Photo,Micro-restaurant (aka. fondita),no,no,yes,\"POS system (i.e. computer + bar code scanner + printer),Smartphone\",6 Photos,no,yes,1976-11-17,No cambi\\xc3\\xb3,Aument\\xc3\\xb3 15%,yes,\"En Excel,Software especializado + computadora\",\"En Excel,Software especializado + computadora\",Controlar los movimientos de mis productos,yes,yes,yes,\"Aplicaci\\xc3\\xb3n m\\xc3\\xb3vil (e.g. Rappi, Uber Eats),Llamada a Tel\\xc3\\xa9fono celular,Llamada a Tel\\xc3\\xa9fono fijo,WhatsApp\",\"Efectivo,Tarjeta de d\\xc3\\xa9bito y/o cr\\xc3\\xa9dito\",Efectivo,no,6-10%,0,2-5%,0.0,11-15%,21%+,0.0,\"Efectivo,Tarjeta de d\\xc3\\xa9bito y/o cr\\xc3\\xa9dito,Transferencia interbancaria\",\"Excel,Redes sociales\",no,no,20%,\"Excel,Software especializado\",yes,Entrega a domicilio,\"Ma\\xc3\\xb1ana (6:01- 11:59 am),Noche (7:01-11:00 pm),Tarde (12:00 - 7:00 pm)\",Autom\\xc3\\xb3vil,0,1-5%,No saben cuanto conviene,Ni de acuerdo ni en desacuerdo,Totalmente en desacuerdo,Totalmente de acuerdo,Totalmente en desacuerdo,Ni de acuerdo ni en desacuerdo,Ni de acuerdo ni en desacuerdo,Algo de acuerdo,Algo de acuerdo,Totalmente de acuerdo,Totalmente en desacuerdo,Totalmente en desacuerdo,Algo de acuerdo,\"En persona,Llamada telef\\xc3\\xb3nica,Mensaje de texto (SMS),Mensajer\\xc3\\xada instant\\xc3\\xa1nea (e.g. WhatsApp)\",Cr\\xc3\\xa9dito,0,Software especializado,\"Efectivo,Tarjeta de d\\xc3\\xa9bito y/o cr\\xc3\\xa9dito\",no,Aumentar la cantidad del pedido,Diariamente,\"Precio,Tama\\xc3\\xb1o\",\"Ofrecer un producto sustituto,Perder la venta\",40%,De acuerdo,Totalmente de acuerdo,Totalmente de acuerdo,De acuerdo,De acuerdo,Totalmente de acuerdo,De acuerdo,Totalmente de acuerdo,Ni de acuerdo ni en desacuerdo,De acuerdo,no,Angeles ,Flores Tlahuisca,2226697055.0,diana.escobarvarillas@gmail.com,3.0,2.0,2.0,10.0,14.0,4.0,3.0,3.0,0.0,1.0,1.0,7.0,2.0,4.0,0.0,3.0,3.0,30.0\\n8,8ed941a0-46da-48bc-9205-67125f3ec5a1,\"November 17, 2022\",2022-11-18 13:30:17 UTC,Fernando B\\xc3\\xa1ez,SRID=4326;POINT(-98.2017912559 19.0439668372),19.0439668372,-98.2017912559,La margarita,1 Photo,Micro-restaurant (aka. fondita),no,no,yes,\"POS system (i.e. computer + bar code scanner + printer),Security cameras,Smartphone\",6 Photos,yes,yes,1976-11-17,No cambi\\xc3\\xb3,Aument\\xc3\\xb3 15%,yes,\"En Excel,Software especializado + computadora\",\"En Excel,Software especializado + computadora\",Controlar los movimientos de mis productos,yes,yes,yes,\"Aplicaci\\xc3\\xb3n m\\xc3\\xb3vil (e.g. Rappi, Uber Eats),Llamada a Tel\\xc3\\xa9fono celular,Llamada a Tel\\xc3\\xa9fono fijo,WhatsApp\",\"Efectivo,Tarjeta de d\\xc3\\xa9bito y/o cr\\xc3\\xa9dito\",Efectivo,no,6-10%,0,2-5%,0.0,11-15%,21%+,0.0,\"Efectivo,Tarjeta de d\\xc3\\xa9bito y/o cr\\xc3\\xa9dito,Transferencia interbancaria\",\"Excel,Redes sociales\",no,no,20%,\"Excel,Software especializado\",yes,Entrega a domicilio,\"Ma\\xc3\\xb1ana (6:01- 11:59 am),Noche (7:01-11:00 pm),Tarde (12:00 - 7:00 pm)\",Autom\\xc3\\xb3vil,0,1-5%,No saben cuanto conviene,Ni de acuerdo ni en desacuerdo,Totalmente en desacuerdo,Totalmente de acuerdo,Totalmente en desacuerdo,Ni de acuerdo ni en desacuerdo,Ni de acuerdo ni en desacuerdo,Algo de acuerdo,Algo de acuerdo,Totalmente de acuerdo,Totalmente en desacuerdo,Totalmente en desacuerdo,Algo de acuerdo,\"En persona,Llamada telef\\xc3\\xb3nica,Mensaje de texto (SMS),Mensajer\\xc3\\xada instant\\xc3\\xa1nea (e.g. WhatsApp)\",Cr\\xc3\\xa9dito,0,Software especializado,\"Efectivo,Tarjeta de d\\xc3\\xa9bito y/o cr\\xc3\\xa9dito\",no,Aumentar la cantidad del pedido,Diariamente,\"Precio,Tama\\xc3\\xb1o\",\"Ofrecer un producto sustituto,Perder la venta\",40%,De acuerdo,Totalmente de acuerdo,Totalmente de acuerdo,De acuerdo,De acuerdo,Totalmente de acuerdo,De acuerdo,Totalmente de acuerdo,Ni de acuerdo ni en desacuerdo,De acuerdo,no,Angeles ,Flores Tlahuisca,2226697055.0,diana.escobarvarillas@gmail.com,6.0,4.0,3.0,10.0,14.0,4.0,3.0,3.0,0.0,1.0,1.0,7.0,2.0,4.0,0.0,3.0,3.0,30.0\\n9,35a22300-2325-4697-8572-dc9ebb4fd6c3,\"November 17, 2022\",2022-11-18 12:58:55 UTC,Jos\\xc3\\xa9 Zapata,SRID=4326;POINT(-98.220304 19.016819),19.016819,-98.220304,Dulceria Perez,1 Photo,Dulceria ,yes,yes,no,\"Dataphone (i.e. card payments),Smartphone\",6 Photos,yes,yes,2019-11-17,No cambi\\xc3\\xb3,No cambi\\xc3\\xb3,yes,En papel,No lo hago,Controlar los movimientos de mis productos,no,no,no,\"Llamada a Tel\\xc3\\xa9fono fijo,WhatsApp\",\"Efectivo,Tarjeta de d\\xc3\\xa9bito y/o cr\\xc3\\xa9dito\",Efectivo,no,6-10%,0,0,2.0,0,21%+,7.0,Tarjeta de d\\xc3\\xa9bito y/o cr\\xc3\\xa9dito,\"Aplicaci\\xc3\\xb3n m\\xc3\\xb3vil,De frente\",no,no,15%,Cuaderno,no,Ninguno,\"Ma\\xc3\\xb1ana (6:01- 11:59 am),Noche (7:01-11:00 pm),Tarde (12:00 - 7:00 pm)\",Autom\\xc3\\xb3vil,Ninguno ,6-10%,No saben cuanto conviene,Totalmente en desacuerdo,Totalmente en desacuerdo,Totalmente de acuerdo,Ni de acuerdo ni en desacuerdo,Totalmente en desacuerdo,Totalmente en desacuerdo,Totalmente en desacuerdo,Totalmente en desacuerdo,Totalmente en desacuerdo,Totalmente en desacuerdo,Totalmente en desacuerdo,Algo de acuerdo,En persona,Cr\\xc3\\xa9dito,0,Cuaderno,Efectivo,no,Aumentar la cantidad del pedido,Semanalmente,\"Categor\\xc3\\xada (e.g. limpieza, aseo personal, comestibles, l\\xc3\\xa1cteos, etc.)\",Ofrecer un producto sustituto,0,Totalmente de acuerdo,Totalmente de acuerdo,Totalmente de acuerdo,Totalmente de acuerdo,Totalmente de acuerdo,Totalmente de acuerdo,Totalmente de acuerdo,Totalmente en desacuerdo,Totalmente en desacuerdo,De acuerdo,yes,Angeles ,Flores Tlahuisca,2226697055.0,diana.escobarvarillas@gmail.com,1.0,0.0,6.0,0.0,1.0,0.0,1.0,7.0,2.0,1.0,1.0,7.0,2.0,5.0,4.0,3.0,1.0,0.0\\n10,1a4595e1-61f6-4634-81ad-6a180522b6ce,\"November 10, 2022\",2022-11-18 05:34:01 UTC,Jos\\xc3\\xa9 Zapata,SRID=4326;POINT(-98.218743 19.017336),19.017336,-98.218743,Sal\\xc3\\xb3n de eventos,2 Photos,Sal\\xc3\\xb3n de eventos,yes,yes,no,Smartphone,1 Photo,yes,yes,2022-11-10,No cambi\\xc3\\xb3,No cambi\\xc3\\xb3,yes,En papel,En papel,No los uso,no,no,yes,\"Llamada a Tel\\xc3\\xa9fono fijo,WhatsApp\",Efectivo,Efectivo,no,6-10%,0,2-5%,1.0,0,21%+,7.0,Transferencia interbancaria,\"Aplicaci\\xc3\\xb3n m\\xc3\\xb3vil,De frente\",no,no,5%,Other,no,Renta de local,\"Ma\\xc3\\xb1ana (6:01- 11:59 am),Noche (7:01-11:00 pm),Tarde (12:00 - 7:00 pm)\",Autom\\xc3\\xb3vil,Ninguno ,6-10%,No quiero involucrarme con la tecnolog\\xc3\\xada,Totalmente en desacuerdo,Totalmente en desacuerdo,Totalmente en desacuerdo,Totalmente en desacuerdo,Totalmente en desacuerdo,Totalmente en desacuerdo,Totalmente en desacuerdo,Algo en desacuerdo,Totalmente en desacuerdo,Totalmente en desacuerdo,Totalmente en desacuerdo,Totalmente en desacuerdo,\"En persona,Llamada telef\\xc3\\xb3nica,Mensajer\\xc3\\xada instant\\xc3\\xa1nea (e.g. WhatsApp)\",Cr\\xc3\\xa9dito,0,Ninguna,\"Efectivo,Tarjeta de d\\xc3\\xa9bito y/o cr\\xc3\\xa9dito,Transferencia interbancaria\",no,Aumentar la cantidad del pedido,Nunca,\"Categor\\xc3\\xada (e.g. limpieza, aseo personal, comestibles, l\\xc3\\xa1cteos, etc.)\",Solicitar tiempo al cliente para conseguir el producto,0,Ni de acuerdo ni en desacuerdo,De acuerdo,De acuerdo,Totalmente en desacuerdo,Ni de acuerdo ni en desacuerdo,Ni de acuerdo ni en desacuerdo,Ni de acuerdo ni en desacuerdo,Ni de acuerdo ni en desacuerdo,En desacuerdo,De acuerdo,no,Diana ,Escobar,2223733643.0,diana.escobarvarillas@gmail.com,1.0,0.0,0.0,2.0,2.0,0.0,0.0,7.0,1.0,1.0,1.0,7.0,2.0,5.0,4.0,3.0,1.0,0.0\\n11,7b55f258-9c60-4529-b876-b72032134837,\"November 17, 2022\",2022-11-18 05:29:39 UTC,Jos\\xc3\\xa9 Zapata,SRID=4326;POINT(-98.217676 19.021045),19.021045,-98.217676,Sweet and Coffee ,1 Photo,Cafeteria,yes,no,yes,\"Dataphone (i.e. card payments),POS system (i.e. computer + bar code scanner + printer),Security cameras,Smartphone\",1 Photo,yes,yes,2016-11-17,Aument\\xc3\\xb3 50% o m\\xc3\\xa1s,Aumento 1.20%,yes,En Excel,\"Aplicaci\\xc3\\xb3n m\\xc3\\xb3vil (i.e. App) + smartphone,Software especializado + computadora\",No los uso,yes,yes,yes,\"Aplicaci\\xc3\\xb3n m\\xc3\\xb3vil (e.g. Rappi, Uber Eats),Redes sociales (e.g. Facebook, Instagram),WhatsApp\",\"Efectivo,Tarjeta de d\\xc3\\xa9bito y/o cr\\xc3\\xa9dito,Transferencia interbancaria\",Efectivo,no,6-10%,0,2-5%,1.0,0,21%+,7.0,Transferencia interbancaria,\"Redes sociales,Telefono\",no,no,35%,Ninguna,yes,\"Entrega a domicilio,Internet,Recepci\\xc3\\xb3n y entrega de paquetes (e.g. Amazon, Mercado Libre)\",\"Ma\\xc3\\xb1ana (6:01- 11:59 am),Noche (7:01-11:00 pm),Tarde (12:00 - 7:00 pm)\",Autom\\xc3\\xb3vil,6%+,0.14%,No quiero involucrarme con la tecnolog\\xc3\\xada,Totalmente en desacuerdo,Totalmente en desacuerdo,Totalmente en desacuerdo,Totalmente en desacuerdo,Totalmente de acuerdo,Totalmente en desacuerdo,Ni de acuerdo ni en desacuerdo,Totalmente en desacuerdo,Totalmente de acuerdo,Totalmente en desacuerdo,Totalmente en desacuerdo,Totalmente en desacuerdo,\"En persona,Llamada telef\\xc3\\xb3nica,Mensajer\\xc3\\xada instant\\xc3\\xa1nea (e.g. WhatsApp)\",Cr\\xc3\\xa9dito,0,Cuaderno,\"Efectivo,Tarjeta de d\\xc3\\xa9bito y/o cr\\xc3\\xa9dito,Transferencia interbancaria\",no,Aumentar la cantidad del pedido,Semanalmente,\"Categor\\xc3\\xada (e.g. limpieza, aseo personal, comestibles, l\\xc3\\xa1cteos, etc.)\",Ofrecer un producto sustituto,50% +,Totalmente de acuerdo,Totalmente de acuerdo,Totalmente de acuerdo,Totalmente en desacuerdo,Totalmente de acuerdo,Totalmente de acuerdo,De acuerdo,De acuerdo,Totalmente en desacuerdo,Totalmente de acuerdo,yes,Diana ,Escobar,2223733643.0,diana.escobarvarillas@gmail.com,1.0,2.0,2.0,3.0,8.0,0.0,5.0,7.0,1.0,1.0,1.0,7.0,2.0,5.0,2.0,3.0,2.0,32.0\\n12,fb9301dd-ec43-4bc4-8f50-0e1a9dbe84ad,\"November 8, 2022\",2022-11-18 04:35:14 UTC,Cristian Contreras,SRID=4326;POINT(-98.2212818134 19.0417481554),19.0417481554,-98.2212818134,Cemitas Paty,1 Photo,Micro-restaurant (aka. fondita),no,no,yes,Smartphone,1 Photo,yes,yes,2021-04-19,No cambi\\xc3\\xb3,Aument\\xc3\\xb3 15%,no,No lo hago,En papel,No los uso,no,no,yes,\"Llamada a Tel\\xc3\\xa9fono celular,WhatsApp\",Efectivo,Efectivo,no,6-10%,0,2-5%,1.0,0,6-10%,1.0,Tarjeta de d\\xc3\\xa9bito y/o cr\\xc3\\xa9dito,Aplicaci\\xc3\\xb3n m\\xc3\\xb3vil,no,no,35%,Ninguna,no,Ninguno,Tarde (12:00 - 7:00 pm),El cliente los recoge en tienda,3%,1-5%,No quiero involucrarme con la tecnolog\\xc3\\xada,Totalmente en desacuerdo,Totalmente en desacuerdo,Totalmente en desacuerdo,Totalmente en desacuerdo,Algo en desacuerdo,Totalmente en desacuerdo,Algo en desacuerdo,Algo en desacuerdo,Ni de acuerdo ni en desacuerdo,Totalmente en desacuerdo,Ni de acuerdo ni en desacuerdo,Ni de acuerdo ni en desacuerdo,\"En persona,Mensajer\\xc3\\xada instant\\xc3\\xa1nea (e.g. WhatsApp)\",Cr\\xc3\\xa9dito,1-2%,Ninguna,\"Efectivo,Tarjeta de d\\xc3\\xa9bito y/o cr\\xc3\\xa9dito\",yes,Aumentar la cantidad del pedido,Diariamente,\"Refrigeraci\\xc3\\xb3n,Tama\\xc3\\xb1o,Venta cruzada (e.g. cereal + leche)\",\"Ofrecer un producto sustituto,Perder la venta\",10%,Ni de acuerdo ni en desacuerdo,En desacuerdo,En desacuerdo,Totalmente en desacuerdo,Ni de acuerdo ni en desacuerdo,Ni de acuerdo ni en desacuerdo,En desacuerdo,Totalmente en desacuerdo,En desacuerdo,Ni de acuerdo ni en desacuerdo,no,Jessica,Villalobos,2226482435.0,bsosacantero@gmail.com,1.0,1.0,1.0,2.0,3.0,0.0,4.0,4.0,1.0,1.0,1.0,7.0,2.0,10.0,3.0,1.0,2.0,10.0\\n13,3943ae43-d62d-463e-ad1a-c0435de2e7ab,\"November 8, 2022\",2022-11-18 04:35:13 UTC,Cristian Contreras,SRID=4326;POINT(-98.2201838104 19.043657456),19.043657456,-98.2201838104,Ferreplomer,1 Photo,Plomeria,no,yes,no,Smartphone,1 Photo,yes,yes,2018-10-11,No cambi\\xc3\\xb3,Aument\\xc3\\xb3 15%,no,En papel,En papel,No los uso,yes,no,no,\"Llamada a Tel\\xc3\\xa9fono celular,WhatsApp\",\"Efectivo,Tarjeta de d\\xc3\\xa9bito y/o cr\\xc3\\xa9dito\",Efectivo,no,6-10%,0,2-5%,1.0,0,6-10%,1.0,Tarjeta de d\\xc3\\xa9bito y/o cr\\xc3\\xa9dito,Aplicaci\\xc3\\xb3n m\\xc3\\xb3vil,no,no,20%,Ninguna,no,Ninguno,Tarde (12:00 - 7:00 pm),El cliente los recoge en tienda,3%,1-5%,\"No creo que represente grandes ingresos,No quiero involucrarme con la tecnolog\\xc3\\xada\",Totalmente en desacuerdo,Totalmente en desacuerdo,Totalmente en desacuerdo,Totalmente en desacuerdo,Totalmente en desacuerdo,Algo en desacuerdo,Ni de acuerdo ni en desacuerdo,Algo en desacuerdo,Algo en desacuerdo,Algo en desacuerdo,Ni de acuerdo ni en desacuerdo,Ni de acuerdo ni en desacuerdo,\"En persona,Llamada telef\\xc3\\xb3nica,Mensajer\\xc3\\xada instant\\xc3\\xa1nea (e.g. WhatsApp)\",Cr\\xc3\\xa9dito,1-2%,Ninguna,\"Efectivo,Tarjeta de d\\xc3\\xa9bito y/o cr\\xc3\\xa9dito,Transferencia interbancaria\",no,Disminuir la cantidad del pedido,Semestralmente,\"Frecuencia de venta,Tama\\xc3\\xb1o\",Perder la venta,10%,Ni de acuerdo ni en desacuerdo,En desacuerdo,Ni de acuerdo ni en desacuerdo,En desacuerdo,En desacuerdo,Ni de acuerdo ni en desacuerdo,Totalmente en desacuerdo,Ni de acuerdo ni en desacuerdo,Totalmente en desacuerdo,Ni de acuerdo ni en desacuerdo,yes,Jessica,Villalobos,2226482435.0,bsosacantero@gmail.com,0.0,0.0,4.0,2.0,3.0,1.0,2.0,4.0,1.0,1.0,1.0,7.0,2.0,10.0,3.0,1.0,1.0,0.0\\n14,59503369-3c73-44c7-984b-6813c00e064f,\"November 8, 2022\",2022-11-18 04:35:13 UTC,Cristian Contreras,SRID=4326;POINT(-98.2208330434 19.0422878913),19.0422878913,-98.2208330434,Tienda,1 Photo,Grocery store (aka. nanostore),no,yes,yes,Smartphone,1 Photo,yes,yes,2012-02-17,No cambi\\xc3\\xb3,No cambi\\xc3\\xb3,no,No lo hago,No lo hago,No los uso,no,no,no,Ninguno,Efectivo,Efectivo,no,6-10%,0,2-5%,1.0,0,6-10%,1.0,Tarjeta de d\\xc3\\xa9bito y/o cr\\xc3\\xa9dito,Ninguna,no,no,15%,Ninguna,no,Ninguno,Tarde (12:00 - 7:00 pm),El cliente los recoge en tienda,3%,1-5%,\"No conozco los servicios,No quiero involucrarme con la tecnolog\\xc3\\xada\",Totalmente en desacuerdo,Ni de acuerdo ni en desacuerdo,Algo en desacuerdo,Algo en desacuerdo,Totalmente en desacuerdo,Algo en desacuerdo,Totalmente en desacuerdo,Algo en desacuerdo,Algo en desacuerdo,Totalmente en desacuerdo,Ni de acuerdo ni en desacuerdo,Totalmente en desacuerdo,\"En persona,Llamada telef\\xc3\\xb3nica\",Cr\\xc3\\xa9dito,3-5%,Ninguna,Efectivo,yes,Disminuir la cantidad del pedido,Semanalmente,\"Categor\\xc3\\xada (e.g. limpieza, aseo personal, comestibles, l\\xc3\\xa1cteos, etc.),Frecuencia de venta\",Perder la venta,20%,En desacuerdo,En desacuerdo,Ni de acuerdo ni en desacuerdo,En desacuerdo,Ni de acuerdo ni en desacuerdo,Totalmente en desacuerdo,Totalmente en desacuerdo,En desacuerdo,Ni de acuerdo ni en desacuerdo,En desacuerdo,no,Jessica,Villalobos,2223184340.0,bsosacantero@gmail.com,0.0,1.0,3.0,0.0,0.0,1.0,6.0,4.0,1.0,1.0,1.0,7.0,2.0,10.0,3.0,1.0,4.0,8.0\\n15,674fb321-a139-4c7d-b813-c5a1aeb4fc7f,\"November 8, 2022\",2022-11-18 04:35:12 UTC,Cristian Contreras,SRID=4326;POINT(-98.2203685488 19.0434214009),19.0434214009,-98.2203685488,Decoramica,1 Photo,Tienda de Cer\\xc3\\xa1mica,no,no,no,Smartphone,1 Photo,yes,yes,2019-01-14,No cambi\\xc3\\xb3,No cambi\\xc3\\xb3,no,\"En papel,No lo hago\",En papel,No los uso,no,no,no,\"Llamada a Tel\\xc3\\xa9fono celular,WhatsApp\",\"Efectivo,Tarjeta de d\\xc3\\xa9bito y/o cr\\xc3\\xa9dito\",Efectivo,no,6-10%,0,2-5%,1.0,0,6-10%,1.0,Tarjeta de d\\xc3\\xa9bito y/o cr\\xc3\\xa9dito,Aplicaci\\xc3\\xb3n m\\xc3\\xb3vil,no,no,25%,Ninguna,no,Ninguno,Tarde (12:00 - 7:00 pm),El cliente los recoge en tienda,3%,1-5%,No creo que represente grandes ingresos,Totalmente en desacuerdo,Algo en desacuerdo,Totalmente en desacuerdo,Totalmente en desacuerdo,Algo en desacuerdo,Algo en desacuerdo,Ni de acuerdo ni en desacuerdo,Ni de acuerdo ni en desacuerdo,Ni de acuerdo ni en desacuerdo,Algo de acuerdo,Algo en desacuerdo,Algo de acuerdo,\"En persona,Llamada telef\\xc3\\xb3nica,Mensajer\\xc3\\xada instant\\xc3\\xa1nea (e.g. WhatsApp)\",Cr\\xc3\\xa9dito,3-5%,Ninguna,\"Efectivo,Tarjeta de d\\xc3\\xa9bito y/o cr\\xc3\\xa9dito\",no,\"Disminuir la cantidad del pedido,Disminuir la frecuencia de pedidos\",Semestralmente,Tama\\xc3\\xb1o,\"Informar al proveedor,Perder la venta\",20%,Ni de acuerdo ni en desacuerdo,Ni de acuerdo ni en desacuerdo,De acuerdo,Ni de acuerdo ni en desacuerdo,De acuerdo,De acuerdo,Totalmente en desacuerdo,En desacuerdo,De acuerdo,Ni de acuerdo ni en desacuerdo,yes,Jessica,Villalobos,2223184340.0,bsosacantero@gmail.com,0.0,0.0,1.0,1.0,2.0,0.0,1.0,4.0,1.0,1.0,1.0,7.0,2.0,10.0,3.0,1.0,1.0,0.0\\n16,897695b1-431b-46a0-a359-edd013050db8,\"November 8, 2022\",2022-11-18 04:35:12 UTC,Cristian Contreras,SRID=4326;POINT(-98.2210026026 19.0421551917),19.0421551917,-98.2210026026,Miscel\\xc3\\xa1nea VC,1 Photo,Grocery store (aka. nanostore),no,no,no,Smartphone,1 Photo,yes,yes,2016-09-19,No cambi\\xc3\\xb3,No cambi\\xc3\\xb3,no,En papel,En papel,No los uso,no,no,no,Ninguno,Efectivo,Efectivo,no,6-10%,0,2-5%,1.0,0,6-10%,1.0,Tarjeta de d\\xc3\\xa9bito y/o cr\\xc3\\xa9dito,Ninguna,no,no,10%,Ninguna,no,Recarga telef\\xc3\\xb3nica,Tarde (12:00 - 7:00 pm),El cliente los recoge en tienda,3%,1-5%,\"No creo que represente grandes ingresos,No quiero involucrarme con la tecnolog\\xc3\\xada\",Totalmente en desacuerdo,Totalmente en desacuerdo,Totalmente en desacuerdo,Totalmente en desacuerdo,Algo en desacuerdo,Algo en desacuerdo,Ni de acuerdo ni en desacuerdo,Totalmente en desacuerdo,Algo en desacuerdo,Totalmente en desacuerdo,Ni de acuerdo ni en desacuerdo,Totalmente en desacuerdo,\"En persona,Mensajer\\xc3\\xada instant\\xc3\\xa1nea (e.g. WhatsApp)\",Cr\\xc3\\xa9dito,3-5%,Ninguna,\"Efectivo,Tarjeta de d\\xc3\\xa9bito y/o cr\\xc3\\xa9dito\",no,\"Disminuir la cantidad del pedido,Disminuir la frecuencia de pedidos\",Quincenalmente,\"Categor\\xc3\\xada (e.g. limpieza, aseo personal, comestibles, l\\xc3\\xa1cteos, etc.),Frecuencia de venta\",Ofrecer un producto sustituto,10%,De acuerdo,Ni de acuerdo ni en desacuerdo,Ni de acuerdo ni en desacuerdo,En desacuerdo,De acuerdo,En desacuerdo,Ni de acuerdo ni en desacuerdo,De acuerdo,En desacuerdo,Ni de acuerdo ni en desacuerdo,no,Jessica,Villalobos,2226268833.0,bsosacantero@gmail.com,2.0,3.0,7.0,1.0,0.0,0.0,4.0,4.0,1.0,1.0,1.0,7.0,2.0,10.0,3.0,1.0,4.0,2.0\\n17,9c33bff7-657a-4302-ba3b-fbe791a1b7cf,\"November 8, 2022\",2022-11-18 04:35:11 UTC,Cristian Contreras,SRID=4326;POINT(-98.2199920198 19.0444061161),19.0444061161,-98.2199920198,Barber\\xc3\\xada,1 Photo,Barber\\xc3\\xada,yes,yes,no,Smartphone,1 Photo,yes,yes,2020-11-07,No cambi\\xc3\\xb3,Aument\\xc3\\xb3 15%,no,No lo hago,No lo hago,No los uso,no,no,no,Ninguno,Efectivo,Efectivo,no,6-10%,0,2-5%,1.0,0,6-10%,1.0,Tarjeta de d\\xc3\\xa9bito y/o cr\\xc3\\xa9dito,Redes sociales,no,no,20%,Ninguna,no,Ninguno,Tarde (12:00 - 7:00 pm),El cliente los recoge en tienda,5%,6-10%,\"No creo que represente grandes ingresos,No quiero involucrarme con la tecnolog\\xc3\\xada\",Totalmente en desacuerdo,Totalmente en desacuerdo,Totalmente en desacuerdo,Totalmente en desacuerdo,Algo en desacuerdo,Totalmente en desacuerdo,Algo en desacuerdo,Algo en desacuerdo,Totalmente en desacuerdo,Algo en desacuerdo,Totalmente en desacuerdo,Totalmente en desacuerdo,\"Llamada telef\\xc3\\xb3nica,Mensajer\\xc3\\xada instant\\xc3\\xa1nea (e.g. WhatsApp)\",Cr\\xc3\\xa9dito,3-5%,Ninguna,Efectivo,no,\"Disminuir la cantidad del pedido,Disminuir la frecuencia de pedidos\",Mensualmente,\"Categor\\xc3\\xada (e.g. limpieza, aseo personal, comestibles, l\\xc3\\xa1cteos, etc.)\",\"Informar al proveedor,Perder la venta\",40%,En desacuerdo,Ni de acuerdo ni en desacuerdo,Ni de acuerdo ni en desacuerdo,Ni de acuerdo ni en desacuerdo,De acuerdo,En desacuerdo,De acuerdo,De acuerdo,Ni de acuerdo ni en desacuerdo,Ni de acuerdo ni en desacuerdo,yes,Jessica,Villalobos,2226268833.0,bsosacantero@gmail.com,0.0,0.0,0.0,1.0,2.0,1.0,2.0,4.0,1.0,1.0,1.0,8.0,2.0,10.0,8.0,1.0,1.0,0.0\\n18,c8106041-f659-4bb0-8f40-28a12bf56a88,\"November 8, 2022\",2022-11-18 04:35:10 UTC,Cristian Contreras,SRID=4326;POINT(-98.2208322113 19.0423835489),19.0423835489,-98.2208322113,Miscel\\xc3\\xa1nea yeyis,1 Photo,Grocery store (aka. nanostore),no,yes,yes,None,1 Photo,yes,yes,1990-05-07,No cambi\\xc3\\xb3,No cambi\\xc3\\xb3,no,No lo hago,No lo hago,No los uso,no,yes,yes,Ninguno,Efectivo,Efectivo,no,6-10%,0,2-5%,1.0,0,6-10%,1.0,Tarjeta de d\\xc3\\xa9bito y/o cr\\xc3\\xa9dito,Ninguna,no,no,20%,Ninguna,no,Ninguno,Tarde (12:00 - 7:00 pm),El cliente los recoge en tienda,5%,6-10%,\"Es muy caro,No creo que represente grandes ingresos\",Algo en desacuerdo,Algo en desacuerdo,Totalmente en desacuerdo,Totalmente en desacuerdo,Totalmente en desacuerdo,Totalmente en desacuerdo,Totalmente en desacuerdo,Ni de acuerdo ni en desacuerdo,Algo en desacuerdo,Totalmente en desacuerdo,Totalmente en desacuerdo,Algo en desacuerdo,En persona,Cr\\xc3\\xa9dito,3-5%,Ninguna,Efectivo,yes,\"Disminuir la cantidad del pedido,Disminuir la frecuencia de pedidos\",Quincenalmente,\"Categor\\xc3\\xada (e.g. limpieza, aseo personal, comestibles, l\\xc3\\xa1cteos, etc.)\",\"Ofrecer un producto sustituto,Perder la venta\",20%,Totalmente en desacuerdo,En desacuerdo,Totalmente en desacuerdo,En desacuerdo,En desacuerdo,En desacuerdo,En desacuerdo,En desacuerdo,Ni de acuerdo ni en desacuerdo,En desacuerdo,no,Jessica,Villalobos,2223191226.0,bsosacantero@gmail.com,0.0,1.0,4.0,0.0,0.0,1.0,6.0,4.0,1.0,1.0,1.0,8.0,2.0,10.0,8.0,1.0,2.0,2.0\\n19,fa7bfebc-72bb-4fe7-8ef3-26744805dab3,\"November 8, 2022\",2022-11-18 04:35:10 UTC,Cristian Contreras,SRID=4326;POINT(-98.2214231845 19.0414639052),19.0414639052,-98.2214231845,Sabores de mi tierra,1 Photo,Micro-restaurant (aka. fondita),no,no,yes,Smartphone,1 Photo,yes,yes,2018-12-15,No cambi\\xc3\\xb3,Disminuy\\xc3\\xb3 15%,no,\"En papel,No lo hago\",En papel,No hace ning\\xc3\\xban registro de venta,no,yes,yes,WhatsApp,Efectivo,Efectivo,no,6-10%,0,2-5%,1.0,0,6-10%,1.0,Tarjeta de d\\xc3\\xa9bito y/o cr\\xc3\\xa9dito,Ninguna,no,no,30%,Ninguna,no,Ninguno,Tarde (12:00 - 7:00 pm),El cliente los recoge en tienda,5%,6-10%,Es muy caro,Totalmente en desacuerdo,Totalmente en desacuerdo,Totalmente en desacuerdo,Totalmente en desacuerdo,Algo en desacuerdo,Totalmente en desacuerdo,Totalmente en desacuerdo,Ni de acuerdo ni en desacuerdo,Algo en desacuerdo,Totalmente en desacuerdo,Ni de acuerdo ni en desacuerdo,Algo en desacuerdo,\"En persona,Mensajer\\xc3\\xada instant\\xc3\\xa1nea (e.g. WhatsApp)\",Cr\\xc3\\xa9dito,3-5%,Ninguna,Efectivo,no,Disminuir la cantidad del pedido,Diariamente,Precio,\"Ofrecer un producto sustituto,Perder la venta\",10%,Ni de acuerdo ni en desacuerdo,Ni de acuerdo ni en desacuerdo,De acuerdo,En desacuerdo,Ni de acuerdo ni en desacuerdo,Totalmente en desacuerdo,Ni de acuerdo ni en desacuerdo,Totalmente en desacuerdo,De acuerdo,De acuerdo,no,Jessica,Villalobos,2223191226.0,bsosacantero@gmail.com,2.0,1.0,0.0,3.0,2.0,1.0,3.0,1.0,1.0,1.0,1.0,8.0,2.0,10.0,8.0,1.0,2.0,3.0\\n20,d4f34775-fff9-4c4b-8d0a-35cd4e1deb67,\"November 8, 2022\",2022-11-18 04:35:09 UTC,Cristian Contreras,SRID=4326;POINT(-98.2214876029 19.0409686264),19.0409686264,-98.2214876029,Farmacia veterinaria,1 Photo,Farmacia,no,no,no,\"POS system (i.e. computer + bar code scanner + printer),Security cameras,Smartphone\",1 Photo,yes,yes,2020-07-28,No cambi\\xc3\\xb3,Aument\\xc3\\xb3 15%,no,Software especializado + computadora,Software especializado + computadora,No hace ning\\xc3\\xban registro de venta,yes,no,yes,WhatsApp,Efectivo,Efectivo,no,6-10%,0,2-5%,1.0,0,6-10%,1.0,Tarjeta de d\\xc3\\xa9bito y/o cr\\xc3\\xa9dito,Ninguna,no,no,40%,Ninguna,no,Ninguno,Tarde (12:00 - 7:00 pm),El cliente los recoge en tienda,5%,6-10%,No conozco los servicios,Algo en desacuerdo,Algo en desacuerdo,Algo en desacuerdo,Algo en desacuerdo,Algo en desacuerdo,Ni de acuerdo ni en desacuerdo,Ni de acuerdo ni en desacuerdo,Ni de acuerdo ni en desacuerdo,Algo de acuerdo,Ni de acuerdo ni en desacuerdo,Algo de acuerdo,Ni de acuerdo ni en desacuerdo,\"Llamada telef\\xc3\\xb3nica,Mensajer\\xc3\\xada instant\\xc3\\xa1nea (e.g. WhatsApp)\",Cr\\xc3\\xa9dito,3-5%,Cuaderno,\"Efectivo,Tarjeta de d\\xc3\\xa9bito y/o cr\\xc3\\xa9dito\",no,Disminuir la cantidad del pedido,Quincenalmente,Margen de utilidad,\"Ofrecer un producto sustituto,Perder la venta\",20%,En desacuerdo,En desacuerdo,Ni de acuerdo ni en desacuerdo,Ni de acuerdo ni en desacuerdo,En desacuerdo,Ni de acuerdo ni en desacuerdo,De acuerdo,Ni de acuerdo ni en desacuerdo,Ni de acuerdo ni en desacuerdo,De acuerdo,no,Jessica,Villalobos,2223191226.0,bsosacantero@gmail.com,0.0,0.0,4.0,1.0,2.0,1.0,0.0,4.0,1.0,1.0,1.0,8.0,2.0,10.0,8.0,1.0,1.0,0.0\\n21,0bfafebf-8c79-432b-904e-a24584b87f2a,\"November 8, 2022\",2022-11-18 04:35:08 UTC,Cristian Contreras,SRID=4326;POINT(-98.2212611005 19.0418224803),19.0418224803,-98.2212611005,El buen saz\\xc3\\xb3n,1 Photo,Micro-restaurant (aka. fondita),no,no,yes,Smartphone,1 Photo,yes,yes,2021-05-04,No cambi\\xc3\\xb3,No cambi\\xc3\\xb3,no,En papel,En papel,No hace ning\\xc3\\xban registro de venta,no,no,yes,WhatsApp,Efectivo,Efectivo,no,6-10%,0,2-5%,1.0,0,6-10%,1.0,Tarjeta de d\\xc3\\xa9bito y/o cr\\xc3\\xa9dito,Redes sociales,no,no,30%,Ninguna,no,Ninguno,Tarde (12:00 - 7:00 pm),El cliente los recoge en tienda,5%,6-10%,Es muy caro,Totalmente en desacuerdo,Totalmente en desacuerdo,Totalmente en desacuerdo,Totalmente en desacuerdo,Algo en desacuerdo,Algo en desacuerdo,Totalmente en desacuerdo,Ni de acuerdo ni en desacuerdo,Totalmente en desacuerdo,Algo en desacuerdo,Algo en desacuerdo,Algo en desacuerdo,\"En persona,Llamada telef\\xc3\\xb3nica,Mensajer\\xc3\\xada instant\\xc3\\xa1nea (e.g. WhatsApp)\",Ninguna,0,Ninguna,\"Efectivo,Tarjeta de d\\xc3\\xa9bito y/o cr\\xc3\\xa9dito\",no,Disminuir la cantidad del pedido,Diariamente,\"Frecuencia de venta,Refrigeraci\\xc3\\xb3n\",Perder la venta,10%,Ni de acuerdo ni en desacuerdo,En desacuerdo,En desacuerdo,De acuerdo,En desacuerdo,Ni de acuerdo ni en desacuerdo,Ni de acuerdo ni en desacuerdo,En desacuerdo,Totalmente en desacuerdo,De acuerdo,no,Jessica,Villalobos,2223191226.0,bsosacantero@gmail.com,1.0,2.0,1.0,2.0,2.0,1.0,5.0,4.0,1.0,1.0,1.0,8.0,2.0,10.0,8.0,1.0,1.0,5.0\\n22,e2845182-5a41-429b-8f1f-99e26a5a2bc0,\"November 8, 2022\",2022-11-18 04:35:08 UTC,Cristian Contreras,SRID=4326;POINT(-98.2215140911 19.0412258711),19.0412258711,-98.2215140911,Lavander\\xc3\\xada portofino,1 Photo,Lavander\\xc3\\xada,no,no,no,Smartphone,1 Photo,yes,yes,2018-08-14,Disminuy\\xc3\\xb3 15%,No cambi\\xc3\\xb3,no,En papel,\"En papel,Software especializado + computadora\",No hace ning\\xc3\\xban registro de venta,no,no,yes,\"Llamada a Tel\\xc3\\xa9fono celular,WhatsApp\",Efectivo,Efectivo,no,6-10%,0,2-5%,1.0,0,6-10%,1.0,Tarjeta de d\\xc3\\xa9bito y/o cr\\xc3\\xa9dito,Ninguna,no,no,25%,Ninguna,no,Ninguno,Tarde (12:00 - 7:00 pm),El cliente los recoge en tienda,5%,6-10%,No creo que represente grandes ingresos,Totalmente en desacuerdo,Totalmente en desacuerdo,Totalmente en desacuerdo,Totalmente en desacuerdo,Algo en desacuerdo,Algo en desacuerdo,Algo en desacuerdo,Ni de acuerdo ni en desacuerdo,Algo en desacuerdo,Ni de acuerdo ni en desacuerdo,Ni de acuerdo ni en desacuerdo,Algo de acuerdo,Supermercados,Ninguna,0,Ninguna,Efectivo,no,Disminuir la cantidad del pedido,Semanalmente,\"Categor\\xc3\\xada (e.g. limpieza, aseo personal, comestibles, l\\xc3\\xa1cteos, etc.)\",Perder la venta,30%,De acuerdo,De acuerdo,De acuerdo,Ni de acuerdo ni en desacuerdo,De acuerdo,Ni de acuerdo ni en desacuerdo,De acuerdo,Ni de acuerdo ni en desacuerdo,De acuerdo,En desacuerdo,no,Jessica,Villalobos,2223191226.0,bsosacantero@gmail.com,0.0,0.0,0.0,2.0,3.0,2.0,1.0,4.0,1.0,1.0,1.0,8.0,2.0,10.0,8.0,1.0,1.0,0.0\\n23,f3b65cc1-ba80-44cb-a252-b3b7dcae616c,\"November 8, 2022\",2022-11-18 04:35:07 UTC,Cristian Contreras,SRID=4326;POINT(-98.2208079954 19.0425855673),19.0425855673,-98.2208079954,Multi servicios bienestar,1 Photo,Servicios cer\\xc3\\xa1micos,no,yes,no,Smartphone,1 Photo,yes,yes,2017-09-05,No cambi\\xc3\\xb3,No cambi\\xc3\\xb3,no,\"En papel,No lo hago\",En papel,No hace ning\\xc3\\xban registro de venta,no,no,no,\"Llamada a Tel\\xc3\\xa9fono celular,WhatsApp\",\"Efectivo,Tarjeta de d\\xc3\\xa9bito y/o cr\\xc3\\xa9dito,Transferencia interbancaria\",Efectivo,no,6-10%,0,2-5%,1.0,0,6-10%,1.0,Tarjeta de d\\xc3\\xa9bito y/o cr\\xc3\\xa9dito,Aplicaci\\xc3\\xb3n m\\xc3\\xb3vil,no,no,30%,Ninguna,no,Ninguno,Tarde (12:00 - 7:00 pm),El cliente los recoge en tienda,5%,6-10%,No quiero involucrarme con la tecnolog\\xc3\\xada,Totalmente en desacuerdo,Totalmente en desacuerdo,Totalmente en desacuerdo,Totalmente en desacuerdo,Totalmente en desacuerdo,Algo en desacuerdo,Algo en desacuerdo,Ni de acuerdo ni en desacuerdo,Algo en desacuerdo,Algo en desacuerdo,Totalmente en desacuerdo,Algo en desacuerdo,Llamada telef\\xc3\\xb3nica,Cr\\xc3\\xa9dito,1-2%,Ninguna,\"Efectivo,Tarjeta de d\\xc3\\xa9bito y/o cr\\xc3\\xa9dito\",no,Disminuir la cantidad del pedido,Semestralmente,Tama\\xc3\\xb1o,\"Informar al proveedor,Perder la venta\",0,En desacuerdo,Ni de acuerdo ni en desacuerdo,En desacuerdo,De acuerdo,Ni de acuerdo ni en desacuerdo,Ni de acuerdo ni en desacuerdo,Totalmente en desacuerdo,En desacuerdo,En desacuerdo,Ni de acuerdo ni en desacuerdo,yes,Jessica,Villalobos,2223191226.0,bsosacantero@gmail.com,0.0,0.0,2.0,2.0,1.0,2.0,4.0,4.0,1.0,1.0,1.0,8.0,2.0,10.0,8.0,1.0,1.0,0.0\\n24,587fe26f-83df-483b-97aa-2cb4ba30af48,\"November 4, 2022\",2022-11-18 04:35:07 UTC,Cristian Contreras,SRID=4326;POINT(-98.2153495819 19.047949164),19.047949164,-98.2153495819,Boutique,1 Photo,Dairy products,yes,yes,no,Smartphone,1 Photo,yes,yes,2003-02-08,No cambi\\xc3\\xb3,No cambi\\xc3\\xb3,yes,No lo hago,No lo hago,No hace ning\\xc3\\xban registro de venta,yes,yes,yes,\"Llamada a Tel\\xc3\\xa9fono celular,Redes sociales (e.g. Facebook, Instagram),WhatsApp\",Efectivo,Efectivo,no,6-10%,0,2-5%,1.0,0,6-10%,1.0,Tarjeta de d\\xc3\\xa9bito y/o cr\\xc3\\xa9dito,\"Aplicaci\\xc3\\xb3n m\\xc3\\xb3vil,Redes sociales\",no,no,15%,Ninguna,no,Recarga telef\\xc3\\xb3nica,Tarde (12:00 - 7:00 pm),El cliente los recoge en tienda,5%,6-10%,No creo que represente grandes ingresos,Algo en desacuerdo,Totalmente en desacuerdo,Totalmente en desacuerdo,Algo de acuerdo,Totalmente en desacuerdo,Totalmente en desacuerdo,Totalmente en desacuerdo,Totalmente en desacuerdo,Totalmente en desacuerdo,Algo de acuerdo,Totalmente en desacuerdo,Totalmente en desacuerdo,En persona,Cr\\xc3\\xa9dito,3-5%,Cuaderno,\"Efectivo,Tarjeta de d\\xc3\\xa9bito y/o cr\\xc3\\xa9dito,Transferencia interbancaria\",yes,Disminuir la cantidad del pedido,Semanalmente,\"Categor\\xc3\\xada (e.g. limpieza, aseo personal, comestibles, l\\xc3\\xa1cteos, etc.),Frecuencia de venta,Precio,Tama\\xc3\\xb1o\",\"Ofrecer un producto sustituto,Solicitar tiempo al cliente para conseguir el producto\",10%,Ni de acuerdo ni en desacuerdo,De acuerdo,De acuerdo,En desacuerdo,De acuerdo,De acuerdo,Ni de acuerdo ni en desacuerdo,Totalmente de acuerdo,Totalmente en desacuerdo,Totalmente de acuerdo,no,Jessica,Villalobos,2221903761.0,bsosacantero@gmail.com,0.0,0.0,3.0,0.0,0.0,2.0,3.0,4.0,1.0,1.0,1.0,8.0,2.0,10.0,8.0,1.0,1.0,4.0\\n25,86b1ce5f-bb76-4ab3-86fb-01b243452cd5,\"November 8, 2022\",2022-11-18 04:35:06 UTC,Cristian Contreras,SRID=4326;POINT(-98.2218344306 19.0408630157),19.0408630157,-98.2218344306,Cazuelas el apapacho,1 Photo,Micro-restaurant (aka. fondita),no,no,yes,Smartphone,1 Photo,yes,yes,2019-04-16,No cambi\\xc3\\xb3,No cambi\\xc3\\xb3,no,No lo hago,En papel,No los uso,no,no,no,\"Llamada a Tel\\xc3\\xa9fono celular,WhatsApp\",Efectivo,Efectivo,no,6-10%,0,2-5%,1.0,0,6-10%,1.0,Tarjeta de d\\xc3\\xa9bito y/o cr\\xc3\\xa9dito,\"Aplicaci\\xc3\\xb3n m\\xc3\\xb3vil,Redes sociales\",no,no,40%,Ninguna,no,Ninguno,Tarde (12:00 - 7:00 pm),El cliente los recoge en tienda,6%+,11-15%,No creo que represente grandes ingresos,Algo en desacuerdo,Totalmente en desacuerdo,Algo de acuerdo,Algo de acuerdo,Totalmente en desacuerdo,Totalmente en desacuerdo,Algo en desacuerdo,Algo en desacuerdo,Totalmente en desacuerdo,Totalmente en desacuerdo,Totalmente en desacuerdo,Totalmente en desacuerdo,\"En persona,Llamada telef\\xc3\\xb3nica\",Descuento por compras anticipadas,1-2%,Ninguna,Efectivo,yes,Disminuir la cantidad del pedido,Diariamente,\"Categor\\xc3\\xada (e.g. limpieza, aseo personal, comestibles, l\\xc3\\xa1cteos, etc.),Venta cruzada (e.g. cereal + leche)\",Perder la venta,10%,De acuerdo,Ni de acuerdo ni en desacuerdo,De acuerdo,Ni de acuerdo ni en desacuerdo,En desacuerdo,De acuerdo,De acuerdo,Ni de acuerdo ni en desacuerdo,Totalmente en desacuerdo,En desacuerdo,yes,Jessica,Villalobos,2221903761.0,bsosacantero@gmail.com,3.0,2.0,2.0,2.0,2.0,2.0,8.0,1.0,1.0,1.0,1.0,9.0,2.0,10.0,10.0,1.0,1.0,3.0\\n26,8ae5eaec-c3c3-4022-8c6d-7a3b73f9ebd9,\"November 4, 2022\",2022-11-18 04:35:05 UTC,Cristian Contreras,SRID=4326;POINT(-98.2164242172 19.0472081696),19.0472081696,-98.2164242172,Las tortas del barrio,1 Photo,Micro-restaurant (aka. fondita),no,no,yes,\"Analog cash register,Security cameras,Smartphone\",1 Photo,yes,yes,2021-10-08,No cambi\\xc3\\xb3,No cambi\\xc3\\xb3,yes,En Excel,\"Caja registradora (an\\xc3\\xa1loga),Software especializado + computadora\",No los uso,yes,yes,yes,\"Aplicaci\\xc3\\xb3n m\\xc3\\xb3vil (e.g. Rappi, Uber Eats),Llamada a Tel\\xc3\\xa9fono celular,WhatsApp\",\"Aplicaci\\xc3\\xb3n m\\xc3\\xb3vil (e.g. CODI),Efectivo,Tarjeta de d\\xc3\\xa9bito y/o cr\\xc3\\xa9dito\",Efectivo,no,6-10%,0,2-5%,1.0,0,6-10%,1.0,Tarjeta de d\\xc3\\xa9bito y/o cr\\xc3\\xa9dito,Redes sociales,no,no,40%,Ninguna,yes,Entrega a domicilio,Tarde (12:00 - 7:00 pm),El cliente los recoge en tienda,6%+,11-15%,No creo que represente grandes ingresos,Totalmente en desacuerdo,Totalmente en desacuerdo,Totalmente en desacuerdo,Totalmente en desacuerdo,Totalmente en desacuerdo,Totalmente en desacuerdo,Totalmente en desacuerdo,Algo en desacuerdo,Ni de acuerdo ni en desacuerdo,Algo en desacuerdo,Totalmente en desacuerdo,Totalmente en desacuerdo,\"Aplicaciones,Llamada telef\\xc3\\xb3nica\",Descuento por compras anticipadas,1-2%,Ninguna,Tarjeta de d\\xc3\\xa9bito y/o cr\\xc3\\xa9dito,yes,Disminuci\\xc3\\xb3n de la variedad de productos,Diariamente,Frecuencia de venta,\"Ofrecer un producto sustituto,Perder la venta\",10%,Totalmente de acuerdo,Totalmente de acuerdo,De acuerdo,De acuerdo,De acuerdo,De acuerdo,Totalmente de acuerdo,De acuerdo,De acuerdo,De acuerdo,yes,Jessica,Villalobos,2223244608.0,bsosacantero@gmail.com,3.0,1.0,1.0,2.0,3.0,1.0,10.0,1.0,1.0,1.0,1.0,9.0,2.0,10.0,10.0,1.0,2.0,6.0\\n27,02771489-a151-4d78-b71b-7658e664b224,\"November 8, 2022\",2022-11-18 04:35:05 UTC,Cristian Contreras,SRID=4326;POINT(-98.2207813901 19.0427704402),19.0427704402,-98.2207813901,Copias Alz,1 Photo,Dairy products,yes,no,no,\"POS system (i.e. computer + bar code scanner + printer),Security cameras,Smartphone\",1 Photo,yes,yes,2019-02-12,No cambi\\xc3\\xb3,No cambi\\xc3\\xb3,no,Software especializado + computadora,Software especializado + computadora,No los uso,yes,no,yes,\"Llamada a Tel\\xc3\\xa9fono fijo,WhatsApp\",Efectivo,Efectivo,no,6-10%,0,2-5%,1.0,0,6-10%,1.0,Tarjeta de d\\xc3\\xa9bito y/o cr\\xc3\\xa9dito,Redes sociales,no,no,15%,Ninguna,no,Recarga telef\\xc3\\xb3nica,Tarde (12:00 - 7:00 pm),El cliente los recoge en tienda,4%,1-5%,No creo que represente grandes ingresos,Totalmente en desacuerdo,Totalmente en desacuerdo,Totalmente en desacuerdo,Totalmente en desacuerdo,Totalmente en desacuerdo,Totalmente en desacuerdo,Totalmente en desacuerdo,Totalmente en desacuerdo,Totalmente en desacuerdo,Totalmente en desacuerdo,Totalmente en desacuerdo,Ni de acuerdo ni en desacuerdo,\"En persona,Mensajer\\xc3\\xada instant\\xc3\\xa1nea (e.g. WhatsApp),P\\xc3\\xa1gina web del proveedor\",\"Cr\\xc3\\xa9dito,Descuento por compras anticipadas\",1-2%,Ninguna,\"Efectivo,Tarjeta de d\\xc3\\xa9bito y/o cr\\xc3\\xa9dito,Transferencia interbancaria\",no,\"Disminuci\\xc3\\xb3n de la variedad de productos,Disminuir la cantidad del pedido,Disminuir la frecuencia de pedidos\",Mensualmente,\"Frecuencia de venta,Precio,Tama\\xc3\\xb1o,Venta cruzada (e.g. cereal + leche)\",Ofrecer un producto sustituto,30%,De acuerdo,De acuerdo,De acuerdo,Ni de acuerdo ni en desacuerdo,Totalmente de acuerdo,Ni de acuerdo ni en desacuerdo,De acuerdo,De acuerdo,En desacuerdo,De acuerdo,no,Beatriz,Sosa ,2211658066.0,bsosacantero@gmail.com,0.0,0.0,3.0,1.0,2.0,1.0,2.0,1.0,1.0,1.0,1.0,9.0,2.0,12.0,5.0,1.0,2.0,0.0\\n28,840c4938-6e15-4004-b46f-0d179286663c,\"November 8, 2022\",2022-11-18 04:35:04 UTC,Cristian Contreras,SRID=4326;POINT(-98.2213921543 19.0416289221),19.0416289221,-98.2213921543,HooDoo Brown,1 Photo,Micro-restaurant (aka. fondita),no,no,yes,\"Analog cash register,Smartphone\",1 Photo,yes,yes,2021-10-02,No cambi\\xc3\\xb3,No cambi\\xc3\\xb3,no,En Excel,En Excel,No los uso,yes,yes,yes,\"Llamada a Tel\\xc3\\xa9fono fijo,WhatsApp\",Efectivo,Efectivo,no,6-10%,0,2-5%,1.0,0,6-10%,1.0,Tarjeta de d\\xc3\\xa9bito y/o cr\\xc3\\xa9dito,Redes sociales,no,no,30%,Ninguna,yes,Entrega a domicilio,Tarde (12:00 - 7:00 pm),El cliente los recoge en tienda,3%,6-10%,No creo que represente grandes ingresos,Totalmente en desacuerdo,Totalmente en desacuerdo,Algo en desacuerdo,Totalmente en desacuerdo,Totalmente en desacuerdo,Algo en desacuerdo,Totalmente en desacuerdo,Algo en desacuerdo,Totalmente en desacuerdo,Algo en desacuerdo,Totalmente en desacuerdo,Ni de acuerdo ni en desacuerdo,\"Llamada telef\\xc3\\xb3nica,Mensajer\\xc3\\xada instant\\xc3\\xa1nea (e.g. WhatsApp)\",\"Cr\\xc3\\xa9dito,Descuento por compras anticipadas\",1-2%,Ninguna,\"Efectivo,Tarjeta de d\\xc3\\xa9bito y/o cr\\xc3\\xa9dito\",no,\"Disminuci\\xc3\\xb3n de la variedad de productos,Disminuir la cantidad del pedido,Disminuir la frecuencia de pedidos\",Diariamente,Frecuencia de venta,Perder la venta,20%,Ni de acuerdo ni en desacuerdo,De acuerdo,Ni de acuerdo ni en desacuerdo,En desacuerdo,De acuerdo,De acuerdo,Ni de acuerdo ni en desacuerdo,Ni de acuerdo ni en desacuerdo,En desacuerdo,En desacuerdo,no,Beatriz,Sosa ,2211658066.0,bsosacantero@gmail.com,1.0,1.0,1.0,1.0,2.0,1.0,3.0,1.0,1.0,1.0,1.0,20.0,2.0,12.0,12.0,1.0,2.0,3.0\\n29,f62f4b06-ce72-43c9-9b90-fe42909f923a,\"November 8, 2022\",2022-11-18 04:35:04 UTC,Cristian Contreras,SRID=4326;POINT(-98.2206806336 19.0427882818),19.0427882818,-98.2206806336,Recaudar\\xc3\\xada y poller\\xc3\\xada,1 Photo,Produce (fruits & vegetables),no,yes,yes,Smartphone,1 Photo,yes,yes,2021-03-29,No cambi\\xc3\\xb3,No cambi\\xc3\\xb3,no,\"En papel,No lo hago\",No lo hago,No los uso,no,no,no,\"Llamada a Tel\\xc3\\xa9fono celular,WhatsApp\",Efectivo,Efectivo,no,6-10%,0,2-5%,1.0,0,6-10%,1.0,Tarjeta de d\\xc3\\xa9bito y/o cr\\xc3\\xa9dito,\"Aplicaci\\xc3\\xb3n m\\xc3\\xb3vil,Redes sociales\",no,no,25%,Ninguna,no,Ninguno,Tarde (12:00 - 7:00 pm),El cliente los recoge en tienda,4%,11-15%,No creo que represente grandes ingresos,Totalmente en desacuerdo,Totalmente en desacuerdo,Algo en desacuerdo,Totalmente en desacuerdo,Totalmente en desacuerdo,Ni de acuerdo ni en desacuerdo,Algo en desacuerdo,Algo en desacuerdo,Algo en desacuerdo,Totalmente en desacuerdo,Algo en desacuerdo,Algo en desacuerdo,\"En persona,Llamada telef\\xc3\\xb3nica,Mensajer\\xc3\\xada instant\\xc3\\xa1nea (e.g. WhatsApp)\",\"Cr\\xc3\\xa9dito,Descuento por compras anticipadas\",1-2%,Ninguna,Efectivo,no,\"Disminuci\\xc3\\xb3n de la variedad de productos,Disminuir la cantidad del pedido,Disminuir la frecuencia de pedidos\",Semanalmente,Frecuencia de venta,\"Informar al proveedor,Ofrecer un producto sustituto,Perder la venta\",20%,Ni de acuerdo ni en desacuerdo,Totalmente en desacuerdo,En desacuerdo,En desacuerdo,Totalmente en desacuerdo,En desacuerdo,En desacuerdo,Ni de acuerdo ni en desacuerdo,Totalmente en desacuerdo,En desacuerdo,no,Beatriz,Sosa ,2211658066.0,bsosacantero@gmail.com,0.0,1.0,1.0,1.0,2.0,1.0,0.0,2.0,1.0,1.0,1.0,20.0,2.0,15.0,12.0,1.0,4.0,4.0\\n30,94e9cca2-a26e-4543-9ca3-d56f4c3e7e93,\"November 4, 2022\",2022-11-18 04:35:03 UTC,Cristian Contreras,SRID=4326;POINT(-98.2161757466 19.0477661292),19.0477661292,-98.2161757466,La tiendita,1 Photo,Grocery store (aka. nanostore),no,yes,no,\"Dataphone (i.e. card payments),POS system (i.e. computer + bar code scanner + printer),Security cameras,Smartphone\",1 Photo,yes,yes,2019-04-03,No cambi\\xc3\\xb3,No cambi\\xc3\\xb3,no,\"En Excel,Software especializado + computadora\",\"En Excel,Software especializado + computadora\",Estimar compras a mis proveedores,yes,yes,yes,\"Llamada a Tel\\xc3\\xa9fono celular,Llamada a Tel\\xc3\\xa9fono fijo,WhatsApp\",\"Efectivo,Tarjeta de d\\xc3\\xa9bito y/o cr\\xc3\\xa9dito\",Efectivo,no,6-10%,0,2-5%,1.0,0,6-10%,1.0,Tarjeta de d\\xc3\\xa9bito y/o cr\\xc3\\xa9dito,Ninguna,no,no,10%,Ninguna,no,Recarga telef\\xc3\\xb3nica,Tarde (12:00 - 7:00 pm),El cliente los recoge en tienda,4%,11-15%,No quiero involucrarme con la tecnolog\\xc3\\xada,Totalmente en desacuerdo,Totalmente en desacuerdo,Totalmente en desacuerdo,Totalmente en desacuerdo,Totalmente en desacuerdo,Algo en desacuerdo,Totalmente en desacuerdo,Algo en desacuerdo,Algo en desacuerdo,Totalmente en desacuerdo,Totalmente en desacuerdo,Algo en desacuerdo,\"Email,En persona,Llamada telef\\xc3\\xb3nica,Mensajer\\xc3\\xada instant\\xc3\\xa1nea (e.g. WhatsApp),P\\xc3\\xa1gina web del proveedor,Sistema especializado del proveedor (e.g. VMS)\",\"Cr\\xc3\\xa9dito,Descuento por compras anticipadas\",1-2%,Ninguna,\"Efectivo,Tarjeta de d\\xc3\\xa9bito y/o cr\\xc3\\xa9dito\",no,\"Disminuci\\xc3\\xb3n de la variedad de productos,Disminuir la cantidad del pedido,Disminuir la frecuencia de pedidos\",Semanalmente,\"Frecuencia de venta,Refrigeraci\\xc3\\xb3n,Tama\\xc3\\xb1o\",Perder la venta,10%,Ni de acuerdo ni en desacuerdo,De acuerdo,Ni de acuerdo ni en desacuerdo,De acuerdo,De acuerdo,De acuerdo,De acuerdo,De acuerdo,De acuerdo,Ni de acuerdo ni en desacuerdo,no,Beatriz,Sosa ,2211658066.0,bsosacantero@gmail.com,1.4,3.0,10.0,3.0,3.0,3.0,5.0,2.0,1.0,1.0,1.0,20.0,2.0,15.0,12.0,1.0,7.0,4.0\\n31,247b33fe-9dd4-4e91-8815-463e0e7bdd84,\"November 8, 2022\",2022-11-18 04:35:03 UTC,Cristian Contreras,SRID=4326;POINT(-98.2203426225 19.0434835111),19.0434835111,-98.2203426225,La fogata,1 Photo,Micro-restaurant (aka. fondita),yes,no,yes,\"Dataphone (i.e. card payments),Security cameras,Smartphone\",1 Photo,yes,yes,2020-07-05,No cambi\\xc3\\xb3,No cambi\\xc3\\xb3,no,En Excel,\"Caja registradora (an\\xc3\\xa1loga),Software especializado + computadora\",Estimar compras a mis proveedores,yes,no,yes,\"Llamada a Tel\\xc3\\xa9fono celular,Llamada a Tel\\xc3\\xa9fono fijo,WhatsApp\",\"Efectivo,Tarjeta de d\\xc3\\xa9bito y/o cr\\xc3\\xa9dito\",Efectivo,no,6-10%,0,2-5%,1.0,0,6-10%,1.0,Tarjeta de d\\xc3\\xa9bito y/o cr\\xc3\\xa9dito,Redes sociales,no,no,45%,Ninguna,yes,Ninguno,Tarde (12:00 - 7:00 pm),El cliente los recoge en tienda,2%,1-5%,No quiero involucrarme con la tecnolog\\xc3\\xada,Totalmente en desacuerdo,Totalmente en desacuerdo,Totalmente en desacuerdo,Totalmente en desacuerdo,Algo en desacuerdo,Algo en desacuerdo,Totalmente en desacuerdo,Ni de acuerdo ni en desacuerdo,Algo en desacuerdo,Algo en desacuerdo,Totalmente en desacuerdo,Totalmente en desacuerdo,\"En persona,Llamada telef\\xc3\\xb3nica\",Cr\\xc3\\xa9dito,3-5%,Excel,Efectivo,no,\"Disminuci\\xc3\\xb3n de la variedad de productos,Disminuir la cantidad del pedido,Disminuir la frecuencia de pedidos\",Diariamente,Refrigeraci\\xc3\\xb3n,Ofrecer un producto sustituto,30%,En desacuerdo,Ni de acuerdo ni en desacuerdo,En desacuerdo,En desacuerdo,En desacuerdo,Ni de acuerdo ni en desacuerdo,Ni de acuerdo ni en desacuerdo,Totalmente en desacuerdo,Totalmente en desacuerdo,De acuerdo,no,Beatriz,Sosa ,2211658066.0,bsosacantero@gmail.com,2.0,2.0,2.0,4.0,3.0,2.0,3.0,7.0,1.0,1.0,1.0,7.0,2.0,15.0,7.0,1.0,1.0,10.0\\n32,53ad9978-ef6e-41bf-9f70-ded538668788,\"November 17, 2022\",2022-11-17 21:59:55 UTC,Miguel L\\xc3\\xb3pez,SRID=4326;POINT(-98.2148591 19.0192903),19.0192903,-98.2148591,Super el Cerrito,1 Photo,Dairy products,yes,yes,yes,Analog cash register,1 Photo,no,yes,2012-11-10,Disminuy\\xc3\\xb3 25%,No cambi\\xc3\\xb3,yes,En papel,En papel,Estimar compras a mis proveedores,yes,yes,yes,\"Aplicaci\\xc3\\xb3n m\\xc3\\xb3vil (e.g. Rappi, Uber Eats),Redes sociales (e.g. Facebook, Instagram)\",Efectivo,Efectivo,no,6-10%,0,2-5%,1.0,0,6-10%,1.0,Tarjeta de d\\xc3\\xa9bito y/o cr\\xc3\\xa9dito,Aplicaci\\xc3\\xb3n m\\xc3\\xb3vil,no,no,20%,Cuaderno,no,Recarga telef\\xc3\\xb3nica,Tarde (12:00 - 7:00 pm),El cliente los recoge en tienda,2%,1-5%,no se quiere involucrar ,Totalmente en desacuerdo,Totalmente en desacuerdo,Totalmente en desacuerdo,Totalmente de acuerdo,Totalmente de acuerdo,Algo de acuerdo,Totalmente en desacuerdo,Totalmente de acuerdo,Totalmente de acuerdo,Algo de acuerdo,Totalmente en desacuerdo,Totalmente en desacuerdo,\"En persona,Mensajer\\xc3\\xada instant\\xc3\\xa1nea (e.g. WhatsApp),P\\xc3\\xa1gina web del proveedor\",\"Consignaci\\xc3\\xb3n,Cr\\xc3\\xa9dito,Recompra\",0,Cuaderno,\"Efectivo,Transferencia interbancaria\",yes,\"Disminuci\\xc3\\xb3n de la variedad de productos,Disminuir la cantidad del pedido,Disminuir la frecuencia de pedidos\",Semanalmente,\"Categor\\xc3\\xada (e.g. limpieza, aseo personal, comestibles, l\\xc3\\xa1cteos, etc.),Marcas,Refrigeraci\\xc3\\xb3n\",\"Informar al proveedor,Perder la venta\",50% +,Totalmente de acuerdo,Totalmente de acuerdo,Totalmente de acuerdo,Totalmente en desacuerdo,Totalmente de acuerdo,Totalmente de acuerdo,Totalmente de acuerdo,De acuerdo,Totalmente de acuerdo,Totalmente de acuerdo,yes,Beatriz,Sosa ,2211658066.0,bsosacantero@gmail.com,3.0,2.0,2.0,0.0,0.0,0.0,3.0,7.0,1.0,1.0,1.0,7.0,2.0,15.0,7.0,1.0,2.0,0.0\\n33,7637ee65-99c4-44e7-8de9-39f0b34c746e,\"November 17, 2022\",2022-11-17 21:45:07 UTC,Miguel L\\xc3\\xb3pez,SRID=4326;POINT(-98.2161905 19.0195832),19.0195832,-98.2161905,Tiendita de la 3,1 Photo,Dairy products,yes,no,yes,Analog cash register,1 Photo,no,yes,2012-11-10,Disminuy\\xc3\\xb3 25%,No cambi\\xc3\\xb3,yes,En papel,En papel,Estimar compras a mis proveedores,yes,yes,yes,\"Aplicaci\\xc3\\xb3n m\\xc3\\xb3vil (e.g. Rappi, Uber Eats),Redes sociales (e.g. Facebook, Instagram)\",Efectivo,Efectivo,no,6-10%,0,2-5%,1.0,0,6-10%,1.0,Tarjeta de d\\xc3\\xa9bito y/o cr\\xc3\\xa9dito,Aplicaci\\xc3\\xb3n m\\xc3\\xb3vil,no,no,20%,Cuaderno,no,Recarga telef\\xc3\\xb3nica,Tarde (12:00 - 7:00 pm),El cliente los recoge en tienda,2%,1-5%,no se quiere involucrar ,Totalmente en desacuerdo,Totalmente en desacuerdo,Totalmente en desacuerdo,Totalmente de acuerdo,Totalmente de acuerdo,Algo de acuerdo,Totalmente en desacuerdo,Totalmente de acuerdo,Totalmente de acuerdo,Algo de acuerdo,Totalmente en desacuerdo,Totalmente en desacuerdo,\"En persona,Mensajer\\xc3\\xada instant\\xc3\\xa1nea (e.g. WhatsApp),P\\xc3\\xa1gina web del proveedor\",\"Consignaci\\xc3\\xb3n,Cr\\xc3\\xa9dito,Recompra\",0,Cuaderno,\"Efectivo,Transferencia interbancaria\",yes,\"Disminuci\\xc3\\xb3n de la variedad de productos,Disminuir la cantidad del pedido,Disminuir la frecuencia de pedidos\",Semanalmente,\"Categor\\xc3\\xada (e.g. limpieza, aseo personal, comestibles, l\\xc3\\xa1cteos, etc.),Marcas,Refrigeraci\\xc3\\xb3n\",\"Informar al proveedor,Perder la venta\",50% +,Totalmente de acuerdo,Totalmente de acuerdo,Totalmente de acuerdo,Totalmente en desacuerdo,Totalmente de acuerdo,Totalmente de acuerdo,Totalmente de acuerdo,De acuerdo,Totalmente de acuerdo,Totalmente de acuerdo,yes,Beatriz,Sosa ,2211658066.0,bsosacantero@gmail.com,2.0,1.0,2.0,0.0,0.0,0.0,3.0,7.0,1.0,1.0,1.0,7.0,2.0,15.0,7.0,1.0,2.0,0.0\\n34,2a1fb84a-336c-4148-89d5-ec7a626c1ad7,\"November 10, 2022\",2022-11-17 21:45:07 UTC,Miguel L\\xc3\\xb3pez,SRID=4326;POINT(-98.215619 19.018353),19.018353,-98.215619,Miscelanea los 3 compadres,1 Photo,Grocery store (aka. nanostore),no,yes,yes,\"Security cameras,Smartphone\",1 Photo,yes,yes,2012-11-10,Disminuy\\xc3\\xb3 25%,No cambi\\xc3\\xb3,yes,En papel,En papel,Estimar compras a mis proveedores,yes,yes,yes,\"Aplicaci\\xc3\\xb3n m\\xc3\\xb3vil (e.g. Rappi, Uber Eats),Redes sociales (e.g. Facebook, Instagram)\",Efectivo,Efectivo,no,6-10%,0,2-5%,1.0,0,6-10%,1.0,Tarjeta de d\\xc3\\xa9bito y/o cr\\xc3\\xa9dito,Aplicaci\\xc3\\xb3n m\\xc3\\xb3vil,no,no,20%,Cuaderno,no,Recarga telef\\xc3\\xb3nica,Tarde (12:00 - 7:00 pm),El cliente los recoge en tienda,2%,1-5%,no se quiere involucrar ,Totalmente en desacuerdo,Totalmente en desacuerdo,Totalmente en desacuerdo,Totalmente de acuerdo,Totalmente de acuerdo,Algo de acuerdo,Totalmente en desacuerdo,Totalmente de acuerdo,Totalmente de acuerdo,Algo de acuerdo,Totalmente en desacuerdo,Totalmente en desacuerdo,\"En persona,Mensajer\\xc3\\xada instant\\xc3\\xa1nea (e.g. WhatsApp),P\\xc3\\xa1gina web del proveedor\",\"Consignaci\\xc3\\xb3n,Cr\\xc3\\xa9dito,Recompra\",0,Cuaderno,\"Efectivo,Transferencia interbancaria\",yes,\"Disminuci\\xc3\\xb3n de la variedad de productos,Disminuir la cantidad del pedido,Disminuir la frecuencia de pedidos\",Semanalmente,\"Categor\\xc3\\xada (e.g. limpieza, aseo personal, comestibles, l\\xc3\\xa1cteos, etc.),Marcas,Refrigeraci\\xc3\\xb3n\",\"Informar al proveedor,Perder la venta\",50% +,Totalmente de acuerdo,Totalmente de acuerdo,Totalmente de acuerdo,Totalmente en desacuerdo,Totalmente de acuerdo,Totalmente de acuerdo,Totalmente de acuerdo,De acuerdo,Totalmente de acuerdo,Totalmente de acuerdo,yes,Beatriz,Sosa ,2211658066.0,bsosacantero@gmail.com,2.0,4.0,8.0,0.0,0.0,0.0,3.0,7.0,1.0,1.0,1.0,7.0,2.0,15.0,7.0,1.0,2.0,0.0\\n35,9018ecb6-7626-4539-a6d3-f1a5dc2ced46,\"November 17, 2022\",2022-11-17 21:37:06 UTC,Alan Bravo,SRID=4326;POINT(-98.2306476 19.0103033),19.0103033,-98.2306476,Papeler\\xc3\\xada los lucero,1 Photo,papeler\\xc3\\xada ,yes,no,no,Smartphone,1 Photo,no,yes,2017-11-17,No cambi\\xc3\\xb3,No cambi\\xc3\\xb3,yes,Aplicaci\\xc3\\xb3n m\\xc3\\xb3vil (i.e. App) + smartphone,Aplicaci\\xc3\\xb3n m\\xc3\\xb3vil (i.e. App) + smartphone,Estimar compras a mis proveedores,yes,no,yes,\"Aplicaci\\xc3\\xb3n m\\xc3\\xb3vil (e.g. Rappi, Uber Eats),Redes sociales (e.g. Facebook, Instagram)\",\"Efectivo,Tarjeta de d\\xc3\\xa9bito y/o cr\\xc3\\xa9dito,Transferencia interbancaria\",Efectivo,no,6-10%,0,2-5%,1.0,0,6-10%,1.0,Tarjeta de d\\xc3\\xa9bito y/o cr\\xc3\\xa9dito,Excel,no,no,15%,Excel,yes,Ninguno,Tarde (12:00 - 7:00 pm),El cliente los recoge en tienda,4%,1-5%,no se quiere involucrar ,Totalmente en desacuerdo,Totalmente en desacuerdo,Totalmente de acuerdo,Totalmente en desacuerdo,Totalmente en desacuerdo,Totalmente en desacuerdo,Totalmente en desacuerdo,Totalmente en desacuerdo,Algo en desacuerdo,Totalmente en desacuerdo,Totalmente en desacuerdo,Totalmente en desacuerdo,\"Llamada telef\\xc3\\xb3nica,Mensajer\\xc3\\xada instant\\xc3\\xa1nea (e.g. WhatsApp),Redes sociales (e.g. Facebook)\",Cr\\xc3\\xa9dito,9%+,Excel,\"Efectivo,Transferencia interbancaria\",no,\"Disminuir la cantidad del pedido,Disminuir la frecuencia de pedidos\",Semanalmente,\"Categor\\xc3\\xada (e.g. limpieza, aseo personal, comestibles, l\\xc3\\xa1cteos, etc.)\",Ofrecer un producto sustituto,0,Totalmente en desacuerdo,Totalmente de acuerdo,Totalmente de acuerdo,Totalmente de acuerdo,Totalmente de acuerdo,Totalmente de acuerdo,Totalmente de acuerdo,Totalmente de acuerdo,Totalmente de acuerdo,Totalmente de acuerdo,yes,Carolina,P\\xc3\\xa9rez ,2211062899.0,lu.ca.nu.pe234@gmail.com,0.0,0.0,3.0,2.0,2.0,2.0,5.0,1.0,1.0,1.0,1.0,6.0,2.0,15.0,8.0,1.0,7.0,0.0\\n36,12262dc8-8fec-4e08-a590-7336d2ebf85c,\"November 17, 2022\",2022-11-17 21:37:05 UTC,Alan Bravo,SRID=4326;POINT(-98.2305224 19.0106729),19.0106729,-98.2305224,Carpinteria y tapiceria,1 Photo,taller,no,yes,no,Smartphone,1 Photo,no,yes,2017-11-17,No cambi\\xc3\\xb3,No cambi\\xc3\\xb3,yes,Aplicaci\\xc3\\xb3n m\\xc3\\xb3vil (i.e. App) + smartphone,Aplicaci\\xc3\\xb3n m\\xc3\\xb3vil (i.e. App) + smartphone,Estimar compras a mis proveedores,yes,no,yes,\"Aplicaci\\xc3\\xb3n m\\xc3\\xb3vil (e.g. Rappi, Uber Eats),Redes sociales (e.g. Facebook, Instagram)\",\"Efectivo,Tarjeta de d\\xc3\\xa9bito y/o cr\\xc3\\xa9dito,Transferencia interbancaria\",Efectivo,no,6-10%,0,2-5%,1.0,0,6-10%,1.0,Tarjeta de d\\xc3\\xa9bito y/o cr\\xc3\\xa9dito,Excel,no,no,15%,Excel,yes,Ninguno,Tarde (12:00 - 7:00 pm),El cliente los recoge en tienda,4%,1-5%,no se quiere involucrar ,Totalmente en desacuerdo,Totalmente en desacuerdo,Totalmente de acuerdo,Totalmente en desacuerdo,Totalmente en desacuerdo,Totalmente en desacuerdo,Totalmente en desacuerdo,Totalmente en desacuerdo,Algo en desacuerdo,Totalmente en desacuerdo,Totalmente en desacuerdo,Totalmente en desacuerdo,\"Llamada telef\\xc3\\xb3nica,Mensajer\\xc3\\xada instant\\xc3\\xa1nea (e.g. WhatsApp),Redes sociales (e.g. Facebook)\",Cr\\xc3\\xa9dito,9%+,Excel,\"Efectivo,Transferencia interbancaria\",no,\"Disminuir la cantidad del pedido,Disminuir la frecuencia de pedidos\",Semanalmente,\"Categor\\xc3\\xada (e.g. limpieza, aseo personal, comestibles, l\\xc3\\xa1cteos, etc.)\",Ofrecer un producto sustituto,0,Totalmente en desacuerdo,Totalmente de acuerdo,Totalmente de acuerdo,Totalmente de acuerdo,Totalmente de acuerdo,Totalmente de acuerdo,Totalmente de acuerdo,Totalmente de acuerdo,Totalmente de acuerdo,Totalmente de acuerdo,yes,Carolina,P\\xc3\\xa9rez ,2211062899.0,lu.ca.nu.pe234@gmail.com,1.0,0.0,3.0,2.0,2.0,2.0,5.0,1.0,1.0,1.0,1.0,6.0,2.0,15.0,8.0,1.0,7.0,0.0\\n37,973d2d11-254d-47a7-bbbc-8a4f8ba40ccf,\"November 17, 2022\",2022-11-17 21:37:05 UTC,Alan Bravo,SRID=4326;POINT(-98.2302237 19.0114334),19.0114334,-98.2302237,Smartvets,1 Photo,veterinaria ,no,no,no,\"Analog cash register,Dataphone (i.e. card payments)\",1 Photo,yes,yes,2017-11-17,No cambi\\xc3\\xb3,No cambi\\xc3\\xb3,yes,Aplicaci\\xc3\\xb3n m\\xc3\\xb3vil (i.e. App) + smartphone,Aplicaci\\xc3\\xb3n m\\xc3\\xb3vil (i.e. App) + smartphone,Estimar compras a mis proveedores,yes,no,yes,\"Aplicaci\\xc3\\xb3n m\\xc3\\xb3vil (e.g. Rappi, Uber Eats),Redes sociales (e.g. Facebook, Instagram)\",\"Efectivo,Tarjeta de d\\xc3\\xa9bito y/o cr\\xc3\\xa9dito,Transferencia interbancaria\",Efectivo,no,6-10%,0,2-5%,1.0,0,6-10%,1.0,Tarjeta de d\\xc3\\xa9bito y/o cr\\xc3\\xa9dito,Excel,no,no,15%,Excel,yes,Ninguno,Tarde (12:00 - 7:00 pm),El cliente los recoge en tienda,4%,1-5%,no se quiere involucrar ,Totalmente en desacuerdo,Totalmente en desacuerdo,Totalmente de acuerdo,Totalmente en desacuerdo,Totalmente en desacuerdo,Totalmente en desacuerdo,Totalmente en desacuerdo,Totalmente en desacuerdo,Algo en desacuerdo,Totalmente en desacuerdo,Totalmente en desacuerdo,Totalmente en desacuerdo,\"Llamada telef\\xc3\\xb3nica,Mensajer\\xc3\\xada instant\\xc3\\xa1nea (e.g. WhatsApp),Redes sociales (e.g. Facebook)\",Cr\\xc3\\xa9dito,9%+,Excel,\"Efectivo,Transferencia interbancaria\",no,\"Disminuir la cantidad del pedido,Disminuir la frecuencia de pedidos\",Semanalmente,\"Categor\\xc3\\xada (e.g. limpieza, aseo personal, comestibles, l\\xc3\\xa1cteos, etc.)\",Ofrecer un producto sustituto,0,Totalmente en desacuerdo,Totalmente de acuerdo,Totalmente de acuerdo,Totalmente de acuerdo,Totalmente de acuerdo,Totalmente de acuerdo,Totalmente de acuerdo,Totalmente de acuerdo,Totalmente de acuerdo,Totalmente de acuerdo,yes,Carolina,P\\xc3\\xa9rez ,2211062899.0,lu.ca.nu.pe234@gmail.com,1.0,0.0,3.0,2.0,2.0,2.0,5.0,1.0,1.0,1.0,1.0,6.0,2.0,15.0,8.0,1.0,7.0,0.0\\n38,2660c845-a514-4f74-8c7c-59fd64146d96,\"November 17, 2022\",2022-11-17 21:37:04 UTC,Alan Bravo,SRID=4326;POINT(-98.2300894 19.0107948),19.0107948,-98.2300894,Sin nombre,1 Photo,panader\\xc3\\xada ,no,yes,yes,\"Analog cash register,Security cameras\",1 Photo,no,yes,2008-11-17,No cambi\\xc3\\xb3,No cambi\\xc3\\xb3,yes,Software especializado + computadora,Software especializado + computadora,Estimar compras a mis proveedores,yes,no,yes,\"Llamada a Tel\\xc3\\xa9fono celular,WhatsApp\",\"Efectivo,Tarjeta de d\\xc3\\xa9bito y/o cr\\xc3\\xa9dito\",Efectivo,no,6-10%,0,2-5%,1.0,2-5%,6-10%,0.0,Efectivo,Aplicaci\\xc3\\xb3n m\\xc3\\xb3vil,no,no,15%,Software especializado,yes,\"Entrega a domicilio,Recarga telef\\xc3\\xb3nica\",Tarde (12:00 - 7:00 pm),El cliente los recoge en tienda,4%,1-5%,No quiero involucrarme con la tecnolog\\xc3\\xada,Totalmente en desacuerdo,Algo de acuerdo,Algo en desacuerdo,Algo en desacuerdo,Algo en desacuerdo,Totalmente en desacuerdo,Totalmente en desacuerdo,Totalmente en desacuerdo,Totalmente en desacuerdo,Totalmente en desacuerdo,Totalmente en desacuerdo,Totalmente en desacuerdo,\"En persona,Mensajer\\xc3\\xada instant\\xc3\\xa1nea (e.g. WhatsApp)\",Cr\\xc3\\xa9dito,0,Software especializado,Efectivo,no,\"Disminuir la cantidad del pedido,Disminuir la frecuencia de pedidos\",Diariamente,\"Categor\\xc3\\xada (e.g. limpieza, aseo personal, comestibles, l\\xc3\\xa1cteos, etc.)\",\"Ofrecer un producto sustituto,Perder la venta\",10%,Ni de acuerdo ni en desacuerdo,Totalmente de acuerdo,Totalmente de acuerdo,Totalmente de acuerdo,Totalmente de acuerdo,Totalmente de acuerdo,Totalmente de acuerdo,De acuerdo,De acuerdo,Totalmente de acuerdo,no,Carolina,P\\xc3\\xa9rez ,2211062899.0,lu.ca.nu.pe234@gmail.com,0.0,7.0,6.0,0.0,0.0,2.0,4.4,1.0,1.0,1.0,1.0,6.0,2.0,15.0,8.0,1.0,5.0,0.0\\n39,17d39e9d-dca6-4425-b366-edeeeb7267df,\"November 17, 2022\",2022-11-17 21:37:04 UTC,Alan Bravo,SRID=4326;POINT(-98.2304922 19.0106881),19.0106881,-98.2304922,Miscel\\xc3\\xa1nea 2008,1 Photo,Grocery store (aka. nanostore),no,no,yes,\"Analog cash register,pesa\",1 Photo,yes,yes,2008-11-17,No cambi\\xc3\\xb3,No cambi\\xc3\\xb3,yes,Software especializado + computadora,Software especializado + computadora,Estimar compras a mis proveedores,yes,no,yes,\"Llamada a Tel\\xc3\\xa9fono celular,WhatsApp\",\"Efectivo,Tarjeta de d\\xc3\\xa9bito y/o cr\\xc3\\xa9dito\",Efectivo,no,6-10%,0,2-5%,1.0,2-5%,6-10%,0.0,Efectivo,Aplicaci\\xc3\\xb3n m\\xc3\\xb3vil,no,no,15%,Software especializado,yes,\"Entrega a domicilio,Recarga telef\\xc3\\xb3nica\",Tarde (12:00 - 7:00 pm),El cliente los recoge en tienda,4%,1-5%,No quiero involucrarme con la tecnolog\\xc3\\xada,Totalmente en desacuerdo,Algo de acuerdo,Algo en desacuerdo,Algo en desacuerdo,Algo en desacuerdo,Totalmente en desacuerdo,Totalmente en desacuerdo,Totalmente en desacuerdo,Totalmente en desacuerdo,Totalmente en desacuerdo,Totalmente en desacuerdo,Totalmente en desacuerdo,\"En persona,Mensajer\\xc3\\xada instant\\xc3\\xa1nea (e.g. WhatsApp)\",Cr\\xc3\\xa9dito,0,Software especializado,Efectivo,no,\"Disminuir la cantidad del pedido,Disminuir la frecuencia de pedidos\",Diariamente,\"Categor\\xc3\\xada (e.g. limpieza, aseo personal, comestibles, l\\xc3\\xa1cteos, etc.)\",\"Ofrecer un producto sustituto,Perder la venta\",10%,Ni de acuerdo ni en desacuerdo,Totalmente de acuerdo,Totalmente de acuerdo,Totalmente de acuerdo,Totalmente de acuerdo,Totalmente de acuerdo,Totalmente de acuerdo,De acuerdo,De acuerdo,Totalmente de acuerdo,no,Carolina,P\\xc3\\xa9rez ,2211062899.0,lu.ca.nu.pe234@gmail.com,1.0,7.0,4.0,0.0,0.0,2.0,4.4,1.0,1.0,1.0,1.0,6.0,2.0,15.0,8.0,1.0,5.0,0.0\\n40,4d046ef0-7556-4293-b6e6-c4ba4c616310,\"November 17, 2022\",2022-11-17 21:37:03 UTC,Alan Bravo,SRID=4326;POINT(-98.2308249 19.0102935),19.0102935,-98.2308249,La Michoacana ,1 Photo,helados,yes,no,no,Smartphone,1 Photo,yes,yes,1987-08-01,No cambi\\xc3\\xb3,No cambi\\xc3\\xb3,yes,En papel,En papel,Estimar compras a mis proveedores,yes,yes,yes,Llamada a Tel\\xc3\\xa9fono fijo,Efectivo,Tarjeta de d\\xc3\\xa9bito y/o cr\\xc3\\xa9dito,no,6-10%,0,2-5%,0.0,2-5%,6-10%,0.0,Tarjeta de d\\xc3\\xa9bito y/o cr\\xc3\\xa9dito,Ninguna,no,no,20%,Cuaderno,no,Ninguno,Tarde (12:00 - 7:00 pm),El cliente los recoge en tienda,6%+,6-10%,No quiero involucrarme con la tecnolog\\xc3\\xada,Totalmente en desacuerdo,Totalmente en desacuerdo,Algo en desacuerdo,Totalmente en desacuerdo,Totalmente en desacuerdo,Totalmente en desacuerdo,Totalmente en desacuerdo,Totalmente en desacuerdo,Algo de acuerdo,Totalmente en desacuerdo,Totalmente en desacuerdo,Algo en desacuerdo,\"En persona,Sistema especializado del proveedor (e.g. VMS)\",Descuento por compras anticipadas,0,Cuaderno,Efectivo,yes,\"Disminuir la cantidad del pedido,Disminuir la frecuencia de pedidos\",Semanalmente,\"Refrigeraci\\xc3\\xb3n,Tama\\xc3\\xb1o\",Ofrecer un producto sustituto,50% +,Totalmente en desacuerdo,Totalmente en desacuerdo,Totalmente en desacuerdo,Totalmente en desacuerdo,Totalmente en desacuerdo,Totalmente en desacuerdo,Totalmente en desacuerdo,Totalmente en desacuerdo,Totalmente en desacuerdo,Totalmente en desacuerdo,yes,Carolina,P\\xc3\\xa9rez ,2211062899.0,lu.ca.nu.pe234@gmail.com,0.0,5.0,2.0,1.0,1.0,5.0,1.0,1.0,0.0,1.0,1.0,30.0,2.0,15.0,8.0,1.0,1.0,0.0\\n41,b5f13115-e41b-4adf-b0e6-344d96cefaf4,\"November 17, 2022\",2022-11-17 21:20:23 UTC,Miguel L\\xc3\\xb3pez,SRID=4326;POINT(-98.2209671 19.0159207),19.0159207,-98.2209671,Super Villa encantada ,1 Photo,Dairy products,yes,no,yes,Analog cash register,1 Photo,yes,yes,2010-11-17,No cambi\\xc3\\xb3,No cambi\\xc3\\xb3,no,En papel,En papel,Estimar compras a mis proveedores,no,yes,yes,Llamada a Tel\\xc3\\xa9fono fijo,Efectivo,Tarjeta de d\\xc3\\xa9bito y/o cr\\xc3\\xa9dito,no,6-10%,0,2-5%,0.0,2-5%,6-10%,0.0,Tarjeta de d\\xc3\\xa9bito y/o cr\\xc3\\xa9dito,Redes sociales,no,no,20%,Cuaderno,no,\"Entrega a domicilio,Recarga telef\\xc3\\xb3nica\",Tarde (12:00 - 7:00 pm),El cliente los recoge en tienda,6%+,6-10%,Other,Totalmente en desacuerdo,Totalmente en desacuerdo,Totalmente en desacuerdo,Algo en desacuerdo,Totalmente en desacuerdo,Totalmente en desacuerdo,Ni de acuerdo ni en desacuerdo,Ni de acuerdo ni en desacuerdo,Ni de acuerdo ni en desacuerdo,Totalmente en desacuerdo,Totalmente en desacuerdo,Totalmente en desacuerdo,\"En persona,Llamada telef\\xc3\\xb3nica,P\\xc3\\xa1gina web del proveedor\",Recompra,0,Software especializado,\"Efectivo,Tarjeta de d\\xc3\\xa9bito y/o cr\\xc3\\xa9dito\",yes,\"Aumentar la frecuencia de pedidos,Aumentar la variedad de productos.\",Semanalmente,\"Categor\\xc3\\xada (e.g. limpieza, aseo personal, comestibles, l\\xc3\\xa1cteos, etc.)\",Perder la venta,10%,De acuerdo,De acuerdo,Totalmente de acuerdo,De acuerdo,De acuerdo,De acuerdo,De acuerdo,Totalmente de acuerdo,De acuerdo,Totalmente de acuerdo,no,Miguel ,Panohaya Anhalco,2211062899.0,maritere@promocionalespattys.com,3.0,4.0,2.0,3.0,3.0,4.0,0.0,7.0,0.0,1.0,1.0,30.0,2.0,15.0,8.0,1.0,3.0,20.0\\n42,46cfe5ff-6fa0-41ef-b978-7cbbe374c931,\"November 9, 2022\",2022-11-17 18:25:51 UTC,Jes\\xc3\\xbas Herrera,SRID=4326;POINT(-98.2614175604 19.019569042),19.019569042,-98.2614175604,Fuku maki ,1 Photo,Restaurante,no,no,no,\"Dataphone (i.e. card payments),Smartphone\",1 Photo,yes,yes,2020-01-08,No cambi\\xc3\\xb3,Aument\\xc3\\xb3 15%,no,\"Aplicaci\\xc3\\xb3n m\\xc3\\xb3vil (i.e. App) + smartphone,Software especializado + computadora\",\"Caja registradora (an\\xc3\\xa1loga),Software especializado + computadora\",Estimar compras a mis proveedores,yes,no,yes,\"Aplicaci\\xc3\\xb3n m\\xc3\\xb3vil (e.g. Rappi, Uber Eats),Redes sociales (e.g. Facebook, Instagram),WhatsApp\",\"Efectivo,Tarjeta de d\\xc3\\xa9bito y/o cr\\xc3\\xa9dito\",Tarjeta de d\\xc3\\xa9bito y/o cr\\xc3\\xa9dito,no,6-10%,0,2-5%,0.0,2-5%,6-10%,0.0,Tarjeta de d\\xc3\\xa9bito y/o cr\\xc3\\xa9dito,Redes sociales,no,no,20%,\"Aplicaci\\xc3\\xb3n m\\xc3\\xb3vil,Excel\",yes,Entrega a domicilio,Tarde (12:00 - 7:00 pm),El cliente los recoge en tienda,6%+,6-10%,Other,Totalmente en desacuerdo,Totalmente en desacuerdo,Totalmente en desacuerdo,Algo en desacuerdo,Totalmente en desacuerdo,Totalmente en desacuerdo,Ni de acuerdo ni en desacuerdo,Ni de acuerdo ni en desacuerdo,Ni de acuerdo ni en desacuerdo,Totalmente en desacuerdo,Totalmente en desacuerdo,Totalmente en desacuerdo,\"En persona,Llamada telef\\xc3\\xb3nica,P\\xc3\\xa1gina web del proveedor\",Recompra,0,Software especializado,\"Efectivo,Tarjeta de d\\xc3\\xa9bito y/o cr\\xc3\\xa9dito\",yes,\"Aumentar la frecuencia de pedidos,Aumentar la variedad de productos.\",Quincenalmente,Refrigeraci\\xc3\\xb3n,\"Informar al proveedor,Perder la venta\",20%,De acuerdo,De acuerdo,Totalmente de acuerdo,De acuerdo,De acuerdo,De acuerdo,De acuerdo,Totalmente de acuerdo,De acuerdo,Totalmente de acuerdo,no,Miguel ,Panohaya Anhalco,2211062899.0,maritere@promocionalespattys.com,2.0,2.0,0.0,7.0,6.0,2.0,4.0,4.0,0.0,1.0,1.0,2.0,2.0,5.0,5.0,1.0,3.0,7.0\\n43,16a1f455-94d4-43cd-9757-4518d0adcdeb,\"November 17, 2022\",2022-11-17 18:24:12 UTC,Emilio Garza,SRID=4326;POINT(-98.2003207399 19.0414927218),19.0414927218,-98.2003207399,Boutique Lupita ,1 Photo,Clothes store,no,yes,no,\"Dataphone (i.e. card payments),Smartphone\",1 Photo,no,yes,1970-11-17,No cambi\\xc3\\xb3,No cambi\\xc3\\xb3,yes,En papel,En papel,Estimar compras a mis proveedores,yes,no,no,\"Llamada a Tel\\xc3\\xa9fono celular,Llamada a Tel\\xc3\\xa9fono fijo\",Efectivo,Efectivo,no,6-10%,0,2-5%,1.0,0,0,0.0,Tarjeta de d\\xc3\\xa9bito y/o cr\\xc3\\xa9dito,\"Ninguna,Other\",no,no,30%,Cuaderno,no,Ninguno,Tarde (12:00 - 7:00 pm),El cliente los recoge en tienda,6%+,16-20%,Other,Totalmente en desacuerdo,Algo de acuerdo,Totalmente en desacuerdo,Totalmente en desacuerdo,Totalmente en desacuerdo,Totalmente en desacuerdo,Totalmente en desacuerdo,Totalmente en desacuerdo,Totalmente en desacuerdo,Totalmente en desacuerdo,Totalmente en desacuerdo,Algo en desacuerdo,En persona,ninguna ,0,Cuaderno,Efectivo,yes,\"Disminuci\\xc3\\xb3n de la variedad de productos,Disminuir la frecuencia de pedidos\",Mensualmente,Margen de utilidad,Solicitar tiempo al cliente para conseguir el producto,10%,Ni de acuerdo ni en desacuerdo,Totalmente de acuerdo,Totalmente de acuerdo,Totalmente de acuerdo,Totalmente de acuerdo,Totalmente de acuerdo,Totalmente de acuerdo,Totalmente de acuerdo,Totalmente de acuerdo,Totalmente de acuerdo,no,Miguel ,Panohaya Anhalco,2211062899.0,maritere@promocionalespattys.com,1.0,0.0,9.0,0.0,0.0,1.0,3.0,4.0,1.0,1.0,1.0,2.0,2.0,2.0,0.0,1.0,1.0,0.0\\n44,8fc18105-246a-4657-978b-c728e9356812,\"November 17, 2022\",2022-11-17 18:22:22 UTC,Francisco Ad\\xc3\\xa1n,SRID=4326;POINT(-98.2003333 19.041503),19.041503,-98.2003333,El taco poblano ,1 Photo,Micro-restaurant (aka. fondita),yes,no,yes,Smartphone,1 Photo,no,yes,1970-11-17,No cambi\\xc3\\xb3,No cambi\\xc3\\xb3,yes,En papel,En papel,Estimar compras a mis proveedores,yes,no,no,\"Llamada a Tel\\xc3\\xa9fono celular,Llamada a Tel\\xc3\\xa9fono fijo\",Efectivo,Efectivo,no,6-10%,0,2-5%,1.0,0,0,0.0,Tarjeta de d\\xc3\\xa9bito y/o cr\\xc3\\xa9dito,\"Ninguna,Other\",no,no,30%,Cuaderno,no,Ninguno,Tarde (12:00 - 7:00 pm),El cliente los recoge en tienda,6%+,16-20%,Other,Totalmente en desacuerdo,Algo de acuerdo,Totalmente en desacuerdo,Totalmente en desacuerdo,Totalmente en desacuerdo,Totalmente en desacuerdo,Totalmente en desacuerdo,Totalmente en desacuerdo,Totalmente en desacuerdo,Totalmente en desacuerdo,Totalmente en desacuerdo,Algo en desacuerdo,En persona,ninguna ,0,Cuaderno,Efectivo,yes,\"Disminuci\\xc3\\xb3n de la variedad de productos,Disminuir la frecuencia de pedidos\",Mensualmente,Margen de utilidad,Solicitar tiempo al cliente para conseguir el producto,10%,Ni de acuerdo ni en desacuerdo,Totalmente de acuerdo,Totalmente de acuerdo,Totalmente de acuerdo,Totalmente de acuerdo,Totalmente de acuerdo,Totalmente de acuerdo,Totalmente de acuerdo,Totalmente de acuerdo,Totalmente de acuerdo,no,Miguel ,Panohaya Anhalco,2211062899.0,maritere@promocionalespattys.com,0.0,2.0,1.0,0.0,0.0,1.0,3.0,4.0,1.0,1.0,1.0,2.0,2.0,2.0,0.0,1.0,1.0,0.0\\n45,cca0c1f7-aae8-4732-8d1b-606aac8cb9a3,\"November 17, 2022\",2022-11-17 18:21:00 UTC,Jos\\xc3\\xa9 Oropeza,SRID=4326;POINT(-98.2013914007 19.0438759488),19.0438759488,-98.2013914007,My Boutique Woman Style,1 Photo,Clothes,yes,yes,no,POS system (i.e. computer + bar code scanner + printer),1 Photo,no,yes,1970-11-17,No cambi\\xc3\\xb3,No cambi\\xc3\\xb3,yes,En papel,En papel,Estimar compras a mis proveedores,yes,no,no,\"Llamada a Tel\\xc3\\xa9fono celular,Llamada a Tel\\xc3\\xa9fono fijo\",Efectivo,Efectivo,no,6-10%,0,2-5%,1.0,0,0,0.0,Tarjeta de d\\xc3\\xa9bito y/o cr\\xc3\\xa9dito,\"Ninguna,Other\",no,no,30%,Cuaderno,no,Ninguno,Tarde (12:00 - 7:00 pm),El cliente los recoge en tienda,6%+,16-20%,Other,Totalmente en desacuerdo,Algo de acuerdo,Totalmente en desacuerdo,Totalmente en desacuerdo,Totalmente en desacuerdo,Totalmente en desacuerdo,Totalmente en desacuerdo,Totalmente en desacuerdo,Totalmente en desacuerdo,Totalmente en desacuerdo,Totalmente en desacuerdo,Algo en desacuerdo,En persona,ninguna ,0,Cuaderno,Efectivo,yes,\"Disminuci\\xc3\\xb3n de la variedad de productos,Disminuir la frecuencia de pedidos\",Mensualmente,Margen de utilidad,Solicitar tiempo al cliente para conseguir el producto,10%,Ni de acuerdo ni en desacuerdo,Totalmente de acuerdo,Totalmente de acuerdo,Totalmente de acuerdo,Totalmente de acuerdo,Totalmente de acuerdo,Totalmente de acuerdo,Totalmente de acuerdo,Totalmente de acuerdo,Totalmente de acuerdo,no,Miguel ,Panohaya Anhalco,2211062899.0,maritere@promocionalespattys.com,3.0,0.0,2.0,0.0,0.0,1.0,3.0,4.0,1.0,1.0,1.0,2.0,2.0,2.0,0.0,1.0,1.0,0.0\\n46,b04334e8-6a5f-468b-bea5-fbc94c20d445,\"November 17, 2022\",2022-11-17 18:17:23 UTC,Emilio Garza,SRID=4326;POINT(-98.2018976699 19.0423925413),19.0423925413,-98.2018976699,Musi Taller,1 Photo,Music Store ,no,no,no,Smartphone,1 Photo,yes,yes,1970-11-17,No cambi\\xc3\\xb3,No cambi\\xc3\\xb3,yes,En papel,En papel,Estimar compras a mis proveedores,yes,no,no,\"Llamada a Tel\\xc3\\xa9fono celular,Llamada a Tel\\xc3\\xa9fono fijo\",Efectivo,Efectivo,no,6-10%,0,2-5%,1.0,0,0,0.0,Tarjeta de d\\xc3\\xa9bito y/o cr\\xc3\\xa9dito,\"Ninguna,Other\",no,no,30%,Cuaderno,no,Ninguno,Tarde (12:00 - 7:00 pm),El cliente los recoge en tienda,6%+,16-20%,Other,Totalmente en desacuerdo,Algo de acuerdo,Totalmente en desacuerdo,Totalmente en desacuerdo,Totalmente en desacuerdo,Totalmente en desacuerdo,Totalmente en desacuerdo,Totalmente en desacuerdo,Totalmente en desacuerdo,Totalmente en desacuerdo,Totalmente en desacuerdo,Algo en desacuerdo,En persona,ninguna ,0,Cuaderno,Efectivo,yes,\"Disminuci\\xc3\\xb3n de la variedad de productos,Disminuir la frecuencia de pedidos\",Mensualmente,Margen de utilidad,Solicitar tiempo al cliente para conseguir el producto,10%,Ni de acuerdo ni en desacuerdo,Totalmente de acuerdo,Totalmente de acuerdo,Totalmente de acuerdo,Totalmente de acuerdo,Totalmente de acuerdo,Totalmente de acuerdo,Totalmente de acuerdo,Totalmente de acuerdo,Totalmente de acuerdo,no,Miguel ,Panohaya Anhalco,2211062899.0,maritere@promocionalespattys.com,0.0,0.0,5.0,0.0,0.0,1.0,3.0,4.0,1.0,1.0,1.0,2.0,2.0,2.0,0.0,1.0,1.0,0.0\\n47,d641767f-437c-443c-bbc2-83186e6bf219,\"November 10, 2022\",2022-11-17 18:16:50 UTC,Alan Bravo,SRID=4326;POINT(-98.2297258 19.0121742),19.0121742,-98.2297258,Recaudar\\xc3\\xada ,1 Photo,Produce (fruits & vegetables),no,no,yes,nada,1 Photo,yes,yes,2022-10-07,No cambi\\xc3\\xb3,No cambi\\xc3\\xb3,yes,En papel,En papel,Estimar compras a mis proveedores,no,no,no,\"Aplicaci\\xc3\\xb3n m\\xc3\\xb3vil (e.g. Rappi, Uber Eats),Llamada a Tel\\xc3\\xa9fono celular,Llamada a Tel\\xc3\\xa9fono fijo,P\\xc3\\xa1gina web propia,Redes sociales (e.g. Facebook, Instagram),WhatsApp\",Efectivo,Efectivo,no,6-10%,0,2-5%,1.0,0,0,0.0,Tarjeta de d\\xc3\\xa9bito y/o cr\\xc3\\xa9dito,tel\\xc3\\xa9fono ,yes,no,10%,Cuaderno,no,Ninguno,Tarde (12:00 - 7:00 pm),El cliente los recoge en tienda,6%+,16-20%,Es muy caro,Totalmente de acuerdo,Totalmente de acuerdo,Totalmente de acuerdo,Totalmente de acuerdo,Totalmente de acuerdo,Totalmente en desacuerdo,Totalmente en desacuerdo,Totalmente en desacuerdo,Totalmente en desacuerdo,Totalmente en desacuerdo,Totalmente en desacuerdo,Algo en desacuerdo,En persona,ninguna ,0,Cuaderno,Efectivo,yes,\"Disminuir la cantidad del pedido,Disminuir la frecuencia de pedidos\",Diariamente,\"Categor\\xc3\\xada (e.g. limpieza, aseo personal, comestibles, l\\xc3\\xa1cteos, etc.),Refrigeraci\\xc3\\xb3n\",Solicitar tiempo al cliente para conseguir el producto,10%,Ni de acuerdo ni en desacuerdo,Totalmente de acuerdo,Totalmente de acuerdo,Totalmente de acuerdo,Totalmente de acuerdo,Totalmente de acuerdo,Totalmente de acuerdo,Totalmente de acuerdo,Totalmente de acuerdo,Totalmente de acuerdo,yes,Miguel ,Panohaya Anhalco,2211062899.0,maritere@promocionalespattys.com,2.0,1.0,6.0,0.0,0.0,1.0,1.0,4.0,1.0,1.0,1.0,2.0,2.0,2.0,0.0,1.0,1.0,8.0\\n48,1de6b901-32f5-4903-b3db-7717e3be8671,\"November 17, 2022\",2022-11-17 18:08:42 UTC,Francisco Ad\\xc3\\xa1n,SRID=4326;POINT(-98.2019508 19.0424503),19.0424503,-98.2019508,Panader\\xc3\\xada Torteria y Pizzas,1 Photo,Micro-restaurant (aka. fondita),no,no,yes,Smartphone,1 Photo,no,yes,1986-11-19,No cambi\\xc3\\xb3,Aument\\xc3\\xb3 15%,no,\"En Excel,En papel\",En papel,Estimar compras a mis proveedores,yes,yes,yes,\"Aplicaci\\xc3\\xb3n m\\xc3\\xb3vil (e.g. Rappi, Uber Eats),Llamada a Tel\\xc3\\xa9fono celular,Llamada a Tel\\xc3\\xa9fono fijo,P\\xc3\\xa1gina web propia,Redes sociales (e.g. Facebook, Instagram),WhatsApp\",\"Efectivo,Transferencia interbancaria\",Efectivo,no,6-10%,0,2-5%,1.0,0,0,0.0,Tarjeta de d\\xc3\\xa9bito y/o cr\\xc3\\xa9dito,\"Aplicaci\\xc3\\xb3n m\\xc3\\xb3vil,Redes sociales\",no,no,40%,Excel,no,Ninguno,Tarde (12:00 - 7:00 pm),El cliente los recoge en tienda,6%+,16-20%,Es muy caro,Algo de acuerdo,Algo de acuerdo,Ni de acuerdo ni en desacuerdo,Totalmente en desacuerdo,Totalmente de acuerdo,Algo de acuerdo,Totalmente de acuerdo,Algo en desacuerdo,Totalmente de acuerdo,Ni de acuerdo ni en desacuerdo,Totalmente en desacuerdo,Totalmente en desacuerdo,\"Llamada telef\\xc3\\xb3nica,Mensajer\\xc3\\xada instant\\xc3\\xa1nea (e.g. WhatsApp)\",\"Consignaci\\xc3\\xb3n,Cr\\xc3\\xa9dito\",0,Excel,\"Efectivo,Transferencia interbancaria\",yes,Disminuir la frecuencia de pedidos,Quincenalmente,Frecuencia de venta,Ofrecer un producto sustituto,50% +,De acuerdo,Totalmente de acuerdo,Totalmente de acuerdo,En desacuerdo,Totalmente de acuerdo,Totalmente de acuerdo,Totalmente de acuerdo,Totalmente de acuerdo,Totalmente de acuerdo,Totalmente de acuerdo,yes,Mari Tere ,G\\xc3\\xb3mez  Valiente ,2221247403.0,maritere@promocionalespattys.com,0.0,1.0,1.0,2.0,2.0,2.0,5.0,4.0,1.0,1.0,1.0,2.0,2.0,2.0,0.0,1.0,1.0,20.0\\n49,9955b938-c69a-47d6-bfa0-c30b2689e4b4,\"November 17, 2022\",2022-11-17 18:05:01 UTC,Francisco Ad\\xc3\\xa1n,SRID=4326;POINT(-98.2016699 19.0427317),19.0427317,-98.2016699,Pathys,1 Photo,tienda de mochilas y bolsas ,yes,yes,no,Smartphone,1 Photo,no,yes,1986-11-19,No cambi\\xc3\\xb3,Aument\\xc3\\xb3 15%,no,\"En Excel,En papel\",En papel,Estimar compras a mis proveedores,yes,yes,yes,\"Aplicaci\\xc3\\xb3n m\\xc3\\xb3vil (e.g. Rappi, Uber Eats),Llamada a Tel\\xc3\\xa9fono celular,Llamada a Tel\\xc3\\xa9fono fijo,P\\xc3\\xa1gina web propia,Redes sociales (e.g. Facebook, Instagram),WhatsApp\",\"Efectivo,Transferencia interbancaria\",Efectivo,no,6-10%,0,2-5%,1.0,0,0,0.0,Tarjeta de d\\xc3\\xa9bito y/o cr\\xc3\\xa9dito,\"Aplicaci\\xc3\\xb3n m\\xc3\\xb3vil,Redes sociales\",no,no,40%,Excel,no,Ninguno,Tarde (12:00 - 7:00 pm),El cliente los recoge en tienda,6%+,16-20%,Es muy caro,Algo de acuerdo,Algo de acuerdo,Ni de acuerdo ni en desacuerdo,Totalmente en desacuerdo,Totalmente de acuerdo,Algo de acuerdo,Totalmente de acuerdo,Algo en desacuerdo,Totalmente de acuerdo,Ni de acuerdo ni en desacuerdo,Totalmente en desacuerdo,Totalmente en desacuerdo,\"Llamada telef\\xc3\\xb3nica,Mensajer\\xc3\\xada instant\\xc3\\xa1nea (e.g. WhatsApp)\",\"Consignaci\\xc3\\xb3n,Cr\\xc3\\xa9dito\",0,Excel,\"Efectivo,Transferencia interbancaria\",yes,Disminuir la frecuencia de pedidos,Quincenalmente,Frecuencia de venta,Ofrecer un producto sustituto,50% +,De acuerdo,Totalmente de acuerdo,Totalmente de acuerdo,En desacuerdo,Totalmente de acuerdo,Totalmente de acuerdo,Totalmente de acuerdo,Totalmente de acuerdo,Totalmente de acuerdo,Totalmente de acuerdo,yes,Mari Tere ,G\\xc3\\xb3mez  Valiente ,2221247403.0,maritere@promocionalespattys.com,0.0,0.0,1.0,2.0,2.0,2.0,5.0,4.0,1.0,1.0,1.0,2.0,2.0,2.0,0.0,1.0,1.0,20.0\\n50,2ac2a7b9-a8ce-49bd-b6e9-450f2434f509,\"November 17, 2022\",2022-11-17 17:57:07 UTC,Emilio Garza,SRID=4326;POINT(-98.2017253469 19.0426751556),19.0426751556,-98.2017253469,Los Hijos de S\\xc3\\xa1nchez ,1 Photo,Library store ,no,no,no,Smartphone,1 Photo,no,yes,2014-08-10,Disminuy\\xc3\\xb3 15%,Disminuy\\xc3\\xb3 50% o m\\xc3\\xa1s,yes,En Excel,En Excel,Estimar compras a mis proveedores,yes,yes,yes,\"Redes sociales (e.g. Facebook, Instagram),WhatsApp\",\"Efectivo,Tarjeta de d\\xc3\\xa9bito y/o cr\\xc3\\xa9dito,Transferencia interbancaria\",Efectivo,no,6-10%,0,2-5%,1.0,0,0,0.0,Tarjeta de d\\xc3\\xa9bito y/o cr\\xc3\\xa9dito,\"Aplicaci\\xc3\\xb3n m\\xc3\\xb3vil,Redes sociales\",no,no,35%,Excel,no,Entrega a domicilio,Tarde (12:00 - 7:00 pm),El cliente los recoge en tienda,6%+,16-20%,No conozco los servicios,Totalmente de acuerdo,Totalmente de acuerdo,Totalmente en desacuerdo,Totalmente de acuerdo,Algo de acuerdo,Totalmente de acuerdo,Totalmente de acuerdo,Totalmente de acuerdo,Ni de acuerdo ni en desacuerdo,Ni de acuerdo ni en desacuerdo,Totalmente en desacuerdo,Totalmente en desacuerdo,\"Llamada telef\\xc3\\xb3nica,Mensajer\\xc3\\xada instant\\xc3\\xa1nea (e.g. WhatsApp)\",\"Consignaci\\xc3\\xb3n,Cr\\xc3\\xa9dito\",0,Excel,\"Efectivo,Transferencia interbancaria\",yes,Disminuir la frecuencia de pedidos,Semanalmente,\"Categor\\xc3\\xada (e.g. limpieza, aseo personal, comestibles, l\\xc3\\xa1cteos, etc.)\",\"Ofrecer un producto sustituto,Solicitar tiempo al cliente para conseguir el producto\",0,Totalmente de acuerdo,Totalmente de acuerdo,Totalmente de acuerdo,En desacuerdo,Totalmente de acuerdo,Totalmente de acuerdo,Totalmente de acuerdo,Totalmente de acuerdo,Totalmente de acuerdo,Totalmente de acuerdo,no,Melina ,Cornejo doporto ,2222939908.0,Mieldoporto@gmail.com,1.0,0.0,9.0,3.0,2.0,2.0,7.0,7.0,1.0,1.0,1.0,2.0,2.0,2.0,0.0,1.0,1.0,20.0\\n51,e846265a-6bb1-4942-a616-ebee9462304e,\"November 17, 2022\",2022-11-17 17:51:04 UTC,Emilio Garza,SRID=4326;POINT(-98.2014118247 19.0431784291),19.0431784291,-98.2014118247,Bisuter\\xc3\\xada Lemori ,1 Photo,Bisuter\\xc3\\xada ,no,no,no,\"Dataphone (i.e. card payments),Smartphone\",1 Photo,no,yes,2014-08-10,Disminuy\\xc3\\xb3 15%,Disminuy\\xc3\\xb3 50% o m\\xc3\\xa1s,yes,En Excel,En Excel,Estimar compras a mis proveedores,yes,yes,yes,\"Redes sociales (e.g. Facebook, Instagram),WhatsApp\",\"Efectivo,Tarjeta de d\\xc3\\xa9bito y/o cr\\xc3\\xa9dito,Transferencia interbancaria\",Efectivo,no,6-10%,0,2-5%,1.0,0,0,0.0,Tarjeta de d\\xc3\\xa9bito y/o cr\\xc3\\xa9dito,\"Aplicaci\\xc3\\xb3n m\\xc3\\xb3vil,Redes sociales\",no,no,35%,Excel,no,Entrega a domicilio,Tarde (12:00 - 7:00 pm),El cliente los recoge en tienda,6%+,16-20%,No conozco los servicios,Totalmente de acuerdo,Totalmente de acuerdo,Totalmente en desacuerdo,Totalmente de acuerdo,Algo de acuerdo,Totalmente de acuerdo,Totalmente de acuerdo,Totalmente de acuerdo,Ni de acuerdo ni en desacuerdo,Ni de acuerdo ni en desacuerdo,Totalmente en desacuerdo,Totalmente en desacuerdo,\"Llamada telef\\xc3\\xb3nica,Mensajer\\xc3\\xada instant\\xc3\\xa1nea (e.g. WhatsApp)\",\"Consignaci\\xc3\\xb3n,Cr\\xc3\\xa9dito\",0,Excel,\"Efectivo,Transferencia interbancaria\",yes,Disminuir la frecuencia de pedidos,Semanalmente,\"Categor\\xc3\\xada (e.g. limpieza, aseo personal, comestibles, l\\xc3\\xa1cteos, etc.)\",\"Ofrecer un producto sustituto,Solicitar tiempo al cliente para conseguir el producto\",0,Totalmente de acuerdo,Totalmente de acuerdo,Totalmente de acuerdo,En desacuerdo,Totalmente de acuerdo,Totalmente de acuerdo,Totalmente de acuerdo,Totalmente de acuerdo,Totalmente de acuerdo,Totalmente de acuerdo,no,Melina ,Cornejo doporto ,2222939908.0,Mieldoporto@gmail.com,1.0,0.0,2.0,3.0,2.0,2.0,7.0,7.0,1.0,1.0,1.0,2.0,2.0,2.0,0.0,1.0,1.0,20.0\\n52,18e27a0e-7f58-48b6-9b28-dd7373d63756,\"November 17, 2022\",2022-11-17 17:46:20 UTC,Francisco Ad\\xc3\\xa1n,SRID=4326;POINT(-98.2013908 19.0430496),19.0430496,-98.2013908,Bajo el cielo de Jalisco ,1 Photo,Micro-restaurant (aka. fondita),yes,no,yes,Smartphone,1 Photo,yes,no,2014-08-10,Disminuy\\xc3\\xb3 15%,Disminuy\\xc3\\xb3 50% o m\\xc3\\xa1s,yes,En Excel,En Excel,Estimar compras a mis proveedores,yes,yes,yes,\"Redes sociales (e.g. Facebook, Instagram),WhatsApp\",\"Efectivo,Tarjeta de d\\xc3\\xa9bito y/o cr\\xc3\\xa9dito,Transferencia interbancaria\",Efectivo,no,6-10%,0,2-5%,1.0,0,0,0.0,Tarjeta de d\\xc3\\xa9bito y/o cr\\xc3\\xa9dito,\"Aplicaci\\xc3\\xb3n m\\xc3\\xb3vil,Redes sociales\",no,no,35%,Excel,no,Entrega a domicilio,Tarde (12:00 - 7:00 pm),El cliente los recoge en tienda,6%+,16-20%,No conozco los servicios,Totalmente de acuerdo,Totalmente de acuerdo,Totalmente en desacuerdo,Totalmente de acuerdo,Algo de acuerdo,Totalmente de acuerdo,Totalmente de acuerdo,Totalmente de acuerdo,Ni de acuerdo ni en desacuerdo,Ni de acuerdo ni en desacuerdo,Totalmente en desacuerdo,Totalmente en desacuerdo,\"Llamada telef\\xc3\\xb3nica,Mensajer\\xc3\\xada instant\\xc3\\xa1nea (e.g. WhatsApp)\",\"Consignaci\\xc3\\xb3n,Cr\\xc3\\xa9dito\",0,Excel,\"Efectivo,Transferencia interbancaria\",yes,Disminuir la frecuencia de pedidos,Semanalmente,\"Categor\\xc3\\xada (e.g. limpieza, aseo personal, comestibles, l\\xc3\\xa1cteos, etc.)\",\"Ofrecer un producto sustituto,Solicitar tiempo al cliente para conseguir el producto\",0,Totalmente de acuerdo,Totalmente de acuerdo,Totalmente de acuerdo,En desacuerdo,Totalmente de acuerdo,Totalmente de acuerdo,Totalmente de acuerdo,Totalmente de acuerdo,Totalmente de acuerdo,Totalmente de acuerdo,no,Melina ,Cornejo doporto ,2222939908.0,Mieldoporto@gmail.com,1.0,1.0,9.0,3.0,2.0,2.0,7.0,7.0,1.0,1.0,1.0,2.0,2.0,2.0,0.0,1.0,1.0,20.0\\n53,7ed3ed52-1e7e-4c6c-bfd6-fbaa5023fb4b,\"November 17, 2022\",2022-11-17 17:46:19 UTC,Francisco Ad\\xc3\\xa1n,SRID=4326;POINT(-98.2011271 19.0435767),19.0435767,-98.2011271,Antojitos Tomy Matriz ,1 Photo,Micro-restaurant (aka. fondita),yes,no,yes,\"Analog cash register,Smartphone\",1 Photo,yes,no,2014-08-10,Disminuy\\xc3\\xb3 15%,Disminuy\\xc3\\xb3 50% o m\\xc3\\xa1s,yes,En Excel,En Excel,Estimar compras a mis proveedores,yes,yes,yes,\"Redes sociales (e.g. Facebook, Instagram),WhatsApp\",\"Efectivo,Tarjeta de d\\xc3\\xa9bito y/o cr\\xc3\\xa9dito,Transferencia interbancaria\",Efectivo,no,6-10%,0,2-5%,1.0,0,0,0.0,Tarjeta de d\\xc3\\xa9bito y/o cr\\xc3\\xa9dito,\"Aplicaci\\xc3\\xb3n m\\xc3\\xb3vil,Redes sociales\",no,no,35%,Excel,no,Entrega a domicilio,Tarde (12:00 - 7:00 pm),El cliente los recoge en tienda,6%+,16-20%,No conozco los servicios,Totalmente de acuerdo,Totalmente de acuerdo,Totalmente en desacuerdo,Totalmente de acuerdo,Algo de acuerdo,Totalmente de acuerdo,Totalmente de acuerdo,Totalmente de acuerdo,Ni de acuerdo ni en desacuerdo,Ni de acuerdo ni en desacuerdo,Totalmente en desacuerdo,Totalmente en desacuerdo,\"Llamada telef\\xc3\\xb3nica,Mensajer\\xc3\\xada instant\\xc3\\xa1nea (e.g. WhatsApp)\",\"Consignaci\\xc3\\xb3n,Cr\\xc3\\xa9dito\",0,Excel,\"Efectivo,Transferencia interbancaria\",yes,Disminuir la frecuencia de pedidos,Semanalmente,\"Categor\\xc3\\xada (e.g. limpieza, aseo personal, comestibles, l\\xc3\\xa1cteos, etc.)\",\"Ofrecer un producto sustituto,Solicitar tiempo al cliente para conseguir el producto\",0,Totalmente de acuerdo,Totalmente de acuerdo,Totalmente de acuerdo,En desacuerdo,Totalmente de acuerdo,Totalmente de acuerdo,Totalmente de acuerdo,Totalmente de acuerdo,Totalmente de acuerdo,Totalmente de acuerdo,no,Melina ,Cornejo doporto ,2222939908.0,Mieldoporto@gmail.com,4.0,2.0,0.0,3.0,2.0,2.0,7.0,7.0,1.0,1.0,1.0,2.0,2.0,2.0,0.0,1.0,1.0,20.0\\n54,97c9aade-216a-415e-9d5d-44e8c20bfe22,\"November 17, 2022\",2022-11-17 17:42:45 UTC,Emilio Garza,SRID=4326;POINT(-98.2011279886 19.0435877761),19.0435877761,-98.2011279886,Ultramarinos la margarita ,1 Photo,Grocery store (aka. nanostore),no,yes,yes,Smartphone,1 Photo,no,yes,2014-08-10,Disminuy\\xc3\\xb3 15%,Disminuy\\xc3\\xb3 50% o m\\xc3\\xa1s,yes,En Excel,En Excel,Estimar compras a mis proveedores,yes,yes,yes,\"Redes sociales (e.g. Facebook, Instagram),WhatsApp\",\"Efectivo,Tarjeta de d\\xc3\\xa9bito y/o cr\\xc3\\xa9dito,Transferencia interbancaria\",Efectivo,no,6-10%,0,2-5%,1.0,0,0,0.0,Tarjeta de d\\xc3\\xa9bito y/o cr\\xc3\\xa9dito,\"Aplicaci\\xc3\\xb3n m\\xc3\\xb3vil,Redes sociales\",no,no,35%,Excel,no,Entrega a domicilio,Tarde (12:00 - 7:00 pm),El cliente los recoge en tienda,6%+,16-20%,No conozco los servicios,Totalmente de acuerdo,Totalmente de acuerdo,Totalmente en desacuerdo,Totalmente de acuerdo,Algo de acuerdo,Totalmente de acuerdo,Totalmente de acuerdo,Totalmente de acuerdo,Ni de acuerdo ni en desacuerdo,Ni de acuerdo ni en desacuerdo,Totalmente en desacuerdo,Totalmente en desacuerdo,\"Llamada telef\\xc3\\xb3nica,Mensajer\\xc3\\xada instant\\xc3\\xa1nea (e.g. WhatsApp)\",\"Consignaci\\xc3\\xb3n,Cr\\xc3\\xa9dito\",0,Excel,\"Efectivo,Transferencia interbancaria\",yes,Disminuir la frecuencia de pedidos,Semanalmente,\"Categor\\xc3\\xada (e.g. limpieza, aseo personal, comestibles, l\\xc3\\xa1cteos, etc.)\",\"Ofrecer un producto sustituto,Solicitar tiempo al cliente para conseguir el producto\",0,Totalmente de acuerdo,Totalmente de acuerdo,Totalmente de acuerdo,En desacuerdo,Totalmente de acuerdo,Totalmente de acuerdo,Totalmente de acuerdo,Totalmente de acuerdo,Totalmente de acuerdo,Totalmente de acuerdo,no,Melina ,Cornejo doporto ,2222939908.0,Mieldoporto@gmail.com,2.0,3.0,8.0,3.0,2.0,2.0,7.0,7.0,1.0,1.0,1.0,2.0,2.0,2.0,0.0,1.0,1.0,20.0\\n55,00dd9562-e9e9-4c00-8d8f-bce7d8868ed1,\"November 17, 2022\",2022-11-17 17:42:45 UTC,Emilio Garza,SRID=4326;POINT(-98.2007679793 19.0441616051),19.0441616051,-98.2007679793,Casa Aroma,1 Photo,Perfumes,yes,no,no,\"Analog cash register,Dataphone (i.e. card payments),Smartphone\",1 Photo,no,yes,2014-08-10,Disminuy\\xc3\\xb3 15%,Disminuy\\xc3\\xb3 50% o m\\xc3\\xa1s,yes,En Excel,En Excel,Estimar compras a mis proveedores,yes,yes,yes,\"Redes sociales (e.g. Facebook, Instagram),WhatsApp\",\"Efectivo,Tarjeta de d\\xc3\\xa9bito y/o cr\\xc3\\xa9dito,Transferencia interbancaria\",Efectivo,no,6-10%,0,2-5%,1.0,0,0,0.0,Tarjeta de d\\xc3\\xa9bito y/o cr\\xc3\\xa9dito,\"Aplicaci\\xc3\\xb3n m\\xc3\\xb3vil,Redes sociales\",no,no,35%,Excel,no,Entrega a domicilio,Tarde (12:00 - 7:00 pm),El cliente los recoge en tienda,6%+,16-20%,No conozco los servicios,Totalmente de acuerdo,Totalmente de acuerdo,Totalmente en desacuerdo,Totalmente de acuerdo,Algo de acuerdo,Totalmente de acuerdo,Totalmente de acuerdo,Totalmente de acuerdo,Ni de acuerdo ni en desacuerdo,Ni de acuerdo ni en desacuerdo,Totalmente en desacuerdo,Totalmente en desacuerdo,\"Llamada telef\\xc3\\xb3nica,Mensajer\\xc3\\xada instant\\xc3\\xa1nea (e.g. WhatsApp)\",\"Consignaci\\xc3\\xb3n,Cr\\xc3\\xa9dito\",0,Excel,\"Efectivo,Transferencia interbancaria\",yes,Disminuir la frecuencia de pedidos,Semanalmente,\"Categor\\xc3\\xada (e.g. limpieza, aseo personal, comestibles, l\\xc3\\xa1cteos, etc.)\",\"Ofrecer un producto sustituto,Solicitar tiempo al cliente para conseguir el producto\",0,Totalmente de acuerdo,Totalmente de acuerdo,Totalmente de acuerdo,En desacuerdo,Totalmente de acuerdo,Totalmente de acuerdo,Totalmente de acuerdo,Totalmente de acuerdo,Totalmente de acuerdo,Totalmente de acuerdo,no,Melina ,Cornejo doporto ,2222939908.0,Mieldoporto@gmail.com,0.0,0.0,5.0,3.0,2.0,2.0,7.0,7.0,1.0,1.0,1.0,2.0,2.0,2.0,0.0,1.0,1.0,20.0\\n56,068b6d16-71ef-44ff-a60f-f6fa36be3c2d,\"November 17, 2022\",2022-11-17 17:39:52 UTC,Francisco Ad\\xc3\\xa1n,SRID=4326;POINT(-98.2008391 19.0441521),19.0441521,-98.2008391,Exce Lente ,1 Photo,tienda de lentes ,yes,yes,no,\"Analog cash register,Smartphone\",1 Photo,no,yes,2014-08-10,Disminuy\\xc3\\xb3 15%,Disminuy\\xc3\\xb3 50% o m\\xc3\\xa1s,yes,En Excel,En Excel,Estimar compras a mis proveedores,yes,yes,yes,\"Redes sociales (e.g. Facebook, Instagram),WhatsApp\",\"Efectivo,Tarjeta de d\\xc3\\xa9bito y/o cr\\xc3\\xa9dito,Transferencia interbancaria\",Efectivo,no,6-10%,0,2-5%,1.0,0,0,0.0,Tarjeta de d\\xc3\\xa9bito y/o cr\\xc3\\xa9dito,\"Aplicaci\\xc3\\xb3n m\\xc3\\xb3vil,Redes sociales\",no,no,35%,Excel,no,Entrega a domicilio,Tarde (12:00 - 7:00 pm),El cliente los recoge en tienda,6%+,16-20%,No conozco los servicios,Totalmente de acuerdo,Totalmente de acuerdo,Totalmente en desacuerdo,Totalmente de acuerdo,Algo de acuerdo,Totalmente de acuerdo,Totalmente de acuerdo,Totalmente de acuerdo,Ni de acuerdo ni en desacuerdo,Ni de acuerdo ni en desacuerdo,Totalmente en desacuerdo,Totalmente en desacuerdo,\"Llamada telef\\xc3\\xb3nica,Mensajer\\xc3\\xada instant\\xc3\\xa1nea (e.g. WhatsApp)\",\"Consignaci\\xc3\\xb3n,Cr\\xc3\\xa9dito\",0,Excel,\"Efectivo,Transferencia interbancaria\",yes,Disminuir la frecuencia de pedidos,Semanalmente,\"Categor\\xc3\\xada (e.g. limpieza, aseo personal, comestibles, l\\xc3\\xa1cteos, etc.)\",\"Ofrecer un producto sustituto,Solicitar tiempo al cliente para conseguir el producto\",0,Totalmente de acuerdo,Totalmente de acuerdo,Totalmente de acuerdo,En desacuerdo,Totalmente de acuerdo,Totalmente de acuerdo,Totalmente de acuerdo,Totalmente de acuerdo,Totalmente de acuerdo,Totalmente de acuerdo,no,Melina ,Cornejo doporto ,2222939908.0,Mieldoporto@gmail.com,5.0,0.0,1.0,3.0,2.0,2.0,7.0,7.0,1.0,1.0,1.0,2.0,2.0,2.0,0.0,1.0,1.0,20.0\\n57,7780569b-e013-428c-94bd-0a6d818b0052,\"November 17, 2022\",2022-11-17 17:39:51 UTC,Francisco Ad\\xc3\\xa1n,SRID=4326;POINT(-98.2009338 19.0441313),19.0441313,-98.2009338,La Guadalupana ,1 Photo,Micro-restaurant (aka. fondita),no,yes,yes,\"Analog cash register,Smartphone\",1 Photo,no,yes,2014-08-10,Disminuy\\xc3\\xb3 15%,Disminuy\\xc3\\xb3 50% o m\\xc3\\xa1s,yes,En Excel,En Excel,Estimar compras a mis proveedores,yes,yes,yes,\"Redes sociales (e.g. Facebook, Instagram),WhatsApp\",\"Efectivo,Tarjeta de d\\xc3\\xa9bito y/o cr\\xc3\\xa9dito,Transferencia interbancaria\",Efectivo,no,6-10%,0,2-5%,1.0,0,0,0.0,Tarjeta de d\\xc3\\xa9bito y/o cr\\xc3\\xa9dito,\"Aplicaci\\xc3\\xb3n m\\xc3\\xb3vil,Redes sociales\",no,no,35%,Excel,no,Entrega a domicilio,Tarde (12:00 - 7:00 pm),El cliente los recoge en tienda,6%+,16-20%,No conozco los servicios,Totalmente de acuerdo,Totalmente de acuerdo,Totalmente en desacuerdo,Totalmente de acuerdo,Algo de acuerdo,Totalmente de acuerdo,Totalmente de acuerdo,Totalmente de acuerdo,Ni de acuerdo ni en desacuerdo,Ni de acuerdo ni en desacuerdo,Totalmente en desacuerdo,Totalmente en desacuerdo,\"Llamada telef\\xc3\\xb3nica,Mensajer\\xc3\\xada instant\\xc3\\xa1nea (e.g. WhatsApp)\",\"Consignaci\\xc3\\xb3n,Cr\\xc3\\xa9dito\",0,Excel,\"Efectivo,Transferencia interbancaria\",yes,Disminuir la frecuencia de pedidos,Semanalmente,\"Categor\\xc3\\xada (e.g. limpieza, aseo personal, comestibles, l\\xc3\\xa1cteos, etc.)\",\"Ofrecer un producto sustituto,Solicitar tiempo al cliente para conseguir el producto\",0,Totalmente de acuerdo,Totalmente de acuerdo,Totalmente de acuerdo,En desacuerdo,Totalmente de acuerdo,Totalmente de acuerdo,Totalmente de acuerdo,Totalmente de acuerdo,Totalmente de acuerdo,Totalmente de acuerdo,no,Melina ,Cornejo doporto ,2222939908.0,Mieldoporto@gmail.com,1.4,4.0,1.0,3.0,2.0,2.0,7.0,7.0,1.0,1.0,1.0,2.0,2.0,2.0,0.0,1.0,1.0,20.0\\n58,a4f28df5-bc9f-4137-aac5-cca79758bea4,\"November 10, 2022\",2022-11-17 17:23:29 UTC,Jos\\xc3\\xa9 Oropeza,SRID=4326;POINT(-98.1995625848 19.0439568373),19.0439568373,-98.1995625848,La Reina,1 Photo,Grocery store (aka. nanostore),yes,no,yes,Analog cash register,1 Photo,no,yes,2014-08-10,Disminuy\\xc3\\xb3 15%,Disminuy\\xc3\\xb3 50% o m\\xc3\\xa1s,yes,En Excel,En Excel,Estimar compras a mis proveedores,yes,yes,yes,\"Redes sociales (e.g. Facebook, Instagram),WhatsApp\",\"Efectivo,Tarjeta de d\\xc3\\xa9bito y/o cr\\xc3\\xa9dito,Transferencia interbancaria\",Efectivo,no,6-10%,0,2-5%,1.0,0,0,0.0,Tarjeta de d\\xc3\\xa9bito y/o cr\\xc3\\xa9dito,\"Aplicaci\\xc3\\xb3n m\\xc3\\xb3vil,Redes sociales\",no,no,35%,Excel,no,Entrega a domicilio,Tarde (12:00 - 7:00 pm),El cliente los recoge en tienda,6%+,16-20%,No conozco los servicios,Totalmente de acuerdo,Totalmente de acuerdo,Totalmente en desacuerdo,Totalmente de acuerdo,Algo de acuerdo,Totalmente de acuerdo,Totalmente de acuerdo,Totalmente de acuerdo,Ni de acuerdo ni en desacuerdo,Ni de acuerdo ni en desacuerdo,Totalmente en desacuerdo,Totalmente en desacuerdo,\"Llamada telef\\xc3\\xb3nica,Mensajer\\xc3\\xada instant\\xc3\\xa1nea (e.g. WhatsApp)\",\"Consignaci\\xc3\\xb3n,Cr\\xc3\\xa9dito\",0,Excel,\"Efectivo,Transferencia interbancaria\",yes,Disminuir la frecuencia de pedidos,Semanalmente,\"Categor\\xc3\\xada (e.g. limpieza, aseo personal, comestibles, l\\xc3\\xa1cteos, etc.)\",\"Ofrecer un producto sustituto,Solicitar tiempo al cliente para conseguir el producto\",0,Totalmente de acuerdo,Totalmente de acuerdo,Totalmente de acuerdo,En desacuerdo,Totalmente de acuerdo,Totalmente de acuerdo,Totalmente de acuerdo,Totalmente de acuerdo,Totalmente de acuerdo,Totalmente de acuerdo,no,Melina ,Cornejo doporto ,2222939908.0,Mieldoporto@gmail.com,0.0,2.0,2.0,3.0,2.0,2.0,7.0,7.0,1.0,1.0,1.0,2.0,2.0,2.0,0.0,1.0,1.0,20.0\\n59,c6b7e7f1-41a1-4b9e-8d7e-ed9644fc9e00,\"November 10, 2022\",2022-11-17 17:21:01 UTC,Emilio Garza,SRID=4326;POINT(-98.1950839683 19.0404378467),19.0404378467,-98.1950839683,Mely doo ,1 Photo,Wedding products ,yes,no,no,Smartphone,1 Photo,yes,yes,2014-08-10,Disminuy\\xc3\\xb3 15%,Disminuy\\xc3\\xb3 50% o m\\xc3\\xa1s,yes,En Excel,En Excel,Estimar compras a mis proveedores,yes,yes,yes,\"Redes sociales (e.g. Facebook, Instagram),WhatsApp\",\"Efectivo,Tarjeta de d\\xc3\\xa9bito y/o cr\\xc3\\xa9dito,Transferencia interbancaria\",Efectivo,no,6-10%,0,2-5%,1.0,0,0,0.0,Tarjeta de d\\xc3\\xa9bito y/o cr\\xc3\\xa9dito,\"Aplicaci\\xc3\\xb3n m\\xc3\\xb3vil,Redes sociales\",no,no,35%,Excel,no,Entrega a domicilio,Tarde (12:00 - 7:00 pm),El cliente los recoge en tienda,6%+,16-20%,No conozco los servicios,Totalmente de acuerdo,Totalmente de acuerdo,Totalmente en desacuerdo,Totalmente de acuerdo,Algo de acuerdo,Totalmente de acuerdo,Totalmente de acuerdo,Totalmente de acuerdo,Ni de acuerdo ni en desacuerdo,Ni de acuerdo ni en desacuerdo,Totalmente en desacuerdo,Totalmente en desacuerdo,\"Llamada telef\\xc3\\xb3nica,Mensajer\\xc3\\xada instant\\xc3\\xa1nea (e.g. WhatsApp)\",\"Consignaci\\xc3\\xb3n,Cr\\xc3\\xa9dito\",0,Excel,\"Efectivo,Transferencia interbancaria\",yes,Disminuir la frecuencia de pedidos,Semanalmente,\"Categor\\xc3\\xada (e.g. limpieza, aseo personal, comestibles, l\\xc3\\xa1cteos, etc.)\",\"Ofrecer un producto sustituto,Solicitar tiempo al cliente para conseguir el producto\",0,Totalmente de acuerdo,Totalmente de acuerdo,Totalmente de acuerdo,En desacuerdo,Totalmente de acuerdo,Totalmente de acuerdo,Totalmente de acuerdo,Totalmente de acuerdo,Totalmente de acuerdo,Totalmente de acuerdo,yes,Melina ,Cornejo doporto ,2222939908.0,Mieldoporto@gmail.com,0.0,0.0,4.0,3.0,2.0,2.0,7.0,7.0,1.0,1.0,1.0,2.0,2.0,2.0,0.0,1.0,1.0,20.0\\n60,3a1e95e1-2411-49e1-9cb8-f169c899e45a,\"November 10, 2022\",2022-11-17 17:21:01 UTC,Emilio Garza,SRID=4326;POINT(-98.1951555677 19.0404313774),19.0404313774,-98.1951555677,Mudic,1 Photo,Furniture ,yes,yes,no,\"Dataphone (i.e. card payments),POS system (i.e. computer + bar code scanner + printer),Smartphone\",1 Photo,yes,yes,2002-08-10,No cambi\\xc3\\xb3,Aument\\xc3\\xb3 25%,yes,\"En Excel,En papel\",\"En Excel,En papel\",Estimar compras a mis proveedores,yes,no,yes,\"Llamada a Tel\\xc3\\xa9fono celular,Redes sociales (e.g. Facebook, Instagram),WhatsApp\",\"Efectivo,Tarjeta de d\\xc3\\xa9bito y/o cr\\xc3\\xa9dito,Transferencia interbancaria\",Efectivo,yes,6-10%,0,2-5%,1.0,0,0,0.0,Tarjeta de d\\xc3\\xa9bito y/o cr\\xc3\\xa9dito,Aplicaci\\xc3\\xb3n m\\xc3\\xb3vil,no,no,20%,Cuaderno,no,Entrega a domicilio,Tarde (12:00 - 7:00 pm),El cliente los recoge en tienda,6%+,16-20%,No conozco los servicios,Totalmente de acuerdo,Totalmente de acuerdo,Totalmente en desacuerdo,Totalmente de acuerdo,Algo de acuerdo,Totalmente de acuerdo,Ni de acuerdo ni en desacuerdo,Totalmente de acuerdo,Ni de acuerdo ni en desacuerdo,Ni de acuerdo ni en desacuerdo,Totalmente en desacuerdo,Ni de acuerdo ni en desacuerdo,\"Mensajer\\xc3\\xada instant\\xc3\\xa1nea (e.g. WhatsApp),Redes sociales (e.g. Facebook)\",Recompra,0,\"Aplicaci\\xc3\\xb3n m\\xc3\\xb3vil,Software especializado\",\"Efectivo,Transferencia interbancaria\",yes,Disminuir la frecuencia de pedidos,Semanalmente,Space ,Solicitar tiempo al cliente para conseguir el producto,20%,Totalmente de acuerdo,Ni de acuerdo ni en desacuerdo,Ni de acuerdo ni en desacuerdo,Totalmente de acuerdo,Totalmente de acuerdo,Totalmente de acuerdo,Totalmente de acuerdo,Totalmente de acuerdo,Totalmente de acuerdo,Totalmente de acuerdo,yes,Luis Alberto ,Cornejo Doporto,2223964031.0,Luisdoporto4@gmail.com,0.0,0.0,5.0,5.0,5.0,2.0,7.0,2.0,1.0,1.0,1.0,2.0,2.0,4.0,0.0,1.0,1.0,20.0\\n61,954d6ab1-1cc6-4abd-891d-ff568b6bcc01,\"November 16, 2022\",2022-11-17 02:08:33 UTC,C\\xc3\\xa9sar Alejandro Rivera Guzm\\xc3\\xa1n,SRID=4326;POINT(-98.2708312304 19.0028015464),19.0028015464,-98.2708312304,Frutarena,1 Photo,Produce (fruits & vegetables),no,yes,yes,\"Analog cash register,Dataphone (i.e. card payments),Security cameras,Smartphone\",2 Photos,yes,yes,2021-03-16,No cambi\\xc3\\xb3,No cambi\\xc3\\xb3,yes,Software especializado + computadora,Software especializado + computadora,Estimar compras a mis proveedores,yes,no,yes,\"Aplicaci\\xc3\\xb3n m\\xc3\\xb3vil (e.g. Rappi, Uber Eats),Llamada a Tel\\xc3\\xa9fono celular,Redes sociales (e.g. Facebook, Instagram),WhatsApp\",\"Efectivo,Tarjeta de d\\xc3\\xa9bito y/o cr\\xc3\\xa9dito,Transferencia interbancaria\",Efectivo,no,6-10%,16-20%,2-5%,1.0,0,0,0.0,Tarjeta de d\\xc3\\xa9bito y/o cr\\xc3\\xa9dito,Redes sociales,no,no,20%,Aplicaci\\xc3\\xb3n m\\xc3\\xb3vil,yes,Entrega a domicilio,Tarde (12:00 - 7:00 pm),El cliente los recoge en tienda,3%,16-20%,No conozco los servicios,Totalmente de acuerdo,Totalmente de acuerdo,Totalmente en desacuerdo,Totalmente de acuerdo,Totalmente de acuerdo,Totalmente de acuerdo,Ni de acuerdo ni en desacuerdo,Totalmente de acuerdo,Ni de acuerdo ni en desacuerdo,Ni de acuerdo ni en desacuerdo,Totalmente en desacuerdo,Ni de acuerdo ni en desacuerdo,\"Mensajer\\xc3\\xada instant\\xc3\\xa1nea (e.g. WhatsApp),Redes sociales (e.g. Facebook)\",Recompra,0,\"Aplicaci\\xc3\\xb3n m\\xc3\\xb3vil,Software especializado\",\"Efectivo,Transferencia interbancaria\",no,Ninguna de las anteriores,Diariamente,Frecuencia de venta,Ofrecer un producto sustituto,10%,Totalmente de acuerdo,Totalmente de acuerdo,Totalmente de acuerdo,Totalmente de acuerdo,Totalmente de acuerdo,Totalmente de acuerdo,Totalmente de acuerdo,Totalmente de acuerdo,Totalmente de acuerdo,Totalmente de acuerdo,yes,Mar\\xc3\\xada Teresa,Pe\\xc3\\xb1a Casillas,2221510729.0,marioestarling58@gmail.com ,1.0,5.0,10.0,1.0,1.0,2.0,5.0,2.0,1.0,1.0,1.0,2.0,2.0,5.0,0.0,1.0,1.0,20.0\\n62,f57e8696-4582-45dd-b7dc-b085fb683a21,\"November 16, 2022\",2022-11-17 01:18:58 UTC,C\\xc3\\xa9sar Alejandro Rivera Guzm\\xc3\\xa1n,SRID=4326;POINT(-98.2706085966 19.0023319284),19.0023319284,-98.2706085966,Kings barbers,1 Photo,Dairy products,no,no,no,\"Analog cash register,Dataphone (i.e. card payments),Security cameras,Smartphone\",1 Photo,yes,yes,2017-10-26,No cambi\\xc3\\xb3,Disminuy\\xc3\\xb3 25%,yes,En papel,En papel,Estimar compras a mis proveedores,yes,no,yes,WhatsApp,\"Efectivo,Tarjeta de d\\xc3\\xa9bito y/o cr\\xc3\\xa9dito\",Tarjeta de d\\xc3\\xa9bito y/o cr\\xc3\\xa9dito,no,6-10%,16-20%,0,1.0,2-5%,2-5%,2.0,Efectivo,Aplicaci\\xc3\\xb3n m\\xc3\\xb3vil,no,no,5%,Ninguna,no,Ninguno,Tarde (12:00 - 7:00 pm),El cliente los recoge en tienda,3%,16-20%,No conozco los servicios,Totalmente en desacuerdo,Totalmente en desacuerdo,Totalmente en desacuerdo,Totalmente en desacuerdo,Totalmente en desacuerdo,Totalmente en desacuerdo,Totalmente en desacuerdo,Totalmente en desacuerdo,Totalmente en desacuerdo,Totalmente en desacuerdo,Totalmente en desacuerdo,Totalmente en desacuerdo,Llamada telef\\xc3\\xb3nica,Recompra,0,Cuaderno,Efectivo,no,Ninguna de las anteriores,Semanalmente,Frecuencia de venta,\"Informar al proveedor,Solicitar tiempo al cliente para conseguir el producto\",10%,Totalmente de acuerdo,Totalmente de acuerdo,Totalmente de acuerdo,Ni de acuerdo ni en desacuerdo,Ni de acuerdo ni en desacuerdo,Totalmente en desacuerdo,Totalmente en desacuerdo,Totalmente en desacuerdo,Totalmente en desacuerdo,Totalmente en desacuerdo,yes,Mario,P\\xc3\\xa9rez Montero ,2225196762.0,marioestarling58@gmail.com ,2.0,0.0,1.0,4.0,4.0,1.0,5.0,2.0,1.0,1.0,1.0,2.0,2.0,10.0,3.0,1.0,1.0,0.0\\n63,d0f40e24-5a6a-4079-9ed7-71083b47328f,\"November 10, 2022\",2022-11-17 00:47:49 UTC,Mauro Mungu\\xc3\\xada,SRID=4326;POINT(-98.1985066 19.0471274),19.0471274,-98.1985066,El angel,1 Photo,Ropa,yes,yes,no,Analog cash register,2 Photos,yes,yes,2018-11-10,No cambi\\xc3\\xb3,No cambi\\xc3\\xb3,no,En papel,En papel,Estimar compras a mis proveedores,yes,no,no,WhatsApp,\"Efectivo,Tarjeta de d\\xc3\\xa9bito y/o cr\\xc3\\xa9dito\",Tarjeta de d\\xc3\\xa9bito y/o cr\\xc3\\xa9dito,no,6-10%,16-20%,0-1%,1.0,2-5%,2-5%,2.0,\"Efectivo,Tarjeta de d\\xc3\\xa9bito y/o cr\\xc3\\xa9dito\",Cuaderno,no,no,30%,Cuaderno,no,Ninguno,Tarde (12:00 - 7:00 pm),El cliente los recoge en tienda,3%,16-20%,No creo que represente grandes ingresos,Totalmente en desacuerdo,Totalmente en desacuerdo,Totalmente en desacuerdo,Totalmente en desacuerdo,Algo en desacuerdo,Totalmente en desacuerdo,Algo de acuerdo,Algo de acuerdo,Algo de acuerdo,Totalmente en desacuerdo,Algo en desacuerdo,Algo en desacuerdo,Llamada telef\\xc3\\xb3nica,Ninguna,1-2%,Cuaderno,\"Efectivo,Tarjeta de d\\xc3\\xa9bito y/o cr\\xc3\\xa9dito\",no,Ninguna de las anteriores,Diariamente,\"Categor\\xc3\\xada (e.g. limpieza, aseo personal, comestibles, l\\xc3\\xa1cteos, etc.),Precio,Tama\\xc3\\xb1o\",Ofrecer un producto sustituto,0,En desacuerdo,Ni de acuerdo ni en desacuerdo,En desacuerdo,Ni de acuerdo ni en desacuerdo,Ni de acuerdo ni en desacuerdo,En desacuerdo,En desacuerdo,Totalmente en desacuerdo,Totalmente en desacuerdo,En desacuerdo,no,Alejandra,Ju\\xc3\\xa1rez,7221051088.0,alejandra.juarezci@udlap.mx,3.0,0.0,5.0,1.0,1.0,1.0,8.0,2.0,1.0,1.0,1.0,2.0,2.0,10.0,3.0,1.0,1.0,0.0\\n64,45561c72-26bb-42ec-b768-b5733c44c69c,\"November 10, 2022\",2022-11-17 00:47:49 UTC,Mauro Mungu\\xc3\\xada,SRID=4326;POINT(-98.1985307 19.0470325),19.0470325,-98.1985307,Novedades cecy,1 Photo,mochilas,no,no,no,Analog cash register,2 Photos,no,no,2021-11-12,Disminuy\\xc3\\xb3 15%,Aument\\xc3\\xb3 15%,no,En Excel,En Excel,Estimar compras a mis proveedores,yes,no,yes,WhatsApp,\"Efectivo,Tarjeta de d\\xc3\\xa9bito y/o cr\\xc3\\xa9dito\",Tarjeta de d\\xc3\\xa9bito y/o cr\\xc3\\xa9dito,no,6-10%,16-20%,0-1%,1.0,2-5%,2-5%,2.0,\"Efectivo,Tarjeta de d\\xc3\\xa9bito y/o cr\\xc3\\xa9dito\",Ninguna,no,no,20%,Software especializado,no,Ninguno,Tarde (12:00 - 7:00 pm),El cliente los recoge en tienda,3%,16-20%,No conozco los servicios,Totalmente en desacuerdo,Algo en desacuerdo,Totalmente en desacuerdo,Ni de acuerdo ni en desacuerdo,Algo de acuerdo,Algo de acuerdo,Totalmente de acuerdo,Totalmente de acuerdo,Totalmente de acuerdo,Totalmente de acuerdo,Totalmente de acuerdo,Totalmente de acuerdo,En persona,Cr\\xc3\\xa9dito,1-2%,Excel,Efectivo,no,Ninguna de las anteriores,Diariamente,Precio,Ofrecer un producto sustituto,40%,De acuerdo,Totalmente de acuerdo,Totalmente de acuerdo,De acuerdo,Totalmente de acuerdo,Totalmente de acuerdo,De acuerdo,Totalmente de acuerdo,Totalmente de acuerdo,Totalmente de acuerdo,no,Alejandra,Ju\\xc3\\xa1rez,7221051088.0,alejandra.juarezci@udlap.mx,0.0,0.0,2.0,0.0,0.0,1.0,0.0,2.0,1.0,1.0,1.0,2.0,2.0,10.0,3.0,1.0,1.0,0.0\\n65,8ae859d5-57f6-4d57-9da2-2d9a98bcc333,\"November 10, 2022\",2022-11-17 00:47:49 UTC,Mauro Mungu\\xc3\\xada,SRID=4326;POINT(-98.1988337 19.0469853),19.0469853,-98.1988337,Yoyi zapateria ,1 Photo,Zapateria,no,yes,no,\"Analog cash register,POS system (i.e. computer + bar code scanner + printer)\",2 Photos,yes,yes,2015-10-07,No cambi\\xc3\\xb3,No cambi\\xc3\\xb3,yes,En Excel,\"Caja registradora (an\\xc3\\xa1loga),En Excel\",Estimar compras a mis proveedores,yes,no,yes,no,\"Efectivo,Tarjeta de d\\xc3\\xa9bito y/o cr\\xc3\\xa9dito,Transferencia interbancaria\",Tarjeta de d\\xc3\\xa9bito y/o cr\\xc3\\xa9dito,no,6-10%,16-20%,0-1%,1.0,2-5%,2-5%,2.0,\"Efectivo,Tarjeta de d\\xc3\\xa9bito y/o cr\\xc3\\xa9dito\",Ninguna,no,no,15%,\"Cuaderno,Excel\",no,Ninguno,Tarde (12:00 - 7:00 pm),El cliente los recoge en tienda,3%,16-20%,No creo que represente grandes ingresos,Totalmente en desacuerdo,Totalmente en desacuerdo,Totalmente en desacuerdo,Totalmente en desacuerdo,Totalmente en desacuerdo,Totalmente en desacuerdo,Totalmente en desacuerdo,Totalmente en desacuerdo,Algo en desacuerdo,Totalmente en desacuerdo,Ni de acuerdo ni en desacuerdo,Totalmente en desacuerdo,\"En persona,Llamada telef\\xc3\\xb3nica,Mensaje de texto (SMS)\",Recompra,1-2%,\"Cuaderno,Excel\",\"Efectivo,Tarjeta de d\\xc3\\xa9bito y/o cr\\xc3\\xa9dito,Transferencia interbancaria\",no,Ninguna de las anteriores,Semanalmente,\"Categor\\xc3\\xada (e.g. limpieza, aseo personal, comestibles, l\\xc3\\xa1cteos, etc.),Precio\",Ofrecer un producto sustituto,10%,Ni de acuerdo ni en desacuerdo,Ni de acuerdo ni en desacuerdo,Ni de acuerdo ni en desacuerdo,De acuerdo,De acuerdo,De acuerdo,Ni de acuerdo ni en desacuerdo,En desacuerdo,Totalmente en desacuerdo,Ni de acuerdo ni en desacuerdo,no,Alejandra,Ju\\xc3\\xa1rez,7221051088.0,alejandra.juarezci@udlap.mx,2.0,0.0,5.0,3.0,3.0,1.0,4.0,2.0,1.0,1.0,1.0,2.0,2.0,10.0,3.0,1.0,1.0,0.0\\n66,f06ec4fc-877e-4c8c-9b69-8b595d778d85,\"November 10, 2022\",2022-11-17 00:47:48 UTC,Mauro Mungu\\xc3\\xada,SRID=4326;POINT(-98.1976969 19.0467995),19.0467995,-98.1976969,Gala ,1 Photo,ropa,no,no,no,Analog cash register,2 Photos,yes,yes,2011-07-04,Disminuy\\xc3\\xb3 15%,Disminuy\\xc3\\xb3 15%,no,No lo hago,\"En papel,No lo hago\",Estimar compras a mis proveedores,yes,yes,yes,no,Efectivo,Tarjeta de d\\xc3\\xa9bito y/o cr\\xc3\\xa9dito,no,6-10%,16-20%,0-1%,1.0,2-5%,2-5%,2.0,\"Efectivo,Tarjeta de d\\xc3\\xa9bito y/o cr\\xc3\\xa9dito\",Ninguna,no,no,15%,Ninguna,yes,Recarga telef\\xc3\\xb3nica,Tarde (12:00 - 7:00 pm),El cliente los recoge en tienda,3%,16-20%,No conozco los servicios,Totalmente en desacuerdo,Ni de acuerdo ni en desacuerdo,Algo en desacuerdo,Algo de acuerdo,Totalmente en desacuerdo,Ni de acuerdo ni en desacuerdo,Algo de acuerdo,Algo de acuerdo,Algo de acuerdo,Algo de acuerdo,Algo de acuerdo,Algo de acuerdo,En persona,Recompra,1-2%,Aplicaci\\xc3\\xb3n m\\xc3\\xb3vil,Tarjeta de d\\xc3\\xa9bito y/o cr\\xc3\\xa9dito,no,Ninguna de las anteriores,Semestralmente,Tama\\xc3\\xb1o,Perder la venta,20%,Totalmente de acuerdo,Totalmente de acuerdo,Totalmente de acuerdo,Totalmente de acuerdo,Totalmente de acuerdo,Totalmente de acuerdo,Totalmente de acuerdo,Totalmente de acuerdo,Totalmente de acuerdo,Totalmente de acuerdo,no,Alejandra,Ju\\xc3\\xa1rez,7221051088.0,alejandra.juarezci@udlap.mx,0.0,0.0,3.0,1.0,1.0,1.0,12.0,2.0,1.0,1.0,1.0,2.0,2.0,10.0,3.0,1.0,2.0,0.0\\n67,33cc69f4-43ce-45fc-b397-a9b8069d4d3c,\"November 10, 2022\",2022-11-17 00:47:48 UTC,Mauro Mungu\\xc3\\xada,SRID=4326;POINT(-98.197401 19.0466223),19.0466223,-98.197401,Santo domingo,1 Photo,Dulceria ,no,yes,yes,\"Analog cash register,Security cameras\",2 Photos,yes,yes,1988-09-19,No cambi\\xc3\\xb3,No cambi\\xc3\\xb3,yes,\"En Excel,En papel\",\"Caja registradora (an\\xc3\\xa1loga),En Excel\",No los uso,yes,no,yes,Llamada a Tel\\xc3\\xa9fono celular,\"Efectivo,Tarjeta de d\\xc3\\xa9bito y/o cr\\xc3\\xa9dito\",Tarjeta de d\\xc3\\xa9bito y/o cr\\xc3\\xa9dito,no,6-10%,16-20%,0-1%,1.0,2-5%,2-5%,2.0,\"Efectivo,Tarjeta de d\\xc3\\xa9bito y/o cr\\xc3\\xa9dito\",Ninguna,no,no,25%,Ninguna,no,Ninguno,Tarde (12:00 - 7:00 pm),El cliente los recoge en tienda,6%+,1-5%,No conozco los servicios,Totalmente en desacuerdo,Totalmente en desacuerdo,Totalmente en desacuerdo,Totalmente en desacuerdo,Totalmente en desacuerdo,Totalmente en desacuerdo,Totalmente en desacuerdo,Totalmente en desacuerdo,Totalmente en desacuerdo,Algo en desacuerdo,Totalmente en desacuerdo,Totalmente en desacuerdo,En persona,no,0,Ninguna,Efectivo,no,Ninguna de las anteriores,Diariamente,Precio,Perder la venta,0,En desacuerdo,Totalmente en desacuerdo,En desacuerdo,De acuerdo,Totalmente de acuerdo,Totalmente de acuerdo,Totalmente de acuerdo,Totalmente de acuerdo,Totalmente de acuerdo,Totalmente de acuerdo,no,Alejandra,Ju\\xc3\\xa1rez,7221051088.0,alejandra.juarezci@udlap.mx,6.0,1.0,8.0,6.0,6.0,1.0,1.0,2.0,1.0,1.0,1.0,70.0,2.0,10.0,3.0,1.0,2.0,12.9\\n68,88cb0a3e-1280-4b68-bc0a-3afa54b4f9ed,\"November 10, 2022\",2022-11-17 00:47:47 UTC,Mauro Mungu\\xc3\\xada,SRID=4326;POINT(-98.1978311 19.0461769),19.0461769,-98.1978311,Zapateria Claudia,1 Photo,ropa,no,no,no,\"Analog cash register,POS system (i.e. computer + bar code scanner + printer)\",2 Photos,yes,yes,2008-04-12,No cambi\\xc3\\xb3,No cambi\\xc3\\xb3,no,\"En Excel,En papel\",En Excel,No los uso,yes,yes,no,ninguno,\"Efectivo,Tarjeta de d\\xc3\\xa9bito y/o cr\\xc3\\xa9dito\",Tarjeta de d\\xc3\\xa9bito y/o cr\\xc3\\xa9dito,no,6-10%,16-20%,0-1%,1.0,2-5%,2-5%,2.0,\"Efectivo,Tarjeta de d\\xc3\\xa9bito y/o cr\\xc3\\xa9dito\",Ninguna,no,no,25%,Software especializado,no,Ninguno,Tarde (12:00 - 7:00 pm),El cliente los recoge en tienda,6%+,1-5%,No conozco los servicios,Totalmente en desacuerdo,Totalmente en desacuerdo,Totalmente en desacuerdo,Totalmente en desacuerdo,Algo de acuerdo,Algo de acuerdo,Ni de acuerdo ni en desacuerdo,Totalmente de acuerdo,Algo de acuerdo,Totalmente de acuerdo,Totalmente de acuerdo,Totalmente de acuerdo,En persona,no,0,\"Excel,Software especializado\",Efectivo,no,Ninguna de las anteriores,Semanalmente,Precio,Perder la venta,10%,Totalmente de acuerdo,Totalmente de acuerdo,Totalmente de acuerdo,Totalmente de acuerdo,Totalmente de acuerdo,Totalmente de acuerdo,Totalmente de acuerdo,Totalmente de acuerdo,Totalmente de acuerdo,Totalmente de acuerdo,no,Alejandra,Ju\\xc3\\xa1rez,7221051088.0,alejandra.juarezci@udlap.mx,0.0,0.0,7.0,2.0,2.0,7.0,3.0,2.0,1.0,1.0,1.0,70.0,2.0,10.0,3.0,1.0,1.0,0.0\\n69,bfb28787-c9d0-475c-b5e0-ca8f69a67fe2,\"November 10, 2022\",2022-11-17 00:47:47 UTC,Mauro Mungu\\xc3\\xada,SRID=4326;POINT(-98.1951568 19.0450819),19.0450819,-98.1951568,Novedades yu,1 Photo,ropa,yes,yes,yes,Analog cash register,2 Photos,yes,yes,2002-07-09,Disminuy\\xc3\\xb3 15%,No cambi\\xc3\\xb3,no,En papel,En papel,No los uso,yes,no,yes,\"Llamada a Tel\\xc3\\xa9fono celular,Llamada a Tel\\xc3\\xa9fono fijo\",Efectivo,Tarjeta de d\\xc3\\xa9bito y/o cr\\xc3\\xa9dito,no,6-10%,16-20%,0-1%,1.0,2-5%,2-5%,2.0,\"Efectivo,Tarjeta de d\\xc3\\xa9bito y/o cr\\xc3\\xa9dito\",Ninguna,no,no,10%,Ninguna,no,Ninguno,Tarde (12:00 - 7:00 pm),El cliente los recoge en tienda,6%+,1-5%,\"Es muy caro,No conozco los servicios\",Totalmente en desacuerdo,Totalmente en desacuerdo,Totalmente en desacuerdo,Algo en desacuerdo,Totalmente en desacuerdo,Totalmente en desacuerdo,Totalmente en desacuerdo,Totalmente en desacuerdo,Totalmente en desacuerdo,Totalmente en desacuerdo,Totalmente en desacuerdo,Totalmente en desacuerdo,En persona,ninguno ,0,Cuaderno,Efectivo,no,Ninguna de las anteriores,Semanalmente,\"Categor\\xc3\\xada (e.g. limpieza, aseo personal, comestibles, l\\xc3\\xa1cteos, etc.)\",Ofrecer un producto sustituto,20%,Totalmente en desacuerdo,Totalmente en desacuerdo,Totalmente en desacuerdo,Totalmente en desacuerdo,Totalmente en desacuerdo,Totalmente en desacuerdo,Totalmente en desacuerdo,Totalmente en desacuerdo,Totalmente en desacuerdo,Totalmente en desacuerdo,no,Alejandra,Ju\\xc3\\xa1rez,7221051088.0,alejandra.juarezci@udlap.mx,1.0,0.0,5.0,2.0,2.0,7.0,10.0,4.0,1.0,1.0,1.0,70.0,2.0,10.0,3.0,1.0,1.0,0.0\\n70,5d71b887-9d54-40b3-af60-235b7403dfe9,\"November 4, 2022\",2022-11-17 00:04:02 UTC,Jes\\xc3\\xbas Herrera,SRID=4326;POINT(-98.2616267691 19.0190596359),19.0190596359,-98.2616267691,Castillo makeup ,1 Photo,Boutique,no,no,no,\"Dataphone (i.e. card payments),POS system (i.e. computer + bar code scanner + printer),Security cameras,Smartphone\",2 Photos,yes,yes,2018-08-04,No cambi\\xc3\\xb3,No cambi\\xc3\\xb3,no,En Excel,En Excel,No los uso,yes,no,yes,\"Llamada a Tel\\xc3\\xa9fono celular,Llamada a Tel\\xc3\\xa9fono fijo\",\"Efectivo,Tarjeta de d\\xc3\\xa9bito y/o cr\\xc3\\xa9dito,Transferencia interbancaria\",Tarjeta de d\\xc3\\xa9bito y/o cr\\xc3\\xa9dito,no,6-10%,16-20%,0-1%,1.0,2-5%,2-5%,2.0,\"Efectivo,Tarjeta de d\\xc3\\xa9bito y/o cr\\xc3\\xa9dito\",Ninguna,no,no,10%,Ninguna,no,Ninguno,Tarde (12:00 - 7:00 pm),El cliente los recoge en tienda,6%+,1-5%,No conozco los servicios,Totalmente de acuerdo,Totalmente en desacuerdo,Totalmente de acuerdo,Totalmente en desacuerdo,Totalmente en desacuerdo,Totalmente en desacuerdo,Algo de acuerdo,Algo de acuerdo,Algo en desacuerdo,Totalmente en desacuerdo,Totalmente en desacuerdo,Ni de acuerdo ni en desacuerdo,\"Mensaje de texto (SMS),Mensajer\\xc3\\xada instant\\xc3\\xa1nea (e.g. WhatsApp),P\\xc3\\xa1gina web del proveedor\",Recompra,0,\"Aplicaci\\xc3\\xb3n m\\xc3\\xb3vil,Cuaderno\",\"Efectivo,Tarjeta de d\\xc3\\xa9bito y/o cr\\xc3\\xa9dito,Transferencia interbancaria\",no,Ninguna de las anteriores,Semanalmente,\"Frecuencia de venta,Tama\\xc3\\xb1o\",\"Informar al proveedor,Ofrecer un producto sustituto\",20%,Totalmente de acuerdo,Ni de acuerdo ni en desacuerdo,De acuerdo,En desacuerdo,De acuerdo,De acuerdo,De acuerdo,Ni de acuerdo ni en desacuerdo,En desacuerdo,De acuerdo,no,Alejandra,Ju\\xc3\\xa1rez,7221051088.0,alejandra.juarezci@udlap.mx,0.0,0.0,3.0,2.0,2.0,7.0,1.0,4.0,1.0,1.0,1.0,70.0,2.0,10.0,3.0,1.0,2.0,0.0\\n71,2a1b9925-11bb-446f-b939-5e04e2b8c8a9,\"November 15, 2022\",2022-11-16 23:50:05 UTC,Jes\\xc3\\xbas Herrera,SRID=4326;POINT(-98.2609179714 19.0221965558),19.0221965558,-98.2609179714,La goma ,1 Photo,Stationery,no,no,no,\"Dataphone (i.e. card payments),Smartphone\",1 Photo,yes,no,2018-03-04,Aument\\xc3\\xb3 15%,Aument\\xc3\\xb3 10%,yes,En Excel,\"En Excel,En papel\",No los uso,yes,no,yes,Llamada a Tel\\xc3\\xa9fono celular,\"Efectivo,Tarjeta de d\\xc3\\xa9bito y/o cr\\xc3\\xa9dito\",Efectivo,no,6-10%,16-20%,0,1.0,2-5%,2-5%,2.0,Tarjeta de d\\xc3\\xa9bito y/o cr\\xc3\\xa9dito,Ninguna,no,no,5%,Cuaderno,no,Ninguno,Tarde (12:00 - 7:00 pm),El cliente los recoge en tienda,6%+,1-5%,No conozco los servicios,Totalmente en desacuerdo,Algo en desacuerdo,Algo de acuerdo,Ni de acuerdo ni en desacuerdo,Algo en desacuerdo,Totalmente en desacuerdo,Algo de acuerdo,Algo de acuerdo,Ni de acuerdo ni en desacuerdo,Algo en desacuerdo,Totalmente en desacuerdo,Totalmente en desacuerdo,\"En persona,Llamada telef\\xc3\\xb3nica,P\\xc3\\xa1gina web del proveedor\",Preventa,0,\"Aplicaci\\xc3\\xb3n m\\xc3\\xb3vil,Cuaderno\",\"Efectivo,Tarjeta de d\\xc3\\xa9bito y/o cr\\xc3\\xa9dito\",no,Ninguna de las anteriores,Quincenalmente,\"Frecuencia de venta,Tama\\xc3\\xb1o\",\"Ofrecer un producto sustituto,Perder la venta\",10%,Totalmente de acuerdo,De acuerdo,De acuerdo,Ni de acuerdo ni en desacuerdo,De acuerdo,De acuerdo,De acuerdo,Ni de acuerdo ni en desacuerdo,En desacuerdo,De acuerdo,no,Alejandra,Ju\\xc3\\xa1rez,7221051088.0,alejandra.juarezci@udlap.mx,0.0,0.0,8.0,3.0,2.0,7.0,1.0,4.0,1.0,1.0,1.0,70.0,2.0,10.0,3.0,1.0,1.0,0.0\\n72,19df4ed7-f2cd-4784-8bc5-629871026fec,\"November 15, 2022\",2022-11-16 22:58:54 UTC,Jes\\xc3\\xbas Herrera,SRID=4326;POINT(-98.2611790224 19.022357996),19.022357996,-98.2611790224,Taqueria el matador ,1 Photo,Micro-restaurant (aka. fondita),no,no,no,Smartphone,1 Photo,no,yes,2017-05-22,No cambi\\xc3\\xb3,Aument\\xc3\\xb3 15%,yes,En papel,En Excel,No los uso,yes,no,yes,\"Llamada a Tel\\xc3\\xa9fono celular,Llamada a Tel\\xc3\\xa9fono fijo\",Efectivo,Efectivo,no,6-10%,16-20%,2-5%,2.0,2-5%,2-5%,2.0,Efectivo,Ninguna,no,no,10%,Ninguna,no,Ninguno,Tarde (12:00 - 7:00 pm),El cliente los recoge en tienda,6%+,1-5%,No creo que represente grandes ingresos,Ni de acuerdo ni en desacuerdo,Ni de acuerdo ni en desacuerdo,Ni de acuerdo ni en desacuerdo,Ni de acuerdo ni en desacuerdo,Ni de acuerdo ni en desacuerdo,Ni de acuerdo ni en desacuerdo,Ni de acuerdo ni en desacuerdo,Ni de acuerdo ni en desacuerdo,Algo de acuerdo,Totalmente en desacuerdo,Totalmente en desacuerdo,Totalmente en desacuerdo,En persona,Preventa,0,Cuaderno,Efectivo,no,Ninguna de las anteriores,Semanalmente,\"Categor\\xc3\\xada (e.g. limpieza, aseo personal, comestibles, l\\xc3\\xa1cteos, etc.)\",Informar al proveedor,10%,Totalmente en desacuerdo,Totalmente en desacuerdo,Totalmente en desacuerdo,Totalmente en desacuerdo,De acuerdo,De acuerdo,Totalmente de acuerdo,Totalmente en desacuerdo,Totalmente en desacuerdo,Totalmente en desacuerdo,no,Alejandra,Ju\\xc3\\xa1rez,7221051088.0,alejandra.juarezci@udlap.mx,1.0,1.0,0.0,3.0,2.0,7.0,2.0,4.0,2.0,1.0,1.0,70.0,2.0,10.0,3.0,1.0,2.0,20.0\\n73,56905286-496d-46e9-80ff-f6ab2defd43e,\"November 15, 2022\",2022-11-16 22:58:54 UTC,Jes\\xc3\\xbas Herrera,SRID=4326;POINT(-98.2611514298 19.0223481601),19.0223481601,-98.2611514298,Mr Green ,1 Photo,Produce (fruits & vegetables),no,yes,yes,\"Security cameras,Smartphone\",1 Photo,no,yes,2017-05-22,No cambi\\xc3\\xb3,Aument\\xc3\\xb3 15%,yes,En papel,En Excel,No los uso,yes,no,yes,\"Llamada a Tel\\xc3\\xa9fono celular,Llamada a Tel\\xc3\\xa9fono fijo\",Efectivo,Efectivo,no,6-10%,16-20%,2-5%,2.0,2-5%,2-5%,2.0,Efectivo,Ninguna,no,no,10%,Ninguna,no,Ninguno,Tarde (12:00 - 7:00 pm),El cliente los recoge en tienda,6%+,1-5%,No creo que represente grandes ingresos,Ni de acuerdo ni en desacuerdo,Ni de acuerdo ni en desacuerdo,Ni de acuerdo ni en desacuerdo,Ni de acuerdo ni en desacuerdo,Ni de acuerdo ni en desacuerdo,Ni de acuerdo ni en desacuerdo,Ni de acuerdo ni en desacuerdo,Ni de acuerdo ni en desacuerdo,Algo de acuerdo,Totalmente en desacuerdo,Totalmente en desacuerdo,Totalmente en desacuerdo,En persona,Preventa,0,Cuaderno,Efectivo,no,Ninguna de las anteriores,Semanalmente,\"Categor\\xc3\\xada (e.g. limpieza, aseo personal, comestibles, l\\xc3\\xa1cteos, etc.)\",Informar al proveedor,10%,Totalmente en desacuerdo,Totalmente en desacuerdo,Totalmente en desacuerdo,Totalmente en desacuerdo,De acuerdo,De acuerdo,Totalmente de acuerdo,Totalmente en desacuerdo,Totalmente en desacuerdo,Totalmente en desacuerdo,no,Alejandra,Ju\\xc3\\xa1rez,7221051088.0,alejandra.juarezci@udlap.mx,4.0,2.0,0.0,3.0,2.0,7.0,2.0,4.0,2.0,1.0,1.0,70.0,2.0,10.0,3.0,1.0,2.0,20.0\\n74,cde95522-90c6-4f5f-99ed-0abd7762ff16,\"November 15, 2022\",2022-11-16 22:55:20 UTC,Jes\\xc3\\xbas Herrera,SRID=4326;POINT(-98.2608469657 19.0221858871),19.0221858871,-98.2608469657,Materias primas,1 Photo,Dairy products,no,no,no,Smartphone,1 Photo,yes,yes,2017-05-22,No cambi\\xc3\\xb3,Aument\\xc3\\xb3 15%,yes,En papel,En Excel,No los uso,yes,no,yes,\"Llamada a Tel\\xc3\\xa9fono celular,Llamada a Tel\\xc3\\xa9fono fijo\",Efectivo,Efectivo,no,6-10%,16-20%,2-5%,2.0,2-5%,2-5%,2.0,Efectivo,Ninguna,no,no,10%,Ninguna,no,Ninguno,Tarde (12:00 - 7:00 pm),El cliente los recoge en tienda,6%+,1-5%,No creo que represente grandes ingresos,Ni de acuerdo ni en desacuerdo,Ni de acuerdo ni en desacuerdo,Ni de acuerdo ni en desacuerdo,Ni de acuerdo ni en desacuerdo,Ni de acuerdo ni en desacuerdo,Ni de acuerdo ni en desacuerdo,Ni de acuerdo ni en desacuerdo,Ni de acuerdo ni en desacuerdo,Algo de acuerdo,Totalmente en desacuerdo,Totalmente en desacuerdo,Totalmente en desacuerdo,En persona,Preventa,0,Cuaderno,Efectivo,no,Ninguna de las anteriores,Semanalmente,\"Categor\\xc3\\xada (e.g. limpieza, aseo personal, comestibles, l\\xc3\\xa1cteos, etc.)\",Informar al proveedor,10%,Totalmente en desacuerdo,Totalmente en desacuerdo,Totalmente en desacuerdo,Totalmente en desacuerdo,De acuerdo,De acuerdo,Totalmente de acuerdo,Totalmente en desacuerdo,Totalmente en desacuerdo,Totalmente en desacuerdo,no,Alejandra,Ju\\xc3\\xa1rez,7221051088.0,alejandra.juarezci@udlap.mx,0.0,0.0,3.0,3.0,2.0,7.0,2.0,4.0,2.0,1.0,1.0,70.0,2.0,10.0,3.0,1.0,2.0,20.0\\n75,2d38687d-6e0a-4d42-87fc-7405322abcab,\"November 10, 2022\",2022-11-16 22:36:38 UTC,Sandra Carre\\xc3\\xb3n,SRID=4326;POINT(-98.2025966177 19.0463846914),19.0463846914,-98.2025966177,Mi s\\xc3\\xbaper Santa Fe ,1 Photo,Grocery store (aka. nanostore),no,no,yes,POS system (i.e. computer + bar code scanner + printer),1 Photo,yes,yes,2021-10-10,No cambi\\xc3\\xb3,No cambi\\xc3\\xb3,no,Software especializado + computadora,Software especializado + computadora,No los uso,yes,no,no,Llamada a Tel\\xc3\\xa9fono celular,Efectivo,Efectivo,no,6-10%,16-20%,2-5%,2.0,2-5%,2-5%,2.0,Efectivo,Ninguna,no,no,10%,Sobre demanda ,no,Ninguno,Tarde (12:00 - 7:00 pm),El cliente los recoge en tienda,6%+,1-5%,No creo que represente grandes ingresos,Totalmente en desacuerdo,Totalmente en desacuerdo,Totalmente en desacuerdo,Totalmente en desacuerdo,Totalmente en desacuerdo,Totalmente en desacuerdo,Totalmente en desacuerdo,Totalmente en desacuerdo,Algo de acuerdo,Totalmente en desacuerdo,Totalmente en desacuerdo,Totalmente en desacuerdo,En persona,Preventa,0,Cuaderno,Efectivo,no,Ninguna de las anteriores,Semanalmente,\"Categor\\xc3\\xada (e.g. limpieza, aseo personal, comestibles, l\\xc3\\xa1cteos, etc.)\",Informar al proveedor,10%,Totalmente en desacuerdo,Totalmente en desacuerdo,Totalmente en desacuerdo,Totalmente en desacuerdo,De acuerdo,De acuerdo,Totalmente de acuerdo,Totalmente en desacuerdo,Totalmente en desacuerdo,Totalmente en desacuerdo,no,Alejandra,Ju\\xc3\\xa1rez,7221051088.0,alejandra.juarezci@udlap.mx,3.0,7.0,6.2,0.0,0.0,7.0,3.0,4.0,2.0,1.0,1.0,70.0,2.0,10.0,3.0,1.0,2.0,20.0\\n76,ffe10116-b708-4e9f-a5b1-fb7898b80008,\"November 9, 2022\",2022-11-16 22:06:51 UTC,Jes\\xc3\\xbas Herrera,SRID=4326;POINT(-98.2613671027 19.0195186834),19.0195186834,-98.2613671027,Abastecedor de croquetas,1 Photo,Dairy products,no,yes,no,\"Analog cash register,Smartphone\",1 Photo,yes,yes,2017-11-11,No cambi\\xc3\\xb3,Disminuy\\xc3\\xb3 15%,no,\"En Excel,En papel\",\"En Excel,En papel\",No los uso,yes,yes,no,WhatsApp,Efectivo,Efectivo,no,6-10%,16-20%,2-5%,2.0,2-5%,2-5%,2.0,Efectivo,Ninguna,no,no,10%,\"Cuaderno,Tel\\xc3\\xa9fono personal \",no,Ninguno,Tarde (12:00 - 7:00 pm),El cliente los recoge en tienda,6%+,1-5%,No quiero involucrarme con la tecnolog\\xc3\\xada,Totalmente en desacuerdo,Totalmente en desacuerdo,Totalmente de acuerdo,Algo de acuerdo,Ni de acuerdo ni en desacuerdo,Ni de acuerdo ni en desacuerdo,Ni de acuerdo ni en desacuerdo,Ni de acuerdo ni en desacuerdo,Ni de acuerdo ni en desacuerdo,Ni de acuerdo ni en desacuerdo,Ni de acuerdo ni en desacuerdo,Ni de acuerdo ni en desacuerdo,\"Mensaje de texto (SMS),Mensajer\\xc3\\xada instant\\xc3\\xa1nea (e.g. WhatsApp)\",Recompra,0,Ninguna,Efectivo,no,Ninguna de las anteriores,Quincenalmente,\"Categor\\xc3\\xada (e.g. limpieza, aseo personal, comestibles, l\\xc3\\xa1cteos, etc.),Frecuencia de venta,Tama\\xc3\\xb1o\",\"Ofrecer un producto sustituto,Perder la venta\",10%,Totalmente de acuerdo,De acuerdo,De acuerdo,Ni de acuerdo ni en desacuerdo,De acuerdo,De acuerdo,Ni de acuerdo ni en desacuerdo,De acuerdo,Ni de acuerdo ni en desacuerdo,Ni de acuerdo ni en desacuerdo,no,Alejandra,Ju\\xc3\\xa1rez,7221051088.0,alejandra.juarezci@udlap.mx,0.0,0.0,3.0,1.0,2.0,0.0,0.0,4.0,2.0,1.0,1.0,70.0,2.0,10.0,3.0,1.0,2.0,0.0\\n77,672ff2fc-2be7-4190-9951-eec1828de51c,\"November 9, 2022\",2022-11-16 21:46:14 UTC,Jes\\xc3\\xbas Herrera,SRID=4326;POINT(-98.2617494518 19.019030961),19.019030961,-98.2617494518,Cocina Lily,1 Photo,Micro-restaurant (aka. fondita),yes,no,no,\"Analog cash register,Smartphone\",1 Photo,no,yes,2018-10-15,Disminuy\\xc3\\xb3 15%,Disminuy\\xc3\\xb3 15%,yes,\"En Excel,Software especializado + computadora\",\"En Excel,En papel\",No los uso,yes,no,yes,\"Llamada a Tel\\xc3\\xa9fono celular,WhatsApp\",Efectivo,Efectivo,no,6-10%,16-20%,2-5%,2.0,2-5%,2-5%,2.0,Efectivo,Ninguna,no,no,25%,\"Cuaderno,Excel\",no,Ninguno,Tarde (12:00 - 7:00 pm),El cliente los recoge en tienda,6%+,1-5%,Es muy caro,Totalmente en desacuerdo,Totalmente en desacuerdo,Algo de acuerdo,Algo de acuerdo,Totalmente en desacuerdo,Algo en desacuerdo,Ni de acuerdo ni en desacuerdo,Ni de acuerdo ni en desacuerdo,Ni de acuerdo ni en desacuerdo,Totalmente en desacuerdo,Totalmente en desacuerdo,Ni de acuerdo ni en desacuerdo,\"Llamada telef\\xc3\\xb3nica,Mensaje de texto (SMS),Mensajer\\xc3\\xada instant\\xc3\\xa1nea (e.g. WhatsApp)\",Cr\\xc3\\xa9dito,0,\"Cuaderno,Excel\",\"Efectivo,Tarjeta de d\\xc3\\xa9bito y/o cr\\xc3\\xa9dito\",yes,Ninguna de las anteriores,Quincenalmente,\"Categor\\xc3\\xada (e.g. limpieza, aseo personal, comestibles, l\\xc3\\xa1cteos, etc.),Frecuencia de venta,Tama\\xc3\\xb1o\",\"Ofrecer un producto sustituto,Perder la venta\",10%,Totalmente de acuerdo,De acuerdo,De acuerdo,Ni de acuerdo ni en desacuerdo,De acuerdo,De acuerdo,Ni de acuerdo ni en desacuerdo,De acuerdo,Ni de acuerdo ni en desacuerdo,Ni de acuerdo ni en desacuerdo,no,Alejandra,Ju\\xc3\\xa1rez,7221051088.0,alejandra.juarezci@udlap.mx,1.4,2.0,0.0,2.0,2.0,0.0,2.0,5.0,2.0,1.0,1.0,70.0,2.0,10.0,3.0,1.0,1.0,0.0\\n78,81659698-a6d9-4a82-a44e-14921ba5cba3,\"November 9, 2022\",2022-11-16 21:46:13 UTC,Jes\\xc3\\xbas Herrera,SRID=4326;POINT(-98.2614588435 19.0193617107),19.0193617107,-98.2614588435,La carbonera ,1 Photo,Micro-restaurant (aka. fondita),yes,no,no,\"Dataphone (i.e. card payments),Smartphone\",1 Photo,no,yes,2018-10-15,Disminuy\\xc3\\xb3 15%,Disminuy\\xc3\\xb3 15%,yes,\"En Excel,Software especializado + computadora\",\"En Excel,En papel\",No los uso,yes,no,yes,\"Llamada a Tel\\xc3\\xa9fono celular,WhatsApp\",Efectivo,Efectivo,no,6-10%,16-20%,2-5%,2.0,2-5%,2-5%,2.0,Efectivo,Ninguna,no,no,25%,\"Cuaderno,Excel\",no,Ninguno,Tarde (12:00 - 7:00 pm),El cliente los recoge en tienda,6%+,1-5%,Es muy caro,Totalmente en desacuerdo,Totalmente en desacuerdo,Algo de acuerdo,Algo de acuerdo,Totalmente en desacuerdo,Algo en desacuerdo,Ni de acuerdo ni en desacuerdo,Ni de acuerdo ni en desacuerdo,Ni de acuerdo ni en desacuerdo,Totalmente en desacuerdo,Totalmente en desacuerdo,Ni de acuerdo ni en desacuerdo,\"Llamada telef\\xc3\\xb3nica,Mensaje de texto (SMS),Mensajer\\xc3\\xada instant\\xc3\\xa1nea (e.g. WhatsApp)\",Cr\\xc3\\xa9dito,0,\"Cuaderno,Excel\",\"Efectivo,Tarjeta de d\\xc3\\xa9bito y/o cr\\xc3\\xa9dito\",yes,Ninguna de las anteriores,Quincenalmente,\"Categor\\xc3\\xada (e.g. limpieza, aseo personal, comestibles, l\\xc3\\xa1cteos, etc.),Frecuencia de venta,Tama\\xc3\\xb1o\",\"Ofrecer un producto sustituto,Perder la venta\",10%,Totalmente de acuerdo,De acuerdo,De acuerdo,Ni de acuerdo ni en desacuerdo,De acuerdo,De acuerdo,Ni de acuerdo ni en desacuerdo,De acuerdo,Ni de acuerdo ni en desacuerdo,Ni de acuerdo ni en desacuerdo,no,Alejandra,Ju\\xc3\\xa1rez,7221051088.0,alejandra.juarezci@udlap.mx,0.0,1.0,0.0,2.0,2.0,0.0,2.0,5.0,2.0,1.0,1.0,70.0,2.0,10.0,3.0,1.0,1.0,0.0\\n79,53463fe9-6994-4bd7-af1f-6a87816577a0,\"November 9, 2022\",2022-11-16 21:46:13 UTC,Jes\\xc3\\xbas Herrera,SRID=4326;POINT(-98.2613777385 19.0194068872),19.0194068872,-98.2613777385,Carnes selectas Juniors,1 Photo,Produce (fruits & vegetables),no,yes,yes,Smartphone,1 Photo,no,yes,2018-10-15,Disminuy\\xc3\\xb3 15%,Disminuy\\xc3\\xb3 15%,yes,\"En Excel,Software especializado + computadora\",\"En Excel,En papel\",No los uso,yes,no,yes,\"Llamada a Tel\\xc3\\xa9fono celular,WhatsApp\",Efectivo,Efectivo,no,6-10%,16-20%,2-5%,2.0,2-5%,2-5%,2.0,Efectivo,Ninguna,no,no,25%,\"Cuaderno,Excel\",no,Ninguno,Tarde (12:00 - 7:00 pm),El cliente los recoge en tienda,6%+,1-5%,Es muy caro,Totalmente en desacuerdo,Totalmente en desacuerdo,Algo de acuerdo,Algo de acuerdo,Totalmente en desacuerdo,Algo en desacuerdo,Ni de acuerdo ni en desacuerdo,Ni de acuerdo ni en desacuerdo,Ni de acuerdo ni en desacuerdo,Totalmente en desacuerdo,Totalmente en desacuerdo,Ni de acuerdo ni en desacuerdo,\"Llamada telef\\xc3\\xb3nica,Mensaje de texto (SMS),Mensajer\\xc3\\xada instant\\xc3\\xa1nea (e.g. WhatsApp)\",Cr\\xc3\\xa9dito,0,\"Cuaderno,Excel\",\"Efectivo,Tarjeta de d\\xc3\\xa9bito y/o cr\\xc3\\xa9dito\",yes,Ninguna de las anteriores,Quincenalmente,\"Categor\\xc3\\xada (e.g. limpieza, aseo personal, comestibles, l\\xc3\\xa1cteos, etc.),Frecuencia de venta,Tama\\xc3\\xb1o\",\"Ofrecer un producto sustituto,Perder la venta\",10%,Totalmente de acuerdo,De acuerdo,De acuerdo,Ni de acuerdo ni en desacuerdo,De acuerdo,De acuerdo,Ni de acuerdo ni en desacuerdo,De acuerdo,Ni de acuerdo ni en desacuerdo,Ni de acuerdo ni en desacuerdo,no,Alejandra,Ju\\xc3\\xa1rez,7221051088.0,alejandra.juarezci@udlap.mx,3.0,5.0,7.0,2.0,2.0,0.0,2.0,5.0,2.0,1.0,1.0,70.0,2.0,10.0,3.0,1.0,1.0,0.0\\n80,9a909528-2960-40fb-a7c4-033639699327,\"November 15, 2022\",2022-11-16 21:46:12 UTC,Jes\\xc3\\xbas Herrera,SRID=4326;POINT(-98.2607611412 19.0221703287),19.0221703287,-98.2607611412,Pinceladas ,1 Photo,Gift store,no,no,no,\"Analog cash register,Smartphone\",1 Photo,yes,no,2018-10-15,Disminuy\\xc3\\xb3 15%,Disminuy\\xc3\\xb3 15%,yes,\"En Excel,Software especializado + computadora\",\"En Excel,En papel\",No los uso,yes,no,yes,\"Llamada a Tel\\xc3\\xa9fono celular,WhatsApp\",Efectivo,Efectivo,no,6-10%,16-20%,2-5%,2.0,2-5%,2-5%,2.0,Efectivo,Ninguna,no,no,25%,\"Cuaderno,Excel\",no,Ninguno,Tarde (12:00 - 7:00 pm),El cliente los recoge en tienda,6%+,1-5%,Es muy caro,Totalmente en desacuerdo,Totalmente en desacuerdo,Algo de acuerdo,Algo de acuerdo,Totalmente en desacuerdo,Algo en desacuerdo,Ni de acuerdo ni en desacuerdo,Ni de acuerdo ni en desacuerdo,Ni de acuerdo ni en desacuerdo,Totalmente en desacuerdo,Totalmente en desacuerdo,Ni de acuerdo ni en desacuerdo,\"Llamada telef\\xc3\\xb3nica,Mensaje de texto (SMS),Mensajer\\xc3\\xada instant\\xc3\\xa1nea (e.g. WhatsApp)\",Cr\\xc3\\xa9dito,0,\"Cuaderno,Excel\",\"Efectivo,Tarjeta de d\\xc3\\xa9bito y/o cr\\xc3\\xa9dito\",yes,Ninguna de las anteriores,Quincenalmente,\"Categor\\xc3\\xada (e.g. limpieza, aseo personal, comestibles, l\\xc3\\xa1cteos, etc.),Frecuencia de venta,Tama\\xc3\\xb1o\",\"Ofrecer un producto sustituto,Perder la venta\",10%,Totalmente de acuerdo,De acuerdo,De acuerdo,Ni de acuerdo ni en desacuerdo,De acuerdo,De acuerdo,Ni de acuerdo ni en desacuerdo,De acuerdo,Ni de acuerdo ni en desacuerdo,Ni de acuerdo ni en desacuerdo,no,Alejandra,Ju\\xc3\\xa1rez,7221051088.0,alejandra.juarezci@udlap.mx,0.0,0.0,3.0,2.0,2.0,0.0,2.0,5.0,2.0,1.0,1.0,70.0,2.0,10.0,3.0,1.0,1.0,0.0\\n81,0d0b5553-e65f-4a65-a7a4-2ad541824772,\"November 15, 2022\",2022-11-16 21:02:23 UTC,Hiram Jim\\xc3\\xa9nez,SRID=4326;POINT(-98.3051074 19.0610174),19.0610174,-98.3051074,Cholucremas,1 Photo,Grocery store (aka. nanostore),no,no,no,\"Analog cash register,Security cameras\",1 Photo,no,yes,1969-11-15,No cambi\\xc3\\xb3,No cambi\\xc3\\xb3,no,En Excel,En Excel,No los uso,yes,yes,yes,\"Llamada a Tel\\xc3\\xa9fono celular,WhatsApp\",\"Efectivo,Tarjeta de d\\xc3\\xa9bito y/o cr\\xc3\\xa9dito\",Efectivo,no,6-10%,16-20%,2-5%,2.0,2-5%,2-5%,2.0,Efectivo,Ninguna,no,no,20%,Ninguna,no,Ninguno,Tarde (12:00 - 7:00 pm),El cliente los recoge en tienda,6%+,1-5%,No creo que represente grandes ingresos,Algo en desacuerdo,Algo en desacuerdo,Totalmente en desacuerdo,Totalmente en desacuerdo,Algo en desacuerdo,Totalmente en desacuerdo,Algo en desacuerdo,Algo en desacuerdo,Algo en desacuerdo,Algo en desacuerdo,Totalmente en desacuerdo,Ni de acuerdo ni en desacuerdo,\"Llamada telef\\xc3\\xb3nica,Mensajer\\xc3\\xada instant\\xc3\\xa1nea (e.g. WhatsApp)\",Cr\\xc3\\xa9dito,0,Ninguna,\"Efectivo,Transferencia interbancaria\",yes,Disminuir la cantidad del pedido,Diariamente,ninguno,Perder la venta,30%,Ni de acuerdo ni en desacuerdo,Ni de acuerdo ni en desacuerdo,Ni de acuerdo ni en desacuerdo,En desacuerdo,Ni de acuerdo ni en desacuerdo,Ni de acuerdo ni en desacuerdo,Ni de acuerdo ni en desacuerdo,En desacuerdo,Ni de acuerdo ni en desacuerdo,Ni de acuerdo ni en desacuerdo,no,Alejandra,Ju\\xc3\\xa1rez,7221051088.0,alejandra.juarezci@udlap.mx,2.0,0.0,6.0,2.0,3.0,0.0,10.0,5.0,2.0,1.0,1.0,70.0,2.0,10.0,3.0,1.0,3.0,15.0\\n82,ba542660-5960-4e27-81c0-e9f31ea03210,\"November 15, 2022\",2022-11-16 21:02:22 UTC,Hiram Jim\\xc3\\xa9nez,SRID=4326;POINT(-98.3086783 19.0655096),19.0655096,-98.3086783,Los sobrinos abarrotes,1 Photo,Grocery store (aka. nanostore),no,no,yes,\"Dataphone (i.e. card payments),Security cameras,Smartphone\",1 Photo,yes,yes,1969-11-15,No cambi\\xc3\\xb3,No cambi\\xc3\\xb3,no,En Excel,En Excel,No los uso,yes,yes,yes,\"Llamada a Tel\\xc3\\xa9fono celular,WhatsApp\",\"Efectivo,Tarjeta de d\\xc3\\xa9bito y/o cr\\xc3\\xa9dito\",Efectivo,no,6-10%,16-20%,2-5%,2.0,2-5%,2-5%,2.0,Efectivo,Ninguna,no,no,20%,Ninguna,no,Ninguno,Tarde (12:00 - 7:00 pm),El cliente los recoge en tienda,6%+,1-5%,No creo que represente grandes ingresos,Algo en desacuerdo,Algo en desacuerdo,Totalmente en desacuerdo,Totalmente en desacuerdo,Algo en desacuerdo,Totalmente en desacuerdo,Algo en desacuerdo,Algo en desacuerdo,Algo en desacuerdo,Algo en desacuerdo,Totalmente en desacuerdo,Ni de acuerdo ni en desacuerdo,\"Llamada telef\\xc3\\xb3nica,Mensajer\\xc3\\xada instant\\xc3\\xa1nea (e.g. WhatsApp)\",Cr\\xc3\\xa9dito,0,Ninguna,\"Efectivo,Transferencia interbancaria\",yes,Disminuir la cantidad del pedido,Diariamente,ninguno,Perder la venta,30%,Ni de acuerdo ni en desacuerdo,Ni de acuerdo ni en desacuerdo,Ni de acuerdo ni en desacuerdo,En desacuerdo,Ni de acuerdo ni en desacuerdo,Ni de acuerdo ni en desacuerdo,Ni de acuerdo ni en desacuerdo,En desacuerdo,Ni de acuerdo ni en desacuerdo,Ni de acuerdo ni en desacuerdo,no,Alejandra,Ju\\xc3\\xa1rez,7221051088.0,alejandra.juarezci@udlap.mx,3.0,3.0,4.0,2.0,3.0,0.0,10.0,5.0,2.0,1.0,1.0,70.0,2.0,10.0,3.0,1.0,3.0,15.0\\n83,0c392b33-f46a-498d-9e39-e964f7b93566,\"November 16, 2022\",2022-11-16 18:49:09 UTC,Ulises N\\xc3\\xba\\xc3\\xb1ez Bautista,SRID=4326;POINT(-98.2279999045 19.0598231624),19.0598231624,-98.2279999045,Apple juice,1 Photo,Micro-restaurant (aka. fondita),no,no,yes,\"Analog cash register,Security cameras,Smartphone\",2 Photos,yes,yes,2017-09-16,No cambi\\xc3\\xb3,Aument\\xc3\\xb3 15%,no,En papel,\"Caja registradora (an\\xc3\\xa1loga),En papel\",No los uso,yes,no,yes,\"Aplicaci\\xc3\\xb3n m\\xc3\\xb3vil (e.g. Rappi, Uber Eats)\",\"Efectivo,Tarjeta de d\\xc3\\xa9bito y/o cr\\xc3\\xa9dito\",Tarjeta de d\\xc3\\xa9bito y/o cr\\xc3\\xa9dito,no,6-10%,16-20%,2-5%,2.0,2-5%,2-5%,2.0,\"Efectivo,Tarjeta de d\\xc3\\xa9bito y/o cr\\xc3\\xa9dito\",Redes sociales,yes,no,15%,Aplicaci\\xc3\\xb3n m\\xc3\\xb3vil,no,Ninguno,Tarde (12:00 - 7:00 pm),El cliente los recoge en tienda,6%+,1-5%,No creo que represente grandes ingresos,Totalmente en desacuerdo,Totalmente en desacuerdo,Totalmente en desacuerdo,Totalmente en desacuerdo,Totalmente en desacuerdo,Ni de acuerdo ni en desacuerdo,Ni de acuerdo ni en desacuerdo,Totalmente de acuerdo,Totalmente en desacuerdo,Totalmente en desacuerdo,Totalmente en desacuerdo,Ni de acuerdo ni en desacuerdo,Llamada telef\\xc3\\xb3nica,Cr\\xc3\\xa9dito,0,Cuaderno,Efectivo,yes,Disminuir la cantidad del pedido,Quincenalmente,Venta cruzada (e.g. cereal + leche),Ofrecer un producto sustituto,20%,Totalmente de acuerdo,Totalmente de acuerdo,Totalmente de acuerdo,Totalmente en desacuerdo,Totalmente de acuerdo,Totalmente de acuerdo,Totalmente de acuerdo,Totalmente de acuerdo,Totalmente en desacuerdo,Totalmente de acuerdo,no,Alejandra,Ju\\xc3\\xa1rez,7221051088.0,alejandra.juarezci@udlap.mx,1.0,2.0,1.0,2.0,2.0,2.0,2.0,1.0,2.0,1.0,1.0,70.0,2.0,10.0,3.0,1.0,1.0,30.0\\n84,f256972b-7ee8-4253-aad8-21f5b3f227a5,\"November 16, 2022\",2022-11-16 18:43:18 UTC,Salomon Abdala Perez,SRID=4326;POINT(-98.2282225756 19.0591455329),19.0591455329,-98.2282225756,Mayis Florister\\xc3\\xada,1 Photo,Grocery store (aka. nanostore),yes,no,yes,\"Dataphone (i.e. card payments),Smartphone\",2 Photos,yes,yes,2020-11-16,No cambi\\xc3\\xb3,No cambi\\xc3\\xb3,yes,No lo hago,Software especializado + computadora,No los uso,yes,no,yes,\"Llamada a Tel\\xc3\\xa9fono celular,Llamada a Tel\\xc3\\xa9fono fijo,P\\xc3\\xa1gina web propia,WhatsApp\",\"Efectivo,Tarjeta de d\\xc3\\xa9bito y/o cr\\xc3\\xa9dito,Transferencia interbancaria\",Tarjeta de d\\xc3\\xa9bito y/o cr\\xc3\\xa9dito,no,6-10%,16-20%,2-5%,0.0,11-15%,16-20%,7.0,Efectivo,Ninguna,yes,no,15%,Cuaderno,no,Ninguno,Tarde (12:00 - 7:00 pm),El cliente los recoge en tienda,6%+,1-5%,No quiero involucrarme con la tecnolog\\xc3\\xada,Totalmente de acuerdo,Totalmente de acuerdo,Totalmente de acuerdo,Ni de acuerdo ni en desacuerdo,Algo de acuerdo,Algo de acuerdo,Algo en desacuerdo,Totalmente de acuerdo,Totalmente en desacuerdo,Totalmente en desacuerdo,Totalmente en desacuerdo,Ni de acuerdo ni en desacuerdo,Llamada telef\\xc3\\xb3nica,Cr\\xc3\\xa9dito,0,Cuaderno,Efectivo,yes,Disminuir la cantidad del pedido,Quincenalmente,Venta cruzada (e.g. cereal + leche),Ofrecer un producto sustituto,20%,Totalmente de acuerdo,Totalmente de acuerdo,Totalmente de acuerdo,Totalmente en desacuerdo,Totalmente de acuerdo,Totalmente de acuerdo,Totalmente de acuerdo,Totalmente de acuerdo,Totalmente en desacuerdo,Totalmente de acuerdo,yes,Alejandra,Ju\\xc3\\xa1rez,7221051088.0,alejandra.juarezci@udlap.mx,0.0,0.0,6.0,2.0,2.0,1.0,0.0,1.0,0.0,15.0,0.0,70.0,2.0,10.0,3.0,1.0,1.0,30.0\\n85,e5b84c5b-c312-4958-88b9-32d8fe22ce35,\"November 16, 2022\",2022-11-16 18:34:41 UTC,Salomon Abdala Perez,SRID=4326;POINT(-98.2283046619 19.0590865715),19.0590865715,-98.2283046619,Dolce Mima,1 Photo,Cafeteria,no,no,no,\"Dataphone (i.e. card payments),Smartphone\",2 Photos,yes,yes,2021-11-16,No cambi\\xc3\\xb3,No cambi\\xc3\\xb3,no,Software especializado + computadora,Software especializado + computadora,No los uso,no,no,yes,\"Redes sociales (e.g. Facebook, Instagram),WhatsApp\",\"Efectivo,Tarjeta de d\\xc3\\xa9bito y/o cr\\xc3\\xa9dito\",Tarjeta de d\\xc3\\xa9bito y/o cr\\xc3\\xa9dito,no,6-10%,16-20%,2-5%,0.0,11-15%,16-20%,7.0,Efectivo,Ninguna,no,no,15%,Cuaderno,no,Ninguno,Tarde (12:00 - 7:00 pm),El cliente los recoge en tienda,6%+,1-5%,No quiero involucrarme con la tecnolog\\xc3\\xada,Totalmente de acuerdo,Totalmente de acuerdo,Totalmente de acuerdo,Ni de acuerdo ni en desacuerdo,Totalmente en desacuerdo,Totalmente en desacuerdo,Totalmente en desacuerdo,Totalmente de acuerdo,Totalmente en desacuerdo,Totalmente en desacuerdo,Totalmente en desacuerdo,Ni de acuerdo ni en desacuerdo,Llamada telef\\xc3\\xb3nica,Cr\\xc3\\xa9dito,0,Cuaderno,Efectivo,yes,Disminuir la cantidad del pedido,Diariamente,\"Precio,Tama\\xc3\\xb1o\",\"Ofrecer un producto sustituto,Solicitar tiempo al cliente para conseguir el producto\",20%,Totalmente de acuerdo,Totalmente de acuerdo,Totalmente de acuerdo,Totalmente en desacuerdo,Totalmente de acuerdo,Totalmente de acuerdo,Totalmente de acuerdo,Totalmente de acuerdo,Totalmente en desacuerdo,Totalmente de acuerdo,no,Norma Evelyn ,Rodr\\xc3\\xadguez,7221051088.0,ara_lib@hotmail.com,0.0,1.0,1.0,1.0,1.0,1.0,10.0,1.0,0.0,8.0,0.0,70.0,2.0,10.0,3.0,1.0,1.0,0.0\\n86,36b9240f-8c36-45b1-ba31-32f5838ec14d,\"November 3, 2022\",2022-11-16 18:33:03 UTC,Santiago Pag\\xc3\\xa9s Gonz\\xc3\\xa1lez,SRID=4326;POINT(-98.1939337 19.0424679),19.0424679,-98.1939337,Floreria Janet,1 Photo,Floreria,no,no,no,Security cameras,2 Photos,yes,yes,2022-01-14,No cambi\\xc3\\xb3,Disminuy\\xc3\\xb3 25%,yes,En papel,En papel,No los uso,yes,no,yes,\"Aplicaci\\xc3\\xb3n m\\xc3\\xb3vil (e.g. Rappi, Uber Eats),Llamada a Tel\\xc3\\xa9fono fijo,P\\xc3\\xa1gina web propia\",Efectivo,Tarjeta de d\\xc3\\xa9bito y/o cr\\xc3\\xa9dito,no,6-10%,16-20%,2-5%,0.0,11-15%,16-20%,7.0,Efectivo,Redes sociales,yes,no,15%,Cuaderno,no,Ninguno,Tarde (12:00 - 7:00 pm),El cliente los recoge en tienda,6%+,1-5%,No quiero involucrarme con la tecnolog\\xc3\\xada,Totalmente de acuerdo,Totalmente de acuerdo,Totalmente de acuerdo,Ni de acuerdo ni en desacuerdo,Totalmente en desacuerdo,Totalmente en desacuerdo,Totalmente en desacuerdo,Totalmente de acuerdo,Totalmente en desacuerdo,Totalmente en desacuerdo,Totalmente en desacuerdo,Ni de acuerdo ni en desacuerdo,Llamada telef\\xc3\\xb3nica,Cr\\xc3\\xa9dito,0,Cuaderno,Efectivo,yes,Disminuir la cantidad del pedido,Semanalmente,\"Precio,Tama\\xc3\\xb1o\",\"Ofrecer un producto sustituto,Solicitar tiempo al cliente para conseguir el producto\",20%,Totalmente de acuerdo,Totalmente de acuerdo,Totalmente de acuerdo,Totalmente en desacuerdo,Totalmente de acuerdo,Totalmente de acuerdo,Totalmente de acuerdo,Totalmente de acuerdo,Totalmente en desacuerdo,Totalmente de acuerdo,yes,Norma Evelyn ,Rodr\\xc3\\xadguez,7221051088.0,ara_lib@hotmail.com,1.0,0.0,12.0,1.0,1.0,1.0,10.0,1.0,0.0,8.0,0.0,70.0,2.0,10.0,3.0,1.0,1.0,0.0\\n87,962bf5a6-1eff-4874-a627-9cd8e3ca27b4,\"November 3, 2022\",2022-11-16 18:32:59 UTC,Santiago Pag\\xc3\\xa9s Gonz\\xc3\\xa1lez,SRID=4326;POINT(-98.1938023854 19.0427938182),19.0427938182,-98.1938023854,Miscel\\xc3\\xa1nea rub\\xc3\\xad ,1 Photo,Grocery store (aka. nanostore),no,no,no,\"Analog cash register,Smartphone\",3 Photos,no,yes,2022-07-30,No cambi\\xc3\\xb3,Aument\\xc3\\xb3 15%,yes,Software especializado + computadora,Software especializado + computadora,No los uso,yes,yes,yes,\"Redes sociales (e.g. Facebook, Instagram)\",\"Efectivo,Giro postal (e.g. Western Union) Cheque bancario,Tarjeta de d\\xc3\\xa9bito y/o cr\\xc3\\xa9dito,Transferencia interbancaria\",Tarjeta de d\\xc3\\xa9bito y/o cr\\xc3\\xa9dito,no,6-10%,16-20%,2-5%,0.0,11-15%,16-20%,7.0,Efectivo,Software especializado,no,no,50% +,\"Aplicaci\\xc3\\xb3n m\\xc3\\xb3vil,Software especializado\",no,Ninguno,Tarde (12:00 - 7:00 pm),El cliente los recoge en tienda,2%,6-10%,No conozco los servicios,Totalmente de acuerdo,Totalmente en desacuerdo,Totalmente de acuerdo,Totalmente de acuerdo,Totalmente en desacuerdo,Totalmente en desacuerdo,Totalmente de acuerdo,Totalmente de acuerdo,Totalmente de acuerdo,Totalmente en desacuerdo,Totalmente en desacuerdo,Ni de acuerdo ni en desacuerdo,Email,Cr\\xc3\\xa9dito,0,Software especializado,Transferencia interbancaria,no,Disminuir la frecuencia de pedidos,Diariamente,\"Categor\\xc3\\xada (e.g. limpieza, aseo personal, comestibles, l\\xc3\\xa1cteos, etc.)\",Solicitar tiempo al cliente para conseguir el producto,10%,Totalmente de acuerdo,Totalmente de acuerdo,Totalmente de acuerdo,Totalmente de acuerdo,Totalmente de acuerdo,Totalmente de acuerdo,Totalmente de acuerdo,Totalmente de acuerdo,Totalmente de acuerdo,Totalmente de acuerdo,no,Paola,Macedo Garrillo ,7228386724.0,ara_lib@hotmail.com,1.0,5.0,5.0,2.0,0.0,1.0,1.0,1.0,0.0,30.0,5.0,70.0,2.0,20.0,15.0,1.0,1.0,0.0\\n88,19b5953c-88de-4598-9aa9-9a807fd5eb44,\"November 3, 2022\",2022-11-16 18:32:57 UTC,Santiago Pag\\xc3\\xa9s Gonz\\xc3\\xa1lez,SRID=4326;POINT(-98.1941676 19.0431192),19.0431192,-98.1941676,Franny S.A de C.V,2 Photos,Dairy products,yes,no,no,\"POS system (i.e. computer + bar code scanner + printer),Security cameras,Smartphone\",3 Photos,yes,yes,2022-07-30,No cambi\\xc3\\xb3,Aument\\xc3\\xb3 15%,yes,Software especializado + computadora,Software especializado + computadora,No los uso,yes,yes,yes,\"Redes sociales (e.g. Facebook, Instagram)\",\"Efectivo,Giro postal (e.g. Western Union) Cheque bancario,Tarjeta de d\\xc3\\xa9bito y/o cr\\xc3\\xa9dito,Transferencia interbancaria\",Tarjeta de d\\xc3\\xa9bito y/o cr\\xc3\\xa9dito,no,6-10%,16-20%,2-5%,0.0,11-15%,16-20%,7.0,Efectivo,Software especializado,no,no,50% +,\"Aplicaci\\xc3\\xb3n m\\xc3\\xb3vil,Software especializado\",no,Ninguno,Tarde (12:00 - 7:00 pm),El cliente los recoge en tienda,2%,6-10%,No conozco los servicios,Totalmente de acuerdo,Totalmente en desacuerdo,Totalmente de acuerdo,Totalmente de acuerdo,Totalmente en desacuerdo,Totalmente en desacuerdo,Totalmente de acuerdo,Totalmente de acuerdo,Totalmente de acuerdo,Totalmente en desacuerdo,Totalmente en desacuerdo,Ni de acuerdo ni en desacuerdo,Email,Cr\\xc3\\xa9dito,0,Software especializado,Transferencia interbancaria,no,Disminuir la frecuencia de pedidos,Diariamente,\"Categor\\xc3\\xada (e.g. limpieza, aseo personal, comestibles, l\\xc3\\xa1cteos, etc.)\",Solicitar tiempo al cliente para conseguir el producto,10%,Totalmente de acuerdo,Totalmente de acuerdo,Totalmente de acuerdo,Totalmente de acuerdo,Totalmente de acuerdo,Totalmente de acuerdo,Totalmente de acuerdo,Totalmente de acuerdo,Totalmente de acuerdo,Totalmente de acuerdo,yes,Paola,Macedo Garrillo ,7228386724.0,ara_lib@hotmail.com,2.0,1.0,6.2,2.0,0.0,1.0,1.0,1.0,0.0,30.0,5.0,70.0,2.0,20.0,15.0,1.0,1.0,0.0\\n89,248feb52-11fb-48e9-bd4b-a19415815c26,\"November 16, 2022\",2022-11-16 18:31:51 UTC,Salomon Abdala Perez,SRID=4326;POINT(-98.2282854449 19.0590423645),19.0590423645,-98.2282854449,U\\xc3\\xb1as y sal\\xc3\\xb3n,1 Photo,Beauty salon,yes,no,no,\"Dataphone (i.e. card payments),POS system (i.e. computer + bar code scanner + printer)\",2 Photos,yes,yes,2021-11-16,No cambi\\xc3\\xb3,No cambi\\xc3\\xb3,yes,No lo hago,No lo hago,No los uso,no,no,yes,WhatsApp,\"Efectivo,Tarjeta de d\\xc3\\xa9bito y/o cr\\xc3\\xa9dito,Transferencia interbancaria\",Tarjeta de d\\xc3\\xa9bito y/o cr\\xc3\\xa9dito,no,6-10%,16-20%,2-5%,1.0,11-15%,16-20%,7.0,Efectivo,Ninguna,no,no,5%,Ninguna,yes,Ninguno,Tarde (12:00 - 7:00 pm),El cliente los recoge en tienda,2,1-5%,No quiero involucrarme con la tecnolog\\xc3\\xada,Totalmente en desacuerdo,Totalmente en desacuerdo,Totalmente en desacuerdo,Totalmente en desacuerdo,Totalmente en desacuerdo,Totalmente en desacuerdo,Algo en desacuerdo,Totalmente en desacuerdo,Totalmente en desacuerdo,Totalmente en desacuerdo,Totalmente en desacuerdo,Totalmente en desacuerdo,\"En persona,Llamada telef\\xc3\\xb3nica\",Ninguno,1-2%,Ninguna,Efectivo,no,Disminuir la frecuencia de pedidos,Anualmente,\"Categor\\xc3\\xada (e.g. limpieza, aseo personal, comestibles, l\\xc3\\xa1cteos, etc.)\",Ofrecer un producto sustituto,20%,Totalmente en desacuerdo,En desacuerdo,En desacuerdo,Totalmente en desacuerdo,Ni de acuerdo ni en desacuerdo,De acuerdo,Ni de acuerdo ni en desacuerdo,En desacuerdo,Totalmente en desacuerdo,Totalmente en desacuerdo,no,Alma,Rodr\\xc3\\xadguez,2221277794.0,ara_lib@hotmail.com,0.0,0.0,0.0,1.0,1.0,2.0,5.0,3.0,1.0,30.0,5.0,70.0,2.0,20.0,35.0,1.0,1.0,0.0\\n90,635f826b-4560-4749-8545-ec38290b4253,\"November 16, 2022\",2022-11-16 18:27:48 UTC,Salomon Abdala Perez,SRID=4326;POINT(-98.2287490873 19.0586136382),19.0586136382,-98.2287490873,SaladBowl,1 Photo,Cafeteria,no,yes,yes,Smartphone,2 Photos,yes,yes,2019-10-16,No cambi\\xc3\\xb3,No cambi\\xc3\\xb3,yes,En Excel,En Excel,No los uso,yes,no,yes,WhatsApp,\"Efectivo,Tarjeta de d\\xc3\\xa9bito y/o cr\\xc3\\xa9dito,Transferencia interbancaria\",Tarjeta de d\\xc3\\xa9bito y/o cr\\xc3\\xa9dito,no,6-10%,16-20%,2-5%,1.0,11-15%,16-20%,7.0,Efectivo,Ninguna,no,no,5%,Ninguna,yes,Ninguno,Tarde (12:00 - 7:00 pm),El cliente los recoge en tienda,2,1-5%,No quiero involucrarme con la tecnolog\\xc3\\xada,Totalmente en desacuerdo,Totalmente en desacuerdo,Totalmente en desacuerdo,Totalmente en desacuerdo,Totalmente en desacuerdo,Totalmente en desacuerdo,Algo en desacuerdo,Totalmente en desacuerdo,Totalmente en desacuerdo,Totalmente en desacuerdo,Totalmente en desacuerdo,Totalmente en desacuerdo,\"En persona,Llamada telef\\xc3\\xb3nica\",Ninguno,1-2%,Ninguna,Efectivo,no,Disminuir la frecuencia de pedidos,Semanalmente,\"Categor\\xc3\\xada (e.g. limpieza, aseo personal, comestibles, l\\xc3\\xa1cteos, etc.)\",Ofrecer un producto sustituto,20%,Totalmente en desacuerdo,En desacuerdo,En desacuerdo,Totalmente en desacuerdo,Ni de acuerdo ni en desacuerdo,De acuerdo,Ni de acuerdo ni en desacuerdo,En desacuerdo,Totalmente en desacuerdo,Totalmente en desacuerdo,no,Alma,Rodr\\xc3\\xadguez,2221277794.0,ara_lib@hotmail.com,0.0,2.0,3.0,3.0,3.0,2.0,12.0,3.0,1.0,30.0,5.0,70.0,2.0,20.0,35.0,1.0,1.0,0.0\\n91,6e324439-f28d-426b-ab1a-e020ed9075ed,\"November 16, 2022\",2022-11-16 18:23:27 UTC,Salomon Abdala Perez,SRID=4326;POINT(-98.2293976743 19.0573487533),19.0573487533,-98.2293976743,Casa de t\\xc3\\xa9 Luyu,1 Photo,Cafeteria,yes,no,yes,Dataphone (i.e. card payments),2 Photos,yes,yes,2020-11-16,No cambi\\xc3\\xb3,No cambi\\xc3\\xb3,yes,Software especializado + computadora,Software especializado + computadora,No los uso,no,no,yes,\"Redes sociales (e.g. Facebook, Instagram),WhatsApp\",\"Efectivo,Tarjeta de d\\xc3\\xa9bito y/o cr\\xc3\\xa9dito\",Tarjeta de d\\xc3\\xa9bito y/o cr\\xc3\\xa9dito,no,6-10%,16-20%,2-5%,1.0,11-15%,16-20%,7.0,Efectivo,Ninguna,no,no,5%,Ninguna,no,Ninguno,Tarde (12:00 - 7:00 pm),El cliente los recoge en tienda,2,1-5%,No quiero involucrarme con la tecnolog\\xc3\\xada,Totalmente en desacuerdo,Totalmente en desacuerdo,Totalmente en desacuerdo,Totalmente en desacuerdo,Totalmente en desacuerdo,Totalmente en desacuerdo,Algo en desacuerdo,Totalmente en desacuerdo,Totalmente en desacuerdo,Totalmente en desacuerdo,Totalmente en desacuerdo,Totalmente en desacuerdo,\"En persona,Llamada telef\\xc3\\xb3nica\",Ninguno,1-2%,Ninguna,Efectivo,no,Disminuir la frecuencia de pedidos,Anualmente,\"Categor\\xc3\\xada (e.g. limpieza, aseo personal, comestibles, l\\xc3\\xa1cteos, etc.)\",Ofrecer un producto sustituto,20%,Totalmente en desacuerdo,En desacuerdo,En desacuerdo,Totalmente en desacuerdo,Ni de acuerdo ni en desacuerdo,De acuerdo,Ni de acuerdo ni en desacuerdo,En desacuerdo,Totalmente en desacuerdo,Totalmente en desacuerdo,no,Alma,Rodr\\xc3\\xadguez,2221277794.0,ara_lib@hotmail.com,0.0,1.0,0.0,2.0,2.0,1.0,12.0,3.0,1.0,30.0,5.0,70.0,2.0,20.0,35.0,1.0,1.0,0.0\\n92,37dd69be-0fc2-4c89-bd20-dda93a826bd9,\"November 16, 2022\",2022-11-16 18:16:41 UTC,Salomon Abdala Perez,SRID=4326;POINT(-98.2303502153 19.0558361634),19.0558361634,-98.2303502153,ISO Broker,1 Photo,Grocery store (aka. nanostore),no,no,no,\"Dataphone (i.e. card payments),POS system (i.e. computer + bar code scanner + printer)\",2 Photos,yes,yes,2017-08-16,No cambi\\xc3\\xb3,No cambi\\xc3\\xb3,yes,No lo hago,Software especializado + computadora,No los uso,yes,no,yes,\"P\\xc3\\xa1gina web propia,Redes sociales (e.g. Facebook, Instagram),WhatsApp\",\"Aplicaci\\xc3\\xb3n m\\xc3\\xb3vil (e.g. CODI),Efectivo,Giro postal (e.g. Western Union) Cheque bancario,Tarjeta de d\\xc3\\xa9bito y/o cr\\xc3\\xa9dito,Transferencia interbancaria,Trueque (e.g. comercio o intercambio)\",Tarjeta de d\\xc3\\xa9bito y/o cr\\xc3\\xa9dito,no,6-10%,16-20%,2-5%,1.0,11-15%,16-20%,7.0,Efectivo,Ninguna,yes,no,5%,Ninguna,no,Ninguno,Tarde (12:00 - 7:00 pm),El cliente los recoge en tienda,2,1-5%,No quiero involucrarme con la tecnolog\\xc3\\xada,Totalmente en desacuerdo,Totalmente en desacuerdo,Totalmente en desacuerdo,Totalmente en desacuerdo,Totalmente en desacuerdo,Totalmente en desacuerdo,Algo en desacuerdo,Totalmente en desacuerdo,Totalmente en desacuerdo,Totalmente en desacuerdo,Totalmente en desacuerdo,Totalmente en desacuerdo,\"En persona,Llamada telef\\xc3\\xb3nica\",Ninguno,1-2%,Ninguna,Efectivo,no,Disminuir la frecuencia de pedidos,Anualmente,\"Categor\\xc3\\xada (e.g. limpieza, aseo personal, comestibles, l\\xc3\\xa1cteos, etc.)\",Ofrecer un producto sustituto,20%,Totalmente en desacuerdo,En desacuerdo,En desacuerdo,Totalmente en desacuerdo,Ni de acuerdo ni en desacuerdo,De acuerdo,Ni de acuerdo ni en desacuerdo,En desacuerdo,Totalmente en desacuerdo,Totalmente en desacuerdo,yes,Alma,Rodr\\xc3\\xadguez,2221277794.0,ara_lib@hotmail.com,0.0,0.0,0.0,2.0,2.0,2.0,5.0,3.0,1.0,30.0,5.0,70.0,2.0,20.0,35.0,1.0,1.0,0.0\\n93,d3514a2c-76ba-4677-868b-ea97b1dd424d,\"November 16, 2022\",2022-11-16 18:10:44 UTC,Salomon Abdala Perez,SRID=4326;POINT(-98.230677583 19.055863119),19.055863119,-98.230677583,ISCO,1 Photo,Grocery store (aka. nanostore),no,no,no,\"Dataphone (i.e. card payments),POS system (i.e. computer + bar code scanner + printer),Security cameras,Smartphone\",2 Photos,yes,yes,2021-03-16,Aument\\xc3\\xb3 50% o m\\xc3\\xa1s,No cambi\\xc3\\xb3,no,No lo hago,No lo hago,No los uso,yes,no,yes,WhatsApp,\"Efectivo,Tarjeta de d\\xc3\\xa9bito y/o cr\\xc3\\xa9dito\",Tarjeta de d\\xc3\\xa9bito y/o cr\\xc3\\xa9dito,no,6-10%,16-20%,2-5%,1.0,11-15%,16-20%,7.0,Efectivo,Ninguna,yes,no,5%,Ninguna,no,Ninguno,Tarde (12:00 - 7:00 pm),El cliente los recoge en tienda,2,1-5%,No quiero involucrarme con la tecnolog\\xc3\\xada,Totalmente en desacuerdo,Totalmente en desacuerdo,Totalmente en desacuerdo,Totalmente en desacuerdo,Totalmente en desacuerdo,Totalmente en desacuerdo,Algo en desacuerdo,Totalmente en desacuerdo,Totalmente en desacuerdo,Totalmente en desacuerdo,Totalmente en desacuerdo,Totalmente en desacuerdo,\"En persona,Llamada telef\\xc3\\xb3nica\",Ninguno,1-2%,Ninguna,Efectivo,no,Disminuir la frecuencia de pedidos,Quincenalmente,Venta cruzada (e.g. cereal + leche),\"Informar al proveedor,Solicitar tiempo al cliente para conseguir el producto\",40%,Totalmente en desacuerdo,En desacuerdo,En desacuerdo,Totalmente en desacuerdo,Ni de acuerdo ni en desacuerdo,De acuerdo,Ni de acuerdo ni en desacuerdo,En desacuerdo,Totalmente en desacuerdo,Totalmente en desacuerdo,yes,Gerardo,Rio Kronis,2221741355.0,ara_lib@hotmail.com,0.0,0.0,1.0,1.0,1.0,2.0,2.0,3.0,1.0,15.0,5.0,70.0,2.0,20.0,35.0,1.0,1.0,0.0\\n94,0a4604ca-22ad-4fd7-9de8-77927f4e0742,\"November 16, 2022\",2022-11-16 17:53:42 UTC,Salomon Abdala Perez,SRID=4326;POINT(-98.2313582221 19.0556677718),19.0556677718,-98.2313582221,\\xc3\\xadTechnology,1 Photo,Technology store,yes,no,no,\"Dataphone (i.e. card payments),POS system (i.e. computer + bar code scanner + printer),Security cameras,Smartphone\",2 Photos,yes,yes,2020-08-16,No cambi\\xc3\\xb3,No cambi\\xc3\\xb3,yes,\"En Excel,Software especializado + computadora\",Software especializado + computadora,No los uso,yes,no,yes,\"Redes sociales (e.g. Facebook, Instagram)\",\"Efectivo,Tarjeta de d\\xc3\\xa9bito y/o cr\\xc3\\xa9dito\",Tarjeta de d\\xc3\\xa9bito y/o cr\\xc3\\xa9dito,no,6-10%,16-20%,2-5%,1.0,11-15%,16-20%,7.0,Efectivo,Ninguna,no,no,5%,Ninguna,no,Ninguno,Tarde (12:00 - 7:00 pm),El cliente los recoge en tienda,2,1-5%,No quiero involucrarme con la tecnolog\\xc3\\xada,Totalmente en desacuerdo,Totalmente en desacuerdo,Totalmente en desacuerdo,Totalmente en desacuerdo,Totalmente en desacuerdo,Totalmente en desacuerdo,Algo en desacuerdo,Totalmente en desacuerdo,Totalmente en desacuerdo,Totalmente en desacuerdo,Totalmente en desacuerdo,Totalmente en desacuerdo,\"En persona,Llamada telef\\xc3\\xb3nica\",Ninguno,1-2%,Ninguna,Efectivo,no,Disminuir la frecuencia de pedidos,Mensualmente,\"Categor\\xc3\\xada (e.g. limpieza, aseo personal, comestibles, l\\xc3\\xa1cteos, etc.)\",Solicitar tiempo al cliente para conseguir el producto,10%,Totalmente en desacuerdo,En desacuerdo,En desacuerdo,Totalmente en desacuerdo,Ni de acuerdo ni en desacuerdo,De acuerdo,Ni de acuerdo ni en desacuerdo,En desacuerdo,Totalmente en desacuerdo,Totalmente en desacuerdo,no,Jos\\xc3\\xa9 Luis,Lara,2212849486.0,ara_lib@hotmail.com,0.0,0.0,2.0,1.0,1.0,2.0,2.0,3.0,1.0,15.0,5.0,70.0,2.0,20.0,35.0,1.0,1.0,0.0\\n95,b333f476-2b7a-4227-af43-0b93775a869f,\"November 16, 2022\",2022-11-16 17:49:18 UTC,Salomon Abdala Perez,SRID=4326;POINT(-98.2315404416 19.0556574771),19.0556574771,-98.2315404416,Pan Pl\\xc3\\xa1tano,1 Photo,Cafeteria,no,yes,yes,\"Dataphone (i.e. card payments),POS system (i.e. computer + bar code scanner + printer),Security cameras,Smartphone\",2 Photos,yes,yes,2020-11-16,No cambi\\xc3\\xb3,No cambi\\xc3\\xb3,yes,Software especializado + computadora,Software especializado + computadora,No los uso,yes,no,yes,\"Redes sociales (e.g. Facebook, Instagram),WhatsApp\",\"Efectivo,Tarjeta de d\\xc3\\xa9bito y/o cr\\xc3\\xa9dito\",Tarjeta de d\\xc3\\xa9bito y/o cr\\xc3\\xa9dito,no,6-10%,16-20%,2-5%,1.0,11-15%,16-20%,7.0,Efectivo,Ninguna,no,no,5%,Ninguna,yes,Ninguno,Tarde (12:00 - 7:00 pm),El cliente los recoge en tienda,2,1-5%,No quiero involucrarme con la tecnolog\\xc3\\xada,Totalmente en desacuerdo,Totalmente en desacuerdo,Totalmente en desacuerdo,Totalmente en desacuerdo,Totalmente en desacuerdo,Totalmente en desacuerdo,Algo en desacuerdo,Totalmente en desacuerdo,Totalmente en desacuerdo,Totalmente en desacuerdo,Totalmente en desacuerdo,Totalmente en desacuerdo,\"En persona,Llamada telef\\xc3\\xb3nica\",Ninguno,1-2%,Ninguna,Efectivo,no,Disminuir la frecuencia de pedidos,Semanalmente,Venta cruzada (e.g. cereal + leche),Ofrecer un producto sustituto,0,Totalmente en desacuerdo,En desacuerdo,En desacuerdo,Totalmente en desacuerdo,Ni de acuerdo ni en desacuerdo,De acuerdo,Ni de acuerdo ni en desacuerdo,En desacuerdo,Totalmente en desacuerdo,Totalmente en desacuerdo,no,Jos\\xc3\\xa9 Luis,Lara,2212849486.0,ara_lib@hotmail.com,0.0,1.0,1.0,1.0,1.0,2.0,6.0,3.0,1.0,15.0,5.0,70.0,2.0,20.0,35.0,1.0,1.0,0.0\\n96,701e16f4-ceb7-4d00-bad3-57dc152cb767,\"November 16, 2022\",2022-11-16 17:46:26 UTC,Salomon Abdala Perez,SRID=4326;POINT(-98.2317552502 19.0556382359),19.0556382359,-98.2317552502,Bellecour,1 Photo,Cafeteria,no,no,yes,\"Dataphone (i.e. card payments),POS system (i.e. computer + bar code scanner + printer),Smartphone\",2 Photos,yes,yes,2019-04-16,No cambi\\xc3\\xb3,No cambi\\xc3\\xb3,yes,Software especializado + computadora,Software especializado + computadora,No los uso,yes,no,yes,\"Redes sociales (e.g. Facebook, Instagram),WhatsApp\",\"Efectivo,Tarjeta de d\\xc3\\xa9bito y/o cr\\xc3\\xa9dito\",Tarjeta de d\\xc3\\xa9bito y/o cr\\xc3\\xa9dito,no,6-10%,16-20%,2-5%,1.0,11-15%,16-20%,7.0,Efectivo,Ninguna,no,no,5%,Ninguna,no,Ninguno,Tarde (12:00 - 7:00 pm),El cliente los recoge en tienda,2,1-5%,No quiero involucrarme con la tecnolog\\xc3\\xada,Totalmente en desacuerdo,Totalmente en desacuerdo,Totalmente en desacuerdo,Totalmente en desacuerdo,Totalmente en desacuerdo,Totalmente en desacuerdo,Algo en desacuerdo,Totalmente en desacuerdo,Totalmente en desacuerdo,Totalmente en desacuerdo,Totalmente en desacuerdo,Totalmente en desacuerdo,\"En persona,Llamada telef\\xc3\\xb3nica\",Ninguno,1-2%,Ninguna,Efectivo,no,Disminuir la frecuencia de pedidos,Semanalmente,Venta cruzada (e.g. cereal + leche),Ofrecer un producto sustituto,0,Totalmente en desacuerdo,En desacuerdo,En desacuerdo,Totalmente en desacuerdo,Ni de acuerdo ni en desacuerdo,De acuerdo,Ni de acuerdo ni en desacuerdo,En desacuerdo,Totalmente en desacuerdo,Totalmente en desacuerdo,no,Jos\\xc3\\xa9 Luis,Lara,2212849486.0,ara_lib@hotmail.com,1.0,1.0,2.0,3.0,3.0,1.0,5.0,3.0,1.0,15.0,5.0,70.0,2.0,20.0,35.0,1.0,1.0,0.0\\n97,83422db2-f546-43e9-b3ff-d8854d9f559b,\"November 16, 2022\",2022-11-16 17:34:54 UTC,Salomon Abdala Perez,SRID=4326;POINT(-98.2335245252 19.0540263921),19.0540263921,-98.2335245252,Tintorer\\xc3\\xada Sango,1 Photo,Laundry Store,yes,no,no,Smartphone,2 Photos,yes,yes,1996-06-16,Aument\\xc3\\xb3 50% o m\\xc3\\xa1s,No cambi\\xc3\\xb3,yes,No lo hago,No lo hago,No los uso,yes,yes,no,\"Redes sociales (e.g. Facebook, Instagram)\",Efectivo,Tarjeta de d\\xc3\\xa9bito y/o cr\\xc3\\xa9dito,no,6-10%,16-20%,2-5%,1.0,11-15%,16-20%,7.0,Efectivo,Ninguna,no,no,5%,Ninguna,no,Ninguno,Tarde (12:00 - 7:00 pm),El cliente los recoge en tienda,2,1-5%,No quiero involucrarme con la tecnolog\\xc3\\xada,Totalmente en desacuerdo,Totalmente en desacuerdo,Totalmente en desacuerdo,Totalmente en desacuerdo,Totalmente en desacuerdo,Totalmente en desacuerdo,Algo en desacuerdo,Totalmente en desacuerdo,Totalmente en desacuerdo,Totalmente en desacuerdo,Totalmente en desacuerdo,Totalmente en desacuerdo,\"En persona,Llamada telef\\xc3\\xb3nica\",Ninguno,1-2%,Ninguna,Efectivo,no,Disminuir la frecuencia de pedidos,Semanalmente,Venta cruzada (e.g. cereal + leche),Ofrecer un producto sustituto,0,Totalmente en desacuerdo,En desacuerdo,En desacuerdo,Totalmente en desacuerdo,Ni de acuerdo ni en desacuerdo,De acuerdo,Ni de acuerdo ni en desacuerdo,En desacuerdo,Totalmente en desacuerdo,Totalmente en desacuerdo,no,Jos\\xc3\\xa9 Luis,Lara,2212849486.0,ara_lib@hotmail.com,0.0,0.0,1.0,1.0,1.0,1.0,5.0,3.0,1.0,15.0,5.0,70.0,2.0,20.0,35.0,1.0,1.0,0.0\\n98,ed213b55-55fb-471c-92cc-e96e1efa53ad,\"November 16, 2022\",2022-11-16 17:31:50 UTC,Sergio Licea,SRID=4326;POINT(-98.2044006139 19.0453610939),19.0453610939,-98.2044006139,Ross\\xc3\\xa9 Casa de Regalos,1 Photo,Micro-restaurant (aka. fondita),no,yes,no,Analog cash register,2 Photos,yes,yes,2022-11-16,No cambi\\xc3\\xb3,No cambi\\xc3\\xb3,yes,En papel,En papel,No los uso,no,no,no,Presencial,Efectivo,Tarjeta de d\\xc3\\xa9bito y/o cr\\xc3\\xa9dito,no,6-10%,16-20%,2-5%,1.0,11-15%,16-20%,7.0,Efectivo,Ninguna,no,no,5%,Ninguna,no,Ninguno,Tarde (12:00 - 7:00 pm),El cliente los recoge en tienda,2,1-5%,No quiero involucrarme con la tecnolog\\xc3\\xada,Totalmente en desacuerdo,Totalmente en desacuerdo,Totalmente en desacuerdo,Totalmente en desacuerdo,Totalmente en desacuerdo,Totalmente en desacuerdo,Algo en desacuerdo,Totalmente en desacuerdo,Totalmente en desacuerdo,Totalmente en desacuerdo,Totalmente en desacuerdo,Totalmente en desacuerdo,\"En persona,Llamada telef\\xc3\\xb3nica\",Ninguno,1-2%,Ninguna,Efectivo,no,Disminuir la frecuencia de pedidos,Diariamente,Frecuencia de venta,\"Informar al proveedor,Ofrecer un producto sustituto\",10%,Totalmente en desacuerdo,En desacuerdo,En desacuerdo,Totalmente en desacuerdo,Ni de acuerdo ni en desacuerdo,De acuerdo,Ni de acuerdo ni en desacuerdo,En desacuerdo,Totalmente en desacuerdo,Totalmente en desacuerdo,no,Jos\\xc3\\xa9 Luis,Lara,2212849486.0,ara_lib@hotmail.com,0.0,1.0,5.0,2.0,2.0,1.0,6.0,2.0,1.0,15.0,5.0,70.0,2.0,20.0,35.0,1.0,1.0,1.0\\n99,5dec192e-373d-422a-8e43-61fc73f1c9c5,\"November 16, 2022\",2022-11-16 17:26:51 UTC,Salomon Abdala Perez,SRID=4326;POINT(-98.2339912229 19.0534768766),19.0534768766,-98.2339912229,Ross\\xc3\\xa9 Casa de Regalos,1 Photo,Gift shop,no,yes,yes,\"Dataphone (i.e. card payments),Security cameras,Smartphone\",2 Photos,yes,yes,2022-11-05,No cambi\\xc3\\xb3,No cambi\\xc3\\xb3,yes,No lo hago,En Excel,No los uso,yes,no,yes,\"P\\xc3\\xa1gina web propia,Redes sociales (e.g. Facebook, Instagram),WhatsApp\",\"Aplicaci\\xc3\\xb3n m\\xc3\\xb3vil (e.g. CODI),Efectivo,Giro postal (e.g. Western Union) Cheque bancario,Tarjeta de d\\xc3\\xa9bito y/o cr\\xc3\\xa9dito,Transferencia interbancaria\",Tarjeta de d\\xc3\\xa9bito y/o cr\\xc3\\xa9dito,no,6-10%,16-20%,2-5%,1.0,11-15%,16-20%,7.0,Efectivo,Redes sociales,no,no,30%,Ninguna,no,Ninguno,Tarde (12:00 - 7:00 pm),El cliente los recoge en tienda,2,1-5%,No creo que represente grandes ingresos,Totalmente en desacuerdo,Totalmente en desacuerdo,Algo de acuerdo,Totalmente en desacuerdo,Algo en desacuerdo,Totalmente en desacuerdo,Algo de acuerdo,Algo de acuerdo,Totalmente de acuerdo,Totalmente en desacuerdo,Totalmente en desacuerdo,Totalmente en desacuerdo,\"En persona,Llamada telef\\xc3\\xb3nica,Mensajer\\xc3\\xada instant\\xc3\\xa1nea (e.g. WhatsApp),P\\xc3\\xa1gina web del proveedor\",Recompra,0,Ninguna,Efectivo,no,Disminuir la frecuencia de pedidos,Diariamente,\"Frecuencia de venta,Tama\\xc3\\xb1o\",Ofrecer un producto sustituto,30%,Totalmente de acuerdo,Totalmente de acuerdo,De acuerdo,Ni de acuerdo ni en desacuerdo,Totalmente de acuerdo,Totalmente de acuerdo,En desacuerdo,En desacuerdo,En desacuerdo,En desacuerdo,yes,Jos\\xc3\\xa9 Luis,Lara,2212849486.0,ara_lib@hotmail.com,0.0,2.0,4.0,1.0,1.0,2.0,3.0,2.0,1.0,15.0,5.0,70.0,2.0,20.0,35.0,1.0,4.0,15.0\\n100,e8c3216e-ea39-4d9f-a76c-285aa4c338fa,\"November 16, 2022\",2022-11-16 17:16:49 UTC,Salomon Abdala Perez,SRID=4326;POINT(-98.23418697 19.0530025753),19.0530025753,-98.23418697,La Piccolina,1 Photo,Dairy products,no,yes,yes,\"Dataphone (i.e. card payments),POS system (i.e. computer + bar code scanner + printer),Security cameras\",2 Photos,yes,yes,2018-07-16,No cambi\\xc3\\xb3,No cambi\\xc3\\xb3,yes,En papel,Software especializado + computadora,No los uso,yes,no,yes,\"Redes sociales (e.g. Facebook, Instagram)\",\"Efectivo,Tarjeta de d\\xc3\\xa9bito y/o cr\\xc3\\xa9dito\",Tarjeta de d\\xc3\\xa9bito y/o cr\\xc3\\xa9dito,no,6-10%,16-20%,2-5%,1.0,11-15%,16-20%,7.0,Efectivo,Redes sociales,yes,no,30%,Ninguna,no,Ninguno,Tarde (12:00 - 7:00 pm),El cliente los recoge en tienda,2,1-5%,No creo que represente grandes ingresos,Totalmente en desacuerdo,Totalmente en desacuerdo,Algo de acuerdo,Totalmente en desacuerdo,Algo en desacuerdo,Totalmente en desacuerdo,Algo de acuerdo,Algo de acuerdo,Totalmente de acuerdo,Totalmente en desacuerdo,Totalmente en desacuerdo,Totalmente en desacuerdo,\"En persona,Llamada telef\\xc3\\xb3nica,Mensajer\\xc3\\xada instant\\xc3\\xa1nea (e.g. WhatsApp),P\\xc3\\xa1gina web del proveedor\",Recompra,0,Ninguna,Efectivo,no,Disminuir la frecuencia de pedidos,Diariamente,\"Frecuencia de venta,Refrigeraci\\xc3\\xb3n\",Solicitar tiempo al cliente para conseguir el producto,0,Totalmente de acuerdo,Totalmente de acuerdo,De acuerdo,Ni de acuerdo ni en desacuerdo,Totalmente de acuerdo,Totalmente de acuerdo,En desacuerdo,En desacuerdo,En desacuerdo,En desacuerdo,no,Johnatan,Garc\\xc3\\xada Ram\\xc3\\xadrez,2224580715.0,ara_lib@hotmail.com,1.0,2.0,6.0,2.0,2.0,2.0,0.0,2.0,1.0,15.0,5.0,70.0,2.0,20.0,35.0,1.0,4.0,12.9\\n101,92896455-6763-4a0a-b726-d86b15ba6123,\"November 16, 2022\",2022-11-16 17:10:51 UTC,Salomon Abdala Perez,SRID=4326;POINT(-98.2369445793 19.0517515101),19.0517515101,-98.2369445793,Miscel\\xc3\\xa1nea Chuy,1 Photo,Grocery store (aka. nanostore),no,no,yes,\"Dataphone (i.e. card payments),POS system (i.e. computer + bar code scanner + printer),Security cameras\",2 Photos,yes,yes,1992-11-16,Aument\\xc3\\xb3 25%,Aument\\xc3\\xb3 15%,yes,Software especializado + computadora,Software especializado + computadora,No los uso,yes,no,yes,\"Llamada a Tel\\xc3\\xa9fono celular,Llamada a Tel\\xc3\\xa9fono fijo,WhatsApp\",\"Efectivo,Tarjeta de d\\xc3\\xa9bito y/o cr\\xc3\\xa9dito,Transferencia interbancaria\",Tarjeta de d\\xc3\\xa9bito y/o cr\\xc3\\xa9dito,no,6-10%,16-20%,2-5%,1.0,11-15%,16-20%,7.0,Efectivo,Ninguna,no,no,30%,Ninguna,no,Ninguno,Tarde (12:00 - 7:00 pm),El cliente los recoge en tienda,2,1-5%,No creo que represente grandes ingresos,Totalmente en desacuerdo,Totalmente en desacuerdo,Algo de acuerdo,Totalmente en desacuerdo,Algo en desacuerdo,Totalmente en desacuerdo,Algo de acuerdo,Algo de acuerdo,Totalmente de acuerdo,Totalmente en desacuerdo,Totalmente en desacuerdo,Totalmente en desacuerdo,\"En persona,Llamada telef\\xc3\\xb3nica,Mensajer\\xc3\\xada instant\\xc3\\xa1nea (e.g. WhatsApp),P\\xc3\\xa1gina web del proveedor\",Recompra,0,Ninguna,Efectivo,no,Disminuir la frecuencia de pedidos,Diariamente,\"Categor\\xc3\\xada (e.g. limpieza, aseo personal, comestibles, l\\xc3\\xa1cteos, etc.)\",Ofrecer un producto sustituto,10%,Totalmente de acuerdo,Totalmente de acuerdo,De acuerdo,Ni de acuerdo ni en desacuerdo,Totalmente de acuerdo,Totalmente de acuerdo,En desacuerdo,En desacuerdo,En desacuerdo,En desacuerdo,no,Johnatan,Garc\\xc3\\xada Ram\\xc3\\xadrez,2224580715.0,ara_lib@hotmail.com,2.0,5.0,24.0,4.0,4.0,5.0,5.0,2.0,1.0,8.0,5.0,70.0,2.0,20.0,35.0,1.0,4.0,12.9\\n102,9f5d5130-e545-4fd3-bbe2-d75b8ea5565c,\"November 16, 2022\",2022-11-16 16:31:27 UTC,Salomon Abdala Perez,SRID=4326;POINT(-98.2374751935 19.0519077066),19.0519077066,-98.2374751935,Grupo Ignis,1 Photo,Grocery store (aka. nanostore),no,no,no,\"Dataphone (i.e. card payments),POS system (i.e. computer + bar code scanner + printer),Smartphone\",2 Photos,yes,yes,2022-07-16,No cambi\\xc3\\xb3,No cambi\\xc3\\xb3,yes,Software especializado + computadora,Software especializado + computadora,No los uso,yes,no,yes,\"Llamada a Tel\\xc3\\xa9fono celular,Llamada a Tel\\xc3\\xa9fono fijo,P\\xc3\\xa1gina web propia,Redes sociales (e.g. Facebook, Instagram),WhatsApp\",\"Efectivo,Giro postal (e.g. Western Union) Cheque bancario,Tarjeta de d\\xc3\\xa9bito y/o cr\\xc3\\xa9dito,Transferencia interbancaria\",Tarjeta de d\\xc3\\xa9bito y/o cr\\xc3\\xa9dito,no,6-10%,16-20%,2-5%,1.0,11-15%,16-20%,7.0,Efectivo,Ninguna,yes,no,30%,Ninguna,no,Ninguno,Tarde (12:00 - 7:00 pm),El cliente los recoge en tienda,2,1-5%,No creo que represente grandes ingresos,Totalmente en desacuerdo,Totalmente en desacuerdo,Algo de acuerdo,Totalmente en desacuerdo,Algo en desacuerdo,Totalmente en desacuerdo,Algo de acuerdo,Algo de acuerdo,Totalmente de acuerdo,Totalmente en desacuerdo,Totalmente en desacuerdo,Totalmente en desacuerdo,\"En persona,Llamada telef\\xc3\\xb3nica,Mensajer\\xc3\\xada instant\\xc3\\xa1nea (e.g. WhatsApp),P\\xc3\\xa1gina web del proveedor\",Recompra,0,Ninguna,Efectivo,no,Disminuir la frecuencia de pedidos,Semanalmente,\"Categor\\xc3\\xada (e.g. limpieza, aseo personal, comestibles, l\\xc3\\xa1cteos, etc.)\",Ofrecer un producto sustituto,50% +,Totalmente de acuerdo,Totalmente de acuerdo,De acuerdo,Ni de acuerdo ni en desacuerdo,Totalmente de acuerdo,Totalmente de acuerdo,Totalmente de acuerdo,De acuerdo,En desacuerdo,Totalmente de acuerdo,yes,Johnatan,Garc\\xc3\\xada Ram\\xc3\\xadrez,2224580715.0,ara_lib@hotmail.com,0.0,0.0,1.0,1.0,1.0,2.0,4.0,2.0,1.0,8.0,5.0,70.0,2.0,20.0,35.0,1.0,4.0,1.0\\n103,382deb24-d266-43d2-9fae-db37aab0bd49,\"November 16, 2022\",2022-11-16 16:15:23 UTC,Salomon Abdala Perez,SRID=4326;POINT(-98.2377795464 19.0521438208),19.0521438208,-98.2377795464,Papel los gatos,1 Photo,Grocery store (aka. nanostore),yes,no,no,Smartphone,2 Photos,yes,yes,2004-05-16,Aument\\xc3\\xb3 50% o m\\xc3\\xa1s,No cambi\\xc3\\xb3,yes,En papel,En papel,No los uso,yes,no,yes,WhatsApp,Efectivo,Efectivo,no,6-10%,16-20%,2-5%,1.0,11-15%,16-20%,7.0,Efectivo,Ninguna,no,no,30%,Ninguna,no,Ninguno,Tarde (12:00 - 7:00 pm),El cliente los recoge en tienda,2,1-5%,No creo que represente grandes ingresos,Totalmente en desacuerdo,Totalmente en desacuerdo,Algo de acuerdo,Totalmente en desacuerdo,Totalmente en desacuerdo,Totalmente en desacuerdo,Algo de acuerdo,Algo de acuerdo,Totalmente de acuerdo,Totalmente en desacuerdo,Totalmente en desacuerdo,Totalmente en desacuerdo,\"En persona,Llamada telef\\xc3\\xb3nica,Mensajer\\xc3\\xada instant\\xc3\\xa1nea (e.g. WhatsApp),P\\xc3\\xa1gina web del proveedor\",Recompra,0,Ninguna,Efectivo,no,Disminuir la frecuencia de pedidos,Semanalmente,\"Categor\\xc3\\xada (e.g. limpieza, aseo personal, comestibles, l\\xc3\\xa1cteos, etc.)\",Solicitar tiempo al cliente para conseguir el producto,20%,Totalmente de acuerdo,Totalmente de acuerdo,Totalmente de acuerdo,Ni de acuerdo ni en desacuerdo,Totalmente de acuerdo,Totalmente de acuerdo,Totalmente de acuerdo,Totalmente de acuerdo,De acuerdo,Totalmente de acuerdo,yes,Aracely,De la Pe\\xc3\\xb1a,2211478441.0,ara_lib@hotmail.com,0.0,0.0,7.0,1.0,1.0,2.0,5.0,2.0,1.0,8.0,5.0,70.0,2.0,20.0,35.0,1.0,7.0,0.0\\n104,21bd9bc2-861b-409e-bf41-c27d231baf14,\"November 16, 2022\",2022-11-16 15:57:11 UTC,Salomon Abdala Perez,SRID=4326;POINT(-98.2364430474 19.05838924),19.05838924,-98.2364430474,San Martin II,1 Photo,Grocery store (aka. nanostore),no,no,yes,\"Dataphone (i.e. card payments),POS system (i.e. computer + bar code scanner + printer)\",2 Photos,yes,yes,2020-08-16,No cambi\\xc3\\xb3,No cambi\\xc3\\xb3,yes,Software especializado + computadora,Software especializado + computadora,No los uso,yes,no,yes,WhatsApp,\"Efectivo,Tarjeta de d\\xc3\\xa9bito y/o cr\\xc3\\xa9dito,Transferencia interbancaria\",Efectivo,no,6-10%,16-20%,2-5%,1.0,11-15%,16-20%,7.0,Efectivo,Ninguna,no,no,30%,Software especializado,no,Ninguno,Tarde (12:00 - 7:00 pm),El cliente los recoge en tienda,2,1-5%,No creo que represente grandes ingresos,Totalmente en desacuerdo,Totalmente en desacuerdo,Algo de acuerdo,Totalmente en desacuerdo,Totalmente en desacuerdo,Totalmente en desacuerdo,Algo de acuerdo,Algo de acuerdo,Totalmente de acuerdo,Totalmente en desacuerdo,Totalmente en desacuerdo,Totalmente en desacuerdo,\"En persona,Llamada telef\\xc3\\xb3nica,Mensajer\\xc3\\xada instant\\xc3\\xa1nea (e.g. WhatsApp),P\\xc3\\xa1gina web del proveedor\",Recompra,0,Ninguna,Efectivo,no,Disminuir la frecuencia de pedidos,Diariamente,\"Categor\\xc3\\xada (e.g. limpieza, aseo personal, comestibles, l\\xc3\\xa1cteos, etc.)\",\"Informar al proveedor,Solicitar tiempo al cliente para conseguir el producto\",20%,Totalmente de acuerdo,Totalmente de acuerdo,Totalmente de acuerdo,Ni de acuerdo ni en desacuerdo,Totalmente de acuerdo,Totalmente de acuerdo,Totalmente de acuerdo,Totalmente de acuerdo,De acuerdo,Totalmente de acuerdo,no,Lester,Pineda,2211478441.0,lester.pineda1991@gmail.com ,0.0,5.0,15.0,1.0,1.0,2.0,3.0,2.0,1.0,8.0,5.0,70.0,2.0,20.0,35.0,1.0,7.0,12.9\\n105,88f649f2-585b-4a78-8278-ffcc34de39d6,\"November 11, 2022\",2022-11-16 15:24:44 UTC,Edward Gonz\\xc3\\xa1lez,SRID=4326;POINT(-98.1935591251 19.0464189805),19.0464189805,-98.1935591251,Cremeria Lominy,1 Photo,Grocery store (aka. nanostore),no,no,yes,\"Security cameras,Smartphone\",2 Photos,yes,yes,2021-08-11,No cambi\\xc3\\xb3,No cambi\\xc3\\xb3,yes,Software especializado + computadora,Software especializado + computadora,No los uso,yes,yes,yes,WhatsApp,\"Efectivo,Transferencia interbancaria\",Efectivo,no,6-10%,16-20%,2-5%,1.0,11-15%,16-20%,7.0,Efectivo,Ninguna,no,no,30%,Ninguna,no,Ninguno,Tarde (12:00 - 7:00 pm),El cliente los recoge en tienda,2,1-5%,No creo que represente grandes ingresos,Totalmente en desacuerdo,Totalmente en desacuerdo,Algo de acuerdo,Totalmente en desacuerdo,Totalmente en desacuerdo,Totalmente en desacuerdo,Algo de acuerdo,Algo de acuerdo,Totalmente de acuerdo,Totalmente en desacuerdo,Totalmente en desacuerdo,Totalmente en desacuerdo,\"En persona,Llamada telef\\xc3\\xb3nica,Mensajer\\xc3\\xada instant\\xc3\\xa1nea (e.g. WhatsApp),P\\xc3\\xa1gina web del proveedor\",Recompra,0,Ninguna,Efectivo,no,Disminuir la frecuencia de pedidos,Diariamente,Frecuencia de venta,\"Informar al proveedor,Solicitar tiempo al cliente para conseguir el producto\",0,Totalmente de acuerdo,Totalmente de acuerdo,Totalmente de acuerdo,Ni de acuerdo ni en desacuerdo,Totalmente de acuerdo,Totalmente de acuerdo,Totalmente de acuerdo,Totalmente de acuerdo,De acuerdo,Totalmente de acuerdo,yes,Lester,Pineda,2211478441.0,lester.pineda1991@gmail.com ,1.0,3.0,24.0,2.0,2.0,2.0,3.0,2.0,1.0,8.0,5.0,70.0,2.0,20.0,35.0,1.0,7.0,18.0\\n106,7b343b0c-62be-4721-9ba0-9813af17f5ef,\"November 4, 2022\",2022-11-16 15:24:19 UTC,Sandra Carre\\xc3\\xb3n,SRID=4326;POINT(-98.2042986345 19.0433148763),19.0433148763,-98.2042986345,Miscel\\xc3\\xa1nea La \\xc3\\xbanica ,1 Photo,Dairy products,no,no,no,POS system (i.e. computer + bar code scanner + printer),2 Photos,yes,yes,2020-10-04,Aument\\xc3\\xb3 50% o m\\xc3\\xa1s,No cambi\\xc3\\xb3,yes,Software especializado + computadora,Software especializado + computadora,No los uso,yes,yes,yes,Ninguno,Efectivo,Efectivo,no,6-10%,16-20%,2-5%,1.0,11-15%,16-20%,7.0,Efectivo,Aplicaci\\xc3\\xb3n m\\xc3\\xb3vil,no,no,10%,Software especializado,no,Ninguno,Tarde (12:00 - 7:00 pm),El cliente los recoge en tienda,2,1-5%,No conozco los servicios,Totalmente de acuerdo,Totalmente de acuerdo,Totalmente en desacuerdo,Totalmente en desacuerdo,Totalmente en desacuerdo,Totalmente en desacuerdo,Totalmente en desacuerdo,Totalmente de acuerdo,Totalmente de acuerdo,Totalmente en desacuerdo,Totalmente en desacuerdo,Totalmente en desacuerdo,P\\xc3\\xa1gina web del proveedor,Descuento por compras anticipadas,1-2%,Software especializado,Efectivo,yes,Disminuir la frecuencia de pedidos,Semanalmente,\"Categor\\xc3\\xada (e.g. limpieza, aseo personal, comestibles, l\\xc3\\xa1cteos, etc.)\",Solicitar tiempo al cliente para conseguir el producto,50% +,Totalmente de acuerdo,Totalmente de acuerdo,De acuerdo,Totalmente en desacuerdo,Totalmente de acuerdo,Totalmente de acuerdo,De acuerdo,Ni de acuerdo ni en desacuerdo,Totalmente en desacuerdo,Totalmente de acuerdo,yes,Eulalia,Rodriguez,2228995733.0,lalis129269@gmail.com,4.0,5.0,6.2,0.0,2.0,2.0,5.0,7.0,1.0,8.0,5.0,70.0,2.0,20.0,35.0,1.0,2.0,2.0\\n107,fe76baca-23b9-4bec-81fd-6d7895c9b7fa,\"November 4, 2022\",2022-11-16 15:24:19 UTC,Sandra Carre\\xc3\\xb3n,SRID=4326;POINT(-98.2001744583 19.0443548594),19.0443548594,-98.2001744583,Camiser\\xc3\\xada Alfonso,1 Photo,Tailor (sastrer\\xc3\\xada),no,yes,no,\"Analog cash register,Dataphone (i.e. card payments),Security cameras,Smartphone\",2 Photos,yes,yes,1952-01-04,No cambi\\xc3\\xb3,No cambi\\xc3\\xb3,yes,Software especializado + computadora,Software especializado + computadora,No los uso,yes,no,yes,\"Redes sociales (e.g. Facebook, Instagram)\",\"Efectivo,Tarjeta de d\\xc3\\xa9bito y/o cr\\xc3\\xa9dito\",Efectivo,no,6-10%,16-20%,2-5%,1.0,11-15%,16-20%,7.0,Efectivo,\"Aplicaci\\xc3\\xb3n m\\xc3\\xb3vil,Redes sociales\",no,no,30%,En f\\xc3\\xadsico ,no,Ninguno,Tarde (12:00 - 7:00 pm),El cliente los recoge en tienda,2,1-5%,Es muy caro,Algo en desacuerdo,Totalmente en desacuerdo,Totalmente en desacuerdo,Totalmente en desacuerdo,Totalmente en desacuerdo,Totalmente en desacuerdo,Totalmente de acuerdo,Totalmente de acuerdo,Totalmente de acuerdo,Totalmente en desacuerdo,Totalmente en desacuerdo,Totalmente de acuerdo,\"Email,En persona\",\"Consignaci\\xc3\\xb3n,Descuento por compras anticipadas,Recompra\",6-8%,Excel,Transferencia interbancaria,no,Aumentar la cantidad del pedido,Mensualmente,Margen de utilidad,\"Informar al proveedor,Solicitar tiempo al cliente para conseguir el producto\",20%,De acuerdo,Totalmente en desacuerdo,Totalmente en desacuerdo,Totalmente en desacuerdo,Ni de acuerdo ni en desacuerdo,Totalmente de acuerdo,Ni de acuerdo ni en desacuerdo,De acuerdo,Totalmente en desacuerdo,Ni de acuerdo ni en desacuerdo,yes,Lourdes,Garcia ,2228995733.0,lourggg@hotmail.com,2.0,2.0,13.0,1.0,2.0,2.0,4.0,3.0,1.0,8.0,5.0,70.0,2.0,20.0,35.0,1.0,1.0,0.0\\n108,cf2a8cc9-5863-4a7d-8764-03579745bae8,\"November 15, 2022\",2022-11-16 15:24:18 UTC,Sandra Carre\\xc3\\xb3n,SRID=4326;POINT(-98.2050614545 19.0456581533),19.0456581533,-98.2050614545,Miscel\\xc3\\xa1nea Lucy,1 Photo,Grocery store (aka. nanostore),no,no,no,Analog cash register,2 Photos,yes,yes,2020-10-10,No cambi\\xc3\\xb3,No cambi\\xc3\\xb3,no,No lo hago,En papel,No los uso,yes,no,no,\"Llamada a Tel\\xc3\\xa9fono celular,Llamada a Tel\\xc3\\xa9fono fijo\",Efectivo,Efectivo,no,6-10%,16-20%,2-5%,0.0,11-15%,16-20%,7.0,Efectivo,Ninguna,no,no,10%,Ninguna,no,Ninguno,Tarde (12:00 - 7:00 pm),El cliente los recoge en tienda,0,1-5%,Es muy caro,Algo en desacuerdo,Algo en desacuerdo,Totalmente en desacuerdo,Totalmente en desacuerdo,Totalmente en desacuerdo,Totalmente en desacuerdo,Totalmente en desacuerdo,Totalmente en desacuerdo,Totalmente en desacuerdo,Totalmente en desacuerdo,Totalmente en desacuerdo,Totalmente en desacuerdo,\"En persona,Llamada telef\\xc3\\xb3nica,P\\xc3\\xa1gina web del proveedor\",Consignaci\\xc3\\xb3n,0,Ninguna,Efectivo,no,Aumentar la cantidad del pedido,Quincenalmente,\"Categor\\xc3\\xada (e.g. limpieza, aseo personal, comestibles, l\\xc3\\xa1cteos, etc.),Frecuencia de venta\",\"Informar al proveedor,Ofrecer un producto sustituto\",10%,Ni de acuerdo ni en desacuerdo,Ni de acuerdo ni en desacuerdo,Ni de acuerdo ni en desacuerdo,Totalmente en desacuerdo,De acuerdo,En desacuerdo,En desacuerdo,Totalmente en desacuerdo,Totalmente en desacuerdo,Ni de acuerdo ni en desacuerdo,no,Jesus,Luna,2228995733.0,chucho.luna_e17@outlook.es,4.0,2.0,35.0,0.0,0.0,2.0,5.0,3.0,0.0,8.0,5.0,70.0,2.0,20.0,7.1,1.0,1.0,1.0\\n109,1e37501b-43e3-4c4a-b3c6-5b2cc50b2f8c,\"November 10, 2022\",2022-11-16 15:24:15 UTC,Edward Gonz\\xc3\\xa1lez,SRID=4326;POINT(-98.2048069686 19.0474743249),19.0474743249,-98.2048069686,Mini S\\xc3\\xbaper Ohana,1 Photo,Grocery store (aka. nanostore),no,no,no,POS system (i.e. computer + bar code scanner + printer),2 Photos,yes,yes,2020-10-10,No cambi\\xc3\\xb3,No cambi\\xc3\\xb3,no,Software especializado + computadora,Software especializado + computadora,No los uso,yes,no,yes,No,\"Efectivo,Tarjeta de d\\xc3\\xa9bito y/o cr\\xc3\\xa9dito\",Efectivo,no,6-10%,16-20%,2-5%,0.0,11-15%,16-20%,7.0,Efectivo,Ninguna,no,no,15%,Ninguna,no,\"Pago de servicios p\\xc3\\xbablicos (e.g. Yastas),Recarga telef\\xc3\\xb3nica\",Tarde (12:00 - 7:00 pm),El cliente los recoge en tienda,0,1-5%,No conozco los servicios,Ni de acuerdo ni en desacuerdo,Ni de acuerdo ni en desacuerdo,Totalmente en desacuerdo,Totalmente en desacuerdo,Totalmente de acuerdo,Totalmente en desacuerdo,Totalmente en desacuerdo,Algo de acuerdo,Totalmente en desacuerdo,Totalmente en desacuerdo,Totalmente en desacuerdo,Totalmente en desacuerdo,\"En persona,Sistema especializado del proveedor (e.g. VMS)\",\"Consignaci\\xc3\\xb3n,Cr\\xc3\\xa9dito,Descuento por compras anticipadas,Recompra\",1-2%,Ninguna,\"Efectivo,Tarjeta de d\\xc3\\xa9bito y/o cr\\xc3\\xa9dito\",no,Aumentar la cantidad del pedido,Diariamente,\"Categor\\xc3\\xada (e.g. limpieza, aseo personal, comestibles, l\\xc3\\xa1cteos, etc.),Frecuencia de venta,Refrigeraci\\xc3\\xb3n\",Solicitar tiempo al cliente para conseguir el producto,0,Totalmente de acuerdo,De acuerdo,De acuerdo,Ni de acuerdo ni en desacuerdo,De acuerdo,Ni de acuerdo ni en desacuerdo,Ni de acuerdo ni en desacuerdo,En desacuerdo,Totalmente en desacuerdo,Totalmente en desacuerdo,no,Jesus,Luna,2228995733.0,chucho.luna_e17@outlook.es,1.4,1.6,6.2,3.0,2.0,1.0,4.0,3.0,0.0,8.0,5.0,70.0,2.0,20.0,7.1,1.0,6.0,1.0\\n110,eb11bb62-2a24-4ad2-ad47-fabfea19c5d2,\"November 10, 2022\",2022-11-16 15:24:14 UTC,Edward Gonz\\xc3\\xa1lez,SRID=4326;POINT(-98.1999736279 19.048723299),19.048723299,-98.1999736279,Herbital,1 Photo,Dairy products,no,no,no,POS system (i.e. computer + bar code scanner + printer),2 Photos,yes,yes,2020-06-10,No cambi\\xc3\\xb3,No se sabe,yes,\"Aplicaci\\xc3\\xb3n m\\xc3\\xb3vil (i.e. App) + smartphone,En Excel,En papel,Software especializado + computadora\",Software especializado + computadora,No los uso,no,no,yes,Solo por el negocio,Efectivo,Efectivo,no,6-10%,16-20%,2-5%,3.0,11-15%,16-20%,7.0,Efectivo,Ninguna,no,no,20%,Ninguna,no,Ninguno,Tarde (12:00 - 7:00 pm),El cliente los recoge en tienda,1%,16-20%,No conozco los servicios,Ni de acuerdo ni en desacuerdo,Ni de acuerdo ni en desacuerdo,Ni de acuerdo ni en desacuerdo,Ni de acuerdo ni en desacuerdo,Totalmente en desacuerdo,Totalmente de acuerdo,Totalmente en desacuerdo,Totalmente de acuerdo,Totalmente en desacuerdo,Totalmente en desacuerdo,Totalmente en desacuerdo,Algo de acuerdo,\"Mensaje de texto (SMS),Mensajer\\xc3\\xada instant\\xc3\\xa1nea (e.g. WhatsApp)\",Descuento por compras anticipadas,0,Software especializado,Efectivo,no,Aumentar la cantidad del pedido,Diariamente,\"Categor\\xc3\\xada (e.g. limpieza, aseo personal, comestibles, l\\xc3\\xa1cteos, etc.)\",Solicitar tiempo al cliente para conseguir el producto,20%,Totalmente de acuerdo,Totalmente de acuerdo,Totalmente de acuerdo,Totalmente en desacuerdo,Totalmente de acuerdo,Totalmente de acuerdo,Totalmente de acuerdo,Totalmente de acuerdo,De acuerdo,Totalmente de acuerdo,yes,Jesus,Luna,2228995733.0,chucho.luna_e17@outlook.es,1.0,1.0,6.2,2.0,3.0,1.0,0.0,3.0,3.0,8.0,5.0,7.0,1.0,20.0,7.0,1.0,1.0,2.0\\n111,10b58e10-e213-40e6-b7c5-02ad98126cbd,\"November 16, 2022\",2022-11-16 13:57:24 UTC,Ricardo Galindo Bulos,SRID=4326;POINT(-98.250008896 19.0306472782),19.0306472782,-98.250008896,Abarrotes Yahel,1 Photo,Grocery store (aka. nanostore),yes,no,yes,\"Analog cash register,POS system (i.e. computer + bar code scanner + printer),Security cameras,Smartphone\",2 Photos,yes,yes,2017-11-16,No cambi\\xc3\\xb3,Aument\\xc3\\xb3 15%,yes,Software especializado + computadora,Software especializado + computadora,No los uso,yes,no,yes,\"Aplicaci\\xc3\\xb3n m\\xc3\\xb3vil (e.g. Rappi, Uber Eats),Llamada a Tel\\xc3\\xa9fono celular\",\"Efectivo,Tarjeta de d\\xc3\\xa9bito y/o cr\\xc3\\xa9dito,Transferencia interbancaria\",Efectivo,no,6-10%,16-20%,2-5%,3.0,11-15%,16-20%,7.0,Efectivo,\"Aplicaci\\xc3\\xb3n m\\xc3\\xb3vil,Redes sociales\",no,no,15%,Software especializado,no,Ninguno,Tarde (12:00 - 7:00 pm),El cliente los recoge en tienda,1%,16-20%,\"Es muy caro,No creo que represente grandes ingresos\",Algo en desacuerdo,Totalmente en desacuerdo,Ni de acuerdo ni en desacuerdo,Totalmente en desacuerdo,Algo de acuerdo,Algo de acuerdo,Algo de acuerdo,Algo de acuerdo,Algo de acuerdo,Algo de acuerdo,Algo en desacuerdo,Algo en desacuerdo,En persona,ninguno,0,Software especializado,Efectivo,yes,Aumentar la cantidad del pedido,Diariamente,\"Categor\\xc3\\xada (e.g. limpieza, aseo personal, comestibles, l\\xc3\\xa1cteos, etc.),Tama\\xc3\\xb1o\",\"Ofrecer un producto sustituto,Solicitar tiempo al cliente para conseguir el producto\",20%,Totalmente de acuerdo,Totalmente de acuerdo,Totalmente de acuerdo,Totalmente de acuerdo,Totalmente de acuerdo,Totalmente de acuerdo,Totalmente de acuerdo,Totalmente de acuerdo,Totalmente de acuerdo,Totalmente de acuerdo,yes,Ines ,Gonz\\xc3\\xa1lez ,2228995733.0,f0180003@gmail.com,3.0,5.0,9.0,2.0,2.0,1.0,2.0,3.0,3.0,8.0,5.0,7.0,1.0,20.0,7.0,1.0,3.0,4.0\\n112,a19e28b0-a5fe-4fb8-9752-985763e586a7,\"November 16, 2022\",2022-11-16 13:51:27 UTC,Ricardo Galindo Bulos,SRID=4326;POINT(-98.2500025257 19.0305021145),19.0305021145,-98.2500025257,Mr Burger,1 Photo,Micro-restaurant (aka. fondita),no,yes,yes,\"Security cameras,Smartphone\",2 Photos,yes,yes,2021-10-16,Aument\\xc3\\xb3 50% o m\\xc3\\xa1s,Aument\\xc3\\xb3 15%,yes,En papel,En papel,No los uso,yes,no,yes,\"Aplicaci\\xc3\\xb3n m\\xc3\\xb3vil (e.g. Rappi, Uber Eats),Llamada a Tel\\xc3\\xa9fono celular\",\"Efectivo,Tarjeta de d\\xc3\\xa9bito y/o cr\\xc3\\xa9dito,Transferencia interbancaria\",Efectivo,no,6-10%,16-20%,2-5%,3.0,11-15%,16-20%,7.0,Efectivo,\"Aplicaci\\xc3\\xb3n m\\xc3\\xb3vil,Redes sociales\",no,no,25%,Cuaderno,yes,Ninguno,Tarde (12:00 - 7:00 pm),El cliente los recoge en tienda,1%,16-20%,\"Es muy caro,No creo que represente grandes ingresos\",Algo en desacuerdo,Totalmente en desacuerdo,Ni de acuerdo ni en desacuerdo,Totalmente en desacuerdo,Algo de acuerdo,Algo de acuerdo,Ni de acuerdo ni en desacuerdo,Algo de acuerdo,Totalmente de acuerdo,Algo de acuerdo,Algo de acuerdo,Algo de acuerdo,\"Mensajer\\xc3\\xada instant\\xc3\\xa1nea (e.g. WhatsApp),P\\xc3\\xa1gina web del proveedor\",ninguno,0,Cuaderno,\"Efectivo,Tarjeta de d\\xc3\\xa9bito y/o cr\\xc3\\xa9dito\",yes,Aumentar la variedad de productos.,Quincenalmente,\"Categor\\xc3\\xada (e.g. limpieza, aseo personal, comestibles, l\\xc3\\xa1cteos, etc.),Frecuencia de venta,Tama\\xc3\\xb1o\",Ofrecer un producto sustituto,10%,De acuerdo,De acuerdo,De acuerdo,De acuerdo,De acuerdo,De acuerdo,De acuerdo,De acuerdo,De acuerdo,De acuerdo,yes,Alejandro,Gonz\\xc3\\xa1lez ,2225431447.0,f0180003@gmail.com,2.0,1.0,1.0,2.0,1.0,1.0,2.0,3.0,3.0,8.0,5.0,7.0,1.0,20.0,7.0,1.0,6.0,8.0\\n113,86d2b0af-1c97-4ae5-807c-afaef50d949f,\"November 16, 2022\",2022-11-16 13:37:41 UTC,Ricardo Galindo Bulos,SRID=4326;POINT(-98.2499746978 19.0271398573),19.0271398573,-98.2499746978,Limpieza y m\\xc3\\xa1s ,1 Photo,Productos de Limpieza ,yes,no,no,\"Security cameras,Smartphone\",2 Photos,yes,yes,2018-05-16,Aument\\xc3\\xb3 15%,No cambi\\xc3\\xb3,yes,En Excel,En Excel,No los uso,no,no,yes,\"Llamada a Tel\\xc3\\xa9fono celular,Redes sociales (e.g. Facebook, Instagram),WhatsApp\",\"Efectivo,Transferencia interbancaria\",Efectivo,no,6-10%,16-20%,2-5%,3.0,11-15%,16-20%,7.0,Efectivo,Redes sociales,no,no,50% +,Excel,no,Ninguno,Tarde (12:00 - 7:00 pm),El cliente los recoge en tienda,1%,16-20%,\"Es muy caro,No creo que represente grandes ingresos\",Algo en desacuerdo,Totalmente en desacuerdo,Ni de acuerdo ni en desacuerdo,Totalmente en desacuerdo,Algo de acuerdo,Ni de acuerdo ni en desacuerdo,Ni de acuerdo ni en desacuerdo,Algo en desacuerdo,Totalmente en desacuerdo,Algo de acuerdo,Totalmente en desacuerdo,Algo de acuerdo,\"En persona,Llamada telef\\xc3\\xb3nica,Mensajer\\xc3\\xada instant\\xc3\\xa1nea (e.g. WhatsApp)\",ninguno,0,Excel,Efectivo,yes,Aumentar la variedad de productos.,Diariamente,\"Categor\\xc3\\xada (e.g. limpieza, aseo personal, comestibles, l\\xc3\\xa1cteos, etc.),Frecuencia de venta,Tama\\xc3\\xb1o\",\"Informar al proveedor,Solicitar tiempo al cliente para conseguir el producto\",10%,De acuerdo,De acuerdo,Totalmente de acuerdo,De acuerdo,Totalmente de acuerdo,En desacuerdo,Totalmente de acuerdo,Totalmente de acuerdo,Totalmente de acuerdo,Totalmente de acuerdo,yes,Estela ,Cortes,22118284240.0,f0180003@gmail.com,1.0,2.0,4.0,0.0,0.0,1.0,2.0,3.0,3.0,8.0,5.0,7.0,1.0,20.0,7.0,1.0,1.0,0.0\\n114,18fc22d3-5cda-4f01-a74f-48d25a520dc8,\"November 14, 2022\",2022-11-16 13:26:14 UTC,Ricardo Galindo Bulos,SRID=4326;POINT(-98.249852322 19.0262251138),19.0262251138,-98.249852322,Tienda Vero,1 Photo,Grocery store (aka. nanostore),yes,no,yes,Smartphone,1 Photo,yes,yes,2022-11-03,No cambi\\xc3\\xb3,No cambi\\xc3\\xb3,no,No lo hago,No lo hago,No los uso,no,yes,no,ninguno,Efectivo,Efectivo,yes,6-10%,16-20%,2-5%,3.0,11-15%,16-20%,7.0,\"Tarjeta de d\\xc3\\xa9bito y/o cr\\xc3\\xa9dito,Transferencia interbancaria\",Ninguna,no,no,5%,Ninguna,no,Ninguno,Tarde (12:00 - 7:00 pm),El cliente los recoge en tienda,1%,16-20%,\"Es muy caro,No creo que represente grandes ingresos\",Algo en desacuerdo,Totalmente en desacuerdo,Ni de acuerdo ni en desacuerdo,Totalmente en desacuerdo,Totalmente en desacuerdo,Totalmente en desacuerdo,Algo de acuerdo,Algo en desacuerdo,Totalmente en desacuerdo,Totalmente en desacuerdo,Totalmente en desacuerdo,Algo de acuerdo,\"En persona,Llamada telef\\xc3\\xb3nica,Mensajer\\xc3\\xada instant\\xc3\\xa1nea (e.g. WhatsApp)\",ninguno,0,Ninguna,Efectivo,no,\"Aumentar la variedad de productos.,Disminuir la frecuencia de pedidos\",Diariamente,\"Categor\\xc3\\xada (e.g. limpieza, aseo personal, comestibles, l\\xc3\\xa1cteos, etc.)\",\"Informar al proveedor,Solicitar tiempo al cliente para conseguir el producto\",30%,Totalmente en desacuerdo,Totalmente en desacuerdo,En desacuerdo,Totalmente en desacuerdo,En desacuerdo,En desacuerdo,Totalmente en desacuerdo,Totalmente en desacuerdo,Totalmente en desacuerdo,Totalmente en desacuerdo,no,Imelda,Hern\\xc3\\xa1ndez G\\xc3\\xb3mez,2221764327.0,f0180003@gmail.com,2.0,2.0,4.0,2.0,0.0,1.0,7.0,3.0,3.0,8.0,5.0,7.0,1.0,20.0,7.0,1.0,2.0,5.0\\n115,c1bf4d4b-abb0-4c49-942a-b162cdcef09e,\"November 15, 2022\",2022-11-16 13:25:50 UTC,Ricardo Galindo Bulos,SRID=4326;POINT(-98.2498636 19.0256446),19.0256446,-98.2498636,Mini super Wolf,2 Photos,Grocery store (aka. nanostore),no,yes,yes,Smartphone,1 Photo,yes,yes,2017-05-12,No cambi\\xc3\\xb3,Disminuy\\xc3\\xb3 15%,no,No lo hago,En papel,No los uso,yes,yes,no,ninguno,Efectivo,Efectivo,yes,6-10%,16-20%,2-5%,3.0,11-15%,16-20%,7.0,\"Tarjeta de d\\xc3\\xa9bito y/o cr\\xc3\\xa9dito,Transferencia interbancaria\",Cuaderno,no,no,15%,Ninguna,no,Ninguno,Tarde (12:00 - 7:00 pm),El cliente los recoge en tienda,1%,16-20%,\"Es muy caro,No creo que represente grandes ingresos\",Algo en desacuerdo,Totalmente en desacuerdo,Ni de acuerdo ni en desacuerdo,Totalmente en desacuerdo,Totalmente en desacuerdo,Totalmente en desacuerdo,Algo de acuerdo,Algo en desacuerdo,Totalmente en desacuerdo,Totalmente en desacuerdo,Totalmente en desacuerdo,Algo de acuerdo,\"En persona,Llamada telef\\xc3\\xb3nica,Mensajer\\xc3\\xada instant\\xc3\\xa1nea (e.g. WhatsApp)\",ninguno,0,Ninguna,Efectivo,no,\"Aumentar la variedad de productos.,Disminuir la frecuencia de pedidos\",Semanalmente,\"Categor\\xc3\\xada (e.g. limpieza, aseo personal, comestibles, l\\xc3\\xa1cteos, etc.)\",\"Ofrecer un producto sustituto,Solicitar tiempo al cliente para conseguir el producto\",30%,Totalmente en desacuerdo,Totalmente en desacuerdo,En desacuerdo,Totalmente en desacuerdo,En desacuerdo,En desacuerdo,Totalmente en desacuerdo,Totalmente en desacuerdo,Totalmente en desacuerdo,Totalmente en desacuerdo,no,Imelda,Hern\\xc3\\xa1ndez G\\xc3\\xb3mez,2221764327.0,f0180003@gmail.com,1.0,9.0,12.0,1.0,0.0,0.0,5.0,3.0,3.0,8.0,5.0,7.0,1.0,20.0,7.0,1.0,2.0,15.0\\n116,2a7cf500-6f6e-4a44-a50a-7b24947512f4,\"November 14, 2022\",2022-11-16 13:25:33 UTC,Ricardo Galindo Bulos,SRID=4326;POINT(-98.2499710098 19.0258304984),19.0258304984,-98.2499710098,Mini S\\xc3\\xbaper Wolf,1 Photo,Grocery store (aka. nanostore),no,yes,no,Security cameras,1 Photo,yes,yes,2022-05-09,No cambi\\xc3\\xb3,No cambi\\xc3\\xb3,yes,En Excel,En Excel,No los uso,no,no,yes,ninguno ,Efectivo,Efectivo,yes,6-10%,16-20%,2-5%,3.0,11-15%,16-20%,7.0,\"Tarjeta de d\\xc3\\xa9bito y/o cr\\xc3\\xa9dito,Transferencia interbancaria\",Ninguna,no,no,10%,Ninguna,no,\"Entrega a domicilio,Recarga telef\\xc3\\xb3nica\",Tarde (12:00 - 7:00 pm),El cliente los recoge en tienda,1%,16-20%,\"No conozco los servicios,No quiero involucrarme con la tecnolog\\xc3\\xada\",Totalmente en desacuerdo,Totalmente en desacuerdo,Totalmente en desacuerdo,Totalmente en desacuerdo,Ni de acuerdo ni en desacuerdo,Ni de acuerdo ni en desacuerdo,Algo de acuerdo,Totalmente en desacuerdo,Algo en desacuerdo,Totalmente en desacuerdo,Totalmente en desacuerdo,Algo en desacuerdo,\"En persona,Llamada telef\\xc3\\xb3nica,Mensaje de texto (SMS)\",Ninguno,0,Ninguna,Efectivo,no,\"Aumentar la variedad de productos.,Disminuir la frecuencia de pedidos\",Diariamente,\"Categor\\xc3\\xada (e.g. limpieza, aseo personal, comestibles, l\\xc3\\xa1cteos, etc.)\",\"Informar al proveedor,Ofrecer un producto sustituto,Perder la venta\",10%,Totalmente de acuerdo,De acuerdo,De acuerdo,En desacuerdo,Ni de acuerdo ni en desacuerdo,En desacuerdo,En desacuerdo,Totalmente en desacuerdo,Totalmente en desacuerdo,Totalmente en desacuerdo,yes,Imelda,Hern\\xc3\\xa1ndez G\\xc3\\xb3mez,2221764327.0,f0180003@gmail.com,3.0,6.0,8.0,0.0,0.0,0.0,6.0,7.0,3.0,8.0,5.0,7.0,1.0,20.0,7.0,1.0,6.0,0.0\\n117,7670e6ad-b7db-4371-9c74-9bacbbe57978,\"November 8, 2022\",2022-11-16 13:25:10 UTC,Ricardo Galindo Bulos,SRID=4326;POINT(-98.2499750331 19.0254545827),19.0254545827,-98.2499750331,Ferreter\\xc3\\xada Flores,2 Photos,Ferreter\\xc3\\xada,yes,no,no,\"Analog cash register,Security cameras,Smartphone\",2 Photos,yes,yes,2012-11-08,No cambi\\xc3\\xb3,No cambi\\xc3\\xb3,yes,En papel,En papel,No los uso,no,no,yes,ninguno ,Efectivo,Efectivo,yes,6-10%,16-20%,2-5%,3.0,11-15%,16-20%,7.0,\"Tarjeta de d\\xc3\\xa9bito y/o cr\\xc3\\xa9dito,Transferencia interbancaria\",Cuaderno,yes,no,25%,\"Cuaderno,Ninguna\",no,Ninguno,Tarde (12:00 - 7:00 pm),El cliente los recoge en tienda,1%,16-20%,\"No conozco los servicios,No quiero involucrarme con la tecnolog\\xc3\\xada\",Totalmente en desacuerdo,Totalmente en desacuerdo,Totalmente en desacuerdo,Totalmente en desacuerdo,Totalmente en desacuerdo,Algo en desacuerdo,Algo de acuerdo,Totalmente en desacuerdo,Algo en desacuerdo,Totalmente en desacuerdo,Totalmente en desacuerdo,Algo en desacuerdo,\"En persona,Mensaje de texto (SMS)\",Ninguno,0,Cuaderno,Efectivo,no,\"Aumentar la variedad de productos.,Disminuir la frecuencia de pedidos\",Diariamente,Tama\\xc3\\xb1o,\"Informar al proveedor,Ofrecer un producto sustituto,Solicitar tiempo al cliente para conseguir el producto\",10%,Totalmente en desacuerdo,De acuerdo,De acuerdo,En desacuerdo,Ni de acuerdo ni en desacuerdo,En desacuerdo,En desacuerdo,Totalmente en desacuerdo,Totalmente en desacuerdo,Totalmente en desacuerdo,yes,Carlos ,Ram\\xc3\\xadrez ocelotl,2211971528.0,f0180003@gmail.com,1.0,0.0,10.0,0.0,0.0,0.0,1.0,7.0,3.0,8.0,5.0,7.0,1.0,20.0,7.0,1.0,3.0,0.0\\n118,acb3b295-21d8-4449-8fbf-7e80cea60763,\"November 8, 2022\",2022-11-16 13:24:25 UTC,Ricardo Galindo Bulos,SRID=4326;POINT(-98.2503433 19.0264402),19.0264402,-98.2503433,Miscelanea L\\xc3\\xb3pez,1 Photo,Grocery store (aka. nanostore),no,no,yes,Analog cash register,1 Photo,yes,yes,2007-09-07,No cambi\\xc3\\xb3,No cambi\\xc3\\xb3,no,No lo hago,No lo hago,No los uso,yes,yes,no,ninguno ,Efectivo,Efectivo,yes,6-10%,16-20%,2-5%,3.0,11-15%,16-20%,7.0,\"Tarjeta de d\\xc3\\xa9bito y/o cr\\xc3\\xa9dito,Transferencia interbancaria\",Ninguna,no,no,10%,Ninguna,no,Ninguno,Tarde (12:00 - 7:00 pm),El cliente los recoge en tienda,1%,16-20%,\"No conozco los servicios,No quiero involucrarme con la tecnolog\\xc3\\xada\",Totalmente en desacuerdo,Totalmente en desacuerdo,Totalmente en desacuerdo,Totalmente en desacuerdo,Totalmente en desacuerdo,Algo en desacuerdo,Ni de acuerdo ni en desacuerdo,Algo de acuerdo,Algo en desacuerdo,Totalmente en desacuerdo,Totalmente en desacuerdo,Algo en desacuerdo,\"En persona,Llamada telef\\xc3\\xb3nica\",Ninguno,0,Ninguna,Efectivo,no,\"Aumentar la variedad de productos.,Disminuir la frecuencia de pedidos\",Semanalmente,\"Categor\\xc3\\xada (e.g. limpieza, aseo personal, comestibles, l\\xc3\\xa1cteos, etc.)\",Ofrecer un producto sustituto,0,Totalmente en desacuerdo,Totalmente en desacuerdo,Totalmente en desacuerdo,Totalmente en desacuerdo,Ni de acuerdo ni en desacuerdo,En desacuerdo,En desacuerdo,Totalmente en desacuerdo,Totalmente en desacuerdo,Totalmente en desacuerdo,no,Carlos ,Ram\\xc3\\xadrez ocelotl,2211971528.0,f0180003@gmail.com,0.0,6.0,14.0,0.0,0.0,0.0,3.0,7.0,3.0,8.0,5.0,7.0,1.0,20.0,7.0,1.0,1.0,0.0\\n119,0f9d5024-a2f1-4515-9a0f-05d842a231cc,\"November 10, 2022\",2022-11-16 02:03:36 UTC,Jos\\xc3\\xa9 Priego,SRID=4326;POINT(-98.2633147 19.0345027),19.0345027,-98.2633147,Frutas y verduras ,1 Photo,Produce (fruits & vegetables),no,no,no,Security cameras,1 Photo,no,no,2020-11-10,Aument\\xc3\\xb3 15%,No cambi\\xc3\\xb3,yes,En Excel,En papel,No los uso,no,yes,yes,ninguno ,Efectivo,Efectivo,yes,6-10%,16-20%,2-5%,3.0,11-15%,16-20%,7.0,\"Tarjeta de d\\xc3\\xa9bito y/o cr\\xc3\\xa9dito,Transferencia interbancaria\",Redes sociales,yes,no,10%,Aplicaci\\xc3\\xb3n m\\xc3\\xb3vil,no,Ninguno,Tarde (12:00 - 7:00 pm),El cliente los recoge en tienda,1%,16-20%,Es muy caro,Ni de acuerdo ni en desacuerdo,Totalmente de acuerdo,Algo en desacuerdo,Ni de acuerdo ni en desacuerdo,Ni de acuerdo ni en desacuerdo,Totalmente de acuerdo,Algo de acuerdo,Totalmente de acuerdo,Algo de acuerdo,Algo de acuerdo,Totalmente de acuerdo,Ni de acuerdo ni en desacuerdo,\"Llamada telef\\xc3\\xb3nica,Mensaje de texto (SMS)\",Consignaci\\xc3\\xb3n,6-8%,Aplicaci\\xc3\\xb3n m\\xc3\\xb3vil,Tarjeta de d\\xc3\\xa9bito y/o cr\\xc3\\xa9dito,no,\"Aumentar la variedad de productos.,Disminuir la frecuencia de pedidos\",Semanalmente,Frecuencia de venta,Ofrecer un producto sustituto,20%,Ni de acuerdo ni en desacuerdo,En desacuerdo,Totalmente en desacuerdo,Totalmente en desacuerdo,Ni de acuerdo ni en desacuerdo,Totalmente de acuerdo,Totalmente de acuerdo,Totalmente de acuerdo,De acuerdo,De acuerdo,no,Carlos ,Ram\\xc3\\xadrez ocelotl,2211971528.0,f0180003@gmail.com,1.0,1.0,1.0,0.0,0.0,0.0,8.0,7.0,3.0,8.0,5.0,7.0,1.0,20.0,7.0,1.0,2.0,2.0\\n120,98d65694-6aaf-4709-80d8-66527b0d8fcb,\"November 10, 2022\",2022-11-16 02:03:36 UTC,Jos\\xc3\\xa9 Priego,SRID=4326;POINT(-98.2632294 19.0344146),19.0344146,-98.2632294,El rinc\\xc3\\xb3n casero ,1 Photo,Micro-restaurant (aka. fondita),no,no,no,POS system (i.e. computer + bar code scanner + printer),1 Photo,no,no,2020-11-10,Aument\\xc3\\xb3 15%,No cambi\\xc3\\xb3,yes,En Excel,En papel,No los uso,no,yes,yes,ninguno ,Efectivo,Efectivo,yes,6-10%,16-20%,2-5%,3.0,11-15%,16-20%,7.0,\"Tarjeta de d\\xc3\\xa9bito y/o cr\\xc3\\xa9dito,Transferencia interbancaria\",Redes sociales,yes,no,10%,Aplicaci\\xc3\\xb3n m\\xc3\\xb3vil,no,Ninguno,Tarde (12:00 - 7:00 pm),El cliente los recoge en tienda,1%,16-20%,Es muy caro,Ni de acuerdo ni en desacuerdo,Totalmente de acuerdo,Algo en desacuerdo,Ni de acuerdo ni en desacuerdo,Ni de acuerdo ni en desacuerdo,Totalmente de acuerdo,Algo de acuerdo,Totalmente de acuerdo,Algo de acuerdo,Algo de acuerdo,Totalmente de acuerdo,Ni de acuerdo ni en desacuerdo,\"Llamada telef\\xc3\\xb3nica,Mensaje de texto (SMS)\",Consignaci\\xc3\\xb3n,6-8%,Aplicaci\\xc3\\xb3n m\\xc3\\xb3vil,Tarjeta de d\\xc3\\xa9bito y/o cr\\xc3\\xa9dito,no,\"Aumentar la variedad de productos.,Disminuir la frecuencia de pedidos\",Semanalmente,Frecuencia de venta,Ofrecer un producto sustituto,20%,Ni de acuerdo ni en desacuerdo,En desacuerdo,Totalmente en desacuerdo,Totalmente en desacuerdo,Ni de acuerdo ni en desacuerdo,Totalmente de acuerdo,Totalmente de acuerdo,Totalmente de acuerdo,De acuerdo,De acuerdo,no,Carlos ,Ram\\xc3\\xadrez ocelotl,2211971528.0,f0180003@gmail.com,2.0,1.0,1.0,0.0,0.0,0.0,8.0,7.0,3.0,8.0,5.0,7.0,1.0,20.0,7.0,1.0,2.0,2.0\\n121,869961d1-9836-48b1-9c98-c7f4c3b8304a,\"November 10, 2022\",2022-11-16 02:03:35 UTC,Jos\\xc3\\xa9 Priego,SRID=4326;POINT(-98.26257 19.0357478),19.0357478,-98.26257,Alva Salon,1 Photo,barberia ,no,no,no,Security cameras,1 Photo,no,no,2020-11-10,Aument\\xc3\\xb3 15%,No cambi\\xc3\\xb3,yes,En Excel,En papel,No los uso,no,yes,yes,ninguno ,Efectivo,Efectivo,yes,6-10%,16-20%,2-5%,3.0,11-15%,16-20%,7.0,\"Tarjeta de d\\xc3\\xa9bito y/o cr\\xc3\\xa9dito,Transferencia interbancaria\",Redes sociales,yes,no,10%,Aplicaci\\xc3\\xb3n m\\xc3\\xb3vil,no,Ninguno,Tarde (12:00 - 7:00 pm),El cliente los recoge en tienda,1%,16-20%,Es muy caro,Ni de acuerdo ni en desacuerdo,Totalmente de acuerdo,Algo en desacuerdo,Ni de acuerdo ni en desacuerdo,Ni de acuerdo ni en desacuerdo,Totalmente de acuerdo,Algo de acuerdo,Totalmente de acuerdo,Algo de acuerdo,Algo de acuerdo,Totalmente de acuerdo,Ni de acuerdo ni en desacuerdo,\"Llamada telef\\xc3\\xb3nica,Mensaje de texto (SMS)\",Consignaci\\xc3\\xb3n,6-8%,Aplicaci\\xc3\\xb3n m\\xc3\\xb3vil,Tarjeta de d\\xc3\\xa9bito y/o cr\\xc3\\xa9dito,no,\"Aumentar la variedad de productos.,Disminuir la frecuencia de pedidos\",Semanalmente,Frecuencia de venta,Ofrecer un producto sustituto,20%,Ni de acuerdo ni en desacuerdo,En desacuerdo,Totalmente en desacuerdo,Totalmente en desacuerdo,Ni de acuerdo ni en desacuerdo,Totalmente de acuerdo,Totalmente de acuerdo,Totalmente de acuerdo,De acuerdo,De acuerdo,no,Carlos ,Ram\\xc3\\xadrez ocelotl,2211971528.0,f0180003@gmail.com,0.0,1.0,1.0,0.0,0.0,0.0,8.0,7.0,3.0,8.0,5.0,7.0,1.0,20.0,7.0,1.0,2.0,2.0\\n122,47b84970-740f-4520-ba2b-a6c364688c96,\"November 10, 2022\",2022-11-16 02:03:35 UTC,Jos\\xc3\\xa9 Priego,SRID=4326;POINT(-98.2625778 19.0356653),19.0356653,-98.2625778,Urigama ,1 Photo,Dairy products,no,no,no,Dataphone (i.e. card payments),1 Photo,yes,yes,2020-11-10,Aument\\xc3\\xb3 15%,No cambi\\xc3\\xb3,yes,En Excel,En papel,No los uso,no,yes,yes,ninguno ,Efectivo,Efectivo,yes,6-10%,16-20%,2-5%,3.0,11-15%,16-20%,7.0,\"Tarjeta de d\\xc3\\xa9bito y/o cr\\xc3\\xa9dito,Transferencia interbancaria\",Redes sociales,yes,no,10%,Aplicaci\\xc3\\xb3n m\\xc3\\xb3vil,no,Ninguno,Tarde (12:00 - 7:00 pm),El cliente los recoge en tienda,1%,16-20%,Es muy caro,Ni de acuerdo ni en desacuerdo,Totalmente de acuerdo,Algo en desacuerdo,Ni de acuerdo ni en desacuerdo,Ni de acuerdo ni en desacuerdo,Totalmente de acuerdo,Algo de acuerdo,Totalmente de acuerdo,Algo de acuerdo,Algo de acuerdo,Totalmente de acuerdo,Ni de acuerdo ni en desacuerdo,\"Llamada telef\\xc3\\xb3nica,Mensaje de texto (SMS)\",Consignaci\\xc3\\xb3n,6-8%,Aplicaci\\xc3\\xb3n m\\xc3\\xb3vil,Tarjeta de d\\xc3\\xa9bito y/o cr\\xc3\\xa9dito,no,\"Aumentar la variedad de productos.,Disminuir la frecuencia de pedidos\",Semanalmente,Frecuencia de venta,Ofrecer un producto sustituto,20%,Ni de acuerdo ni en desacuerdo,En desacuerdo,Totalmente en desacuerdo,Totalmente en desacuerdo,Ni de acuerdo ni en desacuerdo,Totalmente de acuerdo,Totalmente de acuerdo,Totalmente de acuerdo,De acuerdo,De acuerdo,no,Carlos ,Ram\\xc3\\xadrez ocelotl,2211971528.0,f0180003@gmail.com,1.0,1.0,1.0,0.0,0.0,0.0,8.0,7.0,3.0,8.0,5.0,7.0,1.0,20.0,7.0,1.0,2.0,2.0\\n123,2db62e17-c2ac-475f-8e8f-026d4ac79f08,\"November 10, 2022\",2022-11-16 02:03:34 UTC,Jos\\xc3\\xa9 Priego,SRID=4326;POINT(-98.2627914 19.0365369),19.0365369,-98.2627914,Don beto ,1 Photo,Dairy products,no,no,yes,Analog cash register,1 Photo,no,no,2021-11-10,Disminuy\\xc3\\xb3 15%,No cambi\\xc3\\xb3,yes,Software especializado + computadora,En Excel,No los uso,yes,yes,yes,Llamada a Tel\\xc3\\xa9fono celular,\"Tarjeta de d\\xc3\\xa9bito y/o cr\\xc3\\xa9dito,Transferencia interbancaria\",Efectivo,yes,6-10%,16-20%,2-5%,3.0,11-15%,16-20%,7.0,\"Tarjeta de d\\xc3\\xa9bito y/o cr\\xc3\\xa9dito,Transferencia interbancaria\",Excel,yes,no,25%,Cuaderno,yes,Recarga telef\\xc3\\xb3nica,Tarde (12:00 - 7:00 pm),El cliente los recoge en tienda,1%,16-20%,No conozco los servicios,Totalmente en desacuerdo,Algo en desacuerdo,Algo de acuerdo,Totalmente de acuerdo,Totalmente en desacuerdo,Ni de acuerdo ni en desacuerdo,Algo de acuerdo,Algo en desacuerdo,Totalmente en desacuerdo,Ni de acuerdo ni en desacuerdo,Ni de acuerdo ni en desacuerdo,Totalmente en desacuerdo,\"En persona,Llamada telef\\xc3\\xb3nica\",Consignaci\\xc3\\xb3n,3-5%,\"Aplicaci\\xc3\\xb3n m\\xc3\\xb3vil,Excel\",\"Efectivo,Tarjeta de d\\xc3\\xa9bito y/o cr\\xc3\\xa9dito\",no,\"Aumentar la variedad de productos.,Disminuir la frecuencia de pedidos\",Semanalmente,\"Frecuencia de venta,Precio\",Ofrecer un producto sustituto,30%,En desacuerdo,Totalmente en desacuerdo,De acuerdo,De acuerdo,Totalmente en desacuerdo,En desacuerdo,De acuerdo,De acuerdo,De acuerdo,Totalmente de acuerdo,no,Carlos ,Ram\\xc3\\xadrez ocelotl,2211971528.0,f0180003@gmail.com,1.0,1.0,1.0,1.0,0.0,1.0,2.0,2.0,3.0,2.0,3.0,7.0,1.0,20.0,7.0,1.0,2.0,4.0\\n124,01976241-b2c9-4d9f-bd0c-fa49d9d54215,\"November 10, 2022\",2022-11-16 02:03:34 UTC,Jos\\xc3\\xa9 Priego,SRID=4326;POINT(-98.2625062 19.0364042),19.0364042,-98.2625062,Polleria Rosi ,1 Photo,Produce (fruits & vegetables),no,no,no,Smartphone,1 Photo,yes,yes,2021-11-10,Disminuy\\xc3\\xb3 15%,No cambi\\xc3\\xb3,yes,Software especializado + computadora,En Excel,No los uso,yes,yes,yes,Llamada a Tel\\xc3\\xa9fono celular,\"Tarjeta de d\\xc3\\xa9bito y/o cr\\xc3\\xa9dito,Transferencia interbancaria\",Efectivo,yes,6-10%,16-20%,2-5%,3.0,11-15%,16-20%,7.0,\"Tarjeta de d\\xc3\\xa9bito y/o cr\\xc3\\xa9dito,Transferencia interbancaria\",Excel,yes,no,25%,Cuaderno,yes,Recarga telef\\xc3\\xb3nica,Tarde (12:00 - 7:00 pm),El cliente los recoge en tienda,1%,16-20%,No conozco los servicios,Totalmente en desacuerdo,Algo en desacuerdo,Algo de acuerdo,Totalmente de acuerdo,Totalmente en desacuerdo,Ni de acuerdo ni en desacuerdo,Algo de acuerdo,Algo en desacuerdo,Totalmente en desacuerdo,Ni de acuerdo ni en desacuerdo,Ni de acuerdo ni en desacuerdo,Totalmente en desacuerdo,\"En persona,Llamada telef\\xc3\\xb3nica\",Consignaci\\xc3\\xb3n,3-5%,\"Aplicaci\\xc3\\xb3n m\\xc3\\xb3vil,Excel\",\"Efectivo,Tarjeta de d\\xc3\\xa9bito y/o cr\\xc3\\xa9dito\",no,\"Aumentar la variedad de productos.,Disminuir la frecuencia de pedidos\",Semanalmente,\"Frecuencia de venta,Precio\",Ofrecer un producto sustituto,30%,En desacuerdo,Totalmente en desacuerdo,De acuerdo,De acuerdo,Totalmente en desacuerdo,En desacuerdo,De acuerdo,De acuerdo,De acuerdo,Totalmente de acuerdo,no,Carlos ,Ram\\xc3\\xadrez ocelotl,2211971528.0,f0180003@gmail.com,3.0,1.0,1.0,1.0,0.0,1.0,2.0,2.0,3.0,2.0,3.0,7.0,1.0,20.0,7.0,1.0,2.0,4.0\\n125,73ce1475-cd85-4e5a-8390-ee785ddd16ea,\"November 3, 2022\",2022-11-16 02:03:34 UTC,Jos\\xc3\\xa9 Priego,SRID=4326;POINT(-98.266565 19.0351049),19.0351049,-98.266565,pattyplotter,1 Photo,Butcher shop,yes,yes,no,\"Security cameras,Smartphone\",1 Photo,yes,yes,2012-11-03,No cambi\\xc3\\xb3,30,yes,Software especializado + computadora,Software especializado + computadora,No los uso,yes,yes,yes,\"Redes sociales (e.g. Facebook, Instagram)\",Efectivo,de todo,no,16-20%,0,2-5%,1.0,11-15%,16-20%,7.0,Transferencia interbancaria,Aplicaci\\xc3\\xb3n m\\xc3\\xb3vil,yes,no,30%,Ninguna,no,\"Pago de servicios p\\xc3\\xbablicos (e.g. Yastas),Recarga telef\\xc3\\xb3nica\",Tarde (12:00 - 7:00 pm),El cliente los recoge en tienda,1%,31%+,No conozco los servicios,Totalmente en desacuerdo,Totalmente en desacuerdo,Algo de acuerdo,Totalmente de acuerdo,Totalmente en desacuerdo,Totalmente en desacuerdo,Totalmente en desacuerdo,Totalmente en desacuerdo,Totalmente en desacuerdo,Totalmente en desacuerdo,Totalmente en desacuerdo,Totalmente en desacuerdo,En persona,ninguno,1-2%,Ninguna,\"Efectivo,Tarjeta de d\\xc3\\xa9bito y/o cr\\xc3\\xa9dito,Transferencia interbancaria\",no,\"Aumentar la variedad de productos.,Disminuir la frecuencia de pedidos\",Mensualmente,\"Categor\\xc3\\xada (e.g. limpieza, aseo personal, comestibles, l\\xc3\\xa1cteos, etc.)\",Ofrecer un producto sustituto,50% +,Totalmente de acuerdo,Totalmente de acuerdo,Totalmente de acuerdo,Totalmente de acuerdo,Totalmente de acuerdo,Totalmente de acuerdo,Totalmente de acuerdo,Totalmente de acuerdo,Totalmente de acuerdo,Totalmente de acuerdo,yes,Carlos ,Ram\\xc3\\xadrez ocelotl,2211971528.0,f0180003@gmail.com,0.0,0.0,0.0,1.0,0.0,1.0,1.0,1.0,1.0,4.0,0.0,5.0,1.0,20.0,5.0,1.0,1.0,1.0\\n126,961baf07-d8e8-477a-aad0-c9e6c1fd331e,\"November 3, 2022\",2022-11-16 02:03:33 UTC,Jos\\xc3\\xa9 Priego,SRID=4326;POINT(-98.2674482 19.0354461),19.0354461,-98.2674482,Rosi,1 Photo,Grocery store (aka. nanostore),yes,yes,no,Smartphone,1 Photo,yes,yes,2021-02-05,No cambi\\xc3\\xb3,Aument\\xc3\\xb3 15%,no,ninguno ,No lo hago,No los uso,no,no,no,WhatsApp,Efectivo,Transferencia interbancaria,yes,16-20%,0,2-5%,1.0,11-15%,16-20%,7.0,\"Efectivo,Tarjeta de d\\xc3\\xa9bito y/o cr\\xc3\\xa9dito,Transferencia interbancaria\",Aplicaci\\xc3\\xb3n m\\xc3\\xb3vil,yes,no,10%,Ninguna,no,Ninguno,Tarde (12:00 - 7:00 pm),El cliente los recoge en tienda,2%,1-5%,No conozco los servicios,Totalmente en desacuerdo,Totalmente en desacuerdo,Totalmente en desacuerdo,Totalmente en desacuerdo,Totalmente en desacuerdo,Totalmente en desacuerdo,Totalmente en desacuerdo,Totalmente en desacuerdo,Algo de acuerdo,Algo en desacuerdo,Algo de acuerdo,Totalmente de acuerdo,\"En persona,Llamada telef\\xc3\\xb3nica,Mensaje de texto (SMS)\",ninguna ,0,Cuaderno,Efectivo,no,\"Aumentar la variedad de productos.,Disminuir la frecuencia de pedidos\",Diariamente,Frecuencia de venta,Ofrecer un producto sustituto,no se ,De acuerdo,De acuerdo,De acuerdo,Ni de acuerdo ni en desacuerdo,De acuerdo,De acuerdo,De acuerdo,Ni de acuerdo ni en desacuerdo,Ni de acuerdo ni en desacuerdo,Ni de acuerdo ni en desacuerdo,yes,Rocio de Aquino ,Chocolatl,2221026444.0,Chocolate270280@gmail.com,0.0,1.0,1.0,0.0,0.0,1.0,2.0,4.0,1.0,15.0,4.0,5.0,1.0,20.0,0.0,1.0,1.0,1.0\\n127,ded9c1e9-1ee3-4eee-8b7e-c1209eb5e221,\"November 10, 2022\",2022-11-15 23:16:57 UTC,Jorge Mason,SRID=4326;POINT(-98.2625137 19.03576),19.03576,-98.2625137,Croqueteria,1 Photo,Grocery store (aka. nanostore),no,yes,no,\"Analog cash register,Smartphone\",1 Photo,yes,yes,2019-09-18,Disminuy\\xc3\\xb3 15%,Aument\\xc3\\xb3 25%,yes,En papel,En papel,Realizar pron\\xc3\\xb3sticos de ventas,yes,yes,no,\"Redes sociales (e.g. Facebook, Instagram),WhatsApp\",Efectivo,Transferencia interbancaria,yes,16-20%,0,2-5%,1.0,11-15%,16-20%,7.0,\"Efectivo,Tarjeta de d\\xc3\\xa9bito y/o cr\\xc3\\xa9dito,Transferencia interbancaria\",\"Aplicaci\\xc3\\xb3n m\\xc3\\xb3vil,Redes sociales\",yes,no,5%,Cuaderno,no,Ninguno,Tarde (12:00 - 7:00 pm),El cliente los recoge en tienda,2%,1-5%,No creo que represente grandes ingresos,Totalmente en desacuerdo,Totalmente en desacuerdo,Algo de acuerdo,Totalmente de acuerdo,Algo de acuerdo,Totalmente en desacuerdo,Totalmente en desacuerdo,Totalmente en desacuerdo,Algo de acuerdo,Totalmente en desacuerdo,Algo en desacuerdo,Algo de acuerdo,\"En persona,Llamada telef\\xc3\\xb3nica\",ninguno,0,Cuaderno,Efectivo,yes,\"Aumentar la variedad de productos.,Disminuir la frecuencia de pedidos\",Diariamente,Tama\\xc3\\xb1o,Solicitar tiempo al cliente para conseguir el producto,0,De acuerdo,Totalmente de acuerdo,Totalmente de acuerdo,Totalmente en desacuerdo,Totalmente de acuerdo,Totalmente de acuerdo,Totalmente de acuerdo,Totalmente de acuerdo,De acuerdo,Totalmente de acuerdo,yes,Adrian,Ramirez,223470906.0,joksanperez99@gmail.com,0.0,0.0,10.0,1.0,2.0,4.0,0.0,4.0,1.0,1.0,2.0,5.0,1.0,20.0,0.0,1.0,1.0,0.0\\n128,47a009a5-fe95-4380-83b2-ac4595be6150,\"November 10, 2022\",2022-11-15 23:16:57 UTC,Jorge Mason,SRID=4326;POINT(-98.2625597 19.0357416),19.0357416,-98.2625597,Alva salon,1 Photo,Est\\xc3\\xa9tica ,no,yes,no,\"Analog cash register,Smartphone\",1 Photo,no,no,2016-07-15,No cambi\\xc3\\xb3,Disminuy\\xc3\\xb3 15%,yes,En papel,En papel,Realizar pron\\xc3\\xb3sticos de ventas,yes,yes,no,Ninguno,Efectivo,Transferencia interbancaria,yes,16-20%,0,2-5%,1.0,11-15%,16-20%,7.0,\"Efectivo,Tarjeta de d\\xc3\\xa9bito y/o cr\\xc3\\xa9dito,Transferencia interbancaria\",Ninguna,no,no,15%,Cuaderno,no,Ninguno,Tarde (12:00 - 7:00 pm),El cliente los recoge en tienda,2%,1-5%,No quiero involucrarme con la tecnolog\\xc3\\xada,Totalmente en desacuerdo,Totalmente en desacuerdo,Algo de acuerdo,Ni de acuerdo ni en desacuerdo,Totalmente en desacuerdo,Algo en desacuerdo,Algo en desacuerdo,Ni de acuerdo ni en desacuerdo,Ni de acuerdo ni en desacuerdo,Totalmente en desacuerdo,Totalmente en desacuerdo,Ni de acuerdo ni en desacuerdo,\"En persona,Llamada telef\\xc3\\xb3nica\",Consignaci\\xc3\\xb3n,9%+,Cuaderno,\"Efectivo,Transferencia interbancaria\",yes,Disminuir la cantidad del pedido,Diariamente,\"Frecuencia de venta,Refrigeraci\\xc3\\xb3n,Tama\\xc3\\xb1o\",Ofrecer un producto sustituto,50% +,En desacuerdo,De acuerdo,En desacuerdo,En desacuerdo,En desacuerdo,En desacuerdo,En desacuerdo,En desacuerdo,En desacuerdo,En desacuerdo,no,Joksan ,P\\xc3\\xa9rez Alonso,2214433277.0,joksanperez99@gmail.com,2.0,2.0,2.0,2.0,2.0,4.0,2.0,2.0,1.0,2.0,0.0,5.0,1.0,20.0,0.0,1.0,7.0,30.0\\n129,8e548021-dfe7-46b0-907a-5fcea76afe0d,\"November 10, 2022\",2022-11-15 23:16:56 UTC,Jorge Mason,SRID=4326;POINT(-98.2632861 19.0343891),19.0343891,-98.2632861,Frutas y verduras,1 Photo,Produce (fruits & vegetables),no,yes,yes,\"Analog cash register,Smartphone\",1 Photo,no,yes,2016-07-15,No cambi\\xc3\\xb3,Disminuy\\xc3\\xb3 15%,yes,En papel,En papel,Realizar pron\\xc3\\xb3sticos de ventas,yes,yes,no,Ninguno,Efectivo,Transferencia interbancaria,yes,16-20%,0,2-5%,1.0,11-15%,16-20%,7.0,\"Efectivo,Tarjeta de d\\xc3\\xa9bito y/o cr\\xc3\\xa9dito,Transferencia interbancaria\",Ninguna,no,no,15%,Cuaderno,no,Ninguno,Tarde (12:00 - 7:00 pm),El cliente los recoge en tienda,2%,1-5%,No quiero involucrarme con la tecnolog\\xc3\\xada,Totalmente en desacuerdo,Totalmente en desacuerdo,Algo de acuerdo,Ni de acuerdo ni en desacuerdo,Totalmente en desacuerdo,Algo en desacuerdo,Algo en desacuerdo,Ni de acuerdo ni en desacuerdo,Ni de acuerdo ni en desacuerdo,Totalmente en desacuerdo,Totalmente en desacuerdo,Ni de acuerdo ni en desacuerdo,\"En persona,Llamada telef\\xc3\\xb3nica\",Consignaci\\xc3\\xb3n,9%+,Cuaderno,\"Efectivo,Transferencia interbancaria\",yes,Disminuir la cantidad del pedido,Diariamente,\"Frecuencia de venta,Refrigeraci\\xc3\\xb3n,Tama\\xc3\\xb1o\",Ofrecer un producto sustituto,50% +,En desacuerdo,De acuerdo,En desacuerdo,En desacuerdo,En desacuerdo,En desacuerdo,En desacuerdo,En desacuerdo,En desacuerdo,En desacuerdo,no,Joksan ,P\\xc3\\xa9rez Alonso,2214433277.0,joksanperez99@gmail.com,1.0,2.0,6.0,2.0,2.0,4.0,2.0,2.0,1.0,2.0,0.0,5.0,1.0,20.0,0.0,1.0,7.0,30.0\\n130,62d229c9-b906-438f-97a4-f60ea07d94bf,\"November 10, 2022\",2022-11-15 23:16:56 UTC,Jorge Mason,SRID=4326;POINT(-98.2636253 19.0344748),19.0344748,-98.2636253,LA ANTOJERIA,1 Photo,Cafeteria,yes,yes,yes,\"Analog cash register,Dataphone (i.e. card payments),Smartphone\",1 Photo,no,no,2016-07-15,No cambi\\xc3\\xb3,Disminuy\\xc3\\xb3 15%,yes,En papel,En papel,Realizar pron\\xc3\\xb3sticos de ventas,yes,yes,no,Ninguno,Efectivo,Transferencia interbancaria,yes,16-20%,0,2-5%,1.0,11-15%,16-20%,7.0,\"Efectivo,Tarjeta de d\\xc3\\xa9bito y/o cr\\xc3\\xa9dito,Transferencia interbancaria\",Ninguna,no,no,15%,Cuaderno,no,Ninguno,Tarde (12:00 - 7:00 pm),El cliente los recoge en tienda,2%,1-5%,No quiero involucrarme con la tecnolog\\xc3\\xada,Totalmente en desacuerdo,Totalmente en desacuerdo,Algo de acuerdo,Ni de acuerdo ni en desacuerdo,Totalmente en desacuerdo,Algo en desacuerdo,Algo en desacuerdo,Ni de acuerdo ni en desacuerdo,Ni de acuerdo ni en desacuerdo,Totalmente en desacuerdo,Totalmente en desacuerdo,Ni de acuerdo ni en desacuerdo,\"En persona,Llamada telef\\xc3\\xb3nica\",Consignaci\\xc3\\xb3n,9%+,Cuaderno,\"Efectivo,Transferencia interbancaria\",yes,Disminuir la cantidad del pedido,Diariamente,\"Frecuencia de venta,Refrigeraci\\xc3\\xb3n,Tama\\xc3\\xb1o\",Ofrecer un producto sustituto,50% +,En desacuerdo,De acuerdo,En desacuerdo,En desacuerdo,En desacuerdo,En desacuerdo,En desacuerdo,En desacuerdo,En desacuerdo,En desacuerdo,no,Joksan ,P\\xc3\\xa9rez Alonso,2214433277.0,joksanperez99@gmail.com,3.0,3.0,2.0,2.0,2.0,4.0,2.0,2.0,1.0,2.0,0.0,5.0,1.0,20.0,0.0,1.0,7.0,30.0\\n131,2fbc4301-7f05-4f3e-8d2c-c6b35e484b51,\"November 10, 2022\",2022-11-15 23:16:55 UTC,Jorge Mason,SRID=4326;POINT(-98.2640986 19.0345077),19.0345077,-98.2640986,Luna angel,1 Photo,helader\\xc3\\xada ,no,yes,no,\"Analog cash register,Smartphone\",1 Photo,no,yes,2016-07-15,No cambi\\xc3\\xb3,Disminuy\\xc3\\xb3 15%,yes,En papel,En papel,Realizar pron\\xc3\\xb3sticos de ventas,yes,yes,no,Ninguno,Efectivo,Transferencia interbancaria,yes,16-20%,0,2-5%,1.0,11-15%,16-20%,7.0,\"Efectivo,Tarjeta de d\\xc3\\xa9bito y/o cr\\xc3\\xa9dito,Transferencia interbancaria\",Ninguna,no,no,15%,Cuaderno,no,Ninguno,Tarde (12:00 - 7:00 pm),El cliente los recoge en tienda,2%,1-5%,No quiero involucrarme con la tecnolog\\xc3\\xada,Totalmente en desacuerdo,Totalmente en desacuerdo,Algo de acuerdo,Ni de acuerdo ni en desacuerdo,Totalmente en desacuerdo,Algo en desacuerdo,Algo en desacuerdo,Ni de acuerdo ni en desacuerdo,Ni de acuerdo ni en desacuerdo,Totalmente en desacuerdo,Totalmente en desacuerdo,Ni de acuerdo ni en desacuerdo,\"En persona,Llamada telef\\xc3\\xb3nica\",Consignaci\\xc3\\xb3n,9%+,Cuaderno,\"Efectivo,Transferencia interbancaria\",yes,Disminuir la cantidad del pedido,Diariamente,\"Frecuencia de venta,Refrigeraci\\xc3\\xb3n,Tama\\xc3\\xb1o\",Ofrecer un producto sustituto,50% +,En desacuerdo,De acuerdo,En desacuerdo,En desacuerdo,En desacuerdo,En desacuerdo,En desacuerdo,En desacuerdo,En desacuerdo,En desacuerdo,no,Joksan ,P\\xc3\\xa9rez Alonso,2214433277.0,joksanperez99@gmail.com,0.0,2.0,1.0,2.0,2.0,4.0,2.0,2.0,1.0,2.0,0.0,5.0,1.0,20.0,0.0,1.0,7.0,30.0\\n132,8ef04f0c-dd52-4363-8a53-398ee3ac1a8e,\"November 15, 2022\",2022-11-15 22:54:03 UTC,Harry Hern\\xc3\\xa1ndez,SRID=4326;POINT(-98.3094339074 19.0645749355),19.0645749355,-98.3094339074,L\\xc3\\xa1cteos borttoloti ,1 Photo,Grocery store (aka. nanostore),no,no,yes,Bocina ,1 Photo,no,yes,2016-07-15,No cambi\\xc3\\xb3,Disminuy\\xc3\\xb3 15%,yes,En papel,En papel,Realizar pron\\xc3\\xb3sticos de ventas,yes,yes,no,Ninguno,Efectivo,Transferencia interbancaria,yes,16-20%,0,2-5%,1.0,11-15%,16-20%,7.0,\"Efectivo,Tarjeta de d\\xc3\\xa9bito y/o cr\\xc3\\xa9dito,Transferencia interbancaria\",Ninguna,no,no,15%,Cuaderno,no,Ninguno,Tarde (12:00 - 7:00 pm),El cliente los recoge en tienda,2%,1-5%,No quiero involucrarme con la tecnolog\\xc3\\xada,Totalmente en desacuerdo,Totalmente en desacuerdo,Algo de acuerdo,Ni de acuerdo ni en desacuerdo,Totalmente en desacuerdo,Algo en desacuerdo,Algo en desacuerdo,Ni de acuerdo ni en desacuerdo,Ni de acuerdo ni en desacuerdo,Totalmente en desacuerdo,Totalmente en desacuerdo,Ni de acuerdo ni en desacuerdo,\"En persona,Llamada telef\\xc3\\xb3nica\",Consignaci\\xc3\\xb3n,9%+,Cuaderno,\"Efectivo,Transferencia interbancaria\",yes,Disminuir la cantidad del pedido,Diariamente,\"Frecuencia de venta,Refrigeraci\\xc3\\xb3n,Tama\\xc3\\xb1o\",Ofrecer un producto sustituto,50% +,En desacuerdo,De acuerdo,En desacuerdo,En desacuerdo,En desacuerdo,En desacuerdo,En desacuerdo,En desacuerdo,En desacuerdo,En desacuerdo,no,Joksan ,P\\xc3\\xa9rez Alonso,2214433277.0,joksanperez99@gmail.com,0.0,2.0,3.0,2.0,2.0,4.0,2.0,2.0,1.0,2.0,0.0,5.0,1.0,20.0,0.0,1.0,7.0,30.0\\n133,41ba7552-c3c4-4459-8dae-7f9370597e70,\"November 15, 2022\",2022-11-15 22:54:02 UTC,Harry Hern\\xc3\\xa1ndez,SRID=4326;POINT(-98.3097427962 19.0631747316),19.0631747316,-98.3097427962,Un regalo de Dios ,1 Photo,Grocery store (aka. nanostore),no,yes,no,Smartphone,1 Photo,no,yes,2016-07-15,No cambi\\xc3\\xb3,Disminuy\\xc3\\xb3 15%,yes,En papel,En papel,Realizar pron\\xc3\\xb3sticos de ventas,yes,yes,no,Ninguno,Efectivo,Transferencia interbancaria,yes,16-20%,0,2-5%,1.0,11-15%,16-20%,7.0,\"Efectivo,Tarjeta de d\\xc3\\xa9bito y/o cr\\xc3\\xa9dito,Transferencia interbancaria\",Ninguna,no,no,15%,Cuaderno,no,Ninguno,Tarde (12:00 - 7:00 pm),El cliente los recoge en tienda,2%,1-5%,No quiero involucrarme con la tecnolog\\xc3\\xada,Totalmente en desacuerdo,Totalmente en desacuerdo,Algo de acuerdo,Ni de acuerdo ni en desacuerdo,Totalmente en desacuerdo,Algo en desacuerdo,Algo en desacuerdo,Ni de acuerdo ni en desacuerdo,Ni de acuerdo ni en desacuerdo,Totalmente en desacuerdo,Totalmente en desacuerdo,Ni de acuerdo ni en desacuerdo,\"En persona,Llamada telef\\xc3\\xb3nica\",Consignaci\\xc3\\xb3n,9%+,Cuaderno,\"Efectivo,Transferencia interbancaria\",yes,Disminuir la cantidad del pedido,Diariamente,\"Frecuencia de venta,Refrigeraci\\xc3\\xb3n,Tama\\xc3\\xb1o\",Ofrecer un producto sustituto,50% +,En desacuerdo,De acuerdo,En desacuerdo,En desacuerdo,En desacuerdo,En desacuerdo,En desacuerdo,En desacuerdo,En desacuerdo,En desacuerdo,no,Joksan ,P\\xc3\\xa9rez Alonso,2214433277.0,joksanperez99@gmail.com,0.0,0.0,3.0,2.0,2.0,4.0,2.0,2.0,1.0,2.0,0.0,5.0,1.0,20.0,0.0,1.0,7.0,30.0\\n134,e6a427e6-3480-4392-9a5c-4d2a72af26c0,\"November 15, 2022\",2022-11-15 22:49:58 UTC,Jes\\xc3\\xbas Herrera,SRID=4326;POINT(-98.2604196284 19.0219676841),19.0219676841,-98.2604196284,Carnicer\\xc3\\xada piscil ,1 Photo,Butcher shop,no,no,yes,\"Analog cash register,Dataphone (i.e. card payments),Smartphone\",1 Photo,no,yes,2016-07-15,No cambi\\xc3\\xb3,Disminuy\\xc3\\xb3 15%,yes,En papel,En papel,Realizar pron\\xc3\\xb3sticos de ventas,yes,yes,no,Ninguno,Efectivo,Transferencia interbancaria,yes,16-20%,0,2-5%,1.0,11-15%,16-20%,7.0,\"Efectivo,Tarjeta de d\\xc3\\xa9bito y/o cr\\xc3\\xa9dito,Transferencia interbancaria\",Ninguna,no,no,15%,Cuaderno,no,Ninguno,Tarde (12:00 - 7:00 pm),El cliente los recoge en tienda,2%,1-5%,No quiero involucrarme con la tecnolog\\xc3\\xada,Totalmente en desacuerdo,Totalmente en desacuerdo,Algo de acuerdo,Ni de acuerdo ni en desacuerdo,Totalmente en desacuerdo,Algo en desacuerdo,Algo en desacuerdo,Ni de acuerdo ni en desacuerdo,Ni de acuerdo ni en desacuerdo,Totalmente en desacuerdo,Totalmente en desacuerdo,Ni de acuerdo ni en desacuerdo,\"En persona,Llamada telef\\xc3\\xb3nica\",Consignaci\\xc3\\xb3n,9%+,Cuaderno,\"Efectivo,Transferencia interbancaria\",yes,Disminuir la cantidad del pedido,Diariamente,\"Frecuencia de venta,Refrigeraci\\xc3\\xb3n,Tama\\xc3\\xb1o\",Ofrecer un producto sustituto,50% +,En desacuerdo,De acuerdo,En desacuerdo,En desacuerdo,En desacuerdo,En desacuerdo,En desacuerdo,En desacuerdo,En desacuerdo,En desacuerdo,no,Joksan ,P\\xc3\\xa9rez Alonso,2214433277.0,joksanperez99@gmail.com,0.0,2.0,4.0,2.0,2.0,4.0,2.0,2.0,1.0,2.0,0.0,5.0,1.0,20.0,0.0,1.0,7.0,30.0\\n135,462723b6-e048-49d5-b382-0e229b581e87,\"November 15, 2022\",2022-11-15 22:42:34 UTC,Jes\\xc3\\xbas Herrera,SRID=4326;POINT(-98.2604812409 19.0219595372),19.0219595372,-98.2604812409,Carnicer\\xc3\\xada y frutas y verduras Rafa,1 Photo,Produce (fruits & vegetables),no,no,yes,\"Analog cash register,Smartphone\",1 Photo,yes,yes,2016-07-15,No cambi\\xc3\\xb3,Disminuy\\xc3\\xb3 15%,yes,En papel,En papel,Realizar pron\\xc3\\xb3sticos de ventas,yes,yes,no,Ninguno,Efectivo,Transferencia interbancaria,yes,16-20%,0,2-5%,1.0,11-15%,16-20%,7.0,\"Efectivo,Tarjeta de d\\xc3\\xa9bito y/o cr\\xc3\\xa9dito,Transferencia interbancaria\",Ninguna,no,no,15%,Cuaderno,no,Ninguno,Tarde (12:00 - 7:00 pm),El cliente los recoge en tienda,2%,1-5%,No quiero involucrarme con la tecnolog\\xc3\\xada,Totalmente en desacuerdo,Totalmente en desacuerdo,Algo de acuerdo,Ni de acuerdo ni en desacuerdo,Totalmente en desacuerdo,Algo en desacuerdo,Algo en desacuerdo,Ni de acuerdo ni en desacuerdo,Ni de acuerdo ni en desacuerdo,Totalmente en desacuerdo,Totalmente en desacuerdo,Ni de acuerdo ni en desacuerdo,\"En persona,Llamada telef\\xc3\\xb3nica\",Consignaci\\xc3\\xb3n,9%+,Cuaderno,\"Efectivo,Transferencia interbancaria\",yes,Disminuir la cantidad del pedido,Diariamente,\"Frecuencia de venta,Refrigeraci\\xc3\\xb3n,Tama\\xc3\\xb1o\",Ofrecer un producto sustituto,50% +,En desacuerdo,De acuerdo,En desacuerdo,En desacuerdo,En desacuerdo,En desacuerdo,En desacuerdo,En desacuerdo,En desacuerdo,En desacuerdo,no,Joksan ,P\\xc3\\xa9rez Alonso,2214433277.0,joksanperez99@gmail.com,4.0,4.0,7.0,2.0,2.0,4.0,2.0,2.0,1.0,2.0,0.0,5.0,1.0,20.0,0.0,1.0,7.0,30.0\\n136,54c4e8ef-0871-4a61-9044-3ab33d81920b,\"November 15, 2022\",2022-11-15 22:31:15 UTC,Hiram Jim\\xc3\\xa9nez,SRID=4326;POINT(-98.3089021 19.0655711),19.0655711,-98.3089021,Abarrotes los sobrinos ,1 Photo,Grocery store (aka. nanostore),no,no,no,Analog cash register,1 Photo,no,yes,1985-11-15,Aument\\xc3\\xb3 15%,No cambi\\xc3\\xb3,yes,\"En Excel,En papel\",\"En Excel,En papel\",Realizar pron\\xc3\\xb3sticos de ventas,yes,no,yes,WhatsApp,Efectivo,Transferencia interbancaria,yes,16-20%,0,2-5%,1.0,11-15%,16-20%,7.0,\"Efectivo,Tarjeta de d\\xc3\\xa9bito y/o cr\\xc3\\xa9dito,Transferencia interbancaria\",Ninguna,yes,no,5%,Ninguna,no,Recarga telef\\xc3\\xb3nica,Tarde (12:00 - 7:00 pm),El cliente los recoge en tienda,2%,1-5%,No creo que represente grandes ingresos,Algo en desacuerdo,Ni de acuerdo ni en desacuerdo,Algo en desacuerdo,Algo en desacuerdo,Ni de acuerdo ni en desacuerdo,Algo en desacuerdo,Algo en desacuerdo,Algo en desacuerdo,Algo en desacuerdo,Algo de acuerdo,Algo en desacuerdo,Algo de acuerdo,Llamada telef\\xc3\\xb3nica,Cr\\xc3\\xa9dito,9%+,Cuaderno,\"Efectivo,cr\\xc3\\xa9dito \",no,Aumentar la cantidad del pedido,Mensualmente,\"Categor\\xc3\\xada (e.g. limpieza, aseo personal, comestibles, l\\xc3\\xa1cteos, etc.),Cuando se acaban se recorre \",Perder la venta,50% +,En desacuerdo,De acuerdo,En desacuerdo,En desacuerdo,En desacuerdo,En desacuerdo,En desacuerdo,En desacuerdo,En desacuerdo,En desacuerdo,yes,Joksan ,P\\xc3\\xa9rez Alonso,2214433277.0,joksanperez99@gmail.com,1.0,0.0,4.0,5.0,4.0,6.0,10.0,5.0,1.0,2.0,0.0,5.0,1.0,20.0,0.0,1.0,7.0,30.0\\n137,ede88461-ff57-433d-8b5d-17fde6fc31a1,\"November 15, 2022\",2022-11-15 22:11:27 UTC,Hiram Jim\\xc3\\xa9nez,SRID=4326;POINT(-98.3098178 19.0635518),19.0635518,-98.3098178,La Guadalupana I ,1 Photo,Grocery store (aka. nanostore),no,yes,no,Analog cash register,1 Photo,no,yes,1985-11-15,Aument\\xc3\\xb3 15%,No cambi\\xc3\\xb3,yes,\"En Excel,En papel\",\"En Excel,En papel\",Realizar pron\\xc3\\xb3sticos de ventas,yes,no,yes,WhatsApp,Efectivo,Transferencia interbancaria,yes,16-20%,0,2-5%,1.0,11-15%,16-20%,7.0,\"Efectivo,Tarjeta de d\\xc3\\xa9bito y/o cr\\xc3\\xa9dito,Transferencia interbancaria\",Ninguna,yes,no,5%,Ninguna,no,Recarga telef\\xc3\\xb3nica,Tarde (12:00 - 7:00 pm),El cliente los recoge en tienda,2%,1-5%,No creo que represente grandes ingresos,Algo en desacuerdo,Ni de acuerdo ni en desacuerdo,Algo en desacuerdo,Algo en desacuerdo,Ni de acuerdo ni en desacuerdo,Algo en desacuerdo,Algo en desacuerdo,Algo en desacuerdo,Algo en desacuerdo,Algo de acuerdo,Algo en desacuerdo,Algo de acuerdo,Llamada telef\\xc3\\xb3nica,Cr\\xc3\\xa9dito,9%+,Cuaderno,\"Efectivo,cr\\xc3\\xa9dito \",no,Aumentar la cantidad del pedido,Mensualmente,\"Categor\\xc3\\xada (e.g. limpieza, aseo personal, comestibles, l\\xc3\\xa1cteos, etc.),Cuando se acaban se recorre \",Perder la venta,50% +,En desacuerdo,De acuerdo,En desacuerdo,En desacuerdo,En desacuerdo,En desacuerdo,En desacuerdo,En desacuerdo,En desacuerdo,En desacuerdo,yes,Joksan ,P\\xc3\\xa9rez Alonso,2214433277.0,joksanperez99@gmail.com,1.0,0.0,8.0,5.0,4.0,6.0,10.0,5.0,1.0,2.0,0.0,5.0,1.0,20.0,0.0,1.0,7.0,30.0\\n138,08a1fea1-476f-4217-9b78-8bb3822dc669,\"November 9, 2022\",2022-11-15 21:15:26 UTC,Jes\\xc3\\xbas Herrera,SRID=4326;POINT(-98.2614367353 19.01936465),19.01936465,-98.2614367353,Gorditas cari\\xc3\\xb1o,1 Photo,Micro-restaurant (aka. fondita),no,yes,no,Ninguno,1 Photo,no,yes,2007-11-09,Aument\\xc3\\xb3 15%,No cambi\\xc3\\xb3,no,\"En Excel,En papel\",\"En Excel,En papel\",Realizar pron\\xc3\\xb3sticos de ventas,yes,yes,yes,WhatsApp,Efectivo,Transferencia interbancaria,yes,16-20%,0,2-5%,1.0,11-15%,16-20%,7.0,\"Efectivo,Tarjeta de d\\xc3\\xa9bito y/o cr\\xc3\\xa9dito,Transferencia interbancaria\",Ninguna,yes,no,5%,Ninguna,no,Recarga telef\\xc3\\xb3nica,Tarde (12:00 - 7:00 pm),El cliente los recoge en tienda,2%,1-5%,No creo que represente grandes ingresos,Algo en desacuerdo,Ni de acuerdo ni en desacuerdo,Algo en desacuerdo,Algo en desacuerdo,Ni de acuerdo ni en desacuerdo,Algo en desacuerdo,Algo en desacuerdo,Algo en desacuerdo,Algo en desacuerdo,Algo de acuerdo,Algo en desacuerdo,Algo de acuerdo,Llamada telef\\xc3\\xb3nica,Cr\\xc3\\xa9dito,9%+,Cuaderno,\"Efectivo,cr\\xc3\\xa9dito \",no,Aumentar la cantidad del pedido,Diariamente,\"Categor\\xc3\\xada (e.g. limpieza, aseo personal, comestibles, l\\xc3\\xa1cteos, etc.),Cuando se acaban se recorre \",Perder la venta,50% +,En desacuerdo,De acuerdo,En desacuerdo,En desacuerdo,En desacuerdo,En desacuerdo,En desacuerdo,En desacuerdo,En desacuerdo,En desacuerdo,no,Joksan ,P\\xc3\\xa9rez Alonso,2214433277.0,joksanperez99@gmail.com,2.0,0.0,0.0,4.0,4.0,6.0,10.0,5.0,1.0,2.0,0.0,5.0,1.0,20.0,0.0,1.0,7.0,30.0\\n139,0bbf26a6-bfb0-4447-a654-db6aaddd4d7e,\"November 9, 2022\",2022-11-15 21:09:57 UTC,Sa\\xc3\\xbal S\\xc3\\xa1nchez,SRID=4326;POINT(-98.3097362 19.0625932),19.0625932,-98.3097362,Providencia,1 Photo,Grocery store (aka. nanostore),no,yes,yes,\"Dataphone (i.e. card payments),Security cameras,Smartphone\",1 Photo,yes,yes,2007-11-09,Aument\\xc3\\xb3 15%,No cambi\\xc3\\xb3,no,\"En Excel,En papel\",\"En Excel,En papel\",Realizar pron\\xc3\\xb3sticos de ventas,yes,yes,yes,WhatsApp,Efectivo,Transferencia interbancaria,yes,16-20%,0,2-5%,1.0,11-15%,16-20%,7.0,\"Efectivo,Tarjeta de d\\xc3\\xa9bito y/o cr\\xc3\\xa9dito,Transferencia interbancaria\",Ninguna,yes,no,5%,Ninguna,no,Recarga telef\\xc3\\xb3nica,Tarde (12:00 - 7:00 pm),El cliente los recoge en tienda,2%,1-5%,No creo que represente grandes ingresos,Algo en desacuerdo,Ni de acuerdo ni en desacuerdo,Algo en desacuerdo,Algo en desacuerdo,Ni de acuerdo ni en desacuerdo,Algo en desacuerdo,Algo en desacuerdo,Algo en desacuerdo,Algo en desacuerdo,Algo de acuerdo,Algo en desacuerdo,Algo de acuerdo,Llamada telef\\xc3\\xb3nica,Cr\\xc3\\xa9dito,9%+,Cuaderno,\"Efectivo,cr\\xc3\\xa9dito \",no,Aumentar la cantidad del pedido,Diariamente,\"Categor\\xc3\\xada (e.g. limpieza, aseo personal, comestibles, l\\xc3\\xa1cteos, etc.),Cuando se acaban se recorre \",Perder la venta,50% +,En desacuerdo,De acuerdo,En desacuerdo,En desacuerdo,En desacuerdo,En desacuerdo,En desacuerdo,En desacuerdo,En desacuerdo,En desacuerdo,no,Joksan ,P\\xc3\\xa9rez Alonso,2214433277.0,joksanperez99@gmail.com,3.0,6.0,6.0,4.0,4.0,6.0,10.0,5.0,1.0,2.0,0.0,5.0,1.0,20.0,0.0,1.0,7.0,30.0\\n140,6f0be9d1-528f-47ea-95a2-67f0cebb9300,\"November 9, 2022\",2022-11-15 21:09:57 UTC,Sa\\xc3\\xbal S\\xc3\\xa1nchez,SRID=4326;POINT(-98.3088068 19.0621154),19.0621154,-98.3088068,Farmacias econ\\xc3\\xb3micas plus ,1 Photo,Farmacia,no,no,no,\"Security cameras,Smartphone\",1 Photo,yes,yes,2002-11-09,Aument\\xc3\\xb3 50% o m\\xc3\\xa1s,No cambi\\xc3\\xb3,yes,\"En Excel,En papel\",\"En Excel,En papel\",Realizar pron\\xc3\\xb3sticos de ventas,yes,yes,yes,WhatsApp,\"Efectivo,Tarjeta de d\\xc3\\xa9bito y/o cr\\xc3\\xa9dito\",Transferencia interbancaria,yes,16-20%,0,2-5%,1.0,11-15%,16-20%,7.0,\"Efectivo,Tarjeta de d\\xc3\\xa9bito y/o cr\\xc3\\xa9dito,Transferencia interbancaria\",Ninguna,no,no,5%,Ninguna,no,Ninguno,Tarde (12:00 - 7:00 pm),El cliente los recoge en tienda,2%,1-5%,No creo que represente grandes ingresos,Algo en desacuerdo,Totalmente en desacuerdo,Totalmente en desacuerdo,Algo en desacuerdo,Algo en desacuerdo,Algo en desacuerdo,Totalmente en desacuerdo,Algo en desacuerdo,Algo en desacuerdo,Algo en desacuerdo,Algo en desacuerdo,Totalmente en desacuerdo,\"Llamada telef\\xc3\\xb3nica,Mensaje de texto (SMS)\",Cr\\xc3\\xa9dito,9%+,Ninguna,\"Efectivo,Tarjeta de d\\xc3\\xa9bito y/o cr\\xc3\\xa9dito,Transferencia interbancaria\",no,Aumentar la cantidad del pedido,Diariamente,\"Categor\\xc3\\xada (e.g. limpieza, aseo personal, comestibles, l\\xc3\\xa1cteos, etc.)\",Perder la venta,30%,Ni de acuerdo ni en desacuerdo,Ni de acuerdo ni en desacuerdo,De acuerdo,Ni de acuerdo ni en desacuerdo,Ni de acuerdo ni en desacuerdo,De acuerdo,De acuerdo,De acuerdo,Ni de acuerdo ni en desacuerdo,Ni de acuerdo ni en desacuerdo,no,Joksan ,P\\xc3\\xa9rez Alonso,2214433277.0,joksanperez99@gmail.com,1.0,2.0,4.0,4.0,6.0,0.0,10.0,4.0,1.0,7.0,1.0,1.0,1.0,20.0,0.0,1.0,7.0,0.0\\n141,6a18d383-af49-497b-bd6d-1b0dbba07988,\"November 4, 2022\",2022-11-15 21:09:56 UTC,Sa\\xc3\\xbal S\\xc3\\xa1nchez,SRID=4326;POINT(-98.3099391 19.0632677),19.0632677,-98.3099391,Abarrotes y semillas la Guadalupana ,1 Photo,Grocery store (aka. nanostore),no,yes,yes,\"Dataphone (i.e. card payments),Security cameras,Smartphone\",1 Photo,yes,yes,2002-11-11,No cambi\\xc3\\xb3,Aument\\xc3\\xb3 15%,no,En Excel,\"En Excel,En papel\",Realizar pron\\xc3\\xb3sticos de ventas,yes,yes,yes,WhatsApp,\"Efectivo,Tarjeta de d\\xc3\\xa9bito y/o cr\\xc3\\xa9dito\",Transferencia interbancaria,yes,16-20%,0,2-5%,0.0,11-15%,16-20%,7.0,\"Efectivo,Tarjeta de d\\xc3\\xa9bito y/o cr\\xc3\\xa9dito,Transferencia interbancaria\",Ninguna,no,no,30%,Excel,no,\"Pago de servicios p\\xc3\\xbablicos (e.g. Yastas),Recarga telef\\xc3\\xb3nica\",Tarde (12:00 - 7:00 pm),El cliente los recoge en tienda,2%,1-5%,\"No creo que represente grandes ingresos,No quiero involucrarme con la tecnolog\\xc3\\xada\",Totalmente en desacuerdo,Totalmente en desacuerdo,Algo en desacuerdo,Algo en desacuerdo,Algo en desacuerdo,Algo en desacuerdo,Algo en desacuerdo,Algo en desacuerdo,Algo en desacuerdo,Algo en desacuerdo,Totalmente en desacuerdo,Totalmente en desacuerdo,En persona,\"Cr\\xc3\\xa9dito,Descuento por compras anticipadas\",9%+,\"Cuaderno,Excel\",Efectivo,no,Aumentar la cantidad del pedido,Diariamente,Caducidad ,Ofrecer un producto sustituto,50% +,De acuerdo,De acuerdo,De acuerdo,De acuerdo,De acuerdo,De acuerdo,Ni de acuerdo ni en desacuerdo,Ni de acuerdo ni en desacuerdo,De acuerdo,Ni de acuerdo ni en desacuerdo,no,Joksan ,P\\xc3\\xa9rez Alonso,2214433277.0,joksanperez99@gmail.com,5.0,2.0,4.0,4.0,2.2,1.0,3.0,4.0,0.0,7.0,1.0,1.0,1.0,20.0,0.0,1.0,7.0,15.0\\n142,aa5eda31-bd68-4e70-aca0-cf00dcecad26,\"November 9, 2022\",2022-11-15 20:56:42 UTC,Jes\\xc3\\xbas Herrera,SRID=4326;POINT(-98.2614980296 19.0192985444),19.0192985444,-98.2614980296,Abundancia,1 Photo,Cake shop ,no,no,no,\"Analog cash register,Smartphone\",1 Photo,no,yes,2015-07-22,No cambi\\xc3\\xb3,Aument\\xc3\\xb3 15%,yes,En papel,\"Caja registradora (an\\xc3\\xa1loga),En papel\",Realizar pron\\xc3\\xb3sticos de ventas,no,yes,no,Llamada a Tel\\xc3\\xa9fono celular,Efectivo,Transferencia interbancaria,yes,16-20%,0,2-5%,1.0,11-15%,16-20%,7.0,\"Efectivo,Tarjeta de d\\xc3\\xa9bito y/o cr\\xc3\\xa9dito,Transferencia interbancaria\",Ninguna,no,no,30%,Cuaderno,no,Ninguno,Tarde (12:00 - 7:00 pm),El cliente los recoge en tienda,5%,1-5%,\"No creo que represente grandes ingresos,No quiero involucrarme con la tecnolog\\xc3\\xada\",Totalmente en desacuerdo,Totalmente en desacuerdo,Algo de acuerdo,Totalmente en desacuerdo,Ni de acuerdo ni en desacuerdo,Algo en desacuerdo,Ni de acuerdo ni en desacuerdo,Algo de acuerdo,Algo en desacuerdo,Totalmente en desacuerdo,Algo en desacuerdo,Totalmente en desacuerdo,\"En persona,Llamada telef\\xc3\\xb3nica\",Ninguno,0,Ninguna,Efectivo,no,Aumentar la cantidad del pedido,Diariamente,Refrigeraci\\xc3\\xb3n,\"Ofrecer un producto sustituto,Solicitar tiempo al cliente para conseguir el producto\",20%,Totalmente en desacuerdo,En desacuerdo,En desacuerdo,Totalmente en desacuerdo,En desacuerdo,En desacuerdo,Totalmente en desacuerdo,Totalmente en desacuerdo,Totalmente en desacuerdo,Totalmente en desacuerdo,no,Joksan ,P\\xc3\\xa9rez Alonso,2214433277.0,joksanperez99@gmail.com,0.0,2.0,0.0,2.0,2.0,2.0,3.0,4.0,1.0,7.0,1.0,3.0,50.0,20.0,20.0,1.0,2.0,20.0\\n143,c485d465-5d2d-4356-9a9b-93dbee2ab8df,\"November 9, 2022\",2022-11-15 20:24:53 UTC,Jes\\xc3\\xbas Herrera,SRID=4326;POINT(-98.2617294714 19.0190156807),19.0190156807,-98.2617294714,Ferreter\\xc3\\xada robcas ,1 Photo,Ferreter\\xc3\\xada,yes,no,no,\"Security cameras,Smartphone\",1 Photo,no,yes,2015-07-22,No cambi\\xc3\\xb3,Aument\\xc3\\xb3 15%,yes,En papel,\"Caja registradora (an\\xc3\\xa1loga),En papel\",Realizar pron\\xc3\\xb3sticos de ventas,no,yes,no,Llamada a Tel\\xc3\\xa9fono celular,Efectivo,Transferencia interbancaria,yes,16-20%,0,2-5%,1.0,11-15%,16-20%,7.0,\"Efectivo,Tarjeta de d\\xc3\\xa9bito y/o cr\\xc3\\xa9dito,Transferencia interbancaria\",Ninguna,no,no,30%,Cuaderno,no,Ninguno,Tarde (12:00 - 7:00 pm),El cliente los recoge en tienda,5%,1-5%,\"No creo que represente grandes ingresos,No quiero involucrarme con la tecnolog\\xc3\\xada\",Totalmente en desacuerdo,Totalmente en desacuerdo,Algo de acuerdo,Totalmente en desacuerdo,Ni de acuerdo ni en desacuerdo,Algo en desacuerdo,Ni de acuerdo ni en desacuerdo,Algo de acuerdo,Algo en desacuerdo,Totalmente en desacuerdo,Algo en desacuerdo,Totalmente en desacuerdo,\"En persona,Llamada telef\\xc3\\xb3nica\",Ninguno,0,Ninguna,Efectivo,no,Aumentar la cantidad del pedido,Diariamente,Refrigeraci\\xc3\\xb3n,\"Ofrecer un producto sustituto,Solicitar tiempo al cliente para conseguir el producto\",20%,Totalmente en desacuerdo,En desacuerdo,En desacuerdo,Totalmente en desacuerdo,En desacuerdo,En desacuerdo,Totalmente en desacuerdo,Totalmente en desacuerdo,Totalmente en desacuerdo,Totalmente en desacuerdo,no,Joksan ,P\\xc3\\xa9rez Alonso,2214433277.0,joksanperez99@gmail.com,0.0,0.0,6.0,2.0,2.0,2.0,3.0,4.0,1.0,7.0,1.0,3.0,50.0,20.0,20.0,1.0,2.0,20.0\\n144,c5a6497e-aea3-49fc-99bc-e8ae026adbe9,\"November 9, 2022\",2022-11-15 20:24:53 UTC,Jes\\xc3\\xbas Herrera,SRID=4326;POINT(-98.2616849252 19.0190394387),19.0190394387,-98.2616849252,Rey patata,1 Photo,Restaurant,no,no,no,\"Analog cash register,Dataphone (i.e. card payments),Smartphone\",1 Photo,no,yes,2015-07-22,No cambi\\xc3\\xb3,Aument\\xc3\\xb3 15%,yes,En papel,\"Caja registradora (an\\xc3\\xa1loga),En papel\",Realizar pron\\xc3\\xb3sticos de ventas,no,yes,no,Llamada a Tel\\xc3\\xa9fono celular,Efectivo,Transferencia interbancaria,yes,16-20%,0,2-5%,1.0,11-15%,16-20%,7.0,\"Efectivo,Tarjeta de d\\xc3\\xa9bito y/o cr\\xc3\\xa9dito,Transferencia interbancaria\",Ninguna,no,no,30%,Cuaderno,no,Ninguno,Tarde (12:00 - 7:00 pm),El cliente los recoge en tienda,5%,1-5%,\"No creo que represente grandes ingresos,No quiero involucrarme con la tecnolog\\xc3\\xada\",Totalmente en desacuerdo,Totalmente en desacuerdo,Algo de acuerdo,Totalmente en desacuerdo,Ni de acuerdo ni en desacuerdo,Algo en desacuerdo,Ni de acuerdo ni en desacuerdo,Algo de acuerdo,Algo en desacuerdo,Totalmente en desacuerdo,Algo en desacuerdo,Totalmente en desacuerdo,\"En persona,Llamada telef\\xc3\\xb3nica\",Ninguno,0,Ninguna,Efectivo,no,Aumentar la cantidad del pedido,Diariamente,Refrigeraci\\xc3\\xb3n,\"Ofrecer un producto sustituto,Solicitar tiempo al cliente para conseguir el producto\",20%,Totalmente en desacuerdo,En desacuerdo,En desacuerdo,Totalmente en desacuerdo,En desacuerdo,En desacuerdo,Totalmente en desacuerdo,Totalmente en desacuerdo,Totalmente en desacuerdo,Totalmente en desacuerdo,no,Joksan ,P\\xc3\\xa9rez Alonso,2214433277.0,joksanperez99@gmail.com,0.0,1.0,0.0,2.0,2.0,2.0,3.0,4.0,1.0,7.0,1.0,3.0,50.0,20.0,20.0,1.0,2.0,20.0\\n145,757d088f-6425-4318-9e88-7e500ae6c250,\"November 9, 2022\",2022-11-15 20:24:53 UTC,Jes\\xc3\\xbas Herrera,SRID=4326;POINT(-98.2608414638 19.0205730464),19.0205730464,-98.2608414638,Taqueria delicias,1 Photo,Micro-restaurant (aka. fondita),no,no,no,\"Dataphone (i.e. card payments),Smartphone\",1 Photo,no,yes,2015-07-22,No cambi\\xc3\\xb3,Aument\\xc3\\xb3 15%,yes,En papel,\"Caja registradora (an\\xc3\\xa1loga),En papel\",Realizar pron\\xc3\\xb3sticos de ventas,no,yes,no,Llamada a Tel\\xc3\\xa9fono celular,Efectivo,Transferencia interbancaria,yes,16-20%,0,2-5%,1.0,11-15%,16-20%,7.0,\"Efectivo,Tarjeta de d\\xc3\\xa9bito y/o cr\\xc3\\xa9dito,Transferencia interbancaria\",Ninguna,no,no,30%,Cuaderno,no,Ninguno,Tarde (12:00 - 7:00 pm),El cliente los recoge en tienda,5%,1-5%,\"No creo que represente grandes ingresos,No quiero involucrarme con la tecnolog\\xc3\\xada\",Totalmente en desacuerdo,Totalmente en desacuerdo,Algo de acuerdo,Totalmente en desacuerdo,Ni de acuerdo ni en desacuerdo,Algo en desacuerdo,Ni de acuerdo ni en desacuerdo,Algo de acuerdo,Algo en desacuerdo,Totalmente en desacuerdo,Algo en desacuerdo,Totalmente en desacuerdo,\"En persona,Llamada telef\\xc3\\xb3nica\",Ninguno,0,Ninguna,Efectivo,no,Aumentar la cantidad del pedido,Diariamente,Refrigeraci\\xc3\\xb3n,\"Ofrecer un producto sustituto,Solicitar tiempo al cliente para conseguir el producto\",20%,Totalmente en desacuerdo,En desacuerdo,En desacuerdo,Totalmente en desacuerdo,En desacuerdo,En desacuerdo,Totalmente en desacuerdo,Totalmente en desacuerdo,Totalmente en desacuerdo,Totalmente en desacuerdo,no,Joksan ,P\\xc3\\xa9rez Alonso,2214433277.0,joksanperez99@gmail.com,0.0,2.0,0.0,2.0,2.0,2.0,3.0,4.0,1.0,7.0,1.0,3.0,50.0,20.0,20.0,1.0,2.0,20.0\\n146,f7286569-fafd-4eec-905b-32a964601304,\"November 9, 2022\",2022-11-15 20:24:52 UTC,Jes\\xc3\\xbas Herrera,SRID=4326;POINT(-98.2610320379 19.0202976725),19.0202976725,-98.2610320379,Jarcier\\xc3\\xada F\\xc3\\xa9nix ,1 Photo,Dairy products,no,yes,no,Smartphone,1 Photo,no,yes,2015-07-22,No cambi\\xc3\\xb3,Aument\\xc3\\xb3 15%,yes,En papel,\"Caja registradora (an\\xc3\\xa1loga),En papel\",Realizar pron\\xc3\\xb3sticos de ventas,no,yes,no,Llamada a Tel\\xc3\\xa9fono celular,Efectivo,Transferencia interbancaria,yes,16-20%,0,2-5%,1.0,11-15%,16-20%,7.0,\"Efectivo,Tarjeta de d\\xc3\\xa9bito y/o cr\\xc3\\xa9dito,Transferencia interbancaria\",Ninguna,no,no,30%,Cuaderno,no,Ninguno,Tarde (12:00 - 7:00 pm),El cliente los recoge en tienda,5%,1-5%,\"No creo que represente grandes ingresos,No quiero involucrarme con la tecnolog\\xc3\\xada\",Totalmente en desacuerdo,Totalmente en desacuerdo,Algo de acuerdo,Totalmente en desacuerdo,Ni de acuerdo ni en desacuerdo,Algo en desacuerdo,Ni de acuerdo ni en desacuerdo,Algo de acuerdo,Algo en desacuerdo,Totalmente en desacuerdo,Algo en desacuerdo,Totalmente en desacuerdo,\"En persona,Llamada telef\\xc3\\xb3nica\",Ninguno,0,Ninguna,Efectivo,no,Aumentar la cantidad del pedido,Diariamente,Refrigeraci\\xc3\\xb3n,\"Ofrecer un producto sustituto,Solicitar tiempo al cliente para conseguir el producto\",20%,Totalmente en desacuerdo,En desacuerdo,En desacuerdo,Totalmente en desacuerdo,En desacuerdo,En desacuerdo,Totalmente en desacuerdo,Totalmente en desacuerdo,Totalmente en desacuerdo,Totalmente en desacuerdo,no,Joksan ,P\\xc3\\xa9rez Alonso,2214433277.0,joksanperez99@gmail.com,0.0,0.0,5.0,2.0,2.0,2.0,3.0,4.0,1.0,7.0,1.0,3.0,50.0,20.0,20.0,1.0,2.0,20.0\\n147,fc6f7687-92b5-4824-9af7-257fef3c21db,\"November 15, 2022\",2022-11-15 18:52:43 UTC,Ismael L\\xc3\\xb3pez,SRID=4326;POINT(-98.2500527 19.0315554),19.0315554,-98.2500527,\"Carniceria \"\"Mi Lupita\"\"\",1 Photo,Butcher shop,no,no,yes,\"Analog cash register,Smartphone\",1 Photo,yes,yes,2015-07-22,No cambi\\xc3\\xb3,Aument\\xc3\\xb3 15%,yes,En papel,\"Caja registradora (an\\xc3\\xa1loga),En papel\",Realizar pron\\xc3\\xb3sticos de ventas,no,yes,no,Llamada a Tel\\xc3\\xa9fono celular,Efectivo,Transferencia interbancaria,yes,16-20%,0,2-5%,1.0,11-15%,16-20%,7.0,\"Efectivo,Tarjeta de d\\xc3\\xa9bito y/o cr\\xc3\\xa9dito,Transferencia interbancaria\",Ninguna,no,no,30%,Cuaderno,no,Ninguno,Tarde (12:00 - 7:00 pm),El cliente los recoge en tienda,5%,1-5%,\"No creo que represente grandes ingresos,No quiero involucrarme con la tecnolog\\xc3\\xada\",Totalmente en desacuerdo,Totalmente en desacuerdo,Algo de acuerdo,Totalmente en desacuerdo,Ni de acuerdo ni en desacuerdo,Algo en desacuerdo,Ni de acuerdo ni en desacuerdo,Algo de acuerdo,Algo en desacuerdo,Totalmente en desacuerdo,Algo en desacuerdo,Totalmente en desacuerdo,\"En persona,Llamada telef\\xc3\\xb3nica\",Ninguno,0,Ninguna,Efectivo,no,Aumentar la cantidad del pedido,Diariamente,Refrigeraci\\xc3\\xb3n,\"Ofrecer un producto sustituto,Solicitar tiempo al cliente para conseguir el producto\",20%,Totalmente en desacuerdo,En desacuerdo,En desacuerdo,Totalmente en desacuerdo,En desacuerdo,En desacuerdo,Totalmente en desacuerdo,Totalmente en desacuerdo,Totalmente en desacuerdo,Totalmente en desacuerdo,no,Joksan ,P\\xc3\\xa9rez Alonso,2214433277.0,joksanperez99@gmail.com,3.0,2.0,0.0,2.0,2.0,2.0,3.0,4.0,1.0,7.0,1.0,3.0,50.0,20.0,20.0,1.0,2.0,20.0\\n148,145827a2-e537-4700-bae2-e5582f57e9a5,\"November 9, 2022\",2022-11-15 17:42:19 UTC,Ismael L\\xc3\\xb3pez,SRID=4326;POINT(-98.250840857 19.0327127063),19.0327127063,-98.250840857,Miscel\\xc3\\xa1nea Florecer,1 Photo,Grocery store (aka. nanostore),no,no,yes,Smartphone,1 Photo,no,yes,1990-11-09,No cambi\\xc3\\xb3,Aument\\xc3\\xb3 15%,yes,Software especializado + computadora,Software especializado + computadora,Realizar pron\\xc3\\xb3sticos de ventas,no,yes,yes,\"Aplicaci\\xc3\\xb3n m\\xc3\\xb3vil (e.g. Rappi, Uber Eats),Llamada a Tel\\xc3\\xa9fono celular,Llamada a Tel\\xc3\\xa9fono fijo,P\\xc3\\xa1gina web propia,Redes sociales (e.g. Facebook, Instagram),WhatsApp\",Efectivo,Transferencia interbancaria,yes,16-20%,0,2-5%,1.0,11-15%,16-20%,7.0,\"Efectivo,Tarjeta de d\\xc3\\xa9bito y/o cr\\xc3\\xa9dito,Transferencia interbancaria\",Ninguna,no,no,15%,Excel,no,Entrega a domicilio,Tarde (12:00 - 7:00 pm),El cliente los recoge en tienda,5%,1-5%,No conozco los servicios,Algo de acuerdo,Algo en desacuerdo,Totalmente de acuerdo,Totalmente en desacuerdo,Ni de acuerdo ni en desacuerdo,Totalmente en desacuerdo,Algo en desacuerdo,Ni de acuerdo ni en desacuerdo,Algo de acuerdo,Ni de acuerdo ni en desacuerdo,Totalmente en desacuerdo,Algo en desacuerdo,En persona,Recompra,0,Software especializado,Efectivo,no,Aumentar la cantidad del pedido,Diariamente,\"Categor\\xc3\\xada (e.g. limpieza, aseo personal, comestibles, l\\xc3\\xa1cteos, etc.),Refrigeraci\\xc3\\xb3n\",\"Informar al proveedor,Ofrecer un producto sustituto\",20%,Totalmente de acuerdo,Totalmente de acuerdo,Totalmente de acuerdo,De acuerdo,Totalmente de acuerdo,De acuerdo,De acuerdo,De acuerdo,En desacuerdo,De acuerdo,no,Joksan ,P\\xc3\\xa9rez Alonso,2214433277.0,joksanperez99@gmail.com,0.0,2.0,5.0,3.0,4.0,0.0,3.0,7.0,1.0,7.0,1.0,3.0,50.0,20.0,20.0,1.0,2.0,50.0\\n149,04209b22-ec2f-4645-a997-ac2d98e7a415,\"November 9, 2022\",2022-11-15 17:36:23 UTC,Ignacio L\\xc3\\xb3pez,SRID=4326;POINT(-98.2480955 19.0281671),19.0281671,-98.2480955,Abarrotes Susy,1 Photo,Grocery store (aka. nanostore),yes,no,yes,\"POS system (i.e. computer + bar code scanner + printer),Security cameras,Smartphone\",1 Photo,yes,yes,1990-11-09,No cambi\\xc3\\xb3,Aument\\xc3\\xb3 15%,yes,Software especializado + computadora,Software especializado + computadora,Realizar pron\\xc3\\xb3sticos de ventas,no,yes,yes,\"Aplicaci\\xc3\\xb3n m\\xc3\\xb3vil (e.g. Rappi, Uber Eats),Llamada a Tel\\xc3\\xa9fono celular,Llamada a Tel\\xc3\\xa9fono fijo,P\\xc3\\xa1gina web propia,Redes sociales (e.g. Facebook, Instagram),WhatsApp\",Efectivo,Transferencia interbancaria,yes,16-20%,0,2-5%,1.0,11-15%,16-20%,7.0,\"Efectivo,Tarjeta de d\\xc3\\xa9bito y/o cr\\xc3\\xa9dito,Transferencia interbancaria\",Ninguna,no,no,15%,Excel,no,Entrega a domicilio,Tarde (12:00 - 7:00 pm),El cliente los recoge en tienda,5%,1-5%,No conozco los servicios,Algo de acuerdo,Algo en desacuerdo,Totalmente de acuerdo,Totalmente en desacuerdo,Ni de acuerdo ni en desacuerdo,Totalmente en desacuerdo,Algo en desacuerdo,Ni de acuerdo ni en desacuerdo,Algo de acuerdo,Ni de acuerdo ni en desacuerdo,Totalmente en desacuerdo,Algo en desacuerdo,En persona,Recompra,0,Software especializado,Efectivo,no,Aumentar la cantidad del pedido,Diariamente,\"Categor\\xc3\\xada (e.g. limpieza, aseo personal, comestibles, l\\xc3\\xa1cteos, etc.),Refrigeraci\\xc3\\xb3n\",\"Informar al proveedor,Ofrecer un producto sustituto\",20%,Totalmente de acuerdo,Totalmente de acuerdo,Totalmente de acuerdo,De acuerdo,Totalmente de acuerdo,De acuerdo,De acuerdo,De acuerdo,En desacuerdo,De acuerdo,no,Joksan ,P\\xc3\\xa9rez Alonso,2214433277.0,joksanperez99@gmail.com,1.4,1.6,2.0,3.0,4.0,0.0,3.0,7.0,1.0,7.0,1.0,3.0,50.0,20.0,20.0,1.0,2.0,50.0\\n150,769576ef-5e00-41cd-973b-4f9fd021ef5a,\"November 9, 2022\",2022-11-15 17:32:58 UTC,Ignacio L\\xc3\\xb3pez,SRID=4326;POINT(-98.249366 19.0274711),19.0274711,-98.249366,Desayunos Don Moy,1 Photo,Micro-restaurant (aka. fondita),no,no,yes,\"Dataphone (i.e. card payments),Security cameras,Smartphone\",1 Photo,yes,yes,2021-11-09,No cambi\\xc3\\xb3,No cambi\\xc3\\xb3,yes,En papel,En papel,Realizar pron\\xc3\\xb3sticos de ventas,yes,yes,yes,\"Aplicaci\\xc3\\xb3n m\\xc3\\xb3vil (e.g. Rappi, Uber Eats),Llamada a Tel\\xc3\\xa9fono celular,Llamada a Tel\\xc3\\xa9fono fijo,P\\xc3\\xa1gina web propia,Redes sociales (e.g. Facebook, Instagram),WhatsApp\",\"Aplicaci\\xc3\\xb3n m\\xc3\\xb3vil (e.g. CODI),Efectivo,Tarjeta de d\\xc3\\xa9bito y/o cr\\xc3\\xa9dito,Transferencia interbancaria\",Transferencia interbancaria,yes,16-20%,0,2-5%,1.0,11-15%,16-20%,7.0,\"Efectivo,Tarjeta de d\\xc3\\xa9bito y/o cr\\xc3\\xa9dito,Transferencia interbancaria\",Redes sociales,no,no,30%,Cuaderno,yes,Entrega a domicilio,Tarde (12:00 - 7:00 pm),El cliente los recoge en tienda,0,1-5%,No conozco los servicios,Totalmente en desacuerdo,Totalmente en desacuerdo,Totalmente de acuerdo,Totalmente en desacuerdo,Totalmente en desacuerdo,Totalmente en desacuerdo,Algo en desacuerdo,Algo en desacuerdo,Ni de acuerdo ni en desacuerdo,Totalmente en desacuerdo,Totalmente en desacuerdo,Algo en desacuerdo,\"En persona,Llamada telef\\xc3\\xb3nica\",\"Consignaci\\xc3\\xb3n,Cr\\xc3\\xa9dito,Descuento por compras anticipadas,Recompra\",0,\"Cuaderno,Excel,Software especializado\",Efectivo,yes,Aumentar la cantidad del pedido,Diariamente,\"Refrigeraci\\xc3\\xb3n,Tama\\xc3\\xb1o\",Ofrecer un producto sustituto,30%,Totalmente de acuerdo,Totalmente de acuerdo,Totalmente de acuerdo,Totalmente de acuerdo,Totalmente de acuerdo,Totalmente de acuerdo,De acuerdo,De acuerdo,Totalmente de acuerdo,Totalmente de acuerdo,yes,Joksan ,P\\xc3\\xa9rez Alonso,2214433277.0,joksanperez99@gmail.com,0.0,3.0,2.0,4.0,5.0,3.0,2.0,7.0,1.0,7.0,1.0,3.0,50.0,30.0,5.0,1.0,2.0,5.0\\n151,67389b42-ddbd-4787-bb81-0880912fd3f0,\"November 8, 2022\",2022-11-15 17:32:57 UTC,Ignacio L\\xc3\\xb3pez,SRID=4326;POINT(-98.2505692 19.0264825),19.0264825,-98.2505692,La esquinita,1 Photo,Grocery store (aka. nanostore),yes,no,yes,Smartphone,1 Photo,yes,yes,2018-11-01,No cambi\\xc3\\xb3,No cambi\\xc3\\xb3,no,En papel,En papel,Realizar pron\\xc3\\xb3sticos de ventas,no,yes,no,Ninguno ,Efectivo,Transferencia interbancaria,yes,16-20%,0,2-5%,0.0,11-15%,16-20%,7.0,\"Efectivo,Tarjeta de d\\xc3\\xa9bito y/o cr\\xc3\\xa9dito,Transferencia interbancaria\",Aplicaci\\xc3\\xb3n m\\xc3\\xb3vil,yes,no,5%,Aplicaci\\xc3\\xb3n m\\xc3\\xb3vil,no,\"Recarga telef\\xc3\\xb3nica,Recepci\\xc3\\xb3n y entrega de paquetes (e.g. Amazon, Mercado Libre)\",Tarde (12:00 - 7:00 pm),El cliente los recoge en tienda,5%,1-5%,No conozco los servicios,Totalmente de acuerdo,Algo en desacuerdo,Totalmente de acuerdo,Totalmente de acuerdo,Totalmente en desacuerdo,Totalmente en desacuerdo,Algo en desacuerdo,Totalmente en desacuerdo,Totalmente en desacuerdo,Totalmente en desacuerdo,Totalmente en desacuerdo,Algo de acuerdo,En persona,\"Consignaci\\xc3\\xb3n,Cr\\xc3\\xa9dito,Descuento por compras anticipadas,Recompra\",0,Software especializado,Transferencia interbancaria,yes,Disminuir la cantidad del pedido,Semanalmente,caducidad,Ofrecer un producto sustituto,50% +,Totalmente de acuerdo,Totalmente de acuerdo,Totalmente de acuerdo,De acuerdo,Totalmente de acuerdo,Totalmente de acuerdo,De acuerdo,Totalmente de acuerdo,Totalmente de acuerdo,Totalmente de acuerdo,no,Martin ,Castellanos diez,2221778279.0,martincdiez@yahoo.com.mx,5.0,4.0,2.0,0.0,0.0,2.0,10.0,7.0,0.0,7.0,1.0,3.0,50.0,18.0,3.0,1.0,2.0,4.0\\n152,656b61c1-a1d0-4ad2-92fa-35ca9f778a8f,\"November 14, 2022\",2022-11-15 01:05:00 UTC,Irvin V\\xc3\\xa1squez Figueroa,SRID=4326;POINT(-98.2668722 19.0034907),19.0034907,-98.2668722,J&J wings ,1 Photo,Micro-restaurant (aka. fondita),no,yes,yes,\"Dataphone (i.e. card payments),POS system (i.e. computer + bar code scanner + printer)\",1 Photo,yes,yes,2009-11-14,No cambi\\xc3\\xb3,Aument\\xc3\\xb3 15%,yes,Software especializado + computadora,Software especializado + computadora,Realizar pron\\xc3\\xb3sticos de ventas,yes,yes,yes,\"Aplicaci\\xc3\\xb3n m\\xc3\\xb3vil (e.g. Rappi, Uber Eats),Llamada a Tel\\xc3\\xa9fono celular,Redes sociales (e.g. Facebook, Instagram),WhatsApp\",\"Efectivo,Tarjeta de d\\xc3\\xa9bito y/o cr\\xc3\\xa9dito,Transferencia interbancaria\",Transferencia interbancaria,yes,16-20%,0,2-5%,0.0,11-15%,16-20%,7.0,\"Efectivo,Tarjeta de d\\xc3\\xa9bito y/o cr\\xc3\\xa9dito,Transferencia interbancaria\",Aplicaci\\xc3\\xb3n m\\xc3\\xb3vil,yes,no,30%,Software especializado,yes,Entrega a domicilio,Tarde (12:00 - 7:00 pm),El cliente los recoge en tienda,0,0,No conozco los servicios,Totalmente de acuerdo,Totalmente en desacuerdo,Algo en desacuerdo,Totalmente de acuerdo,Totalmente de acuerdo,Totalmente en desacuerdo,Totalmente en desacuerdo,Totalmente en desacuerdo,Totalmente en desacuerdo,Totalmente en desacuerdo,Totalmente de acuerdo,Totalmente de acuerdo,Mensajer\\xc3\\xada instant\\xc3\\xa1nea (e.g. WhatsApp),\"Consignaci\\xc3\\xb3n,Cr\\xc3\\xa9dito,Descuento por compras anticipadas,Recompra\",0,Software especializado,Transferencia interbancaria,yes,Disminuir la cantidad del pedido,Semanalmente,caducidad,Ofrecer un producto sustituto,50% +,Totalmente de acuerdo,Totalmente de acuerdo,Totalmente de acuerdo,De acuerdo,Totalmente de acuerdo,Totalmente de acuerdo,De acuerdo,Totalmente de acuerdo,Totalmente de acuerdo,Totalmente de acuerdo,yes,Martin ,Castellanos diez,2221778279.0,martincdiez@yahoo.com.mx,4.0,2.0,12.0,1.0,1.0,2.0,0.0,6.0,0.0,1.0,0.0,2.0,50.0,18.0,6.0,3.0,6.0,4.0\\n153,822b616f-b7a2-4f92-8af6-4346c4878566,\"November 14, 2022\",2022-11-15 00:53:39 UTC,C\\xc3\\xa9sar Alejandro Rivera Guzm\\xc3\\xa1n,SRID=4326;POINT(-98.2668469428 19.003467056),19.003467056,-98.2668469428,La costra ,1 Photo,Micro-restaurant (aka. fondita),yes,yes,yes,\"Analog cash register,POS system (i.e. computer + bar code scanner + printer)\",1 Photo,yes,yes,2021-08-14,No cambi\\xc3\\xb3,No cambi\\xc3\\xb3,no,En papel,\"Aplicaci\\xc3\\xb3n m\\xc3\\xb3vil (i.e. App) + smartphone,Software especializado + computadora\",Realizar pron\\xc3\\xb3sticos de ventas,no,no,yes,WhatsApp,\"Efectivo,Transferencia interbancaria\",Efectivo,no,2-5%,2-5%,2-5%,1.0,,,,\"Efectivo,Transferencia interbancaria\",Aplicaci\\xc3\\xb3n m\\xc3\\xb3vil,no,no,30%,Ninguna,no,Entrega a domicilio,Tarde (12:00 - 7:00 pm),El cliente los recoge en tienda,6%+,1-5%,No conozco los servicios,Totalmente en desacuerdo,Totalmente en desacuerdo,Algo en desacuerdo,Totalmente en desacuerdo,Totalmente en desacuerdo,Totalmente en desacuerdo,Totalmente en desacuerdo,Totalmente en desacuerdo,Totalmente en desacuerdo,Totalmente en desacuerdo,Totalmente en desacuerdo,Totalmente en desacuerdo,Mensajer\\xc3\\xada instant\\xc3\\xa1nea (e.g. WhatsApp),Consignaci\\xc3\\xb3n,0,Ninguna,Efectivo,no,Aumentar la cantidad del pedido,Diariamente,Frecuencia de venta,Ofrecer un producto sustituto,0,Totalmente en desacuerdo,Totalmente en desacuerdo,Totalmente en desacuerdo,Totalmente en desacuerdo,Totalmente en desacuerdo,Totalmente en desacuerdo,Totalmente en desacuerdo,Totalmente en desacuerdo,Totalmente en desacuerdo,Totalmente en desacuerdo,no,Carolina,Cano Fern\\xc3\\xa1ndez ,2491454368.0,carofer809@gmail.com ,0.0,1.0,1.0,2.0,2.0,0.0,4.4,5.0,1.0,4.0,0.0,2.0,50.0,1.0,2.0,3.0,1.0,20.0\\n154,b83c6d45-9f51-49a3-8ded-acc2fa6a7024,\"November 14, 2022\",2022-11-15 00:41:46 UTC,C\\xc3\\xa9sar Alejandro Rivera Guzm\\xc3\\xa1n,SRID=4326;POINT(-98.2669726946 19.003503467),19.003503467,-98.2669726946,La casa de los magueyes,1 Photo,Micro-restaurant (aka. fondita),yes,no,yes,\"Analog cash register,Dataphone (i.e. card payments),Smartphone\",1 Photo,yes,yes,2008-09-14,No cambi\\xc3\\xb3,Aument\\xc3\\xb3 50% o m\\xc3\\xa1s,yes,\"En Excel,En papel,Software especializado + computadora\",En Excel,Realizar pron\\xc3\\xb3sticos de ventas,yes,no,yes,\"Llamada a Tel\\xc3\\xa9fono celular,Redes sociales (e.g. Facebook, Instagram),WhatsApp\",\"Efectivo,Tarjeta de d\\xc3\\xa9bito y/o cr\\xc3\\xa9dito,Transferencia interbancaria\",Transferencia interbancaria,no,2-5%,2-5%,2-5%,1.0,,,,\"Tarjeta de d\\xc3\\xa9bito y/o cr\\xc3\\xa9dito,Transferencia interbancaria\",Ninguna,no,no,30%,Ninguna,no,Entrega a domicilio,Tarde (12:00 - 7:00 pm),El cliente los recoge en tienda,6%+,1-5%,No conozco los servicios,Totalmente en desacuerdo,Totalmente en desacuerdo,Algo en desacuerdo,Totalmente en desacuerdo,Totalmente en desacuerdo,Totalmente en desacuerdo,Totalmente en desacuerdo,Totalmente en desacuerdo,Ni de acuerdo ni en desacuerdo,Ni de acuerdo ni en desacuerdo,Totalmente en desacuerdo,Totalmente en desacuerdo,\"En persona,Llamada telef\\xc3\\xb3nica,Mensajer\\xc3\\xada instant\\xc3\\xa1nea (e.g. WhatsApp)\",Consignaci\\xc3\\xb3n,0,Ninguna,Efectivo,no,Aumentar la cantidad del pedido,Diariamente,Refrigeraci\\xc3\\xb3n,Perder la venta,0,Totalmente en desacuerdo,Totalmente en desacuerdo,Totalmente en desacuerdo,Totalmente en desacuerdo,Totalmente en desacuerdo,Totalmente en desacuerdo,Totalmente en desacuerdo,Totalmente en desacuerdo,Totalmente en desacuerdo,Totalmente en desacuerdo,no,Carolina,Cano Fern\\xc3\\xa1ndez ,2491454368.0,carofer809@gmail.com ,0.0,3.0,4.0,2.0,2.2,3.0,4.4,5.0,1.0,4.0,0.0,2.0,50.0,7.0,2.0,3.0,1.0,20.0\\n155,66539468-acc9-408f-8238-798112b708d0,\"November 7, 2022\",2022-11-14 22:50:54 UTC,Maximiliano Espinoza V\\xc3\\xa9lez,SRID=4326;POINT(-98.2738825679 18.9991161836),18.9991161836,-98.2738825679,Don Zapatero,1 Photo,Dairy products,no,no,no,Security cameras,2 Photos,yes,yes,2013-07-11,Disminuy\\xc3\\xb3 15%,No cambi\\xc3\\xb3,no,Software especializado + computadora,Caja registradora (an\\xc3\\xa1loga),Realizar pron\\xc3\\xb3sticos de ventas,no,no,yes,Llamada a Tel\\xc3\\xa9fono fijo,\"Efectivo,Tarjeta de d\\xc3\\xa9bito y/o cr\\xc3\\xa9dito\",Tarjeta de d\\xc3\\xa9bito y/o cr\\xc3\\xa9dito,no,2-5%,2-5%,,1.0,,,,Tarjeta de d\\xc3\\xa9bito y/o cr\\xc3\\xa9dito,Redes sociales,no,no,40%,Ninguna,no,Ninguno,Tarde (12:00 - 7:00 pm),El cliente los recoge en tienda,5%,1-5%,No conozco los servicios,Algo en desacuerdo,Algo en desacuerdo,Algo en desacuerdo,Algo en desacuerdo,Algo en desacuerdo,Algo en desacuerdo,Algo en desacuerdo,Algo en desacuerdo,Algo en desacuerdo,Algo en desacuerdo,Algo en desacuerdo,Algo en desacuerdo,Llamada telef\\xc3\\xb3nica,Consignaci\\xc3\\xb3n,0,Ninguna,\"Efectivo,Tarjeta de d\\xc3\\xa9bito y/o cr\\xc3\\xa9dito\",no,Aumentar la cantidad del pedido,Semanalmente,Frecuencia de venta,Ofrecer un producto sustituto,50% +,Totalmente de acuerdo,Totalmente de acuerdo,Totalmente de acuerdo,Totalmente de acuerdo,Totalmente de acuerdo,Totalmente de acuerdo,Totalmente de acuerdo,Totalmente de acuerdo,Totalmente de acuerdo,Totalmente de acuerdo,no,Carolina,Cano Fern\\xc3\\xa1ndez ,2491454368.0,carofer809@gmail.com ,2.0,0.0,9.0,2.0,10.0,4.0,1.0,5.0,1.0,4.0,0.0,2.0,50.0,7.0,7.0,3.0,1.0,0.0\\n156,b73b0c62-db8c-422e-8796-4af6ba95cdb4,\"November 7, 2022\",2022-11-14 22:50:54 UTC,C\\xc3\\xa9sar Alejandro Rivera Guzm\\xc3\\xa1n,SRID=4326;POINT(-98.2749072008 18.9996194585),18.9996194585,-98.2749072008,Cl\\xc3\\xadnica veterinaria Angelopolis ,1 Photo,Grocery store (aka. nanostore),no,yes,no,\"Analog cash register,Security cameras,Smartphone\",2 Photos,yes,yes,2021-05-11,No cambi\\xc3\\xb3,No cambi\\xc3\\xb3,yes,Software especializado + computadora,Software especializado + computadora,Realizar pron\\xc3\\xb3sticos de ventas,yes,no,yes,\"Llamada a Tel\\xc3\\xa9fono celular,Llamada a Tel\\xc3\\xa9fono fijo,Redes sociales (e.g. Facebook, Instagram),WhatsApp\",\"Efectivo,Tarjeta de d\\xc3\\xa9bito y/o cr\\xc3\\xa9dito,Transferencia interbancaria\",Tarjeta de d\\xc3\\xa9bito y/o cr\\xc3\\xa9dito,no,2-5%,2-5%,,1.0,,,,Tarjeta de d\\xc3\\xa9bito y/o cr\\xc3\\xa9dito,Redes sociales,no,no,25%,Software especializado,no,Ninguno,Tarde (12:00 - 7:00 pm),El cliente los recoge en tienda,5%,1-5%,No conozco los servicios,Algo de acuerdo,Totalmente en desacuerdo,Totalmente de acuerdo,Algo de acuerdo,Algo de acuerdo,Totalmente en desacuerdo,Totalmente en desacuerdo,Totalmente en desacuerdo,Totalmente en desacuerdo,Algo de acuerdo,Totalmente en desacuerdo,Ni de acuerdo ni en desacuerdo,Mensajer\\xc3\\xada instant\\xc3\\xa1nea (e.g. WhatsApp),Consignaci\\xc3\\xb3n,0,Excel,Transferencia interbancaria,no,Aumentar la cantidad del pedido,Diariamente,\"Categor\\xc3\\xada (e.g. limpieza, aseo personal, comestibles, l\\xc3\\xa1cteos, etc.),Frecuencia de venta,Precio,Tama\\xc3\\xb1o\",\"Informar al proveedor,Ofrecer un producto sustituto,Solicitar tiempo al cliente para conseguir el producto\",20%,Totalmente de acuerdo,Totalmente de acuerdo,Totalmente de acuerdo,Totalmente en desacuerdo,Ni de acuerdo ni en desacuerdo,Totalmente de acuerdo,Totalmente de acuerdo,Totalmente de acuerdo,Totalmente en desacuerdo,Ni de acuerdo ni en desacuerdo,yes,Carolina,Cano Fern\\xc3\\xa1ndez ,2491454368.0,carofer809@gmail.com ,0.0,0.0,12.0,2.0,2.0,4.0,0.0,5.0,1.0,4.0,0.0,2.0,50.0,7.0,7.0,3.0,2.0,0.0\\n157,5690ecb8-38a0-49e8-ba45-c420f4275dd5,\"November 7, 2022\",2022-11-14 22:50:53 UTC,Maximiliano Espinoza V\\xc3\\xa9lez,SRID=4326;POINT(-98.2749588042 18.9993022692),18.9993022692,-98.2749588042,Casita de moner\\xc3\\xadas ,1 Photo,Dairy products,yes,no,no,\"Analog cash register,Other\",2 Photos,yes,yes,2017-09-07,Disminuy\\xc3\\xb3 15%,No cambi\\xc3\\xb3,yes,En Excel,Software especializado + computadora,Realizar pron\\xc3\\xb3sticos de ventas,no,no,yes,\"Redes sociales (e.g. Facebook, Instagram)\",\"Efectivo,Tarjeta de d\\xc3\\xa9bito y/o cr\\xc3\\xa9dito\",Tarjeta de d\\xc3\\xa9bito y/o cr\\xc3\\xa9dito,no,2-5%,2-5%,,1.0,,,,Tarjeta de d\\xc3\\xa9bito y/o cr\\xc3\\xa9dito,Redes sociales,no,no,50% +,Ninguna,no,Ninguno,Tarde (12:00 - 7:00 pm),El cliente los recoge en tienda,5%,1-5%,No conozco los servicios,Totalmente en desacuerdo,Totalmente en desacuerdo,Ni de acuerdo ni en desacuerdo,Ni de acuerdo ni en desacuerdo,Algo en desacuerdo,Algo en desacuerdo,Algo en desacuerdo,Ni de acuerdo ni en desacuerdo,Ni de acuerdo ni en desacuerdo,Ni de acuerdo ni en desacuerdo,Ni de acuerdo ni en desacuerdo,Ni de acuerdo ni en desacuerdo,\"En persona,Llamada telef\\xc3\\xb3nica,Mensajer\\xc3\\xada instant\\xc3\\xa1nea (e.g. WhatsApp)\",Consignaci\\xc3\\xb3n,3-5%,Software especializado,Efectivo,no,Aumentar la cantidad del pedido,Semanalmente,\"Categor\\xc3\\xada (e.g. limpieza, aseo personal, comestibles, l\\xc3\\xa1cteos, etc.)\",Solicitar tiempo al cliente para conseguir el producto,30%,Totalmente de acuerdo,Totalmente de acuerdo,Totalmente de acuerdo,Totalmente de acuerdo,Totalmente de acuerdo,Totalmente de acuerdo,Totalmente de acuerdo,Totalmente de acuerdo,Totalmente de acuerdo,Totalmente de acuerdo,no,Miguel \\xc3\\x81ngel ,Cuautle Vela,2228016876.0,adriancuautle10@gmail.com ,2.0,1.0,1.0,2.0,6.0,4.0,2.0,5.0,1.0,4.0,0.0,2.0,50.0,7.0,7.0,3.0,2.0,0.0\\n158,d8ff3dbc-ba17-4ebd-8f23-a4b808fb0308,\"November 7, 2022\",2022-11-14 22:50:53 UTC,C\\xc3\\xa9sar Alejandro Rivera Guzm\\xc3\\xa1n,SRID=4326;POINT(-98.2745584846 18.9996039122),18.9996039122,-98.2745584846,Carnicer\\xc3\\xada Lulu-s,1 Photo,Butcher shop,no,yes,yes,\"Analog cash register,POS system (i.e. computer + bar code scanner + printer),Security cameras,Smartphone\",2 Photos,yes,yes,2022-11-07,No cambi\\xc3\\xb3,Disminuy\\xc3\\xb3 15%,no,En Excel,\"Aplicaci\\xc3\\xb3n m\\xc3\\xb3vil (i.e. App) + smartphone,Caja registradora (an\\xc3\\xa1loga),En Excel,Software especializado + computadora\",Realizar pron\\xc3\\xb3sticos de ventas,yes,yes,yes,\"Llamada a Tel\\xc3\\xa9fono celular,WhatsApp\",\"Efectivo,Tarjeta de d\\xc3\\xa9bito y/o cr\\xc3\\xa9dito,Transferencia interbancaria\",Tarjeta de d\\xc3\\xa9bito y/o cr\\xc3\\xa9dito,no,2-5%,2-5%,,1.0,,,,Tarjeta de d\\xc3\\xa9bito y/o cr\\xc3\\xa9dito,Aplicaci\\xc3\\xb3n m\\xc3\\xb3vil,no,no,30%,Aplicaci\\xc3\\xb3n m\\xc3\\xb3vil,no,Entrega a domicilio,Tarde (12:00 - 7:00 pm),El cliente los recoge en tienda,5%,1-5%,No conozco los servicios,Totalmente en desacuerdo,Totalmente en desacuerdo,Ni de acuerdo ni en desacuerdo,Totalmente en desacuerdo,Totalmente en desacuerdo,Totalmente en desacuerdo,Totalmente en desacuerdo,Totalmente en desacuerdo,Totalmente en desacuerdo,Totalmente en desacuerdo,Totalmente en desacuerdo,Totalmente en desacuerdo,\"Llamada telef\\xc3\\xb3nica,Mensajer\\xc3\\xada instant\\xc3\\xa1nea (e.g. WhatsApp)\",Consignaci\\xc3\\xb3n,0,Excel,Efectivo,yes,Aumentar la cantidad del pedido,Diariamente,\"Categor\\xc3\\xada (e.g. limpieza, aseo personal, comestibles, l\\xc3\\xa1cteos, etc.),Frecuencia de venta,Margen de utilidad,Precio,Refrigeraci\\xc3\\xb3n,Venta cruzada (e.g. cereal + leche)\",\"Ofrecer un producto sustituto,Solicitar tiempo al cliente para conseguir el producto\",10%,Totalmente de acuerdo,Totalmente de acuerdo,Totalmente de acuerdo,Ni de acuerdo ni en desacuerdo,Totalmente de acuerdo,Ni de acuerdo ni en desacuerdo,Totalmente en desacuerdo,Totalmente de acuerdo,En desacuerdo,Totalmente de acuerdo,yes,Miguel \\xc3\\x81ngel ,Cuautle Vela,2228016876.0,adriancuautle10@gmail.com ,0.0,3.0,7.0,5.0,5.0,4.0,1.0,5.0,1.0,4.0,0.0,2.0,50.0,7.0,7.0,3.0,7.0,12.9\\n159,8709a6d7-5d1b-4d55-8af4-59c12d76aae1,\"November 7, 2022\",2022-11-14 22:50:53 UTC,Maximiliano Espinoza V\\xc3\\xa9lez,SRID=4326;POINT(-98.2750382647 18.9993469678),18.9993469678,-98.2750382647,M\\xc3\\xbcbarek,1 Photo,Dairy products,no,no,no,Security cameras,3 Photos,yes,yes,2017-05-18,No cambi\\xc3\\xb3,No cambi\\xc3\\xb3,yes,En Excel,Software especializado + computadora,Realizar pron\\xc3\\xb3sticos de ventas,no,yes,yes,WhatsApp,\"Efectivo,Tarjeta de d\\xc3\\xa9bito y/o cr\\xc3\\xa9dito\",Tarjeta de d\\xc3\\xa9bito y/o cr\\xc3\\xa9dito,no,2-5%,2-5%,,1.0,,,,Tarjeta de d\\xc3\\xa9bito y/o cr\\xc3\\xa9dito,Ninguna,no,no,45%,Excel,no,Ninguno,Tarde (12:00 - 7:00 pm),El cliente los recoge en tienda,1%,6-10%,No conozco los servicios,Ni de acuerdo ni en desacuerdo,Ni de acuerdo ni en desacuerdo,Ni de acuerdo ni en desacuerdo,Ni de acuerdo ni en desacuerdo,Algo de acuerdo,Totalmente de acuerdo,Totalmente de acuerdo,Totalmente de acuerdo,Totalmente de acuerdo,Totalmente de acuerdo,Totalmente de acuerdo,Totalmente de acuerdo,\"Llamada telef\\xc3\\xb3nica,Mensaje de texto (SMS),Mensajer\\xc3\\xada instant\\xc3\\xa1nea (e.g. WhatsApp),P\\xc3\\xa1gina web del proveedor\",Cr\\xc3\\xa9dito,6-8%,\"Excel,Software especializado\",Efectivo,no,Ninguna de las anteriores,Diariamente,\"Categor\\xc3\\xada (e.g. limpieza, aseo personal, comestibles, l\\xc3\\xa1cteos, etc.)\",Ofrecer un producto sustituto,50% +,Totalmente de acuerdo,Totalmente de acuerdo,Totalmente de acuerdo,Totalmente de acuerdo,Totalmente de acuerdo,Totalmente de acuerdo,Totalmente de acuerdo,Totalmente de acuerdo,Totalmente de acuerdo,Totalmente de acuerdo,no,Gustavo,Garc\\xc3\\xada moreno,2225293659.0,fukolo@hotmail.com,1.0,0.0,5.0,2.0,9.0,1.0,0.0,3.0,1.0,4.0,0.0,2.0,50.0,2.0,7.0,3.0,2.0,0.0\\n160,e7102c11-3eec-4177-b2e5-dcd7baa00575,\"November 7, 2022\",2022-11-14 22:50:53 UTC,C\\xc3\\xa9sar Alejandro Rivera Guzm\\xc3\\xa1n,SRID=4326;POINT(-98.2736777142 18.9992087509),18.9992087509,-98.2736777142,Paradise,1 Photo,Dairy products,no,yes,no,\"Analog cash register,Dataphone (i.e. card payments),POS system (i.e. computer + bar code scanner + printer)\",3 Photos,yes,yes,2021-12-01,Aument\\xc3\\xb3 15%,No cambi\\xc3\\xb3,yes,Software especializado + computadora,Software especializado + computadora,Realizar pron\\xc3\\xb3sticos de ventas,yes,no,yes,\"P\\xc3\\xa1gina web propia,Redes sociales (e.g. Facebook, Instagram),WhatsApp\",\"Efectivo,Tarjeta de d\\xc3\\xa9bito y/o cr\\xc3\\xa9dito,Transferencia interbancaria\",Tarjeta de d\\xc3\\xa9bito y/o cr\\xc3\\xa9dito,no,2-5%,2-5%,,1.0,,,,Tarjeta de d\\xc3\\xa9bito y/o cr\\xc3\\xa9dito,Software especializado,no,no,50% +,Software especializado,no,Entrega a domicilio,Tarde (12:00 - 7:00 pm),El cliente los recoge en tienda,1%,6-10%,No creo que represente grandes ingresos,Totalmente en desacuerdo,Totalmente en desacuerdo,Algo en desacuerdo,Totalmente de acuerdo,Totalmente de acuerdo,Totalmente en desacuerdo,Totalmente en desacuerdo,Totalmente en desacuerdo,Totalmente en desacuerdo,Totalmente en desacuerdo,Totalmente en desacuerdo,Totalmente en desacuerdo,Sistema especializado del proveedor (e.g. VMS),Consignaci\\xc3\\xb3n,0,Software especializado,Transferencia interbancaria,yes,Ninguna de las anteriores,Semanalmente,\"Categor\\xc3\\xada (e.g. limpieza, aseo personal, comestibles, l\\xc3\\xa1cteos, etc.)\",\"Ofrecer un producto sustituto,Solicitar tiempo al cliente para conseguir el producto\",50% +,Totalmente de acuerdo,Totalmente de acuerdo,Totalmente de acuerdo,Totalmente de acuerdo,Totalmente de acuerdo,Totalmente de acuerdo,Totalmente de acuerdo,Totalmente de acuerdo,Totalmente en desacuerdo,Totalmente de acuerdo,yes,Gustavo,Garc\\xc3\\xada moreno,2225293659.0,fukolo@hotmail.com,0.0,0.0,6.0,5.0,5.0,1.0,2.0,2.0,1.0,4.0,0.0,2.0,50.0,2.0,7.0,3.0,1.0,0.0\\n161,72bcaf96-0b90-4d12-b733-3272cb0dae89,\"November 7, 2022\",2022-11-14 22:50:52 UTC,Maximiliano Espinoza V\\xc3\\xa9lez,SRID=4326;POINT(-98.2748071882 18.9995895163),18.9995895163,-98.2748071882,P\\xc3\\xa1pelomas ,1 Photo,Dairy products,no,no,no,Security cameras,1 Photo,yes,yes,2018-07-07,No cambi\\xc3\\xb3,No cambi\\xc3\\xb3,yes,Software especializado + computadora,Caja registradora (an\\xc3\\xa1loga),Realizar pron\\xc3\\xb3sticos de ventas,no,yes,yes,Llamada a Tel\\xc3\\xa9fono fijo,Efectivo,Tarjeta de d\\xc3\\xa9bito y/o cr\\xc3\\xa9dito,no,2-5%,2-5%,,2.0,,,,Tarjeta de d\\xc3\\xa9bito y/o cr\\xc3\\xa9dito,Ninguna,no,no,30%,Software especializado,no,Ninguno,Tarde (12:00 - 7:00 pm),El cliente los recoge en tienda,1%,6-10%,No creo que represente grandes ingresos,Algo en desacuerdo,Algo en desacuerdo,Algo en desacuerdo,Algo en desacuerdo,Ni de acuerdo ni en desacuerdo,Ni de acuerdo ni en desacuerdo,Ni de acuerdo ni en desacuerdo,Algo de acuerdo,Algo de acuerdo,Algo en desacuerdo,Ni de acuerdo ni en desacuerdo,Algo de acuerdo,\"Llamada telef\\xc3\\xb3nica,Mensaje de texto (SMS),Mensajer\\xc3\\xada instant\\xc3\\xa1nea (e.g. WhatsApp)\",Consignaci\\xc3\\xb3n,1-2%,Ninguna,\"Efectivo,Tarjeta de d\\xc3\\xa9bito y/o cr\\xc3\\xa9dito\",no,\"Disminuci\\xc3\\xb3n de la variedad de productos,Disminuir la cantidad del pedido,Disminuir la frecuencia de pedidos\",Diariamente,\"Categor\\xc3\\xada (e.g. limpieza, aseo personal, comestibles, l\\xc3\\xa1cteos, etc.)\",Ofrecer un producto sustituto,10%,Totalmente de acuerdo,Totalmente de acuerdo,Totalmente de acuerdo,Totalmente de acuerdo,Totalmente de acuerdo,Totalmente de acuerdo,Totalmente de acuerdo,Totalmente de acuerdo,Totalmente de acuerdo,Totalmente de acuerdo,no,Fernanda,Escobedo,2224524020.0,fer.escobedo.meneses@gmail.com,1.0,0.0,10.0,1.0,7.0,1.0,0.0,2.0,2.0,4.0,0.0,2.0,50.0,0.0,1.0,3.0,2.0,0.0\\n162,a2bbf1f3-757a-4823-8421-507882c88e9d,\"November 9, 2022\",2022-11-14 18:43:22 UTC,Sebastian Salem Barranco Olvera,SRID=4326;POINT(-98.1648537696 19.0737175029),19.0737175029,-98.1648537696,Floreria Ra\\xc3\\xbal,1 Photo,Toolshop,yes,yes,no,\"POS system (i.e. computer + bar code scanner + printer),Security cameras\",1 Photo,yes,yes,2009-04-09,Disminuy\\xc3\\xb3 15%,No cambi\\xc3\\xb3,yes,En Excel,En Excel,Realizar pron\\xc3\\xb3sticos de ventas,no,yes,yes,\"Redes sociales (e.g. Facebook, Instagram)\",\"Efectivo,Tarjeta de d\\xc3\\xa9bito y/o cr\\xc3\\xa9dito\",Tarjeta de d\\xc3\\xa9bito y/o cr\\xc3\\xa9dito,no,2-5%,2-5%,,2.0,,,,Tarjeta de d\\xc3\\xa9bito y/o cr\\xc3\\xa9dito,\"Aplicaci\\xc3\\xb3n m\\xc3\\xb3vil,Redes sociales\",no,no,10%,Ninguna,no,Entrega a domicilio,Tarde (12:00 - 7:00 pm),El cliente los recoge en tienda,1%,6-10%,No creo que represente grandes ingresos,Totalmente en desacuerdo,Algo en desacuerdo,Algo de acuerdo,Algo en desacuerdo,Totalmente de acuerdo,Totalmente de acuerdo,Totalmente de acuerdo,Totalmente de acuerdo,Totalmente de acuerdo,Totalmente de acuerdo,Algo en desacuerdo,Algo en desacuerdo,P\\xc3\\xa1gina web del proveedor,Consignaci\\xc3\\xb3n,1-2%,Software especializado,Efectivo,no,\"Disminuci\\xc3\\xb3n de la variedad de productos,Disminuir la cantidad del pedido,Disminuir la frecuencia de pedidos\",Diariamente,\"Categor\\xc3\\xada (e.g. limpieza, aseo personal, comestibles, l\\xc3\\xa1cteos, etc.)\",Ofrecer un producto sustituto,50% +,Totalmente de acuerdo,Totalmente de acuerdo,Totalmente de acuerdo,Totalmente de acuerdo,Totalmente de acuerdo,Totalmente de acuerdo,Totalmente de acuerdo,Totalmente de acuerdo,Totalmente de acuerdo,Totalmente de acuerdo,no,Fernanda,Escobedo,2224524020.0,fer.escobedo.meneses@gmail.com,0.0,0.0,3.0,1.0,2.0,1.0,3.0,2.0,2.0,4.0,0.0,2.0,50.0,0.0,1.0,3.0,1.0,0.0\\n163,8751b672-ea28-4002-bb90-1e6d57aef1d8,\"November 9, 2022\",2022-11-14 14:11:29 UTC,Fernando B\\xc3\\xa1ez,SRID=4326;POINT(-98.1664491 19.0716081),19.0716081,-98.1664491,Lavanderia y secado de ropa,1 Photo,Lavanderia,no,no,no,Smartphone,1 Photo,no,yes,2010-11-10,No cambi\\xc3\\xb3,Aument\\xc3\\xb3 15%,yes,En papel,En papel,Realizar pron\\xc3\\xb3sticos de ventas,no,yes,yes,\"Aplicaci\\xc3\\xb3n m\\xc3\\xb3vil (e.g. Rappi, Uber Eats),WhatsApp\",Efectivo,Tarjeta de d\\xc3\\xa9bito y/o cr\\xc3\\xa9dito,no,2-5%,2-5%,,0.0,,,,Tarjeta de d\\xc3\\xa9bito y/o cr\\xc3\\xa9dito,Redes sociales,yes,no,35%,Ninguna,no,Ninguno,Tarde (12:00 - 7:00 pm),El cliente los recoge en tienda,6%+,16-20%,No creo que represente grandes ingresos,Ni de acuerdo ni en desacuerdo,Ni de acuerdo ni en desacuerdo,Algo de acuerdo,Ni de acuerdo ni en desacuerdo,Totalmente en desacuerdo,Totalmente en desacuerdo,Ni de acuerdo ni en desacuerdo,Totalmente en desacuerdo,Totalmente en desacuerdo,Algo en desacuerdo,Totalmente en desacuerdo,Totalmente en desacuerdo,\"Llamada telef\\xc3\\xb3nica,Mensaje de texto (SMS)\",Cr\\xc3\\xa9dito,1-2%,Ninguna,Efectivo,no,\"Disminuci\\xc3\\xb3n de la variedad de productos,Disminuir la cantidad del pedido,Disminuir la frecuencia de pedidos\",Diariamente,Precio,\"Ofrecer un producto sustituto,Perder la venta\",0,Totalmente en desacuerdo,En desacuerdo,Totalmente en desacuerdo,Totalmente en desacuerdo,En desacuerdo,De acuerdo,En desacuerdo,Ni de acuerdo ni en desacuerdo,Ni de acuerdo ni en desacuerdo,En desacuerdo,no,Fernanda,Escobedo,2224524020.0,fer.escobedo.meneses@gmail.com,0.0,0.0,7.0,2.0,3.0,1.0,5.0,4.0,0.0,4.0,0.0,2.0,50.0,40.0,2.0,3.0,2.0,4.0\\n164,ea27d23c-82eb-4af1-8f76-d0641d11ac8a,\"November 10, 2022\",2022-11-14 13:47:48 UTC,Fernando B\\xc3\\xa1ez,SRID=4326;POINT(-98.1968643793 19.041192564),19.041192564,-98.1968643793,Cemitas La poblanita ,1 Photo,Micro-restaurant (aka. fondita),yes,no,yes,Smartphone,1 Photo,yes,yes,2010-11-10,No cambi\\xc3\\xb3,Aument\\xc3\\xb3 15%,yes,En papel,En papel,Realizar pron\\xc3\\xb3sticos de ventas,no,yes,yes,\"Aplicaci\\xc3\\xb3n m\\xc3\\xb3vil (e.g. Rappi, Uber Eats),WhatsApp\",Efectivo,Tarjeta de d\\xc3\\xa9bito y/o cr\\xc3\\xa9dito,no,2-5%,2-5%,,0.0,,,,Tarjeta de d\\xc3\\xa9bito y/o cr\\xc3\\xa9dito,Redes sociales,yes,no,35%,Ninguna,no,Ninguno,Tarde (12:00 - 7:00 pm),El cliente los recoge en tienda,6%+,16-20%,No creo que represente grandes ingresos,Ni de acuerdo ni en desacuerdo,Ni de acuerdo ni en desacuerdo,Algo de acuerdo,Ni de acuerdo ni en desacuerdo,Totalmente en desacuerdo,Totalmente en desacuerdo,Ni de acuerdo ni en desacuerdo,Totalmente en desacuerdo,Totalmente en desacuerdo,Algo en desacuerdo,Totalmente en desacuerdo,Totalmente en desacuerdo,\"Llamada telef\\xc3\\xb3nica,Mensaje de texto (SMS)\",Cr\\xc3\\xa9dito,1-2%,Ninguna,Efectivo,no,\"Disminuci\\xc3\\xb3n de la variedad de productos,Disminuir la cantidad del pedido,Disminuir la frecuencia de pedidos\",Diariamente,Precio,\"Ofrecer un producto sustituto,Perder la venta\",0,Totalmente en desacuerdo,En desacuerdo,Totalmente en desacuerdo,Totalmente en desacuerdo,En desacuerdo,De acuerdo,En desacuerdo,Ni de acuerdo ni en desacuerdo,Ni de acuerdo ni en desacuerdo,En desacuerdo,no,Fernanda,Escobedo,2224524020.0,fer.escobedo.meneses@gmail.com,0.0,1.0,2.0,2.0,3.0,1.0,5.0,4.0,0.0,4.0,0.0,2.0,50.0,40.0,2.0,3.0,2.0,4.0\\n165,04d151c9-a260-4e4b-98df-d5e061dbd1d9,\"November 10, 2022\",2022-11-14 13:47:47 UTC,Fernando B\\xc3\\xa1ez,SRID=4326;POINT(-98.1972279063 19.0427621921),19.0427621921,-98.1972279063,Milenio,1 Photo,Grocery store (aka. nanostore),yes,no,yes,Smartphone,1 Photo,no,no,2021-11-10,No cambi\\xc3\\xb3,No cambi\\xc3\\xb3,yes,Aplicaci\\xc3\\xb3n m\\xc3\\xb3vil (i.e. App) + smartphone,Aplicaci\\xc3\\xb3n m\\xc3\\xb3vil (i.e. App) + smartphone,Realizar pron\\xc3\\xb3sticos de ventas,yes,yes,no,WhatsApp,Efectivo,Tarjeta de d\\xc3\\xa9bito y/o cr\\xc3\\xa9dito,no,2-5%,2-5%,,0.0,,,,Tarjeta de d\\xc3\\xa9bito y/o cr\\xc3\\xa9dito,Ninguna,no,no,15%,Ninguna,no,Ninguno,Tarde (12:00 - 7:00 pm),El cliente los recoge en tienda,6%+,16-20%,Es muy caro,Algo de acuerdo,Algo en desacuerdo,Algo en desacuerdo,Algo de acuerdo,Totalmente en desacuerdo,Totalmente en desacuerdo,Totalmente en desacuerdo,Totalmente en desacuerdo,Totalmente en desacuerdo,Totalmente en desacuerdo,Totalmente en desacuerdo,Totalmente en desacuerdo,\"En persona,Llamada telef\\xc3\\xb3nica\",Recompra,1-2%,Cuaderno,Efectivo,no,\"Disminuci\\xc3\\xb3n de la variedad de productos,Disminuir la cantidad del pedido,Disminuir la frecuencia de pedidos\",Semanalmente,\"Categor\\xc3\\xada (e.g. limpieza, aseo personal, comestibles, l\\xc3\\xa1cteos, etc.),Venta cruzada (e.g. cereal + leche)\",\"Informar al proveedor,Ofrecer un producto sustituto\",30%,De acuerdo,Ni de acuerdo ni en desacuerdo,Ni de acuerdo ni en desacuerdo,Ni de acuerdo ni en desacuerdo,Ni de acuerdo ni en desacuerdo,Ni de acuerdo ni en desacuerdo,Ni de acuerdo ni en desacuerdo,Ni de acuerdo ni en desacuerdo,Ni de acuerdo ni en desacuerdo,Ni de acuerdo ni en desacuerdo,no,Fernanda,Escobedo,2224524020.0,fer.escobedo.meneses@gmail.com,1.0,2.0,6.0,1.0,1.0,3.0,3.0,2.0,0.0,10.0,1.0,2.0,50.0,40.0,2.0,3.0,2.0,20.0\\n166,ea51aec7-c8ae-4499-8d86-e34b591f5688,\"November 10, 2022\",2022-11-14 13:47:47 UTC,Fernando B\\xc3\\xa1ez,SRID=4326;POINT(-98.1976678678 19.0430171891),19.0430171891,-98.1976678678,Tienda 3 caminos,1 Photo,Grocery store (aka. nanostore),no,no,yes,\"Analog cash register,Smartphone\",1 Photo,yes,yes,2021-11-10,No cambi\\xc3\\xb3,No cambi\\xc3\\xb3,yes,Aplicaci\\xc3\\xb3n m\\xc3\\xb3vil (i.e. App) + smartphone,Aplicaci\\xc3\\xb3n m\\xc3\\xb3vil (i.e. App) + smartphone,Realizar pron\\xc3\\xb3sticos de ventas,yes,yes,no,WhatsApp,Efectivo,Tarjeta de d\\xc3\\xa9bito y/o cr\\xc3\\xa9dito,no,2-5%,2-5%,,0.0,,,,Tarjeta de d\\xc3\\xa9bito y/o cr\\xc3\\xa9dito,Ninguna,no,no,15%,Ninguna,no,Ninguno,Tarde (12:00 - 7:00 pm),El cliente los recoge en tienda,6%+,16-20%,Es muy caro,Algo de acuerdo,Algo en desacuerdo,Algo en desacuerdo,Algo de acuerdo,Totalmente en desacuerdo,Totalmente en desacuerdo,Totalmente en desacuerdo,Totalmente en desacuerdo,Totalmente en desacuerdo,Totalmente en desacuerdo,Totalmente en desacuerdo,Totalmente en desacuerdo,\"En persona,Llamada telef\\xc3\\xb3nica\",Recompra,1-2%,Cuaderno,Efectivo,no,\"Disminuci\\xc3\\xb3n de la variedad de productos,Disminuir la cantidad del pedido,Disminuir la frecuencia de pedidos\",Semanalmente,\"Categor\\xc3\\xada (e.g. limpieza, aseo personal, comestibles, l\\xc3\\xa1cteos, etc.),Venta cruzada (e.g. cereal + leche)\",\"Informar al proveedor,Ofrecer un producto sustituto\",30%,De acuerdo,Ni de acuerdo ni en desacuerdo,Ni de acuerdo ni en desacuerdo,Ni de acuerdo ni en desacuerdo,Ni de acuerdo ni en desacuerdo,Ni de acuerdo ni en desacuerdo,Ni de acuerdo ni en desacuerdo,Ni de acuerdo ni en desacuerdo,Ni de acuerdo ni en desacuerdo,Ni de acuerdo ni en desacuerdo,no,Fernanda,Escobedo,2224524020.0,fer.escobedo.meneses@gmail.com,2.0,3.0,6.0,1.0,1.0,3.0,3.0,2.0,0.0,10.0,1.0,2.0,50.0,40.0,2.0,3.0,2.0,20.0\\n167,91a29a06-a5b5-482f-9300-6c65059938c9,\"November 10, 2022\",2022-11-14 13:47:46 UTC,Fernando B\\xc3\\xa1ez,SRID=4326;POINT(-98.1975623346 19.0429592526),19.0429592526,-98.1975623346,Todo Puebla en un solo Lugar,1 Photo,Clothes store,no,yes,no,Smartphone,1 Photo,no,yes,2002-10-03,No cambi\\xc3\\xb3,Aument\\xc3\\xb3 15%,no,No lo hago,No lo hago,Realizar pron\\xc3\\xb3sticos de ventas,no,yes,no,\"Llamada a Tel\\xc3\\xa9fono celular,WhatsApp\",Efectivo,Tarjeta de d\\xc3\\xa9bito y/o cr\\xc3\\xa9dito,no,2-5%,2-5%,,0.0,,,,Tarjeta de d\\xc3\\xa9bito y/o cr\\xc3\\xa9dito,Ninguna,no,no,25%,Ninguna,no,Ninguno,Tarde (12:00 - 7:00 pm),El cliente los recoge en tienda,6%+,16-20%,\"Es muy caro,No creo que represente grandes ingresos,No quiero involucrarme con la tecnolog\\xc3\\xada\",Algo de acuerdo,Totalmente en desacuerdo,Totalmente en desacuerdo,Totalmente en desacuerdo,Totalmente en desacuerdo,Algo en desacuerdo,Totalmente en desacuerdo,Algo en desacuerdo,Ni de acuerdo ni en desacuerdo,Ni de acuerdo ni en desacuerdo,Ni de acuerdo ni en desacuerdo,Algo de acuerdo,\"Llamada telef\\xc3\\xb3nica,Mensaje de texto (SMS)\",Cr\\xc3\\xa9dito,1-2%,Cuaderno,Efectivo,yes,\"Disminuci\\xc3\\xb3n de la variedad de productos,Disminuir la cantidad del pedido,Disminuir la frecuencia de pedidos\",Diariamente,\"Frecuencia de venta,Precio,Tama\\xc3\\xb1o\",\"Ofrecer un producto sustituto,Perder la venta\",10%,Totalmente en desacuerdo,Totalmente en desacuerdo,Totalmente en desacuerdo,Totalmente en desacuerdo,Totalmente en desacuerdo,Totalmente en desacuerdo,Totalmente en desacuerdo,Totalmente en desacuerdo,Totalmente en desacuerdo,Totalmente en desacuerdo,no,Fernanda,Escobedo,2224524020.0,fer.escobedo.meneses@gmail.com,0.0,0.0,3.0,1.0,1.0,0.0,3.0,4.0,0.0,10.0,1.0,2.0,50.0,40.0,2.0,3.0,1.0,4.0\\n168,3a1b6e40-b68a-42dd-bb9b-7a986d4db8a4,\"November 3, 2022\",2022-11-14 13:47:45 UTC,Fernando B\\xc3\\xa1ez,SRID=4326;POINT(-98.1937293694 19.0427066583),19.0427066583,-98.1937293694,Los testigos ,1 Photo,Micro-restaurant (aka. fondita),yes,no,yes,Analog cash register,1 Photo,yes,yes,2002-10-03,No cambi\\xc3\\xb3,Aument\\xc3\\xb3 15%,no,No lo hago,No lo hago,Realizar pron\\xc3\\xb3sticos de ventas,no,yes,no,\"Llamada a Tel\\xc3\\xa9fono celular,WhatsApp\",Efectivo,Tarjeta de d\\xc3\\xa9bito y/o cr\\xc3\\xa9dito,no,2-5%,2-5%,,0.0,,,,Tarjeta de d\\xc3\\xa9bito y/o cr\\xc3\\xa9dito,Ninguna,no,no,25%,Ninguna,no,Ninguno,Tarde (12:00 - 7:00 pm),El cliente los recoge en tienda,6%+,16-20%,\"Es muy caro,No creo que represente grandes ingresos,No quiero involucrarme con la tecnolog\\xc3\\xada\",Algo de acuerdo,Totalmente en desacuerdo,Totalmente en desacuerdo,Totalmente en desacuerdo,Totalmente en desacuerdo,Algo en desacuerdo,Totalmente en desacuerdo,Algo en desacuerdo,Ni de acuerdo ni en desacuerdo,Ni de acuerdo ni en desacuerdo,Ni de acuerdo ni en desacuerdo,Algo de acuerdo,\"Llamada telef\\xc3\\xb3nica,Mensaje de texto (SMS)\",Cr\\xc3\\xa9dito,1-2%,Cuaderno,Efectivo,yes,\"Disminuci\\xc3\\xb3n de la variedad de productos,Disminuir la cantidad del pedido,Disminuir la frecuencia de pedidos\",Diariamente,\"Frecuencia de venta,Precio,Tama\\xc3\\xb1o\",\"Ofrecer un producto sustituto,Perder la venta\",10%,Totalmente en desacuerdo,Totalmente en desacuerdo,Totalmente en desacuerdo,Totalmente en desacuerdo,Totalmente en desacuerdo,Totalmente en desacuerdo,Totalmente en desacuerdo,Totalmente en desacuerdo,Totalmente en desacuerdo,Totalmente en desacuerdo,no,Fernanda,Escobedo,2224524020.0,fer.escobedo.meneses@gmail.com,1.0,1.0,0.0,1.0,1.0,0.0,3.0,4.0,0.0,10.0,1.0,2.0,50.0,40.0,2.0,3.0,1.0,4.0\\n169,3dbbc09b-dcc4-40e5-86f7-74cb452fea24,\"November 3, 2022\",2022-11-14 13:47:45 UTC,Fernando B\\xc3\\xa1ez,SRID=4326;POINT(-98.1937278214 19.0426603292),19.0426603292,-98.1937278214,La candelaria,1 Photo,Dishes,yes,no,no,Analog cash register,1 Photo,no,yes,2021-04-12,No cambi\\xc3\\xb3,No cambi\\xc3\\xb3,yes,Software especializado + computadora,Software especializado + computadora,Se lleva al d\\xc3\\xada ,yes,no,yes,\"Llamada a Tel\\xc3\\xa9fono celular,Llamada a Tel\\xc3\\xa9fono fijo,Redes sociales (e.g. Facebook, Instagram),WhatsApp\",\"Efectivo,Transferencia interbancaria\",Tarjeta de d\\xc3\\xa9bito y/o cr\\xc3\\xa9dito,no,2-5%,2-5%,,0.0,,,,Tarjeta de d\\xc3\\xa9bito y/o cr\\xc3\\xa9dito,Redes sociales,no,no,20%,Software especializado,no,Ninguno,Tarde (12:00 - 7:00 pm),El cliente los recoge en tienda,6%+,16-20%,No conozco los servicios,Totalmente en desacuerdo,Totalmente en desacuerdo,Totalmente en desacuerdo,Totalmente en desacuerdo,Algo de acuerdo,Algo en desacuerdo,Algo en desacuerdo,Algo en desacuerdo,Totalmente en desacuerdo,Totalmente en desacuerdo,Totalmente de acuerdo,Ni de acuerdo ni en desacuerdo,Mensajer\\xc3\\xada instant\\xc3\\xa1nea (e.g. WhatsApp),Cr\\xc3\\xa9dito,9%+,Ninguna,Transferencia interbancaria,no,\"Disminuci\\xc3\\xb3n de la variedad de productos,Disminuir la cantidad del pedido,Disminuir la frecuencia de pedidos\",Semestralmente,\"Categor\\xc3\\xada (e.g. limpieza, aseo personal, comestibles, l\\xc3\\xa1cteos, etc.),Tama\\xc3\\xb1o\",Solicitar tiempo al cliente para conseguir el producto,0,De acuerdo,En desacuerdo,Ni de acuerdo ni en desacuerdo,Totalmente en desacuerdo,En desacuerdo,De acuerdo,De acuerdo,Ni de acuerdo ni en desacuerdo,En desacuerdo,En desacuerdo,no,Fernanda,Escobedo,2224524020.0,fer.escobedo.meneses@gmail.com,0.0,0.0,10.0,2.0,2.0,1.0,3.0,4.0,0.0,10.0,1.0,2.0,50.0,40.0,2.0,3.0,7.0,0.0\\n170,cc76b420-22ca-4fbf-8864-83d30925b31d,\"November 3, 2022\",2022-11-14 13:47:44 UTC,Fernando B\\xc3\\xa1ez,SRID=4326;POINT(-98.193461125 19.0427712866),19.0427712866,-98.193461125,Sombreros ,1 Photo,Clothes,no,no,no,Analog cash register,1 Photo,no,yes,2021-04-12,No cambi\\xc3\\xb3,No cambi\\xc3\\xb3,yes,Software especializado + computadora,Software especializado + computadora,Se lleva al d\\xc3\\xada ,yes,no,yes,\"Llamada a Tel\\xc3\\xa9fono celular,Llamada a Tel\\xc3\\xa9fono fijo,Redes sociales (e.g. Facebook, Instagram),WhatsApp\",\"Efectivo,Transferencia interbancaria\",Tarjeta de d\\xc3\\xa9bito y/o cr\\xc3\\xa9dito,no,2-5%,2-5%,,0.0,,,,Tarjeta de d\\xc3\\xa9bito y/o cr\\xc3\\xa9dito,Redes sociales,no,no,20%,Software especializado,no,Ninguno,Tarde (12:00 - 7:00 pm),El cliente los recoge en tienda,6%+,16-20%,No conozco los servicios,Totalmente en desacuerdo,Totalmente en desacuerdo,Totalmente en desacuerdo,Totalmente en desacuerdo,Algo de acuerdo,Algo en desacuerdo,Algo en desacuerdo,Algo en desacuerdo,Totalmente en desacuerdo,Totalmente en desacuerdo,Totalmente de acuerdo,Ni de acuerdo ni en desacuerdo,Mensajer\\xc3\\xada instant\\xc3\\xa1nea (e.g. WhatsApp),Cr\\xc3\\xa9dito,9%+,Ninguna,Transferencia interbancaria,no,\"Disminuci\\xc3\\xb3n de la variedad de productos,Disminuir la cantidad del pedido,Disminuir la frecuencia de pedidos\",Semestralmente,\"Categor\\xc3\\xada (e.g. limpieza, aseo personal, comestibles, l\\xc3\\xa1cteos, etc.),Tama\\xc3\\xb1o\",Solicitar tiempo al cliente para conseguir el producto,0,De acuerdo,En desacuerdo,Ni de acuerdo ni en desacuerdo,Totalmente en desacuerdo,En desacuerdo,De acuerdo,De acuerdo,Ni de acuerdo ni en desacuerdo,En desacuerdo,En desacuerdo,no,Fernanda,Escobedo,2224524020.0,fer.escobedo.meneses@gmail.com,0.0,0.0,2.0,2.0,2.0,1.0,3.0,4.0,0.0,10.0,1.0,2.0,50.0,40.0,2.0,3.0,7.0,0.0\\n171,dff2998e-af74-4de6-8efd-488aca24e67b,\"November 12, 2022\",2022-11-12 22:15:10 UTC,Salomon Abdala Perez,SRID=4326;POINT(-98.233822273 19.0535362706),19.0535362706,-98.233822273,Eugene\\xe2\\x80\\x99s Compostura,1 Photo,Tailor,yes,no,no,POS system (i.e. computer + bar code scanner + printer),1 Photo,yes,yes,2021-04-12,No cambi\\xc3\\xb3,No cambi\\xc3\\xb3,yes,Software especializado + computadora,Software especializado + computadora,Se lleva al d\\xc3\\xada ,yes,no,yes,\"Llamada a Tel\\xc3\\xa9fono celular,Llamada a Tel\\xc3\\xa9fono fijo,Redes sociales (e.g. Facebook, Instagram),WhatsApp\",\"Efectivo,Transferencia interbancaria\",Tarjeta de d\\xc3\\xa9bito y/o cr\\xc3\\xa9dito,no,2-5%,2-5%,,0.0,,,,Tarjeta de d\\xc3\\xa9bito y/o cr\\xc3\\xa9dito,Redes sociales,no,no,20%,Software especializado,no,Ninguno,Tarde (12:00 - 7:00 pm),El cliente los recoge en tienda,6%+,16-20%,No conozco los servicios,Totalmente en desacuerdo,Totalmente en desacuerdo,Totalmente en desacuerdo,Totalmente en desacuerdo,Algo de acuerdo,Algo en desacuerdo,Algo en desacuerdo,Algo en desacuerdo,Totalmente en desacuerdo,Totalmente en desacuerdo,Totalmente de acuerdo,Ni de acuerdo ni en desacuerdo,Mensajer\\xc3\\xada instant\\xc3\\xa1nea (e.g. WhatsApp),Cr\\xc3\\xa9dito,9%+,Ninguna,Transferencia interbancaria,no,\"Disminuci\\xc3\\xb3n de la variedad de productos,Disminuir la cantidad del pedido,Disminuir la frecuencia de pedidos\",Semestralmente,\"Categor\\xc3\\xada (e.g. limpieza, aseo personal, comestibles, l\\xc3\\xa1cteos, etc.),Tama\\xc3\\xb1o\",Solicitar tiempo al cliente para conseguir el producto,0,De acuerdo,En desacuerdo,Ni de acuerdo ni en desacuerdo,Totalmente en desacuerdo,En desacuerdo,De acuerdo,De acuerdo,Ni de acuerdo ni en desacuerdo,En desacuerdo,En desacuerdo,no,Fernanda,Escobedo,2224524020.0,fer.escobedo.meneses@gmail.com,2.0,0.0,4.0,2.0,2.0,1.0,3.0,4.0,0.0,10.0,1.0,2.0,50.0,40.0,2.0,3.0,7.0,0.0\\n172,c596412f-4fc2-4983-acba-d9565859e42f,\"November 12, 2022\",2022-11-12 22:15:09 UTC,Salomon Abdala Perez,SRID=4326;POINT(-98.2341421351 19.0535610353),19.0535610353,-98.2341421351,Frutas y verduras Angy,1 Photo,Grocery store (aka. nanostore),no,yes,yes,Dataphone (i.e. card payments),1 Photo,yes,yes,2012-08-12,Aument\\xc3\\xb3 15%,No cambi\\xc3\\xb3,yes,No lo hago,No lo hago,Se lleva al d\\xc3\\xada ,no,no,yes,WhatsApp,\"Efectivo,Transferencia interbancaria\",Tarjeta de d\\xc3\\xa9bito y/o cr\\xc3\\xa9dito,no,2-5%,2-5%,,0.0,,,,Tarjeta de d\\xc3\\xa9bito y/o cr\\xc3\\xa9dito,Aplicaci\\xc3\\xb3n m\\xc3\\xb3vil,no,no,20%,Ninguna,no,Ninguno,Tarde (12:00 - 7:00 pm),El cliente los recoge en tienda,6%+,16-20%,No conozco los servicios,Totalmente en desacuerdo,Totalmente en desacuerdo,Totalmente en desacuerdo,Totalmente en desacuerdo,Algo de acuerdo,Algo en desacuerdo,Algo en desacuerdo,Algo en desacuerdo,Totalmente en desacuerdo,Totalmente en desacuerdo,Totalmente de acuerdo,Ni de acuerdo ni en desacuerdo,Mensajer\\xc3\\xada instant\\xc3\\xa1nea (e.g. WhatsApp),Cr\\xc3\\xa9dito,9%+,Ninguna,Transferencia interbancaria,no,\"Disminuci\\xc3\\xb3n de la variedad de productos,Disminuir la cantidad del pedido,Disminuir la frecuencia de pedidos\",Semanalmente,\"Categor\\xc3\\xada (e.g. limpieza, aseo personal, comestibles, l\\xc3\\xa1cteos, etc.)\",\"Ofrecer un producto sustituto,Solicitar tiempo al cliente para conseguir el producto\",10%,De acuerdo,En desacuerdo,Ni de acuerdo ni en desacuerdo,Totalmente en desacuerdo,En desacuerdo,De acuerdo,De acuerdo,Ni de acuerdo ni en desacuerdo,En desacuerdo,En desacuerdo,no,Fernanda,Escobedo,2224524020.0,fer.escobedo.meneses@gmail.com,0.0,4.0,8.0,1.0,1.0,1.0,4.0,4.0,0.0,10.0,1.0,2.0,50.0,40.0,2.0,3.0,7.0,60.0\\n173,5bb632b3-41b5-4fb6-a817-b564e8b45a48,\"November 12, 2022\",2022-11-12 22:15:09 UTC,Salomon Abdala Perez,SRID=4326;POINT(-98.232299887 19.058654656),19.058654656,-98.232299887,Lib\\xc3\\xa9lula ,1 Photo,Grocery store (aka. nanostore),yes,no,no,\"Dataphone (i.e. card payments),POS system (i.e. computer + bar code scanner + printer)\",1 Photo,yes,yes,2022-08-12,No cambi\\xc3\\xb3,No cambi\\xc3\\xb3,yes,En Excel,Software especializado + computadora,Se lleva al d\\xc3\\xada ,no,no,yes,\"Redes sociales (e.g. Facebook, Instagram),WhatsApp\",\"Efectivo,Tarjeta de d\\xc3\\xa9bito y/o cr\\xc3\\xa9dito\",Tarjeta de d\\xc3\\xa9bito y/o cr\\xc3\\xa9dito,no,2-5%,2-5%,,0.0,,,,Tarjeta de d\\xc3\\xa9bito y/o cr\\xc3\\xa9dito,Redes sociales,yes,no,20%,Ninguna,no,Ninguno,Tarde (12:00 - 7:00 pm),El cliente los recoge en tienda,6%+,16-20%,No conozco los servicios,Totalmente en desacuerdo,Totalmente en desacuerdo,Totalmente en desacuerdo,Totalmente en desacuerdo,Algo de acuerdo,Algo en desacuerdo,Algo en desacuerdo,Algo en desacuerdo,Totalmente en desacuerdo,Totalmente en desacuerdo,Totalmente de acuerdo,Ni de acuerdo ni en desacuerdo,Mensajer\\xc3\\xada instant\\xc3\\xa1nea (e.g. WhatsApp),Cr\\xc3\\xa9dito,9%+,Ninguna,Transferencia interbancaria,no,\"Disminuci\\xc3\\xb3n de la variedad de productos,Disminuir la cantidad del pedido,Disminuir la frecuencia de pedidos\",Semanalmente,\"Categor\\xc3\\xada (e.g. limpieza, aseo personal, comestibles, l\\xc3\\xa1cteos, etc.)\",Perder la venta,10%,De acuerdo,En desacuerdo,Ni de acuerdo ni en desacuerdo,Totalmente en desacuerdo,En desacuerdo,De acuerdo,De acuerdo,Ni de acuerdo ni en desacuerdo,En desacuerdo,En desacuerdo,no,Fernanda,Escobedo,2224524020.0,fer.escobedo.meneses@gmail.com,0.0,0.0,24.0,2.0,2.0,1.0,0.0,4.0,0.0,10.0,1.0,2.0,50.0,40.0,2.0,3.0,7.0,60.0\\n174,6774a0f6-bab4-4a58-bf94-95ad0b7cb438,\"November 12, 2022\",2022-11-12 22:15:09 UTC,Salomon Abdala Perez,SRID=4326;POINT(-98.2331576513 19.0592929035),19.0592929035,-98.2331576513,Quality fix,1 Photo,Grocery store (aka. nanostore),no,no,no,POS system (i.e. computer + bar code scanner + printer),1 Photo,yes,yes,2008-11-12,No cambi\\xc3\\xb3,No cambi\\xc3\\xb3,yes,Software especializado + computadora,Software especializado + computadora,Se lleva al d\\xc3\\xada ,yes,no,yes,Llamada a Tel\\xc3\\xa9fono fijo,\"Efectivo,Tarjeta de d\\xc3\\xa9bito y/o cr\\xc3\\xa9dito,Transferencia interbancaria\",Tarjeta de d\\xc3\\xa9bito y/o cr\\xc3\\xa9dito,no,2-5%,2-5%,,0.0,,,,Tarjeta de d\\xc3\\xa9bito y/o cr\\xc3\\xa9dito,Tel\\xc3\\xa9fono,no,no,20%,Ninguna,no,Ninguno,Tarde (12:00 - 7:00 pm),El cliente los recoge en tienda,6%+,16-20%,No conozco los servicios,Totalmente en desacuerdo,Totalmente en desacuerdo,Totalmente en desacuerdo,Totalmente en desacuerdo,Algo de acuerdo,Algo en desacuerdo,Algo en desacuerdo,Algo en desacuerdo,Totalmente en desacuerdo,Totalmente en desacuerdo,Totalmente de acuerdo,Ni de acuerdo ni en desacuerdo,Mensajer\\xc3\\xada instant\\xc3\\xa1nea (e.g. WhatsApp),Cr\\xc3\\xa9dito,9%+,Ninguna,Transferencia interbancaria,yes,\"Disminuci\\xc3\\xb3n de la variedad de productos,Disminuir la cantidad del pedido,Disminuir la frecuencia de pedidos\",Semanalmente,\"Categor\\xc3\\xada (e.g. limpieza, aseo personal, comestibles, l\\xc3\\xa1cteos, etc.)\",Ofrecer un producto sustituto,0,De acuerdo,En desacuerdo,Ni de acuerdo ni en desacuerdo,Totalmente en desacuerdo,En desacuerdo,De acuerdo,De acuerdo,Ni de acuerdo ni en desacuerdo,En desacuerdo,En desacuerdo,no,Fernanda,Escobedo,2224524020.0,fer.escobedo.meneses@gmail.com,0.0,0.0,2.0,1.0,1.0,1.0,4.0,4.0,0.0,15.0,1.0,2.0,50.0,40.0,2.0,3.0,7.0,0.0\\n175,6cc637fa-3d54-48c7-9499-6de13d0a26aa,\"November 12, 2022\",2022-11-12 22:15:08 UTC,Salomon Abdala Perez,SRID=4326;POINT(-98.2338639604 19.0595846029),19.0595846029,-98.2338639604,Artesan\\xc3\\xadas Los Pinos,1 Photo,Grocery store (aka. nanostore),yes,no,no,Smartphone,1 Photo,yes,yes,2007-10-12,No cambi\\xc3\\xb3,No cambi\\xc3\\xb3,yes,En papel,En papel,Se lleva al d\\xc3\\xada ,yes,no,yes,Llamada a Tel\\xc3\\xa9fono celular,\"Efectivo,Tarjeta de d\\xc3\\xa9bito y/o cr\\xc3\\xa9dito,Transferencia interbancaria\",Tarjeta de d\\xc3\\xa9bito y/o cr\\xc3\\xa9dito,no,2-5%,2-5%,,1.0,,,,Tarjeta de d\\xc3\\xa9bito y/o cr\\xc3\\xa9dito,Redes sociales,yes,no,20%,Software especializado,no,Ninguno,Tarde (12:00 - 7:00 pm),El cliente los recoge en tienda,6%+,16-20%,No conozco los servicios,Totalmente en desacuerdo,Totalmente en desacuerdo,Totalmente en desacuerdo,Totalmente en desacuerdo,Algo de acuerdo,Algo en desacuerdo,Algo en desacuerdo,Algo en desacuerdo,Totalmente en desacuerdo,Totalmente en desacuerdo,Totalmente de acuerdo,Ni de acuerdo ni en desacuerdo,Mensajer\\xc3\\xada instant\\xc3\\xa1nea (e.g. WhatsApp),Cr\\xc3\\xa9dito,9%+,Ninguna,Transferencia interbancaria,yes,\"Disminuci\\xc3\\xb3n de la variedad de productos,Disminuir la cantidad del pedido,Disminuir la frecuencia de pedidos\",Mensualmente,Venta cruzada (e.g. cereal + leche),\"Informar al proveedor,Solicitar tiempo al cliente para conseguir el producto\",0,De acuerdo,En desacuerdo,Ni de acuerdo ni en desacuerdo,Totalmente en desacuerdo,En desacuerdo,De acuerdo,De acuerdo,Ni de acuerdo ni en desacuerdo,En desacuerdo,En desacuerdo,no,Fernanda,Escobedo,2224524020.0,fer.escobedo.meneses@gmail.com,0.0,0.0,16.0,0.0,0.0,1.0,0.0,4.0,1.0,15.0,1.0,2.0,50.0,40.0,2.0,3.0,7.0,0.0\\n176,2ab862d8-1449-42fe-9de0-63f0fa86e41c,\"November 12, 2022\",2022-11-12 22:15:07 UTC,Salomon Abdala Perez,SRID=4326;POINT(-98.2340100497 19.0595598862),19.0595598862,-98.2340100497,La f\\xc3\\xaate,1 Photo,Cafeteria,no,no,yes,\"Dataphone (i.e. card payments),Security cameras,Smartphone\",1 Photo,yes,yes,2014-11-12,No cambi\\xc3\\xb3,No cambi\\xc3\\xb3,yes,Software especializado + computadora,Software especializado + computadora,Se lleva al d\\xc3\\xada ,yes,no,yes,WhatsApp,\"Efectivo,Tarjeta de d\\xc3\\xa9bito y/o cr\\xc3\\xa9dito,Transferencia interbancaria\",Tarjeta de d\\xc3\\xa9bito y/o cr\\xc3\\xa9dito,no,2-5%,2-5%,,1.0,,,,Tarjeta de d\\xc3\\xa9bito y/o cr\\xc3\\xa9dito,Redes sociales,no,no,20%,Software especializado,no,Ninguno,Tarde (12:00 - 7:00 pm),El cliente los recoge en tienda,6%+,16-20%,No conozco los servicios,Totalmente en desacuerdo,Totalmente en desacuerdo,Totalmente en desacuerdo,Totalmente en desacuerdo,Algo de acuerdo,Algo en desacuerdo,Algo en desacuerdo,Algo en desacuerdo,Totalmente en desacuerdo,Totalmente en desacuerdo,Totalmente de acuerdo,Ni de acuerdo ni en desacuerdo,Mensajer\\xc3\\xada instant\\xc3\\xa1nea (e.g. WhatsApp),Cr\\xc3\\xa9dito,9%+,Ninguna,Transferencia interbancaria,no,\"Disminuci\\xc3\\xb3n de la variedad de productos,Disminuir la cantidad del pedido,Disminuir la frecuencia de pedidos\",Diariamente,Precio,Ofrecer un producto sustituto,40%,De acuerdo,En desacuerdo,Ni de acuerdo ni en desacuerdo,Totalmente en desacuerdo,En desacuerdo,De acuerdo,De acuerdo,Ni de acuerdo ni en desacuerdo,En desacuerdo,En desacuerdo,no,Fernanda,Escobedo,2224524020.0,fer.escobedo.meneses@gmail.com,0.0,1.0,2.0,1.0,1.0,1.0,2.0,4.0,1.0,30.0,1.0,2.0,50.0,40.0,2.0,3.0,7.0,40.0\\n177,eac16b89-1988-491f-a827-60481298aa35,\"November 12, 2022\",2022-11-12 22:15:06 UTC,Salomon Abdala Perez,SRID=4326;POINT(-98.233027074 19.0590374022),19.0590374022,-98.233027074,Yo reparo,1 Photo,Technology Store,yes,yes,no,Smartphone,1 Photo,yes,yes,2021-10-12,No cambi\\xc3\\xb3,No cambi\\xc3\\xb3,no,En Excel,No lo hago,Se lleva al d\\xc3\\xada ,yes,no,yes,WhatsApp,\"Efectivo,Transferencia interbancaria\",Tarjeta de d\\xc3\\xa9bito y/o cr\\xc3\\xa9dito,no,2-5%,2-5%,,1.0,,,,Tarjeta de d\\xc3\\xa9bito y/o cr\\xc3\\xa9dito,Redes sociales,yes,no,20%,Software especializado,no,Ninguno,Tarde (12:00 - 7:00 pm),El cliente los recoge en tienda,6%+,16-20%,No conozco los servicios,Totalmente en desacuerdo,Totalmente en desacuerdo,Totalmente en desacuerdo,Totalmente en desacuerdo,Algo de acuerdo,Algo en desacuerdo,Algo en desacuerdo,Algo en desacuerdo,Totalmente en desacuerdo,Totalmente en desacuerdo,Totalmente de acuerdo,Ni de acuerdo ni en desacuerdo,Mensajer\\xc3\\xada instant\\xc3\\xa1nea (e.g. WhatsApp),Cr\\xc3\\xa9dito,9%+,Ninguna,Transferencia interbancaria,no,\"Disminuci\\xc3\\xb3n de la variedad de productos,Disminuir la cantidad del pedido,Disminuir la frecuencia de pedidos\",Semanalmente,Frecuencia de venta,Solicitar tiempo al cliente para conseguir el producto,20%,De acuerdo,En desacuerdo,Ni de acuerdo ni en desacuerdo,Totalmente en desacuerdo,En desacuerdo,De acuerdo,De acuerdo,Ni de acuerdo ni en desacuerdo,En desacuerdo,En desacuerdo,no,Fernanda,Escobedo,2224524020.0,fer.escobedo.meneses@gmail.com,1.0,0.0,2.0,2.0,2.0,2.0,0.0,4.0,1.0,30.0,1.0,2.0,50.0,40.0,2.0,3.0,7.0,0.0\\n178,719cdad7-cf49-4c64-9f1d-004279b71da0,\"November 12, 2022\",2022-11-12 22:15:06 UTC,Salomon Abdala Perez,SRID=4326;POINT(-98.2298178552 19.0607069876),19.0607069876,-98.2298178552,Miscenl\\xc3\\xa1nea Manolos,1 Photo,Grocery store (aka. nanostore),yes,no,yes,\"Dataphone (i.e. card payments),POS system (i.e. computer + bar code scanner + printer),Smartphone\",1 Photo,yes,yes,2021-08-12,Aument\\xc3\\xb3 50% o m\\xc3\\xa1s,No cambi\\xc3\\xb3,yes,\"En Excel,En papel\",En papel,Se lleva al d\\xc3\\xada ,no,no,yes,\"Redes sociales (e.g. Facebook, Instagram)\",\"Efectivo,Tarjeta de d\\xc3\\xa9bito y/o cr\\xc3\\xa9dito,Transferencia interbancaria\",Tarjeta de d\\xc3\\xa9bito y/o cr\\xc3\\xa9dito,no,2-5%,2-5%,,1.0,,,,Tarjeta de d\\xc3\\xa9bito y/o cr\\xc3\\xa9dito,Redes sociales,yes,no,20%,Software especializado,no,Ninguno,Tarde (12:00 - 7:00 pm),El cliente los recoge en tienda,6%+,16-20%,No conozco los servicios,Totalmente en desacuerdo,Totalmente en desacuerdo,Totalmente en desacuerdo,Totalmente en desacuerdo,Totalmente en desacuerdo,Totalmente en desacuerdo,Ni de acuerdo ni en desacuerdo,Totalmente de acuerdo,Totalmente en desacuerdo,Totalmente en desacuerdo,Totalmente de acuerdo,Ni de acuerdo ni en desacuerdo,Mensajer\\xc3\\xada instant\\xc3\\xa1nea (e.g. WhatsApp),Cr\\xc3\\xa9dito,9%+,Software especializado,Efectivo,no,\"Disminuci\\xc3\\xb3n de la variedad de productos,Disminuir la cantidad del pedido,Disminuir la frecuencia de pedidos\",Semanalmente,\"Categor\\xc3\\xada (e.g. limpieza, aseo personal, comestibles, l\\xc3\\xa1cteos, etc.),Precio\",\"Informar al proveedor,Solicitar tiempo al cliente para conseguir el producto\",20%,De acuerdo,En desacuerdo,Ni de acuerdo ni en desacuerdo,Totalmente en desacuerdo,En desacuerdo,De acuerdo,En desacuerdo,De acuerdo,Totalmente en desacuerdo,Totalmente de acuerdo,yes,Fernanda,Escobedo,2224524020.0,fer.escobedo.meneses@gmail.com,0.0,2.0,12.0,0.0,0.0,2.0,6.0,4.0,1.0,7.0,1.0,2.0,50.0,40.0,2.0,3.0,7.0,45.0\\n179,b7494ae1-8154-4538-afd2-f9362d561ed1,\"November 12, 2022\",2022-11-12 22:15:05 UTC,Salomon Abdala Perez,SRID=4326;POINT(-98.2252770749 19.0594737148),19.0594737148,-98.2252770749,Mundo Ciclista,1 Photo,Retailer store,yes,no,no,\"Dataphone (i.e. card payments),POS system (i.e. computer + bar code scanner + printer),Smartphone\",1 Photo,yes,yes,2020-10-12,No cambi\\xc3\\xb3,No cambi\\xc3\\xb3,yes,Software especializado + computadora,Software especializado + computadora,Se lleva al d\\xc3\\xada ,yes,no,yes,\"Redes sociales (e.g. Facebook, Instagram)\",\"Efectivo,Tarjeta de d\\xc3\\xa9bito y/o cr\\xc3\\xa9dito,Transferencia interbancaria\",Tarjeta de d\\xc3\\xa9bito y/o cr\\xc3\\xa9dito,no,2-5%,2-5%,,1.0,,,,Tarjeta de d\\xc3\\xa9bito y/o cr\\xc3\\xa9dito,Redes sociales,yes,no,20%,Ninguna,no,Ninguno,Tarde (12:00 - 7:00 pm),El cliente los recoge en tienda,6%+,16-20%,No conozco los servicios,Totalmente en desacuerdo,Totalmente en desacuerdo,Totalmente en desacuerdo,Totalmente en desacuerdo,Totalmente en desacuerdo,Totalmente en desacuerdo,Ni de acuerdo ni en desacuerdo,Totalmente de acuerdo,Totalmente en desacuerdo,Totalmente en desacuerdo,Totalmente de acuerdo,Ni de acuerdo ni en desacuerdo,Mensajer\\xc3\\xada instant\\xc3\\xa1nea (e.g. WhatsApp),Cr\\xc3\\xa9dito,9%+,Software especializado,Efectivo,no,\"Disminuci\\xc3\\xb3n de la variedad de productos,Disminuir la cantidad del pedido,Disminuir la frecuencia de pedidos\",Semanalmente,\"Categor\\xc3\\xada (e.g. limpieza, aseo personal, comestibles, l\\xc3\\xa1cteos, etc.)\",Solicitar tiempo al cliente para conseguir el producto,20%,De acuerdo,En desacuerdo,Ni de acuerdo ni en desacuerdo,Totalmente en desacuerdo,En desacuerdo,De acuerdo,En desacuerdo,De acuerdo,Totalmente en desacuerdo,Totalmente de acuerdo,yes,Jes\\xc3\\xbas,Lares,2224524020.0,mundociclistapuebla@gmail.com,0.0,0.0,8.0,1.0,1.0,2.0,2.0,4.0,1.0,15.0,1.0,2.0,50.0,40.0,2.0,3.0,7.0,0.0\\n180,684fc35a-25b7-47b4-be58-bbc8c5bab3fb,\"November 12, 2022\",2022-11-12 22:15:05 UTC,Salomon Abdala Perez,SRID=4326;POINT(-98.2242125705 19.0588832074),19.0588832074,-98.2242125705,Copias & Max,1 Photo,Grocery store (aka. nanostore),yes,no,no,Smartphone,1 Photo,yes,yes,2016-11-12,Aument\\xc3\\xb3 25%,No cambi\\xc3\\xb3,yes,No lo hago,No lo hago,Se lleva al d\\xc3\\xada ,yes,no,yes,\"Llamada a Tel\\xc3\\xa9fono celular,Llamada a Tel\\xc3\\xa9fono fijo,WhatsApp\",Efectivo,Tarjeta de d\\xc3\\xa9bito y/o cr\\xc3\\xa9dito,no,2-5%,2-5%,,1.0,,,,Tarjeta de d\\xc3\\xa9bito y/o cr\\xc3\\xa9dito,Redes sociales,yes,no,20%,Ninguna,no,Ninguno,Tarde (12:00 - 7:00 pm),El cliente los recoge en tienda,6%+,16-20%,No conozco los servicios,Totalmente en desacuerdo,Totalmente en desacuerdo,Totalmente en desacuerdo,Totalmente en desacuerdo,Totalmente en desacuerdo,Totalmente en desacuerdo,Ni de acuerdo ni en desacuerdo,Totalmente de acuerdo,Totalmente en desacuerdo,Totalmente en desacuerdo,Totalmente de acuerdo,Ni de acuerdo ni en desacuerdo,Mensajer\\xc3\\xada instant\\xc3\\xa1nea (e.g. WhatsApp),Cr\\xc3\\xa9dito,9%+,Software especializado,Efectivo,no,\"Disminuci\\xc3\\xb3n de la variedad de productos,Disminuir la cantidad del pedido,Disminuir la frecuencia de pedidos\",Diariamente,\"Categor\\xc3\\xada (e.g. limpieza, aseo personal, comestibles, l\\xc3\\xa1cteos, etc.)\",Solicitar tiempo al cliente para conseguir el producto,0,De acuerdo,En desacuerdo,Ni de acuerdo ni en desacuerdo,Totalmente en desacuerdo,En desacuerdo,De acuerdo,En desacuerdo,De acuerdo,Totalmente en desacuerdo,Totalmente de acuerdo,yes,Rocio,Salazar,2224524020.0,internetorionsur@gmail.com,0.0,1.0,5.0,1.0,1.0,2.0,1.0,4.0,1.0,30.0,1.0,2.0,50.0,40.0,2.0,3.0,7.0,5.0\\n181,74688e80-21b7-4356-9362-6fb2ba1e4f30,\"November 12, 2022\",2022-11-12 21:43:07 UTC,\\xc3\\x81ngel Francisco Altamirano Campos,SRID=4326;POINT(-98.2609888 19.0203363),19.0203363,-98.2609888,Desechables y materias primas Alondra,1 Photo,Grocery store (aka. nanostore),yes,yes,no,\"POS system (i.e. computer + bar code scanner + printer),Security cameras,Smartphone\",1 Photo,yes,yes,2010-11-12,No cambi\\xc3\\xb3,Dependiente ,yes,Software especializado + computadora,Aplicaci\\xc3\\xb3n m\\xc3\\xb3vil (i.e. App) + smartphone,Se lleva al d\\xc3\\xada ,yes,no,yes,\"Llamada a Tel\\xc3\\xa9fono celular,Redes sociales (e.g. Facebook, Instagram),WhatsApp\",Efectivo,Tarjeta de d\\xc3\\xa9bito y/o cr\\xc3\\xa9dito,no,2-5%,2-5%,,1.0,,,,Tarjeta de d\\xc3\\xa9bito y/o cr\\xc3\\xa9dito,Redes sociales,yes,no,20%,Ninguna,no,Ninguno,Tarde (12:00 - 7:00 pm),El cliente los recoge en tienda,6%+,16-20%,No conozco los servicios,Totalmente en desacuerdo,Totalmente en desacuerdo,Totalmente en desacuerdo,Totalmente en desacuerdo,Totalmente en desacuerdo,Totalmente en desacuerdo,Ni de acuerdo ni en desacuerdo,Totalmente de acuerdo,Totalmente en desacuerdo,Totalmente en desacuerdo,Totalmente de acuerdo,Ni de acuerdo ni en desacuerdo,Mensajer\\xc3\\xada instant\\xc3\\xa1nea (e.g. WhatsApp),Cr\\xc3\\xa9dito,9%+,Software especializado,Efectivo,no,\"Disminuci\\xc3\\xb3n de la variedad de productos,Disminuir la cantidad del pedido,Disminuir la frecuencia de pedidos\",Diariamente,\"Refrigeraci\\xc3\\xb3n,Tama\\xc3\\xb1o\",\"Informar al proveedor,Ofrecer un producto sustituto\",40%,De acuerdo,En desacuerdo,Ni de acuerdo ni en desacuerdo,Totalmente en desacuerdo,En desacuerdo,De acuerdo,En desacuerdo,De acuerdo,Totalmente en desacuerdo,Totalmente de acuerdo,no,Victor ,Cortes Mayo,2213334956.0,internetorionsur@gmail.com,3.0,0.0,6.0,1.0,1.0,2.0,3.0,4.0,1.0,1.0,1.0,2.0,50.0,40.0,2.0,3.0,7.0,10.0\\n182,e8009ddb-9e2e-44aa-8721-21fbc2fb157e,\"November 12, 2022\",2022-11-12 21:43:06 UTC,\\xc3\\x81ngel Francisco Altamirano Campos,SRID=4326;POINT(-98.2611121 19.0203285),19.0203285,-98.2611121,Internet ,1 Photo,internet ,no,no,no,\"Dataphone (i.e. card payments),POS system (i.e. computer + bar code scanner + printer),Security cameras,Smartphone\",1 Photo,yes,yes,2006-11-12,No cambi\\xc3\\xb3,No cambi\\xc3\\xb3,yes,Software especializado + computadora,Software especializado + computadora,Se lleva al d\\xc3\\xada ,yes,no,yes,\"Llamada a Tel\\xc3\\xa9fono celular,Redes sociales (e.g. Facebook, Instagram),WhatsApp\",\"Efectivo,Tarjeta de d\\xc3\\xa9bito y/o cr\\xc3\\xa9dito,Transferencia interbancaria\",Tarjeta de d\\xc3\\xa9bito y/o cr\\xc3\\xa9dito,no,2-5%,2-5%,,1.0,,,,Tarjeta de d\\xc3\\xa9bito y/o cr\\xc3\\xa9dito,\"Aplicaci\\xc3\\xb3n m\\xc3\\xb3vil,Redes sociales\",yes,no,30%,\"Aplicaci\\xc3\\xb3n m\\xc3\\xb3vil,Software especializado\",no,Ninguno,Tarde (12:00 - 7:00 pm),El cliente los recoge en tienda,6%+,16-20%,No creo que represente grandes ingresos,Algo en desacuerdo,Totalmente en desacuerdo,Totalmente en desacuerdo,Totalmente en desacuerdo,Ni de acuerdo ni en desacuerdo,Totalmente en desacuerdo,Totalmente en desacuerdo,Totalmente en desacuerdo,Totalmente en desacuerdo,Totalmente en desacuerdo,Totalmente de acuerdo,Totalmente de acuerdo,P\\xc3\\xa1gina web del proveedor,Cr\\xc3\\xa9dito,9%+,Aplicaci\\xc3\\xb3n m\\xc3\\xb3vil,\"Efectivo,Tarjeta de d\\xc3\\xa9bito y/o cr\\xc3\\xa9dito,Transferencia interbancaria\",yes,\"Disminuci\\xc3\\xb3n de la variedad de productos,Disminuir la cantidad del pedido,Disminuir la frecuencia de pedidos\",Quincenalmente,Frecuencia de venta,Solicitar tiempo al cliente para conseguir el producto,0,Totalmente de acuerdo,Totalmente de acuerdo,Totalmente de acuerdo,Totalmente de acuerdo,Totalmente de acuerdo,De acuerdo,De acuerdo,De acuerdo,De acuerdo,De acuerdo,yes,Victor ,Cortes Mayo,2213334956.0,internetorionsur@gmail.com,1.0,0.0,3.0,1.0,1.0,2.0,4.0,4.0,1.0,1.0,2.0,2.0,50.0,40.0,2.0,3.0,2.0,2.0\\n183,a608b152-7ed5-4e56-a5ab-589867ab0b65,\"November 12, 2022\",2022-11-12 21:43:06 UTC,\\xc3\\x81ngel Francisco Altamirano Campos,SRID=4326;POINT(-98.2609604 19.0204215),19.0204215,-98.2609604,Ferreter\\xc3\\xada F\\xc3\\xa9nix ,1 Photo,Ferreter\\xc3\\xada ,no,yes,no,\"Analog cash register,Smartphone\",1 Photo,yes,yes,2009-11-12,No cambi\\xc3\\xb3,Aument\\xc3\\xb3 15%,no,En papel,Caja registradora (an\\xc3\\xa1loga),Se lleva al d\\xc3\\xada ,yes,no,yes,\"Llamada a Tel\\xc3\\xa9fono celular,WhatsApp\",\"Efectivo,Tarjeta de d\\xc3\\xa9bito y/o cr\\xc3\\xa9dito\",Tarjeta de d\\xc3\\xa9bito y/o cr\\xc3\\xa9dito,no,2-5%,2-5%,,0.0,,,,Tarjeta de d\\xc3\\xa9bito y/o cr\\xc3\\xa9dito,Redes sociales,no,no,5%,Ninguna,no,Ninguno,Tarde (12:00 - 7:00 pm),El cliente los recoge en tienda,6%+,16-20%,No quiero involucrarme con la tecnolog\\xc3\\xada,Totalmente en desacuerdo,Totalmente en desacuerdo,Algo en desacuerdo,Totalmente en desacuerdo,Totalmente en desacuerdo,Totalmente en desacuerdo,Totalmente en desacuerdo,Totalmente en desacuerdo,Algo de acuerdo,Totalmente en desacuerdo,Totalmente de acuerdo,Totalmente de acuerdo,Mensajer\\xc3\\xada instant\\xc3\\xa1nea (e.g. WhatsApp),Cr\\xc3\\xa9dito,0,Ninguna,Transferencia interbancaria,no,\"Disminuir la cantidad del pedido,Disminuir la frecuencia de pedidos\",Quincenalmente,Frecuencia de venta,Solicitar tiempo al cliente para conseguir el producto,0,De acuerdo,De acuerdo,Totalmente de acuerdo,Totalmente en desacuerdo,Totalmente de acuerdo,Totalmente de acuerdo,De acuerdo,De acuerdo,Totalmente en desacuerdo,Totalmente de acuerdo,yes,Alejandra ,Vasquez ,2213898843.0,palacioslibia@hotmail.com,2.0,0.0,3.0,2.0,4.0,2.0,4.0,4.0,0.0,1.0,1.0,2.0,50.0,40.0,2.0,3.0,2.0,2.0\\n184,f740f232-fc37-4ea5-a5f2-87c1f2ae1951,\"November 12, 2022\",2022-11-12 21:43:05 UTC,\\xc3\\x81ngel Francisco Altamirano Campos,SRID=4326;POINT(-98.2608668 19.020395),19.020395,-98.2608668,Polleria,1 Photo,Butcher shop,no,no,yes,Smartphone,1 Photo,yes,yes,2022-06-24,No cambi\\xc3\\xb3,No cambi\\xc3\\xb3,yes,En papel,En papel,Se lleva al d\\xc3\\xada ,no,no,no,\"Llamada a Tel\\xc3\\xa9fono celular,WhatsApp\",Efectivo,Tarjeta de d\\xc3\\xa9bito y/o cr\\xc3\\xa9dito,no,2-5%,2-5%,,0.0,,,,Tarjeta de d\\xc3\\xa9bito y/o cr\\xc3\\xa9dito,Ninguna,no,no,5%,Ninguna,no,Ninguno,Tarde (12:00 - 7:00 pm),El cliente los recoge en tienda,6%+,16-20%,No quiero involucrarme con la tecnolog\\xc3\\xada,Totalmente en desacuerdo,Totalmente en desacuerdo,Totalmente en desacuerdo,Totalmente en desacuerdo,Totalmente en desacuerdo,Totalmente en desacuerdo,Algo de acuerdo,Totalmente de acuerdo,Totalmente en desacuerdo,Totalmente en desacuerdo,Totalmente en desacuerdo,Totalmente de acuerdo,Llamada telef\\xc3\\xb3nica,\"Consignaci\\xc3\\xb3n,Cr\\xc3\\xa9dito,Descuento por compras anticipadas,Recompra\",0,Ninguna,Efectivo,no,\"Disminuir la cantidad del pedido,Disminuir la frecuencia de pedidos\",Nunca,Precio,\"Ofrecer un producto sustituto,Solicitar tiempo al cliente para conseguir el producto\",0,De acuerdo,Totalmente de acuerdo,De acuerdo,Totalmente en desacuerdo,Totalmente de acuerdo,Totalmente de acuerdo,De acuerdo,En desacuerdo,De acuerdo,Totalmente de acuerdo,yes,Misael ,Castelan,2212181801.0,palacioslibia@hotmail.com,3.0,0.0,1.0,1.0,2.0,2.0,6.0,4.0,0.0,1.0,1.0,2.0,50.0,40.0,2.0,3.0,7.0,1.0\\n185,5e8464b9-0b58-4520-a4fc-9c17a8b30500,\"November 12, 2022\",2022-11-12 21:43:05 UTC,\\xc3\\x81ngel Francisco Altamirano Campos,SRID=4326;POINT(-98.2608038 19.0205671),19.0205671,-98.2608038,Tortas planchadas,1 Photo,Micro-restaurant (aka. fondita),no,no,no,Smartphone,1 Photo,yes,yes,2016-11-01,No cambi\\xc3\\xb3,No cambi\\xc3\\xb3,yes,No lo hago,En papel,Se lleva al d\\xc3\\xada ,yes,no,yes,\"Redes sociales (e.g. Facebook, Instagram),WhatsApp\",Efectivo,Tarjeta de d\\xc3\\xa9bito y/o cr\\xc3\\xa9dito,no,2-5%,2-5%,,0.0,,,,Tarjeta de d\\xc3\\xa9bito y/o cr\\xc3\\xa9dito,Aplicaci\\xc3\\xb3n m\\xc3\\xb3vil,no,no,40%,Ninguna,no,Ninguno,Tarde (12:00 - 7:00 pm),El cliente los recoge en tienda,6%+,16-20%,No quiero involucrarme con la tecnolog\\xc3\\xada,Totalmente en desacuerdo,Totalmente en desacuerdo,Totalmente en desacuerdo,Totalmente en desacuerdo,Ni de acuerdo ni en desacuerdo,Totalmente en desacuerdo,Totalmente en desacuerdo,Totalmente en desacuerdo,Totalmente en desacuerdo,Totalmente en desacuerdo,Totalmente en desacuerdo,Totalmente en desacuerdo,\"Llamada telef\\xc3\\xb3nica,Mensaje de texto (SMS)\",Cr\\xc3\\xa9dito,0,Ninguna,Efectivo,no,\"Disminuir la cantidad del pedido,Disminuir la frecuencia de pedidos\",Diariamente,Refrigeraci\\xc3\\xb3n,Ofrecer un producto sustituto,20%,De acuerdo,De acuerdo,De acuerdo,Totalmente en desacuerdo,De acuerdo,De acuerdo,De acuerdo,De acuerdo,De acuerdo,De acuerdo,yes,Andrea ,Manzano,2225416928.0,palacioslibia@hotmail.com,0.0,0.0,2.0,5.0,2.0,2.0,2.0,4.0,0.0,1.0,1.0,2.0,50.0,40.0,2.0,3.0,1.0,1.0\\n186,609385f7-57c8-4210-b927-8b2a9c76ea2c,\"November 9, 2022\",2022-11-12 21:43:04 UTC,\\xc3\\x81ngel Francisco Altamirano Campos,SRID=4326;POINT(-98.2607229 19.0207622),19.0207622,-98.2607229,Dulceria ,1 Photo,Dulceria ,no,no,no,\"POS system (i.e. computer + bar code scanner + printer),Security cameras,Smartphone\",1 Photo,yes,yes,2020-11-09,No cambi\\xc3\\xb3,No cambi\\xc3\\xb3,yes,Software especializado + computadora,Software especializado + computadora,Se lleva al d\\xc3\\xada ,yes,no,yes,\"Redes sociales (e.g. Facebook, Instagram),WhatsApp\",\"Efectivo,Tarjeta de d\\xc3\\xa9bito y/o cr\\xc3\\xa9dito,Transferencia interbancaria\",Tarjeta de d\\xc3\\xa9bito y/o cr\\xc3\\xa9dito,no,2-5%,2-5%,,0.0,,,,Tarjeta de d\\xc3\\xa9bito y/o cr\\xc3\\xa9dito,Redes sociales,yes,no,40%,Software especializado,no,Ninguno,Tarde (12:00 - 7:00 pm),El cliente los recoge en tienda,6%+,16-20%,\"No creo que represente grandes ingresos,No quiero involucrarme con la tecnolog\\xc3\\xada\",Algo de acuerdo,Totalmente en desacuerdo,Totalmente de acuerdo,Totalmente en desacuerdo,Totalmente en desacuerdo,Totalmente en desacuerdo,Algo de acuerdo,Totalmente de acuerdo,Algo de acuerdo,Totalmente en desacuerdo,Totalmente en desacuerdo,Algo de acuerdo,\"En persona,Llamada telef\\xc3\\xb3nica,Mensajer\\xc3\\xada instant\\xc3\\xa1nea (e.g. WhatsApp)\",Cr\\xc3\\xa9dito,0,Ninguna,\"Efectivo,Transferencia interbancaria\",no,\"Disminuir la cantidad del pedido,Disminuir la frecuencia de pedidos\",Semanalmente,Frecuencia de venta,\"Ofrecer un producto sustituto,Solicitar tiempo al cliente para conseguir el producto\",10%,Totalmente de acuerdo,Totalmente de acuerdo,Totalmente de acuerdo,En desacuerdo,De acuerdo,En desacuerdo,Totalmente en desacuerdo,Totalmente en desacuerdo,De acuerdo,Totalmente de acuerdo,yes,Andrea ,Manzano,2225416928.0,palacioslibia@hotmail.com,1.0,0.0,3.0,1.0,2.0,2.0,2.0,4.0,0.0,1.0,1.0,2.0,50.0,40.0,2.0,3.0,4.0,20.0\\n187,461b41ec-1b3b-4d20-9414-8fb66a6e051b,\"November 9, 2022\",2022-11-12 21:43:04 UTC,\\xc3\\x81ngel Francisco Altamirano Campos,SRID=4326;POINT(-98.2606615 19.0208774),19.0208774,-98.2606615,Acuario y mascotas ,1 Photo,Pet store,yes,no,no,\"Security cameras,Smartphone\",1 Photo,yes,yes,2020-02-20,No cambi\\xc3\\xb3,Disminuy\\xc3\\xb3 25%,yes,En Excel,\"Aplicaci\\xc3\\xb3n m\\xc3\\xb3vil (i.e. App) + smartphone,Caja registradora (an\\xc3\\xa1loga)\",Se lleva al d\\xc3\\xada ,yes,yes,no,\"Redes sociales (e.g. Facebook, Instagram)\",\"Aplicaci\\xc3\\xb3n m\\xc3\\xb3vil (e.g. CODI),Efectivo,Tarjeta de d\\xc3\\xa9bito y/o cr\\xc3\\xa9dito,Transferencia interbancaria\",Tarjeta de d\\xc3\\xa9bito y/o cr\\xc3\\xa9dito,no,2-5%,2-5%,,0.0,,,,Tarjeta de d\\xc3\\xa9bito y/o cr\\xc3\\xa9dito,\"Aplicaci\\xc3\\xb3n m\\xc3\\xb3vil,Redes sociales\",yes,no,40%,Software especializado,no,Entrega a domicilio,Tarde (12:00 - 7:00 pm),El cliente los recoge en tienda,6%+,16-20%,No quiero involucrarme con la tecnolog\\xc3\\xada,Totalmente en desacuerdo,Totalmente en desacuerdo,Totalmente en desacuerdo,Totalmente de acuerdo,Totalmente en desacuerdo,Totalmente en desacuerdo,Algo de acuerdo,Ni de acuerdo ni en desacuerdo,Totalmente de acuerdo,Totalmente de acuerdo,Totalmente en desacuerdo,Totalmente en desacuerdo,\"Email,Mensajer\\xc3\\xada instant\\xc3\\xa1nea (e.g. WhatsApp)\",Cr\\xc3\\xa9dito,0,Software especializado,Transferencia interbancaria,yes,\"Disminuir la cantidad del pedido,Disminuir la frecuencia de pedidos\",Semanalmente,\"Frecuencia de venta,Tama\\xc3\\xb1o\",\"Ofrecer un producto sustituto,Solicitar tiempo al cliente para conseguir el producto\",10%,Totalmente de acuerdo,Totalmente de acuerdo,Totalmente de acuerdo,Totalmente de acuerdo,Ni de acuerdo ni en desacuerdo,Totalmente de acuerdo,De acuerdo,Totalmente de acuerdo,Totalmente de acuerdo,Totalmente de acuerdo,yes,Misael G\\xc3\\xb3mez ,Pintle,2223839223.0,palacioslibia@hotmail.com,0.0,0.0,4.0,1.0,1.0,2.0,6.0,4.0,0.0,15.0,0.0,2.0,50.0,40.0,2.0,3.0,1.0,0.0\\n188,6bb75354-101c-48b1-9c82-76e40f90159c,\"November 9, 2022\",2022-11-12 21:43:03 UTC,\\xc3\\x81ngel Francisco Altamirano Campos,SRID=4326;POINT(-98.260586 19.0210881),19.0210881,-98.260586,Tortas cue,1 Photo,Micro-restaurant (aka. fondita),no,no,no,Smartphone,1 Photo,yes,yes,2015-11-09,No cambi\\xc3\\xb3,Aument\\xc3\\xb3 25%,no,No lo hago,No lo hago,Se lleva al d\\xc3\\xada ,no,no,yes,\"Llamada a Tel\\xc3\\xa9fono celular,WhatsApp\",Efectivo,Tarjeta de d\\xc3\\xa9bito y/o cr\\xc3\\xa9dito,no,2-5%,2-5%,,1.0,,,,Tarjeta de d\\xc3\\xa9bito y/o cr\\xc3\\xa9dito,\"Aplicaci\\xc3\\xb3n m\\xc3\\xb3vil,Redes sociales\",yes,no,30%,Ninguna,no,Entrega a domicilio,Tarde (12:00 - 7:00 pm),El cliente los recoge en tienda,1%,1-5%,No quiero involucrarme con la tecnolog\\xc3\\xada,Totalmente en desacuerdo,Totalmente en desacuerdo,Totalmente en desacuerdo,Totalmente en desacuerdo,Totalmente en desacuerdo,Totalmente en desacuerdo,Totalmente en desacuerdo,Totalmente en desacuerdo,Algo de acuerdo,Totalmente en desacuerdo,Totalmente en desacuerdo,Totalmente de acuerdo,Llamada telef\\xc3\\xb3nica,\"Cr\\xc3\\xa9dito,Descuento por compras anticipadas\",0,Ninguna,Efectivo,yes,\"Aumentar la variedad de productos.,Disminuir la cantidad del pedido,Disminuir la frecuencia de pedidos\",Diariamente,Refrigeraci\\xc3\\xb3n,Ofrecer un producto sustituto,0,De acuerdo,En desacuerdo,Totalmente en desacuerdo,Totalmente en desacuerdo,Totalmente en desacuerdo,Totalmente en desacuerdo,Totalmente en desacuerdo,Totalmente en desacuerdo,De acuerdo,De acuerdo,yes,Jesus ,Aguila,2225987489.0,palacioslibia@hotmail.com,2.0,2.0,3.0,3.0,2.0,2.0,6.0,3.0,1.0,1.0,2.0,2.0,50.0,2.0,2.0,3.0,4.0,15.0\\n189,77339a78-1542-4445-9403-4344786da162,\"November 9, 2022\",2022-11-12 21:43:03 UTC,\\xc3\\x81ngel Francisco Altamirano Campos,SRID=4326;POINT(-98.2603816 19.0213946),19.0213946,-98.2603816,Tacos Robert,1 Photo,Micro-restaurant (aka. fondita),no,yes,no,Smartphone,1 Photo,yes,yes,2022-09-20,No cambi\\xc3\\xb3,No cambi\\xc3\\xb3,no,En papel,En papel,No los uso,no,yes,no,\"Llamada a Tel\\xc3\\xa9fono celular,Llamada a Tel\\xc3\\xa9fono fijo,Redes sociales (e.g. Facebook, Instagram),WhatsApp\",\"Efectivo,Transferencia interbancaria\",Tarjeta de d\\xc3\\xa9bito y/o cr\\xc3\\xa9dito,no,2-5%,2-5%,,1.0,,,,Tarjeta de d\\xc3\\xa9bito y/o cr\\xc3\\xa9dito,Ninguna,no,no,5%,Cuaderno,no,Ninguno,Tarde (12:00 - 7:00 pm),El cliente los recoge en tienda,ninguna,1-5%,No quiero involucrarme con la tecnolog\\xc3\\xada,Totalmente en desacuerdo,Totalmente en desacuerdo,Totalmente en desacuerdo,Totalmente en desacuerdo,Totalmente en desacuerdo,Totalmente en desacuerdo,Totalmente en desacuerdo,Algo de acuerdo,Algo de acuerdo,Totalmente en desacuerdo,Ni de acuerdo ni en desacuerdo,Totalmente de acuerdo,Mensajer\\xc3\\xada instant\\xc3\\xa1nea (e.g. WhatsApp),\"Cr\\xc3\\xa9dito,Descuento por compras anticipadas\",0,\"Aplicaci\\xc3\\xb3n m\\xc3\\xb3vil,Cuaderno\",Efectivo,yes,Disminuir la cantidad del pedido,Diariamente,\"Frecuencia de venta,Refrigeraci\\xc3\\xb3n\",Ofrecer un producto sustituto,0,De acuerdo,De acuerdo,De acuerdo,De acuerdo,Totalmente de acuerdo,De acuerdo,De acuerdo,De acuerdo,De acuerdo,De acuerdo,no,Andrea Monserrat ,Garc\\xc3\\xada Cardozo,4641173905.0,palacioslibia@hotmail.com,1.0,1.0,1.0,1.0,0.0,0.0,0.0,3.0,1.0,30.0,7.0,2.0,50.0,2.0,2.0,3.0,7.0,1.0\\n190,ac115611-d079-46dc-bdb6-5095a71fde01,\"November 9, 2022\",2022-11-12 21:43:02 UTC,\\xc3\\x81ngel Francisco Altamirano Campos,SRID=4326;POINT(-98.2602834 19.021461),19.021461,-98.2602834,Productos Aldhemi,1 Photo,Cosmetiquera ,no,no,no,\"Security cameras,Smartphone\",1 Photo,yes,yes,2022-10-24,No cambi\\xc3\\xb3,No cambi\\xc3\\xb3,yes,En Excel,En Excel,No los uso,no,yes,yes,\"Llamada a Tel\\xc3\\xa9fono celular,Llamada a Tel\\xc3\\xa9fono fijo,Redes sociales (e.g. Facebook, Instagram),WhatsApp\",Efectivo,Tarjeta de d\\xc3\\xa9bito y/o cr\\xc3\\xa9dito,no,2-5%,2-5%,,1.0,,,,Tarjeta de d\\xc3\\xa9bito y/o cr\\xc3\\xa9dito,\"Cuaderno,Redes sociales\",no,no,5%,Ninguna,no,\"Entrega a domicilio,Pago de servicios p\\xc3\\xbablicos (e.g. Yastas),Recarga telef\\xc3\\xb3nica\",Tarde (12:00 - 7:00 pm),El cliente los recoge en tienda,ninguna,1-5%,No conozco los servicios,Totalmente en desacuerdo,Totalmente en desacuerdo,Algo en desacuerdo,Algo de acuerdo,Totalmente en desacuerdo,Totalmente en desacuerdo,Totalmente en desacuerdo,Algo de acuerdo,Algo de acuerdo,Totalmente en desacuerdo,Ni de acuerdo ni en desacuerdo,Totalmente de acuerdo,Mensajer\\xc3\\xada instant\\xc3\\xa1nea (e.g. WhatsApp),\"Cr\\xc3\\xa9dito,Descuento por compras anticipadas\",0,\"Aplicaci\\xc3\\xb3n m\\xc3\\xb3vil,Cuaderno\",Efectivo,yes,Disminuir la cantidad del pedido,Diariamente,Frecuencia de venta,\"Informar al proveedor,Ofrecer un producto sustituto,Solicitar tiempo al cliente para conseguir el producto\",30%,De acuerdo,Totalmente de acuerdo,De acuerdo,Ni de acuerdo ni en desacuerdo,Ni de acuerdo ni en desacuerdo,De acuerdo,Ni de acuerdo ni en desacuerdo,De acuerdo,Totalmente en desacuerdo,De acuerdo,yes,Andrea Monserrat ,Garc\\xc3\\xada Cardozo,4641173905.0,palacioslibia@hotmail.com,0.0,0.0,6.0,4.0,0.0,0.0,1.0,4.0,1.0,30.0,7.0,2.0,50.0,2.0,2.0,3.0,4.0,1.0\\n191,9fc2adeb-ac67-46ef-b4db-8f4afb139ecc,\"November 11, 2022\",2022-11-12 02:03:45 UTC,Sandra Carre\\xc3\\xb3n,SRID=4326;POINT(-98.1944422847 19.0449409657),19.0449409657,-98.1944422847,Mony ,1 Photo,Dairy products,no,yes,yes,\"Analog cash register,Smartphone\",1 Photo,yes,yes,2005-01-11,No cambi\\xc3\\xb3,No cambi\\xc3\\xb3,no,No lo hago,Contadora,No los uso,yes,no,no,Llamada a Tel\\xc3\\xa9fono fijo,Efectivo,Tarjeta de d\\xc3\\xa9bito y/o cr\\xc3\\xa9dito,no,2-5%,2-5%,,1.0,,,,Tarjeta de d\\xc3\\xa9bito y/o cr\\xc3\\xa9dito,Ninguna,no,no,5%,Cuaderno,no,Ninguno,Tarde (12:00 - 7:00 pm),El cliente los recoge en tienda,ninguna,1-5%,No conozco los servicios,Totalmente en desacuerdo,Totalmente en desacuerdo,Algo en desacuerdo,Totalmente en desacuerdo,Algo de acuerdo,Totalmente en desacuerdo,Totalmente en desacuerdo,Algo de acuerdo,Totalmente en desacuerdo,Totalmente en desacuerdo,Totalmente en desacuerdo,Totalmente en desacuerdo,\"En persona,P\\xc3\\xa1gina web del proveedor\",\"Cr\\xc3\\xa9dito,Descuento por compras anticipadas\",0,\"Aplicaci\\xc3\\xb3n m\\xc3\\xb3vil,Cuaderno\",Efectivo,yes,Disminuir la cantidad del pedido,Semanalmente,\"Categor\\xc3\\xada (e.g. limpieza, aseo personal, comestibles, l\\xc3\\xa1cteos, etc.),Frecuencia de venta,Margen de utilidad,Precio,Refrigeraci\\xc3\\xb3n,Tama\\xc3\\xb1o\",Informar al proveedor,0,Totalmente de acuerdo,Totalmente de acuerdo,De acuerdo,Totalmente en desacuerdo,Totalmente de acuerdo,De acuerdo,De acuerdo,En desacuerdo,Totalmente en desacuerdo,De acuerdo,no,Jaime,Palacios Grac\\xc3\\xada,2221842951.0,palacioslibia@hotmail.com,2.0,6.0,6.2,0.0,0.0,0.0,2.0,3.0,1.0,30.0,7.0,2.0,50.0,2.0,2.0,3.0,7.0,2.0\\n192,054d2e34-6343-451f-8d71-d87c1599a614,\"November 9, 2022\",2022-11-11 23:12:55 UTC,Hiram Jim\\xc3\\xa9nez,SRID=4326;POINT(-98.3127512 19.0655137),19.0655137,-98.3127512,dulce detalle,1 Photo,Grocery store (aka. nanostore),no,yes,no,Dataphone (i.e. card payments),1 Photo,no,yes,2019-11-09,No cambi\\xc3\\xb3,No cambi\\xc3\\xb3,no,No lo hago,En papel,No los uso,no,no,yes,\"Redes sociales (e.g. Facebook, Instagram),WhatsApp\",Efectivo,Tarjeta de d\\xc3\\xa9bito y/o cr\\xc3\\xa9dito,no,2-5%,2-5%,,1.0,,,,Tarjeta de d\\xc3\\xa9bito y/o cr\\xc3\\xa9dito,Redes sociales,yes,no,5%,Ninguna,no,Recarga telef\\xc3\\xb3nica,Tarde (12:00 - 7:00 pm),El cliente los recoge en tienda,ninguna,1-5%,No son funcionales para mi empresa,Totalmente en desacuerdo,Totalmente en desacuerdo,Totalmente de acuerdo,Totalmente de acuerdo,Totalmente en desacuerdo,Totalmente en desacuerdo,Totalmente en desacuerdo,Totalmente en desacuerdo,Totalmente en desacuerdo,Ni de acuerdo ni en desacuerdo,Totalmente en desacuerdo,Algo de acuerdo,Llamada telef\\xc3\\xb3nica,Descuento por compras anticipadas,0,\"Cuaderno,Excel\",Efectivo,no,Ninguna de las anteriores,Semanalmente,\"Refrigeraci\\xc3\\xb3n,Tama\\xc3\\xb1o\",Informar al proveedor,0,De acuerdo,En desacuerdo,Totalmente de acuerdo,En desacuerdo,De acuerdo,Totalmente de acuerdo,Totalmente de acuerdo,De acuerdo,Totalmente en desacuerdo,Totalmente en desacuerdo,yes,Jaime,Palacios Grac\\xc3\\xada,2221842951.0,palacioslibia@hotmail.com,0.0,2.0,5.0,0.0,0.0,0.0,3.0,3.0,1.0,30.0,7.0,2.0,50.0,2.0,2.0,3.0,1.0,10.0\\n193,b062ce9a-496c-47d1-a193-d8204cc8d968,\"November 9, 2022\",2022-11-11 23:12:54 UTC,Hiram Jim\\xc3\\xa9nez,SRID=4326;POINT(-98.3109706 19.0656707),19.0656707,-98.3109706,Jerusalen,1 Photo,Grocery store (aka. nanostore),no,no,no,\"Analog cash register,Dataphone (i.e. card payments)\",1 Photo,no,yes,2019-11-09,No cambi\\xc3\\xb3,No cambi\\xc3\\xb3,no,No lo hago,En papel,No los uso,no,no,yes,\"Redes sociales (e.g. Facebook, Instagram),WhatsApp\",Efectivo,Tarjeta de d\\xc3\\xa9bito y/o cr\\xc3\\xa9dito,no,2-5%,2-5%,,1.0,,,,Tarjeta de d\\xc3\\xa9bito y/o cr\\xc3\\xa9dito,Redes sociales,yes,no,5%,Ninguna,no,Recarga telef\\xc3\\xb3nica,Tarde (12:00 - 7:00 pm),El cliente los recoge en tienda,ninguna,1-5%,No son funcionales para mi empresa,Totalmente en desacuerdo,Totalmente en desacuerdo,Totalmente de acuerdo,Totalmente de acuerdo,Totalmente en desacuerdo,Totalmente en desacuerdo,Totalmente en desacuerdo,Totalmente en desacuerdo,Totalmente en desacuerdo,Ni de acuerdo ni en desacuerdo,Totalmente en desacuerdo,Algo de acuerdo,Llamada telef\\xc3\\xb3nica,Descuento por compras anticipadas,0,\"Cuaderno,Excel\",Efectivo,no,Ninguna de las anteriores,Semanalmente,\"Refrigeraci\\xc3\\xb3n,Tama\\xc3\\xb1o\",Informar al proveedor,0,De acuerdo,En desacuerdo,Totalmente de acuerdo,En desacuerdo,De acuerdo,Totalmente de acuerdo,Totalmente de acuerdo,De acuerdo,Totalmente en desacuerdo,Totalmente en desacuerdo,yes,Jaime,Palacios Grac\\xc3\\xada,2221842951.0,palacioslibia@hotmail.com,0.0,5.0,6.0,0.0,0.0,0.0,3.0,3.0,1.0,30.0,7.0,2.0,50.0,2.0,2.0,3.0,1.0,10.0\\n194,bc2a99bc-7c06-4746-85c9-9e53823d9183,\"November 9, 2022\",2022-11-11 23:12:54 UTC,Hiram Jim\\xc3\\xa9nez,SRID=4326;POINT(-98.3097669 19.0638125),19.0638125,-98.3097669,Salchichonerias San Pedro ,1 Photo,Butcher shop,no,no,yes,\"Analog cash register,Smartphone\",1 Photo,no,yes,2019-11-09,No cambi\\xc3\\xb3,No cambi\\xc3\\xb3,no,No lo hago,En papel,No los uso,no,no,yes,\"Redes sociales (e.g. Facebook, Instagram),WhatsApp\",Efectivo,Tarjeta de d\\xc3\\xa9bito y/o cr\\xc3\\xa9dito,no,2-5%,2-5%,,1.0,,,,Tarjeta de d\\xc3\\xa9bito y/o cr\\xc3\\xa9dito,Redes sociales,yes,no,5%,Ninguna,no,Recarga telef\\xc3\\xb3nica,Tarde (12:00 - 7:00 pm),El cliente los recoge en tienda,ninguna,1-5%,No son funcionales para mi empresa,Totalmente en desacuerdo,Totalmente en desacuerdo,Totalmente de acuerdo,Totalmente de acuerdo,Totalmente en desacuerdo,Totalmente en desacuerdo,Totalmente en desacuerdo,Totalmente en desacuerdo,Totalmente en desacuerdo,Ni de acuerdo ni en desacuerdo,Totalmente en desacuerdo,Algo de acuerdo,Llamada telef\\xc3\\xb3nica,Descuento por compras anticipadas,0,\"Cuaderno,Excel\",Efectivo,no,Ninguna de las anteriores,Semanalmente,\"Refrigeraci\\xc3\\xb3n,Tama\\xc3\\xb1o\",Informar al proveedor,0,De acuerdo,En desacuerdo,Totalmente de acuerdo,En desacuerdo,De acuerdo,Totalmente de acuerdo,Totalmente de acuerdo,De acuerdo,Totalmente en desacuerdo,Totalmente en desacuerdo,yes,Jaime,Palacios Grac\\xc3\\xada,2221842951.0,palacioslibia@hotmail.com,3.0,5.0,6.0,0.0,0.0,0.0,3.0,3.0,1.0,30.0,7.0,2.0,50.0,2.0,2.0,3.0,1.0,10.0\\n195,9e202c7e-1c78-4a72-bb84-110a11f16f1a,\"November 9, 2022\",2022-11-11 23:12:53 UTC,Hiram Jim\\xc3\\xa9nez,SRID=4326;POINT(-98.3109695 19.0614541),19.0614541,-98.3109695,Abarrotes Diana,1 Photo,Grocery store (aka. nanostore),no,no,no,Analog cash register,1 Photo,no,yes,2019-11-09,No cambi\\xc3\\xb3,No cambi\\xc3\\xb3,no,No lo hago,En papel,No los uso,no,no,yes,\"Redes sociales (e.g. Facebook, Instagram),WhatsApp\",Efectivo,Tarjeta de d\\xc3\\xa9bito y/o cr\\xc3\\xa9dito,no,2-5%,2-5%,,1.0,,,,Tarjeta de d\\xc3\\xa9bito y/o cr\\xc3\\xa9dito,Redes sociales,yes,no,5%,Ninguna,no,Recarga telef\\xc3\\xb3nica,Tarde (12:00 - 7:00 pm),El cliente los recoge en tienda,ninguna,1-5%,No son funcionales para mi empresa,Totalmente en desacuerdo,Totalmente en desacuerdo,Totalmente de acuerdo,Totalmente de acuerdo,Totalmente en desacuerdo,Totalmente en desacuerdo,Totalmente en desacuerdo,Totalmente en desacuerdo,Totalmente en desacuerdo,Ni de acuerdo ni en desacuerdo,Totalmente en desacuerdo,Algo de acuerdo,Llamada telef\\xc3\\xb3nica,Descuento por compras anticipadas,0,\"Cuaderno,Excel\",Efectivo,no,Ninguna de las anteriores,Semanalmente,\"Refrigeraci\\xc3\\xb3n,Tama\\xc3\\xb1o\",Informar al proveedor,0,De acuerdo,En desacuerdo,Totalmente de acuerdo,En desacuerdo,De acuerdo,Totalmente de acuerdo,Totalmente de acuerdo,De acuerdo,Totalmente en desacuerdo,Totalmente en desacuerdo,yes,Jaime,Palacios Grac\\xc3\\xada,2221842951.0,palacioslibia@hotmail.com,0.0,5.0,3.0,0.0,0.0,0.0,3.0,3.0,1.0,30.0,7.0,2.0,50.0,2.0,2.0,3.0,1.0,10.0\\n196,dffe1660-c71a-40a5-9578-1335e9b18536,\"November 9, 2022\",2022-11-11 23:12:53 UTC,Hiram Jim\\xc3\\xa9nez,SRID=4326;POINT(-98.3111919 19.0612258),19.0612258,-98.3111919,Abarrotes jaime,1 Photo,Grocery store (aka. nanostore),no,no,no,Smartphone,1 Photo,no,yes,2019-11-09,No cambi\\xc3\\xb3,No cambi\\xc3\\xb3,no,No lo hago,En papel,No los uso,no,no,yes,\"Redes sociales (e.g. Facebook, Instagram),WhatsApp\",Efectivo,Tarjeta de d\\xc3\\xa9bito y/o cr\\xc3\\xa9dito,no,2-5%,2-5%,,1.0,,,,Tarjeta de d\\xc3\\xa9bito y/o cr\\xc3\\xa9dito,Redes sociales,yes,no,5%,Ninguna,no,Recarga telef\\xc3\\xb3nica,Tarde (12:00 - 7:00 pm),El cliente los recoge en tienda,ninguna,1-5%,No son funcionales para mi empresa,Totalmente en desacuerdo,Totalmente en desacuerdo,Totalmente de acuerdo,Totalmente de acuerdo,Totalmente en desacuerdo,Totalmente en desacuerdo,Totalmente en desacuerdo,Totalmente en desacuerdo,Totalmente en desacuerdo,Ni de acuerdo ni en desacuerdo,Totalmente en desacuerdo,Algo de acuerdo,Llamada telef\\xc3\\xb3nica,Descuento por compras anticipadas,0,\"Cuaderno,Excel\",Efectivo,no,Ninguna de las anteriores,Semanalmente,\"Refrigeraci\\xc3\\xb3n,Tama\\xc3\\xb1o\",Informar al proveedor,0,De acuerdo,En desacuerdo,Totalmente de acuerdo,En desacuerdo,De acuerdo,Totalmente de acuerdo,Totalmente de acuerdo,De acuerdo,Totalmente en desacuerdo,Totalmente en desacuerdo,yes,Jaime,Palacios Grac\\xc3\\xada,2221842951.0,palacioslibia@hotmail.com,2.0,3.0,5.0,0.0,0.0,0.0,3.0,3.0,1.0,30.0,7.0,2.0,50.0,2.0,2.0,3.0,1.0,10.0\\n197,388f22fd-1484-4443-96b9-d6b7bc79f3b8,\"November 9, 2022\",2022-11-11 23:12:52 UTC,Hiram Jim\\xc3\\xa9nez,SRID=4326;POINT(-98.3112764 19.0608665),19.0608665,-98.3112764,Abarrotes el solecito,1 Photo,Grocery store (aka. nanostore),no,no,no,Smartphone,1 Photo,no,yes,2021-11-01,No cambi\\xc3\\xb3,Aument\\xc3\\xb3 50% o m\\xc3\\xa1s,yes,En papel,No lo hago,No los uso,no,yes,yes,\"Redes sociales (e.g. Facebook, Instagram),WhatsApp\",\"Efectivo,Tarjeta de d\\xc3\\xa9bito y/o cr\\xc3\\xa9dito,Transferencia interbancaria\",Tarjeta de d\\xc3\\xa9bito y/o cr\\xc3\\xa9dito,no,2-5%,2-5%,,1.0,,,,Tarjeta de d\\xc3\\xa9bito y/o cr\\xc3\\xa9dito,Redes sociales,no,no,50% +,Ninguna,no,Ninguno,Tarde (12:00 - 7:00 pm),El cliente los recoge en tienda,ninguna,1-5%,No son funcionales para mi empresa,Totalmente en desacuerdo,Totalmente en desacuerdo,Totalmente de acuerdo,Totalmente de acuerdo,Algo de acuerdo,Totalmente en desacuerdo,Totalmente en desacuerdo,Totalmente en desacuerdo,Totalmente en desacuerdo,Totalmente en desacuerdo,Algo de acuerdo,Totalmente de acuerdo,En persona,No,0,Cuaderno,\"Efectivo,Tarjeta de d\\xc3\\xa9bito y/o cr\\xc3\\xa9dito\",yes,Ninguna de las anteriores,Semanalmente,Tama\\xc3\\xb1o,Solicitar tiempo al cliente para conseguir el producto,0,De acuerdo,Totalmente de acuerdo,Totalmente de acuerdo,En desacuerdo,De acuerdo,Totalmente de acuerdo,Totalmente de acuerdo,De acuerdo,Totalmente en desacuerdo,Totalmente en desacuerdo,yes,Libia,Palacios Grac\\xc3\\xada,2221842951.0,palacioslibia@hotmail.com,0.0,2.0,4.0,0.0,1.0,0.0,2.0,3.0,1.0,30.0,7.0,2.0,50.0,2.0,2.0,3.0,1.0,20.0\\n198,22ab11ce-fc2c-4031-9f23-74e21486b0f6,\"November 9, 2022\",2022-11-11 22:11:34 UTC,Harry Hern\\xc3\\xa1ndez,SRID=4326;POINT(-98.3067292227 19.0618356185),19.0618356185,-98.3067292227,Miscel\\xc3\\xa1nea el z\\xc3\\xb3calo ,1 Photo,Grocery store (aka. nanostore),no,no,no,\"Security cameras,Smartphone\",1 Photo,no,yes,2021-11-01,No cambi\\xc3\\xb3,Aument\\xc3\\xb3 50% o m\\xc3\\xa1s,yes,En papel,No lo hago,No los uso,no,yes,yes,\"Redes sociales (e.g. Facebook, Instagram),WhatsApp\",\"Efectivo,Tarjeta de d\\xc3\\xa9bito y/o cr\\xc3\\xa9dito,Transferencia interbancaria\",Tarjeta de d\\xc3\\xa9bito y/o cr\\xc3\\xa9dito,no,2-5%,2-5%,,1.0,,,,Tarjeta de d\\xc3\\xa9bito y/o cr\\xc3\\xa9dito,Redes sociales,no,no,50% +,Ninguna,no,Ninguno,Tarde (12:00 - 7:00 pm),El cliente los recoge en tienda,ninguna,1-5%,No son funcionales para mi empresa,Totalmente en desacuerdo,Totalmente en desacuerdo,Totalmente de acuerdo,Totalmente de acuerdo,Algo de acuerdo,Totalmente en desacuerdo,Totalmente en desacuerdo,Totalmente en desacuerdo,Totalmente en desacuerdo,Totalmente en desacuerdo,Algo de acuerdo,Totalmente de acuerdo,En persona,No,0,Cuaderno,\"Efectivo,Tarjeta de d\\xc3\\xa9bito y/o cr\\xc3\\xa9dito\",yes,Ninguna de las anteriores,Semanalmente,Tama\\xc3\\xb1o,Solicitar tiempo al cliente para conseguir el producto,0,De acuerdo,Totalmente de acuerdo,Totalmente de acuerdo,En desacuerdo,De acuerdo,Totalmente de acuerdo,Totalmente de acuerdo,De acuerdo,Totalmente en desacuerdo,Totalmente en desacuerdo,yes,Libia,Palacios Grac\\xc3\\xada,2221842951.0,palacioslibia@hotmail.com,2.0,5.0,6.0,0.0,1.0,0.0,2.0,3.0,1.0,30.0,7.0,2.0,50.0,2.0,2.0,3.0,1.0,20.0\\n199,99f132d3-41dc-47b7-9466-7db694dcd507,\"November 9, 2022\",2022-11-11 22:11:34 UTC,Harry Hern\\xc3\\xa1ndez,SRID=4326;POINT(-98.3060609457 19.0605136519),19.0605136519,-98.3060609457,La pir\\xc3\\xa1mide ,1 Photo,Grocery store (aka. nanostore),no,no,no,Smartphone,1 Photo,no,yes,2021-11-01,No cambi\\xc3\\xb3,Aument\\xc3\\xb3 50% o m\\xc3\\xa1s,yes,En papel,No lo hago,No los uso,no,yes,yes,\"Redes sociales (e.g. Facebook, Instagram),WhatsApp\",\"Efectivo,Tarjeta de d\\xc3\\xa9bito y/o cr\\xc3\\xa9dito,Transferencia interbancaria\",Tarjeta de d\\xc3\\xa9bito y/o cr\\xc3\\xa9dito,no,2-5%,2-5%,,1.0,,,,Tarjeta de d\\xc3\\xa9bito y/o cr\\xc3\\xa9dito,Redes sociales,no,no,50% +,Ninguna,no,Ninguno,Tarde (12:00 - 7:00 pm),El cliente los recoge en tienda,ninguna,1-5%,No son funcionales para mi empresa,Totalmente en desacuerdo,Totalmente en desacuerdo,Totalmente de acuerdo,Totalmente de acuerdo,Algo de acuerdo,Totalmente en desacuerdo,Totalmente en desacuerdo,Totalmente en desacuerdo,Totalmente en desacuerdo,Totalmente en desacuerdo,Algo de acuerdo,Totalmente de acuerdo,En persona,No,0,Cuaderno,\"Efectivo,Tarjeta de d\\xc3\\xa9bito y/o cr\\xc3\\xa9dito\",yes,Ninguna de las anteriores,Semanalmente,Tama\\xc3\\xb1o,Solicitar tiempo al cliente para conseguir el producto,0,De acuerdo,Totalmente de acuerdo,Totalmente de acuerdo,En desacuerdo,De acuerdo,Totalmente de acuerdo,Totalmente de acuerdo,De acuerdo,Totalmente en desacuerdo,Totalmente en desacuerdo,yes,Libia,Palacios Grac\\xc3\\xada,2221842951.0,palacioslibia@hotmail.com,0.0,2.0,2.0,0.0,1.0,0.0,2.0,3.0,1.0,30.0,7.0,2.0,50.0,2.0,2.0,3.0,1.0,20.0\\n200,721a3a26-9865-49f3-9974-dd002febe563,\"November 9, 2022\",2022-11-11 22:11:34 UTC,Harry Hern\\xc3\\xa1ndez,SRID=4326;POINT(-98.306741458 19.0597415325),19.0597415325,-98.306741458,Miscel\\xc3\\xa1nea teocalli ,1 Photo,Grocery store (aka. nanostore),no,no,no,Smartphone,1 Photo,no,yes,2021-11-01,No cambi\\xc3\\xb3,Aument\\xc3\\xb3 50% o m\\xc3\\xa1s,yes,En papel,No lo hago,No los uso,no,yes,yes,\"Redes sociales (e.g. Facebook, Instagram),WhatsApp\",\"Efectivo,Tarjeta de d\\xc3\\xa9bito y/o cr\\xc3\\xa9dito,Transferencia interbancaria\",Tarjeta de d\\xc3\\xa9bito y/o cr\\xc3\\xa9dito,no,2-5%,2-5%,,1.0,,,,Tarjeta de d\\xc3\\xa9bito y/o cr\\xc3\\xa9dito,Redes sociales,no,no,50% +,Ninguna,no,Ninguno,Tarde (12:00 - 7:00 pm),El cliente los recoge en tienda,ninguna,1-5%,No son funcionales para mi empresa,Totalmente en desacuerdo,Totalmente en desacuerdo,Totalmente de acuerdo,Totalmente de acuerdo,Algo de acuerdo,Totalmente en desacuerdo,Totalmente en desacuerdo,Totalmente en desacuerdo,Totalmente en desacuerdo,Totalmente en desacuerdo,Algo de acuerdo,Totalmente de acuerdo,En persona,No,0,Cuaderno,\"Efectivo,Tarjeta de d\\xc3\\xa9bito y/o cr\\xc3\\xa9dito\",yes,Ninguna de las anteriores,Semanalmente,Tama\\xc3\\xb1o,Solicitar tiempo al cliente para conseguir el producto,0,De acuerdo,Totalmente de acuerdo,Totalmente de acuerdo,En desacuerdo,De acuerdo,Totalmente de acuerdo,Totalmente de acuerdo,De acuerdo,Totalmente en desacuerdo,Totalmente en desacuerdo,yes,Libia,Palacios Grac\\xc3\\xada,2221842951.0,palacioslibia@hotmail.com,0.0,3.0,4.0,0.0,1.0,0.0,2.0,3.0,1.0,30.0,7.0,2.0,50.0,2.0,2.0,3.0,1.0,20.0\\n201,1d47120b-bd60-4389-849e-68b9d9ba2696,\"November 9, 2022\",2022-11-11 22:11:33 UTC,Harry Hern\\xc3\\xa1ndez,SRID=4326;POINT(-98.3070316539 19.0617376613),19.0617376613,-98.3070316539,Carnicer\\xc3\\xada la cubana ,1 Photo,Butcher shop,no,no,yes,Security cameras,1 Photo,no,yes,2021-11-01,No cambi\\xc3\\xb3,Aument\\xc3\\xb3 50% o m\\xc3\\xa1s,yes,En papel,No lo hago,No los uso,no,yes,yes,\"Redes sociales (e.g. Facebook, Instagram),WhatsApp\",\"Efectivo,Tarjeta de d\\xc3\\xa9bito y/o cr\\xc3\\xa9dito,Transferencia interbancaria\",Tarjeta de d\\xc3\\xa9bito y/o cr\\xc3\\xa9dito,no,2-5%,2-5%,,1.0,,,,Tarjeta de d\\xc3\\xa9bito y/o cr\\xc3\\xa9dito,Redes sociales,no,no,50% +,Ninguna,no,Ninguno,Tarde (12:00 - 7:00 pm),El cliente los recoge en tienda,ninguna,1-5%,No son funcionales para mi empresa,Totalmente en desacuerdo,Totalmente en desacuerdo,Totalmente de acuerdo,Totalmente de acuerdo,Algo de acuerdo,Totalmente en desacuerdo,Totalmente en desacuerdo,Totalmente en desacuerdo,Totalmente en desacuerdo,Totalmente en desacuerdo,Algo de acuerdo,Totalmente de acuerdo,En persona,No,0,Cuaderno,\"Efectivo,Tarjeta de d\\xc3\\xa9bito y/o cr\\xc3\\xa9dito\",yes,Ninguna de las anteriores,Semanalmente,Tama\\xc3\\xb1o,Solicitar tiempo al cliente para conseguir el producto,0,De acuerdo,Totalmente de acuerdo,Totalmente de acuerdo,En desacuerdo,De acuerdo,Totalmente de acuerdo,Totalmente de acuerdo,De acuerdo,Totalmente en desacuerdo,Totalmente en desacuerdo,yes,Libia,Palacios Grac\\xc3\\xada,2221842951.0,palacioslibia@hotmail.com,0.0,2.0,2.0,0.0,1.0,0.0,2.0,3.0,1.0,30.0,7.0,2.0,50.0,2.0,2.0,3.0,1.0,20.0\\n202,674ee633-fde4-4e5e-9460-2a98026928d5,\"November 9, 2022\",2022-11-11 22:11:33 UTC,Harry Hern\\xc3\\xa1ndez,SRID=4326;POINT(-98.3097306413 19.0637564472),19.0637564472,-98.3097306413,Providencia ,1 Photo,Grocery store (aka. nanostore),no,yes,no,Smartphone,1 Photo,no,no,2021-11-01,No cambi\\xc3\\xb3,Aument\\xc3\\xb3 50% o m\\xc3\\xa1s,yes,En papel,No lo hago,No los uso,no,yes,yes,\"Redes sociales (e.g. Facebook, Instagram),WhatsApp\",\"Efectivo,Tarjeta de d\\xc3\\xa9bito y/o cr\\xc3\\xa9dito,Transferencia interbancaria\",Tarjeta de d\\xc3\\xa9bito y/o cr\\xc3\\xa9dito,no,2-5%,2-5%,,1.0,,,,Tarjeta de d\\xc3\\xa9bito y/o cr\\xc3\\xa9dito,Redes sociales,no,no,50% +,Ninguna,no,Ninguno,Tarde (12:00 - 7:00 pm),El cliente los recoge en tienda,ninguna,1-5%,No son funcionales para mi empresa,Totalmente en desacuerdo,Totalmente en desacuerdo,Totalmente de acuerdo,Totalmente de acuerdo,Algo de acuerdo,Totalmente en desacuerdo,Totalmente en desacuerdo,Totalmente en desacuerdo,Totalmente en desacuerdo,Totalmente en desacuerdo,Algo de acuerdo,Totalmente de acuerdo,En persona,No,0,Cuaderno,\"Efectivo,Tarjeta de d\\xc3\\xa9bito y/o cr\\xc3\\xa9dito\",yes,Ninguna de las anteriores,Semanalmente,Tama\\xc3\\xb1o,Solicitar tiempo al cliente para conseguir el producto,0,De acuerdo,Totalmente de acuerdo,Totalmente de acuerdo,En desacuerdo,De acuerdo,Totalmente de acuerdo,Totalmente de acuerdo,De acuerdo,Totalmente en desacuerdo,Totalmente en desacuerdo,yes,Libia,Palacios Grac\\xc3\\xada,2221842951.0,palacioslibia@hotmail.com,1.0,3.0,5.0,0.0,1.0,0.0,2.0,3.0,1.0,30.0,7.0,2.0,50.0,2.0,2.0,3.0,1.0,20.0\\n203,cde7ae14-5752-4ada-ba91-d74819a7a1b0,\"November 9, 2022\",2022-11-11 22:11:32 UTC,Harry Hern\\xc3\\xa1ndez,SRID=4326;POINT(-98.3099810016 19.0642133584),19.0642133584,-98.3099810016,Carnicer\\xc3\\xada la sorpresa ,1 Photo,Butcher shop,no,yes,yes,Smartphone,1 Photo,no,yes,2021-11-01,No cambi\\xc3\\xb3,Aument\\xc3\\xb3 50% o m\\xc3\\xa1s,yes,En papel,No lo hago,No los uso,no,yes,yes,\"Redes sociales (e.g. Facebook, Instagram),WhatsApp\",\"Efectivo,Tarjeta de d\\xc3\\xa9bito y/o cr\\xc3\\xa9dito,Transferencia interbancaria\",Tarjeta de d\\xc3\\xa9bito y/o cr\\xc3\\xa9dito,no,2-5%,2-5%,,1.0,,,,Tarjeta de d\\xc3\\xa9bito y/o cr\\xc3\\xa9dito,Redes sociales,no,no,50% +,Ninguna,no,Ninguno,Tarde (12:00 - 7:00 pm),El cliente los recoge en tienda,ninguna,1-5%,No son funcionales para mi empresa,Totalmente en desacuerdo,Totalmente en desacuerdo,Totalmente de acuerdo,Totalmente de acuerdo,Algo de acuerdo,Totalmente en desacuerdo,Totalmente en desacuerdo,Totalmente en desacuerdo,Totalmente en desacuerdo,Totalmente en desacuerdo,Algo de acuerdo,Totalmente de acuerdo,En persona,No,0,Cuaderno,\"Efectivo,Tarjeta de d\\xc3\\xa9bito y/o cr\\xc3\\xa9dito\",yes,Ninguna de las anteriores,Semanalmente,Tama\\xc3\\xb1o,Solicitar tiempo al cliente para conseguir el producto,0,De acuerdo,Totalmente de acuerdo,Totalmente de acuerdo,En desacuerdo,De acuerdo,Totalmente de acuerdo,Totalmente de acuerdo,De acuerdo,Totalmente en desacuerdo,Totalmente en desacuerdo,yes,Libia,Palacios Grac\\xc3\\xada,2221842951.0,palacioslibia@hotmail.com,1.0,2.0,3.0,0.0,1.0,0.0,2.0,3.0,1.0,30.0,7.0,2.0,50.0,2.0,2.0,3.0,1.0,20.0\\n204,620401bb-43eb-43b3-a8c9-0e5361c3e9e9,\"November 9, 2022\",2022-11-11 22:11:32 UTC,Harry Hern\\xc3\\xa1ndez,SRID=4326;POINT(-98.3142734506 19.0662115021),19.0662115021,-98.3142734506,Miscel\\xc3\\xa1nea yolks ,1 Photo,Grocery store (aka. nanostore),no,no,no,Smartphone,1 Photo,no,yes,2021-11-01,No cambi\\xc3\\xb3,Aument\\xc3\\xb3 50% o m\\xc3\\xa1s,yes,En papel,No lo hago,No los uso,no,yes,yes,\"Redes sociales (e.g. Facebook, Instagram),WhatsApp\",\"Efectivo,Tarjeta de d\\xc3\\xa9bito y/o cr\\xc3\\xa9dito,Transferencia interbancaria\",Tarjeta de d\\xc3\\xa9bito y/o cr\\xc3\\xa9dito,no,2-5%,2-5%,,1.0,,,,Tarjeta de d\\xc3\\xa9bito y/o cr\\xc3\\xa9dito,Redes sociales,no,no,50% +,Ninguna,no,Ninguno,Tarde (12:00 - 7:00 pm),El cliente los recoge en tienda,ninguna,1-5%,No son funcionales para mi empresa,Totalmente en desacuerdo,Totalmente en desacuerdo,Totalmente de acuerdo,Totalmente de acuerdo,Algo de acuerdo,Totalmente en desacuerdo,Totalmente en desacuerdo,Totalmente en desacuerdo,Totalmente en desacuerdo,Totalmente en desacuerdo,Algo de acuerdo,Totalmente de acuerdo,En persona,No,0,Cuaderno,\"Efectivo,Tarjeta de d\\xc3\\xa9bito y/o cr\\xc3\\xa9dito\",yes,Ninguna de las anteriores,Semanalmente,Tama\\xc3\\xb1o,Solicitar tiempo al cliente para conseguir el producto,0,De acuerdo,Totalmente de acuerdo,Totalmente de acuerdo,En desacuerdo,De acuerdo,Totalmente de acuerdo,Totalmente de acuerdo,De acuerdo,Totalmente en desacuerdo,Totalmente en desacuerdo,yes,Libia,Palacios Grac\\xc3\\xada,2221842951.0,palacioslibia@hotmail.com,1.0,2.0,3.0,0.0,1.0,0.0,2.0,3.0,1.0,30.0,7.0,2.0,50.0,2.0,2.0,3.0,1.0,20.0\\n205,8d899887-52af-4d3d-8def-768e011d517e,\"November 9, 2022\",2022-11-11 21:10:15 UTC,Ismael L\\xc3\\xb3pez,SRID=4326;POINT(-98.248033 19.0282081),19.0282081,-98.248033,Cravings,2 Photos,Cafeteria,no,no,no,\"Analog cash register,Dataphone (i.e. card payments),Security cameras\",1 Photo,yes,yes,2021-11-01,No cambi\\xc3\\xb3,Aument\\xc3\\xb3 50% o m\\xc3\\xa1s,yes,En papel,No lo hago,No los uso,no,yes,yes,\"Redes sociales (e.g. Facebook, Instagram),WhatsApp\",\"Efectivo,Tarjeta de d\\xc3\\xa9bito y/o cr\\xc3\\xa9dito,Transferencia interbancaria\",Tarjeta de d\\xc3\\xa9bito y/o cr\\xc3\\xa9dito,no,2-5%,2-5%,,1.0,,,,Tarjeta de d\\xc3\\xa9bito y/o cr\\xc3\\xa9dito,Redes sociales,no,no,50% +,Ninguna,no,Ninguno,Tarde (12:00 - 7:00 pm),El cliente los recoge en tienda,ninguna,1-5%,No son funcionales para mi empresa,Totalmente en desacuerdo,Totalmente en desacuerdo,Totalmente de acuerdo,Totalmente de acuerdo,Algo de acuerdo,Totalmente en desacuerdo,Totalmente en desacuerdo,Totalmente en desacuerdo,Totalmente en desacuerdo,Totalmente en desacuerdo,Algo de acuerdo,Totalmente de acuerdo,En persona,No,0,Cuaderno,\"Efectivo,Tarjeta de d\\xc3\\xa9bito y/o cr\\xc3\\xa9dito\",yes,Ninguna de las anteriores,Semanalmente,Tama\\xc3\\xb1o,Solicitar tiempo al cliente para conseguir el producto,0,De acuerdo,Totalmente de acuerdo,Totalmente de acuerdo,En desacuerdo,De acuerdo,Totalmente de acuerdo,Totalmente de acuerdo,De acuerdo,Totalmente en desacuerdo,Totalmente en desacuerdo,yes,Libia,Palacios Grac\\xc3\\xada,2221842951.0,palacioslibia@hotmail.com,5.0,2.0,0.0,0.0,1.0,0.0,2.0,3.0,1.0,30.0,7.0,2.0,50.0,2.0,2.0,3.0,1.0,20.0\\n206,4919cc09-3642-45fa-b86f-5e016dfabfcb,\"November 10, 2022\",2022-11-11 18:50:16 UTC,Jos\\xc3\\xa9 Zapata,SRID=4326;POINT(-98.215433 19.017792),19.017792,-98.215433,Tacos de canasta,1 Photo,Micro-restaurant (aka. fondita),yes,yes,no,Smartphone,1 Photo,yes,yes,2002-11-10,Disminuy\\xc3\\xb3 15%,Aument\\xc3\\xb3 15%,yes,No lo hago,No lo hago,No los uso,no,yes,no,Llamada a Tel\\xc3\\xa9fono fijo,Efectivo,Tarjeta de d\\xc3\\xa9bito y/o cr\\xc3\\xa9dito,no,2-5%,2-5%,,3.0,,,,Tarjeta de d\\xc3\\xa9bito y/o cr\\xc3\\xa9dito,Ninguna,no,no,20%,Ninguna,no,Ninguno,Tarde (12:00 - 7:00 pm),El cliente los recoge en tienda,ninguna,1-5%,No conozco los servicios,Ni de acuerdo ni en desacuerdo,Ni de acuerdo ni en desacuerdo,Algo de acuerdo,Ni de acuerdo ni en desacuerdo,Totalmente en desacuerdo,Ni de acuerdo ni en desacuerdo,Algo en desacuerdo,Ni de acuerdo ni en desacuerdo,Ni de acuerdo ni en desacuerdo,Ni de acuerdo ni en desacuerdo,Algo de acuerdo,Ni de acuerdo ni en desacuerdo,\"En persona,Llamada telef\\xc3\\xb3nica\",\"Cr\\xc3\\xa9dito,Descuento por compras anticipadas\",0,Cuaderno,Efectivo,no,Aumentar la variedad de productos.,Nunca,Margen de utilidad,Perder la venta,0,Totalmente en desacuerdo,Totalmente en desacuerdo,Totalmente en desacuerdo,Totalmente en desacuerdo,Totalmente en desacuerdo,Totalmente en desacuerdo,Totalmente en desacuerdo,Totalmente en desacuerdo,Totalmente en desacuerdo,Totalmente en desacuerdo,no,Maria,Aguilar ,2221742135.0,bernardo.nava2402@gmail.com,3.0,0.0,1.0,1.0,1.0,3.0,3.0,5.0,3.0,30.0,7.0,2.0,50.0,2.0,2.0,3.0,7.0,5.0\\n207,4277748d-95df-43ae-9e0d-637a6a83dc57,\"November 10, 2022\",2022-11-11 17:26:09 UTC,Azael Mendoza,SRID=4326;POINT(-98.2194659114 19.0162957342),19.0162957342,-98.2194659114,Mis Mar,1 Photo,Micro-restaurant (aka. fondita),yes,no,yes,Smartphone,1 Photo,yes,yes,2003-11-10,No cambi\\xc3\\xb3,Disminuy\\xc3\\xb3 15%,yes,En papel,En papel,No los uso,yes,yes,yes,Llamada a Tel\\xc3\\xa9fono fijo,\"Efectivo,Tarjeta de d\\xc3\\xa9bito y/o cr\\xc3\\xa9dito\",Tarjeta de d\\xc3\\xa9bito y/o cr\\xc3\\xa9dito,no,2-5%,2-5%,,3.0,,,,Tarjeta de d\\xc3\\xa9bito y/o cr\\xc3\\xa9dito,Ninguna,no,no,40%,Cuaderno,no,Ninguno,Tarde (12:00 - 7:00 pm),El cliente los recoge en tienda,ninguna,ninguno,No conozco los servicios,Ni de acuerdo ni en desacuerdo,Ni de acuerdo ni en desacuerdo,Algo de acuerdo,Ni de acuerdo ni en desacuerdo,Totalmente en desacuerdo,Ni de acuerdo ni en desacuerdo,Algo en desacuerdo,Ni de acuerdo ni en desacuerdo,Ni de acuerdo ni en desacuerdo,Ni de acuerdo ni en desacuerdo,Algo de acuerdo,Ni de acuerdo ni en desacuerdo,\"En persona,Llamada telef\\xc3\\xb3nica\",\"Cr\\xc3\\xa9dito,Descuento por compras anticipadas\",0,Cuaderno,Efectivo,no,Aumentar la variedad de productos.,Semanalmente,Frecuencia de venta,Ofrecer un producto sustituto,20%,Ni de acuerdo ni en desacuerdo,Totalmente de acuerdo,De acuerdo,De acuerdo,Totalmente de acuerdo,De acuerdo,De acuerdo,De acuerdo,De acuerdo,De acuerdo,yes,Maria,Aguilar ,2221742135.0,bernardo.nava2402@gmail.com,0.0,3.0,2.0,3.0,3.0,3.0,2.0,3.0,3.0,30.0,7.0,2.0,50.0,2.0,2.0,3.0,7.0,0.0\\n208,d73b2b14-2ae3-421f-a392-48fef3a94dcf,\"November 10, 2022\",2022-11-11 17:26:08 UTC,Azael Mendoza,SRID=4326;POINT(-98.2198437676 19.016607641),19.016607641,-98.2198437676,El calcet\\xc3\\xadn perdido ,1 Photo,Planchaduria,yes,no,no,Smartphone,1 Photo,yes,yes,2017-10-10,Disminuy\\xc3\\xb3 15%,No cambi\\xc3\\xb3,yes,En Excel,Notas ,No los uso,yes,yes,no,Volantes,Efectivo,Tarjeta de d\\xc3\\xa9bito y/o cr\\xc3\\xa9dito,no,2-5%,2-5%,,1.0,,,,Tarjeta de d\\xc3\\xa9bito y/o cr\\xc3\\xa9dito,Aplicaci\\xc3\\xb3n m\\xc3\\xb3vil,no,no,30%,Ninguna,no,Ninguno,Tarde (12:00 - 7:00 pm),El cliente los recoge en tienda,ninguna,ninguno,No creo que represente grandes ingresos,Ni de acuerdo ni en desacuerdo,Ni de acuerdo ni en desacuerdo,Algo de acuerdo,Ni de acuerdo ni en desacuerdo,Ni de acuerdo ni en desacuerdo,Ni de acuerdo ni en desacuerdo,Algo de acuerdo,Algo de acuerdo,Ni de acuerdo ni en desacuerdo,Ni de acuerdo ni en desacuerdo,Algo de acuerdo,Ni de acuerdo ni en desacuerdo,Llamada telef\\xc3\\xb3nica,Ninguno,1-2%,Ninguna,Efectivo,yes,Aumentar la variedad de productos.,Diariamente,Frecuencia de venta,Ofrecer un producto sustituto,30%,Totalmente de acuerdo,De acuerdo,De acuerdo,Ni de acuerdo ni en desacuerdo,De acuerdo,Totalmente de acuerdo,De acuerdo,De acuerdo,Ni de acuerdo ni en desacuerdo,De acuerdo,no,Juan ramon ,Seron gonzales,222230377.0,bernardo.nava2402@gmail.com,1.0,0.0,1.0,1.0,1.0,1.0,2.0,5.0,1.0,30.0,7.0,2.0,50.0,2.0,2.0,3.0,1.0,0.0\\n209,8fc3fc10-d6d7-4509-8860-506163b24e1d,\"November 10, 2022\",2022-11-11 17:23:49 UTC,Manuel Flores,SRID=4326;POINT(-98.2184597477 19.0153365537),19.0153365537,-98.2184597477,Ginecolog\\xc3\\xada y obstetricia integral,2 Photos,Ginecolog\\xc3\\xada,no,no,no,Papel y celular,1 Photo,yes,yes,1998-02-10,No cambi\\xc3\\xb3,No cambi\\xc3\\xb3,no,No lo hago,En papel,No los uso,yes,no,yes,\"Llamada a Tel\\xc3\\xa9fono celular,Llamada a Tel\\xc3\\xa9fono fijo,WhatsApp\",\"Efectivo,Transferencia interbancaria\",Tarjeta de d\\xc3\\xa9bito y/o cr\\xc3\\xa9dito,no,2-5%,2-5%,,1.0,,,,Tarjeta de d\\xc3\\xa9bito y/o cr\\xc3\\xa9dito,Ninguna,no,no,15%,Cuaderno,no,Toma de papa nicolau,Tarde (12:00 - 7:00 pm),El cliente los recoge en tienda,ninguna,ninguno,Apenas son nuevos ,Totalmente de acuerdo,Algo de acuerdo,Algo de acuerdo,Algo de acuerdo,Algo en desacuerdo,Algo en desacuerdo,Algo de acuerdo,Totalmente en desacuerdo,Algo en desacuerdo,Algo de acuerdo,Algo de acuerdo,Algo de acuerdo,\"En persona,Llamada telef\\xc3\\xb3nica\",Ninguno,0,Cuaderno,Efectivo,no,\"Disminuci\\xc3\\xb3n de la variedad de productos,Disminuir la cantidad del pedido,Disminuir la frecuencia de pedidos\",Semanalmente,Margen de utilidad,\"Descuento,Ofrecer un producto sustituto\",50% +,Totalmente de acuerdo,Totalmente de acuerdo,Totalmente de acuerdo,Totalmente en desacuerdo,Totalmente de acuerdo,Totalmente de acuerdo,Totalmente de acuerdo,Totalmente de acuerdo,Totalmente en desacuerdo,Totalmente de acuerdo,yes,Juan ramon ,Seron gonzales,222230377.0,bernardo.nava2402@gmail.com,0.0,0.0,0.0,2.0,2.0,1.0,0.0,1.0,1.0,30.0,7.0,2.0,50.0,2.0,2.0,3.0,7.0,9.0\\n210,711c8b5e-708f-4aee-ba78-036b4b2c0ecb,\"November 10, 2022\",2022-11-11 13:26:57 UTC,Jos\\xc3\\xa9 Zapata,SRID=4326;POINT(-98.21528 19.018979),19.018979,-98.21528,Alebrije ,1 Photo,Micro-restaurant (aka. fondita),no,no,yes,Smartphone,1 Photo,yes,yes,2020-11-10,No cambi\\xc3\\xb3,Disminuy\\xc3\\xb3 25%,yes,En papel,En papel,No los uso,yes,yes,no,Ninguno,Efectivo,Tarjeta de d\\xc3\\xa9bito y/o cr\\xc3\\xa9dito,no,2-5%,2-5%,,1.0,,,,Tarjeta de d\\xc3\\xa9bito y/o cr\\xc3\\xa9dito,Aplicaci\\xc3\\xb3n m\\xc3\\xb3vil,no,no,35%,Cuaderno,no,Ninguno,Tarde (12:00 - 7:00 pm),El cliente los recoge en tienda,ninguna,ninguno,Apenas son nuevos ,Totalmente de acuerdo,Algo de acuerdo,Algo de acuerdo,Algo de acuerdo,Algo de acuerdo,Algo en desacuerdo,Algo de acuerdo,Totalmente en desacuerdo,Algo en desacuerdo,Algo de acuerdo,Algo de acuerdo,Algo de acuerdo,\"En persona,Llamada telef\\xc3\\xb3nica\",Ninguno,0,Cuaderno,Efectivo,no,\"Disminuci\\xc3\\xb3n de la variedad de productos,Disminuir la cantidad del pedido,Disminuir la frecuencia de pedidos\",Semanalmente,Margen de utilidad,\"Descuento,Ofrecer un producto sustituto\",50% +,Totalmente de acuerdo,De acuerdo,De acuerdo,Totalmente en desacuerdo,Totalmente de acuerdo,Totalmente de acuerdo,Totalmente de acuerdo,Totalmente de acuerdo,Totalmente en desacuerdo,Totalmente de acuerdo,yes,Bernardo,Nava,2222707945.0,bernardo.nava2402@gmail.com,2.0,2.0,0.0,2.0,3.0,1.0,6.0,1.0,1.0,30.0,7.0,2.0,50.0,2.0,2.0,3.0,7.0,9.0\\n211,bbd2ab9c-c16b-4665-9604-be29c8819cfa,\"November 10, 2022\",2022-11-11 13:26:08 UTC,Jos\\xc3\\xa9 Zapata,SRID=4326;POINT(-98.218263 19.017786),19.017786,-98.218263,Carnitas el sabroso ,1 Photo,Micro-restaurant (aka. fondita),no,no,yes,Smartphone,1 Photo,yes,yes,2022-09-13,Aument\\xc3\\xb3 15%,Disminuy\\xc3\\xb3 50% o m\\xc3\\xa1s,yes,Mentalmente,En papel,No los uso,no,yes,no,Ninguno,Efectivo,Tarjeta de d\\xc3\\xa9bito y/o cr\\xc3\\xa9dito,no,2-5%,2-5%,,1.0,,,,Tarjeta de d\\xc3\\xa9bito y/o cr\\xc3\\xa9dito,Ninguna,yes,no,20%,Mental,no,Ninguno,Tarde (12:00 - 7:00 pm),El cliente los recoge en tienda,ninguna,ninguno,Pura taqueria,Totalmente de acuerdo,Totalmente en desacuerdo,Totalmente de acuerdo,Totalmente de acuerdo,Totalmente en desacuerdo,Totalmente en desacuerdo,Totalmente de acuerdo,Totalmente de acuerdo,Totalmente de acuerdo,Totalmente en desacuerdo,Totalmente en desacuerdo,Totalmente en desacuerdo,En persona,Descuento por compras anticipadas,0,Mentalmente,Efectivo,yes,\"Disminuci\\xc3\\xb3n de la variedad de productos,Disminuir la cantidad del pedido,Disminuir la frecuencia de pedidos\",No se tiene,Precio,Perder la venta,30%,Totalmente de acuerdo,Totalmente de acuerdo,Totalmente de acuerdo,Totalmente en desacuerdo,Totalmente de acuerdo,Totalmente de acuerdo,Totalmente de acuerdo,Totalmente de acuerdo,Totalmente en desacuerdo,Totalmente de acuerdo,yes,Rosendo,Gonzalez,2229021462.0,genzo80@hotmail.com,1.0,0.0,6.0,1.0,3.0,1.0,3.0,6.0,1.0,30.0,7.0,2.0,50.0,2.0,2.0,3.0,2.0,9.0\\n212,8905723a-e403-4417-b2f1-913ccf0ec9f8,\"November 10, 2022\",2022-11-11 13:25:12 UTC,Jos\\xc3\\xa9 Zapata,SRID=4326;POINT(-98.217094 19.019788),19.019788,-98.217094,La Astorga,1 Photo,Panader\\xc3\\xada ,yes,no,yes,\"Analog cash register,POS system (i.e. computer + bar code scanner + printer),Security cameras\",1 Photo,yes,yes,1990-11-10,No cambi\\xc3\\xb3,Disminuy\\xc3\\xb3 15%,yes,No lo hago,En papel,No los uso,yes,no,no,Ninguno,Efectivo,Tarjeta de d\\xc3\\xa9bito y/o cr\\xc3\\xa9dito,no,2-5%,2-5%,,1.0,,,,Tarjeta de d\\xc3\\xa9bito y/o cr\\xc3\\xa9dito,Ninguna,no,no,20%,Por temporada de pan,no,Ninguno,Tarde (12:00 - 7:00 pm),El cliente los recoge en tienda,ninguna,ninguno,Es exclusivo panader\\xc3\\xada ,Totalmente en desacuerdo,Totalmente en desacuerdo,Ni de acuerdo ni en desacuerdo,Totalmente en desacuerdo,Totalmente en desacuerdo,Totalmente en desacuerdo,Totalmente en desacuerdo,Totalmente en desacuerdo,Totalmente en desacuerdo,Totalmente en desacuerdo,Totalmente en desacuerdo,Totalmente en desacuerdo,En persona,Ninguna,0,Ninguna,Efectivo,no,\"Aumentar la variedad de productos.,Disminuir la cantidad del pedido,Disminuir la frecuencia de pedidos\",Diariamente,Precio,Ofrecer un producto sustituto,50% +,De acuerdo,De acuerdo,De acuerdo,Totalmente en desacuerdo,En desacuerdo,De acuerdo,Ni de acuerdo ni en desacuerdo,Totalmente en desacuerdo,Totalmente en desacuerdo,De acuerdo,no,Ahmed,Santander S\\xc3\\xa1nchez ,2228321284.0,genzo80@hotmail.com,1.0,0.0,0.0,4.0,4.0,1.0,4.0,3.0,1.0,3.0,0.0,2.0,50.0,2.0,2.0,3.0,1.0,9.0\\n213,5e008ca9-81fd-4f7e-ad39-8bf6ef1777c1,\"November 10, 2022\",2022-11-11 05:09:36 UTC,Sandra Carre\\xc3\\xb3n,SRID=4326;POINT(-98.2037023746 19.046021086),19.046021086,-98.2037023746,Abarrotes vinos y licores La ranita,2 Photos,Grocery store (aka. nanostore),no,yes,yes,POS system (i.e. computer + bar code scanner + printer),1 Photo,yes,yes,2000-01-10,No cambi\\xc3\\xb3,Aument\\xc3\\xb3 25%,yes,Software especializado + computadora,Software especializado + computadora,No los uso,yes,no,yes,F\\xc3\\xadsico ,\"Efectivo,Tarjeta de d\\xc3\\xa9bito y/o cr\\xc3\\xa9dito\",Tarjeta de d\\xc3\\xa9bito y/o cr\\xc3\\xa9dito,no,2-5%,2-5%,,1.0,,,,Tarjeta de d\\xc3\\xa9bito y/o cr\\xc3\\xa9dito,F\\xc3\\xadsico ,no,no,20%,Ninguna,no,Ninguno,Tarde (12:00 - 7:00 pm),El cliente los recoge en tienda,ninguna,ninguno,No quiero involucrarme con la tecnolog\\xc3\\xada,Totalmente de acuerdo,Totalmente de acuerdo,Totalmente en desacuerdo,Totalmente en desacuerdo,Totalmente en desacuerdo,Totalmente en desacuerdo,Totalmente en desacuerdo,Totalmente en desacuerdo,Algo de acuerdo,Totalmente en desacuerdo,Totalmente en desacuerdo,Algo de acuerdo,P\\xc3\\xa1gina web del proveedor,\"Consignaci\\xc3\\xb3n,Cr\\xc3\\xa9dito,Descuento por compras anticipadas,Recompra\",0,Software especializado,Efectivo,no,\"Aumentar la variedad de productos.,Disminuir la cantidad del pedido,Disminuir la frecuencia de pedidos\",Diariamente,Frecuencia de venta,Informar al proveedor,30%,Totalmente de acuerdo,Totalmente de acuerdo,De acuerdo,Totalmente en desacuerdo,Totalmente de acuerdo,Totalmente en desacuerdo,Totalmente de acuerdo,Totalmente en desacuerdo,Totalmente en desacuerdo,Totalmente en desacuerdo,no,Ahmed,Santander S\\xc3\\xa1nchez ,2228321284.0,genzo80@hotmail.com,3.0,8.0,6.2,2.0,0.0,1.0,2.0,3.0,1.0,3.0,0.0,2.0,50.0,2.0,2.0,3.0,7.0,0.0\\n214,80c0ce35-ccb6-434c-9867-a08bd7e4d606,\"November 8, 2022\",2022-11-11 00:47:42 UTC,Ricardo Galindo Bulos,SRID=4326;POINT(-98.249062 19.0254398),19.0254398,-98.249062,\"Abarrotes Frutas y Verduras \"\"Hern\\xc3\\xa1ndez\"\"\",1 Photo,Grocery store (aka. nanostore),no,yes,yes,\"Analog cash register,Smartphone\",1 Photo,no,yes,2008-02-01,No cambi\\xc3\\xb3,Disminuy\\xc3\\xb3 25%,no,En papel,En papel,No los uso,yes,yes,yes,\"Llamada a Tel\\xc3\\xa9fono celular,Redes sociales (e.g. Facebook, Instagram),WhatsApp\",\"Efectivo,Tarjeta de d\\xc3\\xa9bito y/o cr\\xc3\\xa9dito,Transferencia interbancaria\",Tarjeta de d\\xc3\\xa9bito y/o cr\\xc3\\xa9dito,no,2-5%,2-5%,,3.0,,,,Tarjeta de d\\xc3\\xa9bito y/o cr\\xc3\\xa9dito,\"Aplicaci\\xc3\\xb3n m\\xc3\\xb3vil,Redes sociales\",no,no,20%,Ninguna,no,Entrega a domicilio,Tarde (12:00 - 7:00 pm),El cliente los recoge en tienda,ninguna,ninguno,No quiero involucrarme con la tecnolog\\xc3\\xada,Totalmente de acuerdo,Totalmente de acuerdo,Totalmente en desacuerdo,Totalmente de acuerdo,Totalmente en desacuerdo,Totalmente en desacuerdo,Totalmente en desacuerdo,Algo de acuerdo,Totalmente de acuerdo,Totalmente en desacuerdo,Totalmente en desacuerdo,Algo de acuerdo,\"En persona,Llamada telef\\xc3\\xb3nica,Mensajer\\xc3\\xada instant\\xc3\\xa1nea (e.g. WhatsApp)\",Descuento por compras anticipadas,3-5%,Cuaderno,\"Efectivo,Transferencia interbancaria\",yes,\"Aumentar la variedad de productos.,Disminuir la cantidad del pedido,Disminuir la frecuencia de pedidos\",Semanalmente,Frecuencia de venta,Solicitar tiempo al cliente para conseguir el producto,10%,Totalmente en desacuerdo,De acuerdo,De acuerdo,Totalmente de acuerdo,Totalmente de acuerdo,Totalmente de acuerdo,Totalmente en desacuerdo,De acuerdo,Totalmente en desacuerdo,Totalmente de acuerdo,yes,Ahmed,Santander S\\xc3\\xa1nchez ,2228321284.0,genzo80@hotmail.com,3.0,2.0,10.0,2.0,2.0,1.0,2.0,3.0,3.0,3.0,0.0,2.0,50.0,2.0,2.0,3.0,1.0,0.0\\n215,138bbecb-38b5-4cba-93a8-160d9673e594,\"November 10, 2022\",2022-11-10 18:59:55 UTC,Alan Bravo,SRID=4326;POINT(-98.2296442 19.0120131),19.0120131,-98.2296442,Productos de belleza y accesorios ,1 Photo,Dairy products,yes,no,no,\"Dataphone (i.e. card payments),Smartphone\",1 Photo,yes,yes,2008-02-01,No cambi\\xc3\\xb3,Disminuy\\xc3\\xb3 25%,no,En papel,En papel,No los uso,yes,yes,yes,\"Llamada a Tel\\xc3\\xa9fono celular,Redes sociales (e.g. Facebook, Instagram),WhatsApp\",\"Efectivo,Tarjeta de d\\xc3\\xa9bito y/o cr\\xc3\\xa9dito,Transferencia interbancaria\",Tarjeta de d\\xc3\\xa9bito y/o cr\\xc3\\xa9dito,no,2-5%,2-5%,,3.0,,,,Tarjeta de d\\xc3\\xa9bito y/o cr\\xc3\\xa9dito,\"Aplicaci\\xc3\\xb3n m\\xc3\\xb3vil,Redes sociales\",no,no,20%,Ninguna,no,Entrega a domicilio,Tarde (12:00 - 7:00 pm),El cliente los recoge en tienda,ninguna,ninguno,No quiero involucrarme con la tecnolog\\xc3\\xada,Totalmente de acuerdo,Totalmente de acuerdo,Totalmente en desacuerdo,Totalmente de acuerdo,Totalmente en desacuerdo,Totalmente en desacuerdo,Totalmente en desacuerdo,Algo de acuerdo,Totalmente de acuerdo,Totalmente en desacuerdo,Totalmente en desacuerdo,Algo de acuerdo,\"En persona,Llamada telef\\xc3\\xb3nica,Mensajer\\xc3\\xada instant\\xc3\\xa1nea (e.g. WhatsApp)\",Descuento por compras anticipadas,3-5%,Cuaderno,\"Efectivo,Transferencia interbancaria\",yes,\"Aumentar la variedad de productos.,Disminuir la cantidad del pedido,Disminuir la frecuencia de pedidos\",Semanalmente,Frecuencia de venta,Solicitar tiempo al cliente para conseguir el producto,10%,Totalmente en desacuerdo,De acuerdo,De acuerdo,Totalmente de acuerdo,Totalmente de acuerdo,Totalmente de acuerdo,Totalmente en desacuerdo,De acuerdo,Totalmente en desacuerdo,Totalmente de acuerdo,yes,Ahmed,Santander S\\xc3\\xa1nchez ,2228321284.0,genzo80@hotmail.com,0.0,0.0,5.0,2.0,2.0,1.0,2.0,3.0,3.0,3.0,0.0,2.0,50.0,2.0,2.0,3.0,1.0,0.0\\n216,77fa0634-09b6-4a74-82bf-b45856a0ac80,\"November 10, 2022\",2022-11-10 18:59:55 UTC,Alan Bravo,SRID=4326;POINT(-98.2297252 19.0115906),19.0115906,-98.2297252,Don porkirio,1 Photo,Micro-restaurant (aka. fondita),no,no,yes,\"Security cameras,bocina y ventilador\",1 Photo,yes,yes,2021-10-08,No cambi\\xc3\\xb3,No cambi\\xc3\\xb3,yes,En papel,En papel,No los uso,no,yes,no,\"Aplicaci\\xc3\\xb3n m\\xc3\\xb3vil (e.g. Rappi, Uber Eats),Llamada a Tel\\xc3\\xa9fono celular,Redes sociales (e.g. Facebook, Instagram),WhatsApp\",\"Aplicaci\\xc3\\xb3n m\\xc3\\xb3vil (e.g. CODI),Efectivo,Tarjeta de d\\xc3\\xa9bito y/o cr\\xc3\\xa9dito,Transferencia interbancaria,Trueque (e.g. comercio o intercambio)\",Tarjeta de d\\xc3\\xa9bito y/o cr\\xc3\\xa9dito,yes,2-5%,2-5%,,1.0,,,,Tarjeta de d\\xc3\\xa9bito y/o cr\\xc3\\xa9dito,\"Aplicaci\\xc3\\xb3n m\\xc3\\xb3vil,Redes sociales\",yes,no,35%,Cuaderno,yes,Entrega a domicilio,Tarde (12:00 - 7:00 pm),El cliente los recoge en tienda,5%,1-5%,No quiero involucrarme con la tecnolog\\xc3\\xada,Totalmente en desacuerdo,Algo en desacuerdo,Totalmente en desacuerdo,Totalmente en desacuerdo,Totalmente en desacuerdo,Totalmente en desacuerdo,Ni de acuerdo ni en desacuerdo,Algo en desacuerdo,Ni de acuerdo ni en desacuerdo,Totalmente en desacuerdo,Totalmente en desacuerdo,Totalmente en desacuerdo,\"En persona,Llamada telef\\xc3\\xb3nica,Mensajer\\xc3\\xada instant\\xc3\\xa1nea (e.g. WhatsApp)\",Consignaci\\xc3\\xb3n,3-5%,Cuaderno,Efectivo,no,Disminuir la frecuencia de pedidos,Diariamente,\"Frecuencia de venta,Refrigeraci\\xc3\\xb3n\",\"Ofrecer un producto sustituto,Perder la venta\",10%,Totalmente de acuerdo,Totalmente de acuerdo,Totalmente de acuerdo,Totalmente en desacuerdo,Totalmente de acuerdo,Totalmente de acuerdo,Totalmente de acuerdo,Totalmente de acuerdo,Totalmente en desacuerdo,Totalmente de acuerdo,yes,Irma ,Mazatle,2229324179.0,iirmaa@hotmail.com,1.0,2.0,0.0,2.0,2.0,1.0,1.0,7.0,1.0,3.0,0.0,2.0,50.0,28.0,28.0,3.0,7.0,3.0\\n217,0fce5eac-b5a5-4f3b-859f-771557b43ffc,\"November 10, 2022\",2022-11-10 18:59:54 UTC,Alan Bravo,SRID=4326;POINT(-98.2297851 19.011515),19.011515,-98.2297851,Hules especiales de precisi\\xc3\\xb3n ,1 Photo,hules,yes,no,no,POS system (i.e. computer + bar code scanner + printer),1 Photo,no,yes,2022-03-15,No cambi\\xc3\\xb3,Aument\\xc3\\xb3 15%,yes,Aplicaci\\xc3\\xb3n m\\xc3\\xb3vil (i.e. App) + smartphone,Caja registradora (an\\xc3\\xa1loga),No los uso,no,no,yes,\"Redes sociales (e.g. Facebook, Instagram),WhatsApp\",\"Efectivo,Tarjeta de d\\xc3\\xa9bito y/o cr\\xc3\\xa9dito\",Tarjeta de d\\xc3\\xa9bito y/o cr\\xc3\\xa9dito,no,6-10%,0,,1.0,,,,Tarjeta de d\\xc3\\xa9bito y/o cr\\xc3\\xa9dito,\"Aplicaci\\xc3\\xb3n m\\xc3\\xb3vil,Redes sociales\",no,no,15%,Cuaderno,no,Ninguno,Tarde (12:00 - 7:00 pm),El cliente los recoge en tienda,1%,1-5%,No quiero involucrarme con la tecnolog\\xc3\\xada,Totalmente de acuerdo,Totalmente en desacuerdo,Totalmente en desacuerdo,Algo de acuerdo,Totalmente en desacuerdo,Totalmente de acuerdo,Totalmente de acuerdo,Totalmente de acuerdo,Totalmente en desacuerdo,Totalmente en desacuerdo,Algo de acuerdo,Totalmente de acuerdo,En persona,Descuento por compras anticipadas,3-5%,Cuaderno,Tarjeta de d\\xc3\\xa9bito y/o cr\\xc3\\xa9dito,no,Disminuir la frecuencia de pedidos,Semanalmente,\"Categor\\xc3\\xada (e.g. limpieza, aseo personal, comestibles, l\\xc3\\xa1cteos, etc.)\",Solicitar tiempo al cliente para conseguir el producto,20%,Totalmente de acuerdo,Totalmente de acuerdo,Totalmente de acuerdo,De acuerdo,Totalmente de acuerdo,De acuerdo,De acuerdo,De acuerdo,Totalmente de acuerdo,De acuerdo,no,Paola ,Morales,5621769830.0,Paoesmorlob@gmail.com,0.0,0.0,1.0,2.0,0.0,2.0,0.0,2.0,1.0,3.0,0.0,2.0,50.0,2.0,0.0,3.0,2.0,0.0\\n218,68cdec26-ec41-4735-bb56-4be0eb909b38,\"November 10, 2022\",2022-11-10 18:59:53 UTC,Alan Bravo,SRID=4326;POINT(-98.2297173 19.0114826),19.0114826,-98.2297173,Fraiche,1 Photo,cosmetiquera ,no,no,no,\"POS system (i.e. computer + bar code scanner + printer),bocina y pesa\",1 Photo,yes,yes,2022-03-15,No cambi\\xc3\\xb3,Aument\\xc3\\xb3 15%,yes,Aplicaci\\xc3\\xb3n m\\xc3\\xb3vil (i.e. App) + smartphone,Caja registradora (an\\xc3\\xa1loga),No los uso,no,no,yes,\"Redes sociales (e.g. Facebook, Instagram),WhatsApp\",\"Efectivo,Tarjeta de d\\xc3\\xa9bito y/o cr\\xc3\\xa9dito\",Tarjeta de d\\xc3\\xa9bito y/o cr\\xc3\\xa9dito,no,6-10%,0,,1.0,,,,Tarjeta de d\\xc3\\xa9bito y/o cr\\xc3\\xa9dito,\"Aplicaci\\xc3\\xb3n m\\xc3\\xb3vil,Redes sociales\",no,no,15%,Cuaderno,no,Ninguno,Tarde (12:00 - 7:00 pm),El cliente los recoge en tienda,1%,1-5%,No quiero involucrarme con la tecnolog\\xc3\\xada,Totalmente de acuerdo,Totalmente en desacuerdo,Totalmente en desacuerdo,Algo de acuerdo,Totalmente en desacuerdo,Totalmente de acuerdo,Totalmente de acuerdo,Totalmente de acuerdo,Totalmente en desacuerdo,Totalmente en desacuerdo,Algo de acuerdo,Totalmente de acuerdo,En persona,Descuento por compras anticipadas,3-5%,Cuaderno,Tarjeta de d\\xc3\\xa9bito y/o cr\\xc3\\xa9dito,no,Disminuir la frecuencia de pedidos,Semanalmente,\"Categor\\xc3\\xada (e.g. limpieza, aseo personal, comestibles, l\\xc3\\xa1cteos, etc.)\",Solicitar tiempo al cliente para conseguir el producto,20%,Totalmente de acuerdo,Totalmente de acuerdo,Totalmente de acuerdo,De acuerdo,Totalmente de acuerdo,De acuerdo,De acuerdo,De acuerdo,Totalmente de acuerdo,De acuerdo,no,Paola ,Morales,5621769830.0,Paoesmorlob@gmail.com,0.0,0.0,2.0,2.0,0.0,2.0,0.0,2.0,1.0,3.0,0.0,2.0,50.0,2.0,0.0,3.0,2.0,0.0\\n219,ea271240-ba0a-4e53-8c9e-ceeccbb98fae,\"November 3, 2022\",2022-11-10 18:13:31 UTC,Jorge Mason,SRID=4326;POINT(-98.2679176 19.035325),19.035325,-98.2679176,Restaurant La parrilla del lobo,1 Photo,Cafeteria,no,yes,yes,\"Dataphone (i.e. card payments),Smartphone\",1 Photo,yes,yes,2020-03-20,Aument\\xc3\\xb3 25%,Aument\\xc3\\xb3 15%,yes,En papel,En papel,No los uso,no,yes,yes,WhatsApp,\"Efectivo,Tarjeta de d\\xc3\\xa9bito y/o cr\\xc3\\xa9dito,Transferencia interbancaria\",Tarjeta de d\\xc3\\xa9bito y/o cr\\xc3\\xa9dito,yes,6-10%,0,,2.0,,,,Tarjeta de d\\xc3\\xa9bito y/o cr\\xc3\\xa9dito,Aplicaci\\xc3\\xb3n m\\xc3\\xb3vil,yes,no,30%,Cuaderno,no,Entrega a domicilio,Tarde (12:00 - 7:00 pm),El cliente los recoge en tienda,1%,1-5%,Es muy caro,Algo en desacuerdo,Totalmente en desacuerdo,Algo en desacuerdo,Totalmente en desacuerdo,Totalmente en desacuerdo,Totalmente en desacuerdo,Totalmente en desacuerdo,Totalmente en desacuerdo,Totalmente en desacuerdo,Totalmente en desacuerdo,Algo de acuerdo,Algo en desacuerdo,Llamada telef\\xc3\\xb3nica,\"Consignaci\\xc3\\xb3n,Cr\\xc3\\xa9dito\",0,\"Aplicaci\\xc3\\xb3n m\\xc3\\xb3vil,Cuaderno\",\"Efectivo,Tarjeta de d\\xc3\\xa9bito y/o cr\\xc3\\xa9dito\",no,Disminuir la frecuencia de pedidos,Diariamente,Margen de utilidad,Ofrecer un producto sustituto,50% +,Totalmente en desacuerdo,Totalmente en desacuerdo,Totalmente en desacuerdo,De acuerdo,Totalmente en desacuerdo,Totalmente en desacuerdo,De acuerdo,De acuerdo,De acuerdo,De acuerdo,no,Paola ,Morales,5621769830.0,Paoesmorlob@gmail.com,4.0,2.0,2.0,2.0,2.0,2.0,1.0,2.0,2.0,3.0,0.0,2.0,50.0,2.0,0.0,3.0,1.0,5.0\\n220,44430dae-7e3b-484f-9837-b32e64b866de,\"November 10, 2022\",2022-11-10 18:03:49 UTC,Emilio Garza,SRID=4326;POINT(-98.195357721 19.0405619362),19.0405619362,-98.195357721,Miscel\\xc3\\xa1nea la betty,1 Photo,Grocery store (aka. nanostore),yes,no,yes,Smartphone,1 Photo,no,yes,2020-02-12,No cambi\\xc3\\xb3,Aument\\xc3\\xb3 15%,yes,En Excel,En Excel,No los uso,yes,yes,no,\"Redes sociales (e.g. Facebook, Instagram)\",\"Efectivo,Tarjeta de d\\xc3\\xa9bito y/o cr\\xc3\\xa9dito,Transferencia interbancaria\",Tarjeta de d\\xc3\\xa9bito y/o cr\\xc3\\xa9dito,yes,6-10%,0,,1.0,,,,Tarjeta de d\\xc3\\xa9bito y/o cr\\xc3\\xa9dito,\"Aplicaci\\xc3\\xb3n m\\xc3\\xb3vil,Redes sociales\",no,no,50% +,Excel,yes,Entrega a domicilio,Tarde (12:00 - 7:00 pm),El cliente los recoge en tienda,6%+,60,Es muy caro,Algo en desacuerdo,Algo en desacuerdo,Algo en desacuerdo,Algo en desacuerdo,Totalmente en desacuerdo,Totalmente en desacuerdo,Algo en desacuerdo,Algo de acuerdo,Algo en desacuerdo,Algo en desacuerdo,Algo en desacuerdo,Algo en desacuerdo,En persona,Cr\\xc3\\xa9dito,0,Cuaderno,Efectivo,no,Disminuir la frecuencia de pedidos,Semanalmente,Tama\\xc3\\xb1o,Solicitar tiempo al cliente para conseguir el producto,20%,De acuerdo,De acuerdo,Ni de acuerdo ni en desacuerdo,Ni de acuerdo ni en desacuerdo,Ni de acuerdo ni en desacuerdo,Ni de acuerdo ni en desacuerdo,Ni de acuerdo ni en desacuerdo,Ni de acuerdo ni en desacuerdo,Ni de acuerdo ni en desacuerdo,Ni de acuerdo ni en desacuerdo,yes,Paola ,Morales,5621769830.0,Paoesmorlob@gmail.com,2.0,3.0,5.0,1.0,1.0,0.0,5.0,3.0,1.0,30.0,2.0,2.0,50.0,1.0,1.0,3.0,2.0,0.0\\n221,82814e7b-8a6e-4c4c-8cb1-19f3fa0e9cf8,\"November 10, 2022\",2022-11-10 18:00:29 UTC,Francisco Ad\\xc3\\xa1n,SRID=4326;POINT(-98.1956504 19.0409324),19.0409324,-98.1956504,Antig\\xc3\\xbcedades San Jorge ,1 Photo,objetos ,no,yes,no,Smartphone,1 Photo,yes,yes,2020-02-12,No cambi\\xc3\\xb3,Aument\\xc3\\xb3 15%,yes,En Excel,En Excel,No los uso,yes,yes,no,\"Redes sociales (e.g. Facebook, Instagram)\",\"Efectivo,Tarjeta de d\\xc3\\xa9bito y/o cr\\xc3\\xa9dito,Transferencia interbancaria\",Tarjeta de d\\xc3\\xa9bito y/o cr\\xc3\\xa9dito,yes,6-10%,0,,1.0,,,,Tarjeta de d\\xc3\\xa9bito y/o cr\\xc3\\xa9dito,\"Aplicaci\\xc3\\xb3n m\\xc3\\xb3vil,Redes sociales\",no,no,50% +,Excel,yes,Entrega a domicilio,Tarde (12:00 - 7:00 pm),El cliente los recoge en tienda,6%+,60,Es muy caro,Algo en desacuerdo,Algo en desacuerdo,Algo en desacuerdo,Algo en desacuerdo,Totalmente en desacuerdo,Totalmente en desacuerdo,Algo en desacuerdo,Algo de acuerdo,Algo en desacuerdo,Algo en desacuerdo,Algo en desacuerdo,Algo en desacuerdo,En persona,Cr\\xc3\\xa9dito,0,Cuaderno,Efectivo,no,Disminuir la frecuencia de pedidos,Semanalmente,Tama\\xc3\\xb1o,Solicitar tiempo al cliente para conseguir el producto,20%,De acuerdo,De acuerdo,Ni de acuerdo ni en desacuerdo,Ni de acuerdo ni en desacuerdo,Ni de acuerdo ni en desacuerdo,Ni de acuerdo ni en desacuerdo,Ni de acuerdo ni en desacuerdo,Ni de acuerdo ni en desacuerdo,Ni de acuerdo ni en desacuerdo,Ni de acuerdo ni en desacuerdo,yes,Paola ,Morales,5621769830.0,Paoesmorlob@gmail.com,0.0,0.0,2.0,1.0,1.0,0.0,5.0,3.0,1.0,30.0,2.0,2.0,50.0,1.0,1.0,3.0,2.0,0.0\\n222,31b24351-6801-427e-9c8c-c3e8a3012e80,\"November 10, 2022\",2022-11-10 18:00:28 UTC,Francisco Ad\\xc3\\xa1n,SRID=4326;POINT(-98.1957911 19.0411925),19.0411925,-98.1957911,Bazar-Lupita,1 Photo,muebles,no,yes,no,Smartphone,1 Photo,no,yes,2015-03-10,No cambi\\xc3\\xb3,No cambi\\xc3\\xb3,yes,En Excel,Caja registradora (an\\xc3\\xa1loga),No los uso,yes,no,no,Llamada a Tel\\xc3\\xa9fono celular,Efectivo,Tarjeta de d\\xc3\\xa9bito y/o cr\\xc3\\xa9dito,no,,,,0.0,,,,Tarjeta de d\\xc3\\xa9bito y/o cr\\xc3\\xa9dito,Cuaderno,no,no,15%,Cuaderno,no,Ninguno,Tarde (12:00 - 7:00 pm),El cliente los recoge en tienda,6%+,60,Es muy caro,Algo en desacuerdo,Algo en desacuerdo,Algo en desacuerdo,Algo en desacuerdo,Algo en desacuerdo,Algo en desacuerdo,Algo en desacuerdo,Algo en desacuerdo,Algo en desacuerdo,Algo en desacuerdo,Algo en desacuerdo,Algo en desacuerdo,En persona,Cr\\xc3\\xa9dito,0,Cuaderno,Efectivo,no,Disminuir la frecuencia de pedidos,Semanalmente,Frecuencia de venta,Ofrecer un producto sustituto,20%,Ni de acuerdo ni en desacuerdo,Ni de acuerdo ni en desacuerdo,Ni de acuerdo ni en desacuerdo,Ni de acuerdo ni en desacuerdo,Ni de acuerdo ni en desacuerdo,Ni de acuerdo ni en desacuerdo,Ni de acuerdo ni en desacuerdo,Ni de acuerdo ni en desacuerdo,Ni de acuerdo ni en desacuerdo,Ni de acuerdo ni en desacuerdo,no,Fernanda,V\\xc3\\xa1zquez ,2213908914.0,MariaFernandavazquezmora@gmail.com,1.0,0.0,3.0,2.0,2.0,0.0,4.0,1.0,0.0,30.0,2.0,2.0,50.0,7.0,2.0,3.0,2.0,0.0\\n223,febca9e2-7535-43ee-b765-7283051222a0,\"November 10, 2022\",2022-11-10 17:55:31 UTC,Jos\\xc3\\xa9 Oropeza,SRID=4326;POINT(-98.1968178758 19.0410812934),19.0410812934,-98.1968178758,Nichimtik,1 Photo,Clothing,no,yes,no,Analog cash register,1 Photo,yes,yes,2015-03-10,No cambi\\xc3\\xb3,No cambi\\xc3\\xb3,yes,En Excel,Caja registradora (an\\xc3\\xa1loga),No los uso,yes,no,no,Llamada a Tel\\xc3\\xa9fono celular,Efectivo,Tarjeta de d\\xc3\\xa9bito y/o cr\\xc3\\xa9dito,no,,,,0.0,,,,Tarjeta de d\\xc3\\xa9bito y/o cr\\xc3\\xa9dito,Cuaderno,no,no,15%,Cuaderno,no,Ninguno,Tarde (12:00 - 7:00 pm),El cliente los recoge en tienda,6%+,60,Es muy caro,Algo en desacuerdo,Algo en desacuerdo,Algo en desacuerdo,Algo en desacuerdo,Algo en desacuerdo,Algo en desacuerdo,Algo en desacuerdo,Algo en desacuerdo,Algo en desacuerdo,Algo en desacuerdo,Algo en desacuerdo,Algo en desacuerdo,En persona,Cr\\xc3\\xa9dito,0,Cuaderno,Efectivo,no,Disminuir la frecuencia de pedidos,Semanalmente,Frecuencia de venta,Ofrecer un producto sustituto,20%,Ni de acuerdo ni en desacuerdo,Ni de acuerdo ni en desacuerdo,Ni de acuerdo ni en desacuerdo,Ni de acuerdo ni en desacuerdo,Ni de acuerdo ni en desacuerdo,Ni de acuerdo ni en desacuerdo,Ni de acuerdo ni en desacuerdo,Ni de acuerdo ni en desacuerdo,Ni de acuerdo ni en desacuerdo,Ni de acuerdo ni en desacuerdo,no,Fernanda,V\\xc3\\xa1zquez ,2213908914.0,MariaFernandavazquezmora@gmail.com,0.0,0.0,5.0,2.0,2.0,0.0,4.0,1.0,0.0,30.0,2.0,2.0,50.0,7.0,2.0,3.0,2.0,0.0\\n224,0e65b977-a943-4e48-ad77-2d67af2fc211,\"November 10, 2022\",2022-11-10 17:46:56 UTC,Emilio Garza,SRID=4326;POINT(-98.1959696755 19.0410918637),19.0410918637,-98.1959696755,Bazar San Jos\\xc3\\xa9 ,1 Photo,Handmade products ,yes,no,no,Smartphone,1 Photo,no,yes,2022-08-17,No cambi\\xc3\\xb3,No cambi\\xc3\\xb3,yes,\"En Excel,En papel\",\"Caja registradora (an\\xc3\\xa1loga),En Excel,En papel\",No los uso,yes,no,yes,\"Redes sociales (e.g. Facebook, Instagram)\",\"Efectivo,Tarjeta de d\\xc3\\xa9bito y/o cr\\xc3\\xa9dito\",Tarjeta de d\\xc3\\xa9bito y/o cr\\xc3\\xa9dito,no,,,,0.0,,,,Tarjeta de d\\xc3\\xa9bito y/o cr\\xc3\\xa9dito,Cuaderno,no,no,5%,\"Cuaderno,Excel\",no,Ninguno,Tarde (12:00 - 7:00 pm),El cliente los recoge en tienda,6%+,60,No creo que represente grandes ingresos,Totalmente en desacuerdo,Algo de acuerdo,Algo de acuerdo,Algo de acuerdo,Algo en desacuerdo,Algo en desacuerdo,Algo en desacuerdo,Algo en desacuerdo,Algo de acuerdo,Totalmente en desacuerdo,Totalmente en desacuerdo,Totalmente en desacuerdo,Mensajer\\xc3\\xada instant\\xc3\\xa1nea (e.g. WhatsApp),Cr\\xc3\\xa9dito,0,Cuaderno,Efectivo,yes,Disminuir la frecuencia de pedidos,Semanalmente,Precio,Solicitar tiempo al cliente para conseguir el producto,0,Totalmente de acuerdo,De acuerdo,De acuerdo,Totalmente en desacuerdo,Totalmente de acuerdo,Totalmente de acuerdo,Totalmente de acuerdo,Totalmente de acuerdo,Totalmente en desacuerdo,Totalmente de acuerdo,no,Fernanda,V\\xc3\\xa1zquez ,2213908914.0,MariaFernandavazquezmora@gmail.com,0.0,0.0,5.0,3.0,0.0,0.0,3.0,1.0,0.0,30.0,2.0,2.0,50.0,7.0,2.0,3.0,1.0,0.0\\n225,64e03a00-d30d-410f-a122-11deb6ba2e20,\"November 10, 2022\",2022-11-10 17:39:04 UTC,Emilio Garza,SRID=4326;POINT(-98.1953916586 19.0415447381),19.0415447381,-98.1953916586,Manos de tierra ,1 Photo,Rock store,yes,no,no,\"POS system (i.e. computer + bar code scanner + printer),Smartphone\",1 Photo,yes,yes,2022-08-17,No cambi\\xc3\\xb3,No cambi\\xc3\\xb3,yes,\"En Excel,En papel\",\"Caja registradora (an\\xc3\\xa1loga),En Excel,En papel\",No los uso,yes,no,yes,\"Redes sociales (e.g. Facebook, Instagram)\",\"Efectivo,Tarjeta de d\\xc3\\xa9bito y/o cr\\xc3\\xa9dito\",Tarjeta de d\\xc3\\xa9bito y/o cr\\xc3\\xa9dito,no,,,,0.0,,,,Tarjeta de d\\xc3\\xa9bito y/o cr\\xc3\\xa9dito,Cuaderno,no,no,5%,\"Cuaderno,Excel\",no,Ninguno,Tarde (12:00 - 7:00 pm),El cliente los recoge en tienda,6%+,60,No creo que represente grandes ingresos,Totalmente en desacuerdo,Algo de acuerdo,Algo de acuerdo,Algo de acuerdo,Algo en desacuerdo,Algo en desacuerdo,Algo en desacuerdo,Algo en desacuerdo,Algo de acuerdo,Totalmente en desacuerdo,Totalmente en desacuerdo,Totalmente en desacuerdo,Mensajer\\xc3\\xada instant\\xc3\\xa1nea (e.g. WhatsApp),Cr\\xc3\\xa9dito,0,Cuaderno,Efectivo,yes,Disminuir la frecuencia de pedidos,Semanalmente,Precio,Solicitar tiempo al cliente para conseguir el producto,0,Totalmente de acuerdo,De acuerdo,De acuerdo,Totalmente en desacuerdo,Totalmente de acuerdo,Totalmente de acuerdo,Totalmente de acuerdo,Totalmente de acuerdo,Totalmente en desacuerdo,Totalmente de acuerdo,no,Fernanda,V\\xc3\\xa1zquez ,2213908914.0,MariaFernandavazquezmora@gmail.com,0.0,0.0,8.0,3.0,0.0,0.0,3.0,1.0,0.0,30.0,2.0,2.0,50.0,7.0,2.0,3.0,1.0,0.0\\n226,75bcc709-90ff-4db7-bb82-293f2f72f3ae,\"November 10, 2022\",2022-11-10 17:34:47 UTC,Francisco Ad\\xc3\\xa1n,SRID=4326;POINT(-98.1936643 19.0418857),19.0418857,-98.1936643,Barra de caf\\xc3\\xa9 ,1 Photo,ropa,no,yes,no,Analog cash register,1 Photo,yes,no,2022-08-17,Disminuy\\xc3\\xb3 15%,No cambi\\xc3\\xb3,yes,\"En Excel,En papel\",\"Caja registradora (an\\xc3\\xa1loga),En Excel,En papel\",No los uso,yes,no,yes,P\\xc3\\xa1gina web propia,Tarjeta de d\\xc3\\xa9bito y/o cr\\xc3\\xa9dito,Tarjeta de d\\xc3\\xa9bito y/o cr\\xc3\\xa9dito,no,,,,0.0,,,,Tarjeta de d\\xc3\\xa9bito y/o cr\\xc3\\xa9dito,Redes sociales,no,no,5%,Cuaderno,no,Ninguno,Tarde (12:00 - 7:00 pm),El cliente los recoge en tienda,6%+,60,No creo que represente grandes ingresos,Totalmente en desacuerdo,Algo de acuerdo,Algo de acuerdo,Algo de acuerdo,Algo en desacuerdo,Algo en desacuerdo,Algo en desacuerdo,Algo en desacuerdo,Algo de acuerdo,Totalmente en desacuerdo,Totalmente en desacuerdo,Totalmente en desacuerdo,Mensajer\\xc3\\xada instant\\xc3\\xa1nea (e.g. WhatsApp),Cr\\xc3\\xa9dito,0,Cuaderno,Efectivo,yes,Disminuir la frecuencia de pedidos,Semanalmente,Frecuencia de venta,Solicitar tiempo al cliente para conseguir el producto,10%,Totalmente de acuerdo,De acuerdo,De acuerdo,Totalmente en desacuerdo,Totalmente de acuerdo,Totalmente de acuerdo,Totalmente de acuerdo,Totalmente de acuerdo,Totalmente en desacuerdo,Totalmente de acuerdo,yes,Fernanda,V\\xc3\\xa1zquez ,2213908914.0,MariaFernandavazquezmora@gmail.com,1.0,0.0,2.0,4.0,0.0,0.0,1.0,1.0,0.0,30.0,2.0,2.0,50.0,7.0,2.0,3.0,1.0,0.0\\n227,bd59c8b6-81cb-4698-8cfd-dbab7f01ef21,\"November 10, 2022\",2022-11-10 17:34:43 UTC,Francisco Ad\\xc3\\xa1n,SRID=4326;POINT(-98.1937059 19.0419216),19.0419216,-98.1937059,Numism\\xc3\\xa1ticaJr,1 Photo,objetos ,no,no,no,Security cameras,1 Photo,yes,yes,2022-10-19,Disminuy\\xc3\\xb3 15%,No cambi\\xc3\\xb3,no,En Excel,En Excel,No los uso,yes,no,yes,\"Redes sociales (e.g. Facebook, Instagram)\",\"Efectivo,Tarjeta de d\\xc3\\xa9bito y/o cr\\xc3\\xa9dito,Transferencia interbancaria\",Efectivo,no,,,,1.0,,,,,Redes sociales,no,no,5%,Cuaderno,no,Ninguno,Tarde (12:00 - 7:00 pm),El cliente los recoge en tienda,6%+,60,No creo que represente grandes ingresos,Totalmente en desacuerdo,Algo de acuerdo,Algo de acuerdo,Algo de acuerdo,Totalmente en desacuerdo,Totalmente en desacuerdo,Totalmente en desacuerdo,Totalmente en desacuerdo,Algo de acuerdo,Totalmente en desacuerdo,Totalmente en desacuerdo,Totalmente en desacuerdo,Mensajer\\xc3\\xada instant\\xc3\\xa1nea (e.g. WhatsApp),Cr\\xc3\\xa9dito,0,Cuaderno,Efectivo,yes,Disminuir la frecuencia de pedidos,Semanalmente,\"Categor\\xc3\\xada (e.g. limpieza, aseo personal, comestibles, l\\xc3\\xa1cteos, etc.)\",Solicitar tiempo al cliente para conseguir el producto,50% +,Totalmente de acuerdo,Ni de acuerdo ni en desacuerdo,Totalmente de acuerdo,Totalmente en desacuerdo,Totalmente de acuerdo,Totalmente de acuerdo,Totalmente de acuerdo,Totalmente de acuerdo,Totalmente en desacuerdo,Totalmente de acuerdo,yes,Rene,Carro,2221517613.0,libra_lop@hotmail.com,0.0,0.0,1.0,1.0,0.0,0.0,6.0,1.0,1.0,30.0,2.0,2.0,50.0,7.0,2.0,3.0,1.0,0.0\\n228,94b1c6bc-1fb8-4895-aacc-c2604dc12b93,\"November 10, 2022\",2022-11-10 17:30:22 UTC,Emilio Garza,SRID=4326;POINT(-98.194872076 19.0415702934),19.0415702934,-98.194872076,Talavera Salazar ,1 Photo,Handmade & typical candy store ,yes,no,no,\"POS system (i.e. computer + bar code scanner + printer),Smartphone\",1 Photo,yes,yes,2022-09-02,Disminuy\\xc3\\xb3 15%,No cambi\\xc3\\xb3,yes,En Excel,\"Aplicaci\\xc3\\xb3n m\\xc3\\xb3vil (i.e. App) + smartphone,Software especializado + computadora\",No los uso,no,no,yes,\"Redes sociales (e.g. Facebook, Instagram),WhatsApp\",\"Efectivo,Tarjeta de d\\xc3\\xa9bito y/o cr\\xc3\\xa9dito,Transferencia interbancaria\",Efectivo,no,,,,1.0,,,,,Aplicaci\\xc3\\xb3n m\\xc3\\xb3vil,no,no,30%,\"Excel,Software especializado\",yes,Entrega a domicilio,Tarde (12:00 - 7:00 pm),El cliente los recoge en tienda,6%+,60,no lo vale,Totalmente en desacuerdo,Algo de acuerdo,Algo de acuerdo,Algo de acuerdo,Totalmente en desacuerdo,Totalmente en desacuerdo,Algo de acuerdo,Algo de acuerdo,Algo de acuerdo,Totalmente en desacuerdo,Totalmente en desacuerdo,Totalmente en desacuerdo,Mensajer\\xc3\\xada instant\\xc3\\xa1nea (e.g. WhatsApp),Cr\\xc3\\xa9dito,0,Cuaderno,Efectivo,yes,Disminuir la frecuencia de pedidos,Semanalmente,Ninguna ,Perder la venta,0,Totalmente de acuerdo,Ni de acuerdo ni en desacuerdo,Totalmente de acuerdo,Totalmente en desacuerdo,Totalmente de acuerdo,Totalmente de acuerdo,Totalmente de acuerdo,Totalmente de acuerdo,Totalmente en desacuerdo,Totalmente de acuerdo,no,Mar\\xc3\\xada Elena,G\\xc3\\xb3mez,2225673907.0,in.graf.2ote@gmail.con,0.0,0.0,4.0,1.0,0.0,0.0,10.0,1.0,1.0,30.0,2.0,2.0,50.0,7.0,2.0,3.0,1.0,0.0\\n229,d9ff4194-657e-4fb4-b5f4-b7e8b350a646,\"November 10, 2022\",2022-11-10 17:15:13 UTC,Emilio Garza,SRID=4326;POINT(-98.1941749299 19.042167355),19.042167355,-98.1941749299,Axolote ,1 Photo,Handmade products ,yes,yes,no,\"POS system (i.e. computer + bar code scanner + printer),Smartphone\",1 Photo,no,yes,1998-04-03,Disminuy\\xc3\\xb3 15%,No cambi\\xc3\\xb3,yes,En Excel,En Excel,No los uso,yes,yes,yes,WhatsApp,Efectivo,Efectivo,,,,,1.0,,,,,Aplicaci\\xc3\\xb3n m\\xc3\\xb3vil,no,no,40%,Excel,no,Recarga telef\\xc3\\xb3nica,Tarde (12:00 - 7:00 pm),El cliente los recoge en tienda,6%+,60,no lo vale,Totalmente en desacuerdo,Algo de acuerdo,Algo de acuerdo,Algo de acuerdo,Algo de acuerdo,Totalmente en desacuerdo,Algo de acuerdo,Totalmente en desacuerdo,Totalmente en desacuerdo,Algo de acuerdo,Totalmente en desacuerdo,Totalmente en desacuerdo,Mensajer\\xc3\\xada instant\\xc3\\xa1nea (e.g. WhatsApp),Cr\\xc3\\xa9dito,0,Cuaderno,Efectivo,yes,Disminuir la frecuencia de pedidos,Quincenalmente,\"Categor\\xc3\\xada (e.g. limpieza, aseo personal, comestibles, l\\xc3\\xa1cteos, etc.)\",apuntar,0,Totalmente de acuerdo,Ni de acuerdo ni en desacuerdo,Totalmente de acuerdo,Totalmente en desacuerdo,Totalmente de acuerdo,Totalmente de acuerdo,Totalmente de acuerdo,Totalmente de acuerdo,Totalmente en desacuerdo,Totalmente de acuerdo,yes,Mar\\xc3\\xada Elena,G\\xc3\\xb3mez,2225673907.0,in.graf.2ote@gmail.con,0.0,0.0,3.0,0.0,0.0,0.0,1.0,1.0,1.0,30.0,2.0,2.0,50.0,14.9,2.0,3.0,2.0,0.0\\n230,4761f1f0-c07d-41ef-bd9a-e666b361eb05,\"November 10, 2022\",2022-11-10 17:03:28 UTC,Emilio Garza,SRID=4326;POINT(-98.1936908041 19.0418881085),19.0418881085,-98.1936908041,Deportes Jano,1 Photo,Sports,yes,yes,no,Smartphone,1 Photo,no,no,1998-04-03,Disminuy\\xc3\\xb3 15%,No cambi\\xc3\\xb3,yes,En Excel,En Excel,No los uso,yes,yes,yes,WhatsApp,Efectivo,Efectivo,,,,,1.0,,,,,Aplicaci\\xc3\\xb3n m\\xc3\\xb3vil,no,no,40%,Excel,no,Recarga telef\\xc3\\xb3nica,Tarde (12:00 - 7:00 pm),El cliente los recoge en tienda,6%+,60,no lo vale,Totalmente en desacuerdo,Algo de acuerdo,Algo de acuerdo,Algo de acuerdo,Algo de acuerdo,Totalmente en desacuerdo,Algo de acuerdo,Totalmente en desacuerdo,Totalmente en desacuerdo,Algo de acuerdo,Totalmente en desacuerdo,Totalmente en desacuerdo,Mensajer\\xc3\\xada instant\\xc3\\xa1nea (e.g. WhatsApp),Cr\\xc3\\xa9dito,0,Cuaderno,Efectivo,yes,Disminuir la frecuencia de pedidos,Quincenalmente,\"Categor\\xc3\\xada (e.g. limpieza, aseo personal, comestibles, l\\xc3\\xa1cteos, etc.)\",apuntar,0,Totalmente de acuerdo,Ni de acuerdo ni en desacuerdo,Totalmente de acuerdo,Totalmente en desacuerdo,Totalmente de acuerdo,Totalmente de acuerdo,Totalmente de acuerdo,Totalmente de acuerdo,Totalmente en desacuerdo,Totalmente de acuerdo,yes,Mar\\xc3\\xada Elena,G\\xc3\\xb3mez,2225673907.0,in.graf.2ote@gmail.con,1.0,0.0,3.0,0.0,0.0,0.0,1.0,1.0,1.0,30.0,2.0,2.0,50.0,14.9,2.0,3.0,2.0,0.0\\n231,b2378100-fbff-4355-ad7e-953118b1ee47,\"November 3, 2022\",2022-11-10 16:53:26 UTC,Emilio Garza,SRID=4326;POINT(-98.194669784 19.0434164641),19.0434164641,-98.194669784,In graph ,1 Photo,Copias y servicio computadoras  ,no,no,no,\"POS system (i.e. computer + bar code scanner + printer),Smartphone\",1 Photo,yes,yes,1998-04-03,Disminuy\\xc3\\xb3 15%,No cambi\\xc3\\xb3,yes,En Excel,En Excel,No los uso,yes,yes,yes,WhatsApp,Efectivo,Efectivo,,,,,1.0,,,,,Aplicaci\\xc3\\xb3n m\\xc3\\xb3vil,no,no,40%,Excel,no,Recarga telef\\xc3\\xb3nica,Tarde (12:00 - 7:00 pm),El cliente los recoge en tienda,6%+,60,no lo vale,Totalmente en desacuerdo,Algo de acuerdo,Algo de acuerdo,Algo de acuerdo,Algo de acuerdo,Totalmente en desacuerdo,Algo de acuerdo,Totalmente en desacuerdo,Totalmente en desacuerdo,Algo de acuerdo,Totalmente en desacuerdo,Totalmente en desacuerdo,Mensajer\\xc3\\xada instant\\xc3\\xa1nea (e.g. WhatsApp),Cr\\xc3\\xa9dito,0,Cuaderno,Efectivo,yes,Disminuir la frecuencia de pedidos,Quincenalmente,\"Categor\\xc3\\xada (e.g. limpieza, aseo personal, comestibles, l\\xc3\\xa1cteos, etc.)\",apuntar,0,Totalmente de acuerdo,Ni de acuerdo ni en desacuerdo,Totalmente de acuerdo,Totalmente en desacuerdo,Totalmente de acuerdo,Totalmente de acuerdo,Totalmente de acuerdo,Totalmente de acuerdo,Totalmente en desacuerdo,Totalmente de acuerdo,yes,Mar\\xc3\\xada Elena,G\\xc3\\xb3mez,2225673907.0,in.graf.2ote@gmail.con,2.0,1.0,1.0,0.0,0.0,0.0,1.0,1.0,1.0,30.0,2.0,2.0,50.0,14.9,2.0,3.0,2.0,0.0\\n232,a63c0cf4-ae7b-43e9-afdf-8ab8b6858384,\"November 3, 2022\",2022-11-10 16:53:25 UTC,Emilio Garza,SRID=4326;POINT(-98.1937826886 19.0426957924),19.0426957924,-98.1937826886,Camote azul ,1 Photo,Objetos tradicionales,no,no,no,\"Analog cash register,POS system (i.e. computer + bar code scanner + printer)\",1 Photo,no,yes,2016-11-04,No cambi\\xc3\\xb3,0,yes,En papel,En papel,No los uso,yes,no,no,no,\"Efectivo,Tarjeta de d\\xc3\\xa9bito y/o cr\\xc3\\xa9dito\",Efectivo,,,,,1.0,,,,,Ninguna,no,no,30%,Ninguna,no,Ninguno,Tarde (12:00 - 7:00 pm),El cliente los recoge en tienda,1%,60,no lo vale,Totalmente en desacuerdo,Totalmente en desacuerdo,Totalmente en desacuerdo,Totalmente en desacuerdo,Totalmente en desacuerdo,Totalmente en desacuerdo,Totalmente en desacuerdo,Totalmente en desacuerdo,Totalmente en desacuerdo,Totalmente en desacuerdo,Totalmente en desacuerdo,Totalmente en desacuerdo,En persona,nada,0,Ninguna,Efectivo,no,\"Disminuci\\xc3\\xb3n de la variedad de productos,Disminuir la cantidad del pedido,Disminuir la frecuencia de pedidos\",Quincenalmente,\"Categor\\xc3\\xada (e.g. limpieza, aseo personal, comestibles, l\\xc3\\xa1cteos, etc.)\",apuntar,0,Totalmente de acuerdo,Ni de acuerdo ni en desacuerdo,Totalmente de acuerdo,Totalmente en desacuerdo,Totalmente de acuerdo,Totalmente de acuerdo,Totalmente de acuerdo,Totalmente de acuerdo,Totalmente en desacuerdo,Totalmente de acuerdo,no,Laura,Ramirez,2221093498.0,Lauraramirez860316@gmail.com,0.0,0.0,3.0,0.0,0.0,0.0,7.0,1.0,1.0,30.0,2.0,5.0,50.0,14.9,7.1,3.0,1.0,0.0\\n233,7ef4ba01-a333-4096-9777-d424b5817a19,\"November 4, 2022\",2022-11-10 03:41:27 UTC,Mauro Mungu\\xc3\\xada,SRID=4326;POINT(-98.199479 19.0431018),19.0431018,-98.199479,Joyeria catedral,1 Photo,joyeria,no,no,no,no tiene,1 Photo,yes,yes,2016-11-04,No cambi\\xc3\\xb3,0,yes,En papel,En papel,No los uso,yes,no,no,no,\"Efectivo,Tarjeta de d\\xc3\\xa9bito y/o cr\\xc3\\xa9dito\",Efectivo,,,,,1.0,,,,,Ninguna,no,no,30%,Ninguna,no,Ninguno,Tarde (12:00 - 7:00 pm),El cliente los recoge en tienda,1%,60,no lo vale,Totalmente en desacuerdo,Totalmente en desacuerdo,Totalmente en desacuerdo,Totalmente en desacuerdo,Totalmente en desacuerdo,Totalmente en desacuerdo,Totalmente en desacuerdo,Totalmente en desacuerdo,Totalmente en desacuerdo,Totalmente en desacuerdo,Totalmente en desacuerdo,Totalmente en desacuerdo,En persona,nada,0,Ninguna,Efectivo,no,\"Disminuci\\xc3\\xb3n de la variedad de productos,Disminuir la cantidad del pedido,Disminuir la frecuencia de pedidos\",Quincenalmente,\"Categor\\xc3\\xada (e.g. limpieza, aseo personal, comestibles, l\\xc3\\xa1cteos, etc.)\",apuntar,0,Totalmente de acuerdo,Ni de acuerdo ni en desacuerdo,Totalmente de acuerdo,Totalmente en desacuerdo,Totalmente de acuerdo,Totalmente de acuerdo,Totalmente de acuerdo,Totalmente de acuerdo,Totalmente en desacuerdo,Totalmente de acuerdo,no,Laura,Ramirez,2221093498.0,Lauraramirez860316@gmail.com,0.0,0.0,4.0,0.0,0.0,0.0,7.0,1.0,1.0,30.0,2.0,5.0,50.0,14.9,7.1,3.0,1.0,0.0\\n234,40ee0efd-9d2c-4a31-a4e3-203b8b97cf48,\"November 4, 2022\",2022-11-10 03:41:27 UTC,Mauro Mungu\\xc3\\xada,SRID=4326;POINT(-98.1992462 19.0434088),19.0434088,-98.1992462,Dulceria lili,1 Photo,dulceria,no,no,yes,no,1 Photo,yes,yes,1961-08-21,Aument\\xc3\\xb3 50% o m\\xc3\\xa1s,Aument\\xc3\\xb3 50% o m\\xc3\\xa1s,no,En papel,En papel,No los uso,yes,no,yes,P\\xc3\\xa1gina web propia,Efectivo,Efectivo,,,,,1.0,,,,,Aplicaci\\xc3\\xb3n m\\xc3\\xb3vil,no,no,5%,Ninguna,no,Ninguno,Tarde (12:00 - 7:00 pm),El cliente los recoge en tienda,1%,60,mo lo vale,Totalmente en desacuerdo,Totalmente en desacuerdo,Totalmente en desacuerdo,Totalmente en desacuerdo,Totalmente en desacuerdo,Totalmente en desacuerdo,Totalmente en desacuerdo,Totalmente en desacuerdo,Totalmente en desacuerdo,Totalmente en desacuerdo,Totalmente en desacuerdo,Totalmente en desacuerdo,En persona,Pago de contado,0,Ninguna,Efectivo,no,\"Disminuci\\xc3\\xb3n de la variedad de productos,Disminuir la cantidad del pedido,Disminuir la frecuencia de pedidos\",Semanalmente,\"Categor\\xc3\\xada (e.g. limpieza, aseo personal, comestibles, l\\xc3\\xa1cteos, etc.),Refrigeraci\\xc3\\xb3n\",Perder la venta,20%,Totalmente en desacuerdo,Totalmente en desacuerdo,Totalmente en desacuerdo,Totalmente en desacuerdo,Totalmente en desacuerdo,Totalmente en desacuerdo,Totalmente en desacuerdo,Totalmente en desacuerdo,Totalmente en desacuerdo,Totalmente en desacuerdo,no,Laura,Ramirez,2221093498.0,Lauraramirez860316@gmail.com,4.0,1.0,6.0,0.0,0.0,0.0,0.0,1.0,1.0,30.0,2.0,5.0,50.0,14.9,7.1,3.0,1.0,0.0\\n235,1b92bf97-f1fc-4586-a764-10ca59360d23,\"November 4, 2022\",2022-11-10 03:41:26 UTC,Mauro Mungu\\xc3\\xada,SRID=4326;POINT(-98.1993241 19.0433357),19.0433357,-98.1993241,Alexander collection,1 Photo,Ropa,no,no,no,Analog cash register,1 Photo,yes,yes,2000-04-03,No cambi\\xc3\\xb3,Aument\\xc3\\xb3 15%,yes,En papel,En papel,No los uso,yes,yes,yes,P\\xc3\\xa1gina web propia,\"Efectivo,Tarjeta de d\\xc3\\xa9bito y/o cr\\xc3\\xa9dito,Transferencia interbancaria\",Efectivo,,,,,1.0,,,,,Redes sociales,no,no,30%,Cuaderno,no,Ninguno,Tarde (12:00 - 7:00 pm),El cliente los recoge en tienda,1%,60,\"Es muy caro,No creo que represente grandes ingresos,p\\xc3\\xa9rdidas \",Totalmente en desacuerdo,Totalmente en desacuerdo,Totalmente en desacuerdo,Totalmente en desacuerdo,Totalmente en desacuerdo,Totalmente en desacuerdo,Ni de acuerdo ni en desacuerdo,Ni de acuerdo ni en desacuerdo,Ni de acuerdo ni en desacuerdo,Totalmente en desacuerdo,Totalmente en desacuerdo,Totalmente en desacuerdo,Mensaje de texto (SMS),Cr\\xc3\\xa9dito,0,Cuaderno,Efectivo,yes,\"Disminuci\\xc3\\xb3n de la variedad de productos,Disminuir la cantidad del pedido,Disminuir la frecuencia de pedidos\",Semanalmente,\"Categor\\xc3\\xada (e.g. limpieza, aseo personal, comestibles, l\\xc3\\xa1cteos, etc.),Tama\\xc3\\xb1o\",Ofrecer un producto sustituto,10%,De acuerdo,Ni de acuerdo ni en desacuerdo,En desacuerdo,Ni de acuerdo ni en desacuerdo,Ni de acuerdo ni en desacuerdo,De acuerdo,De acuerdo,De acuerdo,En desacuerdo,De acuerdo,yes,Laura,Ramirez,2221093498.0,Lauraramirez860316@gmail.com,1.0,0.0,2.0,4.0,4.0,2.0,5.0,1.0,1.0,30.0,2.0,5.0,50.0,14.9,7.1,3.0,1.0,0.0\\n236,9896afc3-9bd0-4dab-8234-bb3d1b3167d0,\"November 4, 2022\",2022-11-10 03:41:26 UTC,Mauro Mungu\\xc3\\xada,SRID=4326;POINT(-98.1990342 19.0437893),19.0437893,-98.1990342,Chicago Tenis,1 Photo,ropa deportiva,no,no,no,\"Analog cash register,Dataphone (i.e. card payments),POS system (i.e. computer + bar code scanner + printer),Security cameras,Smartphone\",1 Photo,yes,yes,1984-11-01,No cambi\\xc3\\xb3,No cambi\\xc3\\xb3,yes,En Excel,Software especializado + computadora,No los uso,yes,no,yes,\"P\\xc3\\xa1gina web propia,Redes sociales (e.g. Facebook, Instagram)\",\"Efectivo,Tarjeta de d\\xc3\\xa9bito y/o cr\\xc3\\xa9dito,Transferencia interbancaria\",Efectivo,,,,,1.0,,,,,Aplicaci\\xc3\\xb3n m\\xc3\\xb3vil,no,no,10%,Cuaderno,no,venta,Tarde (12:00 - 7:00 pm),El cliente los recoge en tienda,1%,60,no es requerido ,Totalmente en desacuerdo,Totalmente en desacuerdo,Totalmente de acuerdo,Totalmente en desacuerdo,Totalmente en desacuerdo,Totalmente en desacuerdo,Totalmente en desacuerdo,Totalmente en desacuerdo,Totalmente en desacuerdo,Totalmente en desacuerdo,Totalmente en desacuerdo,Totalmente en desacuerdo,empresa,Cr\\xc3\\xa9dito,3-5%,Excel,Transferencia interbancaria,no,Disminuir la cantidad del pedido,Semanalmente,\"Categor\\xc3\\xada (e.g. limpieza, aseo personal, comestibles, l\\xc3\\xa1cteos, etc.)\",Solicitar tiempo al cliente para conseguir el producto,10%,Totalmente de acuerdo,Totalmente de acuerdo,Totalmente de acuerdo,Totalmente en desacuerdo,Totalmente en desacuerdo,Totalmente en desacuerdo,Totalmente en desacuerdo,Totalmente en desacuerdo,Totalmente en desacuerdo,Totalmente en desacuerdo,no,Alan Eustaquio,S\\xc3\\xa1nchez,2221093498.0,eduardorommax@outlook.com,3.0,0.0,10.0,2.0,2.2,2.0,8.0,6.0,1.0,30.0,2.0,5.0,50.0,14.9,7.1,3.0,1.0,0.0\\n237,8f206990-f1c2-4f78-8e0d-8132ba616ac4,\"November 3, 2022\",2022-11-10 00:59:58 UTC,Jorge Mason,SRID=4326;POINT(-98.266924 19.0352252),19.0352252,-98.266924,Big Ballz,1 Photo,Micro-restaurant (aka. fondita),yes,yes,yes,\"Dataphone (i.e. card payments),Security cameras,Smartphone\",3 Photos,yes,yes,2022-03-20,Disminuy\\xc3\\xb3 15%,Aument\\xc3\\xb3 25%,no,En papel,Software especializado + computadora,No los uso,yes,no,yes,\"Aplicaci\\xc3\\xb3n m\\xc3\\xb3vil (e.g. Rappi, Uber Eats)\",\"Efectivo,Tarjeta de d\\xc3\\xa9bito y/o cr\\xc3\\xa9dito,Transferencia interbancaria\",Efectivo,,,,,1.0,,,,,\"Aplicaci\\xc3\\xb3n m\\xc3\\xb3vil,Redes sociales\",yes,no,30%,Ninguna,yes,Entrega a domicilio,Tarde (12:00 - 7:00 pm),El cliente los recoge en tienda,1%,26-30%,no es requerido ,Totalmente de acuerdo,Totalmente en desacuerdo,Algo de acuerdo,Totalmente en desacuerdo,Totalmente en desacuerdo,Totalmente en desacuerdo,Totalmente en desacuerdo,Algo de acuerdo,Totalmente en desacuerdo,Totalmente en desacuerdo,Totalmente en desacuerdo,Algo de acuerdo,\"En persona,Llamada telef\\xc3\\xb3nica,Mensajer\\xc3\\xada instant\\xc3\\xa1nea (e.g. WhatsApp)\",Cr\\xc3\\xa9dito,1-2%,\"Cuaderno,Excel,Software especializado\",\"Efectivo,Tarjeta de d\\xc3\\xa9bito y/o cr\\xc3\\xa9dito,Transferencia interbancaria\",no,Disminuir la cantidad del pedido,Quincenalmente,\"Categor\\xc3\\xada (e.g. limpieza, aseo personal, comestibles, l\\xc3\\xa1cteos, etc.),Refrigeraci\\xc3\\xb3n\",\"Ofrecer un producto sustituto,Solicitar tiempo al cliente para conseguir el producto\",30%,Totalmente de acuerdo,Totalmente de acuerdo,De acuerdo,En desacuerdo,De acuerdo,De acuerdo,De acuerdo,De acuerdo,De acuerdo,De acuerdo,no,Alan Eustaquio,S\\xc3\\xa1nchez,2221093498.0,eduardorommax@outlook.com,5.0,3.0,0.0,3.0,0.0,2.0,3.0,6.0,1.0,30.0,2.0,5.0,50.0,14.9,50.0,3.0,7.0,20.0\\n238,d9364f5b-3f7d-4e45-984c-521fdddbf5b8,\"November 3, 2022\",2022-11-10 00:58:56 UTC,Jorge Mason,SRID=4326;POINT(-98.2678552 19.0354424),19.0354424,-98.2678552,Crudopolis,1 Photo,Cafeteria,no,yes,yes,\"Dataphone (i.e. card payments),Security cameras,Smartphone\",3 Photos,yes,yes,2021-03-10,Aument\\xc3\\xb3 50% o m\\xc3\\xa1s,Aument\\xc3\\xb3 25%,yes,En Excel,Software especializado + computadora,No los uso,no,no,yes,\"Aplicaci\\xc3\\xb3n m\\xc3\\xb3vil (e.g. Rappi, Uber Eats)\",\"Efectivo,Tarjeta de d\\xc3\\xa9bito y/o cr\\xc3\\xa9dito\",Efectivo,,,,,1.0,,,,,Aplicaci\\xc3\\xb3n m\\xc3\\xb3vil,no,no,45%,Software especializado,yes,Entrega a domicilio,Tarde (12:00 - 7:00 pm),El cliente los recoge en tienda,1%,26-30%,no es requerido ,Totalmente de acuerdo,Totalmente en desacuerdo,Algo de acuerdo,Totalmente en desacuerdo,Totalmente en desacuerdo,Totalmente en desacuerdo,Totalmente en desacuerdo,Algo de acuerdo,Totalmente en desacuerdo,Totalmente en desacuerdo,Totalmente en desacuerdo,Algo de acuerdo,\"En persona,Llamada telef\\xc3\\xb3nica,Mensajer\\xc3\\xada instant\\xc3\\xa1nea (e.g. WhatsApp)\",Cr\\xc3\\xa9dito,1-2%,\"Cuaderno,Excel,Software especializado\",\"Efectivo,Tarjeta de d\\xc3\\xa9bito y/o cr\\xc3\\xa9dito,Transferencia interbancaria\",no,Disminuir la cantidad del pedido,Quincenalmente,\"Categor\\xc3\\xada (e.g. limpieza, aseo personal, comestibles, l\\xc3\\xa1cteos, etc.),Refrigeraci\\xc3\\xb3n\",\"Ofrecer un producto sustituto,Solicitar tiempo al cliente para conseguir el producto\",30%,Totalmente de acuerdo,Totalmente de acuerdo,De acuerdo,En desacuerdo,De acuerdo,De acuerdo,De acuerdo,De acuerdo,De acuerdo,De acuerdo,no,Alan Eustaquio,S\\xc3\\xa1nchez,2221093498.0,eduardorommax@outlook.com,1.4,6.0,0.0,4.0,4.0,5.0,5.0,6.0,1.0,30.0,2.0,5.0,50.0,14.9,50.0,3.0,7.0,20.0\\n239,dfcaffbe-ed9d-4894-8fba-62282b870cf1,\"November 7, 2022\",2022-11-10 00:00:21 UTC,Ricardo Galindo Bulos,SRID=4326;POINT(-98.2495059818 19.0221603715),19.0221603715,-98.2495059818,Miscel\\xc3\\xa1nea Gaby,1 Photo,Grocery store (aka. nanostore),no,no,yes,Smartphone,3 Photos,yes,yes,2019-07-07,Disminuy\\xc3\\xb3 15%,Aument\\xc3\\xb3 15%,yes,No lo hago,No lo hago,No los uso,no,no,yes,\"Llamada a Tel\\xc3\\xa9fono celular,WhatsApp\",\"Efectivo,Tarjeta de d\\xc3\\xa9bito y/o cr\\xc3\\xa9dito,Transferencia interbancaria\",Efectivo,,,,,1.0,,,,,\"Aplicaci\\xc3\\xb3n m\\xc3\\xb3vil,Ninguna\",no,no,25%,\"Cuaderno,Ninguna\",no,Recarga telef\\xc3\\xb3nica,Tarde (12:00 - 7:00 pm),El cliente los recoge en tienda,5%,1-5%,no es requerido ,Totalmente en desacuerdo,Totalmente de acuerdo,Algo de acuerdo,Totalmente en desacuerdo,Algo en desacuerdo,Algo de acuerdo,Ni de acuerdo ni en desacuerdo,Totalmente de acuerdo,Totalmente de acuerdo,Totalmente en desacuerdo,Totalmente en desacuerdo,Ni de acuerdo ni en desacuerdo,\"En persona,Llamada telef\\xc3\\xb3nica,Mensajer\\xc3\\xada instant\\xc3\\xa1nea (e.g. WhatsApp)\",Recompra,0,Ninguna,Efectivo,yes,Disminuir la cantidad del pedido,Diariamente,\"Categor\\xc3\\xada (e.g. limpieza, aseo personal, comestibles, l\\xc3\\xa1cteos, etc.),Frecuencia de venta,Tama\\xc3\\xb1o\",\"Informar al proveedor,Solicitar tiempo al cliente para conseguir el producto\",10%,Totalmente de acuerdo,Totalmente de acuerdo,Totalmente de acuerdo,Totalmente de acuerdo,Totalmente de acuerdo,Totalmente de acuerdo,De acuerdo,De acuerdo,Ni de acuerdo ni en desacuerdo,Totalmente de acuerdo,yes,Alan Eustaquio,S\\xc3\\xa1nchez,2221093498.0,eduardorommax@outlook.com,1.0,5.0,8.0,1.0,1.0,2.0,4.0,6.0,1.0,30.0,2.0,5.0,50.0,2.0,5.0,3.0,2.0,4.0\\n240,6f08add4-c903-4dd4-a21f-97d4107ecbbc,\"November 8, 2022\",2022-11-09 23:55:03 UTC,Jos\\xc3\\xa9 Zapata,SRID=4326;POINT(-98.215739 19.018705),19.018705,-98.215739,Papeler\\xc3\\xada Fher Ali,1 Photo,Papeler\\xc3\\xada ,no,no,no,\"Analog cash register,POS system (i.e. computer + bar code scanner + printer),Security cameras,Smartphone\",3 Photos,yes,yes,1997-11-08,Disminuy\\xc3\\xb3 15%,Aument\\xc3\\xb3 15%,yes,Software especializado + computadora,Software especializado + computadora,No los uso,yes,no,yes,\"Redes sociales (e.g. Facebook, Instagram)\",\"Efectivo,Transferencia interbancaria\",Efectivo,,,,,1.0,,,,,\"Aplicaci\\xc3\\xb3n m\\xc3\\xb3vil,Redes sociales\",no,no,15%,Ninguna,no,\"Entrega a domicilio,Recarga telef\\xc3\\xb3nica,Recepci\\xc3\\xb3n y entrega de paquetes (e.g. Amazon, Mercado Libre)\",Tarde (12:00 - 7:00 pm),El cliente los recoge en tienda,5%,1-5%,no es requerido ,Totalmente en desacuerdo,Totalmente de acuerdo,Algo de acuerdo,Totalmente en desacuerdo,Ni de acuerdo ni en desacuerdo,Totalmente en desacuerdo,Algo de acuerdo,Totalmente en desacuerdo,Totalmente de acuerdo,Totalmente en desacuerdo,Totalmente en desacuerdo,Ni de acuerdo ni en desacuerdo,En persona,Recompra,0,Cuaderno,Efectivo,yes,Disminuir la cantidad del pedido,Semanalmente,Margen de utilidad,\"Informar al proveedor,Solicitar tiempo al cliente para conseguir el producto\",10%,Totalmente de acuerdo,Totalmente de acuerdo,Totalmente de acuerdo,Totalmente de acuerdo,Totalmente de acuerdo,Totalmente de acuerdo,Totalmente de acuerdo,Totalmente de acuerdo,Ni de acuerdo ni en desacuerdo,Totalmente de acuerdo,yes,Eduardo,Romero,2226337489.0,eduardorommax@outlook.com,2.0,0.0,1.0,2.0,4.0,5.0,1.0,6.0,1.0,30.0,2.0,5.0,50.0,2.0,5.0,3.0,2.0,0.0\\n241,e9790ad8-3c33-4957-8c2c-fc302d8da3d5,\"November 8, 2022\",2022-11-09 23:54:21 UTC,Jos\\xc3\\xa9 Zapata,SRID=4326;POINT(-98.217502 19.017211),19.017211,-98.217502,Marina,1 Photo,Grocery store (aka. nanostore),no,no,yes,ninguno,3 Photos,yes,yes,2022-11-08,No cambi\\xc3\\xb3,No cambi\\xc3\\xb3,no,En papel,En papel,No los uso,yes,no,no,\"Redes sociales (e.g. Facebook, Instagram),WhatsApp\",Efectivo,Efectivo,,,,,1.0,,,,,publicidades ,no,no,30%,Ninguna,no,Ninguno,Tarde (12:00 - 7:00 pm),Autom\\xc3\\xb3vil,1%,1-5%,no es requerido ,Totalmente en desacuerdo,Totalmente en desacuerdo,Algo de acuerdo,Totalmente en desacuerdo,Algo de acuerdo,Totalmente en desacuerdo,Totalmente en desacuerdo,Totalmente en desacuerdo,Algo de acuerdo,Algo de acuerdo,Totalmente en desacuerdo,Totalmente de acuerdo,En persona,ninguno,0,Ninguna,Efectivo,no,\"Disminuir la cantidad del pedido,Disminuir la frecuencia de pedidos\",Mensualmente,Precio,\"Informar al proveedor,Ofrecer un producto sustituto\",0,Totalmente de acuerdo,Totalmente en desacuerdo,Totalmente de acuerdo,Totalmente en desacuerdo,Totalmente de acuerdo,Totalmente de acuerdo,Ni de acuerdo ni en desacuerdo,Ni de acuerdo ni en desacuerdo,Totalmente en desacuerdo,Totalmente de acuerdo,yes,Andrea,Chavez Montoya,2228663045.0,jazlin_chik@hotmail.com,2.0,2.0,5.0,0.0,0.0,5.0,4.4,6.0,1.0,30.0,2.0,0.0,50.0,0.0,0.0,1.0,2.0,5.0\\n242,3a99044e-8643-4b20-93e7-f7242f45a69d,\"November 8, 2022\",2022-11-09 23:53:14 UTC,Jos\\xc3\\xa9 Zapata,SRID=4326;POINT(-98.216883 19.021284),19.021284,-98.216883,Florister\\xc3\\xada Lupita,1 Photo,florister\\xc3\\xada ,no,yes,no,no cuenta con dispositivos ,3 Photos,yes,yes,2017-11-08,No cambi\\xc3\\xb3,No cambi\\xc3\\xb3,no,No lo hago,En papel,No los uso,yes,yes,no,\"Redes sociales (e.g. Facebook, Instagram),WhatsApp\",Efectivo,Efectivo,,,,,1.0,,,,,Aplicaci\\xc3\\xb3n m\\xc3\\xb3vil,no,no,20%,Ninguna,no,Entrega a domicilio,Tarde (12:00 - 7:00 pm),Autom\\xc3\\xb3vil,1%,1-5%,\"No conozco los servicios,No quiero involucrarme con la tecnolog\\xc3\\xada\",Totalmente en desacuerdo,Totalmente en desacuerdo,Totalmente en desacuerdo,Totalmente en desacuerdo,Totalmente en desacuerdo,Totalmente en desacuerdo,Totalmente en desacuerdo,Totalmente en desacuerdo,Totalmente en desacuerdo,Totalmente en desacuerdo,Ni de acuerdo ni en desacuerdo,Algo de acuerdo,En persona,ninguno,0,Ninguna,Efectivo,no,\"Disminuir la cantidad del pedido,Disminuir la frecuencia de pedidos\",Diariamente,\"Categor\\xc3\\xada (e.g. limpieza, aseo personal, comestibles, l\\xc3\\xa1cteos, etc.)\",Perder la venta,20%,De acuerdo,En desacuerdo,En desacuerdo,Totalmente en desacuerdo,En desacuerdo,Totalmente en desacuerdo,Totalmente en desacuerdo,Totalmente en desacuerdo,Totalmente en desacuerdo,Totalmente en desacuerdo,yes,Leticia ,Sorcia,2225585572.0,jazlin_chik@hotmail.com,0.0,0.0,0.0,0.0,0.0,5.0,3.0,6.0,1.0,30.0,2.0,0.0,50.0,0.0,0.0,1.0,1.0,0.0\\n243,9557cb66-8f9c-423a-99ad-56f70c357f2b,\"November 8, 2022\",2022-11-09 23:52:41 UTC,Jos\\xc3\\xa9 Zapata,SRID=4326;POINT(-98.218655 19.019019),19.019019,-98.218655,Copias ,1 Photo,Papeler\\xc3\\xada ,no,no,no,\"POS system (i.e. computer + bar code scanner + printer),Smartphone\",3 Photos,yes,yes,2022-10-07,No cambi\\xc3\\xb3,No cambi\\xc3\\xb3,no,En papel,En papel,No los uso,yes,yes,yes,\"Redes sociales (e.g. Facebook, Instagram),WhatsApp\",\"Efectivo,Tarjeta de d\\xc3\\xa9bito y/o cr\\xc3\\xa9dito\",Efectivo,,,,,1.0,,,,,Aplicaci\\xc3\\xb3n m\\xc3\\xb3vil,yes,no,20%,Cat\\xc3\\xa1logo ,no,\"Entrega a domicilio,Recarga telef\\xc3\\xb3nica\",Tarde (12:00 - 7:00 pm),Autom\\xc3\\xb3vil,5%,0,\"No conozco los servicios,No quiero involucrarme con la tecnolog\\xc3\\xada\",Algo de acuerdo,Totalmente en desacuerdo,Totalmente en desacuerdo,Algo de acuerdo,Algo en desacuerdo,Algo de acuerdo,Totalmente de acuerdo,Totalmente de acuerdo,Totalmente de acuerdo,Algo de acuerdo,Totalmente en desacuerdo,Totalmente en desacuerdo,P\\xc3\\xa1gina web del proveedor,\"Cr\\xc3\\xa9dito,Descuento por compras anticipadas\",0,cat\\xc3\\xa1logo ,Efectivo,yes,\"Disminuir la cantidad del pedido,Disminuir la frecuencia de pedidos\",Diariamente,\"Categor\\xc3\\xada (e.g. limpieza, aseo personal, comestibles, l\\xc3\\xa1cteos, etc.),Frecuencia de venta,Precio\",Informar al proveedor,30%,En desacuerdo,Totalmente de acuerdo,Totalmente de acuerdo,Totalmente de acuerdo,Totalmente de acuerdo,Totalmente de acuerdo,Totalmente de acuerdo,Totalmente de acuerdo,Totalmente en desacuerdo,Totalmente de acuerdo,yes,Linda ,Guevara ,2281072276.0,jazlin_chik@hotmail.com,0.0,0.0,3.0,0.0,0.0,5.0,1.0,7.0,1.0,30.0,2.0,0.0,50.0,0.0,0.0,1.0,1.0,2.0\\n244,6535d376-ccbc-429d-bf92-0bec0fedcfeb,\"November 4, 2022\",2022-11-09 23:51:05 UTC,Jos\\xc3\\xa9 Zapata,SRID=4326;POINT(-98.217874 19.01854),19.01854,-98.217874,Recaudatt\\xc3\\xa1n,1 Photo,Grocery store (aka. nanostore),yes,yes,yes,Pesa y calculadora,3 Photos,yes,yes,2022-11-04,No cambi\\xc3\\xb3,Aument\\xc3\\xb3 15%,yes,\"En Excel,En papel\",En papel,No los uso,yes,no,yes,Llamada a Tel\\xc3\\xa9fono celular,\"Efectivo,Tarjeta de d\\xc3\\xa9bito y/o cr\\xc3\\xa9dito,Transferencia interbancaria\",Efectivo,,,,,0.0,,,,,\"Aplicaci\\xc3\\xb3n m\\xc3\\xb3vil,Redes sociales\",no,no,50% +,\"Cuaderno,Excel\",no,\"Entrega a domicilio,Recarga telef\\xc3\\xb3nica\",Tarde (12:00 - 7:00 pm),Autom\\xc3\\xb3vil,1%,1-5%,\"No conozco los servicios,No quiero involucrarme con la tecnolog\\xc3\\xada\",Algo de acuerdo,Totalmente de acuerdo,Totalmente en desacuerdo,Totalmente de acuerdo,Algo de acuerdo,Totalmente en desacuerdo,Algo de acuerdo,Algo de acuerdo,Algo de acuerdo,Totalmente en desacuerdo,Totalmente en desacuerdo,Algo de acuerdo,En persona,\"Consignaci\\xc3\\xb3n,Descuento por compras anticipadas\",0,Cuaderno,Efectivo,yes,Ninguna de las anteriores,Diariamente,\"Categor\\xc3\\xada (e.g. limpieza, aseo personal, comestibles, l\\xc3\\xa1cteos, etc.),Frecuencia de venta,Refrigeraci\\xc3\\xb3n,Tama\\xc3\\xb1o\",\"Ofrecer un producto sustituto,Solicitar tiempo al cliente para conseguir el producto\",30%,Totalmente de acuerdo,Totalmente de acuerdo,Totalmente de acuerdo,De acuerdo,Totalmente de acuerdo,De acuerdo,De acuerdo,De acuerdo,En desacuerdo,Totalmente de acuerdo,yes,Karla,Morales Paez,2213076940.0,isabelmoralespaez2@gmail.com,3.0,4.0,12.0,3.0,2.0,5.0,1.0,7.0,0.0,3.0,5.0,1.0,50.0,1.0,1.0,1.0,3.0,2.0\\n245,55a6c44e-9036-4652-bcc5-402cf1e8b8d7,\"November 4, 2022\",2022-11-09 23:48:11 UTC,Jos\\xc3\\xa9 Zapata,SRID=4326;POINT(-98.215618 19.020451),19.020451,-98.215618,Miscelanea Meche,1 Photo,Grocery store (aka. nanostore),no,no,yes,\"Security cameras,Smartphone\",12 Photos,yes,yes,1991-01-01,Disminuy\\xc3\\xb3 15%,No cambi\\xc3\\xb3,no,No lo hago,En papel,No los uso,yes,yes,yes,P\\xc3\\xa1gina web propia,Efectivo,Efectivo,,,,,0.0,,,,,Ninguna,yes,no,10%,Cuaderno,no,Ninguno,Tarde (12:00 - 7:00 pm),Autom\\xc3\\xb3vil,0,1-5%,\"No conozco los servicios,No quiero involucrarme con la tecnolog\\xc3\\xada\",Algo de acuerdo,Totalmente en desacuerdo,Totalmente en desacuerdo,Totalmente en desacuerdo,Totalmente en desacuerdo,Totalmente en desacuerdo,Totalmente en desacuerdo,Totalmente en desacuerdo,Totalmente en desacuerdo,Totalmente en desacuerdo,Totalmente en desacuerdo,Totalmente en desacuerdo,\"En persona,Mensajer\\xc3\\xada instant\\xc3\\xa1nea (e.g. WhatsApp)\",Ninguno,0,Cuaderno,Efectivo,no,\"Disminuci\\xc3\\xb3n de la variedad de productos,Disminuir la cantidad del pedido,Disminuir la frecuencia de pedidos\",Mensualmente,Frecuencia de venta,Solicitar tiempo al cliente para conseguir el producto,0,Totalmente en desacuerdo,Ni de acuerdo ni en desacuerdo,De acuerdo,Totalmente en desacuerdo,De acuerdo,De acuerdo,De acuerdo,De acuerdo,Totalmente en desacuerdo,De acuerdo,no,Andrea,Lindero Palomares,2223443445.0,andrea.lindero@gmail.com,1.0,3.0,7.0,0.0,0.0,1.0,1.0,7.0,0.0,3.0,5.0,60.0,50.0,0.0,0.0,1.0,3.0,0.0\\n246,23919222-4dd0-43a4-8099-e38c2eb348ba,\"November 4, 2022\",2022-11-09 23:46:59 UTC,Jos\\xc3\\xa9 Zapata,SRID=4326;POINT(-98.217554 19.016776),19.016776,-98.217554,Los girasoles,1 Photo,Venta de productos de limpieza,yes,yes,no,\"POS system (i.e. computer + bar code scanner + printer),Smartphone\",12 Photos,yes,yes,2022-01-03,No cambi\\xc3\\xb3,Aument\\xc3\\xb3 50% o m\\xc3\\xa1s,yes,\"En Excel,En papel\",\"En Excel,En papel\",No los uso,yes,no,no,P\\xc3\\xa1gina web propia,\"Efectivo,Transferencia interbancaria\",Efectivo,,,,,0.0,,,,,\"Aplicaci\\xc3\\xb3n m\\xc3\\xb3vil,Redes sociales\",no,no,25%,Redes sociales,yes,Entrega a domicilio,Tarde (12:00 - 7:00 pm),Autom\\xc3\\xb3vil,0,1-5%,no estamos listos ,Ni de acuerdo ni en desacuerdo,Ni de acuerdo ni en desacuerdo,Totalmente en desacuerdo,Totalmente en desacuerdo,Algo de acuerdo,Algo en desacuerdo,Algo en desacuerdo,Totalmente de acuerdo,Algo de acuerdo,Algo de acuerdo,Algo en desacuerdo,Ni de acuerdo ni en desacuerdo,En persona,Ninguno,0,Excel,\"Efectivo,Transferencia interbancaria\",no,\"Disminuci\\xc3\\xb3n de la variedad de productos,Disminuir la cantidad del pedido,Disminuir la frecuencia de pedidos\",Semanalmente,\"Categor\\xc3\\xada (e.g. limpieza, aseo personal, comestibles, l\\xc3\\xa1cteos, etc.)\",\"Ofrecer un producto sustituto,Solicitar tiempo al cliente para conseguir el producto\",20%,Totalmente de acuerdo,Totalmente de acuerdo,Totalmente de acuerdo,De acuerdo,Totalmente de acuerdo,De acuerdo,Ni de acuerdo ni en desacuerdo,Ni de acuerdo ni en desacuerdo,De acuerdo,Totalmente de acuerdo,yes,Andrea,Lindero Palomares,2223443445.0,andrea.lindero@gmail.com,0.0,0.0,12.0,1.0,2.0,1.0,2.0,7.0,0.0,3.0,1.0,60.0,50.0,0.0,0.0,1.0,1.0,0.0\\n247,bb5442a9-8009-4240-a84a-d682c67ed787,\"November 8, 2022\",2022-11-09 23:40:34 UTC,Jos\\xc3\\xa9 Zapata,SRID=4326;POINT(-98.215385 19.018453),19.018453,-98.215385,Frutas y snacks bar,1 Photo,Grocery store (aka. nanostore),no,no,yes,Security cameras,2 Photos,yes,yes,2010-01-05,No cambi\\xc3\\xb3,Aument\\xc3\\xb3 50% o m\\xc3\\xa1s,yes,\"En papel,Mental\",En papel,No los uso,no,yes,yes,\"Llamada a Tel\\xc3\\xa9fono celular,P\\xc3\\xa1gina web propia,Redes sociales (e.g. Facebook, Instagram),WhatsApp\",\"Efectivo,Transferencia interbancaria\",Efectivo,,,,,0.0,,,,,Publicidad,no,no,30%,Ninguna,no,Ninguno,Tarde (12:00 - 7:00 pm),Autom\\xc3\\xb3vil,4%,6-10%,no estamos listos ,Totalmente en desacuerdo,Totalmente en desacuerdo,Totalmente en desacuerdo,Totalmente en desacuerdo,Totalmente en desacuerdo,Totalmente en desacuerdo,Totalmente en desacuerdo,Algo de acuerdo,Totalmente en desacuerdo,Totalmente en desacuerdo,Totalmente en desacuerdo,Totalmente en desacuerdo,\"En persona,Mensajer\\xc3\\xada instant\\xc3\\xa1nea (e.g. WhatsApp)\",ninguno,0,Ninguna,Efectivo,yes,\"Disminuci\\xc3\\xb3n de la variedad de productos,Disminuir la cantidad del pedido,Disminuir la frecuencia de pedidos\",Diariamente,\"Categor\\xc3\\xada (e.g. limpieza, aseo personal, comestibles, l\\xc3\\xa1cteos, etc.),Frecuencia de venta,Refrigeraci\\xc3\\xb3n\",\"Ofrecer un producto sustituto,Solicitar tiempo al cliente para conseguir el producto\",0,Totalmente de acuerdo,Totalmente de acuerdo,Totalmente de acuerdo,Totalmente en desacuerdo,Totalmente de acuerdo,De acuerdo,Totalmente en desacuerdo,Totalmente en desacuerdo,Totalmente en desacuerdo,Totalmente en desacuerdo,yes,Mar\\xc3\\xada Guadalupe,Pi\\xc3\\xb1a Aguilar ,2213491741.0,loopita53@gmail.com,1.4,5.0,9.0,5.0,0.0,1.0,4.0,7.0,0.0,3.0,1.0,60.0,50.0,7.0,0.0,1.0,5.0,6.0\\n248,ef9de625-318b-4c97-a0bd-97523bd8003a,\"November 9, 2022\",2022-11-09 23:20:41 UTC,Yael Loeza,SRID=4326;POINT(-98.2614091 19.0194537),19.0194537,-98.2614091,Polleria Lopez ,1 Photo,Grocery store (aka. nanostore),no,yes,yes,\"Analog cash register,Smartphone\",2 Photos,no,yes,2014-05-06,Disminuy\\xc3\\xb3 50% o m\\xc3\\xa1s,No cambi\\xc3\\xb3,yes,En papel,En papel,No los uso,yes,yes,yes,\"Llamada a Tel\\xc3\\xa9fono celular,P\\xc3\\xa1gina web propia,Redes sociales (e.g. Facebook, Instagram),WhatsApp\",Efectivo,Efectivo,,,,,0.0,,,,,Cuaderno,no,no,50% +,Excel,no,Ninguno,Tarde (12:00 - 7:00 pm),Autom\\xc3\\xb3vil,4%,6-10%,\"Es muy caro,No conozco los servicios,No creo que represente grandes ingresos\",Totalmente en desacuerdo,Totalmente en desacuerdo,Totalmente en desacuerdo,Totalmente en desacuerdo,Totalmente en desacuerdo,Totalmente en desacuerdo,Totalmente en desacuerdo,Totalmente en desacuerdo,Totalmente en desacuerdo,Totalmente en desacuerdo,Totalmente en desacuerdo,Totalmente en desacuerdo,\"En persona,Mensajer\\xc3\\xada instant\\xc3\\xa1nea (e.g. WhatsApp)\",Promociones,0,Cuaderno,Efectivo,no,Disminuir la cantidad del pedido,Semanalmente,Frecuencia de venta,Solicitar tiempo al cliente para conseguir el producto,2%,Totalmente de acuerdo,Totalmente de acuerdo,Totalmente de acuerdo,Totalmente de acuerdo,Totalmente de acuerdo,Totalmente de acuerdo,Totalmente de acuerdo,Totalmente de acuerdo,Totalmente de acuerdo,Totalmente de acuerdo,yes,Andrea ,Albarado,22214392476.0,Colada2241@hotmail.com,3.0,3.0,2.0,2.0,1.0,1.0,3.0,2.0,0.0,3.0,1.0,60.0,50.0,7.0,0.0,1.0,2.0,0.0\\n249,3154e863-82d3-43c9-8f99-257c5d2d546d,\"November 9, 2022\",2022-11-09 23:20:41 UTC,Yael Loeza,SRID=4326;POINT(-98.2614787 19.0193679),19.0193679,-98.2614787,Tortilleria de Cinteotl,1 Photo,Dairy products,yes,yes,no,Smartphone,2 Photos,no,yes,2014-05-06,Disminuy\\xc3\\xb3 50% o m\\xc3\\xa1s,No cambi\\xc3\\xb3,yes,En papel,En papel,No los uso,yes,yes,yes,\"Llamada a Tel\\xc3\\xa9fono celular,P\\xc3\\xa1gina web propia,Redes sociales (e.g. Facebook, Instagram),WhatsApp\",Efectivo,Efectivo,,,,,0.0,,,,,Cuaderno,no,no,50% +,Excel,no,Ninguno,Tarde (12:00 - 7:00 pm),Autom\\xc3\\xb3vil,4%,6-10%,\"Es muy caro,No conozco los servicios,No creo que represente grandes ingresos\",Totalmente en desacuerdo,Totalmente en desacuerdo,Totalmente en desacuerdo,Totalmente en desacuerdo,Totalmente en desacuerdo,Totalmente en desacuerdo,Totalmente en desacuerdo,Totalmente en desacuerdo,Totalmente en desacuerdo,Totalmente en desacuerdo,Totalmente en desacuerdo,Totalmente en desacuerdo,\"En persona,Mensajer\\xc3\\xada instant\\xc3\\xa1nea (e.g. WhatsApp)\",Promociones,0,Cuaderno,Efectivo,no,Disminuir la cantidad del pedido,Semanalmente,Frecuencia de venta,Solicitar tiempo al cliente para conseguir el producto,2%,Totalmente de acuerdo,Totalmente de acuerdo,Totalmente de acuerdo,Totalmente de acuerdo,Totalmente de acuerdo,Totalmente de acuerdo,Totalmente de acuerdo,Totalmente de acuerdo,Totalmente de acuerdo,Totalmente de acuerdo,yes,Andrea ,Albarado,22214392476.0,Colada2241@hotmail.com,1.0,0.0,1.0,2.0,1.0,1.0,3.0,2.0,0.0,3.0,1.0,60.0,50.0,7.0,0.0,1.0,2.0,0.0\\n250,96740025-9761-4ee6-a468-94562950724d,\"November 9, 2022\",2022-11-09 23:13:53 UTC,Benjamin Barbosa,SRID=4326;POINT(-98.1670391187 19.0719291809),19.0719291809,-98.1670391187,Las Tartas,1 Photo,Micro-restaurant (aka. fondita),no,no,no,\"Analog cash register,Security cameras,Smartphone\",2 Photos,yes,yes,2014-05-06,Disminuy\\xc3\\xb3 50% o m\\xc3\\xa1s,No cambi\\xc3\\xb3,yes,En papel,En papel,No los uso,yes,yes,yes,\"Llamada a Tel\\xc3\\xa9fono celular,P\\xc3\\xa1gina web propia,Redes sociales (e.g. Facebook, Instagram),WhatsApp\",Efectivo,Efectivo,,,,,0.0,,,,,Cuaderno,no,no,50% +,Excel,no,Ninguno,Tarde (12:00 - 7:00 pm),Autom\\xc3\\xb3vil,4%,6-10%,\"Es muy caro,No conozco los servicios,No creo que represente grandes ingresos\",Totalmente en desacuerdo,Totalmente en desacuerdo,Totalmente en desacuerdo,Totalmente en desacuerdo,Totalmente en desacuerdo,Totalmente en desacuerdo,Totalmente en desacuerdo,Totalmente en desacuerdo,Totalmente en desacuerdo,Totalmente en desacuerdo,Totalmente en desacuerdo,Totalmente en desacuerdo,\"En persona,Mensajer\\xc3\\xada instant\\xc3\\xa1nea (e.g. WhatsApp)\",Promociones,0,Cuaderno,Efectivo,no,Disminuir la cantidad del pedido,Semanalmente,Frecuencia de venta,Solicitar tiempo al cliente para conseguir el producto,2%,Totalmente de acuerdo,Totalmente de acuerdo,Totalmente de acuerdo,Totalmente de acuerdo,Totalmente de acuerdo,Totalmente de acuerdo,Totalmente de acuerdo,Totalmente de acuerdo,Totalmente de acuerdo,Totalmente de acuerdo,yes,Andrea ,Albarado,22214392476.0,Colada2241@hotmail.com,2.0,2.0,0.0,2.0,1.0,1.0,3.0,2.0,0.0,3.0,1.0,60.0,50.0,7.0,0.0,1.0,2.0,0.0\\n251,c6e73e8a-9e22-45d6-918d-ded0400063df,\"November 9, 2022\",2022-11-09 23:13:52 UTC,Benjamin Barbosa,SRID=4326;POINT(-98.166975081 19.0718784813),19.0718784813,-98.166975081,La  Michoacana,1 Photo,Dairy products,no,no,yes,\"Analog cash register,Security cameras\",2 Photos,no,no,2007-10-16,No cambi\\xc3\\xb3,No cambi\\xc3\\xb3,yes,En Excel,En Excel,No los uso,yes,yes,yes,WhatsApp,\"Efectivo,Tarjeta de d\\xc3\\xa9bito y/o cr\\xc3\\xa9dito\",Efectivo,,,,,0.0,,,,,Cuaderno,yes,no,10%,Excel,no,Ninguno,Tarde (12:00 - 7:00 pm),Autom\\xc3\\xb3vil,4%,6-10%,Es muy caro,Totalmente de acuerdo,Totalmente de acuerdo,Totalmente en desacuerdo,Totalmente de acuerdo,Totalmente de acuerdo,Totalmente de acuerdo,Totalmente de acuerdo,Totalmente de acuerdo,Totalmente de acuerdo,Totalmente en desacuerdo,Totalmente en desacuerdo,Totalmente en desacuerdo,\"En persona,Mensajer\\xc3\\xada instant\\xc3\\xa1nea (e.g. WhatsApp)\",Promociones,0,Cuaderno,Efectivo,no,Disminuir la cantidad del pedido,Semanalmente,Frecuencia de venta,Solicitar tiempo al cliente para conseguir el producto,2%,Totalmente de acuerdo,Totalmente de acuerdo,Totalmente de acuerdo,Totalmente de acuerdo,Totalmente de acuerdo,Totalmente de acuerdo,Totalmente de acuerdo,Totalmente de acuerdo,Totalmente de acuerdo,Totalmente de acuerdo,yes,Arantza Mendez Ju\\xc3\\xa1rez ,Mendez Ju\\xc3\\xa1rez ,2221199255.0,Peque189@gmail.com,2.0,9.0,0.0,1.0,1.0,1.0,3.0,1.0,0.0,3.0,1.0,60.0,50.0,7.0,0.0,1.0,2.0,0.0\\n252,5f5ae61c-0e08-4b31-9520-cc8a27b158cc,\"November 9, 2022\",2022-11-09 23:13:52 UTC,Benjamin Barbosa,SRID=4326;POINT(-98.1666931137 19.072127543),19.072127543,-98.1666931137,Ferreter\\xc3\\xada y Tlapaleria,1 Photo,Ferreter\\xc3\\xada ,no,no,no,\"POS system (i.e. computer + bar code scanner + printer),Security cameras\",2 Photos,no,no,2007-10-16,No cambi\\xc3\\xb3,No cambi\\xc3\\xb3,yes,En Excel,En Excel,No los uso,yes,yes,yes,WhatsApp,\"Efectivo,Tarjeta de d\\xc3\\xa9bito y/o cr\\xc3\\xa9dito\",Efectivo,,,,,0.0,,,,,Cuaderno,yes,no,10%,Excel,no,Ninguno,Tarde (12:00 - 7:00 pm),Autom\\xc3\\xb3vil,4%,6-10%,Es muy caro,Totalmente de acuerdo,Totalmente de acuerdo,Totalmente en desacuerdo,Totalmente de acuerdo,Totalmente de acuerdo,Totalmente de acuerdo,Totalmente de acuerdo,Totalmente de acuerdo,Totalmente de acuerdo,Totalmente en desacuerdo,Totalmente en desacuerdo,Totalmente en desacuerdo,\"En persona,Mensajer\\xc3\\xada instant\\xc3\\xa1nea (e.g. WhatsApp)\",Promociones,0,Cuaderno,Efectivo,no,Disminuir la cantidad del pedido,Semanalmente,Frecuencia de venta,Solicitar tiempo al cliente para conseguir el producto,2%,Totalmente de acuerdo,Totalmente de acuerdo,Totalmente de acuerdo,Totalmente de acuerdo,Totalmente de acuerdo,Totalmente de acuerdo,Totalmente de acuerdo,Totalmente de acuerdo,Totalmente de acuerdo,Totalmente de acuerdo,yes,Arantza Mendez Ju\\xc3\\xa1rez ,Mendez Ju\\xc3\\xa1rez ,2221199255.0,Peque189@gmail.com,2.0,0.0,9.0,1.0,1.0,1.0,3.0,1.0,0.0,3.0,1.0,60.0,50.0,7.0,0.0,1.0,2.0,0.0\\n253,8b5a4be8-bf5b-481b-947e-804792e58f74,\"November 9, 2022\",2022-11-09 23:13:51 UTC,Benjamin Barbosa,SRID=4326;POINT(-98.1664215401 19.0722007405),19.0722007405,-98.1664215401,Papeler\\xc3\\xada ,1 Photo,papeleria,no,no,no,\"POS system (i.e. computer + bar code scanner + printer),Security cameras,Smartphone\",2 Photos,yes,yes,2007-10-16,No cambi\\xc3\\xb3,No cambi\\xc3\\xb3,yes,En Excel,En Excel,No los uso,yes,yes,yes,WhatsApp,\"Efectivo,Tarjeta de d\\xc3\\xa9bito y/o cr\\xc3\\xa9dito\",Efectivo,,,,,0.0,,,,,Cuaderno,yes,no,10%,Excel,no,Ninguno,Tarde (12:00 - 7:00 pm),Autom\\xc3\\xb3vil,4%,6-10%,Es muy caro,Totalmente de acuerdo,Totalmente de acuerdo,Totalmente en desacuerdo,Totalmente de acuerdo,Totalmente de acuerdo,Totalmente de acuerdo,Totalmente de acuerdo,Totalmente de acuerdo,Totalmente de acuerdo,Totalmente en desacuerdo,Totalmente en desacuerdo,Totalmente en desacuerdo,\"En persona,Mensajer\\xc3\\xada instant\\xc3\\xa1nea (e.g. WhatsApp)\",Promociones,0,Cuaderno,Efectivo,no,Disminuir la cantidad del pedido,Semanalmente,Frecuencia de venta,Solicitar tiempo al cliente para conseguir el producto,2%,Totalmente de acuerdo,Totalmente de acuerdo,Totalmente de acuerdo,Totalmente de acuerdo,Totalmente de acuerdo,Totalmente de acuerdo,Totalmente de acuerdo,Totalmente de acuerdo,Totalmente de acuerdo,Totalmente de acuerdo,yes,Arantza Mendez Ju\\xc3\\xa1rez ,Mendez Ju\\xc3\\xa1rez ,2221199255.0,Peque189@gmail.com,1.0,0.0,3.0,1.0,1.0,1.0,3.0,1.0,0.0,3.0,1.0,60.0,50.0,7.0,0.0,1.0,2.0,0.0\\n254,22ba9ab7-4a20-4fa0-83b0-808d49dedd23,\"November 9, 2022\",2022-11-09 23:13:51 UTC,Benjamin Barbosa,SRID=4326;POINT(-98.1662846 19.0724183),19.0724183,-98.1662846,Tu ropa en buenas manos,1 Photo,compostura de ropa,no,no,no,\"Analog cash register,POS system (i.e. computer + bar code scanner + printer),Security cameras\",2 Photos,no,no,2019-10-16,No cambi\\xc3\\xb3,No cambi\\xc3\\xb3,no,\"En Excel,En papel\",\"En Excel,En papel\",No los uso,yes,no,no,conocidos paquetes cerrados,Efectivo,Efectivo,,,,,0.0,,,,,Cuaderno,no,no,10%,Software especializado,yes,Ninguno,Tarde (12:00 - 7:00 pm),Autom\\xc3\\xb3vil,4%,6-10%,Es muy caro,Totalmente en desacuerdo,Totalmente en desacuerdo,Totalmente en desacuerdo,Totalmente en desacuerdo,Totalmente en desacuerdo,Totalmente en desacuerdo,Totalmente en desacuerdo,Totalmente en desacuerdo,Totalmente en desacuerdo,Totalmente en desacuerdo,Totalmente en desacuerdo,Totalmente en desacuerdo,Sistema especializado del proveedor (e.g. VMS),Promociones,0,Cuaderno,Efectivo,no,Disminuir la cantidad del pedido,Nunca,\"Categor\\xc3\\xada (e.g. limpieza, aseo personal, comestibles, l\\xc3\\xa1cteos, etc.)\",Perder la venta,10%,De acuerdo,De acuerdo,De acuerdo,De acuerdo,De acuerdo,De acuerdo,De acuerdo,De acuerdo,Ni de acuerdo ni en desacuerdo,De acuerdo,no,Maria Antonia,Flores Contreras,2221261740.0,Jade13_4@hotmail.com,2.0,0.0,0.0,2.0,2.0,1.0,0.0,7.0,0.0,2.0,0.0,60.0,50.0,7.0,0.0,1.0,7.0,6.0\\n255,d02e82aa-5b79-4265-bf1e-827eb5124800,\"November 9, 2022\",2022-11-09 23:13:50 UTC,Benjamin Barbosa,SRID=4326;POINT(-98.1662518904 19.0724726164),19.0724726164,-98.1662518904,Cemitas Sandy,1 Photo,Micro-restaurant (aka. fondita),no,no,yes,\"Analog cash register,Dataphone (i.e. card payments),Security cameras\",2 Photos,no,yes,2019-10-16,No cambi\\xc3\\xb3,No cambi\\xc3\\xb3,no,\"En Excel,En papel\",\"En Excel,En papel\",No los uso,yes,no,no,conocidos paquetes cerrados,Efectivo,Efectivo,,,,,0.0,,,,,Cuaderno,no,no,10%,Software especializado,yes,Ninguno,Tarde (12:00 - 7:00 pm),Autom\\xc3\\xb3vil,4%,6-10%,Es muy caro,Totalmente en desacuerdo,Totalmente en desacuerdo,Totalmente en desacuerdo,Totalmente en desacuerdo,Totalmente en desacuerdo,Totalmente en desacuerdo,Totalmente en desacuerdo,Totalmente en desacuerdo,Totalmente en desacuerdo,Totalmente en desacuerdo,Totalmente en desacuerdo,Totalmente en desacuerdo,Sistema especializado del proveedor (e.g. VMS),Promociones,0,Cuaderno,Efectivo,no,Disminuir la cantidad del pedido,Nunca,\"Categor\\xc3\\xada (e.g. limpieza, aseo personal, comestibles, l\\xc3\\xa1cteos, etc.)\",Perder la venta,10%,De acuerdo,De acuerdo,De acuerdo,De acuerdo,De acuerdo,De acuerdo,De acuerdo,De acuerdo,Ni de acuerdo ni en desacuerdo,De acuerdo,no,Maria Antonia,Flores Contreras,2221261740.0,Jade13_4@hotmail.com,2.0,1.0,0.0,2.0,2.0,1.0,0.0,7.0,0.0,2.0,0.0,60.0,50.0,7.0,0.0,1.0,7.0,6.0\\n256,e007d03f-786b-4108-8ad8-beed34fd9858,\"November 9, 2022\",2022-11-09 23:13:48 UTC,Benjamin Barbosa,SRID=4326;POINT(-98.1661503017 19.0725629248),19.0725629248,-98.1661503017,Tortiller\\xc3\\xada Andrea,1 Photo,Tortiller\\xc3\\xada ,no,no,yes,\"Analog cash register,Security cameras\",2 Photos,no,yes,2019-10-16,No cambi\\xc3\\xb3,No cambi\\xc3\\xb3,no,\"En Excel,En papel\",\"En Excel,En papel\",No los uso,yes,no,no,conocidos paquetes cerrados,Efectivo,Efectivo,,,,,0.0,,,,,Cuaderno,no,no,10%,Software especializado,yes,Ninguno,Tarde (12:00 - 7:00 pm),Autom\\xc3\\xb3vil,4%,6-10%,Es muy caro,Totalmente en desacuerdo,Totalmente en desacuerdo,Totalmente en desacuerdo,Totalmente en desacuerdo,Totalmente en desacuerdo,Totalmente en desacuerdo,Totalmente en desacuerdo,Totalmente en desacuerdo,Totalmente en desacuerdo,Totalmente en desacuerdo,Totalmente en desacuerdo,Totalmente en desacuerdo,Sistema especializado del proveedor (e.g. VMS),Promociones,0,Cuaderno,Efectivo,no,Disminuir la cantidad del pedido,Nunca,\"Categor\\xc3\\xada (e.g. limpieza, aseo personal, comestibles, l\\xc3\\xa1cteos, etc.)\",Perder la venta,10%,De acuerdo,De acuerdo,De acuerdo,De acuerdo,De acuerdo,De acuerdo,De acuerdo,De acuerdo,Ni de acuerdo ni en desacuerdo,De acuerdo,no,Maria Antonia,Flores Contreras,2221261740.0,Jade13_4@hotmail.com,2.0,2.0,0.0,2.0,2.0,1.0,0.0,7.0,0.0,2.0,0.0,60.0,50.0,7.0,0.0,1.0,7.0,6.0\\n257,6875fb92-1376-4e26-9157-d94ff681f503,\"November 9, 2022\",2022-11-09 23:13:48 UTC,Ismael L\\xc3\\xb3pez,SRID=4326;POINT(-98.248065 19.02818),19.02818,-98.248065,Ricototes Tacototes,1 Photo,Micro-restaurant (aka. fondita),no,no,no,\"Analog cash register,Dataphone (i.e. card payments)\",2 Photos,no,yes,2019-10-16,No cambi\\xc3\\xb3,No cambi\\xc3\\xb3,no,\"En Excel,En papel\",\"En Excel,En papel\",No los uso,yes,no,no,conocidos paquetes cerrados,Efectivo,Efectivo,,,,,0.0,,,,,Cuaderno,no,no,10%,Software especializado,yes,Ninguno,Tarde (12:00 - 7:00 pm),Autom\\xc3\\xb3vil,4%,6-10%,Es muy caro,Totalmente en desacuerdo,Totalmente en desacuerdo,Totalmente en desacuerdo,Totalmente en desacuerdo,Totalmente en desacuerdo,Totalmente en desacuerdo,Totalmente en desacuerdo,Totalmente en desacuerdo,Totalmente en desacuerdo,Totalmente en desacuerdo,Totalmente en desacuerdo,Totalmente en desacuerdo,Sistema especializado del proveedor (e.g. VMS),Promociones,0,Cuaderno,Efectivo,no,Disminuir la cantidad del pedido,Nunca,\"Categor\\xc3\\xada (e.g. limpieza, aseo personal, comestibles, l\\xc3\\xa1cteos, etc.)\",Perder la venta,10%,De acuerdo,De acuerdo,De acuerdo,De acuerdo,De acuerdo,De acuerdo,De acuerdo,De acuerdo,Ni de acuerdo ni en desacuerdo,De acuerdo,no,Maria Antonia,Flores Contreras,2221261740.0,Jade13_4@hotmail.com,2.0,2.0,3.0,2.0,2.0,1.0,0.0,7.0,0.0,2.0,0.0,60.0,50.0,7.0,0.0,1.0,7.0,6.0\\n258,4950fa8b-797c-48b2-8a9d-0e76f18a7464,\"November 9, 2022\",2022-11-09 23:13:47 UTC,Benjamin Barbosa,SRID=4326;POINT(-98.1655820087 19.0731782877),19.0731782877,-98.1655820087,Recauderia La Huerta,1 Photo,Produce (fruits & vegetables),no,yes,yes,Analog cash register,2 Photos,no,yes,2019-10-16,No cambi\\xc3\\xb3,No cambi\\xc3\\xb3,no,\"En Excel,En papel\",\"En Excel,En papel\",No los uso,yes,no,no,conocidos paquetes cerrados,Efectivo,Efectivo,,,,,0.0,,,,,Cuaderno,no,no,10%,Software especializado,yes,Ninguno,Tarde (12:00 - 7:00 pm),Autom\\xc3\\xb3vil,4%,6-10%,Es muy caro,Totalmente en desacuerdo,Totalmente en desacuerdo,Totalmente en desacuerdo,Totalmente en desacuerdo,Totalmente en desacuerdo,Totalmente en desacuerdo,Totalmente en desacuerdo,Totalmente en desacuerdo,Totalmente en desacuerdo,Totalmente en desacuerdo,Totalmente en desacuerdo,Totalmente en desacuerdo,Sistema especializado del proveedor (e.g. VMS),Promociones,0,Cuaderno,Efectivo,no,Disminuir la cantidad del pedido,Nunca,\"Categor\\xc3\\xada (e.g. limpieza, aseo personal, comestibles, l\\xc3\\xa1cteos, etc.)\",Perder la venta,10%,De acuerdo,De acuerdo,De acuerdo,De acuerdo,De acuerdo,De acuerdo,De acuerdo,De acuerdo,Ni de acuerdo ni en desacuerdo,De acuerdo,no,Maria Antonia,Flores Contreras,2221261740.0,Jade13_4@hotmail.com,1.0,0.0,12.0,2.0,2.0,1.0,0.0,7.0,0.0,2.0,0.0,60.0,50.0,7.0,0.0,1.0,7.0,6.0\\n259,2e17ddf8-72f3-498d-9ebf-8d978d7c21b5,\"November 9, 2022\",2022-11-09 23:13:47 UTC,Ismael L\\xc3\\xb3pez,SRID=4326;POINT(-98.2479993 19.0281426),19.0281426,-98.2479993,Carnicer\\xc3\\xada Campos,1 Photo,Butcher shop,no,no,yes,\"Analog cash register,Security cameras\",2 Photos,no,yes,2019-10-16,No cambi\\xc3\\xb3,No cambi\\xc3\\xb3,no,\"En Excel,En papel\",\"En Excel,En papel\",No los uso,yes,no,no,conocidos paquetes cerrados,Efectivo,Efectivo,,,,,0.0,,,,,Cuaderno,no,no,10%,Software especializado,yes,Ninguno,Tarde (12:00 - 7:00 pm),Autom\\xc3\\xb3vil,4%,6-10%,Es muy caro,Totalmente en desacuerdo,Totalmente en desacuerdo,Totalmente en desacuerdo,Totalmente en desacuerdo,Totalmente en desacuerdo,Totalmente en desacuerdo,Totalmente en desacuerdo,Totalmente en desacuerdo,Totalmente en desacuerdo,Totalmente en desacuerdo,Totalmente en desacuerdo,Totalmente en desacuerdo,Sistema especializado del proveedor (e.g. VMS),Promociones,0,Cuaderno,Efectivo,no,Disminuir la cantidad del pedido,Nunca,\"Categor\\xc3\\xada (e.g. limpieza, aseo personal, comestibles, l\\xc3\\xa1cteos, etc.)\",Perder la venta,10%,De acuerdo,De acuerdo,De acuerdo,De acuerdo,De acuerdo,De acuerdo,De acuerdo,De acuerdo,Ni de acuerdo ni en desacuerdo,De acuerdo,no,Maria Antonia,Flores Contreras,2221261740.0,Jade13_4@hotmail.com,2.0,1.0,3.0,2.0,2.0,1.0,0.0,7.0,0.0,2.0,0.0,60.0,50.0,7.0,0.0,1.0,7.0,6.0\\n260,e78693b9-c294-4094-b522-23bef9a064de,\"November 9, 2022\",2022-11-09 23:13:47 UTC,Benjamin Barbosa,SRID=4326;POINT(-98.1652718782 19.0734498452),19.0734498452,-98.1652718782,Cenita y Tacos El Ron,1 Photo,Micro-restaurant (aka. fondita),no,no,yes,\"Analog cash register,Security cameras,Smartphone\",2 Photos,yes,yes,2019-10-16,No cambi\\xc3\\xb3,No cambi\\xc3\\xb3,no,\"En Excel,En papel\",\"En Excel,En papel\",No los uso,yes,no,no,conocidos paquetes cerrados,Efectivo,Efectivo,,,,,0.0,,,,,Cuaderno,no,no,10%,Software especializado,yes,Ninguno,Tarde (12:00 - 7:00 pm),Autom\\xc3\\xb3vil,4%,6-10%,Es muy caro,Totalmente en desacuerdo,Totalmente en desacuerdo,Totalmente en desacuerdo,Totalmente en desacuerdo,Totalmente en desacuerdo,Totalmente en desacuerdo,Totalmente en desacuerdo,Totalmente en desacuerdo,Totalmente en desacuerdo,Totalmente en desacuerdo,Totalmente en desacuerdo,Totalmente en desacuerdo,Sistema especializado del proveedor (e.g. VMS),Promociones,0,Cuaderno,Efectivo,no,Disminuir la cantidad del pedido,Nunca,\"Categor\\xc3\\xada (e.g. limpieza, aseo personal, comestibles, l\\xc3\\xa1cteos, etc.)\",Perder la venta,10%,De acuerdo,De acuerdo,De acuerdo,De acuerdo,De acuerdo,De acuerdo,De acuerdo,De acuerdo,Ni de acuerdo ni en desacuerdo,De acuerdo,no,Maria Antonia,Flores Contreras,2221261740.0,Jade13_4@hotmail.com,2.0,1.0,0.0,2.0,2.0,1.0,0.0,7.0,0.0,2.0,0.0,60.0,50.0,7.0,0.0,1.0,7.0,6.0\\n261,d26b7c83-5214-4bf8-b9d0-80a36939d1be,\"November 9, 2022\",2022-11-09 23:13:46 UTC,Benjamin Barbosa,SRID=4326;POINT(-98.165335916 19.0734732935),19.0734732935,-98.165335916,Panader\\xc3\\xada Gonz\\xc3\\xa1lez,1 Photo,Panaderia,no,no,yes,\"Analog cash register,Security cameras\",2 Photos,no,yes,2022-05-11,No cambi\\xc3\\xb3,No cambi\\xc3\\xb3,no,En papel,En papel,No los uso,yes,no,no,conocidos paquetes cerrados,Efectivo,Efectivo,,,,,0.0,,,,,Cuaderno,no,no,10%,Software especializado,no,Ninguno,Tarde (12:00 - 7:00 pm),Autom\\xc3\\xb3vil,4%,6-10%,Es muy caro,Totalmente en desacuerdo,Totalmente en desacuerdo,Totalmente en desacuerdo,Totalmente en desacuerdo,Totalmente en desacuerdo,Totalmente en desacuerdo,Totalmente en desacuerdo,Totalmente en desacuerdo,Totalmente en desacuerdo,Totalmente en desacuerdo,Totalmente en desacuerdo,Totalmente en desacuerdo,Sistema especializado del proveedor (e.g. VMS),Promociones,0,Cuaderno,Efectivo,no,Disminuir la cantidad del pedido,Nunca,\"Categor\\xc3\\xada (e.g. limpieza, aseo personal, comestibles, l\\xc3\\xa1cteos, etc.)\",Perder la venta,10%,Totalmente en desacuerdo,De acuerdo,De acuerdo,En desacuerdo,De acuerdo,De acuerdo,De acuerdo,En desacuerdo,En desacuerdo,De acuerdo,no,Maria Antonia,Flores Contreras,2221261740.0,Jade13_4@hotmail.com,2.0,0.0,9.0,0.0,0.0,1.0,0.0,7.0,0.0,2.0,0.0,60.0,50.0,7.0,0.0,1.0,7.0,6.0\\n262,0a67a9ed-14ec-4a36-ad80-a70f667f8296,\"November 9, 2022\",2022-11-09 23:13:46 UTC,Benjamin Barbosa,SRID=4326;POINT(-98.165345639 19.0736675345),19.0736675345,-98.165345639,Te invito a mi club,1 Photo,Micro-restaurant (aka. fondita),no,no,yes,acepta pagos en efectivo ,2 Photos,yes,yes,2022-05-11,No cambi\\xc3\\xb3,No cambi\\xc3\\xb3,no,En papel,En papel,No los uso,yes,no,no,conocidos paquetes cerrados,Efectivo,Efectivo,,,,,0.0,,,,,Cuaderno,no,no,10%,Software especializado,no,Ninguno,Tarde (12:00 - 7:00 pm),Autom\\xc3\\xb3vil,4%,6-10%,Es muy caro,Totalmente en desacuerdo,Totalmente en desacuerdo,Totalmente en desacuerdo,Totalmente en desacuerdo,Totalmente en desacuerdo,Totalmente en desacuerdo,Totalmente en desacuerdo,Totalmente en desacuerdo,Totalmente en desacuerdo,Totalmente en desacuerdo,Totalmente en desacuerdo,Totalmente en desacuerdo,Sistema especializado del proveedor (e.g. VMS),Promociones,0,Cuaderno,Efectivo,no,Disminuir la cantidad del pedido,Nunca,\"Categor\\xc3\\xada (e.g. limpieza, aseo personal, comestibles, l\\xc3\\xa1cteos, etc.)\",Perder la venta,10%,Totalmente en desacuerdo,De acuerdo,De acuerdo,En desacuerdo,De acuerdo,De acuerdo,De acuerdo,En desacuerdo,En desacuerdo,De acuerdo,no,Maria Antonia,Flores Contreras,2221261740.0,Jade13_4@hotmail.com,0.0,1.0,0.0,0.0,0.0,1.0,0.0,7.0,0.0,2.0,0.0,60.0,50.0,7.0,0.0,1.0,7.0,6.0\\n263,e652b732-fae5-4901-a08c-e7c200b6eb74,\"November 9, 2022\",2022-11-09 23:13:45 UTC,Benjamin Barbosa,SRID=4326;POINT(-98.1652105227 19.0738560715),19.0738560715,-98.1652105227,Cenita y Tortas Puebla,1 Photo,Micro-restaurant (aka. fondita),no,no,yes,Analog cash register,2 Photos,no,yes,2018-11-09,No cambi\\xc3\\xb3,No hay emple\\xc3\\xa1ndosela ,no,No lo hago,No lo hago,No los uso,yes,yes,yes,\"P\\xc3\\xa1gina web propia,Redes sociales (e.g. Facebook, Instagram),WhatsApp\",\"Efectivo,Transferencia interbancaria\",Efectivo,,,,,0.0,,,,,Aplicaci\\xc3\\xb3n m\\xc3\\xb3vil,no,no,10%,Software especializado,no,\"Entrega a domicilio,Pago de servicios p\\xc3\\xbablicos (e.g. Yastas),Recarga telef\\xc3\\xb3nica,Recepci\\xc3\\xb3n y entrega de paquetes (e.g. Amazon, Mercado Libre)\",Tarde (12:00 - 7:00 pm),Autom\\xc3\\xb3vil,4%,6-10%,No conozco los servicios,Totalmente de acuerdo,Algo de acuerdo,Algo de acuerdo,Totalmente en desacuerdo,Totalmente en desacuerdo,Algo de acuerdo,Algo de acuerdo,Totalmente en desacuerdo,Totalmente en desacuerdo,Totalmente en desacuerdo,Ni de acuerdo ni en desacuerdo,Totalmente en desacuerdo,Sistema especializado del proveedor (e.g. VMS),Promociones,0,Cuaderno,Efectivo,no,Disminuir la cantidad del pedido,Semanalmente,\"Categor\\xc3\\xada (e.g. limpieza, aseo personal, comestibles, l\\xc3\\xa1cteos, etc.)\",Solicitar tiempo al cliente para conseguir el producto,0,Totalmente de acuerdo,Totalmente de acuerdo,Totalmente de acuerdo,Ni de acuerdo ni en desacuerdo,De acuerdo,Totalmente de acuerdo,Totalmente de acuerdo,Ni de acuerdo ni en desacuerdo,En desacuerdo,Totalmente de acuerdo,no,Maria Antonia,Flores Contreras,2221261740.0,Jade13_4@hotmail.com,0.0,2.0,0.0,1.0,1.0,0.0,10.0,7.0,0.0,2.0,0.0,60.0,50.0,7.0,0.0,1.0,7.0,6.0\\n264,e4e39c13-b21e-4026-943f-427197559bca,\"November 9, 2022\",2022-11-09 23:13:45 UTC,Benjamin Barbosa,SRID=4326;POINT(-98.1652306393 19.0738966307),19.0738966307,-98.1652306393,Lavander\\xc3\\xada y Tintoreria,1 Photo,Lavander\\xc3\\xada ,no,no,no,Analog cash register,2 Photos,no,yes,2018-11-09,No cambi\\xc3\\xb3,No hay emple\\xc3\\xa1ndosela ,no,No lo hago,No lo hago,No los uso,yes,yes,yes,\"P\\xc3\\xa1gina web propia,Redes sociales (e.g. Facebook, Instagram),WhatsApp\",\"Efectivo,Transferencia interbancaria\",Efectivo,,,,,0.0,,,,,Aplicaci\\xc3\\xb3n m\\xc3\\xb3vil,no,no,10%,Software especializado,no,\"Entrega a domicilio,Pago de servicios p\\xc3\\xbablicos (e.g. Yastas),Recarga telef\\xc3\\xb3nica,Recepci\\xc3\\xb3n y entrega de paquetes (e.g. Amazon, Mercado Libre)\",Tarde (12:00 - 7:00 pm),Autom\\xc3\\xb3vil,4%,6-10%,No conozco los servicios,Totalmente de acuerdo,Algo de acuerdo,Algo de acuerdo,Totalmente en desacuerdo,Totalmente en desacuerdo,Algo de acuerdo,Algo de acuerdo,Totalmente en desacuerdo,Totalmente en desacuerdo,Totalmente en desacuerdo,Ni de acuerdo ni en desacuerdo,Totalmente en desacuerdo,Sistema especializado del proveedor (e.g. VMS),Promociones,0,Cuaderno,Efectivo,no,Disminuir la cantidad del pedido,Semanalmente,\"Categor\\xc3\\xada (e.g. limpieza, aseo personal, comestibles, l\\xc3\\xa1cteos, etc.)\",Solicitar tiempo al cliente para conseguir el producto,0,Totalmente de acuerdo,Totalmente de acuerdo,Totalmente de acuerdo,Ni de acuerdo ni en desacuerdo,De acuerdo,Totalmente de acuerdo,Totalmente de acuerdo,Ni de acuerdo ni en desacuerdo,En desacuerdo,Totalmente de acuerdo,no,Maria Antonia,Flores Contreras,2221261740.0,Jade13_4@hotmail.com,0.0,0.0,3.0,1.0,1.0,0.0,10.0,7.0,0.0,2.0,0.0,60.0,50.0,7.0,0.0,1.0,7.0,6.0\\n265,d0ed4d8e-4c02-4b08-97bc-8b0a91d0b14f,\"November 9, 2022\",2022-11-09 23:08:28 UTC,Eduardo Z\\xc3\\xa1rate,SRID=4326;POINT(-98.1667071 19.0718272),19.0718272,-98.1667071,Dulceria la galleta,1 Photo,Grocery store (aka. nanostore),no,no,yes,Smartphone,2 Photos,yes,yes,2018-11-09,No cambi\\xc3\\xb3,No hay emple\\xc3\\xa1ndosela ,no,No lo hago,No lo hago,No los uso,yes,yes,yes,\"P\\xc3\\xa1gina web propia,Redes sociales (e.g. Facebook, Instagram),WhatsApp\",\"Efectivo,Transferencia interbancaria\",Efectivo,,,,,0.0,,,,,Aplicaci\\xc3\\xb3n m\\xc3\\xb3vil,no,no,10%,Software especializado,no,\"Entrega a domicilio,Pago de servicios p\\xc3\\xbablicos (e.g. Yastas),Recarga telef\\xc3\\xb3nica,Recepci\\xc3\\xb3n y entrega de paquetes (e.g. Amazon, Mercado Libre)\",Tarde (12:00 - 7:00 pm),Autom\\xc3\\xb3vil,4%,6-10%,No conozco los servicios,Totalmente de acuerdo,Algo de acuerdo,Algo de acuerdo,Totalmente en desacuerdo,Totalmente en desacuerdo,Algo de acuerdo,Algo de acuerdo,Totalmente en desacuerdo,Totalmente en desacuerdo,Totalmente en desacuerdo,Ni de acuerdo ni en desacuerdo,Totalmente en desacuerdo,Sistema especializado del proveedor (e.g. VMS),Promociones,0,Cuaderno,Efectivo,no,Disminuir la cantidad del pedido,Semanalmente,\"Categor\\xc3\\xada (e.g. limpieza, aseo personal, comestibles, l\\xc3\\xa1cteos, etc.)\",Solicitar tiempo al cliente para conseguir el producto,0,Totalmente de acuerdo,Totalmente de acuerdo,Totalmente de acuerdo,Ni de acuerdo ni en desacuerdo,De acuerdo,Totalmente de acuerdo,Totalmente de acuerdo,Ni de acuerdo ni en desacuerdo,En desacuerdo,Totalmente de acuerdo,no,Maria Antonia,Flores Contreras,2221261740.0,Jade13_4@hotmail.com,0.0,0.0,8.0,1.0,1.0,0.0,10.0,7.0,0.0,2.0,0.0,60.0,50.0,7.0,0.0,1.0,7.0,6.0\\n266,4dd64f38-8e41-48ff-9a14-b4375b54b7d0,\"November 9, 2022\",2022-11-09 23:06:36 UTC,Juan Pablo Sp\\xc3\\xadnola,SRID=4326;POINT(-98.250701898 19.0338184007),19.0338184007,-98.250701898,San martinito ,1 Photo,Tlapaler\\xc3\\xada ,no,yes,no,\"Security cameras,Smartphone\",2 Photos,no,yes,2022-10-27,Aument\\xc3\\xb3 50% o m\\xc3\\xa1s,No hay emple\\xc3\\xa1ndosela ,yes,En Excel,En Excel,No los uso,yes,yes,yes,\"P\\xc3\\xa1gina web propia,Redes sociales (e.g. Facebook, Instagram),WhatsApp\",\"Efectivo,Transferencia interbancaria\",Efectivo,,,,,0.0,,,,,Aplicaci\\xc3\\xb3n m\\xc3\\xb3vil,no,no,10%,Software especializado,no,\"Entrega a domicilio,Pago de servicios p\\xc3\\xbablicos (e.g. Yastas),Recarga telef\\xc3\\xb3nica,Recepci\\xc3\\xb3n y entrega de paquetes (e.g. Amazon, Mercado Libre)\",Tarde (12:00 - 7:00 pm),Autom\\xc3\\xb3vil,4%,6-10%,No conozco los servicios,Totalmente de acuerdo,Algo de acuerdo,Algo de acuerdo,Totalmente en desacuerdo,Totalmente en desacuerdo,Algo de acuerdo,Algo de acuerdo,Totalmente en desacuerdo,Totalmente en desacuerdo,Totalmente en desacuerdo,Ni de acuerdo ni en desacuerdo,Totalmente en desacuerdo,Sistema especializado del proveedor (e.g. VMS),Promociones,0,Cuaderno,Efectivo,no,Disminuir la cantidad del pedido,Semanalmente,\"Categor\\xc3\\xada (e.g. limpieza, aseo personal, comestibles, l\\xc3\\xa1cteos, etc.)\",Solicitar tiempo al cliente para conseguir el producto,0,Totalmente de acuerdo,Totalmente de acuerdo,Totalmente de acuerdo,Ni de acuerdo ni en desacuerdo,De acuerdo,Totalmente de acuerdo,Totalmente de acuerdo,Ni de acuerdo ni en desacuerdo,En desacuerdo,Totalmente de acuerdo,no,Maria Antonia,Flores Contreras,2221261740.0,Jade13_4@hotmail.com,0.0,0.0,7.0,1.0,0.0,0.0,10.0,7.0,0.0,2.0,0.0,60.0,50.0,7.0,0.0,1.0,7.0,6.0\\n267,f220356d-e266-4266-a036-0695e3e1a655,\"November 9, 2022\",2022-11-09 22:53:38 UTC,Alejandro Matias,SRID=4326;POINT(-98.1672506 19.0720309),19.0720309,-98.1672506,El Bambino,1 Photo,Dairy products,no,no,yes,POS system (i.e. computer + bar code scanner + printer),2 Photos,yes,yes,2022-10-27,Aument\\xc3\\xb3 50% o m\\xc3\\xa1s,No hay emple\\xc3\\xa1ndosela ,yes,En Excel,En Excel,No los uso,yes,yes,yes,\"P\\xc3\\xa1gina web propia,Redes sociales (e.g. Facebook, Instagram),WhatsApp\",\"Efectivo,Transferencia interbancaria\",Efectivo,,,,,0.0,,,,,Aplicaci\\xc3\\xb3n m\\xc3\\xb3vil,no,no,10%,Software especializado,no,\"Entrega a domicilio,Pago de servicios p\\xc3\\xbablicos (e.g. Yastas),Recarga telef\\xc3\\xb3nica,Recepci\\xc3\\xb3n y entrega de paquetes (e.g. Amazon, Mercado Libre)\",Tarde (12:00 - 7:00 pm),Autom\\xc3\\xb3vil,4%,6-10%,No conozco los servicios,Totalmente de acuerdo,Algo de acuerdo,Algo de acuerdo,Totalmente en desacuerdo,Totalmente en desacuerdo,Algo de acuerdo,Algo de acuerdo,Totalmente en desacuerdo,Totalmente en desacuerdo,Totalmente en desacuerdo,Ni de acuerdo ni en desacuerdo,Totalmente en desacuerdo,Sistema especializado del proveedor (e.g. VMS),Promociones,0,Cuaderno,Efectivo,no,Disminuir la cantidad del pedido,Semanalmente,\"Categor\\xc3\\xada (e.g. limpieza, aseo personal, comestibles, l\\xc3\\xa1cteos, etc.)\",Solicitar tiempo al cliente para conseguir el producto,0,Totalmente de acuerdo,Totalmente de acuerdo,Totalmente de acuerdo,Ni de acuerdo ni en desacuerdo,De acuerdo,Totalmente de acuerdo,Totalmente de acuerdo,Ni de acuerdo ni en desacuerdo,En desacuerdo,Totalmente de acuerdo,no,Maria Antonia,Flores Contreras,2221261740.0,Jade13_4@hotmail.com,0.0,2.0,4.0,1.0,0.0,0.0,10.0,7.0,0.0,2.0,0.0,60.0,50.0,7.0,0.0,1.0,7.0,6.0\\n268,38093d8c-7c67-44a2-8a86-483021a0ccbf,\"November 9, 2022\",2022-11-09 22:53:38 UTC,Alejandro Matias,SRID=4326;POINT(-98.1671792 19.0720059),19.0720059,-98.1671792,Rumeech,1 Photo,Tienda de Ropa,no,yes,no,POS system (i.e. computer + bar code scanner + printer),2 Photos,yes,yes,2022-10-27,Aument\\xc3\\xb3 50% o m\\xc3\\xa1s,No hay emple\\xc3\\xa1ndosela ,yes,En Excel,En Excel,No los uso,yes,yes,yes,\"P\\xc3\\xa1gina web propia,Redes sociales (e.g. Facebook, Instagram),WhatsApp\",\"Efectivo,Transferencia interbancaria\",Efectivo,,,,,0.0,,,,,Aplicaci\\xc3\\xb3n m\\xc3\\xb3vil,no,no,10%,Software especializado,no,\"Entrega a domicilio,Pago de servicios p\\xc3\\xbablicos (e.g. Yastas),Recarga telef\\xc3\\xb3nica,Recepci\\xc3\\xb3n y entrega de paquetes (e.g. Amazon, Mercado Libre)\",Tarde (12:00 - 7:00 pm),Autom\\xc3\\xb3vil,4%,6-10%,No conozco los servicios,Totalmente de acuerdo,Algo de acuerdo,Algo de acuerdo,Totalmente en desacuerdo,Totalmente en desacuerdo,Algo de acuerdo,Algo de acuerdo,Totalmente en desacuerdo,Totalmente en desacuerdo,Totalmente en desacuerdo,Ni de acuerdo ni en desacuerdo,Totalmente en desacuerdo,Sistema especializado del proveedor (e.g. VMS),Promociones,0,Cuaderno,Efectivo,no,Disminuir la cantidad del pedido,Semanalmente,\"Categor\\xc3\\xada (e.g. limpieza, aseo personal, comestibles, l\\xc3\\xa1cteos, etc.)\",Solicitar tiempo al cliente para conseguir el producto,0,Totalmente de acuerdo,Totalmente de acuerdo,Totalmente de acuerdo,Ni de acuerdo ni en desacuerdo,De acuerdo,Totalmente de acuerdo,Totalmente de acuerdo,Ni de acuerdo ni en desacuerdo,En desacuerdo,Totalmente de acuerdo,no,Maria Antonia,Flores Contreras,2221261740.0,Jade13_4@hotmail.com,1.0,0.0,3.0,1.0,0.0,0.0,10.0,7.0,0.0,2.0,0.0,60.0,50.0,7.0,0.0,1.0,7.0,6.0\\n269,9e037604-53a4-46d6-b7ca-8f8f1656b3fd,\"November 9, 2022\",2022-11-09 22:53:37 UTC,Alejandro Matias,SRID=4326;POINT(-98.1665939 19.0719822),19.0719822,-98.1665939,Farmacia y perfumeria,1 Photo,Grocery store (aka. nanostore),no,yes,no,POS system (i.e. computer + bar code scanner + printer),2 Photos,yes,yes,2007-07-16,Aument\\xc3\\xb3 50% o m\\xc3\\xa1s,No hay emple\\xc3\\xa1ndosela ,yes,Software especializado + computadora,Software especializado + computadora,No los uso,yes,no,yes,Solo f\\xc3\\xadsico ,Efectivo,Efectivo,,,,,0.0,,,,,Ninguna,no,no,10%,Software especializado,no,\"Entrega a domicilio,Pago de servicios p\\xc3\\xbablicos (e.g. Yastas),Recarga telef\\xc3\\xb3nica,Recepci\\xc3\\xb3n y entrega de paquetes (e.g. Amazon, Mercado Libre)\",Tarde (12:00 - 7:00 pm),Autom\\xc3\\xb3vil,4%,6-10%,No conozco los servicios,Totalmente de acuerdo,Algo de acuerdo,Algo de acuerdo,Totalmente en desacuerdo,Totalmente en desacuerdo,Algo de acuerdo,Algo de acuerdo,Totalmente en desacuerdo,Totalmente en desacuerdo,Totalmente en desacuerdo,Ni de acuerdo ni en desacuerdo,Totalmente en desacuerdo,Sistema especializado del proveedor (e.g. VMS),Promociones,0,Cuaderno,Efectivo,no,Disminuir la cantidad del pedido,Semanalmente,\"Categor\\xc3\\xada (e.g. limpieza, aseo personal, comestibles, l\\xc3\\xa1cteos, etc.)\",Solicitar tiempo al cliente para conseguir el producto,0,Totalmente de acuerdo,Totalmente de acuerdo,Totalmente de acuerdo,Ni de acuerdo ni en desacuerdo,De acuerdo,Totalmente de acuerdo,Totalmente de acuerdo,Ni de acuerdo ni en desacuerdo,En desacuerdo,Totalmente de acuerdo,no,Maria Antonia,Flores Contreras,2221261740.0,Jade13_4@hotmail.com,2.0,5.0,14.0,0.0,0.0,0.0,10.0,5.0,0.0,2.0,0.0,60.0,50.0,7.0,0.0,1.0,7.0,6.0\\n270,d2cbdf50-cacb-4d95-be0a-a526152ef6ab,\"November 9, 2022\",2022-11-09 22:22:22 UTC,Luis Lara,SRID=4326;POINT(-98.2507821267 19.0333071677),19.0333071677,-98.2507821267,Miscel\\xc3\\xa1nea ,1 Photo,Grocery store (aka. nanostore),no,no,yes,Smartphone,2 Photos,yes,yes,2022-10-09,Disminuy\\xc3\\xb3 15%,No hay emple\\xc3\\xa1ndosela ,yes,En papel,En papel,No los uso,no,yes,no,Solo f\\xc3\\xadsico ,Efectivo,Efectivo,,,,,0.0,,,,,Ninguna,no,no,10%,Cuaderno,no,Ninguno,Tarde (12:00 - 7:00 pm),Autom\\xc3\\xb3vil,2%,1-5%,No conozco los servicios,Totalmente de acuerdo,Algo de acuerdo,Algo de acuerdo,Totalmente en desacuerdo,Algo en desacuerdo,Totalmente en desacuerdo,Totalmente en desacuerdo,Totalmente en desacuerdo,Totalmente en desacuerdo,Totalmente en desacuerdo,Ni de acuerdo ni en desacuerdo,Totalmente en desacuerdo,Sistema especializado del proveedor (e.g. VMS),Promociones,0,Cuaderno,Efectivo,no,Disminuir la cantidad del pedido,Semanalmente,\"Categor\\xc3\\xada (e.g. limpieza, aseo personal, comestibles, l\\xc3\\xa1cteos, etc.)\",Solicitar tiempo al cliente para conseguir el producto,0,Totalmente de acuerdo,Totalmente de acuerdo,Totalmente de acuerdo,Ni de acuerdo ni en desacuerdo,De acuerdo,Totalmente de acuerdo,Totalmente de acuerdo,Ni de acuerdo ni en desacuerdo,En desacuerdo,Totalmente de acuerdo,no,Maria Antonia,Flores Contreras,2221261740.0,Jade13_4@hotmail.com,1.0,2.0,6.0,1.0,0.0,0.0,4.4,5.0,0.0,2.0,0.0,0.0,7.0,7.0,0.0,1.0,7.0,6.0\\n271,86c15891-fffa-4a40-b7e7-93c88034c245,\"November 9, 2022\",2022-11-09 21:13:34 UTC,Marino Guti\\xc3\\xa9rrez,SRID=4326;POINT(-98.2210735825 19.0146935766),19.0146935766,-98.2210735825,Freliz,1 Photo,Tienda de ropa,no,yes,no,Nothing ,2 Photos,yes,yes,2021-10-09,No cambi\\xc3\\xb3,No cambi\\xc3\\xb3,no,En Excel,En Excel,No los uso,yes,no,no,\"Redes sociales (e.g. Facebook, Instagram),WhatsApp\",Efectivo,Efectivo,,,,,0.0,,,,,Redes sociales,no,no,20%,Ninguna,no,Ninguno,Tarde (12:00 - 7:00 pm),Autom\\xc3\\xb3vil,2%,1-5%,Se vende ropa,Totalmente de acuerdo,Totalmente en desacuerdo,Totalmente de acuerdo,Totalmente en desacuerdo,Totalmente en desacuerdo,Totalmente en desacuerdo,Totalmente en desacuerdo,Totalmente en desacuerdo,Totalmente en desacuerdo,Totalmente en desacuerdo,Totalmente en desacuerdo,Totalmente de acuerdo,Compra directa,Consignaci\\xc3\\xb3n,0,Compra directa,Efectivo,no,Disminuir la cantidad del pedido,Quincenalmente,\"Categor\\xc3\\xada (e.g. limpieza, aseo personal, comestibles, l\\xc3\\xa1cteos, etc.)\",\"Ofrecer un producto sustituto,Solicitar tiempo al cliente para conseguir el producto\",0,Totalmente de acuerdo,Totalmente de acuerdo,Totalmente de acuerdo,Ni de acuerdo ni en desacuerdo,Totalmente de acuerdo,Totalmente de acuerdo,Totalmente de acuerdo,De acuerdo,Totalmente de acuerdo,Totalmente de acuerdo,yes,Maria Antonia,Flores Contreras,2221261740.0,Jade13_4@hotmail.com,1.0,0.0,5.0,1.0,1.0,3.0,7.0,2.0,0.0,2.0,0.0,0.0,7.0,7.0,0.0,1.0,1.0,0.0\\n272,0f1de586-cf6f-4e28-924d-e85f3024587c,\"November 9, 2022\",2022-11-09 20:52:05 UTC,Sa\\xc3\\xbal Cuervo,SRID=4326;POINT(-98.2208111231 19.0145787271),19.0145787271,-98.2208111231,La cremer\\xc3\\xada,1 Photo,Grocery store (aka. nanostore),yes,no,yes,\"Dataphone (i.e. card payments),Security cameras,Smartphone\",1 Photo,yes,yes,2020-11-09,No cambi\\xc3\\xb3,No cambi\\xc3\\xb3,yes,En papel,En papel,No los uso,no,no,yes,\"Llamada a Tel\\xc3\\xa9fono fijo,Redes sociales (e.g. Facebook, Instagram),WhatsApp\",\"Efectivo,Tarjeta de d\\xc3\\xa9bito y/o cr\\xc3\\xa9dito\",Efectivo,,,,,0.0,,,,,Cuaderno,yes,no,20%,Cuaderno,no,Recarga telef\\xc3\\xb3nica,Tarde (12:00 - 7:00 pm),Autom\\xc3\\xb3vil,2%,1-5%,Se quiere involucrar,Totalmente de acuerdo,Totalmente en desacuerdo,Totalmente de acuerdo,Totalmente en desacuerdo,Totalmente en desacuerdo,Totalmente en desacuerdo,Totalmente en desacuerdo,Algo de acuerdo,Algo de acuerdo,Totalmente en desacuerdo,Totalmente en desacuerdo,Totalmente en desacuerdo,En persona,Consignaci\\xc3\\xb3n,0,Cuaderno,Efectivo,no,Disminuir la cantidad del pedido,Diariamente,\"Categor\\xc3\\xada (e.g. limpieza, aseo personal, comestibles, l\\xc3\\xa1cteos, etc.)\",Ofrecer un producto sustituto,50% +,Totalmente de acuerdo,Ni de acuerdo ni en desacuerdo,Ni de acuerdo ni en desacuerdo,Totalmente en desacuerdo,Totalmente en desacuerdo,Totalmente en desacuerdo,Totalmente en desacuerdo,Totalmente en desacuerdo,Totalmente en desacuerdo,Totalmente en desacuerdo,no,Guillermo Carlos,Guerrero Herrera,2225328938.0,barragan_adriana@hotmail.com,6.0,3.0,20.0,2.0,2.0,3.0,2.0,2.0,0.0,2.0,0.0,0.0,7.0,7.0,0.0,1.0,1.0,22.0\\n273,af5c48b5-a916-47a6-aacc-1128ea1e728e,\"November 9, 2022\",2022-11-09 20:38:24 UTC,Ram\\xc3\\xb3n Alberto Gast\\xc3\\xa9lum,SRID=4326;POINT(-98.1669275557 19.0746506117),19.0746506117,-98.1669275557,Vinos y Licores Lucy ,1 Photo,Grocery store (aka. nanostore),yes,yes,no,Smartphone,1 Photo,no,yes,2013-11-09,No cambi\\xc3\\xb3,No cambi\\xc3\\xb3,yes,En papel,En papel,No los uso,no,yes,no,\"Llamada a Tel\\xc3\\xa9fono fijo,Redes sociales (e.g. Facebook, Instagram),WhatsApp\",Efectivo,Efectivo,,,,,1.0,,,,,Redes sociales,no,no,50% +,Ninguna,no,\"Pago de servicios p\\xc3\\xbablicos (e.g. Yastas),Recarga telef\\xc3\\xb3nica\",Tarde (12:00 - 7:00 pm),Autom\\xc3\\xb3vil,1%,1-5%,Se quiere involucrar,Totalmente de acuerdo,Algo de acuerdo,Algo de acuerdo,Algo de acuerdo,Totalmente en desacuerdo,Totalmente en desacuerdo,Totalmente en desacuerdo,Totalmente en desacuerdo,Totalmente en desacuerdo,Totalmente en desacuerdo,Totalmente en desacuerdo,Totalmente en desacuerdo,En persona,Descuento por compras anticipadas,0,Ninguna,Efectivo,no,Disminuir la cantidad del pedido,Diariamente,Margen de utilidad,Ofrecer un producto sustituto,0,Totalmente de acuerdo,De acuerdo,De acuerdo,De acuerdo,De acuerdo,De acuerdo,De acuerdo,De acuerdo,De acuerdo,De acuerdo,yes,Guillermo Carlos,Guerrero Herrera,2225328938.0,barragan_adriana@hotmail.com,1.0,2.0,10.0,2.0,0.0,0.0,2.0,2.0,1.0,15.0,0.0,7.0,7.0,7.0,7.0,1.0,2.0,20.0\\n274,4790411b-df1d-44f0-a659-6d99e26ae765,\"November 9, 2022\",2022-11-09 20:32:31 UTC,Jes\\xc3\\xbas Herrera,SRID=4326;POINT(-98.2607148813 19.02073466),19.02073466,-98.2607148813,Casa de los dulces ,1 Photo,Grocery store (aka. nanostore),no,no,no,\"Analog cash register,Dataphone (i.e. card payments),Smartphone\",1 Photo,no,yes,2013-11-09,No cambi\\xc3\\xb3,No cambi\\xc3\\xb3,yes,En papel,En papel,No los uso,no,yes,no,\"Llamada a Tel\\xc3\\xa9fono fijo,Redes sociales (e.g. Facebook, Instagram),WhatsApp\",Efectivo,Efectivo,,,,,1.0,,,,,Redes sociales,no,no,50% +,Ninguna,no,\"Pago de servicios p\\xc3\\xbablicos (e.g. Yastas),Recarga telef\\xc3\\xb3nica\",Tarde (12:00 - 7:00 pm),Autom\\xc3\\xb3vil,1%,1-5%,Se quiere involucrar,Totalmente de acuerdo,Algo de acuerdo,Algo de acuerdo,Algo de acuerdo,Totalmente en desacuerdo,Totalmente en desacuerdo,Totalmente en desacuerdo,Totalmente en desacuerdo,Totalmente en desacuerdo,Totalmente en desacuerdo,Totalmente en desacuerdo,Totalmente en desacuerdo,En persona,Descuento por compras anticipadas,0,Ninguna,Efectivo,no,Disminuir la cantidad del pedido,Diariamente,Margen de utilidad,Ofrecer un producto sustituto,0,Totalmente de acuerdo,De acuerdo,De acuerdo,De acuerdo,De acuerdo,De acuerdo,De acuerdo,De acuerdo,De acuerdo,De acuerdo,yes,Guillermo Carlos,Guerrero Herrera,2225328938.0,barragan_adriana@hotmail.com,0.0,0.0,3.0,2.0,0.0,0.0,2.0,2.0,1.0,15.0,0.0,7.0,7.0,7.0,7.0,1.0,2.0,20.0\\n275,e70db20a-25db-412b-9a71-7df285c92a3d,\"November 9, 2022\",2022-11-09 20:32:30 UTC,Jes\\xc3\\xbas Herrera,SRID=4326;POINT(-98.2610655503 19.0201986801),19.0201986801,-98.2610655503,Alondra,1 Photo,Dairy products,yes,yes,no,Smartphone,1 Photo,no,yes,2013-11-09,No cambi\\xc3\\xb3,No cambi\\xc3\\xb3,yes,En papel,En papel,No los uso,no,yes,no,\"Llamada a Tel\\xc3\\xa9fono fijo,Redes sociales (e.g. Facebook, Instagram),WhatsApp\",Efectivo,Efectivo,,,,,1.0,,,,,Redes sociales,no,no,50% +,Ninguna,no,\"Pago de servicios p\\xc3\\xbablicos (e.g. Yastas),Recarga telef\\xc3\\xb3nica\",Tarde (12:00 - 7:00 pm),Autom\\xc3\\xb3vil,1%,1-5%,Se quiere involucrar,Totalmente de acuerdo,Algo de acuerdo,Algo de acuerdo,Algo de acuerdo,Totalmente en desacuerdo,Totalmente en desacuerdo,Totalmente en desacuerdo,Totalmente en desacuerdo,Totalmente en desacuerdo,Totalmente en desacuerdo,Totalmente en desacuerdo,Totalmente en desacuerdo,En persona,Descuento por compras anticipadas,0,Ninguna,Efectivo,no,Disminuir la cantidad del pedido,Diariamente,Margen de utilidad,Ofrecer un producto sustituto,0,Totalmente de acuerdo,De acuerdo,De acuerdo,De acuerdo,De acuerdo,De acuerdo,De acuerdo,De acuerdo,De acuerdo,De acuerdo,yes,Guillermo Carlos,Guerrero Herrera,2225328938.0,barragan_adriana@hotmail.com,0.0,0.0,8.0,2.0,0.0,0.0,2.0,2.0,1.0,15.0,0.0,7.0,7.0,7.0,7.0,1.0,2.0,20.0\\n276,6311502b-fa7b-45fc-817f-c229447b7fe1,\"November 9, 2022\",2022-11-09 18:58:57 UTC,Pedro Contreras,SRID=4326;POINT(-98.1671773364 19.0721155051),19.0721155051,-98.1671773364,S\\xc3\\xbaper Panader\\xc3\\xada Mickey ,1 Photo,Bread ,no,yes,no,Smartphone,1 Photo,yes,yes,2013-11-09,No cambi\\xc3\\xb3,No cambi\\xc3\\xb3,yes,En papel,En papel,No los uso,no,yes,no,\"Llamada a Tel\\xc3\\xa9fono fijo,Redes sociales (e.g. Facebook, Instagram),WhatsApp\",Efectivo,Efectivo,,,,,1.0,,,,,Redes sociales,no,no,50% +,Ninguna,no,\"Pago de servicios p\\xc3\\xbablicos (e.g. Yastas),Recarga telef\\xc3\\xb3nica\",Tarde (12:00 - 7:00 pm),Autom\\xc3\\xb3vil,1%,1-5%,Se quiere involucrar,Totalmente de acuerdo,Algo de acuerdo,Algo de acuerdo,Algo de acuerdo,Totalmente en desacuerdo,Totalmente en desacuerdo,Totalmente en desacuerdo,Totalmente en desacuerdo,Totalmente en desacuerdo,Totalmente en desacuerdo,Totalmente en desacuerdo,Totalmente en desacuerdo,En persona,Descuento por compras anticipadas,0,Ninguna,Efectivo,no,Disminuir la cantidad del pedido,Diariamente,Margen de utilidad,Ofrecer un producto sustituto,0,Totalmente de acuerdo,De acuerdo,De acuerdo,De acuerdo,De acuerdo,De acuerdo,De acuerdo,De acuerdo,De acuerdo,De acuerdo,yes,Guillermo Carlos,Guerrero Herrera,2225328938.0,barragan_adriana@hotmail.com,1.0,0.0,3.0,2.0,0.0,0.0,2.0,2.0,1.0,15.0,0.0,7.0,7.0,7.0,7.0,1.0,2.0,20.0\\n277,ea013169-99dd-4027-ac70-91c66161a1a5,\"November 9, 2022\",2022-11-09 18:49:58 UTC,Eduardo Z\\xc3\\xa1rate,SRID=4326;POINT(-98.1668915972 19.0719532632),19.0719532632,-98.1668915972,El Antojo,1 Photo,Cafeteria,no,no,no,Analog cash register,1 Photo,yes,yes,2022-05-11,No cambi\\xc3\\xb3,No cambi\\xc3\\xb3,yes,En papel,En papel,No los uso,no,yes,no,\"Llamada a Tel\\xc3\\xa9fono fijo,Redes sociales (e.g. Facebook, Instagram),WhatsApp\",Efectivo,Efectivo,,,,,1.0,,,,,Redes sociales,no,no,50% +,Ninguna,no,\"Pago de servicios p\\xc3\\xbablicos (e.g. Yastas),Recarga telef\\xc3\\xb3nica\",Tarde (12:00 - 7:00 pm),Autom\\xc3\\xb3vil,1%,1-5%,Se quiere involucrar,Totalmente de acuerdo,Algo de acuerdo,Algo de acuerdo,Algo de acuerdo,Totalmente en desacuerdo,Totalmente en desacuerdo,Totalmente en desacuerdo,Totalmente en desacuerdo,Totalmente en desacuerdo,Totalmente en desacuerdo,Totalmente en desacuerdo,Totalmente en desacuerdo,En persona,Descuento por compras anticipadas,0,Ninguna,Efectivo,no,Disminuir la cantidad del pedido,Diariamente,Margen de utilidad,Ofrecer un producto sustituto,0,Totalmente de acuerdo,De acuerdo,De acuerdo,De acuerdo,De acuerdo,De acuerdo,De acuerdo,De acuerdo,De acuerdo,De acuerdo,yes,Guillermo Carlos,Guerrero Herrera,2225328938.0,barragan_adriana@hotmail.com,0.0,1.0,1.0,0.0,0.0,0.0,8.0,2.0,1.0,15.0,0.0,7.0,7.0,7.0,7.0,1.0,2.0,20.0\\n278,fa403799-e3d6-427b-accc-4160832a263b,\"November 9, 2022\",2022-11-09 18:32:01 UTC,Pedro Contreras,SRID=4326;POINT(-98.1664877444 19.0715882889),19.0715882889,-98.1664877444,Leydi Goo,1 Photo,Est\\xc3\\xa9tica ,no,no,no,\"POS system (i.e. computer + bar code scanner + printer),Smartphone\",1 Photo,no,yes,2020-03-09,No cambi\\xc3\\xb3,Aument\\xc3\\xb3 15%,yes,Software especializado + computadora,Software especializado + computadora,No los uso,yes,no,yes,Llamada a Tel\\xc3\\xa9fono fijo,\"Efectivo,Tarjeta de d\\xc3\\xa9bito y/o cr\\xc3\\xa9dito,Transferencia interbancaria\",Efectivo,,,,,1.0,,,,,Ninguna,no,no,5%,Ninguna,no,Recarga telef\\xc3\\xb3nica,Tarde (12:00 - 7:00 pm),Autom\\xc3\\xb3vil,1%,1-5%,Se quiere involucrar,Totalmente de acuerdo,Algo de acuerdo,Algo de acuerdo,Totalmente en desacuerdo,Totalmente en desacuerdo,Totalmente en desacuerdo,Totalmente en desacuerdo,Totalmente en desacuerdo,Totalmente en desacuerdo,Totalmente en desacuerdo,Totalmente en desacuerdo,Totalmente en desacuerdo,\"En persona,P\\xc3\\xa1gina web del proveedor\",\"Consignaci\\xc3\\xb3n,Cr\\xc3\\xa9dito,Descuento por compras anticipadas,Recompra\",0,Ninguna,Efectivo,no,Disminuir la cantidad del pedido,Diariamente,Tama\\xc3\\xb1o,\"Ofrecer un producto sustituto,Solicitar tiempo al cliente para conseguir el producto\",10%,Totalmente de acuerdo,De acuerdo,Totalmente de acuerdo,Totalmente de acuerdo,Totalmente de acuerdo,Totalmente de acuerdo,Totalmente de acuerdo,Totalmente de acuerdo,Totalmente de acuerdo,Totalmente de acuerdo,no,Brandon,Rivera Ibarra ,2229653939.0,riverabrandon7@gmail.com,1.0,0.0,1.0,0.0,0.0,2.0,1.0,7.0,1.0,15.0,0.0,7.0,7.0,7.0,7.0,1.0,7.0,30.0\\n279,b2783738-b018-49e2-849d-da909ee5058a,\"November 9, 2022\",2022-11-09 18:32:01 UTC,Pedro Contreras,SRID=4326;POINT(-98.1666851677 19.0716345616),19.0716345616,-98.1666851677,Kanaleon!,1 Photo,Butcher shop,no,no,yes,Smartphone,1 Photo,no,yes,2020-03-09,No cambi\\xc3\\xb3,Aument\\xc3\\xb3 15%,yes,Software especializado + computadora,Software especializado + computadora,No los uso,yes,no,yes,Llamada a Tel\\xc3\\xa9fono fijo,\"Efectivo,Tarjeta de d\\xc3\\xa9bito y/o cr\\xc3\\xa9dito,Transferencia interbancaria\",Efectivo,,,,,1.0,,,,,Ninguna,no,no,5%,Ninguna,no,Recarga telef\\xc3\\xb3nica,Tarde (12:00 - 7:00 pm),Autom\\xc3\\xb3vil,1%,1-5%,Se quiere involucrar,Totalmente de acuerdo,Algo de acuerdo,Algo de acuerdo,Totalmente en desacuerdo,Totalmente en desacuerdo,Totalmente en desacuerdo,Totalmente en desacuerdo,Totalmente en desacuerdo,Totalmente en desacuerdo,Totalmente en desacuerdo,Totalmente en desacuerdo,Totalmente en desacuerdo,\"En persona,P\\xc3\\xa1gina web del proveedor\",\"Consignaci\\xc3\\xb3n,Cr\\xc3\\xa9dito,Descuento por compras anticipadas,Recompra\",0,Ninguna,Efectivo,no,Disminuir la cantidad del pedido,Diariamente,Tama\\xc3\\xb1o,\"Ofrecer un producto sustituto,Solicitar tiempo al cliente para conseguir el producto\",10%,Totalmente de acuerdo,De acuerdo,Totalmente de acuerdo,Totalmente de acuerdo,Totalmente de acuerdo,Totalmente de acuerdo,Totalmente de acuerdo,Totalmente de acuerdo,Totalmente de acuerdo,Totalmente de acuerdo,no,Brandon,Rivera Ibarra ,2229653939.0,riverabrandon7@gmail.com,2.0,3.0,0.0,0.0,0.0,2.0,1.0,7.0,1.0,15.0,0.0,7.0,7.0,7.0,7.0,1.0,7.0,30.0\\n280,9c4c7985-fc20-4d2a-ae51-a65c584f14eb,\"November 9, 2022\",2022-11-09 18:32:00 UTC,Pedro Contreras,SRID=4326;POINT(-98.1665939559 19.0715397103),19.0715397103,-98.1665939559,Fruter\\xc3\\xada Las Maravillas ,1 Photo,Produce (fruits & vegetables),no,yes,yes,Smartphone,1 Photo,no,yes,2020-03-09,No cambi\\xc3\\xb3,Aument\\xc3\\xb3 15%,yes,Software especializado + computadora,Software especializado + computadora,No los uso,yes,no,yes,Llamada a Tel\\xc3\\xa9fono fijo,\"Efectivo,Tarjeta de d\\xc3\\xa9bito y/o cr\\xc3\\xa9dito,Transferencia interbancaria\",Efectivo,,,,,1.0,,,,,Ninguna,no,no,5%,Ninguna,no,Recarga telef\\xc3\\xb3nica,Tarde (12:00 - 7:00 pm),Autom\\xc3\\xb3vil,1%,1-5%,Se quiere involucrar,Totalmente de acuerdo,Algo de acuerdo,Algo de acuerdo,Totalmente en desacuerdo,Totalmente en desacuerdo,Totalmente en desacuerdo,Totalmente en desacuerdo,Totalmente en desacuerdo,Totalmente en desacuerdo,Totalmente en desacuerdo,Totalmente en desacuerdo,Totalmente en desacuerdo,\"En persona,P\\xc3\\xa1gina web del proveedor\",\"Consignaci\\xc3\\xb3n,Cr\\xc3\\xa9dito,Descuento por compras anticipadas,Recompra\",0,Ninguna,Efectivo,no,Disminuir la cantidad del pedido,Diariamente,Tama\\xc3\\xb1o,\"Ofrecer un producto sustituto,Solicitar tiempo al cliente para conseguir el producto\",10%,Totalmente de acuerdo,De acuerdo,Totalmente de acuerdo,Totalmente de acuerdo,Totalmente de acuerdo,Totalmente de acuerdo,Totalmente de acuerdo,Totalmente de acuerdo,Totalmente de acuerdo,Totalmente de acuerdo,no,Brandon,Rivera Ibarra ,2229653939.0,riverabrandon7@gmail.com,2.0,0.0,3.0,0.0,0.0,2.0,1.0,7.0,1.0,15.0,0.0,7.0,7.0,7.0,7.0,1.0,7.0,30.0\\n281,53c25f08-1c1b-4c1c-97d5-b45c940735cc,\"November 9, 2022\",2022-11-09 18:23:42 UTC,Eduardo Z\\xc3\\xa1rate,SRID=4326;POINT(-98.1652797 19.0740419),19.0740419,-98.1652797,Todo Marravillas,1 Photo,limpieza,no,yes,no,POS system (i.e. computer + bar code scanner + printer),1 Photo,yes,yes,2020-03-09,No cambi\\xc3\\xb3,Aument\\xc3\\xb3 15%,yes,Software especializado + computadora,Software especializado + computadora,No los uso,yes,no,yes,Llamada a Tel\\xc3\\xa9fono fijo,\"Efectivo,Tarjeta de d\\xc3\\xa9bito y/o cr\\xc3\\xa9dito,Transferencia interbancaria\",Efectivo,,,,,1.0,,,,,Ninguna,no,no,5%,Ninguna,no,Recarga telef\\xc3\\xb3nica,Tarde (12:00 - 7:00 pm),Autom\\xc3\\xb3vil,1%,1-5%,Se quiere involucrar,Totalmente de acuerdo,Algo de acuerdo,Algo de acuerdo,Totalmente en desacuerdo,Totalmente en desacuerdo,Totalmente en desacuerdo,Totalmente en desacuerdo,Totalmente en desacuerdo,Totalmente en desacuerdo,Totalmente en desacuerdo,Totalmente en desacuerdo,Totalmente en desacuerdo,\"En persona,P\\xc3\\xa1gina web del proveedor\",\"Consignaci\\xc3\\xb3n,Cr\\xc3\\xa9dito,Descuento por compras anticipadas,Recompra\",0,Ninguna,Efectivo,no,Disminuir la cantidad del pedido,Diariamente,Tama\\xc3\\xb1o,\"Ofrecer un producto sustituto,Solicitar tiempo al cliente para conseguir el producto\",10%,Totalmente de acuerdo,De acuerdo,Totalmente de acuerdo,Totalmente de acuerdo,Totalmente de acuerdo,Totalmente de acuerdo,Totalmente de acuerdo,Totalmente de acuerdo,Totalmente de acuerdo,Totalmente de acuerdo,no,Brandon,Rivera Ibarra ,2229653939.0,riverabrandon7@gmail.com,0.0,0.0,2.0,0.0,0.0,2.0,1.0,7.0,1.0,15.0,0.0,7.0,7.0,7.0,7.0,1.0,7.0,30.0\\n282,c67ce802-7010-4d33-950d-48902e5c7de2,\"November 9, 2022\",2022-11-09 18:23:41 UTC,Eduardo Z\\xc3\\xa1rate,SRID=4326;POINT(-98.1655042246 19.0734945238),19.0734945238,-98.1655042246,S\\xc3\\xbaper 45,1 Photo,Dairy products,no,no,yes,\"Analog cash register,POS system (i.e. computer + bar code scanner + printer),Security cameras\",1 Photo,yes,yes,2010-11-09,No cambi\\xc3\\xb3,Aument\\xc3\\xb3 15%,yes,Software especializado + computadora,Software especializado + computadora,No los uso,yes,no,yes,Llamada a Tel\\xc3\\xa9fono fijo,\"Efectivo,Tarjeta de d\\xc3\\xa9bito y/o cr\\xc3\\xa9dito\",Efectivo,,,,,1.0,,,,,Ninguna,no,no,5%,Ninguna,no,Recarga telef\\xc3\\xb3nica,Tarde (12:00 - 7:00 pm),Autom\\xc3\\xb3vil,1%,1-5%,Se quiere involucrar,Totalmente de acuerdo,Algo de acuerdo,Totalmente de acuerdo,Totalmente en desacuerdo,Totalmente en desacuerdo,Totalmente en desacuerdo,Totalmente en desacuerdo,Totalmente en desacuerdo,Totalmente en desacuerdo,Totalmente en desacuerdo,Totalmente en desacuerdo,Totalmente en desacuerdo,\"En persona,P\\xc3\\xa1gina web del proveedor\",\"Consignaci\\xc3\\xb3n,Cr\\xc3\\xa9dito,Descuento por compras anticipadas,Recompra\",0,Ninguna,Efectivo,no,Disminuir la cantidad del pedido,Diariamente,Margen de utilidad,\"Ofrecer un producto sustituto,Solicitar tiempo al cliente para conseguir el producto\",0,Totalmente de acuerdo,De acuerdo,Totalmente de acuerdo,Totalmente de acuerdo,Totalmente de acuerdo,Totalmente de acuerdo,Totalmente de acuerdo,Totalmente de acuerdo,Totalmente de acuerdo,Totalmente de acuerdo,no,Brandon,Rivera Ibarra ,2229653939.0,riverabrandon7@gmail.com,2.0,1.6,24.0,4.0,4.0,2.0,1.0,7.0,1.0,15.0,0.0,7.0,7.0,7.0,7.0,1.0,7.0,30.0\\n283,adadd94c-68ad-4bfa-a816-ba4c46a8a781,\"November 9, 2022\",2022-11-09 18:23:41 UTC,Eduardo Z\\xc3\\xa1rate,SRID=4326;POINT(-98.1654552743 19.0735515603),19.0735515603,-98.1654552743,S\\xc3\\xbaper Bendito Hermanos,1 Photo,Dairy products,yes,no,yes,Analog cash register,1 Photo,yes,yes,2014-10-09,No cambi\\xc3\\xb3,No cambi\\xc3\\xb3,yes,Software especializado + computadora,Software especializado + computadora,No los uso,yes,yes,yes,\"Aplicaci\\xc3\\xb3n m\\xc3\\xb3vil (e.g. Rappi, Uber Eats),Llamada a Tel\\xc3\\xa9fono celular,Llamada a Tel\\xc3\\xa9fono fijo,Redes sociales (e.g. Facebook, Instagram)\",\"Efectivo,Tarjeta de d\\xc3\\xa9bito y/o cr\\xc3\\xa9dito\",Efectivo,,,,,5.0,,,,,Redes sociales,no,no,20%,Ninguna,yes,\"Entrega a domicilio,Pago de servicios p\\xc3\\xbablicos (e.g. Yastas),Recarga telef\\xc3\\xb3nica\",Tarde (12:00 - 7:00 pm),Autom\\xc3\\xb3vil,5%,6-10%,Se quiere involucrar,Totalmente de acuerdo,Totalmente de acuerdo,Totalmente de acuerdo,Totalmente de acuerdo,Algo de acuerdo,Totalmente en desacuerdo,Totalmente en desacuerdo,Totalmente en desacuerdo,Totalmente en desacuerdo,Totalmente en desacuerdo,Totalmente en desacuerdo,Ni de acuerdo ni en desacuerdo,\"En persona,Llamada telef\\xc3\\xb3nica\",\"Consignaci\\xc3\\xb3n,Cr\\xc3\\xa9dito,Descuento por compras anticipadas,Recompra\",3-5%,Ninguna,\"Efectivo,Transferencia interbancaria\",no,Disminuir la cantidad del pedido,Diariamente,\"Frecuencia de venta,Margen de utilidad\",Solicitar tiempo al cliente para conseguir el producto,40%,Totalmente de acuerdo,Totalmente de acuerdo,Totalmente de acuerdo,Totalmente de acuerdo,Totalmente de acuerdo,Totalmente de acuerdo,Totalmente de acuerdo,Totalmente de acuerdo,Totalmente de acuerdo,Totalmente de acuerdo,no,Brandon,Rivera Ibarra ,2229653939.0,riverabrandon7@gmail.com,2.0,6.0,30.0,3.0,3.0,7.0,1.0,7.0,0.9,15.0,0.0,7.0,7.0,7.0,7.0,1.0,7.0,30.0\\n284,93e02631-440e-466f-b05d-69e301fbaab0,\"November 9, 2022\",2022-11-09 18:15:31 UTC,Eduardo Z\\xc3\\xa1rate,SRID=4326;POINT(-98.1659044691 19.072871427),19.072871427,-98.1659044691,No name ,1 Photo,Micro-restaurant (aka. fondita),yes,no,yes,Smartphone,1 Photo,no,yes,2002-11-09,Aument\\xc3\\xb3 25%,Aument\\xc3\\xb3 15%,yes,\"En Excel,En papel\",\"En Excel,En papel\",No los uso,yes,yes,yes,\"Aplicaci\\xc3\\xb3n m\\xc3\\xb3vil (e.g. Rappi, Uber Eats),Llamada a Tel\\xc3\\xa9fono fijo,Redes sociales (e.g. Facebook, Instagram),WhatsApp\",\"Efectivo,Tarjeta de d\\xc3\\xa9bito y/o cr\\xc3\\xa9dito,Transferencia interbancaria\",Efectivo,,,,,1.0,,,,,Aplicaci\\xc3\\xb3n m\\xc3\\xb3vil,no,no,50% +,Ninguna,no,Ninguno,Tarde (12:00 - 7:00 pm),Autom\\xc3\\xb3vil,5%,11-15%,Se quiere involucrar,Totalmente de acuerdo,Totalmente de acuerdo,Totalmente de acuerdo,Ni de acuerdo ni en desacuerdo,Totalmente en desacuerdo,Algo en desacuerdo,Algo en desacuerdo,Algo en desacuerdo,Algo en desacuerdo,Algo en desacuerdo,Algo en desacuerdo,Algo en desacuerdo,En persona,Cr\\xc3\\xa9dito,0,Ninguna,Efectivo,yes,Disminuir la cantidad del pedido,Semanalmente,Frecuencia de venta,Solicitar tiempo al cliente para conseguir el producto,30%,Totalmente de acuerdo,De acuerdo,De acuerdo,De acuerdo,De acuerdo,De acuerdo,De acuerdo,De acuerdo,De acuerdo,De acuerdo,no,Brandon,Rivera Ibarra ,2229653939.0,riverabrandon7@gmail.com,1.0,1.0,1.0,1.0,1.0,0.0,2.0,4.0,1.0,15.0,0.0,1.0,7.0,21.0,0.0,1.0,4.0,20.0\\n285,0591b725-62b4-4871-b3c5-ccbff36ca577,\"November 9, 2022\",2022-11-09 17:59:10 UTC,Eduardo Z\\xc3\\xa1rate,SRID=4326;POINT(-98.1665167585 19.0720983908),19.0720983908,-98.1665167585,Memelitas Ame,1 Photo,Micro-restaurant (aka. fondita),no,no,yes,Smartphone,1 Photo,no,yes,2002-11-09,Aument\\xc3\\xb3 25%,Aument\\xc3\\xb3 15%,yes,\"En Excel,En papel\",\"En Excel,En papel\",No los uso,yes,yes,yes,\"Aplicaci\\xc3\\xb3n m\\xc3\\xb3vil (e.g. Rappi, Uber Eats),Llamada a Tel\\xc3\\xa9fono fijo,Redes sociales (e.g. Facebook, Instagram),WhatsApp\",\"Efectivo,Tarjeta de d\\xc3\\xa9bito y/o cr\\xc3\\xa9dito,Transferencia interbancaria\",Efectivo,,,,,1.0,,,,,Aplicaci\\xc3\\xb3n m\\xc3\\xb3vil,no,no,50% +,Ninguna,no,Ninguno,Tarde (12:00 - 7:00 pm),Autom\\xc3\\xb3vil,5%,11-15%,Se quiere involucrar,Totalmente de acuerdo,Totalmente de acuerdo,Totalmente de acuerdo,Ni de acuerdo ni en desacuerdo,Totalmente en desacuerdo,Algo en desacuerdo,Algo en desacuerdo,Algo en desacuerdo,Algo en desacuerdo,Algo en desacuerdo,Algo en desacuerdo,Algo en desacuerdo,En persona,Cr\\xc3\\xa9dito,0,Ninguna,Efectivo,yes,Disminuir la cantidad del pedido,Semanalmente,Frecuencia de venta,Solicitar tiempo al cliente para conseguir el producto,30%,Totalmente de acuerdo,De acuerdo,De acuerdo,De acuerdo,De acuerdo,De acuerdo,De acuerdo,De acuerdo,De acuerdo,De acuerdo,no,Brandon,Rivera Ibarra ,2229653939.0,riverabrandon7@gmail.com,1.0,1.0,1.0,1.0,1.0,0.0,2.0,4.0,1.0,15.0,0.0,1.0,7.0,21.0,0.0,1.0,4.0,20.0\\n286,0a9f9129-7467-4669-957c-722a26bc27cb,\"November 9, 2022\",2022-11-09 17:59:09 UTC,Eduardo Z\\xc3\\xa1rate,SRID=4326;POINT(-98.1664034352 19.0722181684),19.0722181684,-98.1664034352,Paola Papeler\\xc3\\xada & Regalos,1 Photo,Papeler\\xc3\\xada,no,yes,no,Analog cash register,1 Photo,yes,yes,2002-11-09,Aument\\xc3\\xb3 25%,Aument\\xc3\\xb3 15%,yes,\"En Excel,En papel\",\"En Excel,En papel\",No los uso,yes,yes,yes,\"Aplicaci\\xc3\\xb3n m\\xc3\\xb3vil (e.g. Rappi, Uber Eats),Llamada a Tel\\xc3\\xa9fono fijo,Redes sociales (e.g. Facebook, Instagram),WhatsApp\",\"Efectivo,Tarjeta de d\\xc3\\xa9bito y/o cr\\xc3\\xa9dito,Transferencia interbancaria\",Efectivo,,,,,1.0,,,,,Aplicaci\\xc3\\xb3n m\\xc3\\xb3vil,no,no,50% +,Ninguna,no,Ninguno,Tarde (12:00 - 7:00 pm),Autom\\xc3\\xb3vil,5%,11-15%,Se quiere involucrar,Totalmente de acuerdo,Totalmente de acuerdo,Totalmente de acuerdo,Ni de acuerdo ni en desacuerdo,Totalmente en desacuerdo,Algo en desacuerdo,Algo en desacuerdo,Algo en desacuerdo,Algo en desacuerdo,Algo en desacuerdo,Algo en desacuerdo,Algo en desacuerdo,En persona,Cr\\xc3\\xa9dito,0,Ninguna,Efectivo,yes,Disminuir la cantidad del pedido,Semanalmente,Frecuencia de venta,Solicitar tiempo al cliente para conseguir el producto,30%,Totalmente de acuerdo,De acuerdo,De acuerdo,De acuerdo,De acuerdo,De acuerdo,De acuerdo,De acuerdo,De acuerdo,De acuerdo,no,Brandon,Rivera Ibarra ,2229653939.0,riverabrandon7@gmail.com,1.0,0.0,7.0,1.0,1.0,0.0,2.0,4.0,1.0,15.0,0.0,1.0,7.0,21.0,0.0,1.0,4.0,20.0\\n287,2c6652da-1fa7-4b92-ad81-893fbd866a3e,\"November 7, 2022\",2022-11-09 17:47:22 UTC,Jes\\xc3\\xbas Antonio Zapatero Garc\\xc3\\xada,SRID=4326;POINT(-98.2622569 19.0189338),19.0189338,-98.2622569,La suprema torta ,1 Photo,Micro-restaurant (aka. fondita),no,no,no,Smartphone,1 Photo,yes,yes,2022-03-18,No cambi\\xc3\\xb3,No cambi\\xc3\\xb3,yes,En papel,En papel,No los uso,no,yes,yes,\"Llamada a Tel\\xc3\\xa9fono celular,Redes sociales (e.g. Facebook, Instagram),WhatsApp\",\"Efectivo,Transferencia interbancaria\",Efectivo,,,,,1.0,,,,,Redes sociales,no,no,30%,Cuaderno,no,Ninguno,Tarde (12:00 - 7:00 pm),Autom\\xc3\\xb3vil,5%,11-15%,Es muy caro,Algo de acuerdo,Totalmente en desacuerdo,Totalmente de acuerdo,Algo en desacuerdo,Algo de acuerdo,Totalmente en desacuerdo,Ni de acuerdo ni en desacuerdo,Totalmente de acuerdo,Totalmente de acuerdo,Totalmente en desacuerdo,Ni de acuerdo ni en desacuerdo,Totalmente de acuerdo,\"Mensaje de texto (SMS),Mensajer\\xc3\\xada instant\\xc3\\xa1nea (e.g. WhatsApp)\",Cr\\xc3\\xa9dito,0,Cuaderno,Efectivo,no,\"Aumentar la cantidad del pedido,Disminuci\\xc3\\xb3n de la variedad de productos,Disminuir la cantidad del pedido,Disminuir la frecuencia de pedidos\",Diariamente,\"Frecuencia de venta,Refrigeraci\\xc3\\xb3n\",Ofrecer un producto sustituto,20%,Totalmente de acuerdo,Totalmente de acuerdo,Totalmente de acuerdo,Ni de acuerdo ni en desacuerdo,Totalmente de acuerdo,De acuerdo,De acuerdo,De acuerdo,En desacuerdo,De acuerdo,yes,Brandon,Rivera Ibarra ,2229653939.0,riverabrandon7@gmail.com,0.0,1.0,2.0,3.0,0.0,0.0,5.0,2.0,1.0,15.0,0.0,1.0,7.0,21.0,0.0,1.0,7.0,20.0\\n288,53d2492a-162f-4a91-afa3-764efdd719a1,\"November 9, 2022\",2022-11-09 17:43:18 UTC,Pedro Contreras,SRID=4326;POINT(-98.1661550067 19.0726785172),19.0726785172,-98.1661550067,\"Tortillas, semillas\",1 Photo,Produce (fruits & vegetables),no,yes,yes,\"Analog cash register,Smartphone\",1 Photo,yes,yes,2017-11-09,Disminuy\\xc3\\xb3 15%,Disminuy\\xc3\\xb3 15%,yes,En papel,En papel,No los uso,yes,yes,no,Llamada a Tel\\xc3\\xa9fono celular,Efectivo,Efectivo,,,,,1.0,,,,,Ninguna,no,no,5%,Ninguna,no,Entrega a domicilio,Tarde (12:00 - 7:00 pm),Autom\\xc3\\xb3vil,5%,11-15%,No conozco los servicios,Totalmente en desacuerdo,Totalmente en desacuerdo,Algo en desacuerdo,Totalmente en desacuerdo,Algo en desacuerdo,Totalmente en desacuerdo,Totalmente en desacuerdo,Totalmente en desacuerdo,Totalmente en desacuerdo,Totalmente en desacuerdo,Totalmente en desacuerdo,Totalmente en desacuerdo,En persona,Cr\\xc3\\xa9dito,0,Ninguna,Efectivo,yes,\"Aumentar la cantidad del pedido,Disminuci\\xc3\\xb3n de la variedad de productos,Disminuir la cantidad del pedido,Disminuir la frecuencia de pedidos\",Diariamente,Frecuencia de venta,\"Ofrecer un producto sustituto,Solicitar tiempo al cliente para conseguir el producto\",0,Ni de acuerdo ni en desacuerdo,De acuerdo,De acuerdo,Ni de acuerdo ni en desacuerdo,De acuerdo,De acuerdo,De acuerdo,De acuerdo,De acuerdo,De acuerdo,no,Martha,Olmos,2221166841.0,ferreambriz1@gmail.com,2.0,1.0,7.0,1.0,0.0,0.0,8.0,3.0,1.0,15.0,0.0,1.0,7.0,21.0,0.0,1.0,7.0,15.0\\n289,555a5830-66b1-47b5-b174-5480c3b38f8f,\"November 9, 2022\",2022-11-09 17:39:32 UTC,Alejandro Matias,SRID=4326;POINT(-98.1633137 19.0725157),19.0725157,-98.1633137,Estetica Brushing,1 Photo,Peluqueria,no,no,no,Smartphone,1 Photo,yes,yes,2019-03-13,No cambi\\xc3\\xb3,Disminuy\\xc3\\xb3 15%,no,No lo hago,No lo hago,No los uso,no,no,no,Llamada a Tel\\xc3\\xa9fono celular,Efectivo,Efectivo,,,,,1.0,,,,,Aplicaci\\xc3\\xb3n m\\xc3\\xb3vil,no,no,10%,Software especializado,no,Ninguno,Tarde (12:00 - 7:00 pm),Autom\\xc3\\xb3vil,5%,11-15%,No conozco los servicios,Totalmente de acuerdo,Totalmente de acuerdo,Algo en desacuerdo,Totalmente en desacuerdo,Totalmente en desacuerdo,Totalmente en desacuerdo,Algo en desacuerdo,Ni de acuerdo ni en desacuerdo,Totalmente en desacuerdo,Algo en desacuerdo,Algo en desacuerdo,Algo de acuerdo,\"Llamada telef\\xc3\\xb3nica,Mensajer\\xc3\\xada instant\\xc3\\xa1nea (e.g. WhatsApp)\",Cr\\xc3\\xa9dito,0,Ninguna,Tarjeta de d\\xc3\\xa9bito y/o cr\\xc3\\xa9dito,yes,\"Disminuir la cantidad del pedido,Disminuir la frecuencia de pedidos\",Mensualmente,\"Categor\\xc3\\xada (e.g. limpieza, aseo personal, comestibles, l\\xc3\\xa1cteos, etc.)\",Solicitar tiempo al cliente para conseguir el producto,20%,Ni de acuerdo ni en desacuerdo,De acuerdo,De acuerdo,Totalmente de acuerdo,En desacuerdo,De acuerdo,Totalmente en desacuerdo,De acuerdo,En desacuerdo,En desacuerdo,no,Martha,Olmos,2221166841.0,ferreambriz1@gmail.com,0.0,0.0,0.0,0.0,0.0,0.0,3.0,7.0,1.0,15.0,0.0,1.0,7.0,8.0,0.0,1.0,7.0,70.0\\n290,c5097507-8988-4109-8e81-564c57f59382,\"November 9, 2022\",2022-11-09 17:39:30 UTC,Alejandro Matias,SRID=4326;POINT(-98.1668952 19.0752733),19.0752733,-98.1668952,Cemitas poblanas Dany,1 Photo,Micro-restaurant (aka. fondita),no,no,yes,Smartphone,1 Photo,yes,yes,2019-11-09,No cambi\\xc3\\xb3,Disminuy\\xc3\\xb3 15%,yes,En papel,En papel,No los uso,no,yes,no,Llamada a Tel\\xc3\\xa9fono celular,Efectivo,Efectivo,,,,,1.0,,,,,Ninguna,no,no,10%,Software especializado,no,Ninguno,Tarde (12:00 - 7:00 pm),Autom\\xc3\\xb3vil,5%,11-15%,No conozco los servicios,Totalmente de acuerdo,Totalmente de acuerdo,Algo en desacuerdo,Totalmente en desacuerdo,Totalmente en desacuerdo,Totalmente en desacuerdo,Algo en desacuerdo,Ni de acuerdo ni en desacuerdo,Totalmente en desacuerdo,Algo en desacuerdo,Algo en desacuerdo,Algo de acuerdo,\"Llamada telef\\xc3\\xb3nica,Mensajer\\xc3\\xada instant\\xc3\\xa1nea (e.g. WhatsApp)\",Cr\\xc3\\xa9dito,0,Ninguna,Tarjeta de d\\xc3\\xa9bito y/o cr\\xc3\\xa9dito,yes,\"Disminuir la cantidad del pedido,Disminuir la frecuencia de pedidos\",Mensualmente,\"Categor\\xc3\\xada (e.g. limpieza, aseo personal, comestibles, l\\xc3\\xa1cteos, etc.)\",Solicitar tiempo al cliente para conseguir el producto,20%,Ni de acuerdo ni en desacuerdo,De acuerdo,De acuerdo,Totalmente de acuerdo,En desacuerdo,De acuerdo,Totalmente en desacuerdo,De acuerdo,En desacuerdo,En desacuerdo,no,Martha,Olmos,2221166841.0,ferreambriz1@gmail.com,0.0,1.0,1.0,0.0,0.0,0.0,3.0,7.0,1.0,15.0,0.0,1.0,7.0,8.0,0.0,1.0,7.0,70.0\\n291,f7b97386-e045-468c-b9e3-1ed1d0f05bbd,\"November 9, 2022\",2022-11-09 17:39:29 UTC,Alejandro Matias,SRID=4326;POINT(-98.166774 19.0697916),19.0697916,-98.166774,Tortas y jugos,1 Photo,Cafeteria,no,no,yes,Analog cash register,1 Photo,yes,yes,2022-02-17,No cambi\\xc3\\xb3,Disminuy\\xc3\\xb3 15%,yes,En papel,En papel,No los uso,no,no,no,Llamada a Tel\\xc3\\xa9fono celular,\"Efectivo,Transferencia interbancaria\",Efectivo,,,,,1.0,,,,,Ninguna,no,no,10%,Software especializado,no,Ninguno,Tarde (12:00 - 7:00 pm),Autom\\xc3\\xb3vil,5%,11-15%,No conozco los servicios,Totalmente de acuerdo,Totalmente de acuerdo,Totalmente de acuerdo,Totalmente en desacuerdo,Totalmente en desacuerdo,Totalmente en desacuerdo,Algo en desacuerdo,Ni de acuerdo ni en desacuerdo,Totalmente en desacuerdo,Algo en desacuerdo,Algo en desacuerdo,Algo de acuerdo,\"Llamada telef\\xc3\\xb3nica,Mensajer\\xc3\\xada instant\\xc3\\xa1nea (e.g. WhatsApp)\",Cr\\xc3\\xa9dito,0,Ninguna,Tarjeta de d\\xc3\\xa9bito y/o cr\\xc3\\xa9dito,yes,\"Disminuir la cantidad del pedido,Disminuir la frecuencia de pedidos\",Mensualmente,\"Categor\\xc3\\xada (e.g. limpieza, aseo personal, comestibles, l\\xc3\\xa1cteos, etc.)\",Solicitar tiempo al cliente para conseguir el producto,20%,Ni de acuerdo ni en desacuerdo,De acuerdo,De acuerdo,Totalmente de acuerdo,En desacuerdo,De acuerdo,Totalmente en desacuerdo,De acuerdo,En desacuerdo,En desacuerdo,no,Martha,Olmos,2221166841.0,ferreambriz1@gmail.com,3.0,2.0,1.0,0.0,0.0,0.0,15.0,3.0,1.0,15.0,0.0,1.0,7.0,8.0,0.0,1.0,7.0,70.0\\n292,67df942e-bcee-47c2-aee4-bb51d2d741c1,\"November 9, 2022\",2022-11-09 17:39:29 UTC,Alejandro Matias,SRID=4326;POINT(-98.1661693 19.0708331),19.0708331,-98.1661693,Gorditas Claudia,1 Photo,Micro-restaurant (aka. fondita),no,no,yes,Analog cash register,1 Photo,yes,yes,2009-08-29,Disminuy\\xc3\\xb3 25%,Disminuy\\xc3\\xb3 15%,no,No lo hago,No lo hago,No los uso,no,yes,no,Llamada a Tel\\xc3\\xa9fono celular,Efectivo,Efectivo,,,,,1.0,,,,,Ninguna,yes,no,10%,Software especializado,no,Ninguno,Tarde (12:00 - 7:00 pm),Autom\\xc3\\xb3vil,5%,11-15%,No conozco los servicios,Totalmente de acuerdo,Totalmente de acuerdo,Totalmente de acuerdo,Totalmente en desacuerdo,Totalmente en desacuerdo,Totalmente en desacuerdo,Algo en desacuerdo,Ni de acuerdo ni en desacuerdo,Totalmente en desacuerdo,Algo en desacuerdo,Algo en desacuerdo,Algo de acuerdo,\"Llamada telef\\xc3\\xb3nica,Mensajer\\xc3\\xada instant\\xc3\\xa1nea (e.g. WhatsApp)\",Cr\\xc3\\xa9dito,0,Ninguna,Tarjeta de d\\xc3\\xa9bito y/o cr\\xc3\\xa9dito,yes,\"Disminuir la cantidad del pedido,Disminuir la frecuencia de pedidos\",Mensualmente,\"Categor\\xc3\\xada (e.g. limpieza, aseo personal, comestibles, l\\xc3\\xa1cteos, etc.)\",Solicitar tiempo al cliente para conseguir el producto,20%,Ni de acuerdo ni en desacuerdo,De acuerdo,De acuerdo,Totalmente de acuerdo,En desacuerdo,De acuerdo,Totalmente en desacuerdo,De acuerdo,En desacuerdo,En desacuerdo,no,Martha,Olmos,2221166841.0,ferreambriz1@gmail.com,0.0,0.0,0.0,1.0,1.0,0.0,15.0,3.0,1.0,15.0,0.0,1.0,7.0,8.0,0.0,1.0,7.0,70.0\\n293,4a003685-e2bb-4625-9421-1a1613de2142,\"November 9, 2022\",2022-11-09 17:38:05 UTC,Eduardo Z\\xc3\\xa1rate,SRID=4326;POINT(-98.1664889306 19.0721611315),19.0721611315,-98.1664889306,Verona Pasteles,1 Photo,Dairy products,no,no,yes,Analog cash register,1 Photo,no,yes,2022-11-09,No cambi\\xc3\\xb3,Disminuy\\xc3\\xb3 15%,yes,En papel,En Excel,No los uso,no,yes,no,Llamada a Tel\\xc3\\xa9fono celular,Efectivo,,,,,,1.0,,,,,Ninguna,yes,no,10%,Software especializado,no,Ninguno,Tarde (12:00 - 7:00 pm),Autom\\xc3\\xb3vil,5%,11-15%,No conozco los servicios,Totalmente de acuerdo,Totalmente de acuerdo,Totalmente de acuerdo,Totalmente en desacuerdo,Totalmente en desacuerdo,Totalmente en desacuerdo,Algo en desacuerdo,Ni de acuerdo ni en desacuerdo,Totalmente en desacuerdo,Algo en desacuerdo,Algo en desacuerdo,Algo de acuerdo,\"Llamada telef\\xc3\\xb3nica,Mensajer\\xc3\\xada instant\\xc3\\xa1nea (e.g. WhatsApp)\",Cr\\xc3\\xa9dito,0,Ninguna,Tarjeta de d\\xc3\\xa9bito y/o cr\\xc3\\xa9dito,yes,\"Disminuir la cantidad del pedido,Disminuir la frecuencia de pedidos\",Mensualmente,\"Categor\\xc3\\xada (e.g. limpieza, aseo personal, comestibles, l\\xc3\\xa1cteos, etc.)\",Solicitar tiempo al cliente para conseguir el producto,20%,Ni de acuerdo ni en desacuerdo,De acuerdo,De acuerdo,Totalmente de acuerdo,En desacuerdo,De acuerdo,Totalmente en desacuerdo,De acuerdo,En desacuerdo,En desacuerdo,no,Martha,Olmos,2221166841.0,ferreambriz1@gmail.com,1.0,3.0,1.0,2.0,4.0,0.0,15.0,3.0,1.0,10.1,0.0,1.0,7.0,8.0,0.0,1.0,7.0,70.0\\n294,8f24c45a-589f-4e3b-831b-9b3bfa9a6169,\"November 9, 2022\",2022-11-09 17:33:34 UTC,Pedro Contreras,SRID=4326;POINT(-98.1637859345 19.0728386119),19.0728386119,-98.1637859345,Pron\\xc3\\xb3sticos Maravillas,1 Photo,Grocery store (aka. nanostore),yes,yes,no,\"POS system (i.e. computer + bar code scanner + printer),Security cameras,Smartphone\",1 Photo,no,yes,2022-11-09,No cambi\\xc3\\xb3,Disminuy\\xc3\\xb3 15%,yes,En papel,En Excel,No los uso,no,yes,no,Llamada a Tel\\xc3\\xa9fono celular,Efectivo,,,,,,1.0,,,,,Ninguna,yes,no,10%,Software especializado,no,Ninguno,Tarde (12:00 - 7:00 pm),Autom\\xc3\\xb3vil,5%,11-15%,No conozco los servicios,Totalmente de acuerdo,Totalmente de acuerdo,Totalmente de acuerdo,Totalmente en desacuerdo,Totalmente en desacuerdo,Totalmente en desacuerdo,Algo en desacuerdo,Ni de acuerdo ni en desacuerdo,Totalmente en desacuerdo,Algo en desacuerdo,Algo en desacuerdo,Algo de acuerdo,\"Llamada telef\\xc3\\xb3nica,Mensajer\\xc3\\xada instant\\xc3\\xa1nea (e.g. WhatsApp)\",Cr\\xc3\\xa9dito,0,Ninguna,Tarjeta de d\\xc3\\xa9bito y/o cr\\xc3\\xa9dito,yes,\"Disminuir la cantidad del pedido,Disminuir la frecuencia de pedidos\",Mensualmente,\"Categor\\xc3\\xada (e.g. limpieza, aseo personal, comestibles, l\\xc3\\xa1cteos, etc.)\",Solicitar tiempo al cliente para conseguir el producto,20%,Ni de acuerdo ni en desacuerdo,De acuerdo,De acuerdo,Totalmente de acuerdo,En desacuerdo,De acuerdo,Totalmente en desacuerdo,De acuerdo,En desacuerdo,En desacuerdo,no,Martha,Olmos,2221166841.0,ferreambriz1@gmail.com,0.0,1.6,6.0,2.0,4.0,0.0,15.0,3.0,1.0,10.1,0.0,1.0,7.0,8.0,0.0,1.0,7.0,70.0\\n295,3093195c-0293-4dc8-b6b5-97ee2f07dfa6,\"November 9, 2022\",2022-11-09 17:08:20 UTC,Pedro Contreras,SRID=4326;POINT(-98.1669914258 19.0752377222),19.0752377222,-98.1669914258,Miscel\\xc3\\xa1nea El Estadio ,1 Photo,Grocery store (aka. nanostore),yes,yes,no,Smartphone,1 Photo,no,yes,2019-11-09,No cambi\\xc3\\xb3,Disminuy\\xc3\\xb3 15%,yes,En papel,En Excel,No los uso,no,yes,no,Llamada a Tel\\xc3\\xa9fono celular,Efectivo,,,,,,1.0,,,,,Ninguna,yes,no,10%,Software especializado,no,Ninguno,Tarde (12:00 - 7:00 pm),Autom\\xc3\\xb3vil,5%,11-15%,No conozco los servicios,Totalmente de acuerdo,Totalmente de acuerdo,Totalmente de acuerdo,Totalmente en desacuerdo,Totalmente en desacuerdo,Totalmente en desacuerdo,Algo en desacuerdo,Ni de acuerdo ni en desacuerdo,Totalmente en desacuerdo,Algo en desacuerdo,Algo en desacuerdo,Algo de acuerdo,\"Llamada telef\\xc3\\xb3nica,Mensajer\\xc3\\xada instant\\xc3\\xa1nea (e.g. WhatsApp)\",Cr\\xc3\\xa9dito,0,Ninguna,Tarjeta de d\\xc3\\xa9bito y/o cr\\xc3\\xa9dito,yes,\"Disminuir la cantidad del pedido,Disminuir la frecuencia de pedidos\",Mensualmente,\"Categor\\xc3\\xada (e.g. limpieza, aseo personal, comestibles, l\\xc3\\xa1cteos, etc.)\",Solicitar tiempo al cliente para conseguir el producto,20%,Ni de acuerdo ni en desacuerdo,De acuerdo,De acuerdo,Totalmente de acuerdo,En desacuerdo,De acuerdo,Totalmente en desacuerdo,De acuerdo,En desacuerdo,En desacuerdo,no,Martha,Olmos,2221166841.0,ferreambriz1@gmail.com,2.0,3.0,7.0,2.0,4.0,0.0,15.0,3.0,1.0,10.1,0.0,1.0,7.0,8.0,0.0,1.0,7.0,70.0\\n296,12362cbc-7046-4634-91ff-135c5a51597f,\"November 9, 2022\",2022-11-09 16:37:55 UTC,Pedro Contreras,SRID=4326;POINT(-98.1677079679 19.0707676642),19.0707676642,-98.1677079679,Tortas Los girasoles ,1 Photo,Micro-restaurant (aka. fondita),no,no,no,Smartphone,1 Photo,yes,yes,2019-11-09,No cambi\\xc3\\xb3,Disminuy\\xc3\\xb3 15%,yes,En papel,En Excel,No los uso,no,yes,no,Llamada a Tel\\xc3\\xa9fono celular,Efectivo,,,,,,1.0,,,,,Ninguna,yes,no,10%,Software especializado,no,Ninguno,Tarde (12:00 - 7:00 pm),Autom\\xc3\\xb3vil,5%,11-15%,No conozco los servicios,Totalmente de acuerdo,Totalmente de acuerdo,Totalmente de acuerdo,Totalmente en desacuerdo,Totalmente en desacuerdo,Totalmente en desacuerdo,Algo en desacuerdo,Ni de acuerdo ni en desacuerdo,Totalmente en desacuerdo,Algo en desacuerdo,Algo en desacuerdo,Algo de acuerdo,\"Llamada telef\\xc3\\xb3nica,Mensajer\\xc3\\xada instant\\xc3\\xa1nea (e.g. WhatsApp)\",Cr\\xc3\\xa9dito,0,Ninguna,Tarjeta de d\\xc3\\xa9bito y/o cr\\xc3\\xa9dito,yes,\"Disminuir la cantidad del pedido,Disminuir la frecuencia de pedidos\",Mensualmente,\"Categor\\xc3\\xada (e.g. limpieza, aseo personal, comestibles, l\\xc3\\xa1cteos, etc.)\",Solicitar tiempo al cliente para conseguir el producto,20%,Ni de acuerdo ni en desacuerdo,De acuerdo,De acuerdo,Totalmente de acuerdo,En desacuerdo,De acuerdo,Totalmente en desacuerdo,De acuerdo,En desacuerdo,En desacuerdo,no,Martha,Olmos,2221166841.0,ferreambriz1@gmail.com,0.0,2.0,0.0,2.0,4.0,0.0,15.0,3.0,1.0,10.1,0.0,1.0,7.0,8.0,0.0,1.0,7.0,70.0\\n297,10f157e9-991f-45a7-97b6-eb1e5ef382b2,\"November 9, 2022\",2022-11-09 16:37:54 UTC,Pedro Contreras,SRID=4326;POINT(-98.1668828059 19.070091556),19.070091556,-98.1668828059,El supercito,1 Photo,Grocery store (aka. nanostore),no,no,yes,Smartphone,1 Photo,no,yes,2019-10-09,No cambi\\xc3\\xb3,Disminuy\\xc3\\xb3 15%,yes,En papel,En papel,No los uso,no,yes,no,\"P\\xc3\\xa1gina web propia,WhatsApp\",Efectivo,,,,,,1.0,,,,,Ninguna,yes,no,10%,Software especializado,no,Ninguno,Tarde (12:00 - 7:00 pm),Autom\\xc3\\xb3vil,5%,11-15%,No conozco los servicios,Totalmente de acuerdo,Totalmente de acuerdo,Algo en desacuerdo,Totalmente en desacuerdo,Totalmente en desacuerdo,Totalmente en desacuerdo,Algo en desacuerdo,Ni de acuerdo ni en desacuerdo,Totalmente en desacuerdo,Algo en desacuerdo,Algo en desacuerdo,Algo de acuerdo,\"Llamada telef\\xc3\\xb3nica,Mensajer\\xc3\\xada instant\\xc3\\xa1nea (e.g. WhatsApp)\",Cr\\xc3\\xa9dito,0,Ninguna,Tarjeta de d\\xc3\\xa9bito y/o cr\\xc3\\xa9dito,yes,Aumentar la cantidad del pedido,Mensualmente,\"Categor\\xc3\\xada (e.g. limpieza, aseo personal, comestibles, l\\xc3\\xa1cteos, etc.)\",Solicitar tiempo al cliente para conseguir el producto,20%,Ni de acuerdo ni en desacuerdo,De acuerdo,De acuerdo,Totalmente de acuerdo,En desacuerdo,De acuerdo,Totalmente en desacuerdo,De acuerdo,En desacuerdo,En desacuerdo,no,Martha,Olmos,2221166841.0,ferreambriz1@gmail.com,0.0,1.0,3.0,1.0,4.0,0.0,7.0,3.0,1.0,10.1,0.0,1.0,7.0,8.0,0.0,1.0,7.0,70.0\\n298,0abf045f-4b25-43ae-984d-073bb8fc5e9b,\"November 9, 2022\",2022-11-09 16:24:34 UTC,Pedro Contreras,SRID=4326;POINT(-98.1663859179 19.0706364153),19.0706364153,-98.1663859179,Miscel\\xc3\\xa1nea la paloma ,1 Photo,Grocery store (aka. nanostore),yes,no,no,Smartphone,1 Photo,yes,yes,2019-10-09,No cambi\\xc3\\xb3,Disminuy\\xc3\\xb3 15%,yes,En papel,En papel,No los uso,no,yes,no,\"P\\xc3\\xa1gina web propia,WhatsApp\",Efectivo,,,,,,1.0,,,,,Ninguna,yes,no,10%,Software especializado,no,Ninguno,Tarde (12:00 - 7:00 pm),Autom\\xc3\\xb3vil,5%,11-15%,No conozco los servicios,Totalmente de acuerdo,Totalmente de acuerdo,Algo en desacuerdo,Totalmente en desacuerdo,Totalmente en desacuerdo,Totalmente en desacuerdo,Algo en desacuerdo,Ni de acuerdo ni en desacuerdo,Totalmente en desacuerdo,Algo en desacuerdo,Algo en desacuerdo,Algo de acuerdo,\"Llamada telef\\xc3\\xb3nica,Mensajer\\xc3\\xada instant\\xc3\\xa1nea (e.g. WhatsApp)\",Cr\\xc3\\xa9dito,0,Ninguna,Tarjeta de d\\xc3\\xa9bito y/o cr\\xc3\\xa9dito,yes,Aumentar la cantidad del pedido,Mensualmente,\"Categor\\xc3\\xada (e.g. limpieza, aseo personal, comestibles, l\\xc3\\xa1cteos, etc.)\",Solicitar tiempo al cliente para conseguir el producto,20%,Ni de acuerdo ni en desacuerdo,De acuerdo,De acuerdo,Totalmente de acuerdo,En desacuerdo,De acuerdo,Totalmente en desacuerdo,De acuerdo,En desacuerdo,En desacuerdo,no,Martha,Olmos,2221166841.0,ferreambriz1@gmail.com,0.0,1.0,5.0,1.0,4.0,0.0,7.0,3.0,1.0,10.1,0.0,1.0,7.0,8.0,0.0,1.0,7.0,70.0\\n299,93727e75-d169-45e5-b047-8488fdebafb0,\"November 9, 2022\",2022-11-09 16:24:33 UTC,Pedro Contreras,SRID=4326;POINT(-98.1661138874 19.0709173875),19.0709173875,-98.1661138874,Miscel\\xc3\\xa1nea y Recauderia Ilse ,1 Photo,Grocery store (aka. nanostore),no,no,no,Smartphone,1 Photo,no,yes,2017-11-07,No cambi\\xc3\\xb3,No cambi\\xc3\\xb3,yes,Software especializado + computadora,\"Aplicaci\\xc3\\xb3n m\\xc3\\xb3vil (i.e. App) + smartphone,Caja registradora (an\\xc3\\xa1loga),Software especializado + computadora\",No los uso,yes,no,yes,\"P\\xc3\\xa1gina web propia,WhatsApp\",\"Efectivo,Tarjeta de d\\xc3\\xa9bito y/o cr\\xc3\\xa9dito,Transferencia interbancaria\",,,,,,1.0,,,,,Redes sociales,no,no,10%,Software especializado,no,Ninguno,Tarde (12:00 - 7:00 pm),Autom\\xc3\\xb3vil,5%,11-15%,No conozco los servicios,Algo en desacuerdo,Totalmente en desacuerdo,Totalmente en desacuerdo,Totalmente en desacuerdo,Algo de acuerdo,Algo en desacuerdo,Algo en desacuerdo,Ni de acuerdo ni en desacuerdo,Algo en desacuerdo,Algo en desacuerdo,Algo en desacuerdo,Algo de acuerdo,\"Llamada telef\\xc3\\xb3nica,Mensajer\\xc3\\xada instant\\xc3\\xa1nea (e.g. WhatsApp)\",Cr\\xc3\\xa9dito,0,Ninguna,Tarjeta de d\\xc3\\xa9bito y/o cr\\xc3\\xa9dito,no,Aumentar la cantidad del pedido,Mensualmente,\"Categor\\xc3\\xada (e.g. limpieza, aseo personal, comestibles, l\\xc3\\xa1cteos, etc.)\",Solicitar tiempo al cliente para conseguir el producto,20%,Ni de acuerdo ni en desacuerdo,De acuerdo,De acuerdo,Totalmente de acuerdo,En desacuerdo,De acuerdo,Totalmente en desacuerdo,De acuerdo,En desacuerdo,En desacuerdo,no,Martha,Olmos,2221166841.0,ferreambriz1@gmail.com,1.0,3.0,4.0,4.0,4.0,2.0,10.0,3.0,1.0,15.0,0.0,1.0,7.0,8.0,0.0,1.0,2.0,70.0\\n300,db79adc8-a774-4544-9b08-eb44e8f31a2c,\"November 8, 2022\",2022-11-08 20:02:56 UTC,Ismael L\\xc3\\xb3pez,SRID=4326;POINT(-98.2492535 19.0258281),19.0258281,-98.2492535,Antojitos Rosi,1 Photo,Micro-restaurant (aka. fondita),no,no,no,None,1 Photo,no,yes,2017-11-07,No cambi\\xc3\\xb3,No cambi\\xc3\\xb3,yes,Software especializado + computadora,\"Aplicaci\\xc3\\xb3n m\\xc3\\xb3vil (i.e. App) + smartphone,Caja registradora (an\\xc3\\xa1loga),Software especializado + computadora\",No los uso,yes,no,yes,\"P\\xc3\\xa1gina web propia,WhatsApp\",\"Efectivo,Tarjeta de d\\xc3\\xa9bito y/o cr\\xc3\\xa9dito,Transferencia interbancaria\",,,,,,1.0,,,,,Redes sociales,no,no,10%,Software especializado,no,Ninguno,Tarde (12:00 - 7:00 pm),Autom\\xc3\\xb3vil,5%,11-15%,No conozco los servicios,Algo en desacuerdo,Totalmente en desacuerdo,Totalmente en desacuerdo,Totalmente en desacuerdo,Algo de acuerdo,Algo en desacuerdo,Algo en desacuerdo,Ni de acuerdo ni en desacuerdo,Algo en desacuerdo,Algo en desacuerdo,Algo en desacuerdo,Algo de acuerdo,\"Llamada telef\\xc3\\xb3nica,Mensajer\\xc3\\xada instant\\xc3\\xa1nea (e.g. WhatsApp)\",Cr\\xc3\\xa9dito,0,Ninguna,Tarjeta de d\\xc3\\xa9bito y/o cr\\xc3\\xa9dito,no,Aumentar la cantidad del pedido,Mensualmente,\"Categor\\xc3\\xada (e.g. limpieza, aseo personal, comestibles, l\\xc3\\xa1cteos, etc.)\",Solicitar tiempo al cliente para conseguir el producto,20%,Ni de acuerdo ni en desacuerdo,De acuerdo,De acuerdo,Totalmente de acuerdo,En desacuerdo,De acuerdo,Totalmente en desacuerdo,De acuerdo,En desacuerdo,En desacuerdo,no,Martha,Olmos,2221166841.0,ferreambriz1@gmail.com,3.0,1.0,3.0,4.0,4.0,2.0,10.0,3.0,1.0,15.0,0.0,1.0,7.0,8.0,0.0,1.0,2.0,70.0\\n301,742328d0-525b-42ea-93d2-49d3fe888004,\"November 8, 2022\",2022-11-08 20:02:55 UTC,Ismael L\\xc3\\xb3pez,SRID=4326;POINT(-98.24906 19.02534),19.02534,-98.24906,Miscelanea san juditas,1 Photo,Grocery store (aka. nanostore),no,yes,yes,\"Analog cash register,Security cameras,Smartphone\",1 Photo,no,yes,2017-11-07,No cambi\\xc3\\xb3,No cambi\\xc3\\xb3,yes,Software especializado + computadora,\"Aplicaci\\xc3\\xb3n m\\xc3\\xb3vil (i.e. App) + smartphone,Caja registradora (an\\xc3\\xa1loga),Software especializado + computadora\",No los uso,yes,no,yes,\"P\\xc3\\xa1gina web propia,WhatsApp\",\"Efectivo,Tarjeta de d\\xc3\\xa9bito y/o cr\\xc3\\xa9dito,Transferencia interbancaria\",,,,,,1.0,,,,,Redes sociales,no,no,10%,Software especializado,no,Ninguno,Tarde (12:00 - 7:00 pm),Autom\\xc3\\xb3vil,5%,11-15%,No conozco los servicios,Algo en desacuerdo,Totalmente en desacuerdo,Totalmente en desacuerdo,Totalmente en desacuerdo,Algo de acuerdo,Algo en desacuerdo,Algo en desacuerdo,Ni de acuerdo ni en desacuerdo,Algo en desacuerdo,Algo en desacuerdo,Algo en desacuerdo,Algo de acuerdo,\"Llamada telef\\xc3\\xb3nica,Mensajer\\xc3\\xada instant\\xc3\\xa1nea (e.g. WhatsApp)\",Cr\\xc3\\xa9dito,0,Ninguna,Tarjeta de d\\xc3\\xa9bito y/o cr\\xc3\\xa9dito,no,Aumentar la cantidad del pedido,Mensualmente,\"Categor\\xc3\\xada (e.g. limpieza, aseo personal, comestibles, l\\xc3\\xa1cteos, etc.)\",Solicitar tiempo al cliente para conseguir el producto,20%,Ni de acuerdo ni en desacuerdo,De acuerdo,De acuerdo,Totalmente de acuerdo,En desacuerdo,De acuerdo,Totalmente en desacuerdo,De acuerdo,En desacuerdo,En desacuerdo,no,Martha,Olmos,2221166841.0,ferreambriz1@gmail.com,2.0,1.6,18.0,4.0,4.0,2.0,10.0,3.0,1.0,15.0,0.0,1.0,7.0,8.0,0.0,1.0,2.0,70.0\\n302,876f6921-b25d-4cf6-adf3-155c6c149048,\"November 4, 2022\",2022-11-08 15:07:18 UTC,Jes\\xc3\\xbas Herrera,SRID=4326;POINT(-98.2613523613 19.0196109752),19.0196109752,-98.2613523613,S\\xc3\\xbaper canasta,1 Photo,Produce (fruits & vegetables),no,yes,yes,Smartphone,2 Photos,yes,yes,2017-11-07,No cambi\\xc3\\xb3,No cambi\\xc3\\xb3,yes,Software especializado + computadora,\"Aplicaci\\xc3\\xb3n m\\xc3\\xb3vil (i.e. App) + smartphone,Caja registradora (an\\xc3\\xa1loga),Software especializado + computadora\",No los uso,yes,no,yes,\"P\\xc3\\xa1gina web propia,WhatsApp\",\"Efectivo,Tarjeta de d\\xc3\\xa9bito y/o cr\\xc3\\xa9dito,Transferencia interbancaria\",,,,,,1.0,,,,,Redes sociales,no,no,10%,Software especializado,no,Ninguno,Tarde (12:00 - 7:00 pm),Autom\\xc3\\xb3vil,5%,11-15%,No conozco los servicios,Algo en desacuerdo,Totalmente en desacuerdo,Totalmente en desacuerdo,Totalmente en desacuerdo,Algo de acuerdo,Algo en desacuerdo,Algo en desacuerdo,Ni de acuerdo ni en desacuerdo,Algo en desacuerdo,Algo en desacuerdo,Algo en desacuerdo,Algo de acuerdo,\"Llamada telef\\xc3\\xb3nica,Mensajer\\xc3\\xada instant\\xc3\\xa1nea (e.g. WhatsApp)\",Cr\\xc3\\xa9dito,0,Ninguna,Tarjeta de d\\xc3\\xa9bito y/o cr\\xc3\\xa9dito,no,Aumentar la cantidad del pedido,Mensualmente,\"Categor\\xc3\\xada (e.g. limpieza, aseo personal, comestibles, l\\xc3\\xa1cteos, etc.)\",Solicitar tiempo al cliente para conseguir el producto,20%,Ni de acuerdo ni en desacuerdo,De acuerdo,De acuerdo,Totalmente de acuerdo,En desacuerdo,De acuerdo,Totalmente en desacuerdo,De acuerdo,En desacuerdo,En desacuerdo,no,Martha,Olmos,2221166841.0,ferreambriz1@gmail.com,1.0,4.0,8.0,4.0,4.0,2.0,10.0,3.0,1.0,15.0,0.0,1.0,7.0,8.0,0.0,1.0,2.0,70.0\\n303,c3d0c858-a0d1-4569-8239-91fb17410b35,\"November 7, 2022\",2022-11-08 14:55:46 UTC,Salomon Abdala Perez,SRID=4326;POINT(-98.2224672044 19.0577455954),19.0577455954,-98.2224672044,Cosmetics,1 Photo,Grocery store (aka. nanostore),no,no,no,\"Analog cash register,Dataphone (i.e. card payments),POS system (i.e. computer + bar code scanner + printer)\",1 Photo,yes,yes,2017-11-07,No cambi\\xc3\\xb3,No cambi\\xc3\\xb3,yes,Software especializado + computadora,\"Aplicaci\\xc3\\xb3n m\\xc3\\xb3vil (i.e. App) + smartphone,Caja registradora (an\\xc3\\xa1loga),Software especializado + computadora\",No los uso,yes,no,yes,\"P\\xc3\\xa1gina web propia,WhatsApp\",\"Efectivo,Tarjeta de d\\xc3\\xa9bito y/o cr\\xc3\\xa9dito,Transferencia interbancaria\",,,,,,1.0,,,,,Redes sociales,no,no,10%,Software especializado,no,Ninguno,Tarde (12:00 - 7:00 pm),Autom\\xc3\\xb3vil,5%,11-15%,No conozco los servicios,Algo en desacuerdo,Totalmente en desacuerdo,Totalmente en desacuerdo,Totalmente en desacuerdo,Algo de acuerdo,Algo en desacuerdo,Algo en desacuerdo,Ni de acuerdo ni en desacuerdo,Algo en desacuerdo,Algo en desacuerdo,Algo en desacuerdo,Algo de acuerdo,\"Llamada telef\\xc3\\xb3nica,Mensajer\\xc3\\xada instant\\xc3\\xa1nea (e.g. WhatsApp)\",Cr\\xc3\\xa9dito,0,Ninguna,Tarjeta de d\\xc3\\xa9bito y/o cr\\xc3\\xa9dito,no,Aumentar la cantidad del pedido,Mensualmente,\"Categor\\xc3\\xada (e.g. limpieza, aseo personal, comestibles, l\\xc3\\xa1cteos, etc.)\",Solicitar tiempo al cliente para conseguir el producto,20%,Ni de acuerdo ni en desacuerdo,De acuerdo,De acuerdo,Totalmente de acuerdo,En desacuerdo,De acuerdo,Totalmente en desacuerdo,De acuerdo,En desacuerdo,En desacuerdo,no,Martha,Olmos,2221166841.0,ferreambriz1@gmail.com,3.0,0.0,24.0,4.0,4.0,2.0,10.0,3.0,1.0,15.0,0.0,1.0,7.0,8.0,0.0,1.0,2.0,70.0\\n304,316ece52-c3af-47f8-9606-6144a0ae9ed2,\"November 7, 2022\",2022-11-08 14:55:46 UTC,Salomon Abdala Perez,SRID=4326;POINT(-98.2224884518 19.0576937048),19.0576937048,-98.2224884518,OEM SERVICE,1 Photo,Technology store,yes,no,no,\"Dataphone (i.e. card payments),POS system (i.e. computer + bar code scanner + printer),Security cameras\",1 Photo,yes,yes,2017-11-07,No cambi\\xc3\\xb3,No cambi\\xc3\\xb3,yes,Software especializado + computadora,Software especializado + computadora,No los uso,yes,no,yes,\"Llamada a Tel\\xc3\\xa9fono celular,Llamada a Tel\\xc3\\xa9fono fijo,Redes sociales (e.g. Facebook, Instagram),WhatsApp\",\"Efectivo,Tarjeta de d\\xc3\\xa9bito y/o cr\\xc3\\xa9dito,Transferencia interbancaria\",,,,,,1.0,,,,,Redes sociales,yes,no,10%,Software especializado,no,Ninguno,Tarde (12:00 - 7:00 pm),Autom\\xc3\\xb3vil,5%,11-15%,No conozco los servicios,Algo en desacuerdo,Totalmente en desacuerdo,Totalmente en desacuerdo,Totalmente en desacuerdo,Algo de acuerdo,Algo en desacuerdo,Algo en desacuerdo,Ni de acuerdo ni en desacuerdo,Algo en desacuerdo,Algo en desacuerdo,Algo en desacuerdo,Algo de acuerdo,\"Llamada telef\\xc3\\xb3nica,Mensajer\\xc3\\xada instant\\xc3\\xa1nea (e.g. WhatsApp)\",Cr\\xc3\\xa9dito,0,Ninguna,Tarjeta de d\\xc3\\xa9bito y/o cr\\xc3\\xa9dito,no,Aumentar la cantidad del pedido,Mensualmente,\"Categor\\xc3\\xada (e.g. limpieza, aseo personal, comestibles, l\\xc3\\xa1cteos, etc.)\",Solicitar tiempo al cliente para conseguir el producto,30%,Ni de acuerdo ni en desacuerdo,De acuerdo,De acuerdo,Totalmente de acuerdo,En desacuerdo,De acuerdo,Totalmente en desacuerdo,De acuerdo,En desacuerdo,En desacuerdo,no,Martha,Olmos,2221166841.0,ferreambriz1@gmail.com,3.0,0.0,3.0,5.0,5.0,2.0,5.0,3.0,1.0,15.0,0.0,1.0,7.0,8.0,0.0,1.0,2.0,0.0\\n305,a9219fb8-2b6b-4524-8673-d13e051ac133,\"November 7, 2022\",2022-11-08 14:55:45 UTC,Salomon Abdala Perez,SRID=4326;POINT(-98.2278537583 19.0598786521),19.0598786521,-98.2278537583,La Reina,1 Photo,Bakery store,yes,no,yes,\"Dataphone (i.e. card payments),Security cameras\",1 Photo,yes,yes,1977-11-07,Aument\\xc3\\xb3 15%,No cambi\\xc3\\xb3,yes,Software especializado + computadora,Caja registradora (an\\xc3\\xa1loga),No los uso,yes,no,yes,WhatsApp,\"Efectivo,Tarjeta de d\\xc3\\xa9bito y/o cr\\xc3\\xa9dito\",,,,,,1.0,,,,,Ninguna,no,no,10%,Ninguna,no,Ninguno,Tarde (12:00 - 7:00 pm),Autom\\xc3\\xb3vil,5%,11-15%,No conozco los servicios,Algo en desacuerdo,Totalmente en desacuerdo,Totalmente en desacuerdo,Totalmente en desacuerdo,Algo de acuerdo,Algo en desacuerdo,Algo en desacuerdo,Ni de acuerdo ni en desacuerdo,Algo en desacuerdo,Algo en desacuerdo,Algo en desacuerdo,Algo de acuerdo,\"Llamada telef\\xc3\\xb3nica,Mensajer\\xc3\\xada instant\\xc3\\xa1nea (e.g. WhatsApp)\",Cr\\xc3\\xa9dito,0,Ninguna,Tarjeta de d\\xc3\\xa9bito y/o cr\\xc3\\xa9dito,no,Aumentar la cantidad del pedido,Diariamente,\"Categor\\xc3\\xada (e.g. limpieza, aseo personal, comestibles, l\\xc3\\xa1cteos, etc.)\",Ofrecer un producto sustituto,20%,Ni de acuerdo ni en desacuerdo,De acuerdo,De acuerdo,Totalmente de acuerdo,En desacuerdo,De acuerdo,Totalmente en desacuerdo,De acuerdo,En desacuerdo,En desacuerdo,no,Martha,Olmos,2221166841.0,ferreambriz1@gmail.com,4.0,1.0,15.0,4.0,6.0,2.0,1.0,3.0,1.0,15.0,0.0,1.0,7.0,8.0,0.0,1.0,2.0,20.0\\n306,ed0b08bd-8e03-4271-9136-a5f49a4cc435,\"November 7, 2022\",2022-11-08 14:55:44 UTC,Salomon Abdala Perez,SRID=4326;POINT(-98.2276538391 19.0600482436),19.0600482436,-98.2276538391,Don Asador,1 Photo,Micro-restaurant (aka. fondita),no,no,yes,Dataphone (i.e. card payments),1 Photo,yes,yes,2013-11-07,No cambi\\xc3\\xb3,Aument\\xc3\\xb3 15%,no,En papel,En papel,No los uso,yes,no,yes,WhatsApp,\"Efectivo,Tarjeta de d\\xc3\\xa9bito y/o cr\\xc3\\xa9dito,Transferencia interbancaria\",,,,,,1.0,,,,,Aplicaci\\xc3\\xb3n m\\xc3\\xb3vil,no,no,10%,Ninguna,yes,Ninguno,Tarde (12:00 - 7:00 pm),Autom\\xc3\\xb3vil,5%,11-15%,No conozco los servicios,Algo en desacuerdo,Totalmente en desacuerdo,Totalmente en desacuerdo,Totalmente en desacuerdo,Algo de acuerdo,Algo en desacuerdo,Algo en desacuerdo,Ni de acuerdo ni en desacuerdo,Algo en desacuerdo,Algo en desacuerdo,Algo en desacuerdo,Algo de acuerdo,\"Llamada telef\\xc3\\xb3nica,Mensajer\\xc3\\xada instant\\xc3\\xa1nea (e.g. WhatsApp)\",Cr\\xc3\\xa9dito,0,Ninguna,Tarjeta de d\\xc3\\xa9bito y/o cr\\xc3\\xa9dito,no,Aumentar la cantidad del pedido,Nunca,\"Categor\\xc3\\xada (e.g. limpieza, aseo personal, comestibles, l\\xc3\\xa1cteos, etc.)\",Ofrecer un producto sustituto,20%,Ni de acuerdo ni en desacuerdo,De acuerdo,De acuerdo,Totalmente de acuerdo,En desacuerdo,De acuerdo,Totalmente en desacuerdo,De acuerdo,En desacuerdo,En desacuerdo,no,Martha,Olmos,2221166841.0,ferreambriz1@gmail.com,1.4,2.0,0.0,4.0,4.0,2.0,15.0,3.0,1.0,15.0,0.0,1.0,7.0,8.0,0.0,1.0,2.0,20.0\\n307,5d581c34-36c6-4585-a99c-deb766e0ea7f,\"November 7, 2022\",2022-11-08 14:55:44 UTC,Salomon Abdala Perez,SRID=4326;POINT(-98.2285427196 19.0613368025),19.0613368025,-98.2285427196,BFI Autopartes,1 Photo,Grocery store (aka. nanostore),yes,no,no,\"Dataphone (i.e. card payments),POS system (i.e. computer + bar code scanner + printer)\",1 Photo,yes,yes,2019-11-07,Aument\\xc3\\xb3 15%,No cambi\\xc3\\xb3,yes,En Excel,En papel,No los uso,yes,no,yes,\"Llamada a Tel\\xc3\\xa9fono celular,Llamada a Tel\\xc3\\xa9fono fijo,Redes sociales (e.g. Facebook, Instagram)\",\"Efectivo,Tarjeta de d\\xc3\\xa9bito y/o cr\\xc3\\xa9dito,Transferencia interbancaria\",,,,,,1.0,,,,,Redes sociales,yes,no,10%,Ninguna,no,Ninguno,Tarde (12:00 - 7:00 pm),Autom\\xc3\\xb3vil,5%,11-15%,No conozco los servicios,Totalmente en desacuerdo,Totalmente en desacuerdo,Totalmente en desacuerdo,Totalmente en desacuerdo,Algo en desacuerdo,Ni de acuerdo ni en desacuerdo,Totalmente en desacuerdo,Algo en desacuerdo,Totalmente en desacuerdo,Algo en desacuerdo,Totalmente en desacuerdo,Totalmente en desacuerdo,Mensajer\\xc3\\xada instant\\xc3\\xa1nea (e.g. WhatsApp),Descuento por compras anticipadas,0,Software especializado,Tarjeta de d\\xc3\\xa9bito y/o cr\\xc3\\xa9dito,no,Aumentar la cantidad del pedido,Semanalmente,\"Categor\\xc3\\xada (e.g. limpieza, aseo personal, comestibles, l\\xc3\\xa1cteos, etc.)\",Solicitar tiempo al cliente para conseguir el producto,20%,De acuerdo,De acuerdo,De acuerdo,Totalmente de acuerdo,En desacuerdo,De acuerdo,Totalmente en desacuerdo,De acuerdo,En desacuerdo,Totalmente en desacuerdo,no,Martha,Olmos,2221166841.0,ferreambriz1@gmail.com,0.0,0.0,14.0,1.0,1.0,1.0,7.0,3.0,1.0,15.0,0.0,1.0,7.0,8.0,0.0,1.0,1.0,0.0\\n308,e326e6a0-7462-4157-bad9-7b3ad61b524b,\"November 7, 2022\",2022-11-08 14:55:43 UTC,Salomon Abdala Perez,SRID=4326;POINT(-98.2275981059 19.0605600821),19.0605600821,-98.2275981059,Ferreter\\xc3\\xada Ambriz,1 Photo,Grocery store (aka. nanostore),yes,yes,no,\"Dataphone (i.e. card payments),POS system (i.e. computer + bar code scanner + printer),Smartphone\",1 Photo,yes,yes,2008-02-07,No cambi\\xc3\\xb3,Aument\\xc3\\xb3 15%,yes,Software especializado + computadora,Software especializado + computadora,No los uso,yes,no,yes,\"Llamada a Tel\\xc3\\xa9fono celular,Redes sociales (e.g. Facebook, Instagram),WhatsApp\",\"Efectivo,Tarjeta de d\\xc3\\xa9bito y/o cr\\xc3\\xa9dito,Transferencia interbancaria\",,,,,,0.0,,,,,Ninguna,yes,no,10%,Ninguna,no,Ninguno,Tarde (12:00 - 7:00 pm),Autom\\xc3\\xb3vil,5%,11-15%,No conozco los servicios,Totalmente en desacuerdo,Totalmente en desacuerdo,Totalmente en desacuerdo,Totalmente en desacuerdo,Algo en desacuerdo,Ni de acuerdo ni en desacuerdo,Totalmente en desacuerdo,Algo en desacuerdo,Totalmente en desacuerdo,Algo en desacuerdo,Totalmente en desacuerdo,Totalmente en desacuerdo,Mensajer\\xc3\\xada instant\\xc3\\xa1nea (e.g. WhatsApp),Descuento por compras anticipadas,0,Software especializado,Tarjeta de d\\xc3\\xa9bito y/o cr\\xc3\\xa9dito,no,Aumentar la cantidad del pedido,Semanalmente,\"Categor\\xc3\\xada (e.g. limpieza, aseo personal, comestibles, l\\xc3\\xa1cteos, etc.)\",Solicitar tiempo al cliente para conseguir el producto,0,De acuerdo,De acuerdo,De acuerdo,Totalmente de acuerdo,En desacuerdo,De acuerdo,Totalmente en desacuerdo,De acuerdo,En desacuerdo,Totalmente en desacuerdo,yes,Martha,Olmos,2221166841.0,ferreambriz1@gmail.com,2.0,0.0,6.0,2.0,2.0,1.0,2.0,3.0,0.0,15.0,0.0,1.0,7.0,8.0,0.0,1.0,1.0,0.0\\n309,0ab45eeb-e160-42f4-8fc3-fe32c1abc3b0,\"November 7, 2022\",2022-11-08 14:55:43 UTC,Salomon Abdala Perez,SRID=4326;POINT(-98.2278379428 19.0599870721),19.0599870721,-98.2278379428,Ambar,1 Photo,Grocery store (aka. nanostore),no,no,yes,Dataphone (i.e. card payments),1 Photo,yes,yes,2008-11-07,No cambi\\xc3\\xb3,No cambi\\xc3\\xb3,no,En papel,En papel,No los uso,yes,no,yes,Llamada a Tel\\xc3\\xa9fono fijo,Efectivo,,,,,,0.0,,,,,Ninguna,no,no,10%,Ninguna,no,Ninguno,Tarde (12:00 - 7:00 pm),Autom\\xc3\\xb3vil,5%,11-15%,No conozco los servicios,Totalmente en desacuerdo,Totalmente en desacuerdo,Totalmente en desacuerdo,Totalmente en desacuerdo,Algo en desacuerdo,Ni de acuerdo ni en desacuerdo,Totalmente en desacuerdo,Algo en desacuerdo,Totalmente en desacuerdo,Algo en desacuerdo,Totalmente en desacuerdo,Totalmente en desacuerdo,Mensajer\\xc3\\xada instant\\xc3\\xa1nea (e.g. WhatsApp),Descuento por compras anticipadas,0,Software especializado,Tarjeta de d\\xc3\\xa9bito y/o cr\\xc3\\xa9dito,no,Aumentar la cantidad del pedido,Anualmente,\"Categor\\xc3\\xada (e.g. limpieza, aseo personal, comestibles, l\\xc3\\xa1cteos, etc.)\",Solicitar tiempo al cliente para conseguir el producto,0,De acuerdo,Totalmente en desacuerdo,Totalmente de acuerdo,Totalmente de acuerdo,En desacuerdo,De acuerdo,Totalmente en desacuerdo,De acuerdo,Totalmente en desacuerdo,Totalmente en desacuerdo,no,Mayra,Olmos,2221166841.0,spablom_28@hotmail.com,0.0,0.0,12.0,1.0,1.0,1.0,0.0,3.0,0.0,2.0,0.0,1.0,7.0,8.0,0.0,1.0,1.0,0.0\\n310,2733a84c-054d-4b36-8150-0b336ce4d761,\"November 7, 2022\",2022-11-08 14:55:42 UTC,Salomon Abdala Perez,SRID=4326;POINT(-98.2246795332 19.0591967259),19.0591967259,-98.2246795332,Burbuja Lavander\\xc3\\xadas,1 Photo,Laundry Store,no,no,yes,\"Dataphone (i.e. card payments),Security cameras\",1 Photo,yes,yes,2002-09-07,Aument\\xc3\\xb3 25%,No cambi\\xc3\\xb3,no,En Excel,Software especializado + computadora,No los uso,yes,no,yes,Llamada a Tel\\xc3\\xa9fono fijo,Efectivo,,,,,,0.0,,,,,Ninguna,no,no,10%,Excel,no,Ninguno,Tarde (12:00 - 7:00 pm),Autom\\xc3\\xb3vil,5%,11-15%,No conozco los servicios,Totalmente en desacuerdo,Totalmente en desacuerdo,Totalmente en desacuerdo,Totalmente en desacuerdo,Algo en desacuerdo,Ni de acuerdo ni en desacuerdo,Totalmente en desacuerdo,Algo en desacuerdo,Totalmente en desacuerdo,Algo en desacuerdo,Totalmente en desacuerdo,Totalmente en desacuerdo,Mensajer\\xc3\\xada instant\\xc3\\xa1nea (e.g. WhatsApp),Descuento por compras anticipadas,0,Software especializado,Tarjeta de d\\xc3\\xa9bito y/o cr\\xc3\\xa9dito,no,Aumentar la cantidad del pedido,Anualmente,Tama\\xc3\\xb1o,Solicitar tiempo al cliente para conseguir el producto,0,De acuerdo,Totalmente en desacuerdo,Totalmente de acuerdo,Totalmente de acuerdo,En desacuerdo,De acuerdo,Totalmente en desacuerdo,De acuerdo,Totalmente en desacuerdo,Totalmente en desacuerdo,no,Mayra,Olmos,2221166841.0,spablom_28@hotmail.com,5.0,0.0,1.0,2.0,2.0,1.0,4.0,3.0,0.0,2.0,0.0,1.0,7.0,8.0,0.0,1.0,1.0,0.0\\n311,4a93fc02-578e-4c24-ab33-c825afe3dc84,\"November 7, 2022\",2022-11-08 14:55:41 UTC,Salomon Abdala Perez,SRID=4326;POINT(-98.2212986935 19.0561435132),19.0561435132,-98.2212986935,De Haro,1 Photo,Grocery store (aka. nanostore),no,yes,no,None,1 Photo,yes,yes,1990-11-07,Aument\\xc3\\xb3 25%,No cambi\\xc3\\xb3,no,No lo hago,No lo hago,No los uso,no,no,no,Llamada a Tel\\xc3\\xa9fono fijo,\"Efectivo,Tarjeta de d\\xc3\\xa9bito y/o cr\\xc3\\xa9dito\",,,,,,0.0,,,,,Aplicaci\\xc3\\xb3n m\\xc3\\xb3vil,no,no,10%,Excel,no,Ninguno,Tarde (12:00 - 7:00 pm),Autom\\xc3\\xb3vil,5%,11-15%,No conozco los servicios,Totalmente en desacuerdo,Totalmente en desacuerdo,Totalmente en desacuerdo,Totalmente en desacuerdo,Ni de acuerdo ni en desacuerdo,Totalmente en desacuerdo,Totalmente en desacuerdo,Algo en desacuerdo,Totalmente en desacuerdo,Algo en desacuerdo,Totalmente en desacuerdo,Totalmente en desacuerdo,Mensajer\\xc3\\xada instant\\xc3\\xa1nea (e.g. WhatsApp),Descuento por compras anticipadas,0,Software especializado,\"Efectivo,Tarjeta de d\\xc3\\xa9bito y/o cr\\xc3\\xa9dito\",yes,Aumentar la cantidad del pedido,Nunca,Precio,\"Informar al proveedor,Ofrecer un producto sustituto,Solicitar tiempo al cliente para conseguir el producto,pedir en otra sucursal\",0,De acuerdo,Totalmente en desacuerdo,Totalmente de acuerdo,Totalmente de acuerdo,En desacuerdo,De acuerdo,Totalmente en desacuerdo,De acuerdo,Totalmente en desacuerdo,Totalmente en desacuerdo,no,Mayra,Olmos,2221166841.0,spablom_28@hotmail.com,0.0,0.0,8.0,0.0,0.0,1.0,2.0,3.0,0.0,2.0,0.0,1.0,7.0,8.0,0.0,1.0,1.0,0.0\\n312,cc7f620d-df41-49c7-9827-8c51e6beb5d1,\"November 7, 2022\",2022-11-07 23:53:38 UTC,Irvin V\\xc3\\xa1squez Figueroa,SRID=4326;POINT(-98.2749524 18.9993095),18.9993095,-98.2749524,Barbamala,1 Photo,barber shop,no,no,no,\"Analog cash register,POS system (i.e. computer + bar code scanner + printer),Security cameras,Smartphone\",1 Photo,yes,yes,2018-10-18,No cambi\\xc3\\xb3,No cambi\\xc3\\xb3,no,Software especializado + computadora,\"En Excel,Software especializado + computadora\",PEPS,yes,yes,yes,\"Llamada a Tel\\xc3\\xa9fono celular,Redes sociales (e.g. Facebook, Instagram),WhatsApp\",\"Efectivo,Tarjeta de d\\xc3\\xa9bito y/o cr\\xc3\\xa9dito\",,,,,,0.0,,,,,Aplicaci\\xc3\\xb3n m\\xc3\\xb3vil,no,no,10%,Excel,no,Ninguno,Tarde (12:00 - 7:00 pm),Autom\\xc3\\xb3vil,5%,11-15%,No conozco los servicios,Totalmente en desacuerdo,Totalmente en desacuerdo,Totalmente en desacuerdo,Totalmente en desacuerdo,Ni de acuerdo ni en desacuerdo,Totalmente en desacuerdo,Totalmente en desacuerdo,Algo en desacuerdo,Totalmente en desacuerdo,Algo en desacuerdo,Totalmente en desacuerdo,Totalmente en desacuerdo,Mensajer\\xc3\\xada instant\\xc3\\xa1nea (e.g. WhatsApp),Descuento por compras anticipadas,0,Software especializado,\"Efectivo,Tarjeta de d\\xc3\\xa9bito y/o cr\\xc3\\xa9dito\",yes,Aumentar la cantidad del pedido,Semanalmente,Precio,\"Informar al proveedor,Ofrecer un producto sustituto,Solicitar tiempo al cliente para conseguir el producto,pedir en otra sucursal\",0,De acuerdo,Totalmente en desacuerdo,Totalmente de acuerdo,Totalmente de acuerdo,En desacuerdo,De acuerdo,Totalmente en desacuerdo,De acuerdo,Totalmente en desacuerdo,Totalmente en desacuerdo,no,Mayra,Olmos,2221166841.0,spablom_28@hotmail.com,4.0,1.0,3.0,6.0,6.0,1.0,3.0,3.0,0.0,2.0,0.0,1.0,7.0,8.0,0.0,1.0,1.0,0.0\\n313,149bebb8-4180-4485-88ae-cafc642661b2,\"November 7, 2022\",2022-11-07 23:09:55 UTC,Irvin V\\xc3\\xa1squez Figueroa,SRID=4326;POINT(-98.2750659 18.9993582),18.9993582,-98.2750659,Papelomas,1 Photo,Dairy products,no,no,no,\"Analog cash register,POS system (i.e. computer + bar code scanner + printer),Security cameras,Smartphone\",1 Photo,yes,yes,2018-10-17,No cambi\\xc3\\xb3,Aument\\xc3\\xb3 15%,yes,Software especializado + computadora,Software especializado + computadora,PEPS,yes,yes,yes,\"Llamada a Tel\\xc3\\xa9fono celular,WhatsApp\",\"Efectivo,Tarjeta de d\\xc3\\xa9bito y/o cr\\xc3\\xa9dito,Transferencia interbancaria\",,,,,,0.0,,,,,Aplicaci\\xc3\\xb3n m\\xc3\\xb3vil,no,no,15%,Excel,no,Entrega a domicilio,Tarde (12:00 - 7:00 pm),Autom\\xc3\\xb3vil,5%,11-15%,No creo que represente grandes ingresos,Totalmente de acuerdo,Totalmente en desacuerdo,Totalmente de acuerdo,Totalmente en desacuerdo,Algo de acuerdo,Algo de acuerdo,Totalmente de acuerdo,Ni de acuerdo ni en desacuerdo,Algo de acuerdo,Totalmente en desacuerdo,Algo de acuerdo,Algo de acuerdo,En persona,\"Descuento por compras anticipadas,Recompra\",0,Excel,Tarjeta de d\\xc3\\xa9bito y/o cr\\xc3\\xa9dito,yes,Disminuir la frecuencia de pedidos,Diariamente,\"Categor\\xc3\\xada (e.g. limpieza, aseo personal, comestibles, l\\xc3\\xa1cteos, etc.)\",Solicitar tiempo al cliente para conseguir el producto,50% +,Totalmente de acuerdo,Totalmente de acuerdo,Totalmente de acuerdo,Ni de acuerdo ni en desacuerdo,Totalmente de acuerdo,Ni de acuerdo ni en desacuerdo,En desacuerdo,Ni de acuerdo ni en desacuerdo,Ni de acuerdo ni en desacuerdo,Totalmente de acuerdo,no,Mayra,Olmos,2221166841.0,spablom_28@hotmail.com,4.0,0.0,4.0,2.0,3.0,1.0,2.0,2.0,0.0,2.0,0.0,1.0,7.0,8.0,0.0,1.0,2.0,0.0\\n314,e9d09b8c-9f31-456f-ad1f-67ce39cd692c,\"November 7, 2022\",2022-11-07 20:47:54 UTC,\\xc3\\x81ngel Francisco Altamirano Campos,SRID=4326;POINT(-98.2617893 19.019056),19.019056,-98.2617893,Rey patata ,1 Photo,Micro-restaurant (aka. fondita),no,no,no,\"Dataphone (i.e. card payments),Smartphone\",1 Photo,yes,yes,2022-01-13,No cambi\\xc3\\xb3,No cambi\\xc3\\xb3,yes,En papel,En papel,PEPS,no,no,yes,\"Redes sociales (e.g. Facebook, Instagram),WhatsApp\",\"Efectivo,Tarjeta de d\\xc3\\xa9bito y/o cr\\xc3\\xa9dito\",,,,,,1.0,,,,,Redes sociales,no,no,20%,Ninguna,no,Ninguno,Tarde (12:00 - 7:00 pm),Autom\\xc3\\xb3vil,4%,1-5%,No creo que represente grandes ingresos,Totalmente en desacuerdo,Totalmente en desacuerdo,Totalmente de acuerdo,Totalmente en desacuerdo,Totalmente en desacuerdo,Totalmente en desacuerdo,Algo en desacuerdo,Totalmente en desacuerdo,Totalmente de acuerdo,Totalmente en desacuerdo,Totalmente en desacuerdo,Algo de acuerdo,P\\xc3\\xa1gina web del proveedor,Cr\\xc3\\xa9dito,0,Ninguna,\"Efectivo,Transferencia interbancaria\",no,\"Disminuci\\xc3\\xb3n de la variedad de productos,Disminuir la cantidad del pedido,Disminuir la frecuencia de pedidos\",Diariamente,\"Categor\\xc3\\xada (e.g. limpieza, aseo personal, comestibles, l\\xc3\\xa1cteos, etc.)\",\"Ofrecer un producto sustituto,Solicitar tiempo al cliente para conseguir el producto\",20%,De acuerdo,De acuerdo,Ni de acuerdo ni en desacuerdo,Totalmente en desacuerdo,Ni de acuerdo ni en desacuerdo,Ni de acuerdo ni en desacuerdo,Ni de acuerdo ni en desacuerdo,De acuerdo,Totalmente en desacuerdo,De acuerdo,yes,Mayra,Olmos,2221166841.0,spablom_28@hotmail.com,5.0,1.0,1.0,3.0,0.0,1.0,0.0,1.0,1.0,2.0,0.0,1.0,7.0,8.0,1.0,1.0,1.0,15.0\\n315,2dfc0c91-c305-4857-aef1-fc67de0c9683,\"November 7, 2022\",2022-11-07 20:47:54 UTC,\\xc3\\x81ngel Francisco Altamirano Campos,SRID=4326;POINT(-98.2618157 19.0189901),19.0189901,-98.2618157,Ferreter\\xc3\\xada ROBCAS,1 Photo,ferreter\\xc3\\xada ,yes,no,no,\"Dataphone (i.e. card payments),Security cameras\",1 Photo,yes,yes,2012-09-15,No cambi\\xc3\\xb3,No cambi\\xc3\\xb3,yes,\"En Excel,En papel\",No lo hago,PEPS,yes,no,yes,\"Redes sociales (e.g. Facebook, Instagram),WhatsApp\",\"Efectivo,Tarjeta de d\\xc3\\xa9bito y/o cr\\xc3\\xa9dito,Transferencia interbancaria\",,,,,,1.0,,,,,Redes sociales,no,no,40%,\"Cuaderno,Excel\",no,Ninguno,Tarde (12:00 - 7:00 pm),Autom\\xc3\\xb3vil,4%,1-5%,No quiero involucrarme con la tecnolog\\xc3\\xada,Totalmente en desacuerdo,Totalmente en desacuerdo,Algo de acuerdo,Totalmente en desacuerdo,Totalmente en desacuerdo,Totalmente en desacuerdo,Totalmente en desacuerdo,Algo de acuerdo,Algo de acuerdo,Totalmente en desacuerdo,Totalmente en desacuerdo,Totalmente en desacuerdo,\"En persona,Mensajer\\xc3\\xada instant\\xc3\\xa1nea (e.g. WhatsApp)\",Cr\\xc3\\xa9dito,0,\"Cuaderno,Excel\",\"Efectivo,Transferencia interbancaria\",yes,\"Disminuci\\xc3\\xb3n de la variedad de productos,Disminuir la cantidad del pedido,Disminuir la frecuencia de pedidos\",Diariamente,\"Categor\\xc3\\xada (e.g. limpieza, aseo personal, comestibles, l\\xc3\\xa1cteos, etc.)\",\"Informar al proveedor,Perder la venta\",0,De acuerdo,Totalmente de acuerdo,Totalmente de acuerdo,Totalmente de acuerdo,Totalmente de acuerdo,Totalmente de acuerdo,De acuerdo,Totalmente de acuerdo,Totalmente en desacuerdo,Totalmente en desacuerdo,yes,Victoria ,Casta\\xc3\\xb1eda Castelan,2226809189.0,spablom_28@hotmail.com,4.0,0.0,0.0,0.0,0.0,2.0,5.0,1.0,1.0,2.0,0.0,1.0,7.0,8.0,1.0,1.0,1.0,0.0\\n316,41de9f42-4fd9-4907-ba0c-c1b24517de7a,\"November 7, 2022\",2022-11-07 20:47:53 UTC,\\xc3\\x81ngel Francisco Altamirano Campos,SRID=4326;POINT(-98.2619128 19.0189553),19.0189553,-98.2619128,Antojitos Vero,1 Photo,Micro-restaurant (aka. fondita),no,no,no,Smartphone,1 Photo,yes,yes,2022-08-26,No cambi\\xc3\\xb3,No cambi\\xc3\\xb3,yes,En papel,En papel,,no,yes,no,\"Llamada a Tel\\xc3\\xa9fono celular,WhatsApp\",\"Efectivo,Transferencia interbancaria\",,,,,,1.0,,,,,Redes sociales,no,no,30%,Ninguna,no,Ninguno,Tarde (12:00 - 7:00 pm),Autom\\xc3\\xb3vil,4%,1-5%,No sabe c\\xc3\\xb3mo involucrarse,Totalmente de acuerdo,Totalmente de acuerdo,Totalmente en desacuerdo,Totalmente en desacuerdo,Totalmente en desacuerdo,Totalmente en desacuerdo,Totalmente en desacuerdo,Totalmente en desacuerdo,Totalmente en desacuerdo,Totalmente en desacuerdo,Totalmente en desacuerdo,Totalmente en desacuerdo,\"En persona,Llamada telef\\xc3\\xb3nica\",Descuento por compras anticipadas,0,Cuaderno,Efectivo,no,Ninguna de las anteriores,Diariamente,\"Categor\\xc3\\xada (e.g. limpieza, aseo personal, comestibles, l\\xc3\\xa1cteos, etc.)\",Ofrecer un producto sustituto,0,De acuerdo,Totalmente de acuerdo,Totalmente de acuerdo,Totalmente en desacuerdo,Totalmente de acuerdo,De acuerdo,Ni de acuerdo ni en desacuerdo,Ni de acuerdo ni en desacuerdo,Ni de acuerdo ni en desacuerdo,Totalmente de acuerdo,yes,Esperanza Ver\\xc3\\xb3nica ,Mart\\xc3\\xadnez Orozco,2216461389.0,spablom_28@hotmail.com,1.0,1.0,2.0,2.0,2.0,2.0,0.0,1.0,1.0,2.0,0.0,1.0,7.0,8.0,1.0,1.0,2.0,20.0\\n317,57f10a30-202c-40b8-9b32-1cc7c198fc91,\"November 7, 2022\",2022-11-07 20:47:52 UTC,\\xc3\\x81ngel Francisco Altamirano Campos,SRID=4326;POINT(-98.261972 19.0189428),19.0189428,-98.261972,Lavander\\xc3\\xada tintorer\\xc3\\xada ,1 Photo,lavander\\xc3\\xada ,yes,no,no,Smartphone,1 Photo,yes,yes,2020-10-15,No cambi\\xc3\\xb3,No cambi\\xc3\\xb3,yes,En papel,En papel,,yes,no,no,WhatsApp,Efectivo,,,,,,1.0,,,,,Redes sociales,no,no,40%,Cuaderno,no,Ninguno,Tarde (12:00 - 7:00 pm),Autom\\xc3\\xb3vil,4%,1-5%,No quiero involucrarme con la tecnolog\\xc3\\xada,Totalmente en desacuerdo,Totalmente en desacuerdo,Totalmente de acuerdo,Totalmente en desacuerdo,Totalmente en desacuerdo,Totalmente en desacuerdo,Totalmente en desacuerdo,Totalmente en desacuerdo,Totalmente en desacuerdo,Totalmente en desacuerdo,Totalmente en desacuerdo,Totalmente en desacuerdo,Mensajer\\xc3\\xada instant\\xc3\\xa1nea (e.g. WhatsApp),Cr\\xc3\\xa9dito,0,Cuaderno,Efectivo,no,Ninguna de las anteriores,Semanalmente,Tama\\xc3\\xb1o,Solicitar tiempo al cliente para conseguir el producto,0,Totalmente de acuerdo,Totalmente de acuerdo,Totalmente de acuerdo,Totalmente en desacuerdo,Totalmente de acuerdo,Totalmente de acuerdo,Totalmente de acuerdo,Totalmente de acuerdo,Totalmente en desacuerdo,Totalmente de acuerdo,yes,Maria Guadalupe ,Herrera ,2225500247.0,spablom_28@hotmail.com,1.0,0.0,0.0,2.0,2.0,2.0,4.0,3.0,1.0,2.0,0.0,1.0,7.0,8.0,1.0,1.0,1.0,0.0\\n318,fb7e9ccb-ef82-4434-8c8f-603f61f9410a,\"November 7, 2022\",2022-11-07 20:47:52 UTC,\\xc3\\x81ngel Francisco Altamirano Campos,SRID=4326;POINT(-98.2622459 19.0189376),19.0189376,-98.2622459,All mobile,1 Photo,tecnolog\\xc3\\xada ,no,no,no,\"Dataphone (i.e. card payments),Security cameras,Smartphone\",1 Photo,yes,yes,2012-09-15,No cambi\\xc3\\xb3,Aument\\xc3\\xb3 15%,yes,En papel,En papel,,no,no,yes,\"Redes sociales (e.g. Facebook, Instagram)\",\"Efectivo,Tarjeta de d\\xc3\\xa9bito y/o cr\\xc3\\xa9dito,Transferencia interbancaria\",,,,,,1.0,,,,,Ninguna,no,no,30%,Ninguna,yes,Ninguno,Tarde (12:00 - 7:00 pm),Autom\\xc3\\xb3vil,4%,1-5%,No creo que represente grandes ingresos,Totalmente en desacuerdo,Totalmente en desacuerdo,Totalmente de acuerdo,Totalmente en desacuerdo,Totalmente en desacuerdo,Totalmente en desacuerdo,Algo de acuerdo,Algo de acuerdo,Algo de acuerdo,Totalmente en desacuerdo,Algo de acuerdo,Totalmente en desacuerdo,Mensajer\\xc3\\xada instant\\xc3\\xa1nea (e.g. WhatsApp),Cr\\xc3\\xa9dito,0,Cuaderno,\"Efectivo,Transferencia interbancaria\",yes,Ninguna de las anteriores,Nunca,\"Categor\\xc3\\xada (e.g. limpieza, aseo personal, comestibles, l\\xc3\\xa1cteos, etc.)\",Solicitar tiempo al cliente para conseguir el producto,10%,Totalmente de acuerdo,Totalmente de acuerdo,Totalmente de acuerdo,De acuerdo,De acuerdo,De acuerdo,De acuerdo,De acuerdo,Totalmente de acuerdo,De acuerdo,yes,Angel,Maldonado,2225460565.0,spablom_28@hotmail.com,0.0,0.0,0.0,2.0,2.0,2.0,4.0,3.0,1.0,2.0,0.0,1.0,7.0,8.0,1.0,1.0,7.0,0.0\\n319,d8e376d1-6298-449c-9a5b-bc0aa6b16f7b,\"November 7, 2022\",2022-11-07 20:47:50 UTC,\\xc3\\x81ngel Francisco Altamirano Campos,SRID=4326;POINT(-98.2625277 19.0192176),19.0192176,-98.2625277,P\\xc3\\xbaa p\\xc3\\xbaa,1 Photo,Micro-restaurant (aka. fondita),no,no,no,\"Analog cash register,Dataphone (i.e. card payments),Security cameras,Smartphone\",1 Photo,yes,yes,2020-11-05,Aument\\xc3\\xb3 25%,No cambi\\xc3\\xb3,yes,En Excel,En Excel,,yes,yes,yes,\"Llamada a Tel\\xc3\\xa9fono fijo,Redes sociales (e.g. Facebook, Instagram)\",\"Efectivo,Tarjeta de d\\xc3\\xa9bito y/o cr\\xc3\\xa9dito,Transferencia interbancaria\",,,,,,1.0,,,,,Redes sociales,yes,no,25%,Ninguna,no,Entrega a domicilio,Tarde (12:00 - 7:00 pm),Autom\\xc3\\xb3vil,4%,1-5%,\"Es muy caro,No quiero involucrarme con la tecnolog\\xc3\\xada\",Totalmente en desacuerdo,Totalmente en desacuerdo,Totalmente en desacuerdo,Algo de acuerdo,Totalmente de acuerdo,Totalmente en desacuerdo,Totalmente de acuerdo,Totalmente de acuerdo,Algo de acuerdo,Totalmente de acuerdo,Ni de acuerdo ni en desacuerdo,Totalmente de acuerdo,Llamada telef\\xc3\\xb3nica,Cr\\xc3\\xa9dito,0,Excel,\"Efectivo,Transferencia interbancaria\",no,Disminuir la frecuencia de pedidos,Semanalmente,Refrigeraci\\xc3\\xb3n,Ofrecer un producto sustituto,20%,Totalmente de acuerdo,Totalmente de acuerdo,Totalmente de acuerdo,En desacuerdo,Totalmente de acuerdo,Totalmente de acuerdo,Ni de acuerdo ni en desacuerdo,De acuerdo,De acuerdo,Totalmente de acuerdo,yes,Pablo,Mendez Trujillo ,2225361741.0,spablom_28@hotmail.com,0.0,2.0,1.0,3.0,2.0,2.0,5.0,3.0,1.0,2.0,0.0,1.0,7.0,8.0,1.0,1.0,1.0,6.0\\n320,efef6c98-2662-444d-a8bd-49c9a7d21628,\"November 7, 2022\",2022-11-07 20:33:08 UTC,Salomon Abdala Perez,SRID=4326;POINT(-98.2225255488 19.0577006737),19.0577006737,-98.2225255488,Splashbit,1 Photo,Grocery store (aka. nanostore),no,no,no,\"Dataphone (i.e. card payments),POS system (i.e. computer + bar code scanner + printer),Security cameras\",1 Photo,yes,yes,2019-11-07,No cambi\\xc3\\xb3,No cambi\\xc3\\xb3,yes,No lo hago,No lo hago,,yes,no,yes,WhatsApp,Efectivo,,,,,,1.0,,,,,Tel\\xc3\\xa9fono celular ,no,,30%,\"Aplicaci\\xc3\\xb3n m\\xc3\\xb3vil,Excel\",no,Ninguno,Tarde (12:00 - 7:00 pm),Autom\\xc3\\xb3vil,4%,1-5%,\"Es muy caro,No quiero involucrarme con la tecnolog\\xc3\\xada\",Algo de acuerdo,Algo de acuerdo,Totalmente en desacuerdo,Algo de acuerdo,Totalmente en desacuerdo,Totalmente en desacuerdo,Totalmente en desacuerdo,Totalmente en desacuerdo,Algo de acuerdo,Totalmente en desacuerdo,Totalmente en desacuerdo,Totalmente de acuerdo,\"En persona,Llamada telef\\xc3\\xb3nica,Mensajer\\xc3\\xada instant\\xc3\\xa1nea (e.g. WhatsApp)\",Descuento por compras anticipadas,0,Cuaderno,\"Efectivo,Tarjeta de d\\xc3\\xa9bito y/o cr\\xc3\\xa9dito\",no,Disminuir la frecuencia de pedidos,Semanalmente,Tama\\xc3\\xb1o,Ofrecer un producto sustituto,30%,De acuerdo,Ni de acuerdo ni en desacuerdo,Ni de acuerdo ni en desacuerdo,De acuerdo,Totalmente de acuerdo,Totalmente de acuerdo,Totalmente de acuerdo,En desacuerdo,Totalmente en desacuerdo,Totalmente de acuerdo,no,Teresa,Hern\\xc3\\xa1ndez Munive,2224875214.0,teremunive27@hotmail.com,2.0,0.0,1.0,2.0,2.0,2.0,1.0,7.0,1.0,2.0,0.0,1.0,7.0,8.0,1.0,1.0,1.0,0.0\\n321,1f6fd33a-a89a-4dc5-95bd-03f396e68bf8,\"November 2, 2022\",2022-11-04 20:48:29 UTC,Jos\\xc3\\xa9 Zapata,SRID=4326;POINT(-98.2170385251 19.0201684863),19.0201684863,-98.2170385251,El encanto ,1 Photo,Grocery store (aka. nanostore),yes,no,yes,\"POS system (i.e. computer + bar code scanner + printer),Smartphone\",1 Photo,yes,yes,2022-05-09,No cambi\\xc3\\xb3,No cambi\\xc3\\xb3,yes,\"Aplicaci\\xc3\\xb3n m\\xc3\\xb3vil (i.e. App) + smartphone,En Excel\",\"Aplicaci\\xc3\\xb3n m\\xc3\\xb3vil (i.e. App) + smartphone,En Excel,En papel\",,no,yes,yes,\"Llamada a Tel\\xc3\\xa9fono celular,WhatsApp\",Efectivo,,,,,,1.0,,,,,Tel\\xc3\\xa9fono celular ,no,,30%,\"Aplicaci\\xc3\\xb3n m\\xc3\\xb3vil,Excel\",no,Ninguno,Tarde (12:00 - 7:00 pm),Autom\\xc3\\xb3vil,4%,1-5%,\"Es muy caro,No quiero involucrarme con la tecnolog\\xc3\\xada\",Algo de acuerdo,Algo de acuerdo,Totalmente en desacuerdo,Algo de acuerdo,Totalmente en desacuerdo,Totalmente en desacuerdo,Totalmente en desacuerdo,Totalmente en desacuerdo,Algo de acuerdo,Totalmente en desacuerdo,Totalmente en desacuerdo,Totalmente de acuerdo,\"En persona,Llamada telef\\xc3\\xb3nica,Mensajer\\xc3\\xada instant\\xc3\\xa1nea (e.g. WhatsApp)\",Descuento por compras anticipadas,0,Cuaderno,\"Efectivo,Tarjeta de d\\xc3\\xa9bito y/o cr\\xc3\\xa9dito\",no,Disminuir la frecuencia de pedidos,Semanalmente,\"Categor\\xc3\\xada (e.g. limpieza, aseo personal, comestibles, l\\xc3\\xa1cteos, etc.),Refrigeraci\\xc3\\xb3n\",Perder la venta,10%,Ni de acuerdo ni en desacuerdo,De acuerdo,De acuerdo,Totalmente en desacuerdo,Totalmente de acuerdo,Totalmente de acuerdo,Totalmente de acuerdo,En desacuerdo,Totalmente en desacuerdo,Totalmente de acuerdo,yes,Teresa,Hern\\xc3\\xa1ndez Munive,2224875214.0,teremunive27@hotmail.com,0.0,3.0,1.0,0.0,0.0,2.0,7.0,7.0,1.0,2.0,0.0,1.0,7.0,8.0,1.0,1.0,1.0,4.0\\n322,8c0f186a-b9c0-4854-a6e7-c7fefeab9336,\"November 3, 2022\",2022-11-03 22:07:25 UTC,Daniel Serrano,SRID=4326;POINT(-98.2655858 19.0347777),19.0347777,-98.2655858,Textil Unicres,1 Photo,Grocery store (aka. nanostore),no,yes,no,Security cameras,1 Photo,yes,yes,2021-11-03,No cambi\\xc3\\xb3,40,yes,En Excel,\"En Excel,En papel\",,yes,no,yes,\"Redes sociales (e.g. Facebook, Instagram)\",\"Efectivo,Transferencia interbancaria\",,,,,,1.0,,,,,Aplicaci\\xc3\\xb3n m\\xc3\\xb3vil,no,,35%,Excel,no,Recarga telef\\xc3\\xb3nica,Tarde (12:00 - 7:00 pm),Autom\\xc3\\xb3vil,4%,1-5%,,Ni de acuerdo ni en desacuerdo,Totalmente de acuerdo,Ni de acuerdo ni en desacuerdo,Algo de acuerdo,Ni de acuerdo ni en desacuerdo,Ni de acuerdo ni en desacuerdo,Algo en desacuerdo,Algo de acuerdo,Ni de acuerdo ni en desacuerdo,Algo en desacuerdo,Ni de acuerdo ni en desacuerdo,Totalmente de acuerdo,Mensaje de texto (SMS),\"Cr\\xc3\\xa9dito,Descuento por compras anticipadas\",0,Excel,Transferencia interbancaria,no,Disminuir la frecuencia de pedidos,Diariamente,Margen de utilidad,Solicitar tiempo al cliente para conseguir el producto,50% +,Totalmente de acuerdo,Totalmente de acuerdo,Totalmente de acuerdo,En desacuerdo,Totalmente de acuerdo,Totalmente de acuerdo,Totalmente de acuerdo,Totalmente de acuerdo,De acuerdo,Totalmente de acuerdo,yes,Ricardo ,Gonzales P\\xc3\\xa9rez ,2213368581.0,gpricardo02@gmail.com,0.0,0.0,0.0,3.0,2.0,2.0,4.0,7.0,1.0,2.0,0.0,1.0,7.0,8.0,1.0,1.0,3.0,0.0\\n323,7c2c3613-be29-4b85-822f-c7fa68b314c3,\"November 3, 2022\",2022-11-03 17:19:24 UTC,Emilio Garza,SRID=4326;POINT(-98.1943173767 19.0422064817),19.0422064817,-98.1943173767,La Gardenia,1 Photo,Micro-restaurant (aka. fondita),yes,no,yes,\"POS system (i.e. computer + bar code scanner + printer),Smartphone\",1 Photo,no,yes,2013-03-13,Aument\\xc3\\xb3 25%,,yes,En papel,En papel,,yes,no,yes,WhatsApp,\"Efectivo,Tarjeta de d\\xc3\\xa9bito y/o cr\\xc3\\xa9dito\",,,,,,1.0,,,,,Redes sociales,no,,40%,Cuaderno,no,\"Recepci\\xc3\\xb3n y entrega de paquetes (e.g. Amazon, Mercado Libre)\",Tarde (12:00 - 7:00 pm),Autom\\xc3\\xb3vil,,,,Ni de acuerdo ni en desacuerdo,Ni de acuerdo ni en desacuerdo,Ni de acuerdo ni en desacuerdo,,Algo de acuerdo,Ni de acuerdo ni en desacuerdo,Totalmente de acuerdo,Totalmente de acuerdo,Algo de acuerdo,Algo de acuerdo,Totalmente de acuerdo,Totalmente de acuerdo,\"Mensaje de texto (SMS),Mensajer\\xc3\\xada instant\\xc3\\xa1nea (e.g. WhatsApp)\",Descuento por compras anticipadas,1-2%,Cuaderno,Efectivo,yes,Disminuir la frecuencia de pedidos,Mensualmente,Tama\\xc3\\xb1o,\"Informar al proveedor,Ofrecer un producto sustituto\",20%,De acuerdo,En desacuerdo,En desacuerdo,Totalmente en desacuerdo,En desacuerdo,Totalmente en desacuerdo,Totalmente en desacuerdo,Totalmente en desacuerdo,Totalmente en desacuerdo,De acuerdo,yes,Frida ,Ju\\xc3\\xa1rez Hern\\xc3\\xa1ndez ,2212380183.0,Hachi401096@gmail.com,1.4,3.0,2.0,4.0,2.0,2.0,5.0,7.0,1.0,2.0,0.0,1.0,7.0,8.0,1.0,1.0,5.0,0.0\\n324,09263630-45e4-499a-ba6e-497c58d7fe09,\"November 3, 2022\",2022-11-03 17:05:23 UTC,Francisco Ad\\xc3\\xa1n,SRID=4326;POINT(-98.1947222 19.0434026),19.0434026,-98.1947222,Talavera Puebla - Jes\\xc3\\xbas es el se\\xc3\\xb1or ,1 Photo,Productos tradicionales ,no,yes,no,Smartphone,1 Photo,no,yes,2013-03-13,Aument\\xc3\\xb3 25%,,yes,En papel,En papel,,yes,no,yes,WhatsApp,\"Efectivo,Tarjeta de d\\xc3\\xa9bito y/o cr\\xc3\\xa9dito\",,,,,,1.0,,,,,Redes sociales,no,,40%,Cuaderno,no,\"Recepci\\xc3\\xb3n y entrega de paquetes (e.g. Amazon, Mercado Libre)\",Tarde (12:00 - 7:00 pm),Autom\\xc3\\xb3vil,,,,Ni de acuerdo ni en desacuerdo,Ni de acuerdo ni en desacuerdo,Ni de acuerdo ni en desacuerdo,,Algo de acuerdo,Ni de acuerdo ni en desacuerdo,Totalmente de acuerdo,Totalmente de acuerdo,Algo de acuerdo,Algo de acuerdo,Totalmente de acuerdo,Totalmente de acuerdo,\"Mensaje de texto (SMS),Mensajer\\xc3\\xada instant\\xc3\\xa1nea (e.g. WhatsApp)\",Descuento por compras anticipadas,1-2%,Cuaderno,Efectivo,yes,Disminuir la frecuencia de pedidos,Mensualmente,Tama\\xc3\\xb1o,\"Informar al proveedor,Ofrecer un producto sustituto\",20%,De acuerdo,En desacuerdo,En desacuerdo,Totalmente en desacuerdo,En desacuerdo,Totalmente en desacuerdo,Totalmente en desacuerdo,Totalmente en desacuerdo,Totalmente en desacuerdo,De acuerdo,yes,Frida ,Ju\\xc3\\xa1rez Hern\\xc3\\xa1ndez ,2212380183.0,Hachi401096@gmail.com,0.0,0.0,5.0,4.0,2.0,2.0,5.0,7.0,1.0,2.0,0.0,1.0,7.0,8.0,1.0,1.0,5.0,0.0\\n325,efe2e285-c67e-4a07-8331-218bc4a7203d,\"November 3, 2022\",2022-11-03 17:05:23 UTC,Francisco Ad\\xc3\\xa1n,SRID=4326;POINT(-98.194174 19.0431876),19.0431876,-98.194174,Xuti Galer\\xc3\\xada ,1 Photo,productos tradicionales ,no,yes,no,Analog cash register,1 Photo,yes,yes,2013-03-13,Aument\\xc3\\xb3 25%,,yes,En papel,En papel,,yes,no,yes,WhatsApp,\"Efectivo,Tarjeta de d\\xc3\\xa9bito y/o cr\\xc3\\xa9dito\",,,,,,1.0,,,,,Redes sociales,no,,40%,Cuaderno,no,\"Recepci\\xc3\\xb3n y entrega de paquetes (e.g. Amazon, Mercado Libre)\",Tarde (12:00 - 7:00 pm),Autom\\xc3\\xb3vil,,,,Ni de acuerdo ni en desacuerdo,Ni de acuerdo ni en desacuerdo,Ni de acuerdo ni en desacuerdo,,Algo de acuerdo,Ni de acuerdo ni en desacuerdo,Totalmente de acuerdo,Totalmente de acuerdo,Algo de acuerdo,Algo de acuerdo,Totalmente de acuerdo,Totalmente de acuerdo,\"Mensaje de texto (SMS),Mensajer\\xc3\\xada instant\\xc3\\xa1nea (e.g. WhatsApp)\",Descuento por compras anticipadas,1-2%,Cuaderno,Efectivo,yes,Disminuir la frecuencia de pedidos,Mensualmente,Tama\\xc3\\xb1o,\"Informar al proveedor,Ofrecer un producto sustituto\",20%,De acuerdo,En desacuerdo,En desacuerdo,Totalmente en desacuerdo,En desacuerdo,Totalmente en desacuerdo,Totalmente en desacuerdo,Totalmente en desacuerdo,Totalmente en desacuerdo,De acuerdo,yes,Frida ,Ju\\xc3\\xa1rez Hern\\xc3\\xa1ndez ,2212380183.0,Hachi401096@gmail.com,0.0,1.0,7.0,4.0,2.0,2.0,5.0,7.0,1.0,2.0,0.0,1.0,7.0,8.0,1.0,1.0,5.0,0.0\\n326,2413f06e-15cc-4a6f-8e83-5224c6824b12,\"November 3, 2022\",2022-11-03 16:50:48 UTC,Emilio Garza,SRID=4326;POINT(-98.1940658722 19.0431145635),19.0431145635,-98.1940658722,July Store,1 Photo,Grocery store (aka. nanostore),yes,no,no,\"Analog cash register,Smartphone\",,no,yes,2022-11-03,,,,,,,,,,,,,,,,,,,,,,,,,,,,,,,,,,,,,,,,,,,,,,,,,,,,,,,,,,,,,,,,,,,,,,,,1.0,0.0,5.0,4.0,2.0,2.0,5.0,7.0,1.0,2.0,0.0,1.0,7.0,8.0,1.0,1.0,5.0,0.0\\n327,9ff658db-4dc5-48b6-aa0b-5c6668bb6720,\"November 3, 2022\",2022-11-03 16:28:14 UTC,Emilio Garza,SRID=4326;POINT(-98.1934387078 19.0428094171),19.0428094171,-98.1934387078,La fonda ,1 Photo,Micro-restaurant (aka. fondita),yes,no,yes,Smartphone,,no,yes,2022-11-03,,,,,,,,,,,,,,,,,,,,,,,,,,,,,,,,,,,,,,,,,,,,,,,,,,,,,,,,,,,,,,,,,,,,,,,,3.0,1.0,1.0,4.0,2.0,2.0,5.0,7.0,1.0,2.0,0.0,1.0,7.0,8.0,1.0,1.0,5.0,0.0\\n328,e88aa9c1-dc8b-4180-99a1-2e0118ad905d,\"November 3, 2022\",2022-11-03 16:18:37 UTC,Francisco Ad\\xc3\\xa1n,SRID=4326;POINT(-98.193818 19.042558),19.042558,-98.193818,\"Birria de Res \"\"Hermanos Negreros 2\"\" estilo Tijuana \",1 Photo,Micro-restaurant (aka. fondita),no,no,yes,Analog cash register,,no,yes,2022-11-03,,,,,,,,,,,,,,,,,,,,,,,,,,,,,,,,,,,,,,,,,,,,,,,,,,,,,,,,,,,,,,,,,,,,,,,,0.0,1.0,1.0,4.0,2.0,2.0,5.0,7.0,1.0,2.0,0.0,1.0,7.0,8.0,1.0,1.0,5.0,0.0\\n329,bf720ff0-3b7d-47ed-ba49-f5d4bfb7293c,\"November 3, 2022\",2022-11-03 16:15:13 UTC,Emilio Garza,SRID=4326;POINT(-98.1937349172 19.0428229892),19.0428229892,-98.1937349172,Restaurante el alfe\\xc3\\xb1ique ,1 Photo,Micro-restaurant (aka. fondita),no,no,yes,Smartphone,,no,no,2022-11-03,,,,,,,,,,,,,,,,,,,,,,,,,,,,,,,,,,,,,,,,,,,,,,,,,,,,,,,,,,,,,,,,,,,,,,,,1.0,3.0,1.0,4.0,2.0,2.0,5.0,7.0,1.0,2.0,0.0,1.0,7.0,8.0,1.0,1.0,5.0,0.0\\n'}"
            ]
          },
          "metadata": {},
          "execution_count": 272
        }
      ]
    },
    {
      "cell_type": "code",
      "source": [
        "#Carga desde un archivo .csv sin indice\n",
        "df= pd.read_csv('Datos_limpios_Micro_retailer_actualizado.csv')\n",
        "df.head(5)"
      ],
      "metadata": {
        "id": "ttLGQsIZyx5a",
        "colab": {
          "base_uri": "https://localhost:8080/",
          "height": 577
        },
        "outputId": "27bb97eb-af76-4362-bb6f-49dc03c4dfe4"
      },
      "execution_count": 273,
      "outputs": [
        {
          "output_type": "execute_result",
          "data": {
            "text/plain": [
              "   Unnamed: 0                            _record_id             _title  \\\n",
              "0           0  71326e5f-441e-4be7-bc68-b828973b8e3b  November 17, 2022   \n",
              "1           1  a38b7c68-0afa-4419-a580-7086538b2e21  November 17, 2022   \n",
              "2           2  c11ef540-e06c-4722-a071-09a127ebc23c  November 10, 2022   \n",
              "3           3  c7434cb2-dde0-4901-80d7-3d60506ebd27  November 10, 2022   \n",
              "4           4  3c2177cc-677b-4106-8ed2-6e50f7671a0e  November 17, 2022   \n",
              "\n",
              "        _server_updated_at    _updated_by  \\\n",
              "0  2022-11-18 20:48:40 UTC  Uriel Bonilla   \n",
              "1  2022-11-18 20:48:39 UTC  Uriel Bonilla   \n",
              "2  2022-11-18 20:48:38 UTC  Uriel Bonilla   \n",
              "3  2022-11-18 20:48:38 UTC  Uriel Bonilla   \n",
              "4  2022-11-18 13:30:19 UTC  Fernando Báez   \n",
              "\n",
              "                                       _geometry  _latitude  _longitude  \\\n",
              "0  SRID=4326;POINT(-98.2013790035 19.0439654034)  19.043965  -98.201379   \n",
              "1  SRID=4326;POINT(-98.2016961782 19.0439749111)  19.043975  -98.201696   \n",
              "2  SRID=4326;POINT(-98.1964474585 19.0432999683)  19.043300  -98.196447   \n",
              "3   SRID=4326;POINT(-98.197072078 19.0405699102)  19.040570  -98.197072   \n",
              "4   SRID=4326;POINT(-98.201134218 19.0436743967)  19.043674  -98.201134   \n",
              "\n",
              "           228_store_name 229_store_picture  ...  \\\n",
              "0  Mini súper 7 hermanos            1 Photo  ...   \n",
              "1        Super papas Lulu           1 Photo  ...   \n",
              "2         Arte Paquistán            1 Photo  ...   \n",
              "3               El vestir           1 Photo  ...   \n",
              "4          Antojitos Tony           1 Photo  ...   \n",
              "\n",
              "  272_card_days_receive_money.1 276_expected_days_informal_credit  \\\n",
              "0                           0.0                               1.0   \n",
              "1                           0.0                               1.0   \n",
              "2                           0.0                               1.0   \n",
              "3                           0.0                               1.0   \n",
              "4                           0.0                               1.0   \n",
              "\n",
              "  36_credit_default_rate 315_frequency_topups 316_frequency_utility_bills  \\\n",
              "0                    1.0                 20.0                         2.0   \n",
              "1                    1.0                  7.0                         2.0   \n",
              "2                    1.0                  7.0                         2.0   \n",
              "3                    1.0                  7.0                         2.0   \n",
              "4                    1.0                  7.0                         2.0   \n",
              "\n",
              "  317_home_deliveries 62_frequency_only_services  \\\n",
              "0                 4.0                       10.0   \n",
              "1                 4.0                        0.0   \n",
              "2                 4.0                        0.0   \n",
              "3                 4.0                        0.0   \n",
              "4                 4.0                        0.0   \n",
              "\n",
              "  78_number_home_deliveries_week 172_supplier_frequency  \\\n",
              "0                            3.0                    2.0   \n",
              "1                            3.0                    1.0   \n",
              "2                            3.0                    1.0   \n",
              "3                            3.0                    1.0   \n",
              "4                            3.0                    3.0   \n",
              "\n",
              "  163_number_high_perishable_products  \n",
              "0                                10.0  \n",
              "1                                 0.0  \n",
              "2                                 0.0  \n",
              "3                                 0.0  \n",
              "4                                30.0  \n",
              "\n",
              "[5 rows x 108 columns]"
            ],
            "text/html": [
              "\n",
              "  <div id=\"df-9b0c27b3-fe86-4f34-b11f-0b90f1afb85c\">\n",
              "    <div class=\"colab-df-container\">\n",
              "      <div>\n",
              "<style scoped>\n",
              "    .dataframe tbody tr th:only-of-type {\n",
              "        vertical-align: middle;\n",
              "    }\n",
              "\n",
              "    .dataframe tbody tr th {\n",
              "        vertical-align: top;\n",
              "    }\n",
              "\n",
              "    .dataframe thead th {\n",
              "        text-align: right;\n",
              "    }\n",
              "</style>\n",
              "<table border=\"1\" class=\"dataframe\">\n",
              "  <thead>\n",
              "    <tr style=\"text-align: right;\">\n",
              "      <th></th>\n",
              "      <th>Unnamed: 0</th>\n",
              "      <th>_record_id</th>\n",
              "      <th>_title</th>\n",
              "      <th>_server_updated_at</th>\n",
              "      <th>_updated_by</th>\n",
              "      <th>_geometry</th>\n",
              "      <th>_latitude</th>\n",
              "      <th>_longitude</th>\n",
              "      <th>228_store_name</th>\n",
              "      <th>229_store_picture</th>\n",
              "      <th>...</th>\n",
              "      <th>272_card_days_receive_money.1</th>\n",
              "      <th>276_expected_days_informal_credit</th>\n",
              "      <th>36_credit_default_rate</th>\n",
              "      <th>315_frequency_topups</th>\n",
              "      <th>316_frequency_utility_bills</th>\n",
              "      <th>317_home_deliveries</th>\n",
              "      <th>62_frequency_only_services</th>\n",
              "      <th>78_number_home_deliveries_week</th>\n",
              "      <th>172_supplier_frequency</th>\n",
              "      <th>163_number_high_perishable_products</th>\n",
              "    </tr>\n",
              "  </thead>\n",
              "  <tbody>\n",
              "    <tr>\n",
              "      <th>0</th>\n",
              "      <td>0</td>\n",
              "      <td>71326e5f-441e-4be7-bc68-b828973b8e3b</td>\n",
              "      <td>November 17, 2022</td>\n",
              "      <td>2022-11-18 20:48:40 UTC</td>\n",
              "      <td>Uriel Bonilla</td>\n",
              "      <td>SRID=4326;POINT(-98.2013790035 19.0439654034)</td>\n",
              "      <td>19.043965</td>\n",
              "      <td>-98.201379</td>\n",
              "      <td>Mini súper 7 hermanos</td>\n",
              "      <td>1 Photo</td>\n",
              "      <td>...</td>\n",
              "      <td>0.0</td>\n",
              "      <td>1.0</td>\n",
              "      <td>1.0</td>\n",
              "      <td>20.0</td>\n",
              "      <td>2.0</td>\n",
              "      <td>4.0</td>\n",
              "      <td>10.0</td>\n",
              "      <td>3.0</td>\n",
              "      <td>2.0</td>\n",
              "      <td>10.0</td>\n",
              "    </tr>\n",
              "    <tr>\n",
              "      <th>1</th>\n",
              "      <td>1</td>\n",
              "      <td>a38b7c68-0afa-4419-a580-7086538b2e21</td>\n",
              "      <td>November 17, 2022</td>\n",
              "      <td>2022-11-18 20:48:39 UTC</td>\n",
              "      <td>Uriel Bonilla</td>\n",
              "      <td>SRID=4326;POINT(-98.2016961782 19.0439749111)</td>\n",
              "      <td>19.043975</td>\n",
              "      <td>-98.201696</td>\n",
              "      <td>Super papas Lulu</td>\n",
              "      <td>1 Photo</td>\n",
              "      <td>...</td>\n",
              "      <td>0.0</td>\n",
              "      <td>1.0</td>\n",
              "      <td>1.0</td>\n",
              "      <td>7.0</td>\n",
              "      <td>2.0</td>\n",
              "      <td>4.0</td>\n",
              "      <td>0.0</td>\n",
              "      <td>3.0</td>\n",
              "      <td>1.0</td>\n",
              "      <td>0.0</td>\n",
              "    </tr>\n",
              "    <tr>\n",
              "      <th>2</th>\n",
              "      <td>2</td>\n",
              "      <td>c11ef540-e06c-4722-a071-09a127ebc23c</td>\n",
              "      <td>November 10, 2022</td>\n",
              "      <td>2022-11-18 20:48:38 UTC</td>\n",
              "      <td>Uriel Bonilla</td>\n",
              "      <td>SRID=4326;POINT(-98.1964474585 19.0432999683)</td>\n",
              "      <td>19.043300</td>\n",
              "      <td>-98.196447</td>\n",
              "      <td>Arte Paquistán</td>\n",
              "      <td>1 Photo</td>\n",
              "      <td>...</td>\n",
              "      <td>0.0</td>\n",
              "      <td>1.0</td>\n",
              "      <td>1.0</td>\n",
              "      <td>7.0</td>\n",
              "      <td>2.0</td>\n",
              "      <td>4.0</td>\n",
              "      <td>0.0</td>\n",
              "      <td>3.0</td>\n",
              "      <td>1.0</td>\n",
              "      <td>0.0</td>\n",
              "    </tr>\n",
              "    <tr>\n",
              "      <th>3</th>\n",
              "      <td>3</td>\n",
              "      <td>c7434cb2-dde0-4901-80d7-3d60506ebd27</td>\n",
              "      <td>November 10, 2022</td>\n",
              "      <td>2022-11-18 20:48:38 UTC</td>\n",
              "      <td>Uriel Bonilla</td>\n",
              "      <td>SRID=4326;POINT(-98.197072078 19.0405699102)</td>\n",
              "      <td>19.040570</td>\n",
              "      <td>-98.197072</td>\n",
              "      <td>El vestir</td>\n",
              "      <td>1 Photo</td>\n",
              "      <td>...</td>\n",
              "      <td>0.0</td>\n",
              "      <td>1.0</td>\n",
              "      <td>1.0</td>\n",
              "      <td>7.0</td>\n",
              "      <td>2.0</td>\n",
              "      <td>4.0</td>\n",
              "      <td>0.0</td>\n",
              "      <td>3.0</td>\n",
              "      <td>1.0</td>\n",
              "      <td>0.0</td>\n",
              "    </tr>\n",
              "    <tr>\n",
              "      <th>4</th>\n",
              "      <td>4</td>\n",
              "      <td>3c2177cc-677b-4106-8ed2-6e50f7671a0e</td>\n",
              "      <td>November 17, 2022</td>\n",
              "      <td>2022-11-18 13:30:19 UTC</td>\n",
              "      <td>Fernando Báez</td>\n",
              "      <td>SRID=4326;POINT(-98.201134218 19.0436743967)</td>\n",
              "      <td>19.043674</td>\n",
              "      <td>-98.201134</td>\n",
              "      <td>Antojitos Tony</td>\n",
              "      <td>1 Photo</td>\n",
              "      <td>...</td>\n",
              "      <td>0.0</td>\n",
              "      <td>1.0</td>\n",
              "      <td>1.0</td>\n",
              "      <td>7.0</td>\n",
              "      <td>2.0</td>\n",
              "      <td>4.0</td>\n",
              "      <td>0.0</td>\n",
              "      <td>3.0</td>\n",
              "      <td>3.0</td>\n",
              "      <td>30.0</td>\n",
              "    </tr>\n",
              "  </tbody>\n",
              "</table>\n",
              "<p>5 rows × 108 columns</p>\n",
              "</div>\n",
              "      <button class=\"colab-df-convert\" onclick=\"convertToInteractive('df-9b0c27b3-fe86-4f34-b11f-0b90f1afb85c')\"\n",
              "              title=\"Convert this dataframe to an interactive table.\"\n",
              "              style=\"display:none;\">\n",
              "        \n",
              "  <svg xmlns=\"http://www.w3.org/2000/svg\" height=\"24px\"viewBox=\"0 0 24 24\"\n",
              "       width=\"24px\">\n",
              "    <path d=\"M0 0h24v24H0V0z\" fill=\"none\"/>\n",
              "    <path d=\"M18.56 5.44l.94 2.06.94-2.06 2.06-.94-2.06-.94-.94-2.06-.94 2.06-2.06.94zm-11 1L8.5 8.5l.94-2.06 2.06-.94-2.06-.94L8.5 2.5l-.94 2.06-2.06.94zm10 10l.94 2.06.94-2.06 2.06-.94-2.06-.94-.94-2.06-.94 2.06-2.06.94z\"/><path d=\"M17.41 7.96l-1.37-1.37c-.4-.4-.92-.59-1.43-.59-.52 0-1.04.2-1.43.59L10.3 9.45l-7.72 7.72c-.78.78-.78 2.05 0 2.83L4 21.41c.39.39.9.59 1.41.59.51 0 1.02-.2 1.41-.59l7.78-7.78 2.81-2.81c.8-.78.8-2.07 0-2.86zM5.41 20L4 18.59l7.72-7.72 1.47 1.35L5.41 20z\"/>\n",
              "  </svg>\n",
              "      </button>\n",
              "      \n",
              "  <style>\n",
              "    .colab-df-container {\n",
              "      display:flex;\n",
              "      flex-wrap:wrap;\n",
              "      gap: 12px;\n",
              "    }\n",
              "\n",
              "    .colab-df-convert {\n",
              "      background-color: #E8F0FE;\n",
              "      border: none;\n",
              "      border-radius: 50%;\n",
              "      cursor: pointer;\n",
              "      display: none;\n",
              "      fill: #1967D2;\n",
              "      height: 32px;\n",
              "      padding: 0 0 0 0;\n",
              "      width: 32px;\n",
              "    }\n",
              "\n",
              "    .colab-df-convert:hover {\n",
              "      background-color: #E2EBFA;\n",
              "      box-shadow: 0px 1px 2px rgba(60, 64, 67, 0.3), 0px 1px 3px 1px rgba(60, 64, 67, 0.15);\n",
              "      fill: #174EA6;\n",
              "    }\n",
              "\n",
              "    [theme=dark] .colab-df-convert {\n",
              "      background-color: #3B4455;\n",
              "      fill: #D2E3FC;\n",
              "    }\n",
              "\n",
              "    [theme=dark] .colab-df-convert:hover {\n",
              "      background-color: #434B5C;\n",
              "      box-shadow: 0px 1px 3px 1px rgba(0, 0, 0, 0.15);\n",
              "      filter: drop-shadow(0px 1px 2px rgba(0, 0, 0, 0.3));\n",
              "      fill: #FFFFFF;\n",
              "    }\n",
              "  </style>\n",
              "\n",
              "      <script>\n",
              "        const buttonEl =\n",
              "          document.querySelector('#df-9b0c27b3-fe86-4f34-b11f-0b90f1afb85c button.colab-df-convert');\n",
              "        buttonEl.style.display =\n",
              "          google.colab.kernel.accessAllowed ? 'block' : 'none';\n",
              "\n",
              "        async function convertToInteractive(key) {\n",
              "          const element = document.querySelector('#df-9b0c27b3-fe86-4f34-b11f-0b90f1afb85c');\n",
              "          const dataTable =\n",
              "            await google.colab.kernel.invokeFunction('convertToInteractive',\n",
              "                                                     [key], {});\n",
              "          if (!dataTable) return;\n",
              "\n",
              "          const docLinkHtml = 'Like what you see? Visit the ' +\n",
              "            '<a target=\"_blank\" href=https://colab.research.google.com/notebooks/data_table.ipynb>data table notebook</a>'\n",
              "            + ' to learn more about interactive tables.';\n",
              "          element.innerHTML = '';\n",
              "          dataTable['output_type'] = 'display_data';\n",
              "          await google.colab.output.renderOutput(dataTable, element);\n",
              "          const docLink = document.createElement('div');\n",
              "          docLink.innerHTML = docLinkHtml;\n",
              "          element.appendChild(docLink);\n",
              "        }\n",
              "      </script>\n",
              "    </div>\n",
              "  </div>\n",
              "  "
            ]
          },
          "metadata": {},
          "execution_count": 273
        }
      ]
    },
    {
      "cell_type": "code",
      "source": [
        "#Rellenamos nulos dentro del condigo \n",
        "df=df.fillna(method='ffill')"
      ],
      "metadata": {
        "id": "MLmLTNmqy1om"
      },
      "execution_count": 274,
      "outputs": []
    },
    {
      "cell_type": "markdown",
      "source": [
        "1"
      ],
      "metadata": {
        "id": "ZKS8AyD5r5th"
      }
    },
    {
      "cell_type": "code",
      "source": [
        "#Declaramos las variables dependientes e independientes para la regresión logística.\n",
        "Vars_Indep= df[['97_number_of_customers_in_store', '317_home_deliveries', '2_current_permanent_employees']]\n",
        "Var_Dep= df['186_internet_connection']"
      ],
      "metadata": {
        "id": "d37FS_eOzuQW"
      },
      "execution_count": 275,
      "outputs": []
    },
    {
      "cell_type": "code",
      "source": [
        "#Redefinimos las variables\n",
        "X= Vars_Indep \n",
        "y= Var_Dep"
      ],
      "metadata": {
        "id": "xdSXi7HSz_dj"
      },
      "execution_count": 276,
      "outputs": []
    },
    {
      "cell_type": "code",
      "source": [
        "#Dividimos el conjunto de datos en la parte de entrenamiento y pruba:\n",
        "X_train, X_test, y_train, y_test = train_test_split(X,y, test_size=0.3, random_state=None)"
      ],
      "metadata": {
        "id": "lnk0mKho0Bvs"
      },
      "execution_count": 277,
      "outputs": []
    },
    {
      "cell_type": "code",
      "source": [
        "#Se escalan todos los datos \n",
        "escalar= StandardScaler()"
      ],
      "metadata": {
        "id": "1Q_dhoKY0DxL"
      },
      "execution_count": 278,
      "outputs": []
    },
    {
      "cell_type": "code",
      "source": [
        "#Para realizar el escalamiento de las variables \"X\" tanto de entrenamiento como de prueba \n",
        "X_train=escalar.fit_transform(X_train)\n",
        "X_test= escalar.transform(X_test)"
      ],
      "metadata": {
        "id": "zVTaEY7j0GbZ"
      },
      "execution_count": 279,
      "outputs": []
    },
    {
      "cell_type": "code",
      "source": [
        "#Definimos el algoritmo a utilizar \n",
        "from sklearn.linear_model import LogisticRegression\n",
        "algoritmo=LogisticRegression()"
      ],
      "metadata": {
        "id": "l6KIopguzxEB"
      },
      "execution_count": 280,
      "outputs": []
    },
    {
      "cell_type": "code",
      "source": [
        "#Entrenamos el modelo\n",
        "algoritmo.fit(X_train, y_train)"
      ],
      "metadata": {
        "id": "kRUvkzB_jqdL",
        "colab": {
          "base_uri": "https://localhost:8080/"
        },
        "outputId": "ba604eb3-28f6-4880-87fd-9a03d8272741"
      },
      "execution_count": 281,
      "outputs": [
        {
          "output_type": "execute_result",
          "data": {
            "text/plain": [
              "LogisticRegression()"
            ]
          },
          "metadata": {},
          "execution_count": 281
        }
      ]
    },
    {
      "cell_type": "code",
      "source": [
        "#Realizamos una predicción\n",
        "y_pred = algoritmo.predict(X_test)\n",
        "y_pred"
      ],
      "metadata": {
        "id": "PmLWuEfvmlDI",
        "colab": {
          "base_uri": "https://localhost:8080/"
        },
        "outputId": "4cc345d6-dedd-41e9-ef47-7c83ac3a6418"
      },
      "execution_count": 282,
      "outputs": [
        {
          "output_type": "execute_result",
          "data": {
            "text/plain": [
              "array(['yes', 'yes', 'yes', 'yes', 'yes', 'yes', 'yes', 'yes', 'yes',\n",
              "       'yes', 'yes', 'yes', 'yes', 'yes', 'yes', 'yes', 'yes', 'yes',\n",
              "       'yes', 'yes', 'yes', 'yes', 'yes', 'yes', 'yes', 'yes', 'yes',\n",
              "       'yes', 'yes', 'yes', 'yes', 'yes', 'yes', 'yes', 'yes', 'yes',\n",
              "       'yes', 'yes', 'yes', 'yes', 'yes', 'yes', 'yes', 'yes', 'yes',\n",
              "       'yes', 'yes', 'yes', 'yes', 'yes', 'yes', 'yes', 'yes', 'yes',\n",
              "       'yes', 'yes', 'yes', 'yes', 'yes', 'yes', 'yes', 'yes', 'yes',\n",
              "       'yes', 'yes', 'yes', 'yes', 'yes', 'yes', 'yes', 'yes', 'yes',\n",
              "       'yes', 'yes', 'yes', 'yes', 'yes', 'yes', 'yes', 'yes', 'yes',\n",
              "       'yes', 'yes', 'yes', 'yes', 'yes', 'yes', 'yes', 'yes', 'yes',\n",
              "       'yes', 'yes', 'yes', 'yes', 'yes', 'yes', 'yes', 'yes', 'yes'],\n",
              "      dtype=object)"
            ]
          },
          "metadata": {},
          "execution_count": 282
        }
      ]
    },
    {
      "cell_type": "code",
      "source": [
        "#Verifico matriz de confusión\n",
        "from sklearn.metrics import confusion_matrix\n",
        "matriz = confusion_matrix(y_test, y_pred)\n",
        "print('Matriz de Confusión')\n",
        "print(matriz)"
      ],
      "metadata": {
        "id": "mD4-ZYZtmoEr",
        "colab": {
          "base_uri": "https://localhost:8080/"
        },
        "outputId": "89c24fbb-6d41-48dd-e086-d969f7a2f6d4"
      },
      "execution_count": 283,
      "outputs": [
        {
          "output_type": "stream",
          "name": "stdout",
          "text": [
            "Matriz de Confusión\n",
            "[[ 0 28]\n",
            " [ 0 71]]\n"
          ]
        }
      ]
    },
    {
      "cell_type": "code",
      "source": [
        "#Calculo la precisión del modelo\n",
        "from sklearn.metrics import precision_score\n",
        "\n",
        "precision = precision_score(y_test, y_pred, average='binary', pos_label=\"yes\")\n",
        "print('Precision del modelo:')\n",
        "print(precision)"
      ],
      "metadata": {
        "id": "BoSiaiVamrBo",
        "colab": {
          "base_uri": "https://localhost:8080/"
        },
        "outputId": "a2d6a93c-64ce-4bfd-c44c-6bce4a03a9be"
      },
      "execution_count": 284,
      "outputs": [
        {
          "output_type": "stream",
          "name": "stdout",
          "text": [
            "Precision del modelo:\n",
            "0.7171717171717171\n"
          ]
        }
      ]
    },
    {
      "cell_type": "code",
      "source": [
        "#Calculo la exactitud del modelo\n",
        "from sklearn.metrics import accuracy_score\n",
        "exactitud = accuracy_score(y_test, y_pred)\n",
        "print('Exactitud del modelo:')\n",
        "print(exactitud)"
      ],
      "metadata": {
        "id": "amj9vsVWmtea",
        "colab": {
          "base_uri": "https://localhost:8080/"
        },
        "outputId": "96ebed9f-1605-4c14-dca4-64b66fcdefa2"
      },
      "execution_count": 285,
      "outputs": [
        {
          "output_type": "stream",
          "name": "stdout",
          "text": [
            "Exactitud del modelo:\n",
            "0.7171717171717171\n"
          ]
        }
      ]
    },
    {
      "cell_type": "code",
      "source": [
        "#Calculo la sensibilidad del modelo\n",
        "from sklearn.metrics import recall_score\n",
        "\n",
        "sensibilidad = recall_score(y_test, y_pred, average=\"binary\", pos_label=\"yes\")\n",
        "print('Sensibilidad del modelo:')\n",
        "print(sensibilidad)"
      ],
      "metadata": {
        "id": "d6u861IYmwFb",
        "colab": {
          "base_uri": "https://localhost:8080/"
        },
        "outputId": "a041d817-03e6-4158-ac7e-6c8d0350c2a5"
      },
      "execution_count": 286,
      "outputs": [
        {
          "output_type": "stream",
          "name": "stdout",
          "text": [
            "Sensibilidad del modelo:\n",
            "1.0\n"
          ]
        }
      ]
    },
    {
      "cell_type": "markdown",
      "source": [
        "2"
      ],
      "metadata": {
        "id": "KBATA6pJr-Z6"
      }
    },
    {
      "cell_type": "code",
      "source": [
        "#Declaramos las variables dependientes e independientes para la regresión logística.\n",
        "Vars_Indep= df[['104_how_many_shelves_does_the_micro_retailer_have', '172_supplier_frequency', '103_number_own_fridges']]\n",
        "Var_Dep= df['20_reviews_finances_monthly']"
      ],
      "metadata": {
        "id": "YryTcrPjoOPJ"
      },
      "execution_count": 287,
      "outputs": []
    },
    {
      "cell_type": "code",
      "source": [
        "#Redefinimos las variables\n",
        "X= Vars_Indep \n",
        "y= Var_Dep"
      ],
      "metadata": {
        "id": "tD3VUl5eqNc5"
      },
      "execution_count": 288,
      "outputs": []
    },
    {
      "cell_type": "code",
      "source": [
        "#Dividimos el conjunto de datos en la parte de entrenamiento y pruba:\n",
        "X_train, X_test, y_train, y_test = train_test_split(X,y, test_size=0.3, random_state=None)"
      ],
      "metadata": {
        "id": "w9eN_XGYqV1p"
      },
      "execution_count": 289,
      "outputs": []
    },
    {
      "cell_type": "code",
      "source": [
        "#Se escalan todos los datos \n",
        "escalar= StandardScaler()"
      ],
      "metadata": {
        "id": "8OBf5P8eqrPj"
      },
      "execution_count": 290,
      "outputs": []
    },
    {
      "cell_type": "code",
      "source": [
        "#Para realizar el escalamiento de las variables \"A\" tanto de entrenamiento como de prueba \n",
        "X_train=escalar.fit_transform(X_train)\n",
        "X_test= escalar.transform(X_test)"
      ],
      "metadata": {
        "id": "ZtwHJo2uqt7z"
      },
      "execution_count": 291,
      "outputs": []
    },
    {
      "cell_type": "code",
      "source": [
        "#Definimos el algoritmo a utilizar \n",
        "from sklearn.linear_model import LogisticRegression\n",
        "algoritmo=LogisticRegression()"
      ],
      "metadata": {
        "id": "9As1mCxiqy_B"
      },
      "execution_count": 292,
      "outputs": []
    },
    {
      "cell_type": "code",
      "source": [
        "#Entrenamos el modelo\n",
        "algoritmo.fit(X_train, y_train)"
      ],
      "metadata": {
        "id": "laitxCgnq1xY",
        "colab": {
          "base_uri": "https://localhost:8080/"
        },
        "outputId": "f1a1c87f-a404-484e-95d9-f1d51dda1afe"
      },
      "execution_count": 293,
      "outputs": [
        {
          "output_type": "execute_result",
          "data": {
            "text/plain": [
              "LogisticRegression()"
            ]
          },
          "metadata": {},
          "execution_count": 293
        }
      ]
    },
    {
      "cell_type": "code",
      "source": [
        "#Realizamos una predicción\n",
        "y_pred = algoritmo.predict(X_test)\n",
        "y_pred"
      ],
      "metadata": {
        "id": "SmwaCFpfq6vy",
        "colab": {
          "base_uri": "https://localhost:8080/"
        },
        "outputId": "13a94f6b-37b8-43a5-91dc-19c0d62ef256"
      },
      "execution_count": 294,
      "outputs": [
        {
          "output_type": "execute_result",
          "data": {
            "text/plain": [
              "array(['yes', 'yes', 'yes', 'yes', 'yes', 'yes', 'yes', 'yes', 'yes',\n",
              "       'yes', 'yes', 'yes', 'yes', 'yes', 'yes', 'yes', 'yes', 'yes',\n",
              "       'yes', 'yes', 'yes', 'yes', 'yes', 'yes', 'yes', 'yes', 'yes',\n",
              "       'yes', 'yes', 'yes', 'yes', 'yes', 'yes', 'yes', 'yes', 'yes',\n",
              "       'yes', 'yes', 'yes', 'yes', 'yes', 'yes', 'yes', 'yes', 'yes',\n",
              "       'yes', 'yes', 'yes', 'yes', 'yes', 'yes', 'yes', 'yes', 'yes',\n",
              "       'yes', 'yes', 'yes', 'yes', 'yes', 'yes', 'yes', 'yes', 'yes',\n",
              "       'yes', 'yes', 'yes', 'yes', 'yes', 'yes', 'yes', 'yes', 'yes',\n",
              "       'yes', 'yes', 'yes', 'yes', 'yes', 'yes', 'yes', 'yes', 'yes',\n",
              "       'yes', 'yes', 'yes', 'yes', 'yes', 'yes', 'yes', 'yes', 'yes',\n",
              "       'yes', 'yes', 'yes', 'yes', 'yes', 'yes', 'yes', 'yes', 'yes'],\n",
              "      dtype=object)"
            ]
          },
          "metadata": {},
          "execution_count": 294
        }
      ]
    },
    {
      "cell_type": "code",
      "source": [
        "#Verifico matriz de confusión\n",
        "from sklearn.metrics import confusion_matrix\n",
        "matriz = confusion_matrix(y_test, y_pred)\n",
        "print('Matriz de Confusión')\n",
        "print(matriz)"
      ],
      "metadata": {
        "id": "xF8yO8xRrAjS",
        "colab": {
          "base_uri": "https://localhost:8080/"
        },
        "outputId": "aa523219-d8d5-41ff-d23d-5f1185dee1dd"
      },
      "execution_count": 295,
      "outputs": [
        {
          "output_type": "stream",
          "name": "stdout",
          "text": [
            "Matriz de Confusión\n",
            "[[ 0 30]\n",
            " [ 0 69]]\n"
          ]
        }
      ]
    },
    {
      "cell_type": "code",
      "source": [
        "#Calculo la precisión del modelo\n",
        "from sklearn.metrics import precision_score\n",
        "\n",
        "precision = precision_score(y_test, y_pred, average='binary', pos_label=\"yes\")\n",
        "print('Precision del modelo:')\n",
        "print(precision)"
      ],
      "metadata": {
        "id": "W0p-G1l8rFtw",
        "colab": {
          "base_uri": "https://localhost:8080/"
        },
        "outputId": "61291a28-48e3-42d0-9a17-3cc881a23018"
      },
      "execution_count": 296,
      "outputs": [
        {
          "output_type": "stream",
          "name": "stdout",
          "text": [
            "Precision del modelo:\n",
            "0.696969696969697\n"
          ]
        }
      ]
    },
    {
      "cell_type": "code",
      "source": [
        "#Calculo la exactitud del modelo\n",
        "from sklearn.metrics import accuracy_score\n",
        "exactitud = accuracy_score(y_test, y_pred)\n",
        "print('Exactitud del modelo:')\n",
        "print(exactitud)"
      ],
      "metadata": {
        "id": "Q_SL4OeJrKBh",
        "colab": {
          "base_uri": "https://localhost:8080/"
        },
        "outputId": "9fcc2fb1-6af5-44ff-98ae-8173b51f48a9"
      },
      "execution_count": 297,
      "outputs": [
        {
          "output_type": "stream",
          "name": "stdout",
          "text": [
            "Exactitud del modelo:\n",
            "0.696969696969697\n"
          ]
        }
      ]
    },
    {
      "cell_type": "code",
      "source": [
        "#Calculo la sensibilidad del modelo\n",
        "from sklearn.metrics import recall_score\n",
        "\n",
        "sensibilidad = recall_score(y_test, y_pred, average=\"binary\", pos_label=\"yes\")\n",
        "print('Sensibilidad del modelo:')\n",
        "print(sensibilidad)"
      ],
      "metadata": {
        "id": "sjYJFfpGrRKD",
        "colab": {
          "base_uri": "https://localhost:8080/"
        },
        "outputId": "32e23288-00a6-4083-bf13-2b0fb299214e"
      },
      "execution_count": 298,
      "outputs": [
        {
          "output_type": "stream",
          "name": "stdout",
          "text": [
            "Sensibilidad del modelo:\n",
            "1.0\n"
          ]
        }
      ]
    },
    {
      "cell_type": "markdown",
      "source": [
        "3"
      ],
      "metadata": {
        "id": "OQVLoGePsddI"
      }
    },
    {
      "cell_type": "code",
      "source": [
        "#Declaramos las variables dependientes e independientes para la regresión logística.\n",
        "Vars_Indep= df[['97_number_of_customers_in_store', '317_home_deliveries', '2_current_permanent_employees']]\n",
        "Var_Dep= df['310_burnout']"
      ],
      "metadata": {
        "id": "OPg1dyBxsfoo"
      },
      "execution_count": 299,
      "outputs": []
    },
    {
      "cell_type": "code",
      "source": [
        "#Redefinimos las variables\n",
        "X= Vars_Indep \n",
        "y= Var_Dep"
      ],
      "metadata": {
        "id": "_mDBQAgftb8e"
      },
      "execution_count": 300,
      "outputs": []
    },
    {
      "cell_type": "code",
      "source": [
        "#Dividimos el conjunto de datos en la parte de entrenamiento y pruba:\n",
        "X_train, X_test, y_train, y_test = train_test_split(X,y, test_size=0.3, random_state=None)"
      ],
      "metadata": {
        "id": "XJ1Ll2xKtdeJ"
      },
      "execution_count": 301,
      "outputs": []
    },
    {
      "cell_type": "code",
      "source": [
        "#Se escalan todos los datos \n",
        "escalar= StandardScaler()"
      ],
      "metadata": {
        "id": "yOmNRP7qte7j"
      },
      "execution_count": 302,
      "outputs": []
    },
    {
      "cell_type": "code",
      "source": [
        "#Para realizar el escalamiento de las variables \"X\" tanto de entrenamiento como de prueba \n",
        "X_train=escalar.fit_transform(X_train)\n",
        "X_test= escalar.transform(X_test)"
      ],
      "metadata": {
        "id": "HFco7-8uthA6"
      },
      "execution_count": 303,
      "outputs": []
    },
    {
      "cell_type": "code",
      "source": [
        "#Definimos el algoritmo a utilizar \n",
        "from sklearn.linear_model import LogisticRegression\n",
        "algoritmo=LogisticRegression()"
      ],
      "metadata": {
        "id": "pk1AuaG8tidZ"
      },
      "execution_count": 304,
      "outputs": []
    },
    {
      "cell_type": "code",
      "source": [
        "#Entrenamos el modelo \n",
        "algoritmo.fit(X_train, y_train)"
      ],
      "metadata": {
        "id": "1mv4BLgLtkOa",
        "colab": {
          "base_uri": "https://localhost:8080/"
        },
        "outputId": "d85d1f8c-47a0-45e4-b0f8-e82d44965757"
      },
      "execution_count": 305,
      "outputs": [
        {
          "output_type": "execute_result",
          "data": {
            "text/plain": [
              "LogisticRegression()"
            ]
          },
          "metadata": {},
          "execution_count": 305
        }
      ]
    },
    {
      "cell_type": "code",
      "source": [
        "#Realiamos una prediccion \n",
        "y_pred=algoritmo.predict(X_test)\n",
        "#y_pred_df = pd.DataFrame(y_pred)\n",
        "y_pred"
      ],
      "metadata": {
        "id": "_j32J_vYtmzB",
        "colab": {
          "base_uri": "https://localhost:8080/"
        },
        "outputId": "c2824386-872f-431b-8dab-5db7de278678"
      },
      "execution_count": 306,
      "outputs": [
        {
          "output_type": "execute_result",
          "data": {
            "text/plain": [
              "array(['no', 'no', 'no', 'yes', 'no', 'no', 'no', 'yes', 'no', 'yes',\n",
              "       'no', 'yes', 'no', 'no', 'no', 'yes', 'no', 'no', 'yes', 'no',\n",
              "       'yes', 'no', 'yes', 'no', 'no', 'no', 'yes', 'yes', 'yes', 'no',\n",
              "       'no', 'yes', 'no', 'yes', 'no', 'no', 'yes', 'yes', 'no', 'yes',\n",
              "       'yes', 'yes', 'no', 'yes', 'yes', 'yes', 'yes', 'no', 'yes', 'yes',\n",
              "       'yes', 'no', 'yes', 'yes', 'no', 'yes', 'no', 'no', 'yes', 'yes',\n",
              "       'yes', 'yes', 'no', 'yes', 'no', 'no', 'yes', 'yes', 'no', 'no',\n",
              "       'no', 'yes', 'yes', 'no', 'yes', 'yes', 'yes', 'yes', 'no', 'no',\n",
              "       'yes', 'no', 'no', 'no', 'no', 'yes', 'no', 'no', 'no', 'yes',\n",
              "       'yes', 'no', 'yes', 'yes', 'yes', 'yes', 'yes', 'yes', 'yes'],\n",
              "      dtype=object)"
            ]
          },
          "metadata": {},
          "execution_count": 306
        }
      ]
    },
    {
      "cell_type": "code",
      "source": [
        "#Verifico matriz de confusión\n",
        "from sklearn.metrics import confusion_matrix\n",
        "matriz = confusion_matrix(y_test, y_pred)\n",
        "print('Matriz de Confusión')\n",
        "print(matriz)"
      ],
      "metadata": {
        "id": "2EKj2hO9t1xS",
        "colab": {
          "base_uri": "https://localhost:8080/"
        },
        "outputId": "38549180-7420-4024-cced-db764ef7fd17"
      },
      "execution_count": 307,
      "outputs": [
        {
          "output_type": "stream",
          "name": "stdout",
          "text": [
            "Matriz de Confusión\n",
            "[[24 37]\n",
            " [23 15]]\n"
          ]
        }
      ]
    },
    {
      "cell_type": "code",
      "source": [
        "#Calculo la precisión del modelo\n",
        "from sklearn.metrics import precision_score\n",
        "\n",
        "precision = precision_score(y_test, y_pred, average='binary', pos_label=\"yes\")\n",
        "print('Precision del modelo:')\n",
        "print(precision)"
      ],
      "metadata": {
        "id": "31ohnnozt6FR",
        "colab": {
          "base_uri": "https://localhost:8080/"
        },
        "outputId": "624b2917-d7c8-43b6-efae-dc4b3bd5fab9"
      },
      "execution_count": 308,
      "outputs": [
        {
          "output_type": "stream",
          "name": "stdout",
          "text": [
            "Precision del modelo:\n",
            "0.28846153846153844\n"
          ]
        }
      ]
    },
    {
      "cell_type": "code",
      "source": [
        "#Calculo la exactitud del modelo\n",
        "from sklearn.metrics import accuracy_score\n",
        "exactitud = accuracy_score(y_test, y_pred)\n",
        "print('Exactitud del modelo:')\n",
        "print(exactitud)"
      ],
      "metadata": {
        "id": "VKqViReLt9MR",
        "colab": {
          "base_uri": "https://localhost:8080/"
        },
        "outputId": "1c0dfece-2946-41c1-e0db-073eb6cdb380"
      },
      "execution_count": 309,
      "outputs": [
        {
          "output_type": "stream",
          "name": "stdout",
          "text": [
            "Exactitud del modelo:\n",
            "0.3939393939393939\n"
          ]
        }
      ]
    },
    {
      "cell_type": "code",
      "source": [
        "#Calculo la sensibilidad del modelo\n",
        "from sklearn.metrics import recall_score\n",
        "\n",
        "sensibilidad = recall_score(y_test, y_pred, average=\"binary\", pos_label=\"yes\")\n",
        "print('Sensibilidad del modelo:')\n",
        "print(sensibilidad)"
      ],
      "metadata": {
        "id": "_uJWp3GluA1r",
        "colab": {
          "base_uri": "https://localhost:8080/"
        },
        "outputId": "7069ec20-160b-44e7-9c18-597d79eb7d8a"
      },
      "execution_count": 310,
      "outputs": [
        {
          "output_type": "stream",
          "name": "stdout",
          "text": [
            "Sensibilidad del modelo:\n",
            "0.39473684210526316\n"
          ]
        }
      ]
    }
  ]
}